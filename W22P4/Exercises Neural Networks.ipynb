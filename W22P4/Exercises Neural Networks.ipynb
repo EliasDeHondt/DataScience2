{
 "cells": [
  {
   "cell_type": "markdown",
   "source": "# Exercises Neural Networks",
   "metadata": {
    "collapsed": false
   },
   "id": "fc11ae5046d6cd48"
  },
  {
   "cell_type": "code",
   "source": [
    "import pandas as pd                                                     # Data manipulation\n",
    "\n",
    "from Resources.Functions import *                                       # Custom functions"
   ],
   "metadata": {
    "collapsed": false,
    "ExecuteTime": {
     "end_time": "2024-04-28T12:41:30.957554Z",
     "start_time": "2024-04-28T12:41:30.952600Z"
    }
   },
   "id": "1796a7e3a7232f25",
   "outputs": [],
   "execution_count": 36
  },
  {
   "cell_type": "markdown",
   "source": [
    "## Theoretical questions"
   ],
   "metadata": {
    "collapsed": false
   },
   "id": "d66cd879508e8eb4"
  },
  {
   "metadata": {},
   "cell_type": "markdown",
   "source": [
    "### Question 1:\n",
    "- Bouw een neuraal netwerk op om het resultaat van een student op de gapminder test te bepalen aan de hand van het aantal uren wiskunde in het laatste jaar van het middelbaar, het aantal complotheorieën waarin hij/zij gelooft (zie code vraag 1 vragenlijst les Evaluatimetrieken) en het aantal broers en zussen. Splits de gegevens op is een training en een test data set (`90-10` verhouding). Normaliseer ook de data met behulp van de decimal scaling.\n",
    "\n",
    "- Opmerking: de variabele gapminder test bevat niet getallen. \n",
    "    - Zet de data om naar een geheel getal –integer- dat het percentage weergeeft.\n",
    "    - Plaats daarna de gegevens in 5 klassen: (0,20) ,…, (80,100].\n",
    "    - Vervang de klasse door de index van de klasse.\n"
   ],
   "id": "d81c7c32f2da4107"
  },
  {
   "metadata": {},
   "cell_type": "code",
   "outputs": [],
   "execution_count": null,
   "source": "",
   "id": "2f6c804d451c6abc"
  },
  {
   "metadata": {},
   "cell_type": "markdown",
   "source": [
    "### Question 2:\n",
    "- Herneem het neuraal netwerk uit vraag 1. Maak de confusion matrix, bereken de meest gebruikte evaluatiemetrieken en teken de ROC."
   ],
   "id": "eb07bd55c5889e04"
  },
  {
   "metadata": {},
   "cell_type": "code",
   "outputs": [],
   "execution_count": null,
   "source": "",
   "id": "246cfab828cf82e0"
  },
  {
   "metadata": {},
   "cell_type": "markdown",
   "source": [
    "### Question 3: The Simpsons Revisited\n",
    "- We willen het geslacht van een Simpson kunnen voorspellen m.b.v. een neuraal netwerk (cfr. hoofdstuk Beslissingsbomen uit Data Science 1). Deze dataset is erg klein en daarom kunnen we geen validatie-set of test-set construeren. \n",
    "    - Lees de dataset (‘The Simpsons `original.csv`) van de Simpsons in. \n",
    "    - Wat voor soort voorspelling trachten we hier te doen? Regressie of classificatie?\n",
    "    - Bepaal welke kolommen we niet kunnen gebruiken bij deze voorspelling?\n",
    "    - Maak nu een input training data set x_simpsons en normaliseer deze (min-max normalisatie). Doe hetzelfde voor de outputkolom(y4_simpsons).\n",
    "    - Maak een neuraal netwerk met de correcte inputs en outputs. Maak een plot van het ANN.\n",
    "    - Gebruik je neuraal netwerk om het geslacht van je x_simpsons te voorspellen. Komen ze overeen met de targets? Voorspel ook het geslacht van de onbekende Simpson (Comic guy: `hairlenght=8`, `weight=500`, `age=38`).. Komt dit overeen met de voorspelling die je gemaakt werd bij beslissingsbomen (zie Data Science 1)?"
   ],
   "id": "8dcce8d70aac0bac"
  },
  {
   "metadata": {},
   "cell_type": "code",
   "outputs": [],
   "execution_count": null,
   "source": "",
   "id": "7576d7d60ea7a0c8"
  },
  {
   "metadata": {},
   "cell_type": "markdown",
   "source": [
    "### Question 4: Forecast demo Revisited\n",
    "- We willen de opbrengsten van een bedrijf per kwartaal van de laatste 5 jaar kunnen voorspellen (cfr. hoofdstuk Forecasting uit Data Science 1). Deze dataset is erg klein en daarom kunnen we geen validatie-set of test-set construeren. \n",
    "    - Lees de dataset van de Forecasting in (forecastdemo.csv)\n",
    "    - Wat voor soort voorspelling trachten we hier te doen? Regressie of classificatie?\n",
    "    - Bepaal welke kolommen we niet kunnen gebruiken bij deze voorspelling?\n",
    "    - Maak nu een input training data set x_forcast en een outputkolom (y_forcast). Normaliseer waar nodig.\n",
    "    - Maak een neuraal netwerk met de correcte inputs en outputs. Maak een plot van de ANN.\n",
    "    - Gebruik je neuraal netwerk om de opbrengsten te voorspellen die horen bij x_forcast. Komen ze overeen met de werkelijke opbrengsten? Maak één plot van de originele gegevens en de voorspelde gegevens."
   ],
   "id": "cbbb2930e5856c1d"
  },
  {
   "metadata": {},
   "cell_type": "code",
   "outputs": [],
   "execution_count": null,
   "source": "",
   "id": "1c22172c060755b4"
  },
  {
   "metadata": {},
   "cell_type": "markdown",
   "source": [
    "### Question 5: Iris\n",
    "- Laad de dataset iris (`iris.csv`) op en bestudeer de inhoud.\n",
    "- Wat voor soort voorspelling trachten we hier te doen? Regressie of classificatie?\n",
    "- Bepaal welke kolommen we niet kunnen gebruiken bij deze voorspelling?\n",
    "- Maak nu een input data set x_iris en normaliseer deze. Probeer een van de normalisatietechnieken uit die je nog niet hebt gebruikt in een oefening of opdracht.\n",
    "- Creëer een trainig data set en een test data set (x_train_iris en x_test_iris) die respectievelijk bestaan uit `80%` en `20%` (willekeurig gekozen) van de input data set x_iris.\n",
    "- Maak een neuraal netwerk met de correcte inputs en outputs.\n",
    "- Evalueer je neuraal netwerk op je test data set (x_test_iris). Welke nauwkeurigheid (accuracy) behaal je?"
   ],
   "id": "85679458cdb42976"
  },
  {
   "metadata": {},
   "cell_type": "code",
   "outputs": [],
   "execution_count": null,
   "source": "",
   "id": "19b20b97f96e8fcb"
  }
 ],
 "metadata": {
  "kernelspec": {
   "display_name": "Python 3",
   "language": "python",
   "name": "python3"
  },
  "language_info": {
   "codemirror_mode": {
    "name": "ipython",
    "version": 2
   },
   "file_extension": ".py",
   "mimetype": "text/x-python",
   "name": "python",
   "nbconvert_exporter": "python",
   "pygments_lexer": "ipython2",
   "version": "2.7.6"
  }
 },
 "nbformat": 4,
 "nbformat_minor": 5
}

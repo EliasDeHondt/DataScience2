{
 "cells": [
  {
   "cell_type": "markdown",
   "source": "# Exercises Neural Networks",
   "metadata": {
    "collapsed": false
   },
   "id": "fc11ae5046d6cd48"
  },
  {
   "cell_type": "code",
   "source": [
    "import math  # type: ignore                                                           # Mathematical functions\n",
    "import pandas as pd  # type: ignore                                                   # Data manipulation\n",
    "import numpy as np  # type: ignore                                                    # Scientific computing\n",
    "import matplotlib.pyplot as plt  # type: ignore                                       # Data visualization\n",
    "from scipy.stats import binom as binomial  # type: ignore                             # Binomial distribution\n",
    "from scipy.stats import norm as normal  # type: ignore                                # Normal distribution\n",
    "from scipy.stats import poisson as poisson  # type: ignore                            # Poisson distribution\n",
    "from scipy.stats import t as student  # type: ignore                                  # Student distribution\n",
    "from scipy.stats import chi2  # type: ignore                                          # Chi-squared distribution\n",
    "from scipy.stats import ttest_1samp  # type: ignore                                   # One-sample t-test\n",
    "from scipy.stats import chisquare  # type: ignore                                     # Chi-squared test\n",
    "from scipy.special import comb  # type: ignore                                        # Combinations\n",
    "from mlxtend.frequent_patterns import apriori  # type: ignore                         # Apriori algorithm\n",
    "from mlxtend.frequent_patterns import fpgrowth  # type: ignore                        # FP-growth algorithm\n",
    "from mlxtend.frequent_patterns import association_rules  # type: ignore               # Association rules\n",
    "from mlxtend.preprocessing import TransactionEncoder  # type: ignore                  # Transaction encoder\n",
    "from sklearn.discriminant_analysis import LinearDiscriminantAnalysis  # type: ignore  # Discriminant Analysis\n",
    "from tensorflow import keras  # type: ignore                                          # Deep Learning library\n",
    "from tensorflow.keras import Model  # type: ignore                                    # Model class\n",
    "from tensorflow.keras.layers import Input, Dense, BatchNormalization  # type: ignore  # Layers\n",
    "from tensorflow.keras.utils import to_categorical  # type: ignore                     # One-hot encoding\n",
    "from tensorflow. keras.optimizers import Adam  # type: ignore                         # Optimizer\n",
    "from livelossplot import PlotLossesKeras  # type: ignore                              # Live plot\n",
    "from keras.src.optimizers import RMSprop  # type: ignore                              # Optimizer\n",
    "from sklearn.model_selection import train_test_split  # type: ignore                  # Train-test split\n",
    "import warnings  # type: ignore                                                       # Disable warnings\n",
    "from Resources.Functions import *  # type: ignore                                     # Custom functions\n",
    "warnings.filterwarnings(\"ignore\")"
   ],
   "metadata": {
    "collapsed": false,
    "ExecuteTime": {
     "end_time": "2024-05-13T08:01:10.586749Z",
     "start_time": "2024-05-13T08:01:10.574975Z"
    }
   },
   "id": "1796a7e3a7232f25",
   "outputs": [],
   "execution_count": 112
  },
  {
   "metadata": {},
   "cell_type": "markdown",
   "source": [
    "# Guidelines\n",
    "1. Activation function for hidden layers: relu or sigmoid are popular.\n",
    "2. Activation function for the output layer:\n",
    "    - Classification with one-hot encoding: softmax (provides probabilities for each output summing to 1).\n",
    "    - Classification with 2 classes and 1 output: sigmoid (provides 1 probability). PS: One-hot encoding can also be used for 2 classes (then you have 2 outputs).\n",
    "    - Regression: linear.\n",
    "3. Backpropagation algorithm: Adam is popular (learning_rate indicates how much the weights/biases are adjusted).\n",
    "4. Loss function:\n",
    "    - Classification with one-hot encoding: `categorical_crossentropy` (a type of distance between probabilities).\n",
    "    - Classification with 2 classes and 1 output: `binary_crossentropy`.\n",
    "    - Regression: `MeanSquaredError` or `MeanAbsoluteError`.\n",
    "5. Metrics can be optionally added.\n",
    "6. Epochs: Number of times you iterate over the entire training dataset.\n",
    "7. Batch size: Size of the batch (default is 32) after which backpropagation (adjustment of weights/biases) occurs. For example, if the training dataset contains 1000 samples and the batch size is 100, there will be 10 backpropagation per epoch.\n",
    "\n",
    "|                                | Output Activation | Loss                     | Metrics                       |\n",
    "|:-------------------------------|:------------------|:-------------------------|:------------------------------|\n",
    "| Regression                     | Linear            | MeanSquaredError()       | MeanAbsolutePercentageError() |\n",
    "|                                |                   | MeanAbsoluteError()      |                               |\n",
    "| Classificatie 1 output         | Sigmoid           | Binary_crossentropy      | Accuracy                      |\n",
    "| Classificatie one-hot encoding | Softmax           | Categorical_crossentropy | Accuracy                      |\n"
   ],
   "id": "280f55c7e3a3b9ed"
  },
  {
   "cell_type": "markdown",
   "source": [
    "## Theoretical questions"
   ],
   "metadata": {
    "collapsed": false
   },
   "id": "d66cd879508e8eb4"
  },
  {
   "metadata": {},
   "cell_type": "markdown",
   "source": "### Question 0: Demo ANN (Artificial Neural Network)",
   "id": "fe1f95ab76ee580e"
  },
  {
   "metadata": {
    "ExecuteTime": {
     "end_time": "2024-05-13T06:42:37.148786Z",
     "start_time": "2024-05-13T06:42:37.119962Z"
    }
   },
   "cell_type": "code",
   "source": [
    "# This is one Artificial Neuron with 2 inputs (1,1), 2 weights (0.3, -0.1) and 1 bias (-0.7)\n",
    "inputANN = pd.array([1,1])\n",
    "weightsANN = pd.array([0.3, -0.1])\n",
    "biasANN = -0.7\n",
    "\n",
    "integratie = np.dot(inputANN, weightsANN) + biasANN\n",
    "print(f\"Output Integration: {integratie}\")\n",
    "\n",
    "activation = 1 / (1 + math.exp(-integratie))\n",
    "print(f\"Output Activation: {activation}\")"
   ],
   "id": "c0a73d28ca088254",
   "outputs": [
    {
     "name": "stdout",
     "output_type": "stream",
     "text": [
      "Output Integration: -0.5\n",
      "Output Activation: 0.3775406687981454\n"
     ]
    }
   ],
   "execution_count": 3
  },
  {
   "metadata": {},
   "cell_type": "markdown",
   "source": "### Question 0: XOR ANN (Artificial Neural Network)",
   "id": "9976ef5eea85abba"
  },
  {
   "metadata": {
    "ExecuteTime": {
     "end_time": "2024-05-13T06:42:37.412142Z",
     "start_time": "2024-05-13T06:42:37.151777Z"
    }
   },
   "cell_type": "code",
   "source": [
    "# Stap 1: Data\n",
    "xor_data = pd.DataFrame({'P1': [0,1,0,1], 'P2': [0,0,1,1], 'Q' : [0,1,1,0]})\n",
    "x_xor_data= xor_data[['P1', 'P2']]\n",
    "y_xor_data = xor_data[['Q']]\n",
    "                       \n",
    "# Step 2: Model\n",
    "inputs_xor = Input(shape=(2,))\n",
    "x_xor = Dense(2, activation='sigmoid')(inputs_xor) # Or relu\n",
    "outputs_xor = Dense(1, activation='sigmoid')(x_xor) # Or relu\n",
    "model_xor = Model(inputs_xor, outputs_xor, name='XOR_NN')\n",
    "\n",
    "# Step 3: Compile\n",
    "model_xor.compile(optimizer=Adam(learning_rate=0.00001), loss=keras.losses.binary_crossentropy, metrics=['accuracy'])"
   ],
   "id": "7e5cbb4bd86ed8e1",
   "outputs": [],
   "execution_count": 4
  },
  {
   "metadata": {},
   "cell_type": "code",
   "source": [
    "# Step 4: Fit\n",
    "history_xor = model_xor.fit(\n",
    "                            x_xor_data, \n",
    "                            y_xor_data, \n",
    "                            epochs=200, \n",
    "                            callbacks=[PlotLossesKeras()], \n",
    "                            verbose=False)"
   ],
   "id": "f2ae97c7747d3547",
   "execution_count": 5,
   "outputs": [
    {
     "name": "stdout",
     "output_type": "stream",
     "text": [
      "accuracy\n",
      "\taccuracy         \t (min:    0.500, max:    0.500, cur:    0.500)\n",
      "Loss\n",
      "\tloss             \t (min:    0.715, max:    0.715, cur:    0.715)\n"
     ]
    }
   ]
  },
  {
   "metadata": {
    "ExecuteTime": {
     "end_time": "2024-05-13T06:44:28.187261Z",
     "start_time": "2024-05-13T06:44:28.141429Z"
    }
   },
   "cell_type": "code",
   "source": "model_xor.summary()",
   "id": "9c2a91b1de30fe43",
   "outputs": [
    {
     "data": {
      "text/plain": [
       "\u001B[1mModel: \"XOR_NN\"\u001B[0m\n"
      ],
      "text/html": [
       "<pre style=\"white-space:pre;overflow-x:auto;line-height:normal;font-family:Menlo,'DejaVu Sans Mono',consolas,'Courier New',monospace\"><span style=\"font-weight: bold\">Model: \"XOR_NN\"</span>\n",
       "</pre>\n"
      ]
     },
     "metadata": {},
     "output_type": "display_data"
    },
    {
     "data": {
      "text/plain": [
       "┏━━━━━━━━━━━━━━━━━━━━━━━━━━━━━━━━━┳━━━━━━━━━━━━━━━━━━━━━━━━┳━━━━━━━━━━━━━━━┓\n",
       "┃\u001B[1m \u001B[0m\u001B[1mLayer (type)                   \u001B[0m\u001B[1m \u001B[0m┃\u001B[1m \u001B[0m\u001B[1mOutput Shape          \u001B[0m\u001B[1m \u001B[0m┃\u001B[1m \u001B[0m\u001B[1m      Param #\u001B[0m\u001B[1m \u001B[0m┃\n",
       "┡━━━━━━━━━━━━━━━━━━━━━━━━━━━━━━━━━╇━━━━━━━━━━━━━━━━━━━━━━━━╇━━━━━━━━━━━━━━━┩\n",
       "│ input_layer (\u001B[38;5;33mInputLayer\u001B[0m)        │ (\u001B[38;5;45mNone\u001B[0m, \u001B[38;5;34m2\u001B[0m)              │             \u001B[38;5;34m0\u001B[0m │\n",
       "├─────────────────────────────────┼────────────────────────┼───────────────┤\n",
       "│ dense (\u001B[38;5;33mDense\u001B[0m)                   │ (\u001B[38;5;45mNone\u001B[0m, \u001B[38;5;34m2\u001B[0m)              │             \u001B[38;5;34m6\u001B[0m │\n",
       "├─────────────────────────────────┼────────────────────────┼───────────────┤\n",
       "│ dense_1 (\u001B[38;5;33mDense\u001B[0m)                 │ (\u001B[38;5;45mNone\u001B[0m, \u001B[38;5;34m1\u001B[0m)              │             \u001B[38;5;34m3\u001B[0m │\n",
       "└─────────────────────────────────┴────────────────────────┴───────────────┘\n"
      ],
      "text/html": [
       "<pre style=\"white-space:pre;overflow-x:auto;line-height:normal;font-family:Menlo,'DejaVu Sans Mono',consolas,'Courier New',monospace\">┏━━━━━━━━━━━━━━━━━━━━━━━━━━━━━━━━━┳━━━━━━━━━━━━━━━━━━━━━━━━┳━━━━━━━━━━━━━━━┓\n",
       "┃<span style=\"font-weight: bold\"> Layer (type)                    </span>┃<span style=\"font-weight: bold\"> Output Shape           </span>┃<span style=\"font-weight: bold\">       Param # </span>┃\n",
       "┡━━━━━━━━━━━━━━━━━━━━━━━━━━━━━━━━━╇━━━━━━━━━━━━━━━━━━━━━━━━╇━━━━━━━━━━━━━━━┩\n",
       "│ input_layer (<span style=\"color: #0087ff; text-decoration-color: #0087ff\">InputLayer</span>)        │ (<span style=\"color: #00d7ff; text-decoration-color: #00d7ff\">None</span>, <span style=\"color: #00af00; text-decoration-color: #00af00\">2</span>)              │             <span style=\"color: #00af00; text-decoration-color: #00af00\">0</span> │\n",
       "├─────────────────────────────────┼────────────────────────┼───────────────┤\n",
       "│ dense (<span style=\"color: #0087ff; text-decoration-color: #0087ff\">Dense</span>)                   │ (<span style=\"color: #00d7ff; text-decoration-color: #00d7ff\">None</span>, <span style=\"color: #00af00; text-decoration-color: #00af00\">2</span>)              │             <span style=\"color: #00af00; text-decoration-color: #00af00\">6</span> │\n",
       "├─────────────────────────────────┼────────────────────────┼───────────────┤\n",
       "│ dense_1 (<span style=\"color: #0087ff; text-decoration-color: #0087ff\">Dense</span>)                 │ (<span style=\"color: #00d7ff; text-decoration-color: #00d7ff\">None</span>, <span style=\"color: #00af00; text-decoration-color: #00af00\">1</span>)              │             <span style=\"color: #00af00; text-decoration-color: #00af00\">3</span> │\n",
       "└─────────────────────────────────┴────────────────────────┴───────────────┘\n",
       "</pre>\n"
      ]
     },
     "metadata": {},
     "output_type": "display_data"
    },
    {
     "data": {
      "text/plain": [
       "\u001B[1m Total params: \u001B[0m\u001B[38;5;34m29\u001B[0m (120.00 B)\n"
      ],
      "text/html": [
       "<pre style=\"white-space:pre;overflow-x:auto;line-height:normal;font-family:Menlo,'DejaVu Sans Mono',consolas,'Courier New',monospace\"><span style=\"font-weight: bold\"> Total params: </span><span style=\"color: #00af00; text-decoration-color: #00af00\">29</span> (120.00 B)\n",
       "</pre>\n"
      ]
     },
     "metadata": {},
     "output_type": "display_data"
    },
    {
     "data": {
      "text/plain": [
       "\u001B[1m Trainable params: \u001B[0m\u001B[38;5;34m9\u001B[0m (36.00 B)\n"
      ],
      "text/html": [
       "<pre style=\"white-space:pre;overflow-x:auto;line-height:normal;font-family:Menlo,'DejaVu Sans Mono',consolas,'Courier New',monospace\"><span style=\"font-weight: bold\"> Trainable params: </span><span style=\"color: #00af00; text-decoration-color: #00af00\">9</span> (36.00 B)\n",
       "</pre>\n"
      ]
     },
     "metadata": {},
     "output_type": "display_data"
    },
    {
     "data": {
      "text/plain": [
       "\u001B[1m Non-trainable params: \u001B[0m\u001B[38;5;34m0\u001B[0m (0.00 B)\n"
      ],
      "text/html": [
       "<pre style=\"white-space:pre;overflow-x:auto;line-height:normal;font-family:Menlo,'DejaVu Sans Mono',consolas,'Courier New',monospace\"><span style=\"font-weight: bold\"> Non-trainable params: </span><span style=\"color: #00af00; text-decoration-color: #00af00\">0</span> (0.00 B)\n",
       "</pre>\n"
      ]
     },
     "metadata": {},
     "output_type": "display_data"
    },
    {
     "data": {
      "text/plain": [
       "\u001B[1m Optimizer params: \u001B[0m\u001B[38;5;34m20\u001B[0m (84.00 B)\n"
      ],
      "text/html": [
       "<pre style=\"white-space:pre;overflow-x:auto;line-height:normal;font-family:Menlo,'DejaVu Sans Mono',consolas,'Courier New',monospace\"><span style=\"font-weight: bold\"> Optimizer params: </span><span style=\"color: #00af00; text-decoration-color: #00af00\">20</span> (84.00 B)\n",
       "</pre>\n"
      ]
     },
     "metadata": {},
     "output_type": "display_data"
    }
   ],
   "execution_count": 6
  },
  {
   "metadata": {},
   "cell_type": "markdown",
   "source": [
    "### Question 1:\n",
    "- Bouw een neuraal netwerk op om het resultaat van een student op de gapminder test te bepalen aan de hand van het aantal uren wiskunde in het laatste jaar van het middelbaar, het aantal complotheorieën waarin hij/zij gelooft (zie code vraag 1 vragenlijst les Evaluatimetrieken) en het aantal broers en zussen. Splits de gegevens op is een training en een test data set (`90-10` verhouding). Normaliseer ook de data met behulp van de decimal scaling.\n",
    "\n",
    "- Opmerking: de variabele gapminder test bevat niet getallen. \n",
    "    - Zet de data om naar een geheel getal –integer- dat het percentage weergeeft.\n",
    "    - Plaats daarna de gegevens in `5` klassen: (`0,20`), (`20,40`), (`40,60`), (`60,80`), (`80,100`).\n",
    "    - Vervang de klasse door de index van de klasse.\n",
    "\n",
    "**Name of Columns**: `gapminder` `schrijfhand` `schoenmaat` `lengte` `bloedgroep` `resus` `siblings` `Samenzweringen` `rijbewijs` `domicilie in Antwerpen` `afstudeerrichting` `vrijetijdsbesteding` `uren wiskunde` `informatica` `belangrijk` `uren buiten schooluren` `afstand tot KdG` `vervoersmiddel` `klimaatopwarming` `zakgeld` `stukken fruit` `fruitvoorkeur` `besturingssysteem` `belangrijkste app` `M1 - stelen` `M2 - team` `M3 - beschermen` `M4 - voorbeeld` `M5 - embryo` `M6 - vrijheid` `mascotte` `zwaarste vak` `boeienste vak` `studiepunt`"
   ],
   "id": "d81c7c32f2da4107"
  },
  {
   "metadata": {
    "ExecuteTime": {
     "end_time": "2024-05-13T06:44:28.248965Z",
     "start_time": "2024-05-13T06:44:28.190186Z"
    }
   },
   "cell_type": "code",
   "source": [
    "data1 = pd.read_csv('../Data/Data1.csv', delimiter=';', decimal=',')\n",
    "display(data1.head())"
   ],
   "id": "2f6c804d451c6abc",
   "outputs": [
    {
     "data": {
      "text/plain": [
       "  gapminder schrijfhand  schoenmaat  lengte    bloedgroep         resus  \\\n",
       "0      7/18      Rechts        43.0     184             O      positief   \n",
       "1      3/18      Rechts        42.0     163  Weet ik niet  Weet ik niet   \n",
       "2     12/18      Rechts        45.0     183            AB      positief   \n",
       "3      5/18      Rechts        44.0     175             A      positief   \n",
       "4      6/18      Rechts        43.0     173             B      positief   \n",
       "\n",
       "   siblings                                     Samenzweringen  \\\n",
       "0         5  De tsunami van 2004 in de Indische Oceaan was ...   \n",
       "1         1   Prinses Diana kwam niet per ongeluk om het leven   \n",
       "2         2  Prinses Diana kwam niet per ongeluk om het lev...   \n",
       "3         2  De wereld wordt eigenlijk gecontroleerd door e...   \n",
       "4         3  De wereld wordt eigenlijk gecontroleerd door e...   \n",
       "\n",
       "                                           rijbewijs  \\\n",
       "0                               Categorie B: Wagens.   \n",
       "1  Categorie AM: Bromfietsen met een maximumsnelh...   \n",
       "2  Categorie AM: Bromfietsen met een maximumsnelh...   \n",
       "3  Categorie AM: Bromfietsen met een maximumsnelh...   \n",
       "4                               Categorie B: Wagens.   \n",
       "\n",
       "                              domicilie in Antwerpen  ... M1 - stelen  \\\n",
       "0  buiten de stad (een dorp, een gehucht, het pla...  ...           7   \n",
       "1                                        in een stad  ...          10   \n",
       "2                                        in een stad  ...           6   \n",
       "3                                        in een stad  ...           9   \n",
       "4                                        in een stad  ...          10   \n",
       "\n",
       "  M2 - team M3 - beschermen M4 - voorbeeld M5 - embryo  M6 - vrijheid  \\\n",
       "0         2               8              6           5            4.0   \n",
       "1         5              10              6           7            3.0   \n",
       "2         3               7              7          10            6.0   \n",
       "3        10              10             10          10            0.0   \n",
       "4         6              10              7           7            2.0   \n",
       "\n",
       "                                            mascotte  zwaarste vak  \\\n",
       "0  1=Bever,2=Wasbeer,3=Otter,4=Wolf,5=Poema,6=Pan...  Management 1   \n",
       "1  1=Bever,2=Wolf,3=Bizon,4=Otter,5=Panter,6=Poem...  Management 1   \n",
       "2  1=Bruine beer,2=Poema,3=Panter,4=Wolf,5=Vos,6=...  Management 1   \n",
       "3  1=Wasbeer,2=Wolf,3=Bruine beer,4=Das,5=Vos,6=B...  Management 1   \n",
       "4  1=Wolf,2=Vos,3=Bruine beer,4=Bizon,5=Panter,6=...  Management 1   \n",
       "\n",
       "           boeienste vak  studiepunt  \n",
       "0         Data science 1  16-20 uren  \n",
       "1     Computersystemen 1  <= 10 uren  \n",
       "2  Programmeren 1 - Java  16-20 uren  \n",
       "3         Data science 1  <= 10 uren  \n",
       "4         Data science 1  <= 10 uren  \n",
       "\n",
       "[5 rows x 33 columns]"
      ],
      "text/html": [
       "<div>\n",
       "<style scoped>\n",
       "    .dataframe tbody tr th:only-of-type {\n",
       "        vertical-align: middle;\n",
       "    }\n",
       "\n",
       "    .dataframe tbody tr th {\n",
       "        vertical-align: top;\n",
       "    }\n",
       "\n",
       "    .dataframe thead th {\n",
       "        text-align: right;\n",
       "    }\n",
       "</style>\n",
       "<table border=\"1\" class=\"dataframe\">\n",
       "  <thead>\n",
       "    <tr style=\"text-align: right;\">\n",
       "      <th></th>\n",
       "      <th>gapminder</th>\n",
       "      <th>schrijfhand</th>\n",
       "      <th>schoenmaat</th>\n",
       "      <th>lengte</th>\n",
       "      <th>bloedgroep</th>\n",
       "      <th>resus</th>\n",
       "      <th>siblings</th>\n",
       "      <th>Samenzweringen</th>\n",
       "      <th>rijbewijs</th>\n",
       "      <th>domicilie in Antwerpen</th>\n",
       "      <th>...</th>\n",
       "      <th>M1 - stelen</th>\n",
       "      <th>M2 - team</th>\n",
       "      <th>M3 - beschermen</th>\n",
       "      <th>M4 - voorbeeld</th>\n",
       "      <th>M5 - embryo</th>\n",
       "      <th>M6 - vrijheid</th>\n",
       "      <th>mascotte</th>\n",
       "      <th>zwaarste vak</th>\n",
       "      <th>boeienste vak</th>\n",
       "      <th>studiepunt</th>\n",
       "    </tr>\n",
       "  </thead>\n",
       "  <tbody>\n",
       "    <tr>\n",
       "      <th>0</th>\n",
       "      <td>7/18</td>\n",
       "      <td>Rechts</td>\n",
       "      <td>43.0</td>\n",
       "      <td>184</td>\n",
       "      <td>O</td>\n",
       "      <td>positief</td>\n",
       "      <td>5</td>\n",
       "      <td>De tsunami van 2004 in de Indische Oceaan was ...</td>\n",
       "      <td>Categorie B: Wagens.</td>\n",
       "      <td>buiten de stad (een dorp, een gehucht, het pla...</td>\n",
       "      <td>...</td>\n",
       "      <td>7</td>\n",
       "      <td>2</td>\n",
       "      <td>8</td>\n",
       "      <td>6</td>\n",
       "      <td>5</td>\n",
       "      <td>4.0</td>\n",
       "      <td>1=Bever,2=Wasbeer,3=Otter,4=Wolf,5=Poema,6=Pan...</td>\n",
       "      <td>Management 1</td>\n",
       "      <td>Data science 1</td>\n",
       "      <td>16-20 uren</td>\n",
       "    </tr>\n",
       "    <tr>\n",
       "      <th>1</th>\n",
       "      <td>3/18</td>\n",
       "      <td>Rechts</td>\n",
       "      <td>42.0</td>\n",
       "      <td>163</td>\n",
       "      <td>Weet ik niet</td>\n",
       "      <td>Weet ik niet</td>\n",
       "      <td>1</td>\n",
       "      <td>Prinses Diana kwam niet per ongeluk om het leven</td>\n",
       "      <td>Categorie AM: Bromfietsen met een maximumsnelh...</td>\n",
       "      <td>in een stad</td>\n",
       "      <td>...</td>\n",
       "      <td>10</td>\n",
       "      <td>5</td>\n",
       "      <td>10</td>\n",
       "      <td>6</td>\n",
       "      <td>7</td>\n",
       "      <td>3.0</td>\n",
       "      <td>1=Bever,2=Wolf,3=Bizon,4=Otter,5=Panter,6=Poem...</td>\n",
       "      <td>Management 1</td>\n",
       "      <td>Computersystemen 1</td>\n",
       "      <td>&lt;= 10 uren</td>\n",
       "    </tr>\n",
       "    <tr>\n",
       "      <th>2</th>\n",
       "      <td>12/18</td>\n",
       "      <td>Rechts</td>\n",
       "      <td>45.0</td>\n",
       "      <td>183</td>\n",
       "      <td>AB</td>\n",
       "      <td>positief</td>\n",
       "      <td>2</td>\n",
       "      <td>Prinses Diana kwam niet per ongeluk om het lev...</td>\n",
       "      <td>Categorie AM: Bromfietsen met een maximumsnelh...</td>\n",
       "      <td>in een stad</td>\n",
       "      <td>...</td>\n",
       "      <td>6</td>\n",
       "      <td>3</td>\n",
       "      <td>7</td>\n",
       "      <td>7</td>\n",
       "      <td>10</td>\n",
       "      <td>6.0</td>\n",
       "      <td>1=Bruine beer,2=Poema,3=Panter,4=Wolf,5=Vos,6=...</td>\n",
       "      <td>Management 1</td>\n",
       "      <td>Programmeren 1 - Java</td>\n",
       "      <td>16-20 uren</td>\n",
       "    </tr>\n",
       "    <tr>\n",
       "      <th>3</th>\n",
       "      <td>5/18</td>\n",
       "      <td>Rechts</td>\n",
       "      <td>44.0</td>\n",
       "      <td>175</td>\n",
       "      <td>A</td>\n",
       "      <td>positief</td>\n",
       "      <td>2</td>\n",
       "      <td>De wereld wordt eigenlijk gecontroleerd door e...</td>\n",
       "      <td>Categorie AM: Bromfietsen met een maximumsnelh...</td>\n",
       "      <td>in een stad</td>\n",
       "      <td>...</td>\n",
       "      <td>9</td>\n",
       "      <td>10</td>\n",
       "      <td>10</td>\n",
       "      <td>10</td>\n",
       "      <td>10</td>\n",
       "      <td>0.0</td>\n",
       "      <td>1=Wasbeer,2=Wolf,3=Bruine beer,4=Das,5=Vos,6=B...</td>\n",
       "      <td>Management 1</td>\n",
       "      <td>Data science 1</td>\n",
       "      <td>&lt;= 10 uren</td>\n",
       "    </tr>\n",
       "    <tr>\n",
       "      <th>4</th>\n",
       "      <td>6/18</td>\n",
       "      <td>Rechts</td>\n",
       "      <td>43.0</td>\n",
       "      <td>173</td>\n",
       "      <td>B</td>\n",
       "      <td>positief</td>\n",
       "      <td>3</td>\n",
       "      <td>De wereld wordt eigenlijk gecontroleerd door e...</td>\n",
       "      <td>Categorie B: Wagens.</td>\n",
       "      <td>in een stad</td>\n",
       "      <td>...</td>\n",
       "      <td>10</td>\n",
       "      <td>6</td>\n",
       "      <td>10</td>\n",
       "      <td>7</td>\n",
       "      <td>7</td>\n",
       "      <td>2.0</td>\n",
       "      <td>1=Wolf,2=Vos,3=Bruine beer,4=Bizon,5=Panter,6=...</td>\n",
       "      <td>Management 1</td>\n",
       "      <td>Data science 1</td>\n",
       "      <td>&lt;= 10 uren</td>\n",
       "    </tr>\n",
       "  </tbody>\n",
       "</table>\n",
       "<p>5 rows × 33 columns</p>\n",
       "</div>"
      ]
     },
     "metadata": {},
     "output_type": "display_data"
    }
   ],
   "execution_count": 7
  },
  {
   "metadata": {
    "ExecuteTime": {
     "end_time": "2024-05-13T06:44:28.264121Z",
     "start_time": "2024-05-13T06:44:28.253099Z"
    }
   },
   "cell_type": "code",
   "source": "",
   "id": "51c91ae3aabf21a1",
   "outputs": [],
   "execution_count": 7
  },
  {
   "metadata": {},
   "cell_type": "markdown",
   "source": [
    "### Question 2:\n",
    "- Herneem het neuraal netwerk uit vraag 1. Maak de confusion matrix, bereken de meest gebruikte evaluatiemetrieken en teken de ROC."
   ],
   "id": "eb07bd55c5889e04"
  },
  {
   "metadata": {
    "ExecuteTime": {
     "end_time": "2024-05-13T06:44:28.279267Z",
     "start_time": "2024-05-13T06:44:28.266368Z"
    }
   },
   "cell_type": "code",
   "source": "",
   "id": "246cfab828cf82e0",
   "outputs": [],
   "execution_count": 7
  },
  {
   "metadata": {},
   "cell_type": "markdown",
   "source": [
    "### Question 3: The Simpsons Revisited\n",
    "- We want to be able to predict the gender of a Simpson using... a neural network. This dataset is very small, and therefore we cannot construct a validation set or test set.\n",
    "    - Read the Simpsons dataset (`The_Simpsons_Original.csv`).\n",
    "    - Determine which columns we cannot use with this prediction?\n",
    "    - Now create an input training data set `x_simpsons` and normalize it (min-max normalization). Do the same for the output column(y4_simpsons).\n",
    "    - Create a neural network with the correct inputs and outputs.\n",
    "    - Use your neural network to predict the gender of your `x_simpsons`. Do they match the targets? Also predict the gender of the unknown Simpson (Comic guy: `hairlenght=8`, `weight=500`, `age=38`). Does this match the prediction you were made with decision trees?\n",
    "\n",
    "**Name of Columns**: `name` `hair length` `weight` `age` `gender`"
   ],
   "id": "8dcce8d70aac0bac"
  },
  {
   "metadata": {
    "ExecuteTime": {
     "end_time": "2024-05-13T06:44:28.311307Z",
     "start_time": "2024-05-13T06:44:28.281584Z"
    }
   },
   "cell_type": "code",
   "source": [
    "# 1\n",
    "theSimpsonsOriginal = pd.read_csv('../Data/The_Simpsons_Original.csv', delimiter=',')\n",
    "display(theSimpsonsOriginal.head())"
   ],
   "id": "7576d7d60ea7a0c8",
   "outputs": [
    {
     "data": {
      "text/plain": [
       "     name  hair length  weight  age gender\n",
       "0   Homer            0     250   36      M\n",
       "1   Marge           10     150   34      F\n",
       "2    Bart            2      90   10      M\n",
       "3    Lisa            6      78    8      F\n",
       "4  Maggie            4      20    1      F"
      ],
      "text/html": [
       "<div>\n",
       "<style scoped>\n",
       "    .dataframe tbody tr th:only-of-type {\n",
       "        vertical-align: middle;\n",
       "    }\n",
       "\n",
       "    .dataframe tbody tr th {\n",
       "        vertical-align: top;\n",
       "    }\n",
       "\n",
       "    .dataframe thead th {\n",
       "        text-align: right;\n",
       "    }\n",
       "</style>\n",
       "<table border=\"1\" class=\"dataframe\">\n",
       "  <thead>\n",
       "    <tr style=\"text-align: right;\">\n",
       "      <th></th>\n",
       "      <th>name</th>\n",
       "      <th>hair length</th>\n",
       "      <th>weight</th>\n",
       "      <th>age</th>\n",
       "      <th>gender</th>\n",
       "    </tr>\n",
       "  </thead>\n",
       "  <tbody>\n",
       "    <tr>\n",
       "      <th>0</th>\n",
       "      <td>Homer</td>\n",
       "      <td>0</td>\n",
       "      <td>250</td>\n",
       "      <td>36</td>\n",
       "      <td>M</td>\n",
       "    </tr>\n",
       "    <tr>\n",
       "      <th>1</th>\n",
       "      <td>Marge</td>\n",
       "      <td>10</td>\n",
       "      <td>150</td>\n",
       "      <td>34</td>\n",
       "      <td>F</td>\n",
       "    </tr>\n",
       "    <tr>\n",
       "      <th>2</th>\n",
       "      <td>Bart</td>\n",
       "      <td>2</td>\n",
       "      <td>90</td>\n",
       "      <td>10</td>\n",
       "      <td>M</td>\n",
       "    </tr>\n",
       "    <tr>\n",
       "      <th>3</th>\n",
       "      <td>Lisa</td>\n",
       "      <td>6</td>\n",
       "      <td>78</td>\n",
       "      <td>8</td>\n",
       "      <td>F</td>\n",
       "    </tr>\n",
       "    <tr>\n",
       "      <th>4</th>\n",
       "      <td>Maggie</td>\n",
       "      <td>4</td>\n",
       "      <td>20</td>\n",
       "      <td>1</td>\n",
       "      <td>F</td>\n",
       "    </tr>\n",
       "  </tbody>\n",
       "</table>\n",
       "</div>"
      ]
     },
     "metadata": {},
     "output_type": "display_data"
    }
   ],
   "execution_count": 8
  },
  {
   "metadata": {
    "ExecuteTime": {
     "end_time": "2024-05-13T06:44:28.342054Z",
     "start_time": "2024-05-13T06:44:28.319546Z"
    }
   },
   "cell_type": "code",
   "source": [
    "# 2\n",
    "theSimpsonsOriginal = theSimpsonsOriginal.drop(columns=['name'])\n",
    "display(theSimpsonsOriginal.head())\n",
    "print(\"We can't use the column 'name' in this prediction. It's a unique identifier and string.\")"
   ],
   "id": "f330fd3af2716fb3",
   "outputs": [
    {
     "data": {
      "text/plain": [
       "   hair length  weight  age gender\n",
       "0            0     250   36      M\n",
       "1           10     150   34      F\n",
       "2            2      90   10      M\n",
       "3            6      78    8      F\n",
       "4            4      20    1      F"
      ],
      "text/html": [
       "<div>\n",
       "<style scoped>\n",
       "    .dataframe tbody tr th:only-of-type {\n",
       "        vertical-align: middle;\n",
       "    }\n",
       "\n",
       "    .dataframe tbody tr th {\n",
       "        vertical-align: top;\n",
       "    }\n",
       "\n",
       "    .dataframe thead th {\n",
       "        text-align: right;\n",
       "    }\n",
       "</style>\n",
       "<table border=\"1\" class=\"dataframe\">\n",
       "  <thead>\n",
       "    <tr style=\"text-align: right;\">\n",
       "      <th></th>\n",
       "      <th>hair length</th>\n",
       "      <th>weight</th>\n",
       "      <th>age</th>\n",
       "      <th>gender</th>\n",
       "    </tr>\n",
       "  </thead>\n",
       "  <tbody>\n",
       "    <tr>\n",
       "      <th>0</th>\n",
       "      <td>0</td>\n",
       "      <td>250</td>\n",
       "      <td>36</td>\n",
       "      <td>M</td>\n",
       "    </tr>\n",
       "    <tr>\n",
       "      <th>1</th>\n",
       "      <td>10</td>\n",
       "      <td>150</td>\n",
       "      <td>34</td>\n",
       "      <td>F</td>\n",
       "    </tr>\n",
       "    <tr>\n",
       "      <th>2</th>\n",
       "      <td>2</td>\n",
       "      <td>90</td>\n",
       "      <td>10</td>\n",
       "      <td>M</td>\n",
       "    </tr>\n",
       "    <tr>\n",
       "      <th>3</th>\n",
       "      <td>6</td>\n",
       "      <td>78</td>\n",
       "      <td>8</td>\n",
       "      <td>F</td>\n",
       "    </tr>\n",
       "    <tr>\n",
       "      <th>4</th>\n",
       "      <td>4</td>\n",
       "      <td>20</td>\n",
       "      <td>1</td>\n",
       "      <td>F</td>\n",
       "    </tr>\n",
       "  </tbody>\n",
       "</table>\n",
       "</div>"
      ]
     },
     "metadata": {},
     "output_type": "display_data"
    },
    {
     "name": "stdout",
     "output_type": "stream",
     "text": [
      "We can't use the column 'name' in this prediction. It's a unique identifier and string.\n"
     ]
    }
   ],
   "execution_count": 9
  },
  {
   "metadata": {
    "ExecuteTime": {
     "end_time": "2024-05-13T06:44:28.372397Z",
     "start_time": "2024-05-13T06:44:28.344556Z"
    }
   },
   "cell_type": "code",
   "source": [
    "# 3\n",
    "x_simpsons = theSimpsonsOriginal[['hair length', 'weight', 'age']]                                              # Get the input\n",
    "y_simpsons = theSimpsonsOriginal[['gender']]                                                                    # Get the output\n",
    "\n",
    "x_simpsons_norm = (x_simpsons - x_simpsons.min()) / (x_simpsons.max() - x_simpsons.min())                       # Normalization of the input\n",
    "y_simpsons_rep = y_simpsons.replace(to_replace=['M', 'F'], value=[0, 1])                                        # Replace the output\n",
    "y_simpsons_rep = to_categorical(y_simpsons_rep)                                                                 # One-hot encoding\n",
    "y_simpsons_norm = (y_simpsons_rep - y_simpsons_rep.min()) / (y_simpsons_rep.max() - y_simpsons_rep.min())       # Normalization of the output"
   ],
   "id": "777632dfeebeb820",
   "outputs": [],
   "execution_count": 10
  },
  {
   "metadata": {
    "ExecuteTime": {
     "end_time": "2024-05-13T06:44:28.466507Z",
     "start_time": "2024-05-13T06:44:28.376002Z"
    }
   },
   "cell_type": "code",
   "source": [
    "# 4\n",
    "inputs_simpsons = Input(shape=(3,))\n",
    "x_simp = Dense(6, activation='sigmoid')(inputs_simpsons)\n",
    "x_simp = Dense(12, activation='sigmoid')(x_simp)\n",
    "x_simp = Dense(24, activation='sigmoid')(x_simp)\n",
    "x_simp = Dense(12, activation='sigmoid')(x_simp)\n",
    "x_simp = Dense(6, activation='sigmoid')(x_simp)\n",
    "outputs_simpsons = Dense(2, activation='softmax')(x_simp) # Activation=softmax for one-hot encoding (classification)\n",
    "model_simpsons = Model(inputs_simpsons, outputs_simpsons, name='Simpsons_NN')\n",
    "\n",
    "model_simpsons.compile(optimizer=Adam(learning_rate=0.00001), loss=keras.losses.binary_crossentropy, metrics=['accuracy']) # Binary_crossentropy for one-hot encoding"
   ],
   "id": "df65416724d01b5a",
   "outputs": [],
   "execution_count": 11
  },
  {
   "metadata": {},
   "cell_type": "code",
   "source": [
    "history_simpsons = model_simpsons.fit(\n",
    "                                    x_simpsons_norm,\n",
    "                                    y_simpsons_rep,\n",
    "                                    epochs=200,\n",
    "                                    callbacks=[PlotLossesKeras()],\n",
    "                                    verbose=False)"
   ],
   "id": "430e34fda333d448",
   "execution_count": 12,
   "outputs": [
    {
     "name": "stdout",
     "output_type": "stream",
     "text": [
      "accuracy\n",
      "\taccuracy         \t (min:    0.444, max:    0.444, cur:    0.444)\n",
      "Loss\n",
      "\tloss             \t (min:    0.726, max:    0.728, cur:    0.726)\n"
     ]
    }
   ]
  },
  {
   "metadata": {
    "ExecuteTime": {
     "end_time": "2024-05-13T08:02:22.345133Z",
     "start_time": "2024-05-13T08:02:22.284606Z"
    }
   },
   "cell_type": "code",
   "source": "model_simpsons.summary()",
   "id": "ccb0dba8bd2274db",
   "outputs": [
    {
     "data": {
      "text/plain": [
       "\u001B[1mModel: \"Simpsons_NN\"\u001B[0m\n"
      ],
      "text/html": [
       "<pre style=\"white-space:pre;overflow-x:auto;line-height:normal;font-family:Menlo,'DejaVu Sans Mono',consolas,'Courier New',monospace\"><span style=\"font-weight: bold\">Model: \"Simpsons_NN\"</span>\n",
       "</pre>\n"
      ]
     },
     "metadata": {},
     "output_type": "display_data"
    },
    {
     "data": {
      "text/plain": [
       "┏━━━━━━━━━━━━━━━━━━━━━━━━━━━━━━━━━┳━━━━━━━━━━━━━━━━━━━━━━━━┳━━━━━━━━━━━━━━━┓\n",
       "┃\u001B[1m \u001B[0m\u001B[1mLayer (type)                   \u001B[0m\u001B[1m \u001B[0m┃\u001B[1m \u001B[0m\u001B[1mOutput Shape          \u001B[0m\u001B[1m \u001B[0m┃\u001B[1m \u001B[0m\u001B[1m      Param #\u001B[0m\u001B[1m \u001B[0m┃\n",
       "┡━━━━━━━━━━━━━━━━━━━━━━━━━━━━━━━━━╇━━━━━━━━━━━━━━━━━━━━━━━━╇━━━━━━━━━━━━━━━┩\n",
       "│ input_layer_1 (\u001B[38;5;33mInputLayer\u001B[0m)      │ (\u001B[38;5;45mNone\u001B[0m, \u001B[38;5;34m3\u001B[0m)              │             \u001B[38;5;34m0\u001B[0m │\n",
       "├─────────────────────────────────┼────────────────────────┼───────────────┤\n",
       "│ dense_2 (\u001B[38;5;33mDense\u001B[0m)                 │ (\u001B[38;5;45mNone\u001B[0m, \u001B[38;5;34m6\u001B[0m)              │            \u001B[38;5;34m24\u001B[0m │\n",
       "├─────────────────────────────────┼────────────────────────┼───────────────┤\n",
       "│ dense_3 (\u001B[38;5;33mDense\u001B[0m)                 │ (\u001B[38;5;45mNone\u001B[0m, \u001B[38;5;34m12\u001B[0m)             │            \u001B[38;5;34m84\u001B[0m │\n",
       "├─────────────────────────────────┼────────────────────────┼───────────────┤\n",
       "│ dense_4 (\u001B[38;5;33mDense\u001B[0m)                 │ (\u001B[38;5;45mNone\u001B[0m, \u001B[38;5;34m24\u001B[0m)             │           \u001B[38;5;34m312\u001B[0m │\n",
       "├─────────────────────────────────┼────────────────────────┼───────────────┤\n",
       "│ dense_5 (\u001B[38;5;33mDense\u001B[0m)                 │ (\u001B[38;5;45mNone\u001B[0m, \u001B[38;5;34m12\u001B[0m)             │           \u001B[38;5;34m300\u001B[0m │\n",
       "├─────────────────────────────────┼────────────────────────┼───────────────┤\n",
       "│ dense_6 (\u001B[38;5;33mDense\u001B[0m)                 │ (\u001B[38;5;45mNone\u001B[0m, \u001B[38;5;34m6\u001B[0m)              │            \u001B[38;5;34m78\u001B[0m │\n",
       "├─────────────────────────────────┼────────────────────────┼───────────────┤\n",
       "│ dense_7 (\u001B[38;5;33mDense\u001B[0m)                 │ (\u001B[38;5;45mNone\u001B[0m, \u001B[38;5;34m2\u001B[0m)              │            \u001B[38;5;34m14\u001B[0m │\n",
       "└─────────────────────────────────┴────────────────────────┴───────────────┘\n"
      ],
      "text/html": [
       "<pre style=\"white-space:pre;overflow-x:auto;line-height:normal;font-family:Menlo,'DejaVu Sans Mono',consolas,'Courier New',monospace\">┏━━━━━━━━━━━━━━━━━━━━━━━━━━━━━━━━━┳━━━━━━━━━━━━━━━━━━━━━━━━┳━━━━━━━━━━━━━━━┓\n",
       "┃<span style=\"font-weight: bold\"> Layer (type)                    </span>┃<span style=\"font-weight: bold\"> Output Shape           </span>┃<span style=\"font-weight: bold\">       Param # </span>┃\n",
       "┡━━━━━━━━━━━━━━━━━━━━━━━━━━━━━━━━━╇━━━━━━━━━━━━━━━━━━━━━━━━╇━━━━━━━━━━━━━━━┩\n",
       "│ input_layer_1 (<span style=\"color: #0087ff; text-decoration-color: #0087ff\">InputLayer</span>)      │ (<span style=\"color: #00d7ff; text-decoration-color: #00d7ff\">None</span>, <span style=\"color: #00af00; text-decoration-color: #00af00\">3</span>)              │             <span style=\"color: #00af00; text-decoration-color: #00af00\">0</span> │\n",
       "├─────────────────────────────────┼────────────────────────┼───────────────┤\n",
       "│ dense_2 (<span style=\"color: #0087ff; text-decoration-color: #0087ff\">Dense</span>)                 │ (<span style=\"color: #00d7ff; text-decoration-color: #00d7ff\">None</span>, <span style=\"color: #00af00; text-decoration-color: #00af00\">6</span>)              │            <span style=\"color: #00af00; text-decoration-color: #00af00\">24</span> │\n",
       "├─────────────────────────────────┼────────────────────────┼───────────────┤\n",
       "│ dense_3 (<span style=\"color: #0087ff; text-decoration-color: #0087ff\">Dense</span>)                 │ (<span style=\"color: #00d7ff; text-decoration-color: #00d7ff\">None</span>, <span style=\"color: #00af00; text-decoration-color: #00af00\">12</span>)             │            <span style=\"color: #00af00; text-decoration-color: #00af00\">84</span> │\n",
       "├─────────────────────────────────┼────────────────────────┼───────────────┤\n",
       "│ dense_4 (<span style=\"color: #0087ff; text-decoration-color: #0087ff\">Dense</span>)                 │ (<span style=\"color: #00d7ff; text-decoration-color: #00d7ff\">None</span>, <span style=\"color: #00af00; text-decoration-color: #00af00\">24</span>)             │           <span style=\"color: #00af00; text-decoration-color: #00af00\">312</span> │\n",
       "├─────────────────────────────────┼────────────────────────┼───────────────┤\n",
       "│ dense_5 (<span style=\"color: #0087ff; text-decoration-color: #0087ff\">Dense</span>)                 │ (<span style=\"color: #00d7ff; text-decoration-color: #00d7ff\">None</span>, <span style=\"color: #00af00; text-decoration-color: #00af00\">12</span>)             │           <span style=\"color: #00af00; text-decoration-color: #00af00\">300</span> │\n",
       "├─────────────────────────────────┼────────────────────────┼───────────────┤\n",
       "│ dense_6 (<span style=\"color: #0087ff; text-decoration-color: #0087ff\">Dense</span>)                 │ (<span style=\"color: #00d7ff; text-decoration-color: #00d7ff\">None</span>, <span style=\"color: #00af00; text-decoration-color: #00af00\">6</span>)              │            <span style=\"color: #00af00; text-decoration-color: #00af00\">78</span> │\n",
       "├─────────────────────────────────┼────────────────────────┼───────────────┤\n",
       "│ dense_7 (<span style=\"color: #0087ff; text-decoration-color: #0087ff\">Dense</span>)                 │ (<span style=\"color: #00d7ff; text-decoration-color: #00d7ff\">None</span>, <span style=\"color: #00af00; text-decoration-color: #00af00\">2</span>)              │            <span style=\"color: #00af00; text-decoration-color: #00af00\">14</span> │\n",
       "└─────────────────────────────────┴────────────────────────┴───────────────┘\n",
       "</pre>\n"
      ]
     },
     "metadata": {},
     "output_type": "display_data"
    },
    {
     "data": {
      "text/plain": [
       "\u001B[1m Total params: \u001B[0m\u001B[38;5;34m2,438\u001B[0m (9.53 KB)\n"
      ],
      "text/html": [
       "<pre style=\"white-space:pre;overflow-x:auto;line-height:normal;font-family:Menlo,'DejaVu Sans Mono',consolas,'Courier New',monospace\"><span style=\"font-weight: bold\"> Total params: </span><span style=\"color: #00af00; text-decoration-color: #00af00\">2,438</span> (9.53 KB)\n",
       "</pre>\n"
      ]
     },
     "metadata": {},
     "output_type": "display_data"
    },
    {
     "data": {
      "text/plain": [
       "\u001B[1m Trainable params: \u001B[0m\u001B[38;5;34m812\u001B[0m (3.17 KB)\n"
      ],
      "text/html": [
       "<pre style=\"white-space:pre;overflow-x:auto;line-height:normal;font-family:Menlo,'DejaVu Sans Mono',consolas,'Courier New',monospace\"><span style=\"font-weight: bold\"> Trainable params: </span><span style=\"color: #00af00; text-decoration-color: #00af00\">812</span> (3.17 KB)\n",
       "</pre>\n"
      ]
     },
     "metadata": {},
     "output_type": "display_data"
    },
    {
     "data": {
      "text/plain": [
       "\u001B[1m Non-trainable params: \u001B[0m\u001B[38;5;34m0\u001B[0m (0.00 B)\n"
      ],
      "text/html": [
       "<pre style=\"white-space:pre;overflow-x:auto;line-height:normal;font-family:Menlo,'DejaVu Sans Mono',consolas,'Courier New',monospace\"><span style=\"font-weight: bold\"> Non-trainable params: </span><span style=\"color: #00af00; text-decoration-color: #00af00\">0</span> (0.00 B)\n",
       "</pre>\n"
      ]
     },
     "metadata": {},
     "output_type": "display_data"
    },
    {
     "data": {
      "text/plain": [
       "\u001B[1m Optimizer params: \u001B[0m\u001B[38;5;34m1,626\u001B[0m (6.36 KB)\n"
      ],
      "text/html": [
       "<pre style=\"white-space:pre;overflow-x:auto;line-height:normal;font-family:Menlo,'DejaVu Sans Mono',consolas,'Courier New',monospace\"><span style=\"font-weight: bold\"> Optimizer params: </span><span style=\"color: #00af00; text-decoration-color: #00af00\">1,626</span> (6.36 KB)\n",
       "</pre>\n"
      ]
     },
     "metadata": {},
     "output_type": "display_data"
    }
   ],
   "execution_count": 114
  },
  {
   "metadata": {
    "ExecuteTime": {
     "end_time": "2024-05-13T06:46:20.822696Z",
     "start_time": "2024-05-13T06:46:20.575212Z"
    }
   },
   "cell_type": "code",
   "source": [
    "# 5\n",
    "comicGuy = pd.DataFrame({'hair length': [8], 'weight': [500], 'age': [38]})\n",
    "comicGuy_norm = (comicGuy - x_simpsons.min()) / (x_simpsons.max() - x_simpsons.min())\n",
    "prediction = model_simpsons.predict(comicGuy_norm)\n",
    "print(f\"Prediction: {prediction}\")"
   ],
   "id": "eaa0efaa8d9bc623",
   "outputs": [
    {
     "name": "stdout",
     "output_type": "stream",
     "text": [
      "\u001B[1m1/1\u001B[0m \u001B[32m━━━━━━━━━━━━━━━━━━━━\u001B[0m\u001B[37m\u001B[0m \u001B[1m0s\u001B[0m 150ms/step\n",
      "Prediction: [[0.45356438 0.5464356 ]]\n"
     ]
    }
   ],
   "execution_count": 14
  },
  {
   "metadata": {},
   "cell_type": "markdown",
   "source": [
    "### Question 4: Forecast demo Revisited\n",
    "- We want to be able to predict a company's revenues per quarter for the last `5` years. This dataset is very small, and therefore we cannot construct a validation set or test set.\n",
    "    - Read the Forecasting dataset (`forecastdemo.csv`)\n",
    "    - Determine which columns we cannot use in this prediction?\n",
    "    - Now create an input training data set `x_forcast` and an output column `y_forcast`. Normalize where necessary.\n",
    "    - Create a neural network with the correct inputs and outputs.\n",
    "    - Use your neural network to predict the returns associated with `x_forcast`. Do they correspond to actual returns? Create one plot of the original data and the predicted data.\n",
    "\n",
    "**Name of Columns**: `Year` `Quarter` `Revenu`"
   ],
   "id": "cbbb2930e5856c1d"
  },
  {
   "metadata": {
    "ExecuteTime": {
     "end_time": "2024-05-13T07:15:30.166707Z",
     "start_time": "2024-05-13T07:15:30.152912Z"
    }
   },
   "cell_type": "code",
   "source": [
    "# 1\n",
    "forcastDemo = pd.read_csv('../Data/ForcastDemo.csv', delimiter=';')\n",
    "display(forcastDemo.head())"
   ],
   "id": "1c22172c060755b4",
   "outputs": [
    {
     "data": {
      "text/plain": [
       "   Year  Quarter  Revenu\n",
       "0     1        1      20\n",
       "1     1        2     100\n",
       "2     1        3     175\n",
       "3     1        4      13\n",
       "4     2        1      37"
      ],
      "text/html": [
       "<div>\n",
       "<style scoped>\n",
       "    .dataframe tbody tr th:only-of-type {\n",
       "        vertical-align: middle;\n",
       "    }\n",
       "\n",
       "    .dataframe tbody tr th {\n",
       "        vertical-align: top;\n",
       "    }\n",
       "\n",
       "    .dataframe thead th {\n",
       "        text-align: right;\n",
       "    }\n",
       "</style>\n",
       "<table border=\"1\" class=\"dataframe\">\n",
       "  <thead>\n",
       "    <tr style=\"text-align: right;\">\n",
       "      <th></th>\n",
       "      <th>Year</th>\n",
       "      <th>Quarter</th>\n",
       "      <th>Revenu</th>\n",
       "    </tr>\n",
       "  </thead>\n",
       "  <tbody>\n",
       "    <tr>\n",
       "      <th>0</th>\n",
       "      <td>1</td>\n",
       "      <td>1</td>\n",
       "      <td>20</td>\n",
       "    </tr>\n",
       "    <tr>\n",
       "      <th>1</th>\n",
       "      <td>1</td>\n",
       "      <td>2</td>\n",
       "      <td>100</td>\n",
       "    </tr>\n",
       "    <tr>\n",
       "      <th>2</th>\n",
       "      <td>1</td>\n",
       "      <td>3</td>\n",
       "      <td>175</td>\n",
       "    </tr>\n",
       "    <tr>\n",
       "      <th>3</th>\n",
       "      <td>1</td>\n",
       "      <td>4</td>\n",
       "      <td>13</td>\n",
       "    </tr>\n",
       "    <tr>\n",
       "      <th>4</th>\n",
       "      <td>2</td>\n",
       "      <td>1</td>\n",
       "      <td>37</td>\n",
       "    </tr>\n",
       "  </tbody>\n",
       "</table>\n",
       "</div>"
      ]
     },
     "metadata": {},
     "output_type": "display_data"
    }
   ],
   "execution_count": 61
  },
  {
   "metadata": {
    "ExecuteTime": {
     "end_time": "2024-05-13T07:08:09.002579Z",
     "start_time": "2024-05-13T07:08:08.986784Z"
    }
   },
   "cell_type": "code",
   "source": [
    "# 2\n",
    "print(\"We can't use the column 'Revenu' because that's the column we are trying to predict.\")"
   ],
   "id": "82bf7120d5435d28",
   "outputs": [
    {
     "name": "stdout",
     "output_type": "stream",
     "text": [
      "We can't use the column 'Revenu' because that's the column we are trying to predict.\n"
     ]
    }
   ],
   "execution_count": 39
  },
  {
   "metadata": {
    "ExecuteTime": {
     "end_time": "2024-05-13T07:45:01.509725Z",
     "start_time": "2024-05-13T07:45:01.496154Z"
    }
   },
   "cell_type": "code",
   "source": [
    "# 3\n",
    "x_forcast = forcastDemo[['Year', 'Quarter']]                                                                # Get the input\n",
    "y_forcast = forcastDemo[['Revenu']]                                                                         # Get the output\n",
    "\n",
    "y_forcast_norm = (y_forcast - y_forcast.min()) / (y_forcast.max() - y_forcast.min())                       # Normalization of the output"
   ],
   "id": "d4364c6fac652f55",
   "outputs": [],
   "execution_count": 88
  },
  {
   "metadata": {
    "ExecuteTime": {
     "end_time": "2024-05-13T07:47:03.544357Z",
     "start_time": "2024-05-13T07:47:03.484154Z"
    }
   },
   "cell_type": "code",
   "source": [
    "# 4\n",
    "inputs_forcast = Input(shape=(2,))\n",
    "x_for = Dense(4, activation='relu')(inputs_forcast)\n",
    "x_for = Dense(8, activation='relu')(x_for)\n",
    "x_for = Dense(16, activation='relu')(x_for)\n",
    "x_for = Dense(8, activation='relu')(x_for)\n",
    "x_for = Dense(4, activation='relu')(x_for)\n",
    "x_for = Dense(2, activation='relu')(x_for)\n",
    "outputs_forcast = Dense(1, activation='linear')(x_for) # Activation=linear for regression (no activation)\n",
    "\n",
    "model_forcast = Model(inputs_forcast, outputs_forcast, name='Forcast_NN')\n",
    "\n",
    "lr = 0.001  # Learning rate\n",
    "model_forcast.compile(optimizer=RMSprop(learning_rate=lr), \n",
    "                      loss=keras.losses.MeanAbsoluteError(), \n",
    "                      metrics=[keras.metrics.MeanAbsolutePercentageError()])"
   ],
   "id": "e72baa1499038578",
   "outputs": [],
   "execution_count": 93
  },
  {
   "metadata": {},
   "cell_type": "code",
   "source": [
    "history_forcast = model_forcast.fit(\n",
    "                                    x_forcast,\n",
    "                                    y_forcast_norm,\n",
    "                                    epochs=1000,\n",
    "                                    callbacks=[PlotLossesKeras()],\n",
    "                                    verbose=False)"
   ],
   "id": "4c4e8b87241fe3e6",
   "execution_count": 94,
   "outputs": [
    {
     "name": "stdout",
     "output_type": "stream",
     "text": [
      "Loss\n",
      "\tloss             \t (min:    0.225, max:    0.340, cur:    0.225)\n",
      "mean_absolute_percentage_error\n",
      "\tmean_absolute_percentage_error \t (min:   95.000, max: 14239072.000, cur: 14239061.000)\n"
     ]
    }
   ]
  },
  {
   "metadata": {
    "ExecuteTime": {
     "end_time": "2024-05-13T07:56:36.721166Z",
     "start_time": "2024-05-13T07:56:36.691492Z"
    }
   },
   "cell_type": "code",
   "source": "model_forcast.summary()",
   "id": "9f36bd9b09e2b900",
   "outputs": [
    {
     "data": {
      "text/plain": [
       "\u001B[1mModel: \"Forcast_NN\"\u001B[0m\n"
      ],
      "text/html": [
       "<pre style=\"white-space:pre;overflow-x:auto;line-height:normal;font-family:Menlo,'DejaVu Sans Mono',consolas,'Courier New',monospace\"><span style=\"font-weight: bold\">Model: \"Forcast_NN\"</span>\n",
       "</pre>\n"
      ]
     },
     "metadata": {},
     "output_type": "display_data"
    },
    {
     "data": {
      "text/plain": [
       "┏━━━━━━━━━━━━━━━━━━━━━━━━━━━━━━━━━┳━━━━━━━━━━━━━━━━━━━━━━━━┳━━━━━━━━━━━━━━━┓\n",
       "┃\u001B[1m \u001B[0m\u001B[1mLayer (type)                   \u001B[0m\u001B[1m \u001B[0m┃\u001B[1m \u001B[0m\u001B[1mOutput Shape          \u001B[0m\u001B[1m \u001B[0m┃\u001B[1m \u001B[0m\u001B[1m      Param #\u001B[0m\u001B[1m \u001B[0m┃\n",
       "┡━━━━━━━━━━━━━━━━━━━━━━━━━━━━━━━━━╇━━━━━━━━━━━━━━━━━━━━━━━━╇━━━━━━━━━━━━━━━┩\n",
       "│ input_layer_15 (\u001B[38;5;33mInputLayer\u001B[0m)     │ (\u001B[38;5;45mNone\u001B[0m, \u001B[38;5;34m2\u001B[0m)              │             \u001B[38;5;34m0\u001B[0m │\n",
       "├─────────────────────────────────┼────────────────────────┼───────────────┤\n",
       "│ dense_92 (\u001B[38;5;33mDense\u001B[0m)                │ (\u001B[38;5;45mNone\u001B[0m, \u001B[38;5;34m4\u001B[0m)              │            \u001B[38;5;34m12\u001B[0m │\n",
       "├─────────────────────────────────┼────────────────────────┼───────────────┤\n",
       "│ dense_93 (\u001B[38;5;33mDense\u001B[0m)                │ (\u001B[38;5;45mNone\u001B[0m, \u001B[38;5;34m8\u001B[0m)              │            \u001B[38;5;34m40\u001B[0m │\n",
       "├─────────────────────────────────┼────────────────────────┼───────────────┤\n",
       "│ dense_94 (\u001B[38;5;33mDense\u001B[0m)                │ (\u001B[38;5;45mNone\u001B[0m, \u001B[38;5;34m16\u001B[0m)             │           \u001B[38;5;34m144\u001B[0m │\n",
       "├─────────────────────────────────┼────────────────────────┼───────────────┤\n",
       "│ dense_95 (\u001B[38;5;33mDense\u001B[0m)                │ (\u001B[38;5;45mNone\u001B[0m, \u001B[38;5;34m8\u001B[0m)              │           \u001B[38;5;34m136\u001B[0m │\n",
       "├─────────────────────────────────┼────────────────────────┼───────────────┤\n",
       "│ dense_96 (\u001B[38;5;33mDense\u001B[0m)                │ (\u001B[38;5;45mNone\u001B[0m, \u001B[38;5;34m4\u001B[0m)              │            \u001B[38;5;34m36\u001B[0m │\n",
       "├─────────────────────────────────┼────────────────────────┼───────────────┤\n",
       "│ dense_97 (\u001B[38;5;33mDense\u001B[0m)                │ (\u001B[38;5;45mNone\u001B[0m, \u001B[38;5;34m2\u001B[0m)              │            \u001B[38;5;34m10\u001B[0m │\n",
       "├─────────────────────────────────┼────────────────────────┼───────────────┤\n",
       "│ dense_98 (\u001B[38;5;33mDense\u001B[0m)                │ (\u001B[38;5;45mNone\u001B[0m, \u001B[38;5;34m1\u001B[0m)              │             \u001B[38;5;34m3\u001B[0m │\n",
       "└─────────────────────────────────┴────────────────────────┴───────────────┘\n"
      ],
      "text/html": [
       "<pre style=\"white-space:pre;overflow-x:auto;line-height:normal;font-family:Menlo,'DejaVu Sans Mono',consolas,'Courier New',monospace\">┏━━━━━━━━━━━━━━━━━━━━━━━━━━━━━━━━━┳━━━━━━━━━━━━━━━━━━━━━━━━┳━━━━━━━━━━━━━━━┓\n",
       "┃<span style=\"font-weight: bold\"> Layer (type)                    </span>┃<span style=\"font-weight: bold\"> Output Shape           </span>┃<span style=\"font-weight: bold\">       Param # </span>┃\n",
       "┡━━━━━━━━━━━━━━━━━━━━━━━━━━━━━━━━━╇━━━━━━━━━━━━━━━━━━━━━━━━╇━━━━━━━━━━━━━━━┩\n",
       "│ input_layer_15 (<span style=\"color: #0087ff; text-decoration-color: #0087ff\">InputLayer</span>)     │ (<span style=\"color: #00d7ff; text-decoration-color: #00d7ff\">None</span>, <span style=\"color: #00af00; text-decoration-color: #00af00\">2</span>)              │             <span style=\"color: #00af00; text-decoration-color: #00af00\">0</span> │\n",
       "├─────────────────────────────────┼────────────────────────┼───────────────┤\n",
       "│ dense_92 (<span style=\"color: #0087ff; text-decoration-color: #0087ff\">Dense</span>)                │ (<span style=\"color: #00d7ff; text-decoration-color: #00d7ff\">None</span>, <span style=\"color: #00af00; text-decoration-color: #00af00\">4</span>)              │            <span style=\"color: #00af00; text-decoration-color: #00af00\">12</span> │\n",
       "├─────────────────────────────────┼────────────────────────┼───────────────┤\n",
       "│ dense_93 (<span style=\"color: #0087ff; text-decoration-color: #0087ff\">Dense</span>)                │ (<span style=\"color: #00d7ff; text-decoration-color: #00d7ff\">None</span>, <span style=\"color: #00af00; text-decoration-color: #00af00\">8</span>)              │            <span style=\"color: #00af00; text-decoration-color: #00af00\">40</span> │\n",
       "├─────────────────────────────────┼────────────────────────┼───────────────┤\n",
       "│ dense_94 (<span style=\"color: #0087ff; text-decoration-color: #0087ff\">Dense</span>)                │ (<span style=\"color: #00d7ff; text-decoration-color: #00d7ff\">None</span>, <span style=\"color: #00af00; text-decoration-color: #00af00\">16</span>)             │           <span style=\"color: #00af00; text-decoration-color: #00af00\">144</span> │\n",
       "├─────────────────────────────────┼────────────────────────┼───────────────┤\n",
       "│ dense_95 (<span style=\"color: #0087ff; text-decoration-color: #0087ff\">Dense</span>)                │ (<span style=\"color: #00d7ff; text-decoration-color: #00d7ff\">None</span>, <span style=\"color: #00af00; text-decoration-color: #00af00\">8</span>)              │           <span style=\"color: #00af00; text-decoration-color: #00af00\">136</span> │\n",
       "├─────────────────────────────────┼────────────────────────┼───────────────┤\n",
       "│ dense_96 (<span style=\"color: #0087ff; text-decoration-color: #0087ff\">Dense</span>)                │ (<span style=\"color: #00d7ff; text-decoration-color: #00d7ff\">None</span>, <span style=\"color: #00af00; text-decoration-color: #00af00\">4</span>)              │            <span style=\"color: #00af00; text-decoration-color: #00af00\">36</span> │\n",
       "├─────────────────────────────────┼────────────────────────┼───────────────┤\n",
       "│ dense_97 (<span style=\"color: #0087ff; text-decoration-color: #0087ff\">Dense</span>)                │ (<span style=\"color: #00d7ff; text-decoration-color: #00d7ff\">None</span>, <span style=\"color: #00af00; text-decoration-color: #00af00\">2</span>)              │            <span style=\"color: #00af00; text-decoration-color: #00af00\">10</span> │\n",
       "├─────────────────────────────────┼────────────────────────┼───────────────┤\n",
       "│ dense_98 (<span style=\"color: #0087ff; text-decoration-color: #0087ff\">Dense</span>)                │ (<span style=\"color: #00d7ff; text-decoration-color: #00d7ff\">None</span>, <span style=\"color: #00af00; text-decoration-color: #00af00\">1</span>)              │             <span style=\"color: #00af00; text-decoration-color: #00af00\">3</span> │\n",
       "└─────────────────────────────────┴────────────────────────┴───────────────┘\n",
       "</pre>\n"
      ]
     },
     "metadata": {},
     "output_type": "display_data"
    },
    {
     "data": {
      "text/plain": [
       "\u001B[1m Total params: \u001B[0m\u001B[38;5;34m764\u001B[0m (2.99 KB)\n"
      ],
      "text/html": [
       "<pre style=\"white-space:pre;overflow-x:auto;line-height:normal;font-family:Menlo,'DejaVu Sans Mono',consolas,'Courier New',monospace\"><span style=\"font-weight: bold\"> Total params: </span><span style=\"color: #00af00; text-decoration-color: #00af00\">764</span> (2.99 KB)\n",
       "</pre>\n"
      ]
     },
     "metadata": {},
     "output_type": "display_data"
    },
    {
     "data": {
      "text/plain": [
       "\u001B[1m Trainable params: \u001B[0m\u001B[38;5;34m381\u001B[0m (1.49 KB)\n"
      ],
      "text/html": [
       "<pre style=\"white-space:pre;overflow-x:auto;line-height:normal;font-family:Menlo,'DejaVu Sans Mono',consolas,'Courier New',monospace\"><span style=\"font-weight: bold\"> Trainable params: </span><span style=\"color: #00af00; text-decoration-color: #00af00\">381</span> (1.49 KB)\n",
       "</pre>\n"
      ]
     },
     "metadata": {},
     "output_type": "display_data"
    },
    {
     "data": {
      "text/plain": [
       "\u001B[1m Non-trainable params: \u001B[0m\u001B[38;5;34m0\u001B[0m (0.00 B)\n"
      ],
      "text/html": [
       "<pre style=\"white-space:pre;overflow-x:auto;line-height:normal;font-family:Menlo,'DejaVu Sans Mono',consolas,'Courier New',monospace\"><span style=\"font-weight: bold\"> Non-trainable params: </span><span style=\"color: #00af00; text-decoration-color: #00af00\">0</span> (0.00 B)\n",
       "</pre>\n"
      ]
     },
     "metadata": {},
     "output_type": "display_data"
    },
    {
     "data": {
      "text/plain": [
       "\u001B[1m Optimizer params: \u001B[0m\u001B[38;5;34m383\u001B[0m (1.50 KB)\n"
      ],
      "text/html": [
       "<pre style=\"white-space:pre;overflow-x:auto;line-height:normal;font-family:Menlo,'DejaVu Sans Mono',consolas,'Courier New',monospace\"><span style=\"font-weight: bold\"> Optimizer params: </span><span style=\"color: #00af00; text-decoration-color: #00af00\">383</span> (1.50 KB)\n",
       "</pre>\n"
      ]
     },
     "metadata": {},
     "output_type": "display_data"
    }
   ],
   "execution_count": 96
  },
  {
   "metadata": {
    "ExecuteTime": {
     "end_time": "2024-05-13T08:00:33.639013Z",
     "start_time": "2024-05-13T08:00:33.347106Z"
    }
   },
   "cell_type": "code",
   "source": [
    "# 5\n",
    "predicted=model_forcast.predict(x_forcast)\n",
    "plt.figure()\n",
    "plt.plot(range(0,len(forcastDemo)), y_forcast_norm, 'o-', label = 'Original')\n",
    "plt.plot(range(0,len(forcastDemo)), predicted[:,0], 'o-', label = 'Predicted')\n",
    "plt.xlabel('Quarter')\n",
    "plt.ylabel('Revenue (EUR)')\n",
    "plt.title('Original vs Predicted Revenue')\n",
    "plt.legend()\n",
    "plt.show()"
   ],
   "id": "a71333c9a780b90f",
   "outputs": [
    {
     "name": "stdout",
     "output_type": "stream",
     "text": [
      "\u001B[1m1/1\u001B[0m \u001B[32m━━━━━━━━━━━━━━━━━━━━\u001B[0m\u001B[37m\u001B[0m \u001B[1m0s\u001B[0m 29ms/step\n"
     ]
    },
    {
     "data": {
      "text/plain": [
       "<Figure size 640x480 with 1 Axes>"
      ],
      "image/png": "[encoded data removed]"
     },
     "metadata": {},
     "output_type": "display_data"
    }
   ],
   "execution_count": 107
  },
  {
   "metadata": {},
   "cell_type": "markdown",
   "source": [
    "### Question 5: Iris\n",
    "- Load the iris dataset (`iris.csv`) and study its contents.\n",
    "- Determine which columns we cannot use in this prediction?\n",
    "- Now create an input data set `x_iris` and normalize it. Try one of the normalization techniques that you have not yet used in an exercise or assignment.\n",
    "- Create a training data set and a test data set (`x_train_iris` and `x_test_iris`) consisting of `80%` and `20%` (randomly chosen) of the input data set `x_iris` respectively.\n",
    "- Create a neural network with the correct inputs and outputs.\n",
    "- Evaluate your neural network on your test data set (`x_test_iris`). What accuracy do you achieve?\n",
    "\n",
    "**Name of Columns**: `sepal length` `sepal width` `petal length` `petal width` `target`"
   ],
   "id": "85679458cdb42976"
  },
  {
   "metadata": {
    "ExecuteTime": {
     "end_time": "2024-05-13T08:00:38.559633Z",
     "start_time": "2024-05-13T08:00:38.545966Z"
    }
   },
   "cell_type": "code",
   "source": [
    "# 1\n",
    "iris = pd.read_csv('../Data/Iris.csv', delimiter=',', decimal='.')\n",
    "display(iris.head())"
   ],
   "id": "19b20b97f96e8fcb",
   "outputs": [
    {
     "data": {
      "text/plain": [
       "   sepal length  sepal width  petal length  petal width       target\n",
       "0           5.1          3.5           1.4          0.2  Iris-setosa\n",
       "1           4.9          3.0           1.4          0.2  Iris-setosa\n",
       "2           4.7          3.2           1.3          0.2  Iris-setosa\n",
       "3           4.6          3.1           1.5          0.2  Iris-setosa\n",
       "4           5.0          3.6           1.4          0.2  Iris-setosa"
      ],
      "text/html": [
       "<div>\n",
       "<style scoped>\n",
       "    .dataframe tbody tr th:only-of-type {\n",
       "        vertical-align: middle;\n",
       "    }\n",
       "\n",
       "    .dataframe tbody tr th {\n",
       "        vertical-align: top;\n",
       "    }\n",
       "\n",
       "    .dataframe thead th {\n",
       "        text-align: right;\n",
       "    }\n",
       "</style>\n",
       "<table border=\"1\" class=\"dataframe\">\n",
       "  <thead>\n",
       "    <tr style=\"text-align: right;\">\n",
       "      <th></th>\n",
       "      <th>sepal length</th>\n",
       "      <th>sepal width</th>\n",
       "      <th>petal length</th>\n",
       "      <th>petal width</th>\n",
       "      <th>target</th>\n",
       "    </tr>\n",
       "  </thead>\n",
       "  <tbody>\n",
       "    <tr>\n",
       "      <th>0</th>\n",
       "      <td>5.1</td>\n",
       "      <td>3.5</td>\n",
       "      <td>1.4</td>\n",
       "      <td>0.2</td>\n",
       "      <td>Iris-setosa</td>\n",
       "    </tr>\n",
       "    <tr>\n",
       "      <th>1</th>\n",
       "      <td>4.9</td>\n",
       "      <td>3.0</td>\n",
       "      <td>1.4</td>\n",
       "      <td>0.2</td>\n",
       "      <td>Iris-setosa</td>\n",
       "    </tr>\n",
       "    <tr>\n",
       "      <th>2</th>\n",
       "      <td>4.7</td>\n",
       "      <td>3.2</td>\n",
       "      <td>1.3</td>\n",
       "      <td>0.2</td>\n",
       "      <td>Iris-setosa</td>\n",
       "    </tr>\n",
       "    <tr>\n",
       "      <th>3</th>\n",
       "      <td>4.6</td>\n",
       "      <td>3.1</td>\n",
       "      <td>1.5</td>\n",
       "      <td>0.2</td>\n",
       "      <td>Iris-setosa</td>\n",
       "    </tr>\n",
       "    <tr>\n",
       "      <th>4</th>\n",
       "      <td>5.0</td>\n",
       "      <td>3.6</td>\n",
       "      <td>1.4</td>\n",
       "      <td>0.2</td>\n",
       "      <td>Iris-setosa</td>\n",
       "    </tr>\n",
       "  </tbody>\n",
       "</table>\n",
       "</div>"
      ]
     },
     "metadata": {},
     "output_type": "display_data"
    }
   ],
   "execution_count": 108
  },
  {
   "metadata": {
    "ExecuteTime": {
     "end_time": "2024-05-13T08:00:40.170224Z",
     "start_time": "2024-05-13T08:00:40.157734Z"
    }
   },
   "cell_type": "code",
   "source": [
    "# 2\n",
    "print(\"We can't use the column 'target' in this prediction. It's a string.\")"
   ],
   "id": "294870fa137e7cf1",
   "outputs": [
    {
     "name": "stdout",
     "output_type": "stream",
     "text": [
      "We can't use the column 'target' in this prediction. It's a string.\n"
     ]
    }
   ],
   "execution_count": 109
  },
  {
   "metadata": {
    "ExecuteTime": {
     "end_time": "2024-05-13T08:21:24.197076Z",
     "start_time": "2024-05-13T08:21:24.183069Z"
    }
   },
   "cell_type": "code",
   "source": [
    "# 3\n",
    "x_iris = iris[['sepal length', 'sepal width', 'petal length', 'petal width']]                                       # Get the input\n",
    "y_iris = iris[['target']]                                                                                           # Get the output\n",
    "\n",
    "x_iris_norm = (x_iris - x_iris.min()) / (x_iris.max() - x_iris.min())                                               # Normalization of the input\n",
    "y_iris_rep = y_iris.replace(to_replace=['Iris-setosa', 'Iris-versicolor', 'Iris-virginica'], value=[0, 1, 2])       # Replace the output\n",
    "y_iris_cat = to_categorical(y_iris_rep)                                                                             # One-hot encoding"
   ],
   "id": "d1d2457912bcfb48",
   "outputs": [],
   "execution_count": 140
  },
  {
   "metadata": {
    "ExecuteTime": {
     "end_time": "2024-05-13T08:21:25.291583Z",
     "start_time": "2024-05-13T08:21:25.262987Z"
    }
   },
   "cell_type": "code",
   "source": [
    "# 3\n",
    "x_train_iris, x_test_iris, y_train_iris, y_test_iris = train_test_split(x_iris_norm, y_iris_cat, test_size=0.2)     # Split the data\n",
    "display(x_train_iris.head()) # 80%\n",
    "display(x_test_iris.head())  # 20%"
   ],
   "id": "f94e5289aa0d6a56",
   "outputs": [
    {
     "data": {
      "text/plain": [
       "     sepal length  sepal width  petal length  petal width\n",
       "80       0.333333     0.166667      0.474576     0.416667\n",
       "11       0.138889     0.583333      0.101695     0.041667\n",
       "117      0.944444     0.750000      0.966102     0.875000\n",
       "40       0.194444     0.625000      0.050847     0.083333\n",
       "85       0.472222     0.583333      0.593220     0.625000"
      ],
      "text/html": [
       "<div>\n",
       "<style scoped>\n",
       "    .dataframe tbody tr th:only-of-type {\n",
       "        vertical-align: middle;\n",
       "    }\n",
       "\n",
       "    .dataframe tbody tr th {\n",
       "        vertical-align: top;\n",
       "    }\n",
       "\n",
       "    .dataframe thead th {\n",
       "        text-align: right;\n",
       "    }\n",
       "</style>\n",
       "<table border=\"1\" class=\"dataframe\">\n",
       "  <thead>\n",
       "    <tr style=\"text-align: right;\">\n",
       "      <th></th>\n",
       "      <th>sepal length</th>\n",
       "      <th>sepal width</th>\n",
       "      <th>petal length</th>\n",
       "      <th>petal width</th>\n",
       "    </tr>\n",
       "  </thead>\n",
       "  <tbody>\n",
       "    <tr>\n",
       "      <th>80</th>\n",
       "      <td>0.333333</td>\n",
       "      <td>0.166667</td>\n",
       "      <td>0.474576</td>\n",
       "      <td>0.416667</td>\n",
       "    </tr>\n",
       "    <tr>\n",
       "      <th>11</th>\n",
       "      <td>0.138889</td>\n",
       "      <td>0.583333</td>\n",
       "      <td>0.101695</td>\n",
       "      <td>0.041667</td>\n",
       "    </tr>\n",
       "    <tr>\n",
       "      <th>117</th>\n",
       "      <td>0.944444</td>\n",
       "      <td>0.750000</td>\n",
       "      <td>0.966102</td>\n",
       "      <td>0.875000</td>\n",
       "    </tr>\n",
       "    <tr>\n",
       "      <th>40</th>\n",
       "      <td>0.194444</td>\n",
       "      <td>0.625000</td>\n",
       "      <td>0.050847</td>\n",
       "      <td>0.083333</td>\n",
       "    </tr>\n",
       "    <tr>\n",
       "      <th>85</th>\n",
       "      <td>0.472222</td>\n",
       "      <td>0.583333</td>\n",
       "      <td>0.593220</td>\n",
       "      <td>0.625000</td>\n",
       "    </tr>\n",
       "  </tbody>\n",
       "</table>\n",
       "</div>"
      ]
     },
     "metadata": {},
     "output_type": "display_data"
    },
    {
     "data": {
      "text/plain": [
       "     sepal length  sepal width  petal length  petal width\n",
       "109      0.805556     0.666667      0.864407     1.000000\n",
       "50       0.750000     0.500000      0.627119     0.541667\n",
       "102      0.777778     0.416667      0.830508     0.833333\n",
       "42       0.027778     0.500000      0.050847     0.041667\n",
       "125      0.805556     0.500000      0.847458     0.708333"
      ],
      "text/html": [
       "<div>\n",
       "<style scoped>\n",
       "    .dataframe tbody tr th:only-of-type {\n",
       "        vertical-align: middle;\n",
       "    }\n",
       "\n",
       "    .dataframe tbody tr th {\n",
       "        vertical-align: top;\n",
       "    }\n",
       "\n",
       "    .dataframe thead th {\n",
       "        text-align: right;\n",
       "    }\n",
       "</style>\n",
       "<table border=\"1\" class=\"dataframe\">\n",
       "  <thead>\n",
       "    <tr style=\"text-align: right;\">\n",
       "      <th></th>\n",
       "      <th>sepal length</th>\n",
       "      <th>sepal width</th>\n",
       "      <th>petal length</th>\n",
       "      <th>petal width</th>\n",
       "    </tr>\n",
       "  </thead>\n",
       "  <tbody>\n",
       "    <tr>\n",
       "      <th>109</th>\n",
       "      <td>0.805556</td>\n",
       "      <td>0.666667</td>\n",
       "      <td>0.864407</td>\n",
       "      <td>1.000000</td>\n",
       "    </tr>\n",
       "    <tr>\n",
       "      <th>50</th>\n",
       "      <td>0.750000</td>\n",
       "      <td>0.500000</td>\n",
       "      <td>0.627119</td>\n",
       "      <td>0.541667</td>\n",
       "    </tr>\n",
       "    <tr>\n",
       "      <th>102</th>\n",
       "      <td>0.777778</td>\n",
       "      <td>0.416667</td>\n",
       "      <td>0.830508</td>\n",
       "      <td>0.833333</td>\n",
       "    </tr>\n",
       "    <tr>\n",
       "      <th>42</th>\n",
       "      <td>0.027778</td>\n",
       "      <td>0.500000</td>\n",
       "      <td>0.050847</td>\n",
       "      <td>0.041667</td>\n",
       "    </tr>\n",
       "    <tr>\n",
       "      <th>125</th>\n",
       "      <td>0.805556</td>\n",
       "      <td>0.500000</td>\n",
       "      <td>0.847458</td>\n",
       "      <td>0.708333</td>\n",
       "    </tr>\n",
       "  </tbody>\n",
       "</table>\n",
       "</div>"
      ]
     },
     "metadata": {},
     "output_type": "display_data"
    }
   ],
   "execution_count": 141
  },
  {
   "metadata": {
    "ExecuteTime": {
     "end_time": "2024-05-13T08:28:02.810872Z",
     "start_time": "2024-05-13T08:28:02.717147Z"
    }
   },
   "cell_type": "code",
   "source": [
    "# 4\n",
    "inputs_iris = Input(shape=(4,))\n",
    "x_ir = Dense(8, activation='sigmoid')(inputs_iris)\n",
    "x_ir = Dense(16, activation='sigmoid')(x_ir)\n",
    "x_ir = Dense(32, activation='sigmoid')(x_ir)\n",
    "x_ir = Dense(16, activation='sigmoid')(x_ir)\n",
    "x_ir = Dense(8, activation='sigmoid')(x_ir)\n",
    "outputs_iris = Dense(3, activation='softmax')(x_ir) # Activation=softmax for one-hot encoding (classification)\n",
    "\n",
    "model_iris = Model(inputs_iris, outputs_iris, name='Iris_NN')\n",
    "\n",
    "lr = 0.001  # Learning rate\n",
    "model_iris.compile(optimizer=Adam(learning_rate=lr), \n",
    "                   loss=keras.losses.categorical_crossentropy, \n",
    "                   metrics=['accuracy'])"
   ],
   "id": "8adb57861d0aa22b",
   "outputs": [],
   "execution_count": 149
  },
  {
   "metadata": {},
   "cell_type": "code",
   "source": [
    "history_iris = model_iris.fit(\n",
    "                            x_train_iris,\n",
    "                            y_train_iris,\n",
    "                            epochs=1000,\n",
    "                            callbacks=[PlotLossesKeras()],\n",
    "                            verbose=False)"
   ],
   "id": "24a8ae5954c1b835",
   "execution_count": 150,
   "outputs": [
    {
     "name": "stdout",
     "output_type": "stream",
     "text": [
      "accuracy\n",
      "\taccuracy         \t (min:    0.275, max:    0.992, cur:    0.992)\n",
      "Loss\n",
      "\tloss             \t (min:    0.030, max:    1.155, cur:    0.031)\n"
     ]
    }
   ]
  },
  {
   "metadata": {
    "ExecuteTime": {
     "end_time": "2024-05-13T08:37:42.718921Z",
     "start_time": "2024-05-13T08:37:42.698382Z"
    }
   },
   "cell_type": "code",
   "source": "model_iris.summary()",
   "id": "e2d9618a28ee7a0",
   "outputs": [
    {
     "data": {
      "text/plain": [
       "\u001B[1mModel: \"Iris_NN\"\u001B[0m\n"
      ],
      "text/html": [
       "<pre style=\"white-space:pre;overflow-x:auto;line-height:normal;font-family:Menlo,'DejaVu Sans Mono',consolas,'Courier New',monospace\"><span style=\"font-weight: bold\">Model: \"Iris_NN\"</span>\n",
       "</pre>\n"
      ]
     },
     "metadata": {},
     "output_type": "display_data"
    },
    {
     "data": {
      "text/plain": [
       "┏━━━━━━━━━━━━━━━━━━━━━━━━━━━━━━━━━┳━━━━━━━━━━━━━━━━━━━━━━━━┳━━━━━━━━━━━━━━━┓\n",
       "┃\u001B[1m \u001B[0m\u001B[1mLayer (type)                   \u001B[0m\u001B[1m \u001B[0m┃\u001B[1m \u001B[0m\u001B[1mOutput Shape          \u001B[0m\u001B[1m \u001B[0m┃\u001B[1m \u001B[0m\u001B[1m      Param #\u001B[0m\u001B[1m \u001B[0m┃\n",
       "┡━━━━━━━━━━━━━━━━━━━━━━━━━━━━━━━━━╇━━━━━━━━━━━━━━━━━━━━━━━━╇━━━━━━━━━━━━━━━┩\n",
       "│ input_layer_24 (\u001B[38;5;33mInputLayer\u001B[0m)     │ (\u001B[38;5;45mNone\u001B[0m, \u001B[38;5;34m4\u001B[0m)              │             \u001B[38;5;34m0\u001B[0m │\n",
       "├─────────────────────────────────┼────────────────────────┼───────────────┤\n",
       "│ dense_147 (\u001B[38;5;33mDense\u001B[0m)               │ (\u001B[38;5;45mNone\u001B[0m, \u001B[38;5;34m8\u001B[0m)              │            \u001B[38;5;34m40\u001B[0m │\n",
       "├─────────────────────────────────┼────────────────────────┼───────────────┤\n",
       "│ dense_148 (\u001B[38;5;33mDense\u001B[0m)               │ (\u001B[38;5;45mNone\u001B[0m, \u001B[38;5;34m16\u001B[0m)             │           \u001B[38;5;34m144\u001B[0m │\n",
       "├─────────────────────────────────┼────────────────────────┼───────────────┤\n",
       "│ dense_149 (\u001B[38;5;33mDense\u001B[0m)               │ (\u001B[38;5;45mNone\u001B[0m, \u001B[38;5;34m32\u001B[0m)             │           \u001B[38;5;34m544\u001B[0m │\n",
       "├─────────────────────────────────┼────────────────────────┼───────────────┤\n",
       "│ dense_150 (\u001B[38;5;33mDense\u001B[0m)               │ (\u001B[38;5;45mNone\u001B[0m, \u001B[38;5;34m16\u001B[0m)             │           \u001B[38;5;34m528\u001B[0m │\n",
       "├─────────────────────────────────┼────────────────────────┼───────────────┤\n",
       "│ dense_151 (\u001B[38;5;33mDense\u001B[0m)               │ (\u001B[38;5;45mNone\u001B[0m, \u001B[38;5;34m8\u001B[0m)              │           \u001B[38;5;34m136\u001B[0m │\n",
       "├─────────────────────────────────┼────────────────────────┼───────────────┤\n",
       "│ dense_152 (\u001B[38;5;33mDense\u001B[0m)               │ (\u001B[38;5;45mNone\u001B[0m, \u001B[38;5;34m3\u001B[0m)              │            \u001B[38;5;34m27\u001B[0m │\n",
       "└─────────────────────────────────┴────────────────────────┴───────────────┘\n"
      ],
      "text/html": [
       "<pre style=\"white-space:pre;overflow-x:auto;line-height:normal;font-family:Menlo,'DejaVu Sans Mono',consolas,'Courier New',monospace\">┏━━━━━━━━━━━━━━━━━━━━━━━━━━━━━━━━━┳━━━━━━━━━━━━━━━━━━━━━━━━┳━━━━━━━━━━━━━━━┓\n",
       "┃<span style=\"font-weight: bold\"> Layer (type)                    </span>┃<span style=\"font-weight: bold\"> Output Shape           </span>┃<span style=\"font-weight: bold\">       Param # </span>┃\n",
       "┡━━━━━━━━━━━━━━━━━━━━━━━━━━━━━━━━━╇━━━━━━━━━━━━━━━━━━━━━━━━╇━━━━━━━━━━━━━━━┩\n",
       "│ input_layer_24 (<span style=\"color: #0087ff; text-decoration-color: #0087ff\">InputLayer</span>)     │ (<span style=\"color: #00d7ff; text-decoration-color: #00d7ff\">None</span>, <span style=\"color: #00af00; text-decoration-color: #00af00\">4</span>)              │             <span style=\"color: #00af00; text-decoration-color: #00af00\">0</span> │\n",
       "├─────────────────────────────────┼────────────────────────┼───────────────┤\n",
       "│ dense_147 (<span style=\"color: #0087ff; text-decoration-color: #0087ff\">Dense</span>)               │ (<span style=\"color: #00d7ff; text-decoration-color: #00d7ff\">None</span>, <span style=\"color: #00af00; text-decoration-color: #00af00\">8</span>)              │            <span style=\"color: #00af00; text-decoration-color: #00af00\">40</span> │\n",
       "├─────────────────────────────────┼────────────────────────┼───────────────┤\n",
       "│ dense_148 (<span style=\"color: #0087ff; text-decoration-color: #0087ff\">Dense</span>)               │ (<span style=\"color: #00d7ff; text-decoration-color: #00d7ff\">None</span>, <span style=\"color: #00af00; text-decoration-color: #00af00\">16</span>)             │           <span style=\"color: #00af00; text-decoration-color: #00af00\">144</span> │\n",
       "├─────────────────────────────────┼────────────────────────┼───────────────┤\n",
       "│ dense_149 (<span style=\"color: #0087ff; text-decoration-color: #0087ff\">Dense</span>)               │ (<span style=\"color: #00d7ff; text-decoration-color: #00d7ff\">None</span>, <span style=\"color: #00af00; text-decoration-color: #00af00\">32</span>)             │           <span style=\"color: #00af00; text-decoration-color: #00af00\">544</span> │\n",
       "├─────────────────────────────────┼────────────────────────┼───────────────┤\n",
       "│ dense_150 (<span style=\"color: #0087ff; text-decoration-color: #0087ff\">Dense</span>)               │ (<span style=\"color: #00d7ff; text-decoration-color: #00d7ff\">None</span>, <span style=\"color: #00af00; text-decoration-color: #00af00\">16</span>)             │           <span style=\"color: #00af00; text-decoration-color: #00af00\">528</span> │\n",
       "├─────────────────────────────────┼────────────────────────┼───────────────┤\n",
       "│ dense_151 (<span style=\"color: #0087ff; text-decoration-color: #0087ff\">Dense</span>)               │ (<span style=\"color: #00d7ff; text-decoration-color: #00d7ff\">None</span>, <span style=\"color: #00af00; text-decoration-color: #00af00\">8</span>)              │           <span style=\"color: #00af00; text-decoration-color: #00af00\">136</span> │\n",
       "├─────────────────────────────────┼────────────────────────┼───────────────┤\n",
       "│ dense_152 (<span style=\"color: #0087ff; text-decoration-color: #0087ff\">Dense</span>)               │ (<span style=\"color: #00d7ff; text-decoration-color: #00d7ff\">None</span>, <span style=\"color: #00af00; text-decoration-color: #00af00\">3</span>)              │            <span style=\"color: #00af00; text-decoration-color: #00af00\">27</span> │\n",
       "└─────────────────────────────────┴────────────────────────┴───────────────┘\n",
       "</pre>\n"
      ]
     },
     "metadata": {},
     "output_type": "display_data"
    },
    {
     "data": {
      "text/plain": [
       "\u001B[1m Total params: \u001B[0m\u001B[38;5;34m4,259\u001B[0m (16.64 KB)\n"
      ],
      "text/html": [
       "<pre style=\"white-space:pre;overflow-x:auto;line-height:normal;font-family:Menlo,'DejaVu Sans Mono',consolas,'Courier New',monospace\"><span style=\"font-weight: bold\"> Total params: </span><span style=\"color: #00af00; text-decoration-color: #00af00\">4,259</span> (16.64 KB)\n",
       "</pre>\n"
      ]
     },
     "metadata": {},
     "output_type": "display_data"
    },
    {
     "data": {
      "text/plain": [
       "\u001B[1m Trainable params: \u001B[0m\u001B[38;5;34m1,419\u001B[0m (5.54 KB)\n"
      ],
      "text/html": [
       "<pre style=\"white-space:pre;overflow-x:auto;line-height:normal;font-family:Menlo,'DejaVu Sans Mono',consolas,'Courier New',monospace\"><span style=\"font-weight: bold\"> Trainable params: </span><span style=\"color: #00af00; text-decoration-color: #00af00\">1,419</span> (5.54 KB)\n",
       "</pre>\n"
      ]
     },
     "metadata": {},
     "output_type": "display_data"
    },
    {
     "data": {
      "text/plain": [
       "\u001B[1m Non-trainable params: \u001B[0m\u001B[38;5;34m0\u001B[0m (0.00 B)\n"
      ],
      "text/html": [
       "<pre style=\"white-space:pre;overflow-x:auto;line-height:normal;font-family:Menlo,'DejaVu Sans Mono',consolas,'Courier New',monospace\"><span style=\"font-weight: bold\"> Non-trainable params: </span><span style=\"color: #00af00; text-decoration-color: #00af00\">0</span> (0.00 B)\n",
       "</pre>\n"
      ]
     },
     "metadata": {},
     "output_type": "display_data"
    },
    {
     "data": {
      "text/plain": [
       "\u001B[1m Optimizer params: \u001B[0m\u001B[38;5;34m2,840\u001B[0m (11.10 KB)\n"
      ],
      "text/html": [
       "<pre style=\"white-space:pre;overflow-x:auto;line-height:normal;font-family:Menlo,'DejaVu Sans Mono',consolas,'Courier New',monospace\"><span style=\"font-weight: bold\"> Optimizer params: </span><span style=\"color: #00af00; text-decoration-color: #00af00\">2,840</span> (11.10 KB)\n",
       "</pre>\n"
      ]
     },
     "metadata": {},
     "output_type": "display_data"
    }
   ],
   "execution_count": 151
  },
  {
   "metadata": {
    "ExecuteTime": {
     "end_time": "2024-05-13T08:37:59.772521Z",
     "start_time": "2024-05-13T08:37:59.693934Z"
    }
   },
   "cell_type": "code",
   "source": [
    "# 5\n",
    "accuracy = model_iris.evaluate(x_test_iris, y_test_iris)\n",
    "print(f\"Accuracy on test data in percentage: {accuracy[1]*100}\")\n",
    "\n",
    "if accuracy[1] > 0.9:\n",
    "    print(\"The Artificial Neural Network is performing well.\")\n",
    "else:\n",
    "    print(\"The Artificial Neural Network is not performing well.\")"
   ],
   "id": "217ead9c337d2ed6",
   "outputs": [
    {
     "name": "stdout",
     "output_type": "stream",
     "text": [
      "\u001B[1m1/1\u001B[0m \u001B[32m━━━━━━━━━━━━━━━━━━━━\u001B[0m\u001B[37m\u001B[0m \u001B[1m0s\u001B[0m 25ms/step - accuracy: 0.9667 - loss: 0.1416\n",
      "Accuracy on test data in percentage: 96.66666388511658\n",
      "The Artificial Neural Network is performing well.\n"
     ]
    }
   ],
   "execution_count": 153
  }
 ],
 "metadata": {
  "kernelspec": {
   "display_name": "Python 3",
   "language": "python",
   "name": "python3"
  },
  "language_info": {
   "codemirror_mode": {
    "name": "ipython",
    "version": 2
   },
   "file_extension": ".py",
   "mimetype": "text/x-python",
   "name": "python",
   "nbconvert_exporter": "python",
   "pygments_lexer": "ipython2",
   "version": "2.7.6"
  }
 },
 "nbformat": 4,
 "nbformat_minor": 5
}

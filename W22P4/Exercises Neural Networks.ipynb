{
 "cells": [
  {
   "cell_type": "markdown",
   "source": "# Exercises Neural Networks",
   "metadata": {
    "collapsed": false
   },
   "id": "fc11ae5046d6cd48"
  },
  {
   "cell_type": "code",
   "source": [
    "from termcolor import colored # type: ignore                                          # Colored text\n",
    "from random import Random  # type: ignore                                             # Random number generator\n",
    "import math  # type: ignore                                                           # Mathematical functions\n",
    "import pandas as pd  # type: ignore                                                   # Data manipulation\n",
    "import numpy as np  # type: ignore                                                    # Scientific computing\n",
    "import matplotlib.pyplot as plt  # type: ignore                                       # Data visualization\n",
    "from scipy.stats import binom as binomial  # type: ignore                             # Binomial distribution\n",
    "from scipy.stats import norm as normal  # type: ignore                                # Normal distribution\n",
    "from scipy.stats import poisson as poisson  # type: ignore                            # Poisson distribution\n",
    "from scipy.stats import t as student  # type: ignore                                  # Student distribution\n",
    "from scipy.stats import chi2  # type: ignore                                          # Chi-squared distribution\n",
    "from scipy.stats import ttest_1samp  # type: ignore                                   # One-sample t-test\n",
    "from scipy.stats import chisquare  # type: ignore                                     # Chi-squared test\n",
    "from scipy.special import comb  # type: ignore                                        # Combinations\n",
    "from mlxtend.frequent_patterns import apriori  # type: ignore                         # Apriori algorithm\n",
    "from mlxtend.frequent_patterns import fpgrowth  # type: ignore                        # FP-growth algorithm\n",
    "from mlxtend.frequent_patterns import association_rules  # type: ignore               # Association rules\n",
    "from mlxtend.preprocessing import TransactionEncoder  # type: ignore                  # Transaction encoder\n",
    "from sklearn.discriminant_analysis import LinearDiscriminantAnalysis  # type: ignore  # Discriminant Analysis\n",
    "from tensorflow import keras  # type: ignore                                          # Deep Learning library\n",
    "from tensorflow.keras import Model  # type: ignore                                    # Model class\n",
    "from tensorflow.keras.layers import Input, Dense, BatchNormalization  # type: ignore  # Layers\n",
    "from tensorflow.keras.utils import to_categorical  # type: ignore                     # One-hot encoding\n",
    "from tensorflow.keras.optimizers import Adam  # type: ignore                          # Optimizer\n",
    "from livelossplot import PlotLossesKeras  # type: ignore                              # Live plot\n",
    "from keras.src.optimizers import RMSprop  # type: ignore                              # Optimizer\n",
    "from sklearn.model_selection import train_test_split  # type: ignore                  # Train-test split\n",
    "from sklearn.metrics import roc_auc_score # type: ignore                              # ROC AUC score\n",
    "from simanneal import Annealer  # type: ignore                                        # Simulated Annealing\n",
    "from inspyred import ec  # type: ignore                                               # Evolutionary Computation\n",
    "import warnings  # type: ignore                                                       # Disable warnings\n",
    "from Resources.Functions import *  # type: ignore                                     # Custom functions\n",
    "warnings.filterwarnings(\"ignore\")                                                     # Disable warnings\n",
    "outputColor = \"blue\"                                                                  # Color for the output"
   ],
   "metadata": {
    "collapsed": false,
    "ExecuteTime": {
     "end_time": "2024-05-30T16:22:12.549134Z",
     "start_time": "2024-05-30T16:22:12.525155Z"
    }
   },
   "id": "1796a7e3a7232f25",
   "outputs": [],
   "execution_count": 49
  },
  {
   "metadata": {},
   "cell_type": "markdown",
   "source": [
    "# Guidelines\n",
    "1. Activation function for hidden layers: relu or sigmoid are popular.\n",
    "2. Activation function for the output layer:\n",
    "    - Classification with one-hot encoding: softmax (provides probabilities for each output summing to 1).\n",
    "    - Classification with 2 classes and 1 output: sigmoid (provides 1 probability). PS: One-hot encoding can also be used for 2 classes (then you have 2 outputs).\n",
    "    - Regression: linear.\n",
    "3. Backpropagation algorithm: Adam is popular (learning_rate indicates how much the weights/biases are adjusted).\n",
    "4. Loss function:\n",
    "    - Classification with one-hot encoding: `categorical_crossentropy` (a type of distance between probabilities).\n",
    "    - Classification with 2 classes and 1 output: `binary_crossentropy`.\n",
    "    - Regression: `MeanSquaredError` or `MeanAbsoluteError`.\n",
    "5. Metrics can be optionally added.\n",
    "6. Epochs: Number of times you iterate over the entire training dataset.\n",
    "7. Batch size: Size of the batch (default is 32) after which backpropagation (adjustment of weights/biases) occurs. For example, if the training dataset contains 1000 samples and the batch size is 100, there will be 10 backpropagation per epoch.\n",
    "\n",
    "|                                | Output Activation | Loss                     | Metrics                       |\n",
    "|:-------------------------------|:------------------|:-------------------------|:------------------------------|\n",
    "| Regression                     | Linear            | MeanSquaredError()       | MeanAbsolutePercentageError() |\n",
    "|                                |                   | MeanAbsoluteError()      |                               |\n",
    "| Classificatie 1 output         | Sigmoid           | Binary_crossentropy      | Accuracy                      |\n",
    "| Classificatie one-hot encoding | Softmax           | Categorical_crossentropy | Accuracy                      |\n"
   ],
   "id": "280f55c7e3a3b9ed"
  },
  {
   "metadata": {
    "ExecuteTime": {
     "end_time": "2024-05-30T16:22:12.832194Z",
     "start_time": "2024-05-30T16:22:12.799933Z"
    }
   },
   "cell_type": "code",
   "source": [
    "infoTable = pd.DataFrame({\n",
    "    \"Scenario\": [\"Binary Classification\", \"Multi-Class Classification\", \"Regression\"],\n",
    "    \"Output Activation\": [\"Sigmoid\", \"Softmax\", \"Linear\"],\n",
    "    \"Loss\": [\"binary_crossentropy\", \"categorical_crossentropy\", \"mean_squared_error\"],\n",
    "    \"Metrics\": [\"accuracy\", \"accuracy\", \"mean_squared_error\"]\n",
    "})\n",
    "\n",
    "display(infoTable)"
   ],
   "id": "4506331d2b0cbe3c",
   "outputs": [
    {
     "data": {
      "text/plain": [
       "                     Scenario Output Activation                      Loss  \\\n",
       "0       Binary Classification           Sigmoid       binary_crossentropy   \n",
       "1  Multi-Class Classification           Softmax  categorical_crossentropy   \n",
       "2                  Regression            Linear        mean_squared_error   \n",
       "\n",
       "              Metrics  \n",
       "0            accuracy  \n",
       "1            accuracy  \n",
       "2  mean_squared_error  "
      ],
      "text/html": [
       "<div>\n",
       "<style scoped>\n",
       "    .dataframe tbody tr th:only-of-type {\n",
       "        vertical-align: middle;\n",
       "    }\n",
       "\n",
       "    .dataframe tbody tr th {\n",
       "        vertical-align: top;\n",
       "    }\n",
       "\n",
       "    .dataframe thead th {\n",
       "        text-align: right;\n",
       "    }\n",
       "</style>\n",
       "<table border=\"1\" class=\"dataframe\">\n",
       "  <thead>\n",
       "    <tr style=\"text-align: right;\">\n",
       "      <th></th>\n",
       "      <th>Scenario</th>\n",
       "      <th>Output Activation</th>\n",
       "      <th>Loss</th>\n",
       "      <th>Metrics</th>\n",
       "    </tr>\n",
       "  </thead>\n",
       "  <tbody>\n",
       "    <tr>\n",
       "      <th>0</th>\n",
       "      <td>Binary Classification</td>\n",
       "      <td>Sigmoid</td>\n",
       "      <td>binary_crossentropy</td>\n",
       "      <td>accuracy</td>\n",
       "    </tr>\n",
       "    <tr>\n",
       "      <th>1</th>\n",
       "      <td>Multi-Class Classification</td>\n",
       "      <td>Softmax</td>\n",
       "      <td>categorical_crossentropy</td>\n",
       "      <td>accuracy</td>\n",
       "    </tr>\n",
       "    <tr>\n",
       "      <th>2</th>\n",
       "      <td>Regression</td>\n",
       "      <td>Linear</td>\n",
       "      <td>mean_squared_error</td>\n",
       "      <td>mean_squared_error</td>\n",
       "    </tr>\n",
       "  </tbody>\n",
       "</table>\n",
       "</div>"
      ]
     },
     "metadata": {},
     "output_type": "display_data"
    }
   ],
   "execution_count": 50
  },
  {
   "metadata": {},
   "cell_type": "markdown",
   "source": [
    "- Binary Classification:\n",
    "    - Output Activation: **Sigmoid**\n",
    "    - Loss: **Binary_crossentropy**\n",
    "    - Metrics: **Accuracy**\n",
    "\n",
    "- Multi-Class Classification:\n",
    "    - Output Activation: **Softmax**\n",
    "    - Loss: **Categorical_crossentropy**\n",
    "    - Metrics: **Accuracy**\n",
    "\n",
    "- Regression:\n",
    "    - Output Activation: **Linear** ***(no activation function)***\n",
    "    - Loss: **Mean_squared_error**\n",
    "    - Metrics: **Mean_squared_error**"
   ],
   "id": "e9e9852a4b4c9be1"
  },
  {
   "cell_type": "markdown",
   "source": [
    "## Theoretical questions\n",
    "> **Goal**: The goal is to train and neural network so that it can predict future values based on input data."
   ],
   "metadata": {
    "collapsed": false
   },
   "id": "d66cd879508e8eb4"
  },
  {
   "metadata": {},
   "cell_type": "markdown",
   "source": "### Question 0: XOR ANN (Artificial Neural Network)",
   "id": "9976ef5eea85abba"
  },
  {
   "metadata": {
    "ExecuteTime": {
     "end_time": "2024-05-30T16:22:13.049250Z",
     "start_time": "2024-05-30T16:22:12.836589Z"
    }
   },
   "cell_type": "code",
   "source": [
    "# Stap 1: Data\n",
    "xor_data = pd.DataFrame({'P1': [0,1,0,1], \n",
    "                         'P2': [0,0,1,1], \n",
    "                         'Q' : [0,1,1,0]})\n",
    "x_xor_data= xor_data[['P1', 'P2']]\n",
    "y_xor_data = xor_data[['Q']]\n",
    "                       \n",
    "# Step 2: Model\n",
    "inputs_xor = Input(shape=(2,))\n",
    "x_xor = Dense(2, activation='sigmoid')(inputs_xor) # Or relu\n",
    "outputs_xor = Dense(1, activation='sigmoid')(x_xor) # Or relu\n",
    "model_xor = Model(inputs_xor, outputs_xor, name='XOR_NN')\n",
    "\n",
    "# Step 3: Compile\n",
    "model_xor.compile(optimizer=Adam(learning_rate=0.00001), loss=keras.losses.binary_crossentropy, metrics=['accuracy'])"
   ],
   "id": "7e5cbb4bd86ed8e1",
   "outputs": [],
   "execution_count": 51
  },
  {
   "metadata": {},
   "cell_type": "code",
   "source": [
    "# Step 4: Fit\n",
    "history_xor = model_xor.fit(\n",
    "                            x_xor_data, \n",
    "                            y_xor_data, \n",
    "                            epochs=200, \n",
    "                            callbacks=[PlotLossesKeras()], \n",
    "                            verbose=False)"
   ],
   "id": "f2ae97c7747d3547",
   "execution_count": 52,
   "outputs": [
    {
     "name": "stdout",
     "output_type": "stream",
     "text": [
      "accuracy\n",
      "\taccuracy         \t (min:    0.500, max:    0.500, cur:    0.500)\n",
      "Loss\n",
      "\tloss             \t (min:    0.757, max:    0.758, cur:    0.757)\n"
     ]
    }
   ]
  },
  {
   "metadata": {
    "ExecuteTime": {
     "end_time": "2024-05-30T16:23:53.804138Z",
     "start_time": "2024-05-30T16:23:53.774297Z"
    }
   },
   "cell_type": "code",
   "source": "model_xor.summary()",
   "id": "9c2a91b1de30fe43",
   "outputs": [
    {
     "data": {
      "text/plain": [
       "\u001B[1mModel: \"XOR_NN\"\u001B[0m\n"
      ],
      "text/html": [
       "<pre style=\"white-space:pre;overflow-x:auto;line-height:normal;font-family:Menlo,'DejaVu Sans Mono',consolas,'Courier New',monospace\"><span style=\"font-weight: bold\">Model: \"XOR_NN\"</span>\n",
       "</pre>\n"
      ]
     },
     "metadata": {},
     "output_type": "display_data"
    },
    {
     "data": {
      "text/plain": [
       "┏━━━━━━━━━━━━━━━━━━━━━━━━━━━━━━━━━┳━━━━━━━━━━━━━━━━━━━━━━━━┳━━━━━━━━━━━━━━━┓\n",
       "┃\u001B[1m \u001B[0m\u001B[1mLayer (type)                   \u001B[0m\u001B[1m \u001B[0m┃\u001B[1m \u001B[0m\u001B[1mOutput Shape          \u001B[0m\u001B[1m \u001B[0m┃\u001B[1m \u001B[0m\u001B[1m      Param #\u001B[0m\u001B[1m \u001B[0m┃\n",
       "┡━━━━━━━━━━━━━━━━━━━━━━━━━━━━━━━━━╇━━━━━━━━━━━━━━━━━━━━━━━━╇━━━━━━━━━━━━━━━┩\n",
       "│ input_layer_5 (\u001B[38;5;33mInputLayer\u001B[0m)      │ (\u001B[38;5;45mNone\u001B[0m, \u001B[38;5;34m2\u001B[0m)              │             \u001B[38;5;34m0\u001B[0m │\n",
       "├─────────────────────────────────┼────────────────────────┼───────────────┤\n",
       "│ dense_27 (\u001B[38;5;33mDense\u001B[0m)                │ (\u001B[38;5;45mNone\u001B[0m, \u001B[38;5;34m2\u001B[0m)              │             \u001B[38;5;34m6\u001B[0m │\n",
       "├─────────────────────────────────┼────────────────────────┼───────────────┤\n",
       "│ dense_28 (\u001B[38;5;33mDense\u001B[0m)                │ (\u001B[38;5;45mNone\u001B[0m, \u001B[38;5;34m1\u001B[0m)              │             \u001B[38;5;34m3\u001B[0m │\n",
       "└─────────────────────────────────┴────────────────────────┴───────────────┘\n"
      ],
      "text/html": [
       "<pre style=\"white-space:pre;overflow-x:auto;line-height:normal;font-family:Menlo,'DejaVu Sans Mono',consolas,'Courier New',monospace\">┏━━━━━━━━━━━━━━━━━━━━━━━━━━━━━━━━━┳━━━━━━━━━━━━━━━━━━━━━━━━┳━━━━━━━━━━━━━━━┓\n",
       "┃<span style=\"font-weight: bold\"> Layer (type)                    </span>┃<span style=\"font-weight: bold\"> Output Shape           </span>┃<span style=\"font-weight: bold\">       Param # </span>┃\n",
       "┡━━━━━━━━━━━━━━━━━━━━━━━━━━━━━━━━━╇━━━━━━━━━━━━━━━━━━━━━━━━╇━━━━━━━━━━━━━━━┩\n",
       "│ input_layer_5 (<span style=\"color: #0087ff; text-decoration-color: #0087ff\">InputLayer</span>)      │ (<span style=\"color: #00d7ff; text-decoration-color: #00d7ff\">None</span>, <span style=\"color: #00af00; text-decoration-color: #00af00\">2</span>)              │             <span style=\"color: #00af00; text-decoration-color: #00af00\">0</span> │\n",
       "├─────────────────────────────────┼────────────────────────┼───────────────┤\n",
       "│ dense_27 (<span style=\"color: #0087ff; text-decoration-color: #0087ff\">Dense</span>)                │ (<span style=\"color: #00d7ff; text-decoration-color: #00d7ff\">None</span>, <span style=\"color: #00af00; text-decoration-color: #00af00\">2</span>)              │             <span style=\"color: #00af00; text-decoration-color: #00af00\">6</span> │\n",
       "├─────────────────────────────────┼────────────────────────┼───────────────┤\n",
       "│ dense_28 (<span style=\"color: #0087ff; text-decoration-color: #0087ff\">Dense</span>)                │ (<span style=\"color: #00d7ff; text-decoration-color: #00d7ff\">None</span>, <span style=\"color: #00af00; text-decoration-color: #00af00\">1</span>)              │             <span style=\"color: #00af00; text-decoration-color: #00af00\">3</span> │\n",
       "└─────────────────────────────────┴────────────────────────┴───────────────┘\n",
       "</pre>\n"
      ]
     },
     "metadata": {},
     "output_type": "display_data"
    },
    {
     "data": {
      "text/plain": [
       "\u001B[1m Total params: \u001B[0m\u001B[38;5;34m29\u001B[0m (120.00 B)\n"
      ],
      "text/html": [
       "<pre style=\"white-space:pre;overflow-x:auto;line-height:normal;font-family:Menlo,'DejaVu Sans Mono',consolas,'Courier New',monospace\"><span style=\"font-weight: bold\"> Total params: </span><span style=\"color: #00af00; text-decoration-color: #00af00\">29</span> (120.00 B)\n",
       "</pre>\n"
      ]
     },
     "metadata": {},
     "output_type": "display_data"
    },
    {
     "data": {
      "text/plain": [
       "\u001B[1m Trainable params: \u001B[0m\u001B[38;5;34m9\u001B[0m (36.00 B)\n"
      ],
      "text/html": [
       "<pre style=\"white-space:pre;overflow-x:auto;line-height:normal;font-family:Menlo,'DejaVu Sans Mono',consolas,'Courier New',monospace\"><span style=\"font-weight: bold\"> Trainable params: </span><span style=\"color: #00af00; text-decoration-color: #00af00\">9</span> (36.00 B)\n",
       "</pre>\n"
      ]
     },
     "metadata": {},
     "output_type": "display_data"
    },
    {
     "data": {
      "text/plain": [
       "\u001B[1m Non-trainable params: \u001B[0m\u001B[38;5;34m0\u001B[0m (0.00 B)\n"
      ],
      "text/html": [
       "<pre style=\"white-space:pre;overflow-x:auto;line-height:normal;font-family:Menlo,'DejaVu Sans Mono',consolas,'Courier New',monospace\"><span style=\"font-weight: bold\"> Non-trainable params: </span><span style=\"color: #00af00; text-decoration-color: #00af00\">0</span> (0.00 B)\n",
       "</pre>\n"
      ]
     },
     "metadata": {},
     "output_type": "display_data"
    },
    {
     "data": {
      "text/plain": [
       "\u001B[1m Optimizer params: \u001B[0m\u001B[38;5;34m20\u001B[0m (84.00 B)\n"
      ],
      "text/html": [
       "<pre style=\"white-space:pre;overflow-x:auto;line-height:normal;font-family:Menlo,'DejaVu Sans Mono',consolas,'Courier New',monospace\"><span style=\"font-weight: bold\"> Optimizer params: </span><span style=\"color: #00af00; text-decoration-color: #00af00\">20</span> (84.00 B)\n",
       "</pre>\n"
      ]
     },
     "metadata": {},
     "output_type": "display_data"
    }
   ],
   "execution_count": 53
  },
  {
   "metadata": {},
   "cell_type": "markdown",
   "source": [
    "### Question 1: The Simpsons Revisited\n",
    "- We want to be able to predict the gender of a Simpson using... a neural network. This dataset is very small, and therefore we cannot construct a validation set or test set.\n",
    "    - Read the Simpsons dataset (`../Data/The_Simpsons_Original.csv`).\n",
    "    - Determine which columns we cannot use with this prediction? Regression or classification?\n",
    "    - Determine which columns we cannot use in this prediction?\n",
    "    - Now create an input training data set `x_simpsons` and normalize it (min-max normalization). Do the same for the output column(`y_simpsons`).\n",
    "    - Create a neural network with the correct inputs and outputs.\n",
    "    - Use your neural network to predict the gender of your `x_simpsons`. Do they match the targets? Also predict the gender of the unknown Simpson (Comic guy: `hairlenght=8`, `weight=500`, `age=38`).\n",
    "\n",
    "**Name of Columns**: `name` `hair length` `weight` `age` `gender`"
   ],
   "id": "8dcce8d70aac0bac"
  },
  {
   "metadata": {
    "ExecuteTime": {
     "end_time": "2024-05-30T16:23:53.819945Z",
     "start_time": "2024-05-30T16:23:53.807587Z"
    }
   },
   "cell_type": "code",
   "source": [
    "# Load in data and filter data\n",
    "theSimpsonsOriginal = pd.read_csv('../Data/The_Simpsons_Original.csv', delimiter=',')\n",
    "\n",
    "# Determine how we are going to use the data set\n",
    "print(colored(f\"As input we are going to use every column that is interval or ratio. And obviously we are going to use it as a classifier, and more specifically a binary classifier because it's male or female (M/F).\\n\", outputColor))\n",
    "\n",
    "# Determine which columns we cannot use\n",
    "print(colored(f\"We can obviously not use nominaal or ordinaal column.\", outputColor))"
   ],
   "id": "7576d7d60ea7a0c8",
   "outputs": [
    {
     "name": "stdout",
     "output_type": "stream",
     "text": [
      "\u001B[34mAs input we are going to use every column that is interval or ratio. And obviously we are going to use it as a classifier, and more specifically a binary classifier because it's male or female (M/F).\n",
      "\u001B[0m\n",
      "\u001B[34mWe can obviously not use nominaal or ordinaal column.\u001B[0m\n"
     ]
    }
   ],
   "execution_count": 54
  },
  {
   "metadata": {
    "ExecuteTime": {
     "end_time": "2024-05-30T16:23:53.835717Z",
     "start_time": "2024-05-30T16:23:53.822409Z"
    }
   },
   "cell_type": "code",
   "source": [
    "warnings.filterwarnings(\"ignore\")                                                                                                   # Disable warnings\n",
    "\n",
    "# Split up the necessary data \n",
    "x_simpsons = theSimpsonsOriginal[['hair length', 'weight', 'age']]                                                                  # Get the input\n",
    "y_simpsons = theSimpsonsOriginal['gender']                                                                                          # Get the output\n",
    "\n",
    "# Normalize and convert input and output fields\n",
    "x_simpsons_normalize = (x_simpsons - x_simpsons.min()) / (x_simpsons.max() - x_simpsons.min())                                      # Normalization of the input\n",
    "y_simpsons_replace = y_simpsons.replace(to_replace=['M', 'F'], value=[0, 1])                                                        # Replace the output\n",
    "y_simpsons_replace = to_categorical(y_simpsons_replace)                                                                             # One-hot encoding"
   ],
   "id": "f330fd3af2716fb3",
   "outputs": [],
   "execution_count": 55
  },
  {
   "metadata": {},
   "cell_type": "code",
   "source": [
    "# Create (ANN) artificial neural network\n",
    "inputs_simpsons = Input(shape=(3,))\n",
    "x_simpsons_model = Dense(6, activation='sigmoid')(inputs_simpsons)\n",
    "x_simpsons_model = Dense(12, activation='sigmoid')(x_simpsons_model)\n",
    "x_simpsons_model = Dense(24, activation='sigmoid')(x_simpsons_model)\n",
    "x_simpsons_model = Dense(12, activation='sigmoid')(x_simpsons_model)\n",
    "x_simpsons_model = Dense(6, activation='sigmoid')(x_simpsons_model)\n",
    "outputs_simpsons = Dense(2, activation='sigmoid')(x_simpsons_model)\n",
    "model_simpsons = Model(inputs_simpsons, outputs_simpsons, name='Simpsons_NN')                                                   # Softmax for one-hot encoding (classification)\n",
    "\n",
    "# Compile the model\n",
    "model_simpsons.compile(optimizer=Adam(learning_rate=0.00001), loss=keras.losses.binary_crossentropy, metrics=['accuracy'])      # Binary_crossentropy for one-hot encoding\n",
    "\n",
    "# Fit the model\n",
    "history_simpsons = model_simpsons.fit(\n",
    "                                    x_simpsons_normalize,                   # Input\n",
    "                                    y_simpsons_replace,                     # Output\n",
    "                                    epochs=200,                             # Number of epochs (epochs = iterations over all the dataset)\n",
    "                                    callbacks=[PlotLossesKeras()],          # Plot the losses\n",
    "                                    verbose=False)                          # Fit the model"
   ],
   "id": "777632dfeebeb820",
   "execution_count": 56,
   "outputs": [
    {
     "name": "stdout",
     "output_type": "stream",
     "text": [
      "accuracy\n",
      "\taccuracy         \t (min:    0.444, max:    0.444, cur:    0.444)\n",
      "Loss\n",
      "\tloss             \t (min:    0.716, max:    0.719, cur:    0.716)\n"
     ]
    }
   ]
  },
  {
   "metadata": {
    "ExecuteTime": {
     "end_time": "2024-05-30T16:25:15.566689Z",
     "start_time": "2024-05-30T16:25:15.552257Z"
    }
   },
   "cell_type": "code",
   "source": [
    "# Get a summary of the model\n",
    "model_simpsons.summary()"
   ],
   "id": "df65416724d01b5a",
   "outputs": [
    {
     "data": {
      "text/plain": [
       "\u001B[1mModel: \"Simpsons_NN\"\u001B[0m\n"
      ],
      "text/html": [
       "<pre style=\"white-space:pre;overflow-x:auto;line-height:normal;font-family:Menlo,'DejaVu Sans Mono',consolas,'Courier New',monospace\"><span style=\"font-weight: bold\">Model: \"Simpsons_NN\"</span>\n",
       "</pre>\n"
      ]
     },
     "metadata": {},
     "output_type": "display_data"
    },
    {
     "data": {
      "text/plain": [
       "┏━━━━━━━━━━━━━━━━━━━━━━━━━━━━━━━━━┳━━━━━━━━━━━━━━━━━━━━━━━━┳━━━━━━━━━━━━━━━┓\n",
       "┃\u001B[1m \u001B[0m\u001B[1mLayer (type)                   \u001B[0m\u001B[1m \u001B[0m┃\u001B[1m \u001B[0m\u001B[1mOutput Shape          \u001B[0m\u001B[1m \u001B[0m┃\u001B[1m \u001B[0m\u001B[1m      Param #\u001B[0m\u001B[1m \u001B[0m┃\n",
       "┡━━━━━━━━━━━━━━━━━━━━━━━━━━━━━━━━━╇━━━━━━━━━━━━━━━━━━━━━━━━╇━━━━━━━━━━━━━━━┩\n",
       "│ input_layer_6 (\u001B[38;5;33mInputLayer\u001B[0m)      │ (\u001B[38;5;45mNone\u001B[0m, \u001B[38;5;34m3\u001B[0m)              │             \u001B[38;5;34m0\u001B[0m │\n",
       "├─────────────────────────────────┼────────────────────────┼───────────────┤\n",
       "│ dense_29 (\u001B[38;5;33mDense\u001B[0m)                │ (\u001B[38;5;45mNone\u001B[0m, \u001B[38;5;34m6\u001B[0m)              │            \u001B[38;5;34m24\u001B[0m │\n",
       "├─────────────────────────────────┼────────────────────────┼───────────────┤\n",
       "│ dense_30 (\u001B[38;5;33mDense\u001B[0m)                │ (\u001B[38;5;45mNone\u001B[0m, \u001B[38;5;34m12\u001B[0m)             │            \u001B[38;5;34m84\u001B[0m │\n",
       "├─────────────────────────────────┼────────────────────────┼───────────────┤\n",
       "│ dense_31 (\u001B[38;5;33mDense\u001B[0m)                │ (\u001B[38;5;45mNone\u001B[0m, \u001B[38;5;34m24\u001B[0m)             │           \u001B[38;5;34m312\u001B[0m │\n",
       "├─────────────────────────────────┼────────────────────────┼───────────────┤\n",
       "│ dense_32 (\u001B[38;5;33mDense\u001B[0m)                │ (\u001B[38;5;45mNone\u001B[0m, \u001B[38;5;34m12\u001B[0m)             │           \u001B[38;5;34m300\u001B[0m │\n",
       "├─────────────────────────────────┼────────────────────────┼───────────────┤\n",
       "│ dense_33 (\u001B[38;5;33mDense\u001B[0m)                │ (\u001B[38;5;45mNone\u001B[0m, \u001B[38;5;34m6\u001B[0m)              │            \u001B[38;5;34m78\u001B[0m │\n",
       "├─────────────────────────────────┼────────────────────────┼───────────────┤\n",
       "│ dense_34 (\u001B[38;5;33mDense\u001B[0m)                │ (\u001B[38;5;45mNone\u001B[0m, \u001B[38;5;34m2\u001B[0m)              │            \u001B[38;5;34m14\u001B[0m │\n",
       "└─────────────────────────────────┴────────────────────────┴───────────────┘\n"
      ],
      "text/html": [
       "<pre style=\"white-space:pre;overflow-x:auto;line-height:normal;font-family:Menlo,'DejaVu Sans Mono',consolas,'Courier New',monospace\">┏━━━━━━━━━━━━━━━━━━━━━━━━━━━━━━━━━┳━━━━━━━━━━━━━━━━━━━━━━━━┳━━━━━━━━━━━━━━━┓\n",
       "┃<span style=\"font-weight: bold\"> Layer (type)                    </span>┃<span style=\"font-weight: bold\"> Output Shape           </span>┃<span style=\"font-weight: bold\">       Param # </span>┃\n",
       "┡━━━━━━━━━━━━━━━━━━━━━━━━━━━━━━━━━╇━━━━━━━━━━━━━━━━━━━━━━━━╇━━━━━━━━━━━━━━━┩\n",
       "│ input_layer_6 (<span style=\"color: #0087ff; text-decoration-color: #0087ff\">InputLayer</span>)      │ (<span style=\"color: #00d7ff; text-decoration-color: #00d7ff\">None</span>, <span style=\"color: #00af00; text-decoration-color: #00af00\">3</span>)              │             <span style=\"color: #00af00; text-decoration-color: #00af00\">0</span> │\n",
       "├─────────────────────────────────┼────────────────────────┼───────────────┤\n",
       "│ dense_29 (<span style=\"color: #0087ff; text-decoration-color: #0087ff\">Dense</span>)                │ (<span style=\"color: #00d7ff; text-decoration-color: #00d7ff\">None</span>, <span style=\"color: #00af00; text-decoration-color: #00af00\">6</span>)              │            <span style=\"color: #00af00; text-decoration-color: #00af00\">24</span> │\n",
       "├─────────────────────────────────┼────────────────────────┼───────────────┤\n",
       "│ dense_30 (<span style=\"color: #0087ff; text-decoration-color: #0087ff\">Dense</span>)                │ (<span style=\"color: #00d7ff; text-decoration-color: #00d7ff\">None</span>, <span style=\"color: #00af00; text-decoration-color: #00af00\">12</span>)             │            <span style=\"color: #00af00; text-decoration-color: #00af00\">84</span> │\n",
       "├─────────────────────────────────┼────────────────────────┼───────────────┤\n",
       "│ dense_31 (<span style=\"color: #0087ff; text-decoration-color: #0087ff\">Dense</span>)                │ (<span style=\"color: #00d7ff; text-decoration-color: #00d7ff\">None</span>, <span style=\"color: #00af00; text-decoration-color: #00af00\">24</span>)             │           <span style=\"color: #00af00; text-decoration-color: #00af00\">312</span> │\n",
       "├─────────────────────────────────┼────────────────────────┼───────────────┤\n",
       "│ dense_32 (<span style=\"color: #0087ff; text-decoration-color: #0087ff\">Dense</span>)                │ (<span style=\"color: #00d7ff; text-decoration-color: #00d7ff\">None</span>, <span style=\"color: #00af00; text-decoration-color: #00af00\">12</span>)             │           <span style=\"color: #00af00; text-decoration-color: #00af00\">300</span> │\n",
       "├─────────────────────────────────┼────────────────────────┼───────────────┤\n",
       "│ dense_33 (<span style=\"color: #0087ff; text-decoration-color: #0087ff\">Dense</span>)                │ (<span style=\"color: #00d7ff; text-decoration-color: #00d7ff\">None</span>, <span style=\"color: #00af00; text-decoration-color: #00af00\">6</span>)              │            <span style=\"color: #00af00; text-decoration-color: #00af00\">78</span> │\n",
       "├─────────────────────────────────┼────────────────────────┼───────────────┤\n",
       "│ dense_34 (<span style=\"color: #0087ff; text-decoration-color: #0087ff\">Dense</span>)                │ (<span style=\"color: #00d7ff; text-decoration-color: #00d7ff\">None</span>, <span style=\"color: #00af00; text-decoration-color: #00af00\">2</span>)              │            <span style=\"color: #00af00; text-decoration-color: #00af00\">14</span> │\n",
       "└─────────────────────────────────┴────────────────────────┴───────────────┘\n",
       "</pre>\n"
      ]
     },
     "metadata": {},
     "output_type": "display_data"
    },
    {
     "data": {
      "text/plain": [
       "\u001B[1m Total params: \u001B[0m\u001B[38;5;34m2,438\u001B[0m (9.53 KB)\n"
      ],
      "text/html": [
       "<pre style=\"white-space:pre;overflow-x:auto;line-height:normal;font-family:Menlo,'DejaVu Sans Mono',consolas,'Courier New',monospace\"><span style=\"font-weight: bold\"> Total params: </span><span style=\"color: #00af00; text-decoration-color: #00af00\">2,438</span> (9.53 KB)\n",
       "</pre>\n"
      ]
     },
     "metadata": {},
     "output_type": "display_data"
    },
    {
     "data": {
      "text/plain": [
       "\u001B[1m Trainable params: \u001B[0m\u001B[38;5;34m812\u001B[0m (3.17 KB)\n"
      ],
      "text/html": [
       "<pre style=\"white-space:pre;overflow-x:auto;line-height:normal;font-family:Menlo,'DejaVu Sans Mono',consolas,'Courier New',monospace\"><span style=\"font-weight: bold\"> Trainable params: </span><span style=\"color: #00af00; text-decoration-color: #00af00\">812</span> (3.17 KB)\n",
       "</pre>\n"
      ]
     },
     "metadata": {},
     "output_type": "display_data"
    },
    {
     "data": {
      "text/plain": [
       "\u001B[1m Non-trainable params: \u001B[0m\u001B[38;5;34m0\u001B[0m (0.00 B)\n"
      ],
      "text/html": [
       "<pre style=\"white-space:pre;overflow-x:auto;line-height:normal;font-family:Menlo,'DejaVu Sans Mono',consolas,'Courier New',monospace\"><span style=\"font-weight: bold\"> Non-trainable params: </span><span style=\"color: #00af00; text-decoration-color: #00af00\">0</span> (0.00 B)\n",
       "</pre>\n"
      ]
     },
     "metadata": {},
     "output_type": "display_data"
    },
    {
     "data": {
      "text/plain": [
       "\u001B[1m Optimizer params: \u001B[0m\u001B[38;5;34m1,626\u001B[0m (6.36 KB)\n"
      ],
      "text/html": [
       "<pre style=\"white-space:pre;overflow-x:auto;line-height:normal;font-family:Menlo,'DejaVu Sans Mono',consolas,'Courier New',monospace\"><span style=\"font-weight: bold\"> Optimizer params: </span><span style=\"color: #00af00; text-decoration-color: #00af00\">1,626</span> (6.36 KB)\n",
       "</pre>\n"
      ]
     },
     "metadata": {},
     "output_type": "display_data"
    }
   ],
   "execution_count": 57
  },
  {
   "metadata": {
    "ExecuteTime": {
     "end_time": "2024-05-30T16:25:15.674419Z",
     "start_time": "2024-05-30T16:25:15.568192Z"
    }
   },
   "cell_type": "code",
   "source": [
    "# Use the model for prediction\n",
    "predicted = model_simpsons.predict(x_simpsons_normalize)                                                                            # Predict the output\n",
    "predicted = np.argmax(predicted, axis=1)                                                                                            # Get the highest value\n",
    "predicted = np.where(predicted == 0, 'M', 'F')                                                                                      # Replace the output\n",
    "original = y_simpsons.values                                                                                                        # Get the original output\n",
    "\n",
    "print(colored(f\"Predicted values:  {predicted}\", outputColor))\n",
    "print(colored(f\"Original values:   {original}\", outputColor))\n",
    "\n",
    "# Evaluate the model\n",
    "correct = np.mean(predicted == original)                                                                                            # Get the mean of the correct predictions\n",
    "print(colored(f\"\\nThe percentage of Simpsons that are correctly classified is: {round(correct, 2) * 100}%\", outputColor))"
   ],
   "id": "430e34fda333d448",
   "outputs": [
    {
     "name": "stdout",
     "output_type": "stream",
     "text": [
      "WARNING:tensorflow:6 out of the last 7 calls to <function TensorFlowTrainer.make_predict_function.<locals>.one_step_on_data_distributed at 0x0000021BC3966200> triggered tf.function retracing. Tracing is expensive and the excessive number of tracings could be due to (1) creating @tf.function repeatedly in a loop, (2) passing tensors with different shapes, (3) passing Python objects instead of tensors. For (1), please define your @tf.function outside of the loop. For (2), @tf.function has reduce_retracing=True option that can avoid unnecessary retracing. For (3), please refer to https://www.tensorflow.org/guide/function#controlling_retracing and https://www.tensorflow.org/api_docs/python/tf/function for  more details.\n",
      "\u001B[1m1/1\u001B[0m \u001B[32m━━━━━━━━━━━━━━━━━━━━\u001B[0m\u001B[37m\u001B[0m \u001B[1m0s\u001B[0m 53ms/step\n",
      "\u001B[34mPredicted values:  ['F' 'F' 'F' 'F' 'F' 'F' 'F' 'F' 'F']\u001B[0m\n",
      "\u001B[34mOriginal values:   ['M' 'F' 'M' 'F' 'F' 'M' 'F' 'M' 'M']\u001B[0m\n",
      "\u001B[34m\n",
      "The percentage of Simpsons that are correctly classified is: 44.0%\u001B[0m\n"
     ]
    }
   ],
   "execution_count": 58
  },
  {
   "metadata": {
    "ExecuteTime": {
     "end_time": "2024-05-30T16:25:15.768211Z",
     "start_time": "2024-05-30T16:25:15.676695Z"
    }
   },
   "cell_type": "code",
   "source": [
    "# Use the model for prediction on new input data\n",
    "comicGuy = pd.DataFrame({'hair length': [8], 'weight': [500], 'age': [38]})                                                         # Create a new dataframe (Test Data)\n",
    "comicGuy_normalize = (comicGuy - x_simpsons.min()) / (x_simpsons.max() - x_simpsons.min())                                          # Normalize the input\n",
    "prediction = model_simpsons.predict(comicGuy_normalize)                                                                             # Predict the output\n",
    "prediction = np.argmax(prediction, axis=1)                                                                                          # Get the highest value\n",
    "prediction = np.where(prediction == 0, 'M', 'F')                                                                                    # Replace the output\n",
    "print(colored(f\"The prediction for the comic guy is: {prediction}\", outputColor))"
   ],
   "id": "ccb0dba8bd2274db",
   "outputs": [
    {
     "name": "stdout",
     "output_type": "stream",
     "text": [
      "\u001B[1m1/1\u001B[0m \u001B[32m━━━━━━━━━━━━━━━━━━━━\u001B[0m\u001B[37m\u001B[0m \u001B[1m0s\u001B[0m 51ms/step\n",
      "\u001B[34mThe prediction for the comic guy is: ['F']\u001B[0m\n"
     ]
    }
   ],
   "execution_count": 59
  },
  {
   "metadata": {},
   "cell_type": "markdown",
   "source": [
    "### Question 2: Forecast demo Revisited\n",
    "- We want to be able to predict a company's revenues per quarter for the last `5` years. This dataset is very small, and therefore we cannot construct a validation set or test set.\n",
    "    - Read the Forecasting dataset (`../Data/ForcastDemo.csv`)\n",
    "    - Determine which columns we cannot use in this prediction? Regression or classification?\n",
    "    - Now create an input training data set `x_forcast` and an output column `y_forcast`. Normalize where necessary.\n",
    "    - Create a neural network with the correct inputs and outputs.\n",
    "    - Use your neural network to predict the returns associated with `x_forcast`. Do they correspond to actual returns? Create one plot of the original data and the predicted data.\n",
    "\n",
    "**Name of Columns**: `Year` `Quarter` `Revenu`"
   ],
   "id": "cbbb2930e5856c1d"
  },
  {
   "metadata": {
    "ExecuteTime": {
     "end_time": "2024-05-30T16:25:15.783905Z",
     "start_time": "2024-05-30T16:25:15.768211Z"
    }
   },
   "cell_type": "code",
   "source": [
    "# Load in data and filter data\n",
    "forcastDemo = pd.read_csv('../Data/ForcastDemo.csv', delimiter=';')\n",
    "\n",
    "# Determine how we are going to use the data set\n",
    "print(colored(f\"The 'Year' and 'Quarters' column we can use as input and as output the 'Revenu' column. The output will be revenue, therefore it will be a regression not a classification.\\n\", outputColor))"
   ],
   "id": "1c22172c060755b4",
   "outputs": [
    {
     "name": "stdout",
     "output_type": "stream",
     "text": [
      "\u001B[34mThe 'Year' and 'Quarters' column we can use as input and as output the 'Revenu' column. The output will be revenue, therefore it will be a regression not a classification.\n",
      "\u001B[0m\n"
     ]
    }
   ],
   "execution_count": 60
  },
  {
   "metadata": {
    "ExecuteTime": {
     "end_time": "2024-05-30T16:25:15.799559Z",
     "start_time": "2024-05-30T16:25:15.785946Z"
    }
   },
   "cell_type": "code",
   "source": [
    "# Split up the necessary data \n",
    "x_forcast = forcastDemo[['Year', 'Quarter']]                                                                                        # Get the input\n",
    "y_forcast = forcastDemo['Revenu']                                                                                                   # Get the output\n",
    "\n",
    "print(colored(f\"We don't need to normalize.\", outputColor))"
   ],
   "id": "82bf7120d5435d28",
   "outputs": [
    {
     "name": "stdout",
     "output_type": "stream",
     "text": [
      "\u001B[34mWe don't need to normalize.\u001B[0m\n"
     ]
    }
   ],
   "execution_count": 61
  },
  {
   "metadata": {},
   "cell_type": "code",
   "source": [
    "# Create (ANN) artificial neural network\n",
    "inputs_forcast = Input(shape=(2,))\n",
    "x_forcast_model = Dense(64, activation='relu')(inputs_forcast)\n",
    "x_forcast_model = Dense(64, activation='relu')(x_forcast_model)\n",
    "x_forcast_model = Dense(64, activation='relu')(x_forcast_model)\n",
    "outputs_forcast = Dense(1, activation='linear')(x_forcast_model)                                                            # Linear for regression\n",
    "model_forcast = Model(inputs_forcast, outputs_forcast, name='forcast_NN')                                                   # relu for regression\n",
    "\n",
    "# Compile the model\n",
    "model_forcast.compile(optimizer=Adam(learning_rate=0.001),                                                                  # Adam for regression\n",
    "                      loss=keras.losses.MeanAbsoluteError(),                                                                # MeanAbsoluteError for regression\n",
    "                      metrics=[keras.metrics.MeanAbsolutePercentageError()])                                                # MeanAbsolutePercentageError for regression\n",
    "\n",
    "# Fit the model\n",
    "history_forcast = model_forcast.fit(\n",
    "                                x_forcast,                              # Input\n",
    "                                y_forcast,                              # Output\n",
    "                                epochs=100,                             # Number of epochs (epochs = iterations over all the dataset)\n",
    "                                callbacks=[PlotLossesKeras()],          # Plot the losses\n",
    "                                verbose=False)                          # Fit the model"
   ],
   "id": "d4364c6fac652f55",
   "execution_count": 62,
   "outputs": [
    {
     "name": "stdout",
     "output_type": "stream",
     "text": [
      "Loss\n",
      "\tloss             \t (min:   85.070, max:  160.084, cur:   85.115)\n",
      "mean_absolute_percentage_error\n",
      "\tmean_absolute_percentage_error \t (min:   70.111, max:  147.749, cur:  147.749)\n"
     ]
    }
   ]
  },
  {
   "metadata": {
    "ExecuteTime": {
     "end_time": "2024-05-30T16:25:46.803072Z",
     "start_time": "2024-05-30T16:25:46.788935Z"
    }
   },
   "cell_type": "code",
   "source": [
    "# Get a summary of the model\n",
    "model_simpsons.summary()"
   ],
   "id": "e72baa1499038578",
   "outputs": [
    {
     "data": {
      "text/plain": [
       "\u001B[1mModel: \"Simpsons_NN\"\u001B[0m\n"
      ],
      "text/html": [
       "<pre style=\"white-space:pre;overflow-x:auto;line-height:normal;font-family:Menlo,'DejaVu Sans Mono',consolas,'Courier New',monospace\"><span style=\"font-weight: bold\">Model: \"Simpsons_NN\"</span>\n",
       "</pre>\n"
      ]
     },
     "metadata": {},
     "output_type": "display_data"
    },
    {
     "data": {
      "text/plain": [
       "┏━━━━━━━━━━━━━━━━━━━━━━━━━━━━━━━━━┳━━━━━━━━━━━━━━━━━━━━━━━━┳━━━━━━━━━━━━━━━┓\n",
       "┃\u001B[1m \u001B[0m\u001B[1mLayer (type)                   \u001B[0m\u001B[1m \u001B[0m┃\u001B[1m \u001B[0m\u001B[1mOutput Shape          \u001B[0m\u001B[1m \u001B[0m┃\u001B[1m \u001B[0m\u001B[1m      Param #\u001B[0m\u001B[1m \u001B[0m┃\n",
       "┡━━━━━━━━━━━━━━━━━━━━━━━━━━━━━━━━━╇━━━━━━━━━━━━━━━━━━━━━━━━╇━━━━━━━━━━━━━━━┩\n",
       "│ input_layer_6 (\u001B[38;5;33mInputLayer\u001B[0m)      │ (\u001B[38;5;45mNone\u001B[0m, \u001B[38;5;34m3\u001B[0m)              │             \u001B[38;5;34m0\u001B[0m │\n",
       "├─────────────────────────────────┼────────────────────────┼───────────────┤\n",
       "│ dense_29 (\u001B[38;5;33mDense\u001B[0m)                │ (\u001B[38;5;45mNone\u001B[0m, \u001B[38;5;34m6\u001B[0m)              │            \u001B[38;5;34m24\u001B[0m │\n",
       "├─────────────────────────────────┼────────────────────────┼───────────────┤\n",
       "│ dense_30 (\u001B[38;5;33mDense\u001B[0m)                │ (\u001B[38;5;45mNone\u001B[0m, \u001B[38;5;34m12\u001B[0m)             │            \u001B[38;5;34m84\u001B[0m │\n",
       "├─────────────────────────────────┼────────────────────────┼───────────────┤\n",
       "│ dense_31 (\u001B[38;5;33mDense\u001B[0m)                │ (\u001B[38;5;45mNone\u001B[0m, \u001B[38;5;34m24\u001B[0m)             │           \u001B[38;5;34m312\u001B[0m │\n",
       "├─────────────────────────────────┼────────────────────────┼───────────────┤\n",
       "│ dense_32 (\u001B[38;5;33mDense\u001B[0m)                │ (\u001B[38;5;45mNone\u001B[0m, \u001B[38;5;34m12\u001B[0m)             │           \u001B[38;5;34m300\u001B[0m │\n",
       "├─────────────────────────────────┼────────────────────────┼───────────────┤\n",
       "│ dense_33 (\u001B[38;5;33mDense\u001B[0m)                │ (\u001B[38;5;45mNone\u001B[0m, \u001B[38;5;34m6\u001B[0m)              │            \u001B[38;5;34m78\u001B[0m │\n",
       "├─────────────────────────────────┼────────────────────────┼───────────────┤\n",
       "│ dense_34 (\u001B[38;5;33mDense\u001B[0m)                │ (\u001B[38;5;45mNone\u001B[0m, \u001B[38;5;34m2\u001B[0m)              │            \u001B[38;5;34m14\u001B[0m │\n",
       "└─────────────────────────────────┴────────────────────────┴───────────────┘\n"
      ],
      "text/html": [
       "<pre style=\"white-space:pre;overflow-x:auto;line-height:normal;font-family:Menlo,'DejaVu Sans Mono',consolas,'Courier New',monospace\">┏━━━━━━━━━━━━━━━━━━━━━━━━━━━━━━━━━┳━━━━━━━━━━━━━━━━━━━━━━━━┳━━━━━━━━━━━━━━━┓\n",
       "┃<span style=\"font-weight: bold\"> Layer (type)                    </span>┃<span style=\"font-weight: bold\"> Output Shape           </span>┃<span style=\"font-weight: bold\">       Param # </span>┃\n",
       "┡━━━━━━━━━━━━━━━━━━━━━━━━━━━━━━━━━╇━━━━━━━━━━━━━━━━━━━━━━━━╇━━━━━━━━━━━━━━━┩\n",
       "│ input_layer_6 (<span style=\"color: #0087ff; text-decoration-color: #0087ff\">InputLayer</span>)      │ (<span style=\"color: #00d7ff; text-decoration-color: #00d7ff\">None</span>, <span style=\"color: #00af00; text-decoration-color: #00af00\">3</span>)              │             <span style=\"color: #00af00; text-decoration-color: #00af00\">0</span> │\n",
       "├─────────────────────────────────┼────────────────────────┼───────────────┤\n",
       "│ dense_29 (<span style=\"color: #0087ff; text-decoration-color: #0087ff\">Dense</span>)                │ (<span style=\"color: #00d7ff; text-decoration-color: #00d7ff\">None</span>, <span style=\"color: #00af00; text-decoration-color: #00af00\">6</span>)              │            <span style=\"color: #00af00; text-decoration-color: #00af00\">24</span> │\n",
       "├─────────────────────────────────┼────────────────────────┼───────────────┤\n",
       "│ dense_30 (<span style=\"color: #0087ff; text-decoration-color: #0087ff\">Dense</span>)                │ (<span style=\"color: #00d7ff; text-decoration-color: #00d7ff\">None</span>, <span style=\"color: #00af00; text-decoration-color: #00af00\">12</span>)             │            <span style=\"color: #00af00; text-decoration-color: #00af00\">84</span> │\n",
       "├─────────────────────────────────┼────────────────────────┼───────────────┤\n",
       "│ dense_31 (<span style=\"color: #0087ff; text-decoration-color: #0087ff\">Dense</span>)                │ (<span style=\"color: #00d7ff; text-decoration-color: #00d7ff\">None</span>, <span style=\"color: #00af00; text-decoration-color: #00af00\">24</span>)             │           <span style=\"color: #00af00; text-decoration-color: #00af00\">312</span> │\n",
       "├─────────────────────────────────┼────────────────────────┼───────────────┤\n",
       "│ dense_32 (<span style=\"color: #0087ff; text-decoration-color: #0087ff\">Dense</span>)                │ (<span style=\"color: #00d7ff; text-decoration-color: #00d7ff\">None</span>, <span style=\"color: #00af00; text-decoration-color: #00af00\">12</span>)             │           <span style=\"color: #00af00; text-decoration-color: #00af00\">300</span> │\n",
       "├─────────────────────────────────┼────────────────────────┼───────────────┤\n",
       "│ dense_33 (<span style=\"color: #0087ff; text-decoration-color: #0087ff\">Dense</span>)                │ (<span style=\"color: #00d7ff; text-decoration-color: #00d7ff\">None</span>, <span style=\"color: #00af00; text-decoration-color: #00af00\">6</span>)              │            <span style=\"color: #00af00; text-decoration-color: #00af00\">78</span> │\n",
       "├─────────────────────────────────┼────────────────────────┼───────────────┤\n",
       "│ dense_34 (<span style=\"color: #0087ff; text-decoration-color: #0087ff\">Dense</span>)                │ (<span style=\"color: #00d7ff; text-decoration-color: #00d7ff\">None</span>, <span style=\"color: #00af00; text-decoration-color: #00af00\">2</span>)              │            <span style=\"color: #00af00; text-decoration-color: #00af00\">14</span> │\n",
       "└─────────────────────────────────┴────────────────────────┴───────────────┘\n",
       "</pre>\n"
      ]
     },
     "metadata": {},
     "output_type": "display_data"
    },
    {
     "data": {
      "text/plain": [
       "\u001B[1m Total params: \u001B[0m\u001B[38;5;34m2,438\u001B[0m (9.53 KB)\n"
      ],
      "text/html": [
       "<pre style=\"white-space:pre;overflow-x:auto;line-height:normal;font-family:Menlo,'DejaVu Sans Mono',consolas,'Courier New',monospace\"><span style=\"font-weight: bold\"> Total params: </span><span style=\"color: #00af00; text-decoration-color: #00af00\">2,438</span> (9.53 KB)\n",
       "</pre>\n"
      ]
     },
     "metadata": {},
     "output_type": "display_data"
    },
    {
     "data": {
      "text/plain": [
       "\u001B[1m Trainable params: \u001B[0m\u001B[38;5;34m812\u001B[0m (3.17 KB)\n"
      ],
      "text/html": [
       "<pre style=\"white-space:pre;overflow-x:auto;line-height:normal;font-family:Menlo,'DejaVu Sans Mono',consolas,'Courier New',monospace\"><span style=\"font-weight: bold\"> Trainable params: </span><span style=\"color: #00af00; text-decoration-color: #00af00\">812</span> (3.17 KB)\n",
       "</pre>\n"
      ]
     },
     "metadata": {},
     "output_type": "display_data"
    },
    {
     "data": {
      "text/plain": [
       "\u001B[1m Non-trainable params: \u001B[0m\u001B[38;5;34m0\u001B[0m (0.00 B)\n"
      ],
      "text/html": [
       "<pre style=\"white-space:pre;overflow-x:auto;line-height:normal;font-family:Menlo,'DejaVu Sans Mono',consolas,'Courier New',monospace\"><span style=\"font-weight: bold\"> Non-trainable params: </span><span style=\"color: #00af00; text-decoration-color: #00af00\">0</span> (0.00 B)\n",
       "</pre>\n"
      ]
     },
     "metadata": {},
     "output_type": "display_data"
    },
    {
     "data": {
      "text/plain": [
       "\u001B[1m Optimizer params: \u001B[0m\u001B[38;5;34m1,626\u001B[0m (6.36 KB)\n"
      ],
      "text/html": [
       "<pre style=\"white-space:pre;overflow-x:auto;line-height:normal;font-family:Menlo,'DejaVu Sans Mono',consolas,'Courier New',monospace\"><span style=\"font-weight: bold\"> Optimizer params: </span><span style=\"color: #00af00; text-decoration-color: #00af00\">1,626</span> (6.36 KB)\n",
       "</pre>\n"
      ]
     },
     "metadata": {},
     "output_type": "display_data"
    }
   ],
   "execution_count": 63
  },
  {
   "metadata": {
    "ExecuteTime": {
     "end_time": "2024-05-30T16:25:46.960061Z",
     "start_time": "2024-05-30T16:25:46.804186Z"
    }
   },
   "cell_type": "code",
   "source": "model_forcast.evaluate(x_forcast, y_forcast)",
   "id": "4c4e8b87241fe3e6",
   "outputs": [
    {
     "name": "stdout",
     "output_type": "stream",
     "text": [
      "\u001B[1m1/1\u001B[0m \u001B[32m━━━━━━━━━━━━━━━━━━━━\u001B[0m\u001B[37m\u001B[0m \u001B[1m0s\u001B[0m 104ms/step - loss: 85.2502 - mean_absolute_percentage_error: 149.0750\n"
     ]
    },
    {
     "data": {
      "text/plain": [
       "[85.25019836425781, 149.0750274658203]"
      ]
     },
     "execution_count": 64,
     "metadata": {},
     "output_type": "execute_result"
    }
   ],
   "execution_count": 64
  },
  {
   "metadata": {
    "ExecuteTime": {
     "end_time": "2024-05-30T16:25:47.241200Z",
     "start_time": "2024-05-30T16:25:46.961734Z"
    }
   },
   "cell_type": "code",
   "source": [
    "# Use the model for prediction\n",
    "predicted = model_forcast.predict(x_forcast)                                                                                       # Predict the output\n",
    "original = y_forcast.values                                                                                                        # Get the original output\n",
    "\n",
    "# Also attempt to predict the future. You know, just for fun :)\n",
    "future = pd.DataFrame({'Year': [6, 6, 6, 6, 7, 7, 7, 7], 'Quarter': [1, 2, 3, 4, 1, 2, 3, 4]})                                     # Create a new dataframe (Test Data)\n",
    "predicted_future = model_forcast.predict(future)                                                                                   # Predict the output\n",
    "\n",
    "plt.figure()\n",
    "plt.plot(range(0, len(forcastDemo)), original, 'o-', label='Original')\n",
    "plt.plot(range(0, len(forcastDemo)), predicted[:, 0], 'o-', label='Predicted')\n",
    "plt.plot(range(len(forcastDemo), len(forcastDemo) + len(future)), predicted_future, 'o-', label='Future Prediction')\n",
    "plt.xlabel('Quarter')\n",
    "plt.ylabel('Revenue (EUR)')\n",
    "plt.title('Original vs Predicted Revenue')\n",
    "plt.legend()\n",
    "plt.show()"
   ],
   "id": "9f36bd9b09e2b900",
   "outputs": [
    {
     "name": "stdout",
     "output_type": "stream",
     "text": [
      "\u001B[1m1/1\u001B[0m \u001B[32m━━━━━━━━━━━━━━━━━━━━\u001B[0m\u001B[37m\u001B[0m \u001B[1m0s\u001B[0m 43ms/step\n",
      "\u001B[1m1/1\u001B[0m \u001B[32m━━━━━━━━━━━━━━━━━━━━\u001B[0m\u001B[37m\u001B[0m \u001B[1m0s\u001B[0m 42ms/step\n"
     ]
    },
    {
     "data": {
      "text/plain": [
       "<Figure size 640x480 with 1 Axes>"
      ],
      "image/png": "[encoded data removed]"
     },
     "metadata": {},
     "output_type": "display_data"
    }
   ],
   "execution_count": 65
  },
  {
   "metadata": {},
   "cell_type": "markdown",
   "source": [
    "### Question 3: Iris\n",
    "- Load the iris dataset (`iris.csv`) and study its contents.\n",
    "- Determine which columns we cannot use in this prediction?\n",
    "- Now create an input data set `x_iris` and normalize it. Try one of the normalization techniques that you have not yet used in an exercise or assignment.\n",
    "- Create a training data set and a test data set (`x_train_iris` and `x_test_iris`) consisting of `80%` and `20%` (randomly chosen) of the input data set `x_iris` respectively.\n",
    "- Create a neural network with the correct inputs and outputs.\n",
    "- Evaluate your neural network on your test data set (`x_test_iris`). What accuracy do you achieve?\n",
    "\n",
    "**Name of Columns**: `sepal length` `sepal width` `petal length` `petal width` `target`"
   ],
   "id": "85679458cdb42976"
  },
  {
   "metadata": {
    "ExecuteTime": {
     "end_time": "2024-05-30T16:25:47.272242Z",
     "start_time": "2024-05-30T16:25:47.242463Z"
    }
   },
   "cell_type": "code",
   "source": [
    "# 1\n",
    "iris = pd.read_csv('../Data/Iris.csv', delimiter=',', decimal='.')\n",
    "display(iris.head())"
   ],
   "id": "19b20b97f96e8fcb",
   "outputs": [
    {
     "data": {
      "text/plain": [
       "   sepal length  sepal width  petal length  petal width       target\n",
       "0           5.1          3.5           1.4          0.2  Iris-setosa\n",
       "1           4.9          3.0           1.4          0.2  Iris-setosa\n",
       "2           4.7          3.2           1.3          0.2  Iris-setosa\n",
       "3           4.6          3.1           1.5          0.2  Iris-setosa\n",
       "4           5.0          3.6           1.4          0.2  Iris-setosa"
      ],
      "text/html": [
       "<div>\n",
       "<style scoped>\n",
       "    .dataframe tbody tr th:only-of-type {\n",
       "        vertical-align: middle;\n",
       "    }\n",
       "\n",
       "    .dataframe tbody tr th {\n",
       "        vertical-align: top;\n",
       "    }\n",
       "\n",
       "    .dataframe thead th {\n",
       "        text-align: right;\n",
       "    }\n",
       "</style>\n",
       "<table border=\"1\" class=\"dataframe\">\n",
       "  <thead>\n",
       "    <tr style=\"text-align: right;\">\n",
       "      <th></th>\n",
       "      <th>sepal length</th>\n",
       "      <th>sepal width</th>\n",
       "      <th>petal length</th>\n",
       "      <th>petal width</th>\n",
       "      <th>target</th>\n",
       "    </tr>\n",
       "  </thead>\n",
       "  <tbody>\n",
       "    <tr>\n",
       "      <th>0</th>\n",
       "      <td>5.1</td>\n",
       "      <td>3.5</td>\n",
       "      <td>1.4</td>\n",
       "      <td>0.2</td>\n",
       "      <td>Iris-setosa</td>\n",
       "    </tr>\n",
       "    <tr>\n",
       "      <th>1</th>\n",
       "      <td>4.9</td>\n",
       "      <td>3.0</td>\n",
       "      <td>1.4</td>\n",
       "      <td>0.2</td>\n",
       "      <td>Iris-setosa</td>\n",
       "    </tr>\n",
       "    <tr>\n",
       "      <th>2</th>\n",
       "      <td>4.7</td>\n",
       "      <td>3.2</td>\n",
       "      <td>1.3</td>\n",
       "      <td>0.2</td>\n",
       "      <td>Iris-setosa</td>\n",
       "    </tr>\n",
       "    <tr>\n",
       "      <th>3</th>\n",
       "      <td>4.6</td>\n",
       "      <td>3.1</td>\n",
       "      <td>1.5</td>\n",
       "      <td>0.2</td>\n",
       "      <td>Iris-setosa</td>\n",
       "    </tr>\n",
       "    <tr>\n",
       "      <th>4</th>\n",
       "      <td>5.0</td>\n",
       "      <td>3.6</td>\n",
       "      <td>1.4</td>\n",
       "      <td>0.2</td>\n",
       "      <td>Iris-setosa</td>\n",
       "    </tr>\n",
       "  </tbody>\n",
       "</table>\n",
       "</div>"
      ]
     },
     "metadata": {},
     "output_type": "display_data"
    }
   ],
   "execution_count": 66
  },
  {
   "metadata": {
    "ExecuteTime": {
     "end_time": "2024-05-30T16:25:47.287712Z",
     "start_time": "2024-05-30T16:25:47.273242Z"
    }
   },
   "cell_type": "code",
   "source": [
    "# 2\n",
    "print(\"We can't use the column 'target' in this prediction. It's a string.\")"
   ],
   "id": "294870fa137e7cf1",
   "outputs": [
    {
     "name": "stdout",
     "output_type": "stream",
     "text": [
      "We can't use the column 'target' in this prediction. It's a string.\n"
     ]
    }
   ],
   "execution_count": 67
  },
  {
   "metadata": {
    "ExecuteTime": {
     "end_time": "2024-05-30T16:25:47.303337Z",
     "start_time": "2024-05-30T16:25:47.289713Z"
    }
   },
   "cell_type": "code",
   "source": [
    "# 3\n",
    "x_iris = iris[['sepal length', 'sepal width', 'petal length', 'petal width']]                                       # Get the input\n",
    "y_iris = iris[['target']]                                                                                           # Get the output\n",
    "\n",
    "x_iris_norm = (x_iris - x_iris.min()) / (x_iris.max() - x_iris.min())                                               # Normalization of the input\n",
    "y_iris_rep = y_iris.replace(to_replace=['Iris-setosa', 'Iris-versicolor', 'Iris-virginica'], value=[0, 1, 2])       # Replace the output\n",
    "y_iris_cat = to_categorical(y_iris_rep)                                                                             # One-hot encoding"
   ],
   "id": "d1d2457912bcfb48",
   "outputs": [],
   "execution_count": 68
  },
  {
   "metadata": {
    "ExecuteTime": {
     "end_time": "2024-05-30T16:25:47.335016Z",
     "start_time": "2024-05-30T16:25:47.304758Z"
    }
   },
   "cell_type": "code",
   "source": [
    "# 3\n",
    "x_train_iris, x_test_iris, y_train_iris, y_test_iris = train_test_split(x_iris_norm, y_iris_cat, test_size=0.2)     # Split the data\n",
    "display(x_train_iris.head()) # 80%\n",
    "display(x_test_iris.head())  # 20%"
   ],
   "id": "f94e5289aa0d6a56",
   "outputs": [
    {
     "data": {
      "text/plain": [
       "    sepal length  sepal width  petal length  petal width\n",
       "26      0.194444     0.583333      0.101695     0.125000\n",
       "38      0.027778     0.416667      0.050847     0.041667\n",
       "12      0.138889     0.416667      0.067797     0.000000\n",
       "29      0.111111     0.500000      0.101695     0.041667\n",
       "40      0.194444     0.625000      0.050847     0.083333"
      ],
      "text/html": [
       "<div>\n",
       "<style scoped>\n",
       "    .dataframe tbody tr th:only-of-type {\n",
       "        vertical-align: middle;\n",
       "    }\n",
       "\n",
       "    .dataframe tbody tr th {\n",
       "        vertical-align: top;\n",
       "    }\n",
       "\n",
       "    .dataframe thead th {\n",
       "        text-align: right;\n",
       "    }\n",
       "</style>\n",
       "<table border=\"1\" class=\"dataframe\">\n",
       "  <thead>\n",
       "    <tr style=\"text-align: right;\">\n",
       "      <th></th>\n",
       "      <th>sepal length</th>\n",
       "      <th>sepal width</th>\n",
       "      <th>petal length</th>\n",
       "      <th>petal width</th>\n",
       "    </tr>\n",
       "  </thead>\n",
       "  <tbody>\n",
       "    <tr>\n",
       "      <th>26</th>\n",
       "      <td>0.194444</td>\n",
       "      <td>0.583333</td>\n",
       "      <td>0.101695</td>\n",
       "      <td>0.125000</td>\n",
       "    </tr>\n",
       "    <tr>\n",
       "      <th>38</th>\n",
       "      <td>0.027778</td>\n",
       "      <td>0.416667</td>\n",
       "      <td>0.050847</td>\n",
       "      <td>0.041667</td>\n",
       "    </tr>\n",
       "    <tr>\n",
       "      <th>12</th>\n",
       "      <td>0.138889</td>\n",
       "      <td>0.416667</td>\n",
       "      <td>0.067797</td>\n",
       "      <td>0.000000</td>\n",
       "    </tr>\n",
       "    <tr>\n",
       "      <th>29</th>\n",
       "      <td>0.111111</td>\n",
       "      <td>0.500000</td>\n",
       "      <td>0.101695</td>\n",
       "      <td>0.041667</td>\n",
       "    </tr>\n",
       "    <tr>\n",
       "      <th>40</th>\n",
       "      <td>0.194444</td>\n",
       "      <td>0.625000</td>\n",
       "      <td>0.050847</td>\n",
       "      <td>0.083333</td>\n",
       "    </tr>\n",
       "  </tbody>\n",
       "</table>\n",
       "</div>"
      ]
     },
     "metadata": {},
     "output_type": "display_data"
    },
    {
     "data": {
      "text/plain": [
       "    sepal length  sepal width  petal length  petal width\n",
       "6       0.083333     0.583333      0.067797     0.083333\n",
       "13      0.000000     0.416667      0.016949     0.000000\n",
       "81      0.333333     0.166667      0.457627     0.375000\n",
       "42      0.027778     0.500000      0.050847     0.041667\n",
       "15      0.388889     1.000000      0.084746     0.125000"
      ],
      "text/html": [
       "<div>\n",
       "<style scoped>\n",
       "    .dataframe tbody tr th:only-of-type {\n",
       "        vertical-align: middle;\n",
       "    }\n",
       "\n",
       "    .dataframe tbody tr th {\n",
       "        vertical-align: top;\n",
       "    }\n",
       "\n",
       "    .dataframe thead th {\n",
       "        text-align: right;\n",
       "    }\n",
       "</style>\n",
       "<table border=\"1\" class=\"dataframe\">\n",
       "  <thead>\n",
       "    <tr style=\"text-align: right;\">\n",
       "      <th></th>\n",
       "      <th>sepal length</th>\n",
       "      <th>sepal width</th>\n",
       "      <th>petal length</th>\n",
       "      <th>petal width</th>\n",
       "    </tr>\n",
       "  </thead>\n",
       "  <tbody>\n",
       "    <tr>\n",
       "      <th>6</th>\n",
       "      <td>0.083333</td>\n",
       "      <td>0.583333</td>\n",
       "      <td>0.067797</td>\n",
       "      <td>0.083333</td>\n",
       "    </tr>\n",
       "    <tr>\n",
       "      <th>13</th>\n",
       "      <td>0.000000</td>\n",
       "      <td>0.416667</td>\n",
       "      <td>0.016949</td>\n",
       "      <td>0.000000</td>\n",
       "    </tr>\n",
       "    <tr>\n",
       "      <th>81</th>\n",
       "      <td>0.333333</td>\n",
       "      <td>0.166667</td>\n",
       "      <td>0.457627</td>\n",
       "      <td>0.375000</td>\n",
       "    </tr>\n",
       "    <tr>\n",
       "      <th>42</th>\n",
       "      <td>0.027778</td>\n",
       "      <td>0.500000</td>\n",
       "      <td>0.050847</td>\n",
       "      <td>0.041667</td>\n",
       "    </tr>\n",
       "    <tr>\n",
       "      <th>15</th>\n",
       "      <td>0.388889</td>\n",
       "      <td>1.000000</td>\n",
       "      <td>0.084746</td>\n",
       "      <td>0.125000</td>\n",
       "    </tr>\n",
       "  </tbody>\n",
       "</table>\n",
       "</div>"
      ]
     },
     "metadata": {},
     "output_type": "display_data"
    }
   ],
   "execution_count": 69
  },
  {
   "metadata": {
    "ExecuteTime": {
     "end_time": "2024-05-30T16:25:47.380692Z",
     "start_time": "2024-05-30T16:25:47.335992Z"
    }
   },
   "cell_type": "code",
   "source": [
    "# 4\n",
    "inputs_iris = Input(shape=(4,))\n",
    "x_ir = Dense(8, activation='sigmoid')(inputs_iris)\n",
    "x_ir = Dense(16, activation='sigmoid')(x_ir)\n",
    "x_ir = Dense(32, activation='sigmoid')(x_ir)\n",
    "x_ir = Dense(16, activation='sigmoid')(x_ir)\n",
    "x_ir = Dense(8, activation='sigmoid')(x_ir)\n",
    "outputs_iris = Dense(3, activation='softmax')(x_ir) # Activation=softmax for one-hot encoding (classification)\n",
    "\n",
    "model_iris = Model(inputs_iris, outputs_iris, name='Iris_NN')\n",
    "\n",
    "lr = 0.001  # Learning rate\n",
    "model_iris.compile(optimizer=Adam(learning_rate=lr), \n",
    "                   loss=keras.losses.categorical_crossentropy, \n",
    "                   metrics=['accuracy'])"
   ],
   "id": "8adb57861d0aa22b",
   "outputs": [],
   "execution_count": 70
  },
  {
   "metadata": {},
   "cell_type": "code",
   "source": [
    "history_iris = model_iris.fit(\n",
    "                            x_train_iris,\n",
    "                            y_train_iris,\n",
    "                            epochs=1000,\n",
    "                            callbacks=[PlotLossesKeras()],\n",
    "                            verbose=False)"
   ],
   "id": "24a8ae5954c1b835",
   "execution_count": 71,
   "outputs": [
    {
     "name": "stdout",
     "output_type": "stream",
     "text": [
      "accuracy\n",
      "\taccuracy         \t (min:    0.300, max:    0.983, cur:    0.983)\n",
      "Loss\n",
      "\tloss             \t (min:    0.057, max:    1.104, cur:    0.057)\n"
     ]
    }
   ]
  },
  {
   "metadata": {
    "ExecuteTime": {
     "end_time": "2024-05-30T16:31:23.882740Z",
     "start_time": "2024-05-30T16:31:23.853029Z"
    }
   },
   "cell_type": "code",
   "source": "model_iris.summary()",
   "id": "e2d9618a28ee7a0",
   "outputs": [
    {
     "data": {
      "text/plain": [
       "\u001B[1mModel: \"Iris_NN\"\u001B[0m\n"
      ],
      "text/html": [
       "<pre style=\"white-space:pre;overflow-x:auto;line-height:normal;font-family:Menlo,'DejaVu Sans Mono',consolas,'Courier New',monospace\"><span style=\"font-weight: bold\">Model: \"Iris_NN\"</span>\n",
       "</pre>\n"
      ]
     },
     "metadata": {},
     "output_type": "display_data"
    },
    {
     "data": {
      "text/plain": [
       "┏━━━━━━━━━━━━━━━━━━━━━━━━━━━━━━━━━┳━━━━━━━━━━━━━━━━━━━━━━━━┳━━━━━━━━━━━━━━━┓\n",
       "┃\u001B[1m \u001B[0m\u001B[1mLayer (type)                   \u001B[0m\u001B[1m \u001B[0m┃\u001B[1m \u001B[0m\u001B[1mOutput Shape          \u001B[0m\u001B[1m \u001B[0m┃\u001B[1m \u001B[0m\u001B[1m      Param #\u001B[0m\u001B[1m \u001B[0m┃\n",
       "┡━━━━━━━━━━━━━━━━━━━━━━━━━━━━━━━━━╇━━━━━━━━━━━━━━━━━━━━━━━━╇━━━━━━━━━━━━━━━┩\n",
       "│ input_layer_8 (\u001B[38;5;33mInputLayer\u001B[0m)      │ (\u001B[38;5;45mNone\u001B[0m, \u001B[38;5;34m4\u001B[0m)              │             \u001B[38;5;34m0\u001B[0m │\n",
       "├─────────────────────────────────┼────────────────────────┼───────────────┤\n",
       "│ dense_39 (\u001B[38;5;33mDense\u001B[0m)                │ (\u001B[38;5;45mNone\u001B[0m, \u001B[38;5;34m8\u001B[0m)              │            \u001B[38;5;34m40\u001B[0m │\n",
       "├─────────────────────────────────┼────────────────────────┼───────────────┤\n",
       "│ dense_40 (\u001B[38;5;33mDense\u001B[0m)                │ (\u001B[38;5;45mNone\u001B[0m, \u001B[38;5;34m16\u001B[0m)             │           \u001B[38;5;34m144\u001B[0m │\n",
       "├─────────────────────────────────┼────────────────────────┼───────────────┤\n",
       "│ dense_41 (\u001B[38;5;33mDense\u001B[0m)                │ (\u001B[38;5;45mNone\u001B[0m, \u001B[38;5;34m32\u001B[0m)             │           \u001B[38;5;34m544\u001B[0m │\n",
       "├─────────────────────────────────┼────────────────────────┼───────────────┤\n",
       "│ dense_42 (\u001B[38;5;33mDense\u001B[0m)                │ (\u001B[38;5;45mNone\u001B[0m, \u001B[38;5;34m16\u001B[0m)             │           \u001B[38;5;34m528\u001B[0m │\n",
       "├─────────────────────────────────┼────────────────────────┼───────────────┤\n",
       "│ dense_43 (\u001B[38;5;33mDense\u001B[0m)                │ (\u001B[38;5;45mNone\u001B[0m, \u001B[38;5;34m8\u001B[0m)              │           \u001B[38;5;34m136\u001B[0m │\n",
       "├─────────────────────────────────┼────────────────────────┼───────────────┤\n",
       "│ dense_44 (\u001B[38;5;33mDense\u001B[0m)                │ (\u001B[38;5;45mNone\u001B[0m, \u001B[38;5;34m3\u001B[0m)              │            \u001B[38;5;34m27\u001B[0m │\n",
       "└─────────────────────────────────┴────────────────────────┴───────────────┘\n"
      ],
      "text/html": [
       "<pre style=\"white-space:pre;overflow-x:auto;line-height:normal;font-family:Menlo,'DejaVu Sans Mono',consolas,'Courier New',monospace\">┏━━━━━━━━━━━━━━━━━━━━━━━━━━━━━━━━━┳━━━━━━━━━━━━━━━━━━━━━━━━┳━━━━━━━━━━━━━━━┓\n",
       "┃<span style=\"font-weight: bold\"> Layer (type)                    </span>┃<span style=\"font-weight: bold\"> Output Shape           </span>┃<span style=\"font-weight: bold\">       Param # </span>┃\n",
       "┡━━━━━━━━━━━━━━━━━━━━━━━━━━━━━━━━━╇━━━━━━━━━━━━━━━━━━━━━━━━╇━━━━━━━━━━━━━━━┩\n",
       "│ input_layer_8 (<span style=\"color: #0087ff; text-decoration-color: #0087ff\">InputLayer</span>)      │ (<span style=\"color: #00d7ff; text-decoration-color: #00d7ff\">None</span>, <span style=\"color: #00af00; text-decoration-color: #00af00\">4</span>)              │             <span style=\"color: #00af00; text-decoration-color: #00af00\">0</span> │\n",
       "├─────────────────────────────────┼────────────────────────┼───────────────┤\n",
       "│ dense_39 (<span style=\"color: #0087ff; text-decoration-color: #0087ff\">Dense</span>)                │ (<span style=\"color: #00d7ff; text-decoration-color: #00d7ff\">None</span>, <span style=\"color: #00af00; text-decoration-color: #00af00\">8</span>)              │            <span style=\"color: #00af00; text-decoration-color: #00af00\">40</span> │\n",
       "├─────────────────────────────────┼────────────────────────┼───────────────┤\n",
       "│ dense_40 (<span style=\"color: #0087ff; text-decoration-color: #0087ff\">Dense</span>)                │ (<span style=\"color: #00d7ff; text-decoration-color: #00d7ff\">None</span>, <span style=\"color: #00af00; text-decoration-color: #00af00\">16</span>)             │           <span style=\"color: #00af00; text-decoration-color: #00af00\">144</span> │\n",
       "├─────────────────────────────────┼────────────────────────┼───────────────┤\n",
       "│ dense_41 (<span style=\"color: #0087ff; text-decoration-color: #0087ff\">Dense</span>)                │ (<span style=\"color: #00d7ff; text-decoration-color: #00d7ff\">None</span>, <span style=\"color: #00af00; text-decoration-color: #00af00\">32</span>)             │           <span style=\"color: #00af00; text-decoration-color: #00af00\">544</span> │\n",
       "├─────────────────────────────────┼────────────────────────┼───────────────┤\n",
       "│ dense_42 (<span style=\"color: #0087ff; text-decoration-color: #0087ff\">Dense</span>)                │ (<span style=\"color: #00d7ff; text-decoration-color: #00d7ff\">None</span>, <span style=\"color: #00af00; text-decoration-color: #00af00\">16</span>)             │           <span style=\"color: #00af00; text-decoration-color: #00af00\">528</span> │\n",
       "├─────────────────────────────────┼────────────────────────┼───────────────┤\n",
       "│ dense_43 (<span style=\"color: #0087ff; text-decoration-color: #0087ff\">Dense</span>)                │ (<span style=\"color: #00d7ff; text-decoration-color: #00d7ff\">None</span>, <span style=\"color: #00af00; text-decoration-color: #00af00\">8</span>)              │           <span style=\"color: #00af00; text-decoration-color: #00af00\">136</span> │\n",
       "├─────────────────────────────────┼────────────────────────┼───────────────┤\n",
       "│ dense_44 (<span style=\"color: #0087ff; text-decoration-color: #0087ff\">Dense</span>)                │ (<span style=\"color: #00d7ff; text-decoration-color: #00d7ff\">None</span>, <span style=\"color: #00af00; text-decoration-color: #00af00\">3</span>)              │            <span style=\"color: #00af00; text-decoration-color: #00af00\">27</span> │\n",
       "└─────────────────────────────────┴────────────────────────┴───────────────┘\n",
       "</pre>\n"
      ]
     },
     "metadata": {},
     "output_type": "display_data"
    },
    {
     "data": {
      "text/plain": [
       "\u001B[1m Total params: \u001B[0m\u001B[38;5;34m4,259\u001B[0m (16.64 KB)\n"
      ],
      "text/html": [
       "<pre style=\"white-space:pre;overflow-x:auto;line-height:normal;font-family:Menlo,'DejaVu Sans Mono',consolas,'Courier New',monospace\"><span style=\"font-weight: bold\"> Total params: </span><span style=\"color: #00af00; text-decoration-color: #00af00\">4,259</span> (16.64 KB)\n",
       "</pre>\n"
      ]
     },
     "metadata": {},
     "output_type": "display_data"
    },
    {
     "data": {
      "text/plain": [
       "\u001B[1m Trainable params: \u001B[0m\u001B[38;5;34m1,419\u001B[0m (5.54 KB)\n"
      ],
      "text/html": [
       "<pre style=\"white-space:pre;overflow-x:auto;line-height:normal;font-family:Menlo,'DejaVu Sans Mono',consolas,'Courier New',monospace\"><span style=\"font-weight: bold\"> Trainable params: </span><span style=\"color: #00af00; text-decoration-color: #00af00\">1,419</span> (5.54 KB)\n",
       "</pre>\n"
      ]
     },
     "metadata": {},
     "output_type": "display_data"
    },
    {
     "data": {
      "text/plain": [
       "\u001B[1m Non-trainable params: \u001B[0m\u001B[38;5;34m0\u001B[0m (0.00 B)\n"
      ],
      "text/html": [
       "<pre style=\"white-space:pre;overflow-x:auto;line-height:normal;font-family:Menlo,'DejaVu Sans Mono',consolas,'Courier New',monospace\"><span style=\"font-weight: bold\"> Non-trainable params: </span><span style=\"color: #00af00; text-decoration-color: #00af00\">0</span> (0.00 B)\n",
       "</pre>\n"
      ]
     },
     "metadata": {},
     "output_type": "display_data"
    },
    {
     "data": {
      "text/plain": [
       "\u001B[1m Optimizer params: \u001B[0m\u001B[38;5;34m2,840\u001B[0m (11.10 KB)\n"
      ],
      "text/html": [
       "<pre style=\"white-space:pre;overflow-x:auto;line-height:normal;font-family:Menlo,'DejaVu Sans Mono',consolas,'Courier New',monospace\"><span style=\"font-weight: bold\"> Optimizer params: </span><span style=\"color: #00af00; text-decoration-color: #00af00\">2,840</span> (11.10 KB)\n",
       "</pre>\n"
      ]
     },
     "metadata": {},
     "output_type": "display_data"
    }
   ],
   "execution_count": 72
  },
  {
   "metadata": {
    "ExecuteTime": {
     "end_time": "2024-05-30T16:31:24.101463Z",
     "start_time": "2024-05-30T16:31:23.884073Z"
    }
   },
   "cell_type": "code",
   "source": [
    "# 5\n",
    "accuracy = model_iris.evaluate(x_test_iris, y_test_iris)\n",
    "print(f\"Accuracy on test data in percentage: {accuracy[1]*100}\")\n",
    "\n",
    "if accuracy[1] > 0.9:\n",
    "    print(\"The Artificial Neural Network is performing well.\")\n",
    "else:\n",
    "    print(\"The Artificial Neural Network is not performing well.\")"
   ],
   "id": "217ead9c337d2ed6",
   "outputs": [
    {
     "name": "stdout",
     "output_type": "stream",
     "text": [
      "\u001B[1m1/1\u001B[0m \u001B[32m━━━━━━━━━━━━━━━━━━━━\u001B[0m\u001B[37m\u001B[0m \u001B[1m0s\u001B[0m 162ms/step - accuracy: 1.0000 - loss: 0.0149\n",
      "Accuracy on test data in percentage: 100.0\n",
      "The Artificial Neural Network is performing well.\n"
     ]
    }
   ],
   "execution_count": 73
  },
  {
   "metadata": {
    "ExecuteTime": {
     "end_time": "2024-05-30T16:31:24.240347Z",
     "start_time": "2024-05-30T16:31:24.105623Z"
    }
   },
   "cell_type": "code",
   "source": [
    "# Additional tests predict the class with input data. (class = Iris-setosa = 0, Iris-versicolor = 1, Iris-virginica = 2) string\n",
    "predicted_data = pd.DataFrame({'sepal length': [5.9], 'sepal width': [3.0], 'petal length': [5.1], 'petal width': [1.8]})\n",
    "predicted_data_norm = (predicted_data - x_iris.min()) / (x_iris.max() - x_iris.min())\n",
    "prediction = model_iris.predict(predicted_data_norm)\n",
    "\n",
    "threshold = 0.5 \n",
    "predicted_class_threshold = np.where(prediction > threshold)[1][0]\n",
    "switcher = {\n",
    "    0: 'Iris-setosa',\n",
    "    1: 'Iris-versicolor',\n",
    "    2: 'Iris-virginica'\n",
    "}\n",
    "\n",
    "print(f\"Prediction: {switcher.get(predicted_class_threshold)}\")"
   ],
   "id": "901bb50c8b642a2a",
   "outputs": [
    {
     "name": "stdout",
     "output_type": "stream",
     "text": [
      "\u001B[1m1/1\u001B[0m \u001B[32m━━━━━━━━━━━━━━━━━━━━\u001B[0m\u001B[37m\u001B[0m \u001B[1m0s\u001B[0m 70ms/step\n",
      "Prediction: Iris-virginica\n"
     ]
    }
   ],
   "execution_count": 74
  }
 ],
 "metadata": {
  "kernelspec": {
   "display_name": "Python 3",
   "language": "python",
   "name": "python3"
  },
  "language_info": {
   "codemirror_mode": {
    "name": "ipython",
    "version": 2
   },
   "file_extension": ".py",
   "mimetype": "text/x-python",
   "name": "python",
   "nbconvert_exporter": "python",
   "pygments_lexer": "ipython2",
   "version": "2.7.6"
  }
 },
 "nbformat": 4,
 "nbformat_minor": 5
}

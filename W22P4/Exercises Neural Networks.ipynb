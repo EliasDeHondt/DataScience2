{
 "cells": [
  {
   "cell_type": "markdown",
   "source": "# Exercises Neural Networks",
   "metadata": {
    "collapsed": false
   },
   "id": "fc11ae5046d6cd48"
  },
  {
   "cell_type": "code",
   "source": [
    "import math                                                             # Mathematical functions\n",
    "import pandas as pd                                                     # Data manipulation\n",
    "import numpy as np                                                      # Scientific computing\n",
    "from tensorflow import keras                                            # Deep Learning library\n",
    "from tensorflow.keras import Model                                      # Model class\n",
    "from tensorflow.keras.layers import Input, Dense, BatchNormalization    # Layers\n",
    "from tensorflow.python.keras.utils.np_utils import to_categorical       # One-hot encoding\n",
    "from tensorflow. keras.optimizers import Adam                           # Optimizer\n",
    "from livelossplot import PlotLossesKeras                                # Live plot\n",
    "\n",
    "from Resources.Functions import *                                       # Custom functions\n",
    "\n",
    "import warnings                                                         # Disable warnings\n",
    "warnings.filterwarnings(\"ignore\")                                       # Ignoring future dependency warning."
   ],
   "metadata": {
    "collapsed": false,
    "ExecuteTime": {
     "end_time": "2024-05-08T14:25:18.311124Z",
     "start_time": "2024-05-08T14:25:18.302314Z"
    }
   },
   "id": "1796a7e3a7232f25",
   "outputs": [],
   "execution_count": 75
  },
  {
   "cell_type": "markdown",
   "source": [
    "## Theoretical questions"
   ],
   "metadata": {
    "collapsed": false
   },
   "id": "d66cd879508e8eb4"
  },
  {
   "metadata": {},
   "cell_type": "markdown",
   "source": "### Question 0: Demo ANN (Artificial Neural Network)",
   "id": "fe1f95ab76ee580e"
  },
  {
   "metadata": {
    "ExecuteTime": {
     "end_time": "2024-05-08T14:25:18.462507Z",
     "start_time": "2024-05-08T14:25:18.437737Z"
    }
   },
   "cell_type": "code",
   "source": [
    "# This is one Artificial Neuron with 2 inputs (1,1), 2 weights (0.3, -0.1) and 1 bias (-0.7)\n",
    "inputANN = pd.array([1,1])\n",
    "weightsANN = pd.array([0.3, -0.1])\n",
    "biasANN = -0.7\n",
    "\n",
    "integratie = np.dot(inputANN, weightsANN) + biasANN\n",
    "print(f\"Output Integration: {integratie}\")\n",
    "\n",
    "activation = 1 / (1 + math.exp(-integratie))\n",
    "print(f\"Output Activation: {activation}\")"
   ],
   "id": "c0a73d28ca088254",
   "outputs": [
    {
     "name": "stdout",
     "output_type": "stream",
     "text": [
      "Output Integration: -0.5\n",
      "Output Activation: 0.3775406687981454\n"
     ]
    }
   ],
   "execution_count": 76
  },
  {
   "metadata": {},
   "cell_type": "markdown",
   "source": "### Question 0: XOR ANN (Artificial Neural Network)",
   "id": "9976ef5eea85abba"
  },
  {
   "metadata": {},
   "cell_type": "code",
   "source": [
    "# Stap 1: Data\n",
    "xor_data = pd.DataFrame({'P1': [0,1,0,1], 'P2': [0,0,1,1], 'Q' : [0,1,1,0]})\n",
    "x_xor_data= xor_data[['P1', 'P2']]\n",
    "y_xor_data = xor_data[['Q']]\n",
    "                       \n",
    "# Step 2: Model\n",
    "inputs_xor = Input(shape=(2,))\n",
    "x_xor = Dense(2, activation='sigmoid')(inputs_xor) # Or relu\n",
    "outputs_xor = Dense(1, activation='sigmoid')(x_xor) # Or relu\n",
    "model_xor = Model(inputs_xor, outputs_xor, name='XOR_NN')\n",
    "\n",
    "# Step 3: Compile\n",
    "model_xor.compile(optimizer=Adam(learning_rate=0.00001), loss=keras.losses.binary_crossentropy, metrics=['accuracy'])\n",
    "\n",
    "# Step 4: Fit\n",
    "history_xor = model_xor.fit(\n",
    "                            x_xor_data, \n",
    "                            y_xor_data, \n",
    "                            epochs=200, \n",
    "                            callbacks=[PlotLossesKeras()], \n",
    "                            verbose=False)"
   ],
   "id": "7e5cbb4bd86ed8e1",
   "execution_count": 77,
   "outputs": [
    {
     "name": "stdout",
     "output_type": "stream",
     "text": [
      "accuracy\n",
      "\taccuracy         \t (min:    0.500, max:    0.500, cur:    0.500)\n",
      "Loss\n",
      "\tloss             \t (min:    0.696, max:    0.697, cur:    0.696)\n"
     ]
    }
   ]
  },
  {
   "metadata": {
    "ExecuteTime": {
     "end_time": "2024-05-08T14:26:33.777828Z",
     "start_time": "2024-05-08T14:26:33.745771Z"
    }
   },
   "cell_type": "code",
   "source": "model_xor.summary()",
   "id": "9c2a91b1de30fe43",
   "outputs": [
    {
     "data": {
      "text/plain": [
       "\u001B[1mModel: \"XOR_NN\"\u001B[0m\n"
      ],
      "text/html": [
       "<pre style=\"white-space:pre;overflow-x:auto;line-height:normal;font-family:Menlo,'DejaVu Sans Mono',consolas,'Courier New',monospace\"><span style=\"font-weight: bold\">Model: \"XOR_NN\"</span>\n",
       "</pre>\n"
      ]
     },
     "metadata": {},
     "output_type": "display_data"
    },
    {
     "data": {
      "text/plain": [
       "┏━━━━━━━━━━━━━━━━━━━━━━━━━━━━━━━━━┳━━━━━━━━━━━━━━━━━━━━━━━━┳━━━━━━━━━━━━━━━┓\n",
       "┃\u001B[1m \u001B[0m\u001B[1mLayer (type)                   \u001B[0m\u001B[1m \u001B[0m┃\u001B[1m \u001B[0m\u001B[1mOutput Shape          \u001B[0m\u001B[1m \u001B[0m┃\u001B[1m \u001B[0m\u001B[1m      Param #\u001B[0m\u001B[1m \u001B[0m┃\n",
       "┡━━━━━━━━━━━━━━━━━━━━━━━━━━━━━━━━━╇━━━━━━━━━━━━━━━━━━━━━━━━╇━━━━━━━━━━━━━━━┩\n",
       "│ input_layer_7 (\u001B[38;5;33mInputLayer\u001B[0m)      │ (\u001B[38;5;45mNone\u001B[0m, \u001B[38;5;34m2\u001B[0m)              │             \u001B[38;5;34m0\u001B[0m │\n",
       "├─────────────────────────────────┼────────────────────────┼───────────────┤\n",
       "│ dense_26 (\u001B[38;5;33mDense\u001B[0m)                │ (\u001B[38;5;45mNone\u001B[0m, \u001B[38;5;34m2\u001B[0m)              │             \u001B[38;5;34m6\u001B[0m │\n",
       "├─────────────────────────────────┼────────────────────────┼───────────────┤\n",
       "│ dense_27 (\u001B[38;5;33mDense\u001B[0m)                │ (\u001B[38;5;45mNone\u001B[0m, \u001B[38;5;34m1\u001B[0m)              │             \u001B[38;5;34m3\u001B[0m │\n",
       "└─────────────────────────────────┴────────────────────────┴───────────────┘\n"
      ],
      "text/html": [
       "<pre style=\"white-space:pre;overflow-x:auto;line-height:normal;font-family:Menlo,'DejaVu Sans Mono',consolas,'Courier New',monospace\">┏━━━━━━━━━━━━━━━━━━━━━━━━━━━━━━━━━┳━━━━━━━━━━━━━━━━━━━━━━━━┳━━━━━━━━━━━━━━━┓\n",
       "┃<span style=\"font-weight: bold\"> Layer (type)                    </span>┃<span style=\"font-weight: bold\"> Output Shape           </span>┃<span style=\"font-weight: bold\">       Param # </span>┃\n",
       "┡━━━━━━━━━━━━━━━━━━━━━━━━━━━━━━━━━╇━━━━━━━━━━━━━━━━━━━━━━━━╇━━━━━━━━━━━━━━━┩\n",
       "│ input_layer_7 (<span style=\"color: #0087ff; text-decoration-color: #0087ff\">InputLayer</span>)      │ (<span style=\"color: #00d7ff; text-decoration-color: #00d7ff\">None</span>, <span style=\"color: #00af00; text-decoration-color: #00af00\">2</span>)              │             <span style=\"color: #00af00; text-decoration-color: #00af00\">0</span> │\n",
       "├─────────────────────────────────┼────────────────────────┼───────────────┤\n",
       "│ dense_26 (<span style=\"color: #0087ff; text-decoration-color: #0087ff\">Dense</span>)                │ (<span style=\"color: #00d7ff; text-decoration-color: #00d7ff\">None</span>, <span style=\"color: #00af00; text-decoration-color: #00af00\">2</span>)              │             <span style=\"color: #00af00; text-decoration-color: #00af00\">6</span> │\n",
       "├─────────────────────────────────┼────────────────────────┼───────────────┤\n",
       "│ dense_27 (<span style=\"color: #0087ff; text-decoration-color: #0087ff\">Dense</span>)                │ (<span style=\"color: #00d7ff; text-decoration-color: #00d7ff\">None</span>, <span style=\"color: #00af00; text-decoration-color: #00af00\">1</span>)              │             <span style=\"color: #00af00; text-decoration-color: #00af00\">3</span> │\n",
       "└─────────────────────────────────┴────────────────────────┴───────────────┘\n",
       "</pre>\n"
      ]
     },
     "metadata": {},
     "output_type": "display_data"
    },
    {
     "data": {
      "text/plain": [
       "\u001B[1m Total params: \u001B[0m\u001B[38;5;34m29\u001B[0m (120.00 B)\n"
      ],
      "text/html": [
       "<pre style=\"white-space:pre;overflow-x:auto;line-height:normal;font-family:Menlo,'DejaVu Sans Mono',consolas,'Courier New',monospace\"><span style=\"font-weight: bold\"> Total params: </span><span style=\"color: #00af00; text-decoration-color: #00af00\">29</span> (120.00 B)\n",
       "</pre>\n"
      ]
     },
     "metadata": {},
     "output_type": "display_data"
    },
    {
     "data": {
      "text/plain": [
       "\u001B[1m Trainable params: \u001B[0m\u001B[38;5;34m9\u001B[0m (36.00 B)\n"
      ],
      "text/html": [
       "<pre style=\"white-space:pre;overflow-x:auto;line-height:normal;font-family:Menlo,'DejaVu Sans Mono',consolas,'Courier New',monospace\"><span style=\"font-weight: bold\"> Trainable params: </span><span style=\"color: #00af00; text-decoration-color: #00af00\">9</span> (36.00 B)\n",
       "</pre>\n"
      ]
     },
     "metadata": {},
     "output_type": "display_data"
    },
    {
     "data": {
      "text/plain": [
       "\u001B[1m Non-trainable params: \u001B[0m\u001B[38;5;34m0\u001B[0m (0.00 B)\n"
      ],
      "text/html": [
       "<pre style=\"white-space:pre;overflow-x:auto;line-height:normal;font-family:Menlo,'DejaVu Sans Mono',consolas,'Courier New',monospace\"><span style=\"font-weight: bold\"> Non-trainable params: </span><span style=\"color: #00af00; text-decoration-color: #00af00\">0</span> (0.00 B)\n",
       "</pre>\n"
      ]
     },
     "metadata": {},
     "output_type": "display_data"
    },
    {
     "data": {
      "text/plain": [
       "\u001B[1m Optimizer params: \u001B[0m\u001B[38;5;34m20\u001B[0m (84.00 B)\n"
      ],
      "text/html": [
       "<pre style=\"white-space:pre;overflow-x:auto;line-height:normal;font-family:Menlo,'DejaVu Sans Mono',consolas,'Courier New',monospace\"><span style=\"font-weight: bold\"> Optimizer params: </span><span style=\"color: #00af00; text-decoration-color: #00af00\">20</span> (84.00 B)\n",
       "</pre>\n"
      ]
     },
     "metadata": {},
     "output_type": "display_data"
    }
   ],
   "execution_count": 78
  },
  {
   "metadata": {},
   "cell_type": "markdown",
   "source": [
    "### Question 1:\n",
    "- Bouw een neuraal netwerk op om het resultaat van een student op de gapminder test te bepalen aan de hand van het aantal uren wiskunde in het laatste jaar van het middelbaar, het aantal complotheorieën waarin hij/zij gelooft (zie code vraag 1 vragenlijst les Evaluatimetrieken) en het aantal broers en zussen. Splits de gegevens op is een training en een test data set (`90-10` verhouding). Normaliseer ook de data met behulp van de decimal scaling.\n",
    "\n",
    "- Opmerking: de variabele gapminder test bevat niet getallen. \n",
    "    - Zet de data om naar een geheel getal –integer- dat het percentage weergeeft.\n",
    "    - Plaats daarna de gegevens in `5` klassen: (`0,20`), (`20,40`), (`40,60`), (`60,80`), (`80,100`).\n",
    "    - Vervang de klasse door de index van de klasse.\n",
    "\n",
    "**Name of Columns**: `gapminder` `schrijfhand` `schoenmaat` `lengte` `bloedgroep` `resus` `siblings` `Samenzweringen` `rijbewijs` `domicilie in Antwerpen` `afstudeerrichting` `vrijetijdsbesteding` `uren wiskunde` `informatica` `belangrijk` `uren buiten schooluren` `afstand tot KdG` `vervoersmiddel` `klimaatopwarming` `zakgeld` `stukken fruit` `fruitvoorkeur` `besturingssysteem` `belangrijkste app` `M1 - stelen` `M2 - team` `M3 - beschermen` `M4 - voorbeeld` `M5 - embryo` `M6 - vrijheid` `mascotte` `zwaarste vak` `boeienste vak` `studiepunt`"
   ],
   "id": "d81c7c32f2da4107"
  },
  {
   "metadata": {
    "ExecuteTime": {
     "end_time": "2024-05-08T14:26:33.810217Z",
     "start_time": "2024-05-08T14:26:33.777828Z"
    }
   },
   "cell_type": "code",
   "source": [
    "data1 = pd.read_csv('../Data/Data1.csv', delimiter=';', decimal=',')\n",
    "display(data1.head())"
   ],
   "id": "2f6c804d451c6abc",
   "outputs": [
    {
     "data": {
      "text/plain": [
       "  gapminder schrijfhand  schoenmaat  lengte    bloedgroep         resus  \\\n",
       "0      7/18      Rechts        43.0     184             O      positief   \n",
       "1      3/18      Rechts        42.0     163  Weet ik niet  Weet ik niet   \n",
       "2     12/18      Rechts        45.0     183            AB      positief   \n",
       "3      5/18      Rechts        44.0     175             A      positief   \n",
       "4      6/18      Rechts        43.0     173             B      positief   \n",
       "\n",
       "   siblings                                     Samenzweringen  \\\n",
       "0         5  De tsunami van 2004 in de Indische Oceaan was ...   \n",
       "1         1   Prinses Diana kwam niet per ongeluk om het leven   \n",
       "2         2  Prinses Diana kwam niet per ongeluk om het lev...   \n",
       "3         2  De wereld wordt eigenlijk gecontroleerd door e...   \n",
       "4         3  De wereld wordt eigenlijk gecontroleerd door e...   \n",
       "\n",
       "                                           rijbewijs  \\\n",
       "0                               Categorie B: Wagens.   \n",
       "1  Categorie AM: Bromfietsen met een maximumsnelh...   \n",
       "2  Categorie AM: Bromfietsen met een maximumsnelh...   \n",
       "3  Categorie AM: Bromfietsen met een maximumsnelh...   \n",
       "4                               Categorie B: Wagens.   \n",
       "\n",
       "                              domicilie in Antwerpen  ... M1 - stelen  \\\n",
       "0  buiten de stad (een dorp, een gehucht, het pla...  ...           7   \n",
       "1                                        in een stad  ...          10   \n",
       "2                                        in een stad  ...           6   \n",
       "3                                        in een stad  ...           9   \n",
       "4                                        in een stad  ...          10   \n",
       "\n",
       "  M2 - team M3 - beschermen M4 - voorbeeld M5 - embryo  M6 - vrijheid  \\\n",
       "0         2               8              6           5            4.0   \n",
       "1         5              10              6           7            3.0   \n",
       "2         3               7              7          10            6.0   \n",
       "3        10              10             10          10            0.0   \n",
       "4         6              10              7           7            2.0   \n",
       "\n",
       "                                            mascotte  zwaarste vak  \\\n",
       "0  1=Bever,2=Wasbeer,3=Otter,4=Wolf,5=Poema,6=Pan...  Management 1   \n",
       "1  1=Bever,2=Wolf,3=Bizon,4=Otter,5=Panter,6=Poem...  Management 1   \n",
       "2  1=Bruine beer,2=Poema,3=Panter,4=Wolf,5=Vos,6=...  Management 1   \n",
       "3  1=Wasbeer,2=Wolf,3=Bruine beer,4=Das,5=Vos,6=B...  Management 1   \n",
       "4  1=Wolf,2=Vos,3=Bruine beer,4=Bizon,5=Panter,6=...  Management 1   \n",
       "\n",
       "           boeienste vak  studiepunt  \n",
       "0         Data science 1  16-20 uren  \n",
       "1     Computersystemen 1  <= 10 uren  \n",
       "2  Programmeren 1 - Java  16-20 uren  \n",
       "3         Data science 1  <= 10 uren  \n",
       "4         Data science 1  <= 10 uren  \n",
       "\n",
       "[5 rows x 33 columns]"
      ],
      "text/html": [
       "<div>\n",
       "<style scoped>\n",
       "    .dataframe tbody tr th:only-of-type {\n",
       "        vertical-align: middle;\n",
       "    }\n",
       "\n",
       "    .dataframe tbody tr th {\n",
       "        vertical-align: top;\n",
       "    }\n",
       "\n",
       "    .dataframe thead th {\n",
       "        text-align: right;\n",
       "    }\n",
       "</style>\n",
       "<table border=\"1\" class=\"dataframe\">\n",
       "  <thead>\n",
       "    <tr style=\"text-align: right;\">\n",
       "      <th></th>\n",
       "      <th>gapminder</th>\n",
       "      <th>schrijfhand</th>\n",
       "      <th>schoenmaat</th>\n",
       "      <th>lengte</th>\n",
       "      <th>bloedgroep</th>\n",
       "      <th>resus</th>\n",
       "      <th>siblings</th>\n",
       "      <th>Samenzweringen</th>\n",
       "      <th>rijbewijs</th>\n",
       "      <th>domicilie in Antwerpen</th>\n",
       "      <th>...</th>\n",
       "      <th>M1 - stelen</th>\n",
       "      <th>M2 - team</th>\n",
       "      <th>M3 - beschermen</th>\n",
       "      <th>M4 - voorbeeld</th>\n",
       "      <th>M5 - embryo</th>\n",
       "      <th>M6 - vrijheid</th>\n",
       "      <th>mascotte</th>\n",
       "      <th>zwaarste vak</th>\n",
       "      <th>boeienste vak</th>\n",
       "      <th>studiepunt</th>\n",
       "    </tr>\n",
       "  </thead>\n",
       "  <tbody>\n",
       "    <tr>\n",
       "      <th>0</th>\n",
       "      <td>7/18</td>\n",
       "      <td>Rechts</td>\n",
       "      <td>43.0</td>\n",
       "      <td>184</td>\n",
       "      <td>O</td>\n",
       "      <td>positief</td>\n",
       "      <td>5</td>\n",
       "      <td>De tsunami van 2004 in de Indische Oceaan was ...</td>\n",
       "      <td>Categorie B: Wagens.</td>\n",
       "      <td>buiten de stad (een dorp, een gehucht, het pla...</td>\n",
       "      <td>...</td>\n",
       "      <td>7</td>\n",
       "      <td>2</td>\n",
       "      <td>8</td>\n",
       "      <td>6</td>\n",
       "      <td>5</td>\n",
       "      <td>4.0</td>\n",
       "      <td>1=Bever,2=Wasbeer,3=Otter,4=Wolf,5=Poema,6=Pan...</td>\n",
       "      <td>Management 1</td>\n",
       "      <td>Data science 1</td>\n",
       "      <td>16-20 uren</td>\n",
       "    </tr>\n",
       "    <tr>\n",
       "      <th>1</th>\n",
       "      <td>3/18</td>\n",
       "      <td>Rechts</td>\n",
       "      <td>42.0</td>\n",
       "      <td>163</td>\n",
       "      <td>Weet ik niet</td>\n",
       "      <td>Weet ik niet</td>\n",
       "      <td>1</td>\n",
       "      <td>Prinses Diana kwam niet per ongeluk om het leven</td>\n",
       "      <td>Categorie AM: Bromfietsen met een maximumsnelh...</td>\n",
       "      <td>in een stad</td>\n",
       "      <td>...</td>\n",
       "      <td>10</td>\n",
       "      <td>5</td>\n",
       "      <td>10</td>\n",
       "      <td>6</td>\n",
       "      <td>7</td>\n",
       "      <td>3.0</td>\n",
       "      <td>1=Bever,2=Wolf,3=Bizon,4=Otter,5=Panter,6=Poem...</td>\n",
       "      <td>Management 1</td>\n",
       "      <td>Computersystemen 1</td>\n",
       "      <td>&lt;= 10 uren</td>\n",
       "    </tr>\n",
       "    <tr>\n",
       "      <th>2</th>\n",
       "      <td>12/18</td>\n",
       "      <td>Rechts</td>\n",
       "      <td>45.0</td>\n",
       "      <td>183</td>\n",
       "      <td>AB</td>\n",
       "      <td>positief</td>\n",
       "      <td>2</td>\n",
       "      <td>Prinses Diana kwam niet per ongeluk om het lev...</td>\n",
       "      <td>Categorie AM: Bromfietsen met een maximumsnelh...</td>\n",
       "      <td>in een stad</td>\n",
       "      <td>...</td>\n",
       "      <td>6</td>\n",
       "      <td>3</td>\n",
       "      <td>7</td>\n",
       "      <td>7</td>\n",
       "      <td>10</td>\n",
       "      <td>6.0</td>\n",
       "      <td>1=Bruine beer,2=Poema,3=Panter,4=Wolf,5=Vos,6=...</td>\n",
       "      <td>Management 1</td>\n",
       "      <td>Programmeren 1 - Java</td>\n",
       "      <td>16-20 uren</td>\n",
       "    </tr>\n",
       "    <tr>\n",
       "      <th>3</th>\n",
       "      <td>5/18</td>\n",
       "      <td>Rechts</td>\n",
       "      <td>44.0</td>\n",
       "      <td>175</td>\n",
       "      <td>A</td>\n",
       "      <td>positief</td>\n",
       "      <td>2</td>\n",
       "      <td>De wereld wordt eigenlijk gecontroleerd door e...</td>\n",
       "      <td>Categorie AM: Bromfietsen met een maximumsnelh...</td>\n",
       "      <td>in een stad</td>\n",
       "      <td>...</td>\n",
       "      <td>9</td>\n",
       "      <td>10</td>\n",
       "      <td>10</td>\n",
       "      <td>10</td>\n",
       "      <td>10</td>\n",
       "      <td>0.0</td>\n",
       "      <td>1=Wasbeer,2=Wolf,3=Bruine beer,4=Das,5=Vos,6=B...</td>\n",
       "      <td>Management 1</td>\n",
       "      <td>Data science 1</td>\n",
       "      <td>&lt;= 10 uren</td>\n",
       "    </tr>\n",
       "    <tr>\n",
       "      <th>4</th>\n",
       "      <td>6/18</td>\n",
       "      <td>Rechts</td>\n",
       "      <td>43.0</td>\n",
       "      <td>173</td>\n",
       "      <td>B</td>\n",
       "      <td>positief</td>\n",
       "      <td>3</td>\n",
       "      <td>De wereld wordt eigenlijk gecontroleerd door e...</td>\n",
       "      <td>Categorie B: Wagens.</td>\n",
       "      <td>in een stad</td>\n",
       "      <td>...</td>\n",
       "      <td>10</td>\n",
       "      <td>6</td>\n",
       "      <td>10</td>\n",
       "      <td>7</td>\n",
       "      <td>7</td>\n",
       "      <td>2.0</td>\n",
       "      <td>1=Wolf,2=Vos,3=Bruine beer,4=Bizon,5=Panter,6=...</td>\n",
       "      <td>Management 1</td>\n",
       "      <td>Data science 1</td>\n",
       "      <td>&lt;= 10 uren</td>\n",
       "    </tr>\n",
       "  </tbody>\n",
       "</table>\n",
       "<p>5 rows × 33 columns</p>\n",
       "</div>"
      ]
     },
     "metadata": {},
     "output_type": "display_data"
    }
   ],
   "execution_count": 79
  },
  {
   "metadata": {
    "ExecuteTime": {
     "end_time": "2024-05-08T14:26:33.829199Z",
     "start_time": "2024-05-08T14:26:33.812294Z"
    }
   },
   "cell_type": "code",
   "source": "",
   "id": "51c91ae3aabf21a1",
   "outputs": [],
   "execution_count": 79
  },
  {
   "metadata": {},
   "cell_type": "markdown",
   "source": [
    "### Question 2:\n",
    "- Herneem het neuraal netwerk uit vraag 1. Maak de confusion matrix, bereken de meest gebruikte evaluatiemetrieken en teken de ROC."
   ],
   "id": "eb07bd55c5889e04"
  },
  {
   "metadata": {
    "ExecuteTime": {
     "end_time": "2024-05-08T14:26:33.844652Z",
     "start_time": "2024-05-08T14:26:33.830405Z"
    }
   },
   "cell_type": "code",
   "source": "",
   "id": "246cfab828cf82e0",
   "outputs": [],
   "execution_count": 79
  },
  {
   "metadata": {},
   "cell_type": "markdown",
   "source": [
    "### Question 3: The Simpsons Revisited\n",
    "- We willen het geslacht van een Simpson kunnen voorspellen m.b.v. een neuraal netwerk. Deze dataset is erg klein en daarom kunnen we geen validatie-set of test-set construeren. \n",
    "    - Lees de dataset (`The_Simpsons_Original.csv`) van de Simpsons in. \n",
    "    - Bepaal welke kolommen we niet kunnen gebruiken bij deze voorspelling?\n",
    "    - Maak nu een input training data set `x_simpsons` en normaliseer deze (min-max normalisatie). Doe hetzelfde voor de outputkolom(y4_simpsons).\n",
    "    - Maak een neuraal netwerk met de correcte inputs en outputs.\n",
    "    - Gebruik je neuraal netwerk om het geslacht van je `x_simpsons` te voorspellen. Komen ze overeen met de targets? Voorspel ook het geslacht van de onbekende Simpson (Comic guy: `hairlenght=8`, `weight=500`, `age=38`).. Komt dit overeen met de voorspelling die je gemaakt werd bij beslissingsbomen?\n",
    "\n",
    "**Name of Columns**: `name` `hair length` `weight` `age` `gender`"
   ],
   "id": "8dcce8d70aac0bac"
  },
  {
   "metadata": {
    "ExecuteTime": {
     "end_time": "2024-05-08T14:26:33.860176Z",
     "start_time": "2024-05-08T14:26:33.845887Z"
    }
   },
   "cell_type": "code",
   "source": [
    "# 1\n",
    "theSimpsonsOriginal = pd.read_csv('../Data/The_Simpsons_Original.csv', delimiter=',')\n",
    "display(theSimpsonsOriginal.head())"
   ],
   "id": "7576d7d60ea7a0c8",
   "outputs": [
    {
     "data": {
      "text/plain": [
       "     name  hair length  weight  age gender\n",
       "0   Homer            0     250   36      M\n",
       "1   Marge           10     150   34      F\n",
       "2    Bart            2      90   10      M\n",
       "3    Lisa            6      78    8      F\n",
       "4  Maggie            4      20    1      F"
      ],
      "text/html": [
       "<div>\n",
       "<style scoped>\n",
       "    .dataframe tbody tr th:only-of-type {\n",
       "        vertical-align: middle;\n",
       "    }\n",
       "\n",
       "    .dataframe tbody tr th {\n",
       "        vertical-align: top;\n",
       "    }\n",
       "\n",
       "    .dataframe thead th {\n",
       "        text-align: right;\n",
       "    }\n",
       "</style>\n",
       "<table border=\"1\" class=\"dataframe\">\n",
       "  <thead>\n",
       "    <tr style=\"text-align: right;\">\n",
       "      <th></th>\n",
       "      <th>name</th>\n",
       "      <th>hair length</th>\n",
       "      <th>weight</th>\n",
       "      <th>age</th>\n",
       "      <th>gender</th>\n",
       "    </tr>\n",
       "  </thead>\n",
       "  <tbody>\n",
       "    <tr>\n",
       "      <th>0</th>\n",
       "      <td>Homer</td>\n",
       "      <td>0</td>\n",
       "      <td>250</td>\n",
       "      <td>36</td>\n",
       "      <td>M</td>\n",
       "    </tr>\n",
       "    <tr>\n",
       "      <th>1</th>\n",
       "      <td>Marge</td>\n",
       "      <td>10</td>\n",
       "      <td>150</td>\n",
       "      <td>34</td>\n",
       "      <td>F</td>\n",
       "    </tr>\n",
       "    <tr>\n",
       "      <th>2</th>\n",
       "      <td>Bart</td>\n",
       "      <td>2</td>\n",
       "      <td>90</td>\n",
       "      <td>10</td>\n",
       "      <td>M</td>\n",
       "    </tr>\n",
       "    <tr>\n",
       "      <th>3</th>\n",
       "      <td>Lisa</td>\n",
       "      <td>6</td>\n",
       "      <td>78</td>\n",
       "      <td>8</td>\n",
       "      <td>F</td>\n",
       "    </tr>\n",
       "    <tr>\n",
       "      <th>4</th>\n",
       "      <td>Maggie</td>\n",
       "      <td>4</td>\n",
       "      <td>20</td>\n",
       "      <td>1</td>\n",
       "      <td>F</td>\n",
       "    </tr>\n",
       "  </tbody>\n",
       "</table>\n",
       "</div>"
      ]
     },
     "metadata": {},
     "output_type": "display_data"
    }
   ],
   "execution_count": 80
  },
  {
   "metadata": {
    "ExecuteTime": {
     "end_time": "2024-05-08T14:26:33.880213Z",
     "start_time": "2024-05-08T14:26:33.861652Z"
    }
   },
   "cell_type": "code",
   "source": [
    "# 2\n",
    "theSimpsonsOriginal = theSimpsonsOriginal.drop(columns=['name'])\n",
    "display(theSimpsonsOriginal.head())"
   ],
   "id": "f330fd3af2716fb3",
   "outputs": [
    {
     "data": {
      "text/plain": [
       "   hair length  weight  age gender\n",
       "0            0     250   36      M\n",
       "1           10     150   34      F\n",
       "2            2      90   10      M\n",
       "3            6      78    8      F\n",
       "4            4      20    1      F"
      ],
      "text/html": [
       "<div>\n",
       "<style scoped>\n",
       "    .dataframe tbody tr th:only-of-type {\n",
       "        vertical-align: middle;\n",
       "    }\n",
       "\n",
       "    .dataframe tbody tr th {\n",
       "        vertical-align: top;\n",
       "    }\n",
       "\n",
       "    .dataframe thead th {\n",
       "        text-align: right;\n",
       "    }\n",
       "</style>\n",
       "<table border=\"1\" class=\"dataframe\">\n",
       "  <thead>\n",
       "    <tr style=\"text-align: right;\">\n",
       "      <th></th>\n",
       "      <th>hair length</th>\n",
       "      <th>weight</th>\n",
       "      <th>age</th>\n",
       "      <th>gender</th>\n",
       "    </tr>\n",
       "  </thead>\n",
       "  <tbody>\n",
       "    <tr>\n",
       "      <th>0</th>\n",
       "      <td>0</td>\n",
       "      <td>250</td>\n",
       "      <td>36</td>\n",
       "      <td>M</td>\n",
       "    </tr>\n",
       "    <tr>\n",
       "      <th>1</th>\n",
       "      <td>10</td>\n",
       "      <td>150</td>\n",
       "      <td>34</td>\n",
       "      <td>F</td>\n",
       "    </tr>\n",
       "    <tr>\n",
       "      <th>2</th>\n",
       "      <td>2</td>\n",
       "      <td>90</td>\n",
       "      <td>10</td>\n",
       "      <td>M</td>\n",
       "    </tr>\n",
       "    <tr>\n",
       "      <th>3</th>\n",
       "      <td>6</td>\n",
       "      <td>78</td>\n",
       "      <td>8</td>\n",
       "      <td>F</td>\n",
       "    </tr>\n",
       "    <tr>\n",
       "      <th>4</th>\n",
       "      <td>4</td>\n",
       "      <td>20</td>\n",
       "      <td>1</td>\n",
       "      <td>F</td>\n",
       "    </tr>\n",
       "  </tbody>\n",
       "</table>\n",
       "</div>"
      ]
     },
     "metadata": {},
     "output_type": "display_data"
    }
   ],
   "execution_count": 81
  },
  {
   "metadata": {
    "ExecuteTime": {
     "end_time": "2024-05-08T14:41:55.373811Z",
     "start_time": "2024-05-08T14:41:55.360031Z"
    }
   },
   "cell_type": "code",
   "source": [
    "# 3\n",
    "x_simpsons = theSimpsonsOriginal[['hair length', 'weight', 'age']]                                              # Get the input\n",
    "y_simpsons = theSimpsonsOriginal[['gender']]                                                                    # Get the output\n",
    "\n",
    "x_simpsons_norm = (x_simpsons - x_simpsons.min()) / (x_simpsons.max() - x_simpsons.min())                       # Normalization of the input\n",
    "y_simpsons_rep = y_simpsons.replace(to_replace=['M', 'F'], value=[0, 1])                                        # Replace the output\n",
    "y_simpsons_rep = to_categorical(y_simpsons_rep)                                                                 # One-hot encoding\n",
    "y_simpsons_norm = (y_simpsons_rep - y_simpsons_rep.min()) / (y_simpsons_rep.max() - y_simpsons_rep.min())       # Normalization of the output"
   ],
   "id": "777632dfeebeb820",
   "outputs": [],
   "execution_count": 104
  },
  {
   "metadata": {},
   "cell_type": "code",
   "source": [
    "# 4\n",
    "inputs_simpsons = Input(shape=(3,))\n",
    "x_simp = Dense(6, activation='sigmoid')(inputs_simpsons)\n",
    "x_simp = Dense(12, activation='sigmoid')(x_simp)\n",
    "x_simp = Dense(24, activation='sigmoid')(x_simp)\n",
    "x_simp = Dense(12, activation='sigmoid')(x_simp)\n",
    "x_simp = Dense(6, activation='sigmoid')(x_simp)\n",
    "outputs_simpsons = Dense(2, activation='softmax')(x_simp)\n",
    "model_simpsons = Model(inputs_simpsons, outputs_simpsons, name='Simpsons_NN')\n",
    "\n",
    "model_simpsons.compile(optimizer=Adam(learning_rate=0.00001), loss=keras.losses.binary_crossentropy, metrics=['accuracy'])\n",
    "\n",
    "history_simpsons = model_simpsons.fit(\n",
    "                                    x_simpsons_norm,\n",
    "                                    y_simpsons_rep,\n",
    "                                    epochs=200,\n",
    "                                    callbacks=[PlotLossesKeras()],\n",
    "                                    verbose=False)\n",
    "\n",
    "model_simpsons.summary()"
   ],
   "id": "df65416724d01b5a",
   "execution_count": 105,
   "outputs": [
    {
     "name": "stdout",
     "output_type": "stream",
     "text": [
      "accuracy\n",
      "\taccuracy         \t (min:    0.556, max:    0.556, cur:    0.556)\n",
      "Loss\n",
      "\tloss             \t (min:    0.709, max:    0.711, cur:    0.709)\n"
     ]
    },
    {
     "data": {
      "text/plain": [
       "\u001B[1mModel: \"Simpsons_NN\"\u001B[0m\n"
      ],
      "text/html": [
       "<pre style=\"white-space:pre;overflow-x:auto;line-height:normal;font-family:Menlo,'DejaVu Sans Mono',consolas,'Courier New',monospace\"><span style=\"font-weight: bold\">Model: \"Simpsons_NN\"</span>\n",
       "</pre>\n"
      ]
     },
     "metadata": {},
     "output_type": "display_data"
    },
    {
     "data": {
      "text/plain": [
       "┏━━━━━━━━━━━━━━━━━━━━━━━━━━━━━━━━━┳━━━━━━━━━━━━━━━━━━━━━━━━┳━━━━━━━━━━━━━━━┓\n",
       "┃\u001B[1m \u001B[0m\u001B[1mLayer (type)                   \u001B[0m\u001B[1m \u001B[0m┃\u001B[1m \u001B[0m\u001B[1mOutput Shape          \u001B[0m\u001B[1m \u001B[0m┃\u001B[1m \u001B[0m\u001B[1m      Param #\u001B[0m\u001B[1m \u001B[0m┃\n",
       "┡━━━━━━━━━━━━━━━━━━━━━━━━━━━━━━━━━╇━━━━━━━━━━━━━━━━━━━━━━━━╇━━━━━━━━━━━━━━━┩\n",
       "│ input_layer_25 (\u001B[38;5;33mInputLayer\u001B[0m)     │ (\u001B[38;5;45mNone\u001B[0m, \u001B[38;5;34m3\u001B[0m)              │             \u001B[38;5;34m0\u001B[0m │\n",
       "├─────────────────────────────────┼────────────────────────┼───────────────┤\n",
       "│ dense_130 (\u001B[38;5;33mDense\u001B[0m)               │ (\u001B[38;5;45mNone\u001B[0m, \u001B[38;5;34m6\u001B[0m)              │            \u001B[38;5;34m24\u001B[0m │\n",
       "├─────────────────────────────────┼────────────────────────┼───────────────┤\n",
       "│ dense_131 (\u001B[38;5;33mDense\u001B[0m)               │ (\u001B[38;5;45mNone\u001B[0m, \u001B[38;5;34m12\u001B[0m)             │            \u001B[38;5;34m84\u001B[0m │\n",
       "├─────────────────────────────────┼────────────────────────┼───────────────┤\n",
       "│ dense_132 (\u001B[38;5;33mDense\u001B[0m)               │ (\u001B[38;5;45mNone\u001B[0m, \u001B[38;5;34m24\u001B[0m)             │           \u001B[38;5;34m312\u001B[0m │\n",
       "├─────────────────────────────────┼────────────────────────┼───────────────┤\n",
       "│ dense_133 (\u001B[38;5;33mDense\u001B[0m)               │ (\u001B[38;5;45mNone\u001B[0m, \u001B[38;5;34m12\u001B[0m)             │           \u001B[38;5;34m300\u001B[0m │\n",
       "├─────────────────────────────────┼────────────────────────┼───────────────┤\n",
       "│ dense_134 (\u001B[38;5;33mDense\u001B[0m)               │ (\u001B[38;5;45mNone\u001B[0m, \u001B[38;5;34m6\u001B[0m)              │            \u001B[38;5;34m78\u001B[0m │\n",
       "├─────────────────────────────────┼────────────────────────┼───────────────┤\n",
       "│ dense_135 (\u001B[38;5;33mDense\u001B[0m)               │ (\u001B[38;5;45mNone\u001B[0m, \u001B[38;5;34m2\u001B[0m)              │            \u001B[38;5;34m14\u001B[0m │\n",
       "└─────────────────────────────────┴────────────────────────┴───────────────┘\n"
      ],
      "text/html": [
       "<pre style=\"white-space:pre;overflow-x:auto;line-height:normal;font-family:Menlo,'DejaVu Sans Mono',consolas,'Courier New',monospace\">┏━━━━━━━━━━━━━━━━━━━━━━━━━━━━━━━━━┳━━━━━━━━━━━━━━━━━━━━━━━━┳━━━━━━━━━━━━━━━┓\n",
       "┃<span style=\"font-weight: bold\"> Layer (type)                    </span>┃<span style=\"font-weight: bold\"> Output Shape           </span>┃<span style=\"font-weight: bold\">       Param # </span>┃\n",
       "┡━━━━━━━━━━━━━━━━━━━━━━━━━━━━━━━━━╇━━━━━━━━━━━━━━━━━━━━━━━━╇━━━━━━━━━━━━━━━┩\n",
       "│ input_layer_25 (<span style=\"color: #0087ff; text-decoration-color: #0087ff\">InputLayer</span>)     │ (<span style=\"color: #00d7ff; text-decoration-color: #00d7ff\">None</span>, <span style=\"color: #00af00; text-decoration-color: #00af00\">3</span>)              │             <span style=\"color: #00af00; text-decoration-color: #00af00\">0</span> │\n",
       "├─────────────────────────────────┼────────────────────────┼───────────────┤\n",
       "│ dense_130 (<span style=\"color: #0087ff; text-decoration-color: #0087ff\">Dense</span>)               │ (<span style=\"color: #00d7ff; text-decoration-color: #00d7ff\">None</span>, <span style=\"color: #00af00; text-decoration-color: #00af00\">6</span>)              │            <span style=\"color: #00af00; text-decoration-color: #00af00\">24</span> │\n",
       "├─────────────────────────────────┼────────────────────────┼───────────────┤\n",
       "│ dense_131 (<span style=\"color: #0087ff; text-decoration-color: #0087ff\">Dense</span>)               │ (<span style=\"color: #00d7ff; text-decoration-color: #00d7ff\">None</span>, <span style=\"color: #00af00; text-decoration-color: #00af00\">12</span>)             │            <span style=\"color: #00af00; text-decoration-color: #00af00\">84</span> │\n",
       "├─────────────────────────────────┼────────────────────────┼───────────────┤\n",
       "│ dense_132 (<span style=\"color: #0087ff; text-decoration-color: #0087ff\">Dense</span>)               │ (<span style=\"color: #00d7ff; text-decoration-color: #00d7ff\">None</span>, <span style=\"color: #00af00; text-decoration-color: #00af00\">24</span>)             │           <span style=\"color: #00af00; text-decoration-color: #00af00\">312</span> │\n",
       "├─────────────────────────────────┼────────────────────────┼───────────────┤\n",
       "│ dense_133 (<span style=\"color: #0087ff; text-decoration-color: #0087ff\">Dense</span>)               │ (<span style=\"color: #00d7ff; text-decoration-color: #00d7ff\">None</span>, <span style=\"color: #00af00; text-decoration-color: #00af00\">12</span>)             │           <span style=\"color: #00af00; text-decoration-color: #00af00\">300</span> │\n",
       "├─────────────────────────────────┼────────────────────────┼───────────────┤\n",
       "│ dense_134 (<span style=\"color: #0087ff; text-decoration-color: #0087ff\">Dense</span>)               │ (<span style=\"color: #00d7ff; text-decoration-color: #00d7ff\">None</span>, <span style=\"color: #00af00; text-decoration-color: #00af00\">6</span>)              │            <span style=\"color: #00af00; text-decoration-color: #00af00\">78</span> │\n",
       "├─────────────────────────────────┼────────────────────────┼───────────────┤\n",
       "│ dense_135 (<span style=\"color: #0087ff; text-decoration-color: #0087ff\">Dense</span>)               │ (<span style=\"color: #00d7ff; text-decoration-color: #00d7ff\">None</span>, <span style=\"color: #00af00; text-decoration-color: #00af00\">2</span>)              │            <span style=\"color: #00af00; text-decoration-color: #00af00\">14</span> │\n",
       "└─────────────────────────────────┴────────────────────────┴───────────────┘\n",
       "</pre>\n"
      ]
     },
     "metadata": {},
     "output_type": "display_data"
    },
    {
     "data": {
      "text/plain": [
       "\u001B[1m Total params: \u001B[0m\u001B[38;5;34m2,438\u001B[0m (9.53 KB)\n"
      ],
      "text/html": [
       "<pre style=\"white-space:pre;overflow-x:auto;line-height:normal;font-family:Menlo,'DejaVu Sans Mono',consolas,'Courier New',monospace\"><span style=\"font-weight: bold\"> Total params: </span><span style=\"color: #00af00; text-decoration-color: #00af00\">2,438</span> (9.53 KB)\n",
       "</pre>\n"
      ]
     },
     "metadata": {},
     "output_type": "display_data"
    },
    {
     "data": {
      "text/plain": [
       "\u001B[1m Trainable params: \u001B[0m\u001B[38;5;34m812\u001B[0m (3.17 KB)\n"
      ],
      "text/html": [
       "<pre style=\"white-space:pre;overflow-x:auto;line-height:normal;font-family:Menlo,'DejaVu Sans Mono',consolas,'Courier New',monospace\"><span style=\"font-weight: bold\"> Trainable params: </span><span style=\"color: #00af00; text-decoration-color: #00af00\">812</span> (3.17 KB)\n",
       "</pre>\n"
      ]
     },
     "metadata": {},
     "output_type": "display_data"
    },
    {
     "data": {
      "text/plain": [
       "\u001B[1m Non-trainable params: \u001B[0m\u001B[38;5;34m0\u001B[0m (0.00 B)\n"
      ],
      "text/html": [
       "<pre style=\"white-space:pre;overflow-x:auto;line-height:normal;font-family:Menlo,'DejaVu Sans Mono',consolas,'Courier New',monospace\"><span style=\"font-weight: bold\"> Non-trainable params: </span><span style=\"color: #00af00; text-decoration-color: #00af00\">0</span> (0.00 B)\n",
       "</pre>\n"
      ]
     },
     "metadata": {},
     "output_type": "display_data"
    },
    {
     "data": {
      "text/plain": [
       "\u001B[1m Optimizer params: \u001B[0m\u001B[38;5;34m1,626\u001B[0m (6.36 KB)\n"
      ],
      "text/html": [
       "<pre style=\"white-space:pre;overflow-x:auto;line-height:normal;font-family:Menlo,'DejaVu Sans Mono',consolas,'Courier New',monospace\"><span style=\"font-weight: bold\"> Optimizer params: </span><span style=\"color: #00af00; text-decoration-color: #00af00\">1,626</span> (6.36 KB)\n",
       "</pre>\n"
      ]
     },
     "metadata": {},
     "output_type": "display_data"
    }
   ]
  },
  {
   "metadata": {
    "ExecuteTime": {
     "end_time": "2024-05-08T14:44:22.821043Z",
     "start_time": "2024-05-08T14:44:22.722451Z"
    }
   },
   "cell_type": "code",
   "source": [
    "# 5\n",
    "comicGuy = pd.DataFrame({'hair length': [8], 'weight': [500], 'age': [38]})\n",
    "comicGuy_norm = (comicGuy - x_simpsons.min()) / (x_simpsons.max() - x_simpsons.min())\n",
    "prediction = model_simpsons.predict(comicGuy_norm)\n",
    "print(f\"Prediction: {prediction}\")"
   ],
   "id": "eaa0efaa8d9bc623",
   "outputs": [
    {
     "name": "stdout",
     "output_type": "stream",
     "text": [
      "\u001B[1m1/1\u001B[0m \u001B[32m━━━━━━━━━━━━━━━━━━━━\u001B[0m\u001B[37m\u001B[0m \u001B[1m0s\u001B[0m 26ms/step\n",
      "Prediction: [[0.62706274 0.37293726]]\n"
     ]
    }
   ],
   "execution_count": 107
  },
  {
   "metadata": {},
   "cell_type": "markdown",
   "source": [
    "### Question 4: Forecast demo Revisited\n",
    "- We willen de opbrengsten van een bedrijf per kwartaal van de laatste 5 jaar kunnen voorspellen. Deze dataset is erg klein en daarom kunnen we geen validatie-set of test-set construeren. \n",
    "    - Lees de dataset van de Forecasting in (`forecastdemo.csv`)\n",
    "    - Wat voor soort voorspelling trachten we hier te doen? Regressie of classificatie?\n",
    "    - Bepaal welke kolommen we niet kunnen gebruiken bij deze voorspelling?\n",
    "    - Maak nu een input training data set x_forcast en een outputkolom (`y_forcast`). Normaliseer waar nodig.\n",
    "    - Maak een neuraal netwerk met de correcte inputs en outputs. Maak een plot van de ANN.\n",
    "    - Gebruik je neuraal netwerk om de opbrengsten te voorspellen die horen bij `x_forcast`. Komen ze overeen met de werkelijke opbrengsten? Maak één plot van de originele gegevens en de voorspelde gegevens."
   ],
   "id": "cbbb2930e5856c1d"
  },
  {
   "metadata": {},
   "cell_type": "code",
   "source": [
    "# 1\n",
    "forcastDemo = pd.read_csv('../Data/Forcastdemo.csv', delimiter=';')\n",
    "display(forcastDemo.head())"
   ],
   "id": "1c22172c060755b4",
   "outputs": [],
   "execution_count": null
  },
  {
   "metadata": {},
   "cell_type": "code",
   "source": "# 2",
   "id": "82bf7120d5435d28",
   "outputs": [],
   "execution_count": null
  },
  {
   "metadata": {},
   "cell_type": "markdown",
   "source": [
    "### Question 5: Iris\n",
    "- Laad de dataset iris (`iris.csv`) op en bestudeer de inhoud.\n",
    "- Bepaal welke kolommen we niet kunnen gebruiken bij deze voorspelling?\n",
    "- Maak nu een input data set `x_iris` en normaliseer deze. Probeer een van de normalisatietechnieken uit die je nog niet hebt gebruikt in een oefening of opdracht.\n",
    "- Creëer een trainig data set en een test data set (`x_train_iris` en `x_test_iris`) die respectievelijk bestaan uit `80%` en `20%` (willekeurig gekozen) van de input data set `x_iris`.\n",
    "- Maak een neuraal netwerk met de correcte inputs en outputs.\n",
    "- Evalueer je neuraal netwerk op je test data set (`x_test_iris`). Welke nauwkeurigheid (accuracy) behaal je?\n",
    "\n",
    "**Name of Columns**: `sepal length` `sepal width` `petal length` `petal width` `target`"
   ],
   "id": "85679458cdb42976"
  },
  {
   "metadata": {
    "ExecuteTime": {
     "end_time": "2024-05-08T14:47:04.970741Z",
     "start_time": "2024-05-08T14:47:04.939448Z"
    }
   },
   "cell_type": "code",
   "source": [
    "# 1\n",
    "iris = pd.read_csv('../Data/Iris.csv', delimiter=',', decimal='.')\n",
    "display(iris.head())"
   ],
   "id": "19b20b97f96e8fcb",
   "outputs": [
    {
     "data": {
      "text/plain": [
       "   sepal length  sepal width  petal length  petal width       target\n",
       "0           5.1          3.5           1.4          0.2  Iris-setosa\n",
       "1           4.9          3.0           1.4          0.2  Iris-setosa\n",
       "2           4.7          3.2           1.3          0.2  Iris-setosa\n",
       "3           4.6          3.1           1.5          0.2  Iris-setosa\n",
       "4           5.0          3.6           1.4          0.2  Iris-setosa"
      ],
      "text/html": [
       "<div>\n",
       "<style scoped>\n",
       "    .dataframe tbody tr th:only-of-type {\n",
       "        vertical-align: middle;\n",
       "    }\n",
       "\n",
       "    .dataframe tbody tr th {\n",
       "        vertical-align: top;\n",
       "    }\n",
       "\n",
       "    .dataframe thead th {\n",
       "        text-align: right;\n",
       "    }\n",
       "</style>\n",
       "<table border=\"1\" class=\"dataframe\">\n",
       "  <thead>\n",
       "    <tr style=\"text-align: right;\">\n",
       "      <th></th>\n",
       "      <th>sepal length</th>\n",
       "      <th>sepal width</th>\n",
       "      <th>petal length</th>\n",
       "      <th>petal width</th>\n",
       "      <th>target</th>\n",
       "    </tr>\n",
       "  </thead>\n",
       "  <tbody>\n",
       "    <tr>\n",
       "      <th>0</th>\n",
       "      <td>5.1</td>\n",
       "      <td>3.5</td>\n",
       "      <td>1.4</td>\n",
       "      <td>0.2</td>\n",
       "      <td>Iris-setosa</td>\n",
       "    </tr>\n",
       "    <tr>\n",
       "      <th>1</th>\n",
       "      <td>4.9</td>\n",
       "      <td>3.0</td>\n",
       "      <td>1.4</td>\n",
       "      <td>0.2</td>\n",
       "      <td>Iris-setosa</td>\n",
       "    </tr>\n",
       "    <tr>\n",
       "      <th>2</th>\n",
       "      <td>4.7</td>\n",
       "      <td>3.2</td>\n",
       "      <td>1.3</td>\n",
       "      <td>0.2</td>\n",
       "      <td>Iris-setosa</td>\n",
       "    </tr>\n",
       "    <tr>\n",
       "      <th>3</th>\n",
       "      <td>4.6</td>\n",
       "      <td>3.1</td>\n",
       "      <td>1.5</td>\n",
       "      <td>0.2</td>\n",
       "      <td>Iris-setosa</td>\n",
       "    </tr>\n",
       "    <tr>\n",
       "      <th>4</th>\n",
       "      <td>5.0</td>\n",
       "      <td>3.6</td>\n",
       "      <td>1.4</td>\n",
       "      <td>0.2</td>\n",
       "      <td>Iris-setosa</td>\n",
       "    </tr>\n",
       "  </tbody>\n",
       "</table>\n",
       "</div>"
      ]
     },
     "metadata": {},
     "output_type": "display_data"
    }
   ],
   "execution_count": 108
  },
  {
   "metadata": {},
   "cell_type": "code",
   "source": "# 2",
   "id": "294870fa137e7cf1",
   "outputs": [],
   "execution_count": null
  }
 ],
 "metadata": {
  "kernelspec": {
   "display_name": "Python 3",
   "language": "python",
   "name": "python3"
  },
  "language_info": {
   "codemirror_mode": {
    "name": "ipython",
    "version": 2
   },
   "file_extension": ".py",
   "mimetype": "text/x-python",
   "name": "python",
   "nbconvert_exporter": "python",
   "pygments_lexer": "ipython2",
   "version": "2.7.6"
  }
 },
 "nbformat": 4,
 "nbformat_minor": 5
}

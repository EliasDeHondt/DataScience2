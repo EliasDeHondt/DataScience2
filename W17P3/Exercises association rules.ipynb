{
 "cells": [
  {
   "cell_type": "markdown",
   "source": [
    "# Exercises association rules"
   ],
   "metadata": {
    "collapsed": false
   },
   "id": "fc11ae5046d6cd48"
  },
  {
   "cell_type": "code",
   "outputs": [],
   "source": [
    "import pandas as pd # Data manipulation\n",
    "\n",
    "def rule_filter(row, minlen, maxlen):\n",
    "    length = len(row['antecedents']) + len(row['consequents'])\n",
    "    return minlen <= length <= maxlen"
   ],
   "metadata": {
    "collapsed": false,
    "ExecuteTime": {
     "end_time": "2024-03-12T16:06:19.343256Z",
     "start_time": "2024-03-12T16:06:19.336947Z"
    }
   },
   "id": "1796a7e3a7232f25",
   "execution_count": 13
  },
  {
   "cell_type": "markdown",
   "source": [
    "## Theoretical questions"
   ],
   "metadata": {
    "collapsed": false
   },
   "id": "d66cd879508e8eb4"
  },
  {
   "cell_type": "markdown",
   "source": [
    "### Question 1: [Income questionnaire]\n",
    "The UCI Machine Learning Repository [Archive Ics Uci Edu](http://archive.ics.uci.edu/ml/index.php) contains a number of interesting datasets, including the so-called AdultUCI dataset. This is a dataset with a questionnaire that a significant number of respondents completed about their income. In addition to an indication of the income level, it also contains some other attributes. Before we can use it, you have to make some adjustments to the data. The data management chapter is therefore useful here."
   ],
   "metadata": {
    "collapsed": false
   },
   "id": "8dcce8d70aac0bac"
  },
  {
   "cell_type": "markdown",
   "source": [
    "- 1.1. Use Pandas to read this data (`../Data/AdultUCI.csv`) as a data frame called adultUCI."
   ],
   "metadata": {
    "collapsed": false
   },
   "id": "b41df6b24b54df3f"
  },
  {
   "cell_type": "code",
   "outputs": [],
   "source": [
    "adultUCI = pd.read_csv('../Data/AdultUCI.csv', delimiter=';', decimal=',')"
   ],
   "metadata": {
    "collapsed": false,
    "ExecuteTime": {
     "end_time": "2024-03-12T16:06:19.697148Z",
     "start_time": "2024-03-12T16:06:19.596938Z"
    }
   },
   "id": "f61d5f3c36d4ed95",
   "execution_count": 14
  },
  {
   "cell_type": "markdown",
   "source": [
    "- 1.2. View the data set."
   ],
   "metadata": {
    "collapsed": false
   },
   "id": "ac6e6a8db97c7653"
  },
  {
   "cell_type": "code",
   "outputs": [
    {
     "data": {
      "text/plain": "   age         workclass  fnlwgt  education  education-num  \\\n0   39         State-gov   77516  Bachelors             13   \n1   50  Self-emp-not-inc   83311  Bachelors             13   \n2   38           Private  215646    HS-grad              9   \n3   53           Private  234721       11th              7   \n4   28           Private  338409  Bachelors             13   \n\n       marital-status         occupation   relationship   race     sex  \\\n0       Never-married       Adm-clerical  Not-in-family  White    Male   \n1  Married-civ-spouse    Exec-managerial        Husband  White    Male   \n2            Divorced  Handlers-cleaners  Not-in-family  White    Male   \n3  Married-civ-spouse  Handlers-cleaners        Husband  Black    Male   \n4  Married-civ-spouse     Prof-specialty           Wife  Black  Female   \n\n   capital-gain  capital-loss  hours-per-week native-country income  \n0          2174             0              40  United-States  small  \n1             0             0              13  United-States  small  \n2             0             0              40  United-States  small  \n3             0             0              40  United-States  small  \n4             0             0              40           Cuba  small  ",
      "text/html": "<div>\n<style scoped>\n    .dataframe tbody tr th:only-of-type {\n        vertical-align: middle;\n    }\n\n    .dataframe tbody tr th {\n        vertical-align: top;\n    }\n\n    .dataframe thead th {\n        text-align: right;\n    }\n</style>\n<table border=\"1\" class=\"dataframe\">\n  <thead>\n    <tr style=\"text-align: right;\">\n      <th></th>\n      <th>age</th>\n      <th>workclass</th>\n      <th>fnlwgt</th>\n      <th>education</th>\n      <th>education-num</th>\n      <th>marital-status</th>\n      <th>occupation</th>\n      <th>relationship</th>\n      <th>race</th>\n      <th>sex</th>\n      <th>capital-gain</th>\n      <th>capital-loss</th>\n      <th>hours-per-week</th>\n      <th>native-country</th>\n      <th>income</th>\n    </tr>\n  </thead>\n  <tbody>\n    <tr>\n      <th>0</th>\n      <td>39</td>\n      <td>State-gov</td>\n      <td>77516</td>\n      <td>Bachelors</td>\n      <td>13</td>\n      <td>Never-married</td>\n      <td>Adm-clerical</td>\n      <td>Not-in-family</td>\n      <td>White</td>\n      <td>Male</td>\n      <td>2174</td>\n      <td>0</td>\n      <td>40</td>\n      <td>United-States</td>\n      <td>small</td>\n    </tr>\n    <tr>\n      <th>1</th>\n      <td>50</td>\n      <td>Self-emp-not-inc</td>\n      <td>83311</td>\n      <td>Bachelors</td>\n      <td>13</td>\n      <td>Married-civ-spouse</td>\n      <td>Exec-managerial</td>\n      <td>Husband</td>\n      <td>White</td>\n      <td>Male</td>\n      <td>0</td>\n      <td>0</td>\n      <td>13</td>\n      <td>United-States</td>\n      <td>small</td>\n    </tr>\n    <tr>\n      <th>2</th>\n      <td>38</td>\n      <td>Private</td>\n      <td>215646</td>\n      <td>HS-grad</td>\n      <td>9</td>\n      <td>Divorced</td>\n      <td>Handlers-cleaners</td>\n      <td>Not-in-family</td>\n      <td>White</td>\n      <td>Male</td>\n      <td>0</td>\n      <td>0</td>\n      <td>40</td>\n      <td>United-States</td>\n      <td>small</td>\n    </tr>\n    <tr>\n      <th>3</th>\n      <td>53</td>\n      <td>Private</td>\n      <td>234721</td>\n      <td>11th</td>\n      <td>7</td>\n      <td>Married-civ-spouse</td>\n      <td>Handlers-cleaners</td>\n      <td>Husband</td>\n      <td>Black</td>\n      <td>Male</td>\n      <td>0</td>\n      <td>0</td>\n      <td>40</td>\n      <td>United-States</td>\n      <td>small</td>\n    </tr>\n    <tr>\n      <th>4</th>\n      <td>28</td>\n      <td>Private</td>\n      <td>338409</td>\n      <td>Bachelors</td>\n      <td>13</td>\n      <td>Married-civ-spouse</td>\n      <td>Prof-specialty</td>\n      <td>Wife</td>\n      <td>Black</td>\n      <td>Female</td>\n      <td>0</td>\n      <td>0</td>\n      <td>40</td>\n      <td>Cuba</td>\n      <td>small</td>\n    </tr>\n  </tbody>\n</table>\n</div>"
     },
     "metadata": {},
     "output_type": "display_data"
    }
   ],
   "source": [
    "display(adultUCI.head())"
   ],
   "metadata": {
    "collapsed": false,
    "ExecuteTime": {
     "end_time": "2024-03-12T16:06:19.711921Z",
     "start_time": "2024-03-12T16:06:19.699872Z"
    }
   },
   "id": "ce4e897992fd055a",
   "execution_count": 15
  },
  {
   "cell_type": "markdown",
   "source": [
    "- 1.3. Remove the following columns from the data frame: `fnlwgt`, `education-num`, `capital-gain`, `capital-loss`."
   ],
   "metadata": {
    "collapsed": false
   },
   "id": "52f18b95661cc892"
  },
  {
   "cell_type": "code",
   "outputs": [
    {
     "data": {
      "text/plain": "   age         workclass  education      marital-status         occupation  \\\n0   39         State-gov  Bachelors       Never-married       Adm-clerical   \n1   50  Self-emp-not-inc  Bachelors  Married-civ-spouse    Exec-managerial   \n2   38           Private    HS-grad            Divorced  Handlers-cleaners   \n3   53           Private       11th  Married-civ-spouse  Handlers-cleaners   \n4   28           Private  Bachelors  Married-civ-spouse     Prof-specialty   \n\n    relationship   race     sex  hours-per-week native-country income  \n0  Not-in-family  White    Male              40  United-States  small  \n1        Husband  White    Male              13  United-States  small  \n2  Not-in-family  White    Male              40  United-States  small  \n3        Husband  Black    Male              40  United-States  small  \n4           Wife  Black  Female              40           Cuba  small  ",
      "text/html": "<div>\n<style scoped>\n    .dataframe tbody tr th:only-of-type {\n        vertical-align: middle;\n    }\n\n    .dataframe tbody tr th {\n        vertical-align: top;\n    }\n\n    .dataframe thead th {\n        text-align: right;\n    }\n</style>\n<table border=\"1\" class=\"dataframe\">\n  <thead>\n    <tr style=\"text-align: right;\">\n      <th></th>\n      <th>age</th>\n      <th>workclass</th>\n      <th>education</th>\n      <th>marital-status</th>\n      <th>occupation</th>\n      <th>relationship</th>\n      <th>race</th>\n      <th>sex</th>\n      <th>hours-per-week</th>\n      <th>native-country</th>\n      <th>income</th>\n    </tr>\n  </thead>\n  <tbody>\n    <tr>\n      <th>0</th>\n      <td>39</td>\n      <td>State-gov</td>\n      <td>Bachelors</td>\n      <td>Never-married</td>\n      <td>Adm-clerical</td>\n      <td>Not-in-family</td>\n      <td>White</td>\n      <td>Male</td>\n      <td>40</td>\n      <td>United-States</td>\n      <td>small</td>\n    </tr>\n    <tr>\n      <th>1</th>\n      <td>50</td>\n      <td>Self-emp-not-inc</td>\n      <td>Bachelors</td>\n      <td>Married-civ-spouse</td>\n      <td>Exec-managerial</td>\n      <td>Husband</td>\n      <td>White</td>\n      <td>Male</td>\n      <td>13</td>\n      <td>United-States</td>\n      <td>small</td>\n    </tr>\n    <tr>\n      <th>2</th>\n      <td>38</td>\n      <td>Private</td>\n      <td>HS-grad</td>\n      <td>Divorced</td>\n      <td>Handlers-cleaners</td>\n      <td>Not-in-family</td>\n      <td>White</td>\n      <td>Male</td>\n      <td>40</td>\n      <td>United-States</td>\n      <td>small</td>\n    </tr>\n    <tr>\n      <th>3</th>\n      <td>53</td>\n      <td>Private</td>\n      <td>11th</td>\n      <td>Married-civ-spouse</td>\n      <td>Handlers-cleaners</td>\n      <td>Husband</td>\n      <td>Black</td>\n      <td>Male</td>\n      <td>40</td>\n      <td>United-States</td>\n      <td>small</td>\n    </tr>\n    <tr>\n      <th>4</th>\n      <td>28</td>\n      <td>Private</td>\n      <td>Bachelors</td>\n      <td>Married-civ-spouse</td>\n      <td>Prof-specialty</td>\n      <td>Wife</td>\n      <td>Black</td>\n      <td>Female</td>\n      <td>40</td>\n      <td>Cuba</td>\n      <td>small</td>\n    </tr>\n  </tbody>\n</table>\n</div>"
     },
     "metadata": {},
     "output_type": "display_data"
    }
   ],
   "source": [
    "adultUCI = adultUCI.drop(columns=['fnlwgt', 'education-num', 'capital-gain', 'capital-loss'])\n",
    "display(adultUCI.head())"
   ],
   "metadata": {
    "collapsed": false,
    "ExecuteTime": {
     "end_time": "2024-03-12T16:06:19.741952Z",
     "start_time": "2024-03-12T16:06:19.713391Z"
    }
   },
   "id": "42e449944e3abeaf",
   "execution_count": 16
  },
  {
   "cell_type": "markdown",
   "source": [
    "- 1.4. You cannot work with numerical data. Therefore, we will convert the numeric columns to categorize:\n",
    "    - Convert the age column to classes. The breaks of the classes are (`15`, `25`, `45`, `65`, `100`). Convert the classes to the following names (`Young`, `Middle-aged`, `Senior`, `Old`).\n",
    "    - Convert the hours-per-week column to classes. The breaks of the classes are (`0`, `25`, `40`, `60`, `168`). Convert the classes to the following names (\"Part-time\", \"Full-time\", \"Over-time\", \"Workaholic\")"
   ],
   "metadata": {
    "collapsed": false
   },
   "id": "82996318cf7a7ab5"
  },
  {
   "cell_type": "code",
   "outputs": [],
   "source": [],
   "metadata": {
    "collapsed": false,
    "ExecuteTime": {
     "end_time": "2024-03-12T16:06:19.757210Z",
     "start_time": "2024-03-12T16:06:19.743941Z"
    }
   },
   "id": "d45ccf151811f954",
   "execution_count": 16
  },
  {
   "cell_type": "markdown",
   "source": [
    "- 1.5. Convert the data frame to a transactions object with Pandas get_dummies function. Make using the parameter `prefix_sep='='`. Study the result."
   ],
   "metadata": {
    "collapsed": false
   },
   "id": "620d7b7bdcad6009"
  },
  {
   "cell_type": "code",
   "outputs": [],
   "source": [],
   "metadata": {
    "collapsed": false,
    "ExecuteTime": {
     "end_time": "2024-03-12T16:06:19.772375Z",
     "start_time": "2024-03-12T16:06:19.758857Z"
    }
   },
   "id": "578c8e73692e80b7",
   "execution_count": 16
  },
  {
   "cell_type": "markdown",
   "source": [
    "- 1.6. Create a barchart of all items with a support of 0.1 or more."
   ],
   "metadata": {
    "collapsed": false
   },
   "id": "6070de44bfdfd33"
  },
  {
   "cell_type": "code",
   "outputs": [],
   "source": [],
   "metadata": {
    "collapsed": false,
    "ExecuteTime": {
     "end_time": "2024-03-12T16:06:19.787308Z",
     "start_time": "2024-03-12T16:06:19.773476Z"
    }
   },
   "id": "d18f832b04f4acf8",
   "execution_count": 16
  },
  {
   "cell_type": "markdown",
   "source": [
    "- 1.7. Which two items have very high support? Can you conclude from this that the administered questionnaire a good example of a random sample?"
   ],
   "metadata": {
    "collapsed": false
   },
   "id": "cc61bae3d109394c"
  },
  {
   "cell_type": "code",
   "outputs": [],
   "source": [],
   "metadata": {
    "collapsed": false,
    "ExecuteTime": {
     "end_time": "2024-03-12T16:06:19.803136Z",
     "start_time": "2024-03-12T16:06:19.788305Z"
    }
   },
   "id": "44bfac8b48ddafd0",
   "execution_count": 16
  },
  {
   "cell_type": "markdown",
   "source": [
    "- 1.8. Apply the apriori and association_rules algorithms with the following parameters:\n",
    "    - support= 0.05`,\n",
    "    - confidence=`0.6`,\n",
    "    - minlen=`2`, maxlen=`3`."
   ],
   "metadata": {
    "collapsed": false
   },
   "id": "38274c4c7bf85d7a"
  },
  {
   "cell_type": "code",
   "outputs": [],
   "source": [],
   "metadata": {
    "collapsed": false,
    "ExecuteTime": {
     "end_time": "2024-03-12T16:06:19.819001Z",
     "start_time": "2024-03-12T16:06:19.805496Z"
    }
   },
   "id": "a1a696d807d4c60a",
   "execution_count": 16
  },
  {
   "cell_type": "markdown",
   "source": [
    "- 1.9. You can use the following filter function in combination with the .apply function of a DataFrame:\n",
    "```python\n",
    "def rule_filter(row, minlen, maxlen):\n",
    "    length = len(row['antecedents']) + len(row['consequents'])\n",
    "    return minlen <= length <= maxlen\n",
    "```\n",
    "> How many rules did the algorithm find?"
   ],
   "metadata": {
    "collapsed": false
   },
   "id": "ee5c4b5a82eb1955"
  },
  {
   "cell_type": "code",
   "outputs": [],
   "source": [],
   "metadata": {
    "collapsed": false,
    "ExecuteTime": {
     "end_time": "2024-03-12T16:06:19.833725Z",
     "start_time": "2024-03-12T16:06:19.820466Z"
    }
   },
   "id": "cff83f626304373",
   "execution_count": 16
  },
  {
   "cell_type": "markdown",
   "source": [
    "- 1.10. View the rules with the highest confidence? What stands out?"
   ],
   "metadata": {
    "collapsed": false
   },
   "id": "d6410f46d520b3c4"
  },
  {
   "cell_type": "code",
   "outputs": [],
   "source": [],
   "metadata": {
    "collapsed": false,
    "ExecuteTime": {
     "end_time": "2024-03-12T16:06:19.913305Z",
     "start_time": "2024-03-12T16:06:19.906925Z"
    }
   },
   "id": "a568b487cdf6735b",
   "execution_count": 16
  },
  {
   "cell_type": "markdown",
   "source": [
    "- 1.11. Can you explain why there is such a high confidence in this case?"
   ],
   "metadata": {
    "collapsed": false
   },
   "id": "9fe0ea8ba67438bd"
  },
  {
   "cell_type": "code",
   "outputs": [],
   "source": [],
   "metadata": {
    "collapsed": false,
    "ExecuteTime": {
     "end_time": "2024-03-12T16:06:19.974353Z",
     "start_time": "2024-03-12T16:06:19.965046Z"
    }
   },
   "id": "eab0da5b0005c5af",
   "execution_count": 16
  },
  {
   "cell_type": "markdown",
   "source": [
    "- 1.12. That rule and variations on that rule are pretty useless. Therefore, remove the 'relationship' column."
   ],
   "metadata": {
    "collapsed": false
   },
   "id": "1659dbe83ce5eaf"
  },
  {
   "cell_type": "code",
   "outputs": [],
   "source": [],
   "metadata": {
    "collapsed": false,
    "ExecuteTime": {
     "end_time": "2024-03-12T16:06:20.101251Z",
     "start_time": "2024-03-12T16:06:20.084523Z"
    }
   },
   "id": "14e95baefe9c15ac",
   "execution_count": 16
  },
  {
   "cell_type": "markdown",
   "source": [
    "- 1.13. Run the apriori algorithm again. Which rule has the greatest confidence?"
   ],
   "metadata": {
    "collapsed": false
   },
   "id": "2a7a709316d55274"
  },
  {
   "cell_type": "code",
   "outputs": [],
   "source": [],
   "metadata": {
    "collapsed": false,
    "ExecuteTime": {
     "end_time": "2024-03-12T16:06:20.116416Z",
     "start_time": "2024-03-12T16:06:20.104091Z"
    }
   },
   "id": "2c559ab3ba02e6b8",
   "execution_count": 16
  },
  {
   "cell_type": "markdown",
   "source": [
    "- 1.14. If you look at the Lift of this line, would you still consider it a good association consider rule?"
   ],
   "metadata": {
    "collapsed": false
   },
   "id": "6a51c3fa34d0fb31"
  },
  {
   "cell_type": "code",
   "outputs": [],
   "source": [],
   "metadata": {
    "collapsed": false,
    "ExecuteTime": {
     "end_time": "2024-03-12T16:06:20.163568Z",
     "start_time": "2024-03-12T16:06:20.146793Z"
    }
   },
   "id": "5aab9a28fdd5e96a",
   "execution_count": 16
  },
  {
   "cell_type": "markdown",
   "source": [
    "- 1.15. If a respondent indicates that he works overtime (`hours-per-week`) and has a limited income (`income = small`), in which age category can we expect him to be? How sure are you of that?"
   ],
   "metadata": {
    "collapsed": false
   },
   "id": "55d3fd5a069689c9"
  },
  {
   "cell_type": "code",
   "outputs": [],
   "source": [],
   "metadata": {
    "collapsed": false,
    "ExecuteTime": {
     "end_time": "2024-03-12T16:06:20.242153Z",
     "start_time": "2024-03-12T16:06:20.225292Z"
    }
   },
   "id": "8436c16d0088b61a",
   "execution_count": 16
  },
  {
   "cell_type": "markdown",
   "source": [
    "- 1.16. Describe what the elevator says about the rule used in n."
   ],
   "metadata": {
    "collapsed": false
   },
   "id": "b20c80dbc84ecba3"
  },
  {
   "cell_type": "code",
   "outputs": [],
   "source": [],
   "metadata": {
    "collapsed": false,
    "ExecuteTime": {
     "end_time": "2024-03-12T16:06:20.273344Z",
     "start_time": "2024-03-12T16:06:20.260145Z"
    }
   },
   "id": "7c360907e6a3239c",
   "execution_count": 16
  },
  {
   "cell_type": "markdown",
   "source": [
    "- 1.17. Does the combination of the three items from the previous 2 questions occur often? What number do you have?\n",
    "used for this?"
   ],
   "metadata": {
    "collapsed": false
   },
   "id": "24f5856254763b18"
  },
  {
   "cell_type": "code",
   "outputs": [],
   "source": [],
   "metadata": {
    "collapsed": false,
    "ExecuteTime": {
     "end_time": "2024-03-12T16:06:20.335991Z",
     "start_time": "2024-03-12T16:06:20.325506Z"
    }
   },
   "id": "995b4913beafd21c",
   "execution_count": 16
  },
  {
   "cell_type": "markdown",
   "source": [
    "- 1.18. Have you come across a rule somewhere that says `hours-per-week=Workaholic`? Can you explain why?\n",
    "is this so?"
   ],
   "metadata": {
    "collapsed": false
   },
   "id": "8e9d6a0c44f06602"
  },
  {
   "cell_type": "code",
   "outputs": [],
   "source": [],
   "metadata": {
    "collapsed": false,
    "ExecuteTime": {
     "end_time": "2024-03-12T16:06:20.367284Z",
     "start_time": "2024-03-12T16:06:20.353084Z"
    }
   },
   "id": "715b6e3d63b8fbb5",
   "execution_count": 16
  },
  {
   "cell_type": "markdown",
   "source": [
    "### Question 2: [Fruit promotion]\n",
    "A supermarket wants to attract people to the store with a very strong promotion for fruit. Because she If they don't make a profit on that promotion, they want to compensate for that with another type right next to it to produce fruit that will increase the price slightly so that the profit margin on it can partially offset the loss compensate. The store wants to know which fruit to promote and which fruit to use the most has a chance to be purchased with the fruit on promotion."
   ],
   "metadata": {
    "collapsed": false
   },
   "id": "3d07b7bd896afd9c"
  },
  {
   "cell_type": "markdown",
   "source": [
    "- 2.1. Use the fruit preferences from the questionnaire dataset (`../DataFruitPurchase.csv`) toto draw up the rules."
   ],
   "metadata": {
    "collapsed": false
   },
   "id": "d1ceb0901b94f23c"
  },
  {
   "cell_type": "code",
   "outputs": [
    {
     "data": {
      "text/plain": "   Aardbei  Ananas  Appel  Banaan   Kers   Kiwi  Meloen   Peer  Pruim  \\\n0     True    True  False   False  False  False    True  False  False   \n1     True   False  False   False  False   True    True  False  False   \n2     True   False   True   False  False  False   False  False  False   \n3     True   False  False    True   True  False   False  False  False   \n4     True    True   True   False  False  False   False  False  False   \n\n   Sinaasappel  \n0        False  \n1        False  \n2         True  \n3        False  \n4        False  ",
      "text/html": "<div>\n<style scoped>\n    .dataframe tbody tr th:only-of-type {\n        vertical-align: middle;\n    }\n\n    .dataframe tbody tr th {\n        vertical-align: top;\n    }\n\n    .dataframe thead th {\n        text-align: right;\n    }\n</style>\n<table border=\"1\" class=\"dataframe\">\n  <thead>\n    <tr style=\"text-align: right;\">\n      <th></th>\n      <th>Aardbei</th>\n      <th>Ananas</th>\n      <th>Appel</th>\n      <th>Banaan</th>\n      <th>Kers</th>\n      <th>Kiwi</th>\n      <th>Meloen</th>\n      <th>Peer</th>\n      <th>Pruim</th>\n      <th>Sinaasappel</th>\n    </tr>\n  </thead>\n  <tbody>\n    <tr>\n      <th>0</th>\n      <td>True</td>\n      <td>True</td>\n      <td>False</td>\n      <td>False</td>\n      <td>False</td>\n      <td>False</td>\n      <td>True</td>\n      <td>False</td>\n      <td>False</td>\n      <td>False</td>\n    </tr>\n    <tr>\n      <th>1</th>\n      <td>True</td>\n      <td>False</td>\n      <td>False</td>\n      <td>False</td>\n      <td>False</td>\n      <td>True</td>\n      <td>True</td>\n      <td>False</td>\n      <td>False</td>\n      <td>False</td>\n    </tr>\n    <tr>\n      <th>2</th>\n      <td>True</td>\n      <td>False</td>\n      <td>True</td>\n      <td>False</td>\n      <td>False</td>\n      <td>False</td>\n      <td>False</td>\n      <td>False</td>\n      <td>False</td>\n      <td>True</td>\n    </tr>\n    <tr>\n      <th>3</th>\n      <td>True</td>\n      <td>False</td>\n      <td>False</td>\n      <td>True</td>\n      <td>True</td>\n      <td>False</td>\n      <td>False</td>\n      <td>False</td>\n      <td>False</td>\n      <td>False</td>\n    </tr>\n    <tr>\n      <th>4</th>\n      <td>True</td>\n      <td>True</td>\n      <td>True</td>\n      <td>False</td>\n      <td>False</td>\n      <td>False</td>\n      <td>False</td>\n      <td>False</td>\n      <td>False</td>\n      <td>False</td>\n    </tr>\n  </tbody>\n</table>\n</div>"
     },
     "metadata": {},
     "output_type": "display_data"
    }
   ],
   "source": [
    "fruit = pd.read_csv('../Data/FruitPurchase.csv', delimiter=';', decimal=',')\n",
    "display(fruit.head())"
   ],
   "metadata": {
    "collapsed": false,
    "ExecuteTime": {
     "end_time": "2024-03-12T16:06:54.331995Z",
     "start_time": "2024-03-12T16:06:54.309729Z"
    }
   },
   "id": "b837a52e5d751ed9",
   "execution_count": 18
  },
  {
   "cell_type": "markdown",
   "source": [
    "- 2.2 Create association rules using this list. Use the following parameters for the apriori algorithm or the fp-growth algorithm:\n",
    "    - support=`0.1`\n",
    "    - confidence=`0.3`\n",
    "    - minlen=`2`, maxlen=`2`)"
   ],
   "metadata": {
    "collapsed": false
   },
   "id": "f0bcb30b4995615d"
  },
  {
   "cell_type": "code",
   "outputs": [],
   "source": [],
   "metadata": {
    "collapsed": false,
    "ExecuteTime": {
     "end_time": "2024-03-12T16:06:20.414176Z",
     "start_time": "2024-03-12T16:06:20.402097Z"
    }
   },
   "id": "73278ac86b608f74",
   "execution_count": 16
  },
  {
   "cell_type": "markdown",
   "source": [
    "- 2.3. Find the association rule with the highest confidence."
   ],
   "metadata": {
    "collapsed": false
   },
   "id": "1dcf4e50a2171471"
  },
  {
   "cell_type": "code",
   "outputs": [],
   "source": [],
   "metadata": {
    "collapsed": false,
    "ExecuteTime": {
     "end_time": "2024-03-12T16:06:20.445037Z",
     "start_time": "2024-03-12T16:06:20.431073Z"
    }
   },
   "id": "241f0f7a12fc19f5",
   "execution_count": 16
  },
  {
   "cell_type": "markdown",
   "source": [
    "- 2.4. Which fruit will the store promote based on that rule?"
   ],
   "metadata": {
    "collapsed": false
   },
   "id": "e624826d7141821a"
  },
  {
   "cell_type": "code",
   "outputs": [],
   "source": [],
   "metadata": {
    "collapsed": false,
    "ExecuteTime": {
     "end_time": "2024-03-12T16:06:20.509139Z",
     "start_time": "2024-03-12T16:06:20.494399Z"
    }
   },
   "id": "23ab4a95cfa623d7",
   "execution_count": 16
  },
  {
   "cell_type": "markdown",
   "source": [
    "- 2.5. Based on that rule, which fruit will the store place next to the promotional item?"
   ],
   "metadata": {
    "collapsed": false
   },
   "id": "614a3b1a8373a0cd"
  },
  {
   "cell_type": "code",
   "outputs": [],
   "source": [],
   "metadata": {
    "collapsed": false,
    "ExecuteTime": {
     "end_time": "2024-03-12T16:06:20.540681Z",
     "start_time": "2024-03-12T16:06:20.527010Z"
    }
   },
   "id": "97a4d66e679ac5a1",
   "execution_count": 16
  },
  {
   "cell_type": "markdown",
   "source": [
    "- 2.6. What percentage of the students who completed the questionnaire have the combination of the two fruit types are in their top 3?"
   ],
   "metadata": {
    "collapsed": false
   },
   "id": "6438d35cb7cf39ec"
  },
  {
   "cell_type": "code",
   "outputs": [],
   "source": [],
   "metadata": {
    "collapsed": false,
    "ExecuteTime": {
     "end_time": "2024-03-12T16:06:20.615961Z",
     "start_time": "2024-03-12T16:06:20.604590Z"
    }
   },
   "id": "59431b79068364c3",
   "execution_count": 16
  },
  {
   "cell_type": "markdown",
   "source": [
    "- 2.7. What can you say about the fruit in promotion based on the lift?"
   ],
   "metadata": {
    "collapsed": false
   },
   "id": "45ae387d19481ee3"
  },
  {
   "cell_type": "code",
   "outputs": [],
   "source": [],
   "metadata": {
    "collapsed": false,
    "ExecuteTime": {
     "end_time": "2024-03-12T16:06:20.647608Z",
     "start_time": "2024-03-12T16:06:20.642561Z"
    }
   },
   "id": "675e0a2c083f6c4f",
   "execution_count": 16
  },
  {
   "cell_type": "markdown",
   "source": [
    "## Practical exercises (Python)"
   ],
   "metadata": {
    "collapsed": false
   },
   "id": "f8f39a382b50d97a"
  },
  {
   "cell_type": "code",
   "outputs": [],
   "source": [],
   "metadata": {
    "collapsed": false,
    "ExecuteTime": {
     "end_time": "2024-03-12T16:06:20.711358Z",
     "start_time": "2024-03-12T16:06:20.698458Z"
    }
   },
   "id": "5e61cb3cb6fe7e97",
   "execution_count": 16
  },
  {
   "cell_type": "markdown",
   "source": [
    "### Exercise 1:"
   ],
   "metadata": {
    "collapsed": false
   },
   "id": "439b67b46397307e"
  },
  {
   "cell_type": "code",
   "outputs": [],
   "source": [],
   "metadata": {
    "collapsed": false,
    "ExecuteTime": {
     "end_time": "2024-03-12T16:06:20.742965Z",
     "start_time": "2024-03-12T16:06:20.732901Z"
    }
   },
   "id": "226a017cd1abc68e",
   "execution_count": 16
  },
  {
   "cell_type": "markdown",
   "source": [
    "### Exercise 2:"
   ],
   "metadata": {
    "collapsed": false
   },
   "id": "e8f1254695876091"
  },
  {
   "cell_type": "code",
   "outputs": [],
   "source": [],
   "metadata": {
    "collapsed": false,
    "ExecuteTime": {
     "end_time": "2024-03-12T16:06:20.820768Z",
     "start_time": "2024-03-12T16:06:20.810863Z"
    }
   },
   "id": "c0d4588203e46fa1",
   "execution_count": 16
  },
  {
   "cell_type": "markdown",
   "source": [
    "### Exercise 3:"
   ],
   "metadata": {
    "collapsed": false
   },
   "id": "4763d5f4fbadd085"
  },
  {
   "cell_type": "code",
   "outputs": [],
   "source": [],
   "metadata": {
    "collapsed": false,
    "ExecuteTime": {
     "end_time": "2024-03-12T16:06:20.836572Z",
     "start_time": "2024-03-12T16:06:20.822166Z"
    }
   },
   "id": "2b6f2cdb5583c35f",
   "execution_count": 16
  },
  {
   "cell_type": "markdown",
   "source": [
    "### Exercise 4:"
   ],
   "metadata": {
    "collapsed": false
   },
   "id": "f56a43dca7238bc9"
  },
  {
   "cell_type": "code",
   "outputs": [],
   "source": [],
   "metadata": {
    "collapsed": false,
    "ExecuteTime": {
     "end_time": "2024-03-12T16:06:20.851586Z",
     "start_time": "2024-03-12T16:06:20.838075Z"
    }
   },
   "id": "cfe85b4d1d57ec5c",
   "execution_count": 16
  }
 ],
 "metadata": {
  "kernelspec": {
   "display_name": "Python 3",
   "language": "python",
   "name": "python3"
  },
  "language_info": {
   "codemirror_mode": {
    "name": "ipython",
    "version": 2
   },
   "file_extension": ".py",
   "mimetype": "text/x-python",
   "name": "python",
   "nbconvert_exporter": "python",
   "pygments_lexer": "ipython2",
   "version": "2.7.6"
  }
 },
 "nbformat": 4,
 "nbformat_minor": 5
}

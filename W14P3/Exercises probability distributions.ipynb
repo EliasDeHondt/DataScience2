{
 "cells": [
  {
   "cell_type": "markdown",
   "source": [
    "# Exercises probability distributions"
   ],
   "metadata": {
    "collapsed": false
   },
   "id": "fc11ae5046d6cd48"
  },
  {
   "cell_type": "code",
   "outputs": [],
   "source": [
    "from scipy.stats import binom # Binomial distribution\n",
    "from scipy.stats import poisson # Poisson distribution\n",
    "from scipy.stats import norm # Normal distribution\n",
    "import pandas as pd # Data manipulation\n",
    "import numpy as np # Numerical computing\n",
    "import matplotlib.pyplot as plt # Data visualization"
   ],
   "metadata": {
    "collapsed": false,
    "ExecuteTime": {
     "end_time": "2024-02-25T08:29:03.702182500Z",
     "start_time": "2024-02-25T08:29:03.372123800Z"
    }
   },
   "id": "5cab674da4efc16e",
   "execution_count": 26
  },
  {
   "cell_type": "markdown",
   "source": [
    "## Theoretical questions"
   ],
   "metadata": {
    "collapsed": false
   },
   "id": "d66cd879508e8eb4"
  },
  {
   "cell_type": "markdown",
   "source": [
    "### Question 1:\n",
    "Luna gooit `4` keer met een dobbelsteen (antwoord met `4` beduidende cijfers):\n",
    "- Hoe groot is de kans op precies één `6`?\n",
    "- Hoe groot is de kans op vier zessen?\n",
    "- Hoe groot is de kans op `2` worpen onder de `3` en `2` worpen `3` of hoger?\n"
   ],
   "metadata": {
    "collapsed": false
   },
   "id": "8dcce8d70aac0bac"
  },
  {
   "cell_type": "code",
   "outputs": [],
   "source": [],
   "metadata": {
    "collapsed": false,
    "ExecuteTime": {
     "end_time": "2024-02-25T08:29:03.750539100Z",
     "start_time": "2024-02-25T08:29:03.703464600Z"
    }
   },
   "id": "f61d5f3c36d4ed95",
   "execution_count": 26
  },
  {
   "cell_type": "markdown",
   "source": [
    "### Question 2:\n",
    "`6` Applied Computer Science students must take an `English` test. The probability of passing the exam `0.75`.\n",
    "- What is the probability that exactly `4` of them will succeed?\n",
    "- What is the probability that exactly `5` of them will succeed?\n",
    "- What is the probability that exactly `6` of them will succeed?\n",
    "- What is the probability that less than `4` of them will succeed?"
   ],
   "metadata": {
    "collapsed": false
   },
   "id": "ac6e6a8db97c7653"
  },
  {
   "cell_type": "code",
   "outputs": [
    {
     "name": "stdout",
     "output_type": "stream",
     "text": [
      "0.296630859375\n",
      "0.3559570312499999\n",
      "0.177978515625\n",
      "0.16943359375\n"
     ]
    }
   ],
   "source": [
    "# De binomiale verdeling\n",
    "x = range (0,7)\n",
    "\n",
    "# 1\n",
    "print(binom.pmf(4, 6,3/4))\n",
    "\n",
    "# 2\n",
    "print(binom.pmf(5, 6, 3/4))\n",
    "\n",
    "# 3\n",
    "print(binom.pmf(6, 6, 3/4))\n",
    "\n",
    "# 4\n",
    "print(binom.cdf(3 ,6, 3/4))"
   ],
   "metadata": {
    "collapsed": false,
    "ExecuteTime": {
     "end_time": "2024-02-25T08:29:03.782584200Z",
     "start_time": "2024-02-25T08:29:03.751940Z"
    }
   },
   "id": "ce4e897992fd055a",
   "execution_count": 27
  },
  {
   "cell_type": "markdown",
   "source": [
    "### Question 3:\n",
    "Op weg naar de school, passeer je `6` verkeerslichten. Deze zijn jammer genoeg helemaal niet gesynchroniseerd. Ze werken totaal onafhankelijk van elkaar. De verkeerslichten staan ongeveer `40%` van de tijd op rood.\n",
    "- Wat is de kans dat je geen enkel rood licht hebt, onderweg?\n",
    "- Wat is de kans dat alle verkeerslichten op rood staan?\n",
    "- Wat is de kans om meer dan `2` lichten op rood tegen te komen?\n",
    "- Als je weet dat je gemiddeld `2` minuten verliest per rood licht. Hoeveel tijd verwacht je dan gemiddeld te verliezen op een traject?\n"
   ],
   "metadata": {
    "collapsed": false
   },
   "id": "52f18b95661cc892"
  },
  {
   "cell_type": "code",
   "outputs": [],
   "source": [],
   "metadata": {
    "collapsed": false,
    "ExecuteTime": {
     "end_time": "2024-02-25T08:29:03.876071200Z",
     "start_time": "2024-02-25T08:29:03.784818400Z"
    }
   },
   "id": "42e449944e3abeaf",
   "execution_count": 27
  },
  {
   "cell_type": "markdown",
   "source": [
    "### Question 4:\n",
    "If you cycle to school, you will have a flat tire on average `2` a year.\n",
    "- What is the probability that you will not have a flat tire in a given year?\n",
    "- What is the probability that you will have more than `3` flat tires in a year?\n",
    "- What is the probability that you will have `2` flat tires in `1` month?"
   ],
   "metadata": {
    "collapsed": false
   },
   "id": "82996318cf7a7ab5"
  },
  {
   "cell_type": "code",
   "outputs": [
    {
     "name": "stdout",
     "output_type": "stream",
     "text": [
      "0.1353352832366127\n",
      "0.14287653950145296\n",
      "0.011756690623480748\n"
     ]
    }
   ],
   "source": [
    "# De Poisson verdeling\n",
    "# 1\n",
    "print(poisson.pmf(0, 2)) # 0 = aantal lekke banden | 2 = gemiddeld aantal lekke banden\n",
    "\n",
    "# 2\n",
    "print(1 - poisson.cdf(3, 2)) # 3 = aantal lekke banden | 2 = gemiddeld aantal lekke banden\n",
    "\n",
    "# 3\n",
    "print(poisson.pmf(2, 2/12)) # 2 = aantal lekke banden | 2/12 = gemiddeld aantal lekke banden"
   ],
   "metadata": {
    "collapsed": false,
    "ExecuteTime": {
     "end_time": "2024-02-25T08:29:03.904628300Z",
     "start_time": "2024-02-25T08:29:03.856664Z"
    }
   },
   "id": "d45ccf151811f954",
   "execution_count": 28
  },
  {
   "cell_type": "markdown",
   "source": [
    "### Question 5:\n",
    "Een gebruiker krijgt gemiddeld `20` emails per dag. Op een dag krijgt hij er `100` en vraagt zich af of dit nog wel normaal is.\n",
    "- Wat is de kans dat hij meer dan `100` emails op een dag krijgt?\n",
    "- Wat is de kans dat hij er meer dan `30` op een dag krijgt?\n",
    "- Wat is de kans dat hij er exact `20` op een dag krijgt?\n",
    "- Wat is de kans dat hij er `10` of minder op een dag krijgt?\n",
    "- Wat is de kans dat hij er `650` of minder op een maand (`30` dagen) krijgt?"
   ],
   "metadata": {
    "collapsed": false
   },
   "id": "620d7b7bdcad6009"
  },
  {
   "cell_type": "code",
   "outputs": [],
   "source": [],
   "metadata": {
    "collapsed": false,
    "ExecuteTime": {
     "end_time": "2024-02-25T08:29:03.975309700Z",
     "start_time": "2024-02-25T08:29:03.884416600Z"
    }
   },
   "id": "578c8e73692e80b7",
   "execution_count": 28
  },
  {
   "cell_type": "markdown",
   "source": [
    "### Question 6:\n",
    "An average of `3.5` bitcoin transactions are carried out per second. However, the maximum number of transactions the network can process is `7` per second.\n",
    "- What is the probability that more than `7` transactions need to be executed during one second?\n",
    "- What is the probability that there is no transaction for one second?\n",
    "- What is the probability that there are `3` or less transactions during a second?\n",
    "- What is the probability that there are `2` or more transactions during a second?\n",
    "- How many transactions do you expect in a day?"
   ],
   "metadata": {
    "collapsed": false
   },
   "id": "6070de44bfdfd33"
  },
  {
   "cell_type": "code",
   "outputs": [
    {
     "name": "stdout",
     "output_type": "stream",
     "text": [
      "0.026738922091319672\n",
      "0.0301973834223185\n",
      "0.536632667900785\n",
      "0.8641117745995668\n",
      "302400.0\n"
     ]
    }
   ],
   "source": [
    "# De Poisson verdeling\n",
    "# 1\n",
    "print(1 - poisson.cdf(7, 3.5)) # 7 = aantal transacties | 3.5 = gemiddeld aantal transacties\n",
    "\n",
    "# 2\n",
    "print(poisson.pmf(0, 3.5)) # 0 = aantal transacties | 3.5 = gemiddeld aantal transacties\n",
    "\n",
    "# 3\n",
    "print(poisson.cdf(3, 3.5)) # 3 = aantal transacties | 3.5 = gemiddeld aantal transacties\n",
    "\n",
    "# 4\n",
    "print(1 - poisson.cdf(1, 3.5)) # 1 = aantal transacties | 3.5 = gemiddeld aantal transacties\n",
    "\n",
    "# 5\n",
    "print(poisson.mean(3.5 * 60 * 60 * 24)) # 3.5 = gemiddeld aantal transacties per seconde"
   ],
   "metadata": {
    "collapsed": false,
    "ExecuteTime": {
     "end_time": "2024-02-25T08:29:04.007051700Z",
     "start_time": "2024-02-25T08:29:03.957034800Z"
    }
   },
   "id": "d18f832b04f4acf8",
   "execution_count": 29
  },
  {
   "cell_type": "markdown",
   "source": [
    "### Question 7:\n",
    "A test consists of `40` questions and the average difficulty of the questions is `0.85` (the probability of a correct answer is `0.85`). Students receive `1` point per question. Which of the following values are the correct-expected value and standard deviation of the score on this test?\n",
    "- µ=34 and ơ=2,26\n",
    "- µ=29 and ơ=2,26\n",
    "- µ=34 and ơ=5,10\n",
    "- µ=29 and ơ=5,10"
   ],
   "metadata": {
    "collapsed": false
   },
   "id": "cc61bae3d109394c"
  },
  {
   "cell_type": "code",
   "outputs": [
    {
     "name": "stdout",
     "output_type": "stream",
     "text": [
      "34.0\n",
      "2.2583179581272432\n"
     ]
    }
   ],
   "source": [
    "# De binomiale verdeling\n",
    "\n",
    "print(binom.mean(40, 0.85)) # Gemiddelde\n",
    "\n",
    "print(binom.std(40, 0.85)) # Standaardafwijking"
   ],
   "metadata": {
    "collapsed": false,
    "ExecuteTime": {
     "end_time": "2024-02-25T08:29:04.076912200Z",
     "start_time": "2024-02-25T08:29:04.009881800Z"
    }
   },
   "id": "44bfac8b48ddafd0",
   "execution_count": 30
  },
  {
   "cell_type": "markdown",
   "source": [
    "### Question 8:\n",
    "Voor de standaardnormale verdeling, wat zijn de volgende kansen?\n",
    "- P(Z ≥ +1,64)\n",
    "- P(Z ≥ -1,32)\n",
    "- P(Z ≤ -0,18)\n",
    "- P(Z ≤ +1,28)\n",
    "- P(0,45 ≤ Z ≤ 0,92)\n",
    "- P(-0,72 ≤ Z ≤ -0,38)\n"
   ],
   "metadata": {
    "collapsed": false
   },
   "id": "38274c4c7bf85d7a"
  },
  {
   "cell_type": "code",
   "outputs": [],
   "source": [],
   "metadata": {
    "collapsed": false,
    "ExecuteTime": {
     "end_time": "2024-02-25T08:29:04.119903100Z",
     "start_time": "2024-02-25T08:29:04.057933200Z"
    }
   },
   "id": "a1a696d807d4c60a",
   "execution_count": 30
  },
  {
   "cell_type": "markdown",
   "source": [
    "### Question 9:\n",
    "In a class, the average hair length is normally distributed `µ=20cm` and `ơ=4`. What are the next opportunities?\n",
    "- The probability that someone's hair is longer than `28cm`\n",
    "- The chance that someone's hair is shorter than `16cm`\n",
    "- The chance that someone has hair between `18cm` and `22cm`"
   ],
   "metadata": {
    "collapsed": false
   },
   "id": "ee5c4b5a82eb1955"
  },
  {
   "cell_type": "code",
   "outputs": [
    {
     "name": "stdout",
     "output_type": "stream",
     "text": [
      "0.02275013194817921\n",
      "0.15865525393145707\n",
      "0.38292492254802624\n"
     ]
    }
   ],
   "source": [
    "# De normale verdeling\n",
    "# 1\n",
    "print(1 - norm.cdf(28, loc=20, scale=4)) # 1 - P(x<=28)\n",
    "\n",
    "# 2\n",
    "print(norm.cdf(16, loc=20, scale=4)) # P(x<=16)\n",
    "\n",
    "# 3\n",
    "print(norm.cdf(22, loc=20, scale=4) - norm.cdf(18, loc=20, scale=4)) # P(18<=x<=22)"
   ],
   "metadata": {
    "collapsed": false,
    "ExecuteTime": {
     "end_time": "2024-02-25T08:29:04.169242700Z",
     "start_time": "2024-02-25T08:29:04.123879400Z"
    }
   },
   "id": "cff83f626304373",
   "execution_count": 31
  },
  {
   "cell_type": "markdown",
   "source": [
    "### Question 10:\n",
    "We bouwen een website met een wedstrijd met verschillende vragen. De scores op de wedstrijd zijn normaal verdeeld met `µ=50` en `ơ=5`.\n",
    "- Wat is de kans dat een aselect gekozen score op deze wedstrijd lager is dan `40`? \n",
    "- Wat is de kans dat een aselect gekozen score op deze wedstrijd tussen de `42` en `52` valt?\n",
    "- Iedereen die een score behaalt hoger dan `58,75` krijgt een bijzondere prijs met vermelding in de krant. Als `75` mensen deelnemen, hoeveel winnen er dan een bijzondere prijs?"
   ],
   "metadata": {
    "collapsed": false
   },
   "id": "d6410f46d520b3c4"
  },
  {
   "cell_type": "code",
   "outputs": [],
   "source": [],
   "metadata": {
    "collapsed": false,
    "ExecuteTime": {
     "end_time": "2024-02-25T08:29:04.208362300Z",
     "start_time": "2024-02-25T08:29:04.149246200Z"
    }
   },
   "id": "a568b487cdf6735b",
   "execution_count": 31
  },
  {
   "cell_type": "markdown",
   "source": [
    "### Question 11:\n",
    "Bij een IQ-test is de verwachte waarde 100 (normaal verdeeld). In Antwerpen is de standaardafwijking `15`, in Gent is deze `18`.\n",
    "- Wat is de kans dat iemand in Antwerpen een IQ heeft dat groter is dan `120`? \n",
    "- Met welk IQ behoor je in Antwerpen tot de mensen die de `16%` laagste scores hebben? hint:\n",
    "    - experimenteer tot je het vindt\n",
    "- Welk IQ (of meer) hebben de `5%` slimste mensen in Gent? hint:\n",
    "    - experimenteer tot je het vindt\n",
    "- Wat is de verhouding van Antwerpenaren en Gentenaren voor scores boven de `130`? \n",
    "    - `1:1`\n",
    "    - `1:2`\n",
    "    - `1:3`\n",
    "    - `5:6`"
   ],
   "metadata": {
    "collapsed": false
   },
   "id": "e975e1091a10f93d"
  },
  {
   "cell_type": "code",
   "outputs": [],
   "source": [],
   "metadata": {
    "collapsed": false,
    "ExecuteTime": {
     "end_time": "2024-02-25T08:29:04.230104900Z",
     "start_time": "2024-02-25T08:29:04.209387600Z"
    }
   },
   "id": "a6938ac8dc93ea70",
   "execution_count": 31
  },
  {
   "cell_type": "markdown",
   "source": [
    "### Question 12:\n",
    "Research has shown that the lifespan of lamps is normally distributed. A certain type of lamps has a lifespan of `500` hours, with a standard deviation of `100` hours. A chain store purchases `50,000` lamps of this type.\n",
    "- How many of these lamps burn for longer than `400` hours?\n",
    "- How many of these lamps have a lifespan between `400` and `700` hours?\n",
    "- How many of these lamps have a lifespan of less than `600` hours?"
   ],
   "metadata": {
    "collapsed": false
   },
   "id": "e5fc78ed886b19b1"
  },
  {
   "cell_type": "code",
   "outputs": [
    {
     "name": "stdout",
     "output_type": "stream",
     "text": [
      "0.8413447460685429\n",
      "0.8185946141203637\n",
      "0.8413447460685429\n"
     ]
    }
   ],
   "source": [
    "# De normale verdeling\n",
    "# 1\n",
    "print(1 - norm.cdf(400, loc=500, scale=100)) # 1 - P(x<=400)\n",
    "\n",
    "# 2\n",
    "print(norm.cdf(700, loc=500, scale=100) - norm.cdf(400, loc=500, scale=100)) # P(400<=x<=700)\n",
    "\n",
    "# 3\n",
    "print(norm.cdf(600, loc=500, scale=100)) # P(x<=600)"
   ],
   "metadata": {
    "collapsed": false,
    "ExecuteTime": {
     "end_time": "2024-02-25T08:29:04.282959400Z",
     "start_time": "2024-02-25T08:29:04.231587300Z"
    }
   },
   "id": "d4efd32877267389",
   "execution_count": 32
  },
  {
   "cell_type": "markdown",
   "source": [
    "### Question 13:\n",
    "In a simple competition on the website, `8` out of `10` people give the correct answer.\n",
    "- What is the probability that at least `55` participants from a random sample of `60` people answered correctly (`2` significant figures)?"
   ],
   "metadata": {
    "collapsed": false
   },
   "id": "9007f608cc00a561"
  },
  {
   "cell_type": "code",
   "outputs": [
    {
     "name": "stdout",
     "output_type": "stream",
     "text": [
      "0.012\n"
     ]
    }
   ],
   "source": [
    "# De binomiale verdeling\n",
    "\n",
    "print(round(1 - binom.cdf(54, 60, 0.8),3)) # 1 - P(x<=54)"
   ],
   "metadata": {
    "collapsed": false,
    "ExecuteTime": {
     "end_time": "2024-02-25T08:29:04.286959200Z",
     "start_time": "2024-02-25T08:29:04.261732300Z"
    }
   },
   "id": "d7e2cb130f6b2a48",
   "execution_count": 33
  },
  {
   "cell_type": "markdown",
   "source": [
    "### Question 14:\n",
    "Een nieuwe machine maakt volledig autonoom processoren. Slechts `2` op de `5` processoren voldoen aan de kwaliteitsnorm.\n",
    "- We nemen `10` processoren gemaakt door deze machine. Wat is de kans dat er minder dan `2` goed zijn?\n",
    "- We nemen `100` processoren gemaakt door deze machine. Wat is de kans dat er minder dan `20` goed zijn?\n",
    "- In beide bovenstaande vragen wordt gevraagd naar minder dan `20%` van het totaal aantal processoren. Welk verschil merk je? Wat kan de oorzaak zijn?"
   ],
   "metadata": {
    "collapsed": false
   },
   "id": "41089fae68288713"
  },
  {
   "cell_type": "code",
   "outputs": [],
   "source": [],
   "metadata": {
    "collapsed": false,
    "ExecuteTime": {
     "end_time": "2024-02-25T08:29:04.336191Z",
     "start_time": "2024-02-25T08:29:04.288543Z"
    }
   },
   "id": "53ff74c185310023",
   "execution_count": 33
  },
  {
   "cell_type": "markdown",
   "source": [
    "### Question 15:\n",
    "Many things can go wrong during a laptop exam. We know that a computer running Windows has a `2%` chance of crashing during the exam. For Mac OSX it is `0.2%` and for Linux it is `0.1%`. Suppose a class of `40` students comes to take an exam.\n",
    "\n",
    "#### Situation 1: Everyone runs Windows:\n",
    "- What is the expected number of crashes during the exam?\n",
    "- What is the chance that `1` computer will crash during the exam?\n",
    "- What is the chance that `2` computers will crash during the exam?\n",
    "\n",
    "#### Situation 2: 10 students run Windows, 10 students run Mac OSX and 20 run Linux\n",
    "- What is the expected number of crashes during the exam?\n",
    "- What is the chance that `1` computer will crash during the exam?\n",
    "- What is the chance that `2` computers will crash during the exam?"
   ],
   "metadata": {
    "collapsed": false
   },
   "id": "92e19de12aa3ac2a"
  },
  {
   "cell_type": "code",
   "outputs": [
    {
     "name": "stdout",
     "output_type": "stream",
     "text": [
      "0.8\n",
      "0.36383706444975605\n",
      "0.14479230115857625\n"
     ]
    }
   ],
   "source": [
    "# De binomiale verdeling\n",
    "# Situatie 1\n",
    "print(binom.mean(40, 0.02)) # Gemiddelde\n",
    "print(binom.pmf(1, 40, 0.02)) # P(x=1)\n",
    "print(binom.pmf(2, 40, 0.02)) # P(x=1)\n",
    "\n",
    "# Situatie 2\n",
    "\n"
   ],
   "metadata": {
    "collapsed": false,
    "ExecuteTime": {
     "end_time": "2024-02-25T08:29:04.402111Z",
     "start_time": "2024-02-25T08:29:04.336710Z"
    }
   },
   "id": "627b6d578527e748",
   "execution_count": 34
  },
  {
   "cell_type": "markdown",
   "source": [
    "### Question 16:\n",
    "\n",
    "In een textielfabriek worden rollen stof vervaardigd met een lengte van `50` meter per rol. Het aantal weeffouten per rol is Poisson-verdeeld met een bijbehorende verwachtingswaarde van `1` weeffout per rol. Bij de kwalitatieve keuring van de rollen stof worden deze gescheiden in rollen van `A kwaliteit` (met `0` of `1` weeffout per rol) en rollen van `B-kwaliteit` (met twee of meer weeffouten per rol).\n",
    "- Bereken de kans dat een willekeurige rol de aanduiding `B-kwaliteit` krijgt. \n",
    "- De productieomvang per dag is gelijk aan `2000` meter stof. Hoe groot is de kans dat er op een willekeurige dag tenminste `30` rollen met `A-kwaliteit` worden gemaakt?"
   ],
   "metadata": {
    "collapsed": false
   },
   "id": "8cb40ed8119dca60"
  },
  {
   "cell_type": "code",
   "outputs": [],
   "source": [],
   "metadata": {
    "collapsed": false,
    "ExecuteTime": {
     "end_time": "2024-02-25T08:29:04.407853700Z",
     "start_time": "2024-02-25T08:29:04.380982Z"
    }
   },
   "id": "2fceb544926a5b63",
   "execution_count": 34
  },
  {
   "cell_type": "markdown",
   "source": [
    "### Question 17:\n",
    "Bij een IT servicedesk komen gemiddeld `10` service-requests per uur binnen. \n",
    "- Bereken de kans dat er in een uur meer dan `15` service-requests binnen komen. \n",
    "- Bereken de kans dat er minstens `10` maar niet meer dan `15` service-requests binnen komen.\n",
    "- Bereken de kans dat er een kwartier lang geen service-requests binnen komen."
   ],
   "metadata": {
    "collapsed": false
   },
   "id": "720cbf0dcc2f81ba"
  },
  {
   "cell_type": "code",
   "outputs": [],
   "source": [],
   "metadata": {
    "collapsed": false,
    "ExecuteTime": {
     "end_time": "2024-02-25T08:29:04.498433100Z",
     "start_time": "2024-02-25T08:29:04.410227300Z"
    }
   },
   "id": "1e9810c669f1877f",
   "execution_count": 34
  },
  {
   "cell_type": "markdown",
   "source": [
    "## Practical exercises (Python)"
   ],
   "metadata": {
    "collapsed": false
   },
   "id": "f8f39a382b50d97a"
  },
  {
   "cell_type": "code",
   "outputs": [],
   "source": [
    "studentQuestions = pd.read_csv('../Data1.csv', delimiter=';', decimal=',')"
   ],
   "metadata": {
    "collapsed": false,
    "ExecuteTime": {
     "end_time": "2024-02-25T08:29:04.530618500Z",
     "start_time": "2024-02-25T08:29:04.467335700Z"
    }
   },
   "id": "5e61cb3cb6fe7e97",
   "execution_count": 35
  },
  {
   "cell_type": "code",
   "outputs": [
    {
     "data": {
      "text/plain": "   gapminder schrijfhand  schoenmaat  lengte    bloedgroep         resus  \\\n0       7/18      Rechts        43.0     184             O      positief   \n1       3/18      Rechts        42.0     163  Weet ik niet  Weet ik niet   \n2      12/18      Rechts        45.0     183            AB      positief   \n3       5/18      Rechts        44.0     175             A      positief   \n4       6/18      Rechts        43.0     173             B      positief   \n..       ...         ...         ...     ...           ...           ...   \n84      7/18      Rechts        45.0     185             O      negatief   \n85      9/18      Rechts        43.0     184             O  Weet ik niet   \n86      4/18       Links        45.5     190  Weet ik niet  Weet ik niet   \n87      8/18      Rechts        45.0     188             A      positief   \n88      7/18      Rechts        43.0     176             B      positief   \n\n    siblings                                     Samenzweringen  \\\n0          5  De tsunami van 2004 in de Indische Oceaan was ...   \n1          1   Prinses Diana kwam niet per ongeluk om het leven   \n2          2  Prinses Diana kwam niet per ongeluk om het lev...   \n3          2  De wereld wordt eigenlijk gecontroleerd door e...   \n4          3  De wereld wordt eigenlijk gecontroleerd door e...   \n..       ...                                                ...   \n84         0  De maanlanding is in scne gezet om de Russen ...   \n85         2  De aanslagen van 9/11 in NY werden niet door t...   \n86         0  Prinses Diana kwam niet per ongeluk om het lev...   \n87         1                                                NaN   \n88         2                                                NaN   \n\n                                            rijbewijs  \\\n0                                Categorie B: Wagens.   \n1   Categorie AM: Bromfietsen met een maximumsnelh...   \n2   Categorie AM: Bromfietsen met een maximumsnelh...   \n3   Categorie AM: Bromfietsen met een maximumsnelh...   \n4                                Categorie B: Wagens.   \n..                                                ...   \n84  Categorie AM: Bromfietsen met een maximumsnelh...   \n85  Categorie AM: Bromfietsen met een maximumsnelh...   \n86  Categorie AM: Bromfietsen met een maximumsnelh...   \n87                               Categorie B: Wagens.   \n88                               Categorie B: Wagens.   \n\n                               domicilie in Antwerpen  ... M1 - stelen  \\\n0   buiten de stad (een dorp, een gehucht, het pla...  ...           7   \n1                                         in een stad  ...          10   \n2                                         in een stad  ...           6   \n3                                         in een stad  ...           9   \n4                                         in een stad  ...          10   \n..                                                ...  ...         ...   \n84  buiten de stad (een dorp, een gehucht, het pla...  ...          10   \n85  buiten de stad (een dorp, een gehucht, het pla...  ...           8   \n86                                        in een stad  ...          10   \n87                                        in een stad  ...           8   \n88                                        in een stad  ...          10   \n\n   M2 - team M3 - beschermen M4 - voorbeeld M5 - embryo  M6 - vrijheid  \\\n0          2               8              6           5            4.0   \n1          5              10              6           7            3.0   \n2          3               7              7          10            6.0   \n3         10              10             10          10            0.0   \n4          6              10              7           7            2.0   \n..       ...             ...            ...         ...            ...   \n84         3               8              8           2            5.0   \n85         5               7              8           4            0.0   \n86         5              10              8           9            5.0   \n87         6               6              7           6            4.0   \n88         5               4              9           3            9.0   \n\n                                             mascotte            zwaarste vak  \\\n0   1=Bever,2=Wasbeer,3=Otter,4=Wolf,5=Poema,6=Pan...            Management 1   \n1   1=Bever,2=Wolf,3=Bizon,4=Otter,5=Panter,6=Poem...            Management 1   \n2   1=Bruine beer,2=Poema,3=Panter,4=Wolf,5=Vos,6=...            Management 1   \n3   1=Wasbeer,2=Wolf,3=Bruine beer,4=Das,5=Vos,6=B...            Management 1   \n4   1=Wolf,2=Vos,3=Bruine beer,4=Bizon,5=Panter,6=...            Management 1   \n..                                                ...                     ...   \n84  1=Panter,2=Poema,3=Wolf,4=Vos,5=Bever,6=Bruine...  Software engineering 1   \n85  1=Panter,2=Poema,3=Vos,4=Wolf,5=Bruine beer,6=...          Data science 1   \n86  1=Wolf,2=Vos,3=Bruine beer,4=Bever,5=Das,6=Was...       User interfaces 1   \n87  1=Otter,2=Wasbeer,3=Vos,4=Bruine beer,5=Bever,...             Netwerken 1   \n88  1=Poema,2=Panter,3=Wolf,4=Bruine beer,5=Bizon,...          Data science 1   \n\n                boeienste vak  studiepunt  \n0              Data science 1  16-20 uren  \n1          Computersystemen 1  <= 10 uren  \n2       Programmeren 1 - Java  16-20 uren  \n3              Data science 1  <= 10 uren  \n4              Data science 1  <= 10 uren  \n..                        ...         ...  \n84          User interfaces 1  26-30 uren  \n85  Programmeren 1 - Embedded  11-15 uren  \n86             Data science 1  16-20 uren  \n87             Data science 1  16-20 uren  \n88      Programmeren 1 - Java  26-30 uren  \n\n[89 rows x 33 columns]",
      "text/html": "<div>\n<style scoped>\n    .dataframe tbody tr th:only-of-type {\n        vertical-align: middle;\n    }\n\n    .dataframe tbody tr th {\n        vertical-align: top;\n    }\n\n    .dataframe thead th {\n        text-align: right;\n    }\n</style>\n<table border=\"1\" class=\"dataframe\">\n  <thead>\n    <tr style=\"text-align: right;\">\n      <th></th>\n      <th>gapminder</th>\n      <th>schrijfhand</th>\n      <th>schoenmaat</th>\n      <th>lengte</th>\n      <th>bloedgroep</th>\n      <th>resus</th>\n      <th>siblings</th>\n      <th>Samenzweringen</th>\n      <th>rijbewijs</th>\n      <th>domicilie in Antwerpen</th>\n      <th>...</th>\n      <th>M1 - stelen</th>\n      <th>M2 - team</th>\n      <th>M3 - beschermen</th>\n      <th>M4 - voorbeeld</th>\n      <th>M5 - embryo</th>\n      <th>M6 - vrijheid</th>\n      <th>mascotte</th>\n      <th>zwaarste vak</th>\n      <th>boeienste vak</th>\n      <th>studiepunt</th>\n    </tr>\n  </thead>\n  <tbody>\n    <tr>\n      <th>0</th>\n      <td>7/18</td>\n      <td>Rechts</td>\n      <td>43.0</td>\n      <td>184</td>\n      <td>O</td>\n      <td>positief</td>\n      <td>5</td>\n      <td>De tsunami van 2004 in de Indische Oceaan was ...</td>\n      <td>Categorie B: Wagens.</td>\n      <td>buiten de stad (een dorp, een gehucht, het pla...</td>\n      <td>...</td>\n      <td>7</td>\n      <td>2</td>\n      <td>8</td>\n      <td>6</td>\n      <td>5</td>\n      <td>4.0</td>\n      <td>1=Bever,2=Wasbeer,3=Otter,4=Wolf,5=Poema,6=Pan...</td>\n      <td>Management 1</td>\n      <td>Data science 1</td>\n      <td>16-20 uren</td>\n    </tr>\n    <tr>\n      <th>1</th>\n      <td>3/18</td>\n      <td>Rechts</td>\n      <td>42.0</td>\n      <td>163</td>\n      <td>Weet ik niet</td>\n      <td>Weet ik niet</td>\n      <td>1</td>\n      <td>Prinses Diana kwam niet per ongeluk om het leven</td>\n      <td>Categorie AM: Bromfietsen met een maximumsnelh...</td>\n      <td>in een stad</td>\n      <td>...</td>\n      <td>10</td>\n      <td>5</td>\n      <td>10</td>\n      <td>6</td>\n      <td>7</td>\n      <td>3.0</td>\n      <td>1=Bever,2=Wolf,3=Bizon,4=Otter,5=Panter,6=Poem...</td>\n      <td>Management 1</td>\n      <td>Computersystemen 1</td>\n      <td>&lt;= 10 uren</td>\n    </tr>\n    <tr>\n      <th>2</th>\n      <td>12/18</td>\n      <td>Rechts</td>\n      <td>45.0</td>\n      <td>183</td>\n      <td>AB</td>\n      <td>positief</td>\n      <td>2</td>\n      <td>Prinses Diana kwam niet per ongeluk om het lev...</td>\n      <td>Categorie AM: Bromfietsen met een maximumsnelh...</td>\n      <td>in een stad</td>\n      <td>...</td>\n      <td>6</td>\n      <td>3</td>\n      <td>7</td>\n      <td>7</td>\n      <td>10</td>\n      <td>6.0</td>\n      <td>1=Bruine beer,2=Poema,3=Panter,4=Wolf,5=Vos,6=...</td>\n      <td>Management 1</td>\n      <td>Programmeren 1 - Java</td>\n      <td>16-20 uren</td>\n    </tr>\n    <tr>\n      <th>3</th>\n      <td>5/18</td>\n      <td>Rechts</td>\n      <td>44.0</td>\n      <td>175</td>\n      <td>A</td>\n      <td>positief</td>\n      <td>2</td>\n      <td>De wereld wordt eigenlijk gecontroleerd door e...</td>\n      <td>Categorie AM: Bromfietsen met een maximumsnelh...</td>\n      <td>in een stad</td>\n      <td>...</td>\n      <td>9</td>\n      <td>10</td>\n      <td>10</td>\n      <td>10</td>\n      <td>10</td>\n      <td>0.0</td>\n      <td>1=Wasbeer,2=Wolf,3=Bruine beer,4=Das,5=Vos,6=B...</td>\n      <td>Management 1</td>\n      <td>Data science 1</td>\n      <td>&lt;= 10 uren</td>\n    </tr>\n    <tr>\n      <th>4</th>\n      <td>6/18</td>\n      <td>Rechts</td>\n      <td>43.0</td>\n      <td>173</td>\n      <td>B</td>\n      <td>positief</td>\n      <td>3</td>\n      <td>De wereld wordt eigenlijk gecontroleerd door e...</td>\n      <td>Categorie B: Wagens.</td>\n      <td>in een stad</td>\n      <td>...</td>\n      <td>10</td>\n      <td>6</td>\n      <td>10</td>\n      <td>7</td>\n      <td>7</td>\n      <td>2.0</td>\n      <td>1=Wolf,2=Vos,3=Bruine beer,4=Bizon,5=Panter,6=...</td>\n      <td>Management 1</td>\n      <td>Data science 1</td>\n      <td>&lt;= 10 uren</td>\n    </tr>\n    <tr>\n      <th>...</th>\n      <td>...</td>\n      <td>...</td>\n      <td>...</td>\n      <td>...</td>\n      <td>...</td>\n      <td>...</td>\n      <td>...</td>\n      <td>...</td>\n      <td>...</td>\n      <td>...</td>\n      <td>...</td>\n      <td>...</td>\n      <td>...</td>\n      <td>...</td>\n      <td>...</td>\n      <td>...</td>\n      <td>...</td>\n      <td>...</td>\n      <td>...</td>\n      <td>...</td>\n      <td>...</td>\n    </tr>\n    <tr>\n      <th>84</th>\n      <td>7/18</td>\n      <td>Rechts</td>\n      <td>45.0</td>\n      <td>185</td>\n      <td>O</td>\n      <td>negatief</td>\n      <td>0</td>\n      <td>De maanlanding is in scne gezet om de Russen ...</td>\n      <td>Categorie AM: Bromfietsen met een maximumsnelh...</td>\n      <td>buiten de stad (een dorp, een gehucht, het pla...</td>\n      <td>...</td>\n      <td>10</td>\n      <td>3</td>\n      <td>8</td>\n      <td>8</td>\n      <td>2</td>\n      <td>5.0</td>\n      <td>1=Panter,2=Poema,3=Wolf,4=Vos,5=Bever,6=Bruine...</td>\n      <td>Software engineering 1</td>\n      <td>User interfaces 1</td>\n      <td>26-30 uren</td>\n    </tr>\n    <tr>\n      <th>85</th>\n      <td>9/18</td>\n      <td>Rechts</td>\n      <td>43.0</td>\n      <td>184</td>\n      <td>O</td>\n      <td>Weet ik niet</td>\n      <td>2</td>\n      <td>De aanslagen van 9/11 in NY werden niet door t...</td>\n      <td>Categorie AM: Bromfietsen met een maximumsnelh...</td>\n      <td>buiten de stad (een dorp, een gehucht, het pla...</td>\n      <td>...</td>\n      <td>8</td>\n      <td>5</td>\n      <td>7</td>\n      <td>8</td>\n      <td>4</td>\n      <td>0.0</td>\n      <td>1=Panter,2=Poema,3=Vos,4=Wolf,5=Bruine beer,6=...</td>\n      <td>Data science 1</td>\n      <td>Programmeren 1 - Embedded</td>\n      <td>11-15 uren</td>\n    </tr>\n    <tr>\n      <th>86</th>\n      <td>4/18</td>\n      <td>Links</td>\n      <td>45.5</td>\n      <td>190</td>\n      <td>Weet ik niet</td>\n      <td>Weet ik niet</td>\n      <td>0</td>\n      <td>Prinses Diana kwam niet per ongeluk om het lev...</td>\n      <td>Categorie AM: Bromfietsen met een maximumsnelh...</td>\n      <td>in een stad</td>\n      <td>...</td>\n      <td>10</td>\n      <td>5</td>\n      <td>10</td>\n      <td>8</td>\n      <td>9</td>\n      <td>5.0</td>\n      <td>1=Wolf,2=Vos,3=Bruine beer,4=Bever,5=Das,6=Was...</td>\n      <td>User interfaces 1</td>\n      <td>Data science 1</td>\n      <td>16-20 uren</td>\n    </tr>\n    <tr>\n      <th>87</th>\n      <td>8/18</td>\n      <td>Rechts</td>\n      <td>45.0</td>\n      <td>188</td>\n      <td>A</td>\n      <td>positief</td>\n      <td>1</td>\n      <td>NaN</td>\n      <td>Categorie B: Wagens.</td>\n      <td>in een stad</td>\n      <td>...</td>\n      <td>8</td>\n      <td>6</td>\n      <td>6</td>\n      <td>7</td>\n      <td>6</td>\n      <td>4.0</td>\n      <td>1=Otter,2=Wasbeer,3=Vos,4=Bruine beer,5=Bever,...</td>\n      <td>Netwerken 1</td>\n      <td>Data science 1</td>\n      <td>16-20 uren</td>\n    </tr>\n    <tr>\n      <th>88</th>\n      <td>7/18</td>\n      <td>Rechts</td>\n      <td>43.0</td>\n      <td>176</td>\n      <td>B</td>\n      <td>positief</td>\n      <td>2</td>\n      <td>NaN</td>\n      <td>Categorie B: Wagens.</td>\n      <td>in een stad</td>\n      <td>...</td>\n      <td>10</td>\n      <td>5</td>\n      <td>4</td>\n      <td>9</td>\n      <td>3</td>\n      <td>9.0</td>\n      <td>1=Poema,2=Panter,3=Wolf,4=Bruine beer,5=Bizon,...</td>\n      <td>Data science 1</td>\n      <td>Programmeren 1 - Java</td>\n      <td>26-30 uren</td>\n    </tr>\n  </tbody>\n</table>\n<p>89 rows × 33 columns</p>\n</div>"
     },
     "metadata": {},
     "output_type": "display_data"
    }
   ],
   "source": [
    "display(studentQuestions)"
   ],
   "metadata": {
    "collapsed": false,
    "ExecuteTime": {
     "end_time": "2024-02-25T08:29:04.596786Z",
     "start_time": "2024-02-25T08:29:04.532618300Z"
    }
   },
   "id": "ab582d68c7912d5c",
   "execution_count": 36
  },
  {
   "cell_type": "markdown",
   "source": [
    "### Exercise 1:\n",
    "- What is the probability that of `10` randomly selected students, exactly `3` students know their blood type?"
   ],
   "metadata": {
    "collapsed": false
   },
   "id": "439b67b46397307e"
  },
  {
   "cell_type": "code",
   "outputs": [
    {
     "data": {
      "text/plain": "array(['O', 'Weet ik niet', 'AB', 'A', 'B'], dtype=object)"
     },
     "metadata": {},
     "output_type": "display_data"
    }
   ],
   "source": [
    "display(studentQuestions[\"bloedgroep\"].unique())"
   ],
   "metadata": {
    "collapsed": false,
    "ExecuteTime": {
     "end_time": "2024-02-25T08:29:04.620843400Z",
     "start_time": "2024-02-25T08:29:04.561920600Z"
    }
   },
   "id": "226a017cd1abc68e",
   "execution_count": 37
  },
  {
   "cell_type": "code",
   "outputs": [
    {
     "name": "stdout",
     "output_type": "stream",
     "text": [
      "0.03362959734037025\n"
     ]
    }
   ],
   "source": [
    "# De binomiale verdeling + Probability Mass Function\n",
    "p = len(studentQuestions[studentQuestions[\"bloedgroep\"] != \"Weet ik niet\"]) / len(studentQuestions) # Probability of student knowing his blood type\n",
    "binomiale = binom.pmf(3, 10, p) # Probability Mass Function => kans\n",
    "print(binomiale)"
   ],
   "metadata": {
    "collapsed": false,
    "ExecuteTime": {
     "end_time": "2024-02-25T08:29:04.625078400Z",
     "start_time": "2024-02-25T08:29:04.603429100Z"
    }
   },
   "id": "ace76afdba039166",
   "execution_count": 38
  },
  {
   "cell_type": "markdown",
   "source": [
    "### Exercise 2:\n",
    "- What is the probability that a student underestimates his studies (i.e. estimates that `1` credit corresponds to `15` or fewer hours)?\n",
    "- You must complete a group work together with `4` fellow students. What is the probability that at least `1` of your fellow group members underestimates his studies?"
   ],
   "metadata": {
    "collapsed": false
   },
   "id": "e8f1254695876091"
  },
  {
   "cell_type": "code",
   "outputs": [
    {
     "name": "stdout",
     "output_type": "stream",
     "text": [
      "['16-20 uren' '<= 10 uren' '21-25 uren' '36-40 uren' '31-35 uren'\n",
      " '26-30 uren' '11-15 uren' '>= 41 uren']\n"
     ]
    }
   ],
   "source": [
    "print(studentQuestions[\"studiepunt\"].unique())"
   ],
   "metadata": {
    "collapsed": false,
    "ExecuteTime": {
     "end_time": "2024-02-25T08:29:04.707934700Z",
     "start_time": "2024-02-25T08:29:04.630118300Z"
    }
   },
   "id": "c0d4588203e46fa1",
   "execution_count": 39
  },
  {
   "cell_type": "code",
   "outputs": [
    {
     "name": "stdout",
     "output_type": "stream",
     "text": [
      "0.23595505617977527\n"
     ]
    }
   ],
   "source": [
    "# Probability Mass Function\n",
    "p = len(studentQuestions[ (studentQuestions[\"studiepunt\"] == \"<= 10 uren\") | (studentQuestions[\"studiepunt\"] == \"11-15 uren\")]) / len(studentQuestions)\n",
    "print(p) # Probability of student underestimating his studies"
   ],
   "metadata": {
    "collapsed": false,
    "ExecuteTime": {
     "end_time": "2024-02-25T08:29:04.711808900Z",
     "start_time": "2024-02-25T08:29:04.691544Z"
    }
   },
   "id": "7ef0007c5d9f876b",
   "execution_count": 40
  },
  {
   "cell_type": "code",
   "outputs": [
    {
     "name": "stdout",
     "output_type": "stream",
     "text": [
      "0.4020452325954454\n"
     ]
    }
   ],
   "source": [
    "# De binomiale verdeling + Probability Mass Function\n",
    "k = 1  # At least 1 student\n",
    "n = 5  # Number of students\n",
    "binomiale = binom.pmf(k, n, p)\n",
    "print(binomiale)"
   ],
   "metadata": {
    "collapsed": false,
    "ExecuteTime": {
     "end_time": "2024-02-25T08:29:04.791679500Z",
     "start_time": "2024-02-25T08:29:04.715776300Z"
    }
   },
   "id": "1a3af418ea4b0450",
   "execution_count": 41
  },
  {
   "cell_type": "markdown",
   "source": [
    "### Exercise 3:\n",
    "- Based on the data, calculate how many % of students are a maximum of `1.5` standard deviations larger or smaller than the average.\n",
    "- How much % do you differ for a normal distribution?"
   ],
   "metadata": {
    "collapsed": false
   },
   "id": "4763d5f4fbadd085"
  },
  {
   "cell_type": "code",
   "outputs": [
    {
     "name": "stdout",
     "output_type": "stream",
     "text": [
      "[184 163 183 175 173 190 181 186 178 180 185 192 177 193 174 169 187 168\n",
      " 165 171 170 179 167 194 160 176 189 182 188]\n"
     ]
    }
   ],
   "source": [
    "print(studentQuestions[\"lengte\"].unique())"
   ],
   "metadata": {
    "collapsed": false,
    "ExecuteTime": {
     "end_time": "2024-02-25T08:29:04.795622600Z",
     "start_time": "2024-02-25T08:29:04.746691200Z"
    }
   },
   "id": "ff67017a17f91eed",
   "execution_count": 42
  },
  {
   "cell_type": "code",
   "outputs": [
    {
     "name": "stdout",
     "output_type": "stream",
     "text": [
      "Average: 179.3370786516854\n",
      "Standard deviation: 7.71501461175886\n",
      "Lower cutoff: 167.76455673404712\n",
      "Upper cutoff: 190.9096005693237\n",
      "Percentage of students within 1.5 standard deviations of the average: 87.64%\n",
      "Percentage of students within 1.5 standard deviations of the average (normal distribution): 86.64%\n"
     ]
    },
    {
     "data": {
      "text/plain": "<Figure size 640x480 with 1 Axes>",
      "image/png": "[encoded data removed]"
     },
     "metadata": {},
     "output_type": "display_data"
    },
    {
     "ename": "ValueError",
     "evalue": "x and y must have same first dimension, but have shapes (50,) and (7,)",
     "output_type": "error",
     "traceback": [
      "\u001B[1;31m---------------------------------------------------------------------------\u001B[0m",
      "\u001B[1;31mValueError\u001B[0m                                Traceback (most recent call last)",
      "Cell \u001B[1;32mIn[43], line 39\u001B[0m\n\u001B[0;32m     37\u001B[0m \u001B[38;5;66;03m# Plot the normal distribution\u001B[39;00m\n\u001B[0;32m     38\u001B[0m y \u001B[38;5;241m=\u001B[39m norm\u001B[38;5;241m.\u001B[39mcdf(x, loc\u001B[38;5;241m=\u001B[39maverage, scale\u001B[38;5;241m=\u001B[39mstd)\n\u001B[1;32m---> 39\u001B[0m \u001B[43mplt\u001B[49m\u001B[38;5;241;43m.\u001B[39;49m\u001B[43mplot\u001B[49m\u001B[43m(\u001B[49m\u001B[38;5;28;43mrange\u001B[39;49m\u001B[43m(\u001B[49m\u001B[38;5;241;43m150\u001B[39;49m\u001B[43m,\u001B[49m\u001B[43m \u001B[49m\u001B[38;5;241;43m200\u001B[39;49m\u001B[43m)\u001B[49m\u001B[43m,\u001B[49m\u001B[43m \u001B[49m\u001B[43my\u001B[49m\u001B[43m)\u001B[49m\n\u001B[0;32m     40\u001B[0m plt\u001B[38;5;241m.\u001B[39maxvline(lower_cutoff, color\u001B[38;5;241m=\u001B[39m\u001B[38;5;124m'\u001B[39m\u001B[38;5;124mr\u001B[39m\u001B[38;5;124m'\u001B[39m, linestyle\u001B[38;5;241m=\u001B[39m\u001B[38;5;124m'\u001B[39m\u001B[38;5;124mdashed\u001B[39m\u001B[38;5;124m'\u001B[39m, linewidth\u001B[38;5;241m=\u001B[39m\u001B[38;5;241m2\u001B[39m)\n\u001B[0;32m     41\u001B[0m plt\u001B[38;5;241m.\u001B[39maxvline(upper_cutoff, color\u001B[38;5;241m=\u001B[39m\u001B[38;5;124m'\u001B[39m\u001B[38;5;124mr\u001B[39m\u001B[38;5;124m'\u001B[39m, linestyle\u001B[38;5;241m=\u001B[39m\u001B[38;5;124m'\u001B[39m\u001B[38;5;124mdashed\u001B[39m\u001B[38;5;124m'\u001B[39m, linewidth\u001B[38;5;241m=\u001B[39m\u001B[38;5;241m2\u001B[39m)\n",
      "File \u001B[1;32m~\\Downloads\\DataScience2\\venv\\lib\\site-packages\\matplotlib\\pyplot.py:3590\u001B[0m, in \u001B[0;36mplot\u001B[1;34m(scalex, scaley, data, *args, **kwargs)\u001B[0m\n\u001B[0;32m   3582\u001B[0m \u001B[38;5;129m@_copy_docstring_and_deprecators\u001B[39m(Axes\u001B[38;5;241m.\u001B[39mplot)\n\u001B[0;32m   3583\u001B[0m \u001B[38;5;28;01mdef\u001B[39;00m \u001B[38;5;21mplot\u001B[39m(\n\u001B[0;32m   3584\u001B[0m     \u001B[38;5;241m*\u001B[39margs: \u001B[38;5;28mfloat\u001B[39m \u001B[38;5;241m|\u001B[39m ArrayLike \u001B[38;5;241m|\u001B[39m \u001B[38;5;28mstr\u001B[39m,\n\u001B[1;32m   (...)\u001B[0m\n\u001B[0;32m   3588\u001B[0m     \u001B[38;5;241m*\u001B[39m\u001B[38;5;241m*\u001B[39mkwargs,\n\u001B[0;32m   3589\u001B[0m ) \u001B[38;5;241m-\u001B[39m\u001B[38;5;241m>\u001B[39m \u001B[38;5;28mlist\u001B[39m[Line2D]:\n\u001B[1;32m-> 3590\u001B[0m     \u001B[38;5;28;01mreturn\u001B[39;00m gca()\u001B[38;5;241m.\u001B[39mplot(\n\u001B[0;32m   3591\u001B[0m         \u001B[38;5;241m*\u001B[39margs,\n\u001B[0;32m   3592\u001B[0m         scalex\u001B[38;5;241m=\u001B[39mscalex,\n\u001B[0;32m   3593\u001B[0m         scaley\u001B[38;5;241m=\u001B[39mscaley,\n\u001B[0;32m   3594\u001B[0m         \u001B[38;5;241m*\u001B[39m\u001B[38;5;241m*\u001B[39m({\u001B[38;5;124m\"\u001B[39m\u001B[38;5;124mdata\u001B[39m\u001B[38;5;124m\"\u001B[39m: data} \u001B[38;5;28;01mif\u001B[39;00m data \u001B[38;5;129;01mis\u001B[39;00m \u001B[38;5;129;01mnot\u001B[39;00m \u001B[38;5;28;01mNone\u001B[39;00m \u001B[38;5;28;01melse\u001B[39;00m {}),\n\u001B[0;32m   3595\u001B[0m         \u001B[38;5;241m*\u001B[39m\u001B[38;5;241m*\u001B[39mkwargs,\n\u001B[0;32m   3596\u001B[0m     )\n",
      "File \u001B[1;32m~\\Downloads\\DataScience2\\venv\\lib\\site-packages\\matplotlib\\axes\\_axes.py:1724\u001B[0m, in \u001B[0;36mAxes.plot\u001B[1;34m(self, scalex, scaley, data, *args, **kwargs)\u001B[0m\n\u001B[0;32m   1481\u001B[0m \u001B[38;5;250m\u001B[39m\u001B[38;5;124;03m\"\"\"\u001B[39;00m\n\u001B[0;32m   1482\u001B[0m \u001B[38;5;124;03mPlot y versus x as lines and/or markers.\u001B[39;00m\n\u001B[0;32m   1483\u001B[0m \n\u001B[1;32m   (...)\u001B[0m\n\u001B[0;32m   1721\u001B[0m \u001B[38;5;124;03m(``'green'``) or hex strings (``'#008000'``).\u001B[39;00m\n\u001B[0;32m   1722\u001B[0m \u001B[38;5;124;03m\"\"\"\u001B[39;00m\n\u001B[0;32m   1723\u001B[0m kwargs \u001B[38;5;241m=\u001B[39m cbook\u001B[38;5;241m.\u001B[39mnormalize_kwargs(kwargs, mlines\u001B[38;5;241m.\u001B[39mLine2D)\n\u001B[1;32m-> 1724\u001B[0m lines \u001B[38;5;241m=\u001B[39m [\u001B[38;5;241m*\u001B[39m\u001B[38;5;28mself\u001B[39m\u001B[38;5;241m.\u001B[39m_get_lines(\u001B[38;5;28mself\u001B[39m, \u001B[38;5;241m*\u001B[39margs, data\u001B[38;5;241m=\u001B[39mdata, \u001B[38;5;241m*\u001B[39m\u001B[38;5;241m*\u001B[39mkwargs)]\n\u001B[0;32m   1725\u001B[0m \u001B[38;5;28;01mfor\u001B[39;00m line \u001B[38;5;129;01min\u001B[39;00m lines:\n\u001B[0;32m   1726\u001B[0m     \u001B[38;5;28mself\u001B[39m\u001B[38;5;241m.\u001B[39madd_line(line)\n",
      "File \u001B[1;32m~\\Downloads\\DataScience2\\venv\\lib\\site-packages\\matplotlib\\axes\\_base.py:303\u001B[0m, in \u001B[0;36m_process_plot_var_args.__call__\u001B[1;34m(self, axes, data, *args, **kwargs)\u001B[0m\n\u001B[0;32m    301\u001B[0m     this \u001B[38;5;241m+\u001B[39m\u001B[38;5;241m=\u001B[39m args[\u001B[38;5;241m0\u001B[39m],\n\u001B[0;32m    302\u001B[0m     args \u001B[38;5;241m=\u001B[39m args[\u001B[38;5;241m1\u001B[39m:]\n\u001B[1;32m--> 303\u001B[0m \u001B[38;5;28;01myield from\u001B[39;00m \u001B[38;5;28;43mself\u001B[39;49m\u001B[38;5;241;43m.\u001B[39;49m\u001B[43m_plot_args\u001B[49m\u001B[43m(\u001B[49m\n\u001B[0;32m    304\u001B[0m \u001B[43m    \u001B[49m\u001B[43maxes\u001B[49m\u001B[43m,\u001B[49m\u001B[43m \u001B[49m\u001B[43mthis\u001B[49m\u001B[43m,\u001B[49m\u001B[43m \u001B[49m\u001B[43mkwargs\u001B[49m\u001B[43m,\u001B[49m\u001B[43m \u001B[49m\u001B[43mambiguous_fmt_datakey\u001B[49m\u001B[38;5;241;43m=\u001B[39;49m\u001B[43mambiguous_fmt_datakey\u001B[49m\u001B[43m)\u001B[49m\n",
      "File \u001B[1;32m~\\Downloads\\DataScience2\\venv\\lib\\site-packages\\matplotlib\\axes\\_base.py:499\u001B[0m, in \u001B[0;36m_process_plot_var_args._plot_args\u001B[1;34m(self, axes, tup, kwargs, return_kwargs, ambiguous_fmt_datakey)\u001B[0m\n\u001B[0;32m    496\u001B[0m     axes\u001B[38;5;241m.\u001B[39myaxis\u001B[38;5;241m.\u001B[39mupdate_units(y)\n\u001B[0;32m    498\u001B[0m \u001B[38;5;28;01mif\u001B[39;00m x\u001B[38;5;241m.\u001B[39mshape[\u001B[38;5;241m0\u001B[39m] \u001B[38;5;241m!=\u001B[39m y\u001B[38;5;241m.\u001B[39mshape[\u001B[38;5;241m0\u001B[39m]:\n\u001B[1;32m--> 499\u001B[0m     \u001B[38;5;28;01mraise\u001B[39;00m \u001B[38;5;167;01mValueError\u001B[39;00m(\u001B[38;5;124mf\u001B[39m\u001B[38;5;124m\"\u001B[39m\u001B[38;5;124mx and y must have same first dimension, but \u001B[39m\u001B[38;5;124m\"\u001B[39m\n\u001B[0;32m    500\u001B[0m                      \u001B[38;5;124mf\u001B[39m\u001B[38;5;124m\"\u001B[39m\u001B[38;5;124mhave shapes \u001B[39m\u001B[38;5;132;01m{\u001B[39;00mx\u001B[38;5;241m.\u001B[39mshape\u001B[38;5;132;01m}\u001B[39;00m\u001B[38;5;124m and \u001B[39m\u001B[38;5;132;01m{\u001B[39;00my\u001B[38;5;241m.\u001B[39mshape\u001B[38;5;132;01m}\u001B[39;00m\u001B[38;5;124m\"\u001B[39m)\n\u001B[0;32m    501\u001B[0m \u001B[38;5;28;01mif\u001B[39;00m x\u001B[38;5;241m.\u001B[39mndim \u001B[38;5;241m>\u001B[39m \u001B[38;5;241m2\u001B[39m \u001B[38;5;129;01mor\u001B[39;00m y\u001B[38;5;241m.\u001B[39mndim \u001B[38;5;241m>\u001B[39m \u001B[38;5;241m2\u001B[39m:\n\u001B[0;32m    502\u001B[0m     \u001B[38;5;28;01mraise\u001B[39;00m \u001B[38;5;167;01mValueError\u001B[39;00m(\u001B[38;5;124mf\u001B[39m\u001B[38;5;124m\"\u001B[39m\u001B[38;5;124mx and y can be no greater than 2D, but have \u001B[39m\u001B[38;5;124m\"\u001B[39m\n\u001B[0;32m    503\u001B[0m                      \u001B[38;5;124mf\u001B[39m\u001B[38;5;124m\"\u001B[39m\u001B[38;5;124mshapes \u001B[39m\u001B[38;5;132;01m{\u001B[39;00mx\u001B[38;5;241m.\u001B[39mshape\u001B[38;5;132;01m}\u001B[39;00m\u001B[38;5;124m and \u001B[39m\u001B[38;5;132;01m{\u001B[39;00my\u001B[38;5;241m.\u001B[39mshape\u001B[38;5;132;01m}\u001B[39;00m\u001B[38;5;124m\"\u001B[39m)\n",
      "\u001B[1;31mValueError\u001B[0m: x and y must have same first dimension, but have shapes (50,) and (7,)"
     ]
    },
    {
     "data": {
      "text/plain": "<Figure size 640x480 with 1 Axes>",
      "image/png": "[encoded data removed]"
     },
     "metadata": {},
     "output_type": "display_data"
    }
   ],
   "source": [
    "# Select the column with the length of the students\n",
    "studentLength = studentQuestions[\"lengte\"]\n",
    "\n",
    "# Calculate the average and standard deviation\n",
    "average = studentLength.mean()\n",
    "std = studentLength.std()\n",
    "\n",
    "# Calculate the cutoff values for 1.5 standard deviations\n",
    "lower_cutoff = average - 1.5 * std\n",
    "upper_cutoff = average + 1.5 * std\n",
    "\n",
    "# Count the number of students within the cutoff values\n",
    "within_cutoff = studentLength[(studentLength >= lower_cutoff) & (studentLength <= upper_cutoff)]\n",
    "\n",
    "# Calculate the percentage\n",
    "percentage_within_cutoff = (len(within_cutoff) / len(studentLength)) * 100\n",
    "\n",
    "print(f\"Average: {average}\")\n",
    "print(f\"Standard deviation: {std}\")\n",
    "print(f\"Lower cutoff: {lower_cutoff}\")\n",
    "print(f\"Upper cutoff: {upper_cutoff}\")\n",
    "print(f\"Percentage of students within 1.5 standard deviations of the average: {percentage_within_cutoff:.2f}%\")\n",
    "\n",
    "\n",
    "percentage_within_cutoff_normal = (norm.cdf(upper_cutoff, loc=average, scale=std) - norm.cdf(lower_cutoff, loc=average, scale=std)) * 100\n",
    "print(f\"Percentage of students within 1.5 standard deviations of the average (normal distribution): {percentage_within_cutoff_normal:.2f}%\")\n",
    "\n",
    "# Plot the distribution\n",
    "plt.figure()\n",
    "studentLength.plot.hist(title='Length Distribution', bins=20, stacked=True)\n",
    "plt.axvline(lower_cutoff, color='r', linestyle='dashed', linewidth=2)\n",
    "plt.axvline(upper_cutoff, color='r', linestyle='dashed', linewidth=2)\n",
    "plt.xlabel('Length')\n",
    "plt.ylabel('Frequency')\n",
    "plt.show()\n",
    "\n",
    "# Plot the normal distribution\n",
    "y = norm.cdf(x, loc=average, scale=std)\n",
    "plt.plot(range(150, 200), y)\n",
    "plt.axvline(lower_cutoff, color='r', linestyle='dashed', linewidth=2)\n",
    "plt.axvline(upper_cutoff, color='r', linestyle='dashed', linewidth=2)\n",
    "plt.xlabel('Length')\n",
    "plt.ylabel('Cumulative Probability')\n",
    "plt.title('Cumulative Distribution Function')\n",
    "plt.show()"
   ],
   "metadata": {
    "collapsed": false,
    "ExecuteTime": {
     "end_time": "2024-02-25T08:29:05.126724400Z",
     "start_time": "2024-02-25T08:29:04.811215700Z"
    }
   },
   "id": "2b6f2cdb5583c35f",
   "execution_count": 43
  },
  {
   "cell_type": "markdown",
   "source": [
    "## Testing examples:"
   ],
   "metadata": {
    "collapsed": false
   },
   "id": "d221c39d11dc0179"
  },
  {
   "cell_type": "markdown",
   "source": [
    "### Experiment 1: (Probability distributions)\n",
    "- What will the probability distribution be for the total number of eyes?"
   ],
   "metadata": {
    "collapsed": false
   },
   "id": "a282227cade490b5"
  },
  {
   "cell_type": "code",
   "outputs": [],
   "source": [
    "# Generate random data for two six-sided dice rolls\n",
    "dob1 = np.random.randint(1, 7, 1000)\n",
    "dob2 = np.random.randint(1, 7, 1000)\n",
    "\n",
    "# Create a DataFrame with the sum of the two dice rolls\n",
    "dob = pd.DataFrame({'dob': dob1 + dob2})\n",
    "\n",
    "# Plot a histogram of the sum of dice rolls\n",
    "plt.figure()\n",
    "dob.plot.hist(title='Frequency Distribution', bins=[1.5, 2.5, 3.5, 4.5, 5.5, 6.5, 7.5, 8.5, 9.5, 10.5, 11.5, 12.5], stacked=True)\n",
    "plt.xlabel('Number of Eyes')\n",
    "plt.ylabel('Frequency')\n",
    "plt.show()"
   ],
   "metadata": {
    "collapsed": false,
    "ExecuteTime": {
     "start_time": "2024-02-25T08:29:05.111798200Z"
    }
   },
   "id": "5e764c2a0c8143fa",
   "execution_count": null
  },
  {
   "cell_type": "markdown",
   "source": [
    "### Experiment 2: (The binomial distribution)\n",
    "- So what is the probability of getting 0, 1, 2, 3, 4 and 5 questions correct?"
   ],
   "metadata": {
    "collapsed": false
   },
   "id": "d671a080806eb391"
  },
  {
   "cell_type": "code",
   "outputs": [],
   "source": [
    "# binom.pmf(x,5,1/4) # Probability Mass Function => probability\n",
    "# binom.cdf(x,5,1/4) # Cumulative Density Function => cum. opportunity\n",
    "# binom.std(5, 1/4) # Standard deviation\n",
    "# binom.mean(5, 1/4) # Average\n",
    "\n",
    "x = range (0,6)\n",
    "binomiale = binom.pmf(x, 5, 1/4)\n",
    "\n",
    "plt.bar(x, binomiale)\n",
    "plt.xlabel('Number of correct answers')\n",
    "plt.ylabel('Probability')\n",
    "plt.title('Binomial Distribution')\n",
    "plt.show()"
   ],
   "metadata": {
    "collapsed": false,
    "ExecuteTime": {
     "start_time": "2024-02-25T08:29:05.113798Z"
    }
   },
   "id": "b446d2215b43eabb",
   "execution_count": null
  },
  {
   "cell_type": "markdown",
   "source": [
    "### Experiment 3: (The binomial distribution)\n",
    "- What is the probability when flipping a coin `10` times of getting `0`, `1`, `2`, `3`, `4`, `5`, `6`, `7`, `8` , `9` and `10` heads?"
   ],
   "metadata": {
    "collapsed": false
   },
   "id": "23f40fad738ad645"
  },
  {
   "cell_type": "code",
   "outputs": [],
   "source": [
    "x=range(0,11)\n",
    "y= (0,0,6,10,35,27,24,16,2,0,0)\n",
    "plt.figure()\n",
    "plt.bar(x, y)\n",
    "plt.ylabel('Frequentie')\n",
    "plt.show()"
   ],
   "metadata": {
    "collapsed": false,
    "ExecuteTime": {
     "start_time": "2024-02-25T08:29:05.115808600Z"
    }
   },
   "id": "d7cde89525905522",
   "execution_count": null
  },
  {
   "cell_type": "markdown",
   "source": [
    "### Experiment 4: (De normale verdeling)"
   ],
   "metadata": {
    "collapsed": false
   },
   "id": "bc0f8732795e53fc"
  },
  {
   "cell_type": "code",
   "outputs": [],
   "source": [
    "x = range(160, 200)\n",
    "y = norm.cdf(x, loc=180, scale=10) # Cumulative Density Function => cum. opportunity\n",
    "# loc = average\n",
    "# scale = standard deviation\n",
    "plt.plot(x, y)\n",
    "plt.xlabel('Weight')\n",
    "plt.ylabel('Cumulative Probability')\n",
    "plt.title('Cumulative Distribution Function')\n",
    "plt.show()"
   ],
   "metadata": {
    "collapsed": false,
    "ExecuteTime": {
     "start_time": "2024-02-25T08:29:05.117304400Z"
    }
   },
   "id": "a4839df513974eb3",
   "execution_count": null
  },
  {
   "cell_type": "markdown",
   "source": [
    "### Experiment 5: (The Poisson distribution)"
   ],
   "metadata": {
    "collapsed": false
   },
   "id": "90e6212958d85068"
  },
  {
   "cell_type": "code",
   "outputs": [],
   "source": [
    "x = range(0, 13)\n",
    "y = poisson.pmf(x, 3) # Probability Mass Function => probability\n",
    "\n",
    "plt.bar(x, y)\n",
    "plt.xlabel('Number of events')\n",
    "plt.ylabel('Probability')\n",
    "plt.title('Poisson Distribution')\n",
    "plt.show()\n",
    "\n",
    "y = poisson.cdf(x, 3) # Cumulative Density Function => cum. opportunity\n",
    "\n",
    "plt.plot(x, y)\n",
    "plt.xlabel('Number of events')\n",
    "plt.ylabel('Cumulative Probability')\n",
    "plt.title('Cumulative Distribution Function')\n",
    "plt.show()"
   ],
   "metadata": {
    "collapsed": false,
    "ExecuteTime": {
     "start_time": "2024-02-25T08:29:05.119309600Z"
    }
   },
   "id": "ff2545d2f9ce3b3b",
   "execution_count": null
  }
 ],
 "metadata": {
  "kernelspec": {
   "display_name": "Python 3",
   "language": "python",
   "name": "python3"
  },
  "language_info": {
   "codemirror_mode": {
    "name": "ipython",
    "version": 2
   },
   "file_extension": ".py",
   "mimetype": "text/x-python",
   "name": "python",
   "nbconvert_exporter": "python",
   "pygments_lexer": "ipython2",
   "version": "2.7.6"
  }
 },
 "nbformat": 4,
 "nbformat_minor": 5
}

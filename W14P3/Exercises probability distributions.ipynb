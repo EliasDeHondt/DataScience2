{
 "cells": [
  {
   "cell_type": "markdown",
   "source": [
    "# Exercises probability distributions"
   ],
   "metadata": {
    "collapsed": false
   },
   "id": "fc11ae5046d6cd48"
  },
  {
   "cell_type": "markdown",
   "source": [
    "## Theoretical questions"
   ],
   "metadata": {
    "collapsed": false
   },
   "id": "d66cd879508e8eb4"
  },
  {
   "cell_type": "markdown",
   "source": [
    "### Question 1:\n",
    "Luna gooit `4` keer met een dobbelsteen (antwoord met `4` beduidende cijfers):\n",
    "- Hoe groot is de kans op precies één `6`?\n",
    "- Hoe groot is de kans op vier zessen?\n",
    "- Hoe groot is de kans op `2` worpen onder de `3` en `2` worpen `3` of hoger?\n"
   ],
   "metadata": {
    "collapsed": false
   },
   "id": "8dcce8d70aac0bac"
  },
  {
   "cell_type": "code",
   "outputs": [],
   "source": [],
   "metadata": {
    "collapsed": false,
    "ExecuteTime": {
     "end_time": "2024-02-21T10:49:35.540876100Z",
     "start_time": "2024-02-21T10:49:35.379732700Z"
    }
   },
   "id": "f61d5f3c36d4ed95",
   "execution_count": 8
  },
  {
   "cell_type": "markdown",
   "source": [
    "### Question 2:\n",
    "Zes studenten Toegepaste Informatica moeten een test `Engels` afleggen. De kans om voor het examen te slagen `0,75`.\n",
    "- Hoe groot is de kans dat exact `4` van hen slagen?\n",
    "- Hoe groot is de kans dat exact `5` van hen slagen?\n",
    "- Hoe groot is de kans dat exact `6` van hen slagen?\n",
    "- Hoe groot is de kans dat minder dan `4` van hen slagen?"
   ],
   "metadata": {
    "collapsed": false
   },
   "id": "ac6e6a8db97c7653"
  },
  {
   "cell_type": "code",
   "outputs": [],
   "source": [],
   "metadata": {
    "collapsed": false,
    "ExecuteTime": {
     "end_time": "2024-02-21T10:49:35.559529600Z",
     "start_time": "2024-02-21T10:49:35.545879Z"
    }
   },
   "id": "ce4e897992fd055a",
   "execution_count": 8
  },
  {
   "cell_type": "markdown",
   "source": [
    "### Question 3:\n",
    "Op weg naar de school, passeer je `6` verkeerslichten. Deze zijn jammer genoeg helemaal niet gesynchroniseerd. Ze werken totaal onafhankelijk van elkaar. De verkeerslichten staan ongeveer `40%` van de tijd op rood.\n",
    "- Wat is de kans dat je geen enkel rood licht hebt, onderweg?\n",
    "- Wat is de kans dat alle verkeerslichten op rood staan?\n",
    "- Wat is de kans om meer dan `2` lichten op rood tegen te komen?\n",
    "- Als je weet dat je gemiddeld `2` minuten verliest per rood licht. Hoeveel tijd verwacht je dan gemiddeld te verliezen op een traject?\n"
   ],
   "metadata": {
    "collapsed": false
   },
   "id": "52f18b95661cc892"
  },
  {
   "cell_type": "code",
   "outputs": [],
   "source": [],
   "metadata": {
    "collapsed": false,
    "ExecuteTime": {
     "end_time": "2024-02-21T10:49:35.614128800Z",
     "start_time": "2024-02-21T10:49:35.559023900Z"
    }
   },
   "id": "42e449944e3abeaf",
   "execution_count": 8
  },
  {
   "cell_type": "markdown",
   "source": [
    "### Question 4:\n",
    "Als je met de fiets naar school fietst, heb je gemiddeld `2` maal per jaar een lekke band.\n",
    "- Wat is de kans dat je geen lekke band hebt in een gegeven jaar?\n",
    "- Wat is de kans dat je meer dan `3` lekke banden hebt in een jaar?\n",
    "- Wat is de kans dat je `2` lekke banden hebt in `1` maand tijd?"
   ],
   "metadata": {
    "collapsed": false
   },
   "id": "82996318cf7a7ab5"
  },
  {
   "cell_type": "code",
   "outputs": [],
   "source": [],
   "metadata": {
    "collapsed": false,
    "ExecuteTime": {
     "end_time": "2024-02-21T10:49:35.616387Z",
     "start_time": "2024-02-21T10:49:35.572821200Z"
    }
   },
   "id": "d45ccf151811f954",
   "execution_count": 8
  },
  {
   "cell_type": "markdown",
   "source": [
    "### Question 5:\n",
    "Een gebruiker krijgt gemiddeld `20` emails per dag. Op een dag krijgt hij er `100` en vraagt zich af of dit nog wel normaal is.\n",
    "- Wat is de kans dat hij meer dan `100` emails op een dag krijgt?\n",
    "- Wat is de kans dat hij er meer dan `30` op een dag krijgt?\n",
    "- Wat is de kans dat hij er exact `20` op een dag krijgt?\n",
    "- Wat is de kans dat hij er `10` of minder op een dag krijgt?\n",
    "- Wat is de kans dat hij er `650` of minder op een maand (`30` dagen) krijgt?"
   ],
   "metadata": {
    "collapsed": false
   },
   "id": "620d7b7bdcad6009"
  },
  {
   "cell_type": "code",
   "outputs": [],
   "source": [],
   "metadata": {
    "collapsed": false,
    "ExecuteTime": {
     "end_time": "2024-02-21T10:49:35.617460200Z",
     "start_time": "2024-02-21T10:49:35.589586300Z"
    }
   },
   "id": "578c8e73692e80b7",
   "execution_count": 8
  },
  {
   "cell_type": "markdown",
   "source": [
    "### Question 6:\n",
    "Er worden gemiddeld `3,5` bitcoin transacties per seconde uitgevoerd. Het maximum aantal transacties dat het netwerk kan verwerken is echter `7` per seconde.\n",
    "- Wat is de kans dat er gedurende een seconde meer dan `7` transacties uitgevoerd moeten worden?\n",
    "- Wat is de kans dat er geen enkele transactie is gedurende een seconde?\n",
    "- Wat is de kans dat er `3` of minder transacties zijn gedurende een seconde?\n",
    "- Wat is de kans dat er `2` of meer transacties zijn gedurende een seconde?\n",
    "- Hoeveel transacties verwacht je op een dag?"
   ],
   "metadata": {
    "collapsed": false
   },
   "id": "6070de44bfdfd33"
  },
  {
   "cell_type": "code",
   "outputs": [],
   "source": [],
   "metadata": {
    "collapsed": false,
    "ExecuteTime": {
     "end_time": "2024-02-21T10:49:35.670811700Z",
     "start_time": "2024-02-21T10:49:35.606681100Z"
    }
   },
   "id": "d18f832b04f4acf8",
   "execution_count": 8
  },
  {
   "cell_type": "markdown",
   "source": [
    "### Question 7:\n",
    "Een toets bestaat uit `40` vragen en de gemiddelde moeilijkheidsgraad van de vragen is `0,85` (de kans op een juist antwoord is `0,85`). Per vraag krijgen de studenten `1` punt. Welke van onderstaande waarden zijn de juiste verwachte waarde en de standaardafwijking van de score op deze toets?\n",
    "- µ=34 en ơ=2,26\n",
    "- µ=29 en ơ=2,26\n",
    "- µ=34 en ơ=5,10\n",
    "- µ=29 en ơ=5,10"
   ],
   "metadata": {
    "collapsed": false
   },
   "id": "cc61bae3d109394c"
  },
  {
   "cell_type": "code",
   "outputs": [],
   "source": [],
   "metadata": {
    "collapsed": false,
    "ExecuteTime": {
     "end_time": "2024-02-21T10:49:35.684286100Z",
     "start_time": "2024-02-21T10:49:35.621199900Z"
    }
   },
   "id": "44bfac8b48ddafd0",
   "execution_count": 8
  },
  {
   "cell_type": "markdown",
   "source": [
    "### Question 8:\n",
    "Voor de standaardnormale verdeling, wat zijn de volgende kansen?\n",
    "- P(Z ≥ +1,64)\n",
    "- P(Z ≥ -1,32)\n",
    "- P(Z ≤ -0,18)\n",
    "- P(Z ≤ +1,28)\n",
    "- P(0,45 ≤ Z ≤ 0,92)\n",
    "- P(-0,72 ≤ Z ≤ -0,38)\n"
   ],
   "metadata": {
    "collapsed": false
   },
   "id": "38274c4c7bf85d7a"
  },
  {
   "cell_type": "code",
   "outputs": [],
   "source": [],
   "metadata": {
    "collapsed": false,
    "ExecuteTime": {
     "end_time": "2024-02-21T10:49:35.685396800Z",
     "start_time": "2024-02-21T10:49:35.635540200Z"
    }
   },
   "id": "a1a696d807d4c60a",
   "execution_count": 8
  },
  {
   "cell_type": "markdown",
   "source": [
    "### Question 9:\n",
    "In een klas is de gemiddelde haarlengte normaal verdeeld `µ=20cm` en `ơ=4`. Wat zijn de volgende kansen?\n",
    "- De kans dat iemands haar langer is dan `28cm`\n",
    "- De kans dat iemands haar korter is dan `16cm`\n",
    "- De kans dat iemand haar een lengte heeft tussen `18cm` en `22cm`"
   ],
   "metadata": {
    "collapsed": false
   },
   "id": "ee5c4b5a82eb1955"
  },
  {
   "cell_type": "code",
   "outputs": [],
   "source": [],
   "metadata": {
    "collapsed": false,
    "ExecuteTime": {
     "end_time": "2024-02-21T10:49:35.711667Z",
     "start_time": "2024-02-21T10:49:35.678361400Z"
    }
   },
   "id": "cff83f626304373",
   "execution_count": 8
  },
  {
   "cell_type": "markdown",
   "source": [
    "### Question 10:\n",
    "We bouwen een website met een wedstrijd met verschillende vragen. De scores op de wedstrijd zijn normaal verdeeld met `µ=50` en `ơ=5`.\n",
    "- Wat is de kans dat een aselect gekozen score op deze wedstrijd lager is dan `40`? \n",
    "- Wat is de kans dat een aselect gekozen score op deze wedstrijd tussen de `42` en `52` valt?\n",
    "- Iedereen die een score behaalt hoger dan `58,75` krijgt een bijzondere prijs met vermelding in de krant. Als `75` mensen deelnemen, hoeveel winnen er dan een bijzondere prijs?"
   ],
   "metadata": {
    "collapsed": false
   },
   "id": "d6410f46d520b3c4"
  },
  {
   "cell_type": "code",
   "outputs": [],
   "source": [],
   "metadata": {
    "collapsed": false,
    "ExecuteTime": {
     "end_time": "2024-02-21T10:49:35.735875Z",
     "start_time": "2024-02-21T10:49:35.716441400Z"
    }
   },
   "id": "a568b487cdf6735b",
   "execution_count": 8
  },
  {
   "cell_type": "markdown",
   "source": [
    "### Question 11:\n",
    "Bij een IQ-test is de verwachte waarde 100 (normaal verdeeld). In Antwerpen is de standaardafwijking `15`, in Gent is deze `18`.\n",
    "- Wat is de kans dat iemand in Antwerpen een IQ heeft dat groter is dan `120`? \n",
    "- Met welk IQ behoor je in Antwerpen tot de mensen die de `16%` laagste scores hebben? hint:\n",
    "    - experimenteer tot je het vindt\n",
    "- Welk IQ (of meer) hebben de `5%` slimste mensen in Gent? hint:\n",
    "    - experimenteer tot je het vindt\n",
    "- Wat is de verhouding van Antwerpenaren en Gentenaren voor scores boven de `130`? \n",
    "    - `1:1`\n",
    "    - `1:2`\n",
    "    - `1:3`\n",
    "    - `5:6`"
   ],
   "metadata": {
    "collapsed": false
   },
   "id": "e975e1091a10f93d"
  },
  {
   "cell_type": "code",
   "outputs": [],
   "source": [],
   "metadata": {
    "collapsed": false,
    "ExecuteTime": {
     "end_time": "2024-02-21T10:49:35.767813500Z",
     "start_time": "2024-02-21T10:49:35.731072Z"
    }
   },
   "id": "a6938ac8dc93ea70",
   "execution_count": 8
  },
  {
   "cell_type": "markdown",
   "source": [
    "### Question 12:\n",
    "Uit onderzoek is gebleken dat de levensduur van lampen normaal verdeeld is. Een bepaald type lampen heeft een levensduur van `500` uur, met een standaardafwijking van `100` uur. Een grootwinkelbedrijf koopt `50 000` lampen van dit type in.\n",
    "- Hoeveel van deze lampen branden langer dan `400` uur?\n",
    "- Hoeveel van deze lampen hebben een levenduur die ligt tussen `400` en `700` uur?\n",
    "- Hoeveel van deze lampen hebben een levenduur die onder de `600` uur ligt? \n",
    "    - Vergelijk dit resultaat met dat van vraag `12a`. \n",
    "    - Wat zie je? \n",
    "    - Hoe komt dit?"
   ],
   "metadata": {
    "collapsed": false
   },
   "id": "e5fc78ed886b19b1"
  },
  {
   "cell_type": "code",
   "outputs": [],
   "source": [],
   "metadata": {
    "collapsed": false,
    "ExecuteTime": {
     "end_time": "2024-02-21T10:49:35.768800700Z",
     "start_time": "2024-02-21T10:49:35.744621600Z"
    }
   },
   "id": "d4efd32877267389",
   "execution_count": 8
  },
  {
   "cell_type": "markdown",
   "source": [
    "### Question 13:\n",
    "Bij een eenvoudige prijsvraag op de website geven `8` van de `10` mensen het juiste antwoord.\n",
    "Hoe groot is de kans dat ten minste `55` deelnemers uit een aselecte steekproef van `60`\n",
    "personen correct geantwoord hebben (`2` beduidende cijfers)?"
   ],
   "metadata": {
    "collapsed": false
   },
   "id": "9007f608cc00a561"
  },
  {
   "cell_type": "code",
   "outputs": [],
   "source": [],
   "metadata": {
    "collapsed": false,
    "ExecuteTime": {
     "end_time": "2024-02-21T10:49:35.807801Z",
     "start_time": "2024-02-21T10:49:35.759800700Z"
    }
   },
   "id": "d7e2cb130f6b2a48",
   "execution_count": 8
  },
  {
   "cell_type": "markdown",
   "source": [
    "### Question 14:\n",
    "Een nieuwe machine maakt volledig autonoom processoren. Slechts `2` op de `5` processoren voldoen aan de kwaliteitsnorm.\n",
    "- We nemen `10` processoren gemaakt door deze machine. Wat is de kans dat er minder dan `2` goed zijn?\n",
    "- We nemen `100` processoren gemaakt door deze machine. Wat is de kans dat er minder dan `20` goed zijn?\n",
    "- In beide bovenstaande vragen wordt gevraagd naar minder dan `20%` van het totaal aantal processoren. Welk verschil merk je? Wat kan de oorzaak zijn?"
   ],
   "metadata": {
    "collapsed": false
   },
   "id": "41089fae68288713"
  },
  {
   "cell_type": "code",
   "outputs": [],
   "source": [],
   "metadata": {
    "collapsed": false,
    "ExecuteTime": {
     "end_time": "2024-02-21T10:49:35.808801200Z",
     "start_time": "2024-02-21T10:49:35.776800900Z"
    }
   },
   "id": "53ff74c185310023",
   "execution_count": 8
  },
  {
   "cell_type": "markdown",
   "source": [
    "### Question 15:\n",
    "Tijdens een laptopexamen kan er van alles mis gaan. We weten dat een computer met Windows `2%` kans heeft om te crashen tijdens het examen. Bij Mac OSX is dat `0,2%` en bij Linux is dat `0,1%`. Stel dat een klas van `40` studenten examen komt afleggen.\n",
    "\n",
    "#### Situatie 1: iedereen draait Windows:\n",
    "- Wat is het verwachte aantal crashes (ombudsdossiers ;-) ) tijdens het examen?\n",
    "- Hoeveel kans is er dat er `1` computer crasht tijdens het examen?\n",
    "- Hoeveel kans is er dat er `2` computers crashen tijdens het examen?\n",
    "\n",
    "#### Situatie 2: 10 studenten draaien Windows, 10 studenten draaien Mac OSX en 20 draaien Linux\n",
    "- Wat is het verwachte aantal crashes tijdens het examen?\n",
    "- Hoeveel kans is er dat er `1` computer crasht tijdens het examen?\n",
    "- Hoeveel kans is er dat er `2` computers crashen tijdens het examen?"
   ],
   "metadata": {
    "collapsed": false
   },
   "id": "92e19de12aa3ac2a"
  },
  {
   "cell_type": "code",
   "outputs": [],
   "source": [],
   "metadata": {
    "collapsed": false,
    "ExecuteTime": {
     "end_time": "2024-02-21T10:49:35.832932600Z",
     "start_time": "2024-02-21T10:49:35.809800700Z"
    }
   },
   "id": "627b6d578527e748",
   "execution_count": 8
  },
  {
   "cell_type": "markdown",
   "source": [
    "### Question 16:\n",
    "\n",
    "In een textielfabriek worden rollen stof vervaardigd met een lengte van `50` meter per rol. Het aantal weeffouten per rol is Poisson-verdeeld met een bijbehorende verwachtingswaarde van `1` weeffout per rol. Bij de kwalitatieve keuring van de rollen stof worden deze gescheiden in rollen van `A kwaliteit` (met `0` of `1` weeffout per rol) en rollen van `B-kwaliteit` (met twee of meer weeffouten per rol).\n",
    "- Bereken de kans dat een willekeurige rol de aanduiding `B-kwaliteit` krijgt. \n",
    "- De productieomvang per dag is gelijk aan `2000` meter stof. Hoe groot is de kans dat er op een willekeurige dag tenminste `30` rollen met `A-kwaliteit` worden gemaakt?"
   ],
   "metadata": {
    "collapsed": false
   },
   "id": "8cb40ed8119dca60"
  },
  {
   "cell_type": "code",
   "outputs": [],
   "source": [],
   "metadata": {
    "collapsed": false,
    "ExecuteTime": {
     "end_time": "2024-02-21T10:49:35.884231700Z",
     "start_time": "2024-02-21T10:49:35.827290900Z"
    }
   },
   "id": "2fceb544926a5b63",
   "execution_count": 8
  },
  {
   "cell_type": "markdown",
   "source": [
    "### Question 17:\n",
    "Bij een IT servicedesk komen gemiddeld `10` service-requests per uur binnen. \n",
    "- Bereken de kans dat er in een uur meer dan `15` service-requests binnen komen. \n",
    "- Bereken de kans dat er minstens `10` maar niet meer dan `15` service-requests binnen komen.\n",
    "- Bereken de kans dat er een kwartier lang geen service-requests binnen komen."
   ],
   "metadata": {
    "collapsed": false
   },
   "id": "720cbf0dcc2f81ba"
  },
  {
   "cell_type": "code",
   "outputs": [],
   "source": [],
   "metadata": {
    "collapsed": false,
    "ExecuteTime": {
     "end_time": "2024-02-21T10:49:35.885232100Z",
     "start_time": "2024-02-21T10:49:35.841200600Z"
    }
   },
   "id": "1e9810c669f1877f",
   "execution_count": 8
  },
  {
   "cell_type": "markdown",
   "source": [
    "## Practical exercises (Python)"
   ],
   "metadata": {
    "collapsed": false
   },
   "id": "f8f39a382b50d97a"
  },
  {
   "cell_type": "code",
   "outputs": [],
   "source": [
    "import pandas as pd\n",
    "studentQuestions = pd.read_csv('../Data.csv', delimiter=';', decimal=',')"
   ],
   "metadata": {
    "collapsed": false,
    "ExecuteTime": {
     "end_time": "2024-02-21T10:49:35.914864800Z",
     "start_time": "2024-02-21T10:49:35.855335100Z"
    }
   },
   "id": "5e61cb3cb6fe7e97",
   "execution_count": 9
  },
  {
   "cell_type": "code",
   "outputs": [
    {
     "data": {
      "text/plain": "   gapminder schrijfhand  schoenmaat  lengte    bloedgroep         resus  \\\n0       7/18      Rechts        43.0     184             O      positief   \n1       3/18      Rechts        42.0     163  Weet ik niet  Weet ik niet   \n2      12/18      Rechts        45.0     183            AB      positief   \n3       5/18      Rechts        44.0     175             A      positief   \n4       6/18      Rechts        43.0     173             B      positief   \n..       ...         ...         ...     ...           ...           ...   \n84      7/18      Rechts        45.0     185             O      negatief   \n85      9/18      Rechts        43.0     184             O  Weet ik niet   \n86      4/18       Links        45.5     190  Weet ik niet  Weet ik niet   \n87      8/18      Rechts        45.0     188             A      positief   \n88      7/18      Rechts        43.0     176             B      positief   \n\n    siblings                                     Samenzweringen  \\\n0          5  De tsunami van 2004 in de Indische Oceaan was ...   \n1          1   Prinses Diana kwam niet per ongeluk om het leven   \n2          2  Prinses Diana kwam niet per ongeluk om het lev...   \n3          2  De wereld wordt eigenlijk gecontroleerd door e...   \n4          3  De wereld wordt eigenlijk gecontroleerd door e...   \n..       ...                                                ...   \n84         0  De maanlanding is in scne gezet om de Russen ...   \n85         2  De aanslagen van 9/11 in NY werden niet door t...   \n86         0  Prinses Diana kwam niet per ongeluk om het lev...   \n87         1                                                NaN   \n88         2                                                NaN   \n\n                                            rijbewijs  \\\n0                                Categorie B: Wagens.   \n1   Categorie AM: Bromfietsen met een maximumsnelh...   \n2   Categorie AM: Bromfietsen met een maximumsnelh...   \n3   Categorie AM: Bromfietsen met een maximumsnelh...   \n4                                Categorie B: Wagens.   \n..                                                ...   \n84  Categorie AM: Bromfietsen met een maximumsnelh...   \n85  Categorie AM: Bromfietsen met een maximumsnelh...   \n86  Categorie AM: Bromfietsen met een maximumsnelh...   \n87                               Categorie B: Wagens.   \n88                               Categorie B: Wagens.   \n\n                               domicilie in Antwerpen  ... M1 - stelen  \\\n0   buiten de stad (een dorp, een gehucht, het pla...  ...           7   \n1                                         in een stad  ...          10   \n2                                         in een stad  ...           6   \n3                                         in een stad  ...           9   \n4                                         in een stad  ...          10   \n..                                                ...  ...         ...   \n84  buiten de stad (een dorp, een gehucht, het pla...  ...          10   \n85  buiten de stad (een dorp, een gehucht, het pla...  ...           8   \n86                                        in een stad  ...          10   \n87                                        in een stad  ...           8   \n88                                        in een stad  ...          10   \n\n   M2 - team M3 - beschermen M4 - voorbeeld M5 - embryo  M6 - vrijheid  \\\n0          2               8              6           5            4.0   \n1          5              10              6           7            3.0   \n2          3               7              7          10            6.0   \n3         10              10             10          10            0.0   \n4          6              10              7           7            2.0   \n..       ...             ...            ...         ...            ...   \n84         3               8              8           2            5.0   \n85         5               7              8           4            0.0   \n86         5              10              8           9            5.0   \n87         6               6              7           6            4.0   \n88         5               4              9           3            9.0   \n\n                                             mascotte            zwaarste vak  \\\n0   1=Bever,2=Wasbeer,3=Otter,4=Wolf,5=Poema,6=Pan...            Management 1   \n1   1=Bever,2=Wolf,3=Bizon,4=Otter,5=Panter,6=Poem...            Management 1   \n2   1=Bruine beer,2=Poema,3=Panter,4=Wolf,5=Vos,6=...            Management 1   \n3   1=Wasbeer,2=Wolf,3=Bruine beer,4=Das,5=Vos,6=B...            Management 1   \n4   1=Wolf,2=Vos,3=Bruine beer,4=Bizon,5=Panter,6=...            Management 1   \n..                                                ...                     ...   \n84  1=Panter,2=Poema,3=Wolf,4=Vos,5=Bever,6=Bruine...  Software engineering 1   \n85  1=Panter,2=Poema,3=Vos,4=Wolf,5=Bruine beer,6=...          Data science 1   \n86  1=Wolf,2=Vos,3=Bruine beer,4=Bever,5=Das,6=Was...       User interfaces 1   \n87  1=Otter,2=Wasbeer,3=Vos,4=Bruine beer,5=Bever,...             Netwerken 1   \n88  1=Poema,2=Panter,3=Wolf,4=Bruine beer,5=Bizon,...          Data science 1   \n\n                boeienste vak  studiepunt  \n0              Data science 1  16-20 uren  \n1          Computersystemen 1  <= 10 uren  \n2       Programmeren 1 - Java  16-20 uren  \n3              Data science 1  <= 10 uren  \n4              Data science 1  <= 10 uren  \n..                        ...         ...  \n84          User interfaces 1  26-30 uren  \n85  Programmeren 1 - Embedded  11-15 uren  \n86             Data science 1  16-20 uren  \n87             Data science 1  16-20 uren  \n88      Programmeren 1 - Java  26-30 uren  \n\n[89 rows x 33 columns]",
      "text/html": "<div>\n<style scoped>\n    .dataframe tbody tr th:only-of-type {\n        vertical-align: middle;\n    }\n\n    .dataframe tbody tr th {\n        vertical-align: top;\n    }\n\n    .dataframe thead th {\n        text-align: right;\n    }\n</style>\n<table border=\"1\" class=\"dataframe\">\n  <thead>\n    <tr style=\"text-align: right;\">\n      <th></th>\n      <th>gapminder</th>\n      <th>schrijfhand</th>\n      <th>schoenmaat</th>\n      <th>lengte</th>\n      <th>bloedgroep</th>\n      <th>resus</th>\n      <th>siblings</th>\n      <th>Samenzweringen</th>\n      <th>rijbewijs</th>\n      <th>domicilie in Antwerpen</th>\n      <th>...</th>\n      <th>M1 - stelen</th>\n      <th>M2 - team</th>\n      <th>M3 - beschermen</th>\n      <th>M4 - voorbeeld</th>\n      <th>M5 - embryo</th>\n      <th>M6 - vrijheid</th>\n      <th>mascotte</th>\n      <th>zwaarste vak</th>\n      <th>boeienste vak</th>\n      <th>studiepunt</th>\n    </tr>\n  </thead>\n  <tbody>\n    <tr>\n      <th>0</th>\n      <td>7/18</td>\n      <td>Rechts</td>\n      <td>43.0</td>\n      <td>184</td>\n      <td>O</td>\n      <td>positief</td>\n      <td>5</td>\n      <td>De tsunami van 2004 in de Indische Oceaan was ...</td>\n      <td>Categorie B: Wagens.</td>\n      <td>buiten de stad (een dorp, een gehucht, het pla...</td>\n      <td>...</td>\n      <td>7</td>\n      <td>2</td>\n      <td>8</td>\n      <td>6</td>\n      <td>5</td>\n      <td>4.0</td>\n      <td>1=Bever,2=Wasbeer,3=Otter,4=Wolf,5=Poema,6=Pan...</td>\n      <td>Management 1</td>\n      <td>Data science 1</td>\n      <td>16-20 uren</td>\n    </tr>\n    <tr>\n      <th>1</th>\n      <td>3/18</td>\n      <td>Rechts</td>\n      <td>42.0</td>\n      <td>163</td>\n      <td>Weet ik niet</td>\n      <td>Weet ik niet</td>\n      <td>1</td>\n      <td>Prinses Diana kwam niet per ongeluk om het leven</td>\n      <td>Categorie AM: Bromfietsen met een maximumsnelh...</td>\n      <td>in een stad</td>\n      <td>...</td>\n      <td>10</td>\n      <td>5</td>\n      <td>10</td>\n      <td>6</td>\n      <td>7</td>\n      <td>3.0</td>\n      <td>1=Bever,2=Wolf,3=Bizon,4=Otter,5=Panter,6=Poem...</td>\n      <td>Management 1</td>\n      <td>Computersystemen 1</td>\n      <td>&lt;= 10 uren</td>\n    </tr>\n    <tr>\n      <th>2</th>\n      <td>12/18</td>\n      <td>Rechts</td>\n      <td>45.0</td>\n      <td>183</td>\n      <td>AB</td>\n      <td>positief</td>\n      <td>2</td>\n      <td>Prinses Diana kwam niet per ongeluk om het lev...</td>\n      <td>Categorie AM: Bromfietsen met een maximumsnelh...</td>\n      <td>in een stad</td>\n      <td>...</td>\n      <td>6</td>\n      <td>3</td>\n      <td>7</td>\n      <td>7</td>\n      <td>10</td>\n      <td>6.0</td>\n      <td>1=Bruine beer,2=Poema,3=Panter,4=Wolf,5=Vos,6=...</td>\n      <td>Management 1</td>\n      <td>Programmeren 1 - Java</td>\n      <td>16-20 uren</td>\n    </tr>\n    <tr>\n      <th>3</th>\n      <td>5/18</td>\n      <td>Rechts</td>\n      <td>44.0</td>\n      <td>175</td>\n      <td>A</td>\n      <td>positief</td>\n      <td>2</td>\n      <td>De wereld wordt eigenlijk gecontroleerd door e...</td>\n      <td>Categorie AM: Bromfietsen met een maximumsnelh...</td>\n      <td>in een stad</td>\n      <td>...</td>\n      <td>9</td>\n      <td>10</td>\n      <td>10</td>\n      <td>10</td>\n      <td>10</td>\n      <td>0.0</td>\n      <td>1=Wasbeer,2=Wolf,3=Bruine beer,4=Das,5=Vos,6=B...</td>\n      <td>Management 1</td>\n      <td>Data science 1</td>\n      <td>&lt;= 10 uren</td>\n    </tr>\n    <tr>\n      <th>4</th>\n      <td>6/18</td>\n      <td>Rechts</td>\n      <td>43.0</td>\n      <td>173</td>\n      <td>B</td>\n      <td>positief</td>\n      <td>3</td>\n      <td>De wereld wordt eigenlijk gecontroleerd door e...</td>\n      <td>Categorie B: Wagens.</td>\n      <td>in een stad</td>\n      <td>...</td>\n      <td>10</td>\n      <td>6</td>\n      <td>10</td>\n      <td>7</td>\n      <td>7</td>\n      <td>2.0</td>\n      <td>1=Wolf,2=Vos,3=Bruine beer,4=Bizon,5=Panter,6=...</td>\n      <td>Management 1</td>\n      <td>Data science 1</td>\n      <td>&lt;= 10 uren</td>\n    </tr>\n    <tr>\n      <th>...</th>\n      <td>...</td>\n      <td>...</td>\n      <td>...</td>\n      <td>...</td>\n      <td>...</td>\n      <td>...</td>\n      <td>...</td>\n      <td>...</td>\n      <td>...</td>\n      <td>...</td>\n      <td>...</td>\n      <td>...</td>\n      <td>...</td>\n      <td>...</td>\n      <td>...</td>\n      <td>...</td>\n      <td>...</td>\n      <td>...</td>\n      <td>...</td>\n      <td>...</td>\n      <td>...</td>\n    </tr>\n    <tr>\n      <th>84</th>\n      <td>7/18</td>\n      <td>Rechts</td>\n      <td>45.0</td>\n      <td>185</td>\n      <td>O</td>\n      <td>negatief</td>\n      <td>0</td>\n      <td>De maanlanding is in scne gezet om de Russen ...</td>\n      <td>Categorie AM: Bromfietsen met een maximumsnelh...</td>\n      <td>buiten de stad (een dorp, een gehucht, het pla...</td>\n      <td>...</td>\n      <td>10</td>\n      <td>3</td>\n      <td>8</td>\n      <td>8</td>\n      <td>2</td>\n      <td>5.0</td>\n      <td>1=Panter,2=Poema,3=Wolf,4=Vos,5=Bever,6=Bruine...</td>\n      <td>Software engineering 1</td>\n      <td>User interfaces 1</td>\n      <td>26-30 uren</td>\n    </tr>\n    <tr>\n      <th>85</th>\n      <td>9/18</td>\n      <td>Rechts</td>\n      <td>43.0</td>\n      <td>184</td>\n      <td>O</td>\n      <td>Weet ik niet</td>\n      <td>2</td>\n      <td>De aanslagen van 9/11 in NY werden niet door t...</td>\n      <td>Categorie AM: Bromfietsen met een maximumsnelh...</td>\n      <td>buiten de stad (een dorp, een gehucht, het pla...</td>\n      <td>...</td>\n      <td>8</td>\n      <td>5</td>\n      <td>7</td>\n      <td>8</td>\n      <td>4</td>\n      <td>0.0</td>\n      <td>1=Panter,2=Poema,3=Vos,4=Wolf,5=Bruine beer,6=...</td>\n      <td>Data science 1</td>\n      <td>Programmeren 1 - Embedded</td>\n      <td>11-15 uren</td>\n    </tr>\n    <tr>\n      <th>86</th>\n      <td>4/18</td>\n      <td>Links</td>\n      <td>45.5</td>\n      <td>190</td>\n      <td>Weet ik niet</td>\n      <td>Weet ik niet</td>\n      <td>0</td>\n      <td>Prinses Diana kwam niet per ongeluk om het lev...</td>\n      <td>Categorie AM: Bromfietsen met een maximumsnelh...</td>\n      <td>in een stad</td>\n      <td>...</td>\n      <td>10</td>\n      <td>5</td>\n      <td>10</td>\n      <td>8</td>\n      <td>9</td>\n      <td>5.0</td>\n      <td>1=Wolf,2=Vos,3=Bruine beer,4=Bever,5=Das,6=Was...</td>\n      <td>User interfaces 1</td>\n      <td>Data science 1</td>\n      <td>16-20 uren</td>\n    </tr>\n    <tr>\n      <th>87</th>\n      <td>8/18</td>\n      <td>Rechts</td>\n      <td>45.0</td>\n      <td>188</td>\n      <td>A</td>\n      <td>positief</td>\n      <td>1</td>\n      <td>NaN</td>\n      <td>Categorie B: Wagens.</td>\n      <td>in een stad</td>\n      <td>...</td>\n      <td>8</td>\n      <td>6</td>\n      <td>6</td>\n      <td>7</td>\n      <td>6</td>\n      <td>4.0</td>\n      <td>1=Otter,2=Wasbeer,3=Vos,4=Bruine beer,5=Bever,...</td>\n      <td>Netwerken 1</td>\n      <td>Data science 1</td>\n      <td>16-20 uren</td>\n    </tr>\n    <tr>\n      <th>88</th>\n      <td>7/18</td>\n      <td>Rechts</td>\n      <td>43.0</td>\n      <td>176</td>\n      <td>B</td>\n      <td>positief</td>\n      <td>2</td>\n      <td>NaN</td>\n      <td>Categorie B: Wagens.</td>\n      <td>in een stad</td>\n      <td>...</td>\n      <td>10</td>\n      <td>5</td>\n      <td>4</td>\n      <td>9</td>\n      <td>3</td>\n      <td>9.0</td>\n      <td>1=Poema,2=Panter,3=Wolf,4=Bruine beer,5=Bizon,...</td>\n      <td>Data science 1</td>\n      <td>Programmeren 1 - Java</td>\n      <td>26-30 uren</td>\n    </tr>\n  </tbody>\n</table>\n<p>89 rows × 33 columns</p>\n</div>"
     },
     "metadata": {},
     "output_type": "display_data"
    }
   ],
   "source": [
    "display(studentQuestions)"
   ],
   "metadata": {
    "collapsed": false,
    "ExecuteTime": {
     "end_time": "2024-02-21T10:49:35.960587100Z",
     "start_time": "2024-02-21T10:49:35.892170100Z"
    }
   },
   "id": "ab582d68c7912d5c",
   "execution_count": 10
  },
  {
   "cell_type": "markdown",
   "source": [
    "### Exercise 1:\n",
    "- Wat is de kans dat van 10 willekeurig gekozen studenten, exact 3 studenten hun bloedgroep kennen?"
   ],
   "metadata": {
    "collapsed": false
   },
   "id": "439b67b46397307e"
  },
  {
   "cell_type": "code",
   "outputs": [
    {
     "data": {
      "text/plain": "array(['O', 'Weet ik niet', 'AB', 'A', 'B'], dtype=object)"
     },
     "metadata": {},
     "output_type": "display_data"
    }
   ],
   "source": [
    "display(studentQuestions[\"bloedgroep\"].unique())"
   ],
   "metadata": {
    "collapsed": false,
    "ExecuteTime": {
     "end_time": "2024-02-21T10:49:35.969018700Z",
     "start_time": "2024-02-21T10:49:35.951804700Z"
    }
   },
   "id": "226a017cd1abc68e",
   "execution_count": 11
  },
  {
   "cell_type": "code",
   "outputs": [],
   "source": [],
   "metadata": {
    "collapsed": false,
    "ExecuteTime": {
     "end_time": "2024-02-21T10:49:36.015272800Z",
     "start_time": "2024-02-21T10:49:35.967559700Z"
    }
   },
   "id": "ace76afdba039166",
   "execution_count": 11
  },
  {
   "cell_type": "markdown",
   "source": [
    "### Exercise 2:\n",
    "- Wat is de kans dat een student zijn studies onderschat (m.a.w. inschat dat 1 studiepunt overeenkomt met 15 of minder uren)?\n",
    "- Je dient samen met vier medestudenten een groeps-werk te maken. Wat is de kans dat er minstens 1 van je groepsgenoten zijn studies onderschat?"
   ],
   "metadata": {
    "collapsed": false
   },
   "id": "e8f1254695876091"
  },
  {
   "cell_type": "code",
   "outputs": [
    {
     "data": {
      "text/plain": "array(['16-20 uren', '<= 10 uren', '21-25 uren', '36-40 uren',\n       '31-35 uren', '26-30 uren', '11-15 uren', '>= 41 uren'],\n      dtype=object)"
     },
     "metadata": {},
     "output_type": "display_data"
    }
   ],
   "source": [
    "display(studentQuestions[\"studiepunt\"].unique())"
   ],
   "metadata": {
    "collapsed": false,
    "ExecuteTime": {
     "end_time": "2024-02-21T10:49:36.043380900Z",
     "start_time": "2024-02-21T10:49:35.980878800Z"
    }
   },
   "id": "c0d4588203e46fa1",
   "execution_count": 12
  },
  {
   "cell_type": "code",
   "outputs": [],
   "source": [],
   "metadata": {
    "collapsed": false,
    "ExecuteTime": {
     "end_time": "2024-02-21T10:49:36.095827700Z",
     "start_time": "2024-02-21T10:49:36.019643200Z"
    }
   },
   "id": "7ef0007c5d9f876b",
   "execution_count": 12
  },
  {
   "cell_type": "code",
   "outputs": [],
   "source": [],
   "metadata": {
    "collapsed": false,
    "ExecuteTime": {
     "end_time": "2024-02-21T10:49:36.146549800Z",
     "start_time": "2024-02-21T10:49:36.052857300Z"
    }
   },
   "id": "1a3af418ea4b0450",
   "execution_count": 12
  },
  {
   "cell_type": "markdown",
   "source": [
    "### Exercise 3:\n",
    "- Bereken op basis van de gegevens hoeveel % van de studenten maximaal anderhalve standaard-afwijking groter of kleiner zijn dan het gemiddelde."
   ],
   "metadata": {
    "collapsed": false
   },
   "id": "4763d5f4fbadd085"
  },
  {
   "cell_type": "code",
   "outputs": [],
   "source": [],
   "metadata": {
    "collapsed": false,
    "ExecuteTime": {
     "end_time": "2024-02-21T10:49:36.179374500Z",
     "start_time": "2024-02-21T10:49:36.148888400Z"
    }
   },
   "id": "2b6f2cdb5583c35f",
   "execution_count": 12
  }
 ],
 "metadata": {
  "kernelspec": {
   "display_name": "Python 3",
   "language": "python",
   "name": "python3"
  },
  "language_info": {
   "codemirror_mode": {
    "name": "ipython",
    "version": 2
   },
   "file_extension": ".py",
   "mimetype": "text/x-python",
   "name": "python",
   "nbconvert_exporter": "python",
   "pygments_lexer": "ipython2",
   "version": "2.7.6"
  }
 },
 "nbformat": 4,
 "nbformat_minor": 5
}

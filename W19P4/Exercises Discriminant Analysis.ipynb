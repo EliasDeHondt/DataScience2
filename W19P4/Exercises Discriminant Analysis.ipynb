{
 "cells": [
  {
   "cell_type": "markdown",
   "source": [
    "# Exercises Discriminant Analysis"
   ],
   "metadata": {
    "collapsed": false
   },
   "id": "fc11ae5046d6cd48"
  },
  {
   "cell_type": "code",
   "outputs": [],
   "source": [],
   "metadata": {
    "collapsed": false,
    "ExecuteTime": {
     "end_time": "2024-04-17T10:23:15.643508Z",
     "start_time": "2024-04-17T10:23:15.632179Z"
    }
   },
   "id": "1796a7e3a7232f25",
   "execution_count": null
  },
  {
   "cell_type": "markdown",
   "source": [
    "## Theoretical questions"
   ],
   "metadata": {
    "collapsed": false
   },
   "id": "d66cd879508e8eb4"
  },
  {
   "cell_type": "markdown",
   "source": [
    "### Question 1:\n"
   ],
   "metadata": {
    "collapsed": false
   },
   "id": "8dcce8d70aac0bac"
  },
  {
   "cell_type": "code",
   "outputs": [],
   "source": [],
   "metadata": {
    "collapsed": false,
    "ExecuteTime": {
     "end_time": "2024-04-17T10:23:15.735690Z",
     "start_time": "2024-04-17T10:23:15.723881Z"
    }
   },
   "id": "d45ccf151811f954",
   "execution_count": null
  },
  {
   "cell_type": "markdown",
   "source": [
    "### Question 2:\n"
   ],
   "metadata": {
    "collapsed": false
   },
   "id": "3d07b7bd896afd9c"
  },
  {
   "cell_type": "code",
   "outputs": [],
   "source": [],
   "metadata": {
    "collapsed": false,
    "ExecuteTime": {
     "end_time": "2024-04-17T10:23:15.751245Z",
     "start_time": "2024-04-17T10:23:15.746550Z"
    }
   },
   "id": "c6a18b90edf1f951",
   "execution_count": null
  },
  {
   "cell_type": "markdown",
   "source": [
    "### Question 3:\n",
    "\n"
   ],
   "metadata": {
    "collapsed": false
   },
   "id": "921495f352a4d7dd"
  },
  {
   "cell_type": "code",
   "outputs": [],
   "source": [],
   "metadata": {
    "collapsed": false,
    "ExecuteTime": {
     "end_time": "2024-04-17T10:23:15.782239Z",
     "start_time": "2024-04-17T10:23:15.769394Z"
    }
   },
   "id": "7bb235ae95ef43d9",
   "execution_count": 0
  },
  {
   "cell_type": "markdown",
   "source": [
    "### Question 4:\n"
   ],
   "metadata": {
    "collapsed": false
   },
   "id": "fad47ac4057f255"
  },
  {
   "cell_type": "code",
   "outputs": [],
   "source": [],
   "metadata": {
    "collapsed": false,
    "ExecuteTime": {
     "end_time": "2024-04-17T10:23:15.841314Z",
     "start_time": "2024-04-17T10:23:15.834253Z"
    }
   },
   "id": "a7612f7711a930ea",
   "execution_count": null
  },
  {
   "cell_type": "markdown",
   "source": [
    "### Question 5:"
   ],
   "metadata": {
    "collapsed": false
   },
   "id": "6c26b5905bb1950d"
  },
  {
   "cell_type": "code",
   "outputs": [],
   "source": [],
   "metadata": {
    "collapsed": false,
    "ExecuteTime": {
     "end_time": "2024-04-17T10:23:15.871679Z",
     "start_time": "2024-04-17T10:23:15.854038Z"
    }
   },
   "id": "3d31dfcbf6b949d5",
   "execution_count": null
  }
 ],
 "metadata": {
  "kernelspec": {
   "display_name": "Python 3",
   "language": "python",
   "name": "python3"
  },
  "language_info": {
   "codemirror_mode": {
    "name": "ipython",
    "version": 2
   },
   "file_extension": ".py",
   "mimetype": "text/x-python",
   "name": "python",
   "nbconvert_exporter": "python",
   "pygments_lexer": "ipython2",
   "version": "2.7.6"
  }
 },
 "nbformat": 4,
 "nbformat_minor": 5
}

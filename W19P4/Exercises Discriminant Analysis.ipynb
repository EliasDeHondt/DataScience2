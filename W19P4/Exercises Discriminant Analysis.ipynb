{
 "cells": [
  {
   "cell_type": "markdown",
   "source": [
    "# Exercises Discriminant Analysis"
   ],
   "metadata": {
    "collapsed": false
   },
   "id": "fc11ae5046d6cd48"
  },
  {
   "cell_type": "code",
   "outputs": [
    {
     "name": "stderr",
     "output_type": "stream",
     "text": [
      "C:\\Users\\elias\\AppData\\Local\\Temp\\ipykernel_26864\\1070491525.py:1: DeprecationWarning: \n",
      "Pyarrow will become a required dependency of pandas in the next major release of pandas (pandas 3.0),\n",
      "(to allow more performant data types, such as the Arrow string type, and better interoperability with other libraries)\n",
      "but was not found to be installed on your system.\n",
      "If this would cause problems for you,\n",
      "please provide us feedback at https://github.com/pandas-dev/pandas/issues/54466\n",
      "        \n",
      "  import pandas as pd                                                     # Data manipulation\n"
     ]
    }
   ],
   "source": [
    "import pandas as pd                                                     # Data manipulation\n",
    "import numpy as np                                                      # Scientific computing\n",
    "import matplotlib.pyplot as plt                                         # Data visualization\n",
    "from sklearn.discriminant_analysis import LinearDiscriminantAnalysis    # Discriminant Analysis\n",
    "\n",
    "\n",
    "def LDA_coefficients(X,lda):\n",
    "    nb_col = X.shape[1]\n",
    "    matrix= np.zeros((nb_col+1,nb_col), dtype=int)\n",
    "    Z=pd.DataFrame(data=matrix,columns=X.columns)\n",
    "    for j in range(0,nb_col):\n",
    "        Z.iloc[j,j] = 1\n",
    "    LD = lda.transform(Z)\n",
    "    nb_funct= LD.shape[1]\n",
    "    resultaat = pd.DataFrame();\n",
    "    index = ['const']\n",
    "    for j in range(0,LD.shape[0]-1):\n",
    "        index = np.append(index,'C'+str(j+1))\n",
    "    for i in range(0,LD.shape[1]):\n",
    "        coef = [LD[-1][i]]\n",
    "        for j in range(0,LD.shape[0]-1):\n",
    "            coef = np.append(coef,LD[j][i]-LD[-1][i])\n",
    "        result = pd.Series(coef)\n",
    "        result.index = index\n",
    "        column_name = 'LD' + str(i+1)\n",
    "        resultaat[column_name] = result\n",
    "    return resultaat"
   ],
   "metadata": {
    "collapsed": false,
    "ExecuteTime": {
     "end_time": "2024-04-17T13:53:41.538783Z",
     "start_time": "2024-04-17T13:53:38.634135Z"
    }
   },
   "id": "1796a7e3a7232f25",
   "execution_count": 2
  },
  {
   "cell_type": "markdown",
   "source": [
    "## Theoretical questions"
   ],
   "metadata": {
    "collapsed": false
   },
   "id": "d66cd879508e8eb4"
  },
  {
   "cell_type": "markdown",
   "source": [
    "### Question 1:\n",
    "- Kan je de schrijfhand van volgende student voorspellen op basis van de opgegeven lengte (`182`), stukken fruit (`2`), schoenmaat (`44`), afstand tot KdG (`22`)? Gebruik enkel de studenten die Links of Rechts als schrijfhand hebben opgegeven.\n",
    "- Stel een confusion matrix op op basis van de voorspelde en de effectieve waarden voor de data die je gebruikt hebt om de discriminantanalyse uit te voeren (zie 1).\n",
    "- Bereken de gebruikelijke evaluatie metrieken voor een binaire classificator.\n",
    "- Teken de ROC-curve. Verklaar –indien van toepassing-waarom de ROC-curve niet wordt getekend.\n",
    "\n",
    "- Wat is de accuracy van de discriminantanalyse waar de lengte en de schoenmaat het aantal broers en zussen voorspelt?"
   ],
   "metadata": {
    "collapsed": false
   },
   "id": "8302daa62617938d"
  },
  {
   "cell_type": "code",
   "outputs": [
    {
     "data": {
      "text/plain": "  gapminder schrijfhand  schoenmaat  lengte    bloedgroep         resus  \\\n0      7/18      Rechts        43.0     184             O      positief   \n1      3/18      Rechts        42.0     163  Weet ik niet  Weet ik niet   \n2     12/18      Rechts        45.0     183            AB      positief   \n3      5/18      Rechts        44.0     175             A      positief   \n4      6/18      Rechts        43.0     173             B      positief   \n\n   siblings                                     Samenzweringen  \\\n0         5  De tsunami van 2004 in de Indische Oceaan was ...   \n1         1   Prinses Diana kwam niet per ongeluk om het leven   \n2         2  Prinses Diana kwam niet per ongeluk om het lev...   \n3         2  De wereld wordt eigenlijk gecontroleerd door e...   \n4         3  De wereld wordt eigenlijk gecontroleerd door e...   \n\n                                           rijbewijs  \\\n0                               Categorie B: Wagens.   \n1  Categorie AM: Bromfietsen met een maximumsnelh...   \n2  Categorie AM: Bromfietsen met een maximumsnelh...   \n3  Categorie AM: Bromfietsen met een maximumsnelh...   \n4                               Categorie B: Wagens.   \n\n                              domicilie in Antwerpen  ... M1 - stelen  \\\n0  buiten de stad (een dorp, een gehucht, het pla...  ...           7   \n1                                        in een stad  ...          10   \n2                                        in een stad  ...           6   \n3                                        in een stad  ...           9   \n4                                        in een stad  ...          10   \n\n  M2 - team M3 - beschermen M4 - voorbeeld M5 - embryo  M6 - vrijheid  \\\n0         2               8              6           5            4.0   \n1         5              10              6           7            3.0   \n2         3               7              7          10            6.0   \n3        10              10             10          10            0.0   \n4         6              10              7           7            2.0   \n\n                                            mascotte  zwaarste vak  \\\n0  1=Bever,2=Wasbeer,3=Otter,4=Wolf,5=Poema,6=Pan...  Management 1   \n1  1=Bever,2=Wolf,3=Bizon,4=Otter,5=Panter,6=Poem...  Management 1   \n2  1=Bruine beer,2=Poema,3=Panter,4=Wolf,5=Vos,6=...  Management 1   \n3  1=Wasbeer,2=Wolf,3=Bruine beer,4=Das,5=Vos,6=B...  Management 1   \n4  1=Wolf,2=Vos,3=Bruine beer,4=Bizon,5=Panter,6=...  Management 1   \n\n           boeienste vak  studiepunt  \n0         Data science 1  16-20 uren  \n1     Computersystemen 1  <= 10 uren  \n2  Programmeren 1 - Java  16-20 uren  \n3         Data science 1  <= 10 uren  \n4         Data science 1  <= 10 uren  \n\n[5 rows x 33 columns]",
      "text/html": "<div>\n<style scoped>\n    .dataframe tbody tr th:only-of-type {\n        vertical-align: middle;\n    }\n\n    .dataframe tbody tr th {\n        vertical-align: top;\n    }\n\n    .dataframe thead th {\n        text-align: right;\n    }\n</style>\n<table border=\"1\" class=\"dataframe\">\n  <thead>\n    <tr style=\"text-align: right;\">\n      <th></th>\n      <th>gapminder</th>\n      <th>schrijfhand</th>\n      <th>schoenmaat</th>\n      <th>lengte</th>\n      <th>bloedgroep</th>\n      <th>resus</th>\n      <th>siblings</th>\n      <th>Samenzweringen</th>\n      <th>rijbewijs</th>\n      <th>domicilie in Antwerpen</th>\n      <th>...</th>\n      <th>M1 - stelen</th>\n      <th>M2 - team</th>\n      <th>M3 - beschermen</th>\n      <th>M4 - voorbeeld</th>\n      <th>M5 - embryo</th>\n      <th>M6 - vrijheid</th>\n      <th>mascotte</th>\n      <th>zwaarste vak</th>\n      <th>boeienste vak</th>\n      <th>studiepunt</th>\n    </tr>\n  </thead>\n  <tbody>\n    <tr>\n      <th>0</th>\n      <td>7/18</td>\n      <td>Rechts</td>\n      <td>43.0</td>\n      <td>184</td>\n      <td>O</td>\n      <td>positief</td>\n      <td>5</td>\n      <td>De tsunami van 2004 in de Indische Oceaan was ...</td>\n      <td>Categorie B: Wagens.</td>\n      <td>buiten de stad (een dorp, een gehucht, het pla...</td>\n      <td>...</td>\n      <td>7</td>\n      <td>2</td>\n      <td>8</td>\n      <td>6</td>\n      <td>5</td>\n      <td>4.0</td>\n      <td>1=Bever,2=Wasbeer,3=Otter,4=Wolf,5=Poema,6=Pan...</td>\n      <td>Management 1</td>\n      <td>Data science 1</td>\n      <td>16-20 uren</td>\n    </tr>\n    <tr>\n      <th>1</th>\n      <td>3/18</td>\n      <td>Rechts</td>\n      <td>42.0</td>\n      <td>163</td>\n      <td>Weet ik niet</td>\n      <td>Weet ik niet</td>\n      <td>1</td>\n      <td>Prinses Diana kwam niet per ongeluk om het leven</td>\n      <td>Categorie AM: Bromfietsen met een maximumsnelh...</td>\n      <td>in een stad</td>\n      <td>...</td>\n      <td>10</td>\n      <td>5</td>\n      <td>10</td>\n      <td>6</td>\n      <td>7</td>\n      <td>3.0</td>\n      <td>1=Bever,2=Wolf,3=Bizon,4=Otter,5=Panter,6=Poem...</td>\n      <td>Management 1</td>\n      <td>Computersystemen 1</td>\n      <td>&lt;= 10 uren</td>\n    </tr>\n    <tr>\n      <th>2</th>\n      <td>12/18</td>\n      <td>Rechts</td>\n      <td>45.0</td>\n      <td>183</td>\n      <td>AB</td>\n      <td>positief</td>\n      <td>2</td>\n      <td>Prinses Diana kwam niet per ongeluk om het lev...</td>\n      <td>Categorie AM: Bromfietsen met een maximumsnelh...</td>\n      <td>in een stad</td>\n      <td>...</td>\n      <td>6</td>\n      <td>3</td>\n      <td>7</td>\n      <td>7</td>\n      <td>10</td>\n      <td>6.0</td>\n      <td>1=Bruine beer,2=Poema,3=Panter,4=Wolf,5=Vos,6=...</td>\n      <td>Management 1</td>\n      <td>Programmeren 1 - Java</td>\n      <td>16-20 uren</td>\n    </tr>\n    <tr>\n      <th>3</th>\n      <td>5/18</td>\n      <td>Rechts</td>\n      <td>44.0</td>\n      <td>175</td>\n      <td>A</td>\n      <td>positief</td>\n      <td>2</td>\n      <td>De wereld wordt eigenlijk gecontroleerd door e...</td>\n      <td>Categorie AM: Bromfietsen met een maximumsnelh...</td>\n      <td>in een stad</td>\n      <td>...</td>\n      <td>9</td>\n      <td>10</td>\n      <td>10</td>\n      <td>10</td>\n      <td>10</td>\n      <td>0.0</td>\n      <td>1=Wasbeer,2=Wolf,3=Bruine beer,4=Das,5=Vos,6=B...</td>\n      <td>Management 1</td>\n      <td>Data science 1</td>\n      <td>&lt;= 10 uren</td>\n    </tr>\n    <tr>\n      <th>4</th>\n      <td>6/18</td>\n      <td>Rechts</td>\n      <td>43.0</td>\n      <td>173</td>\n      <td>B</td>\n      <td>positief</td>\n      <td>3</td>\n      <td>De wereld wordt eigenlijk gecontroleerd door e...</td>\n      <td>Categorie B: Wagens.</td>\n      <td>in een stad</td>\n      <td>...</td>\n      <td>10</td>\n      <td>6</td>\n      <td>10</td>\n      <td>7</td>\n      <td>7</td>\n      <td>2.0</td>\n      <td>1=Wolf,2=Vos,3=Bruine beer,4=Bizon,5=Panter,6=...</td>\n      <td>Management 1</td>\n      <td>Data science 1</td>\n      <td>&lt;= 10 uren</td>\n    </tr>\n  </tbody>\n</table>\n<p>5 rows × 33 columns</p>\n</div>"
     },
     "metadata": {},
     "output_type": "display_data"
    }
   ],
   "source": [
    "data1 = pd.read_csv('../Data/Data1.csv', delimiter=';', decimal=',')\n",
    "display(data1.head())"
   ],
   "metadata": {
    "collapsed": false,
    "ExecuteTime": {
     "end_time": "2024-04-17T13:53:41.586168Z",
     "start_time": "2024-04-17T13:53:41.542320Z"
    }
   },
   "id": "fca4ade8e07f1fee",
   "execution_count": 3
  },
  {
   "cell_type": "code",
   "outputs": [
    {
     "name": "stdout",
     "output_type": "stream",
     "text": [
      "['Rechts']\n",
      "[[0.09459903 0.90540097]]\n"
     ]
    }
   ],
   "source": [
    "# 1\n",
    "X = data1[['lengte', 'stukken fruit', 'schoenmaat', 'afstand tot KdG']]\n",
    "y = data1['schrijfhand']\n",
    "lda = LinearDiscriminantAnalysis()\n",
    "lda.fit(X, y)\n",
    "\n",
    "testdata = pd.DataFrame(data={'lengte': [182], 'stukken fruit': [2], 'schoenmaat': [44], 'afstand tot KdG': [22]})\n",
    "print(lda.predict(testdata))\n",
    "print(lda.predict_proba(testdata))"
   ],
   "metadata": {
    "collapsed": false,
    "ExecuteTime": {
     "end_time": "2024-04-17T13:53:41.617622Z",
     "start_time": "2024-04-17T13:53:41.588309Z"
    }
   },
   "id": "e6852ab5e5722e78",
   "execution_count": 4
  },
  {
   "cell_type": "code",
   "outputs": [
    {
     "name": "stdout",
     "output_type": "stream",
     "text": [
      "predicted  Links  Rechts  total\n",
      "actual                         \n",
      "Links          1      13     14\n",
      "Rechts         1      74     75\n",
      "total          2      87     89\n"
     ]
    }
   ],
   "source": [
    "# 2\n",
    "predicted = pd.Series(lda.predict(X), name='predicted')\n",
    "actual = y.rename('actual')\n",
    "confusion_matrix = pd.crosstab(index=actual, columns=predicted, margins='all', margins_name='total')\n",
    "print(confusion_matrix)"
   ],
   "metadata": {
    "collapsed": false,
    "ExecuteTime": {
     "end_time": "2024-04-17T13:53:41.679694Z",
     "start_time": "2024-04-17T13:53:41.622201Z"
    }
   },
   "id": "f7c08fe989140647",
   "execution_count": 5
  },
  {
   "cell_type": "code",
   "outputs": [],
   "source": [],
   "metadata": {
    "collapsed": false,
    "ExecuteTime": {
     "end_time": "2024-04-17T13:53:41.695778Z",
     "start_time": "2024-04-17T13:53:41.681990Z"
    }
   },
   "id": "999844140262f81e",
   "execution_count": 5
  },
  {
   "cell_type": "code",
   "outputs": [],
   "source": [],
   "metadata": {
    "collapsed": false,
    "ExecuteTime": {
     "end_time": "2024-04-17T13:53:41.711814Z",
     "start_time": "2024-04-17T13:53:41.698562Z"
    }
   },
   "id": "288bc0da0f301074",
   "execution_count": 5
  },
  {
   "cell_type": "code",
   "outputs": [],
   "source": [],
   "metadata": {
    "collapsed": false,
    "ExecuteTime": {
     "end_time": "2024-04-17T13:53:41.726706Z",
     "start_time": "2024-04-17T13:53:41.714044Z"
    }
   },
   "id": "db318279ac26e208",
   "execution_count": 5
  },
  {
   "cell_type": "markdown",
   "source": [
    "### Question 2:\n",
    "- Zoek in de Canvas-cursus de dataset `Bordeaux` en plaats die in een dataframe.\n",
    "    - Pas een discriminantanalyse toe op deze data set waarbij quality als afhankelijke variabele optreedt en `temperature`, `sun`, `heat` en `rain` als de onafhankelijke variabelen.\n",
    "    - Hoeveel dimensies heeft de discriminantanalyse?\n",
    "    - Maak een plot van de resultaten van de discriminantanalyse. Wat wordt er hier gevisualiseerd?\n",
    "    - Pas het predict commando even toe op de oorspronkelijke gegevens. Hoeveel percent van de wijnen krijgen dezelfde label opgeplakt via de discriminantanalyse als geobserveerd?"
   ],
   "metadata": {
    "collapsed": false
   },
   "id": "8dcce8d70aac0bac"
  },
  {
   "cell_type": "code",
   "outputs": [
    {
     "data": {
      "text/plain": "   year  temperature   sun  heat  rain quality\n0  1924         3064  1201    10   361  medium\n1  1925         3000  1053    11   338     bad\n2  1926         3155  1133    19   393  medium\n3  1927         3085   970     4   467     bad\n4  1928         3245  1258    36   294    good",
      "text/html": "<div>\n<style scoped>\n    .dataframe tbody tr th:only-of-type {\n        vertical-align: middle;\n    }\n\n    .dataframe tbody tr th {\n        vertical-align: top;\n    }\n\n    .dataframe thead th {\n        text-align: right;\n    }\n</style>\n<table border=\"1\" class=\"dataframe\">\n  <thead>\n    <tr style=\"text-align: right;\">\n      <th></th>\n      <th>year</th>\n      <th>temperature</th>\n      <th>sun</th>\n      <th>heat</th>\n      <th>rain</th>\n      <th>quality</th>\n    </tr>\n  </thead>\n  <tbody>\n    <tr>\n      <th>0</th>\n      <td>1924</td>\n      <td>3064</td>\n      <td>1201</td>\n      <td>10</td>\n      <td>361</td>\n      <td>medium</td>\n    </tr>\n    <tr>\n      <th>1</th>\n      <td>1925</td>\n      <td>3000</td>\n      <td>1053</td>\n      <td>11</td>\n      <td>338</td>\n      <td>bad</td>\n    </tr>\n    <tr>\n      <th>2</th>\n      <td>1926</td>\n      <td>3155</td>\n      <td>1133</td>\n      <td>19</td>\n      <td>393</td>\n      <td>medium</td>\n    </tr>\n    <tr>\n      <th>3</th>\n      <td>1927</td>\n      <td>3085</td>\n      <td>970</td>\n      <td>4</td>\n      <td>467</td>\n      <td>bad</td>\n    </tr>\n    <tr>\n      <th>4</th>\n      <td>1928</td>\n      <td>3245</td>\n      <td>1258</td>\n      <td>36</td>\n      <td>294</td>\n      <td>good</td>\n    </tr>\n  </tbody>\n</table>\n</div>"
     },
     "metadata": {},
     "output_type": "display_data"
    }
   ],
   "source": [
    "bordeaux = pd.read_csv('../Data/Bordeaux.csv', delimiter=';', decimal=',')\n",
    "display(bordeaux.head())"
   ],
   "metadata": {
    "collapsed": false,
    "ExecuteTime": {
     "end_time": "2024-04-17T13:53:41.758706Z",
     "start_time": "2024-04-17T13:53:41.728764Z"
    }
   },
   "id": "d45ccf151811f954",
   "execution_count": 6
  },
  {
   "cell_type": "code",
   "outputs": [
    {
     "name": "stdout",
     "output_type": "stream",
     "text": [
      "LinearDiscriminantAnalysis()\n"
     ]
    }
   ],
   "source": [
    "# 1\n",
    "X = bordeaux[['temperature', 'sun', 'heat', 'rain']]\n",
    "y = bordeaux['quality']\n",
    "lda = LinearDiscriminantAnalysis()\n",
    "print(lda.fit(X, y))"
   ],
   "metadata": {
    "collapsed": false,
    "ExecuteTime": {
     "end_time": "2024-04-17T13:53:41.774224Z",
     "start_time": "2024-04-17T13:53:41.761178Z"
    }
   },
   "id": "afe706b98c4e9e1c",
   "execution_count": 7
  },
  {
   "cell_type": "code",
   "outputs": [
    {
     "name": "stdout",
     "output_type": "stream",
     "text": [
      "['medium' 'bad' 'good']\n",
      "3\n"
     ]
    }
   ],
   "source": [
    "# 2\n",
    "print(y.unique())\n",
    "print(len(y.unique()))"
   ],
   "metadata": {
    "collapsed": false,
    "ExecuteTime": {
     "end_time": "2024-04-17T13:53:41.790245Z",
     "start_time": "2024-04-17T13:53:41.777836Z"
    }
   },
   "id": "64dfa88c8978c760",
   "execution_count": 8
  },
  {
   "cell_type": "code",
   "outputs": [
    {
     "data": {
      "text/plain": "<Figure size 1200x600 with 2 Axes>",
      "image/png": "[encoded data removed]"
     },
     "metadata": {},
     "output_type": "display_data"
    }
   ],
   "source": [
    "# 3\n",
    "quality_mapping = {'bad': 0, 'medium': 1, 'good': 2}\n",
    "bordeaux['quality_code'] = bordeaux['quality'].map(quality_mapping)\n",
    "y2 = bordeaux['quality_code']\n",
    "\n",
    "lda = LinearDiscriminantAnalysis()\n",
    "lda.fit(X, y2)\n",
    "\n",
    "plt.figure(figsize=(12, 6))\n",
    "\n",
    "plt.scatter(X['temperature'], X['sun'], X['heat'], c=lda.predict(X), cmap='viridis')\n",
    "plt.colorbar(label='Quality')\n",
    "plt.xlabel('Temperature')\n",
    "plt.ylabel('Sun')\n",
    "plt.title('Discriminant Analysis Results')\n",
    "\n",
    "plt.grid(True)\n",
    "plt.show()"
   ],
   "metadata": {
    "collapsed": false,
    "ExecuteTime": {
     "end_time": "2024-04-17T13:53:42.088384Z",
     "start_time": "2024-04-17T13:53:41.792724Z"
    }
   },
   "id": "d750076c00fb96e",
   "execution_count": 9
  },
  {
   "cell_type": "code",
   "outputs": [
    {
     "name": "stdout",
     "output_type": "stream",
     "text": [
      "Percentage of wines with the same label: 0.00%\n"
     ]
    }
   ],
   "source": [
    "# 4\n",
    "predicted = lda.predict(X)\n",
    "print(f\"Percentage of wines with the same label: {np.mean(predicted == y) * 100:.2f}%\")"
   ],
   "metadata": {
    "collapsed": false,
    "ExecuteTime": {
     "end_time": "2024-04-17T13:53:42.103553Z",
     "start_time": "2024-04-17T13:53:42.090461Z"
    }
   },
   "id": "75ae57120d7676d6",
   "execution_count": 10
  },
  {
   "cell_type": "markdown",
   "source": [
    "### Question 3:\n",
    "- Zoek in de Canvas-cursus de dataset `Birthwt` en plaats die in een dataframe.\n",
    "    - Analyseer het type van gegevens in deze dataset.\n",
    "    - Welke kolommen kunnen er als afhankelijke variabele voor een discriminant analyse worden gebruikt?\n",
    "    - Welke kolommen kunnen er als onafhankelijke variabelen voor een discriminant analyse worden gebruikt?\n",
    "    - Pas een discriminantanalyse toe op deze data set (maakt gebruik van je keuzes hierboven).\n",
    "    - Hoeveel dimensies heeft de discriminantanalyse?\n",
    "    - Maak een plot van de resultaten van de discriminantanalyse.\n",
    "\n"
   ],
   "metadata": {
    "collapsed": false
   },
   "id": "3d07b7bd896afd9c"
  },
  {
   "cell_type": "code",
   "outputs": [
    {
     "data": {
      "text/plain": "   low  age  lwt  race  smoke  ptl  ht  ui  ftv   bwt\n0    0   19  182     2      0    0   0   1    0  2523\n1    0   33  155     3      0    0   0   0    3  2551\n2    0   20  105     1      1    0   0   0    1  2557\n3    0   21  108     1      1    0   0   1    2  2594\n4    0   18  107     1      1    0   0   1    0  2600",
      "text/html": "<div>\n<style scoped>\n    .dataframe tbody tr th:only-of-type {\n        vertical-align: middle;\n    }\n\n    .dataframe tbody tr th {\n        vertical-align: top;\n    }\n\n    .dataframe thead th {\n        text-align: right;\n    }\n</style>\n<table border=\"1\" class=\"dataframe\">\n  <thead>\n    <tr style=\"text-align: right;\">\n      <th></th>\n      <th>low</th>\n      <th>age</th>\n      <th>lwt</th>\n      <th>race</th>\n      <th>smoke</th>\n      <th>ptl</th>\n      <th>ht</th>\n      <th>ui</th>\n      <th>ftv</th>\n      <th>bwt</th>\n    </tr>\n  </thead>\n  <tbody>\n    <tr>\n      <th>0</th>\n      <td>0</td>\n      <td>19</td>\n      <td>182</td>\n      <td>2</td>\n      <td>0</td>\n      <td>0</td>\n      <td>0</td>\n      <td>1</td>\n      <td>0</td>\n      <td>2523</td>\n    </tr>\n    <tr>\n      <th>1</th>\n      <td>0</td>\n      <td>33</td>\n      <td>155</td>\n      <td>3</td>\n      <td>0</td>\n      <td>0</td>\n      <td>0</td>\n      <td>0</td>\n      <td>3</td>\n      <td>2551</td>\n    </tr>\n    <tr>\n      <th>2</th>\n      <td>0</td>\n      <td>20</td>\n      <td>105</td>\n      <td>1</td>\n      <td>1</td>\n      <td>0</td>\n      <td>0</td>\n      <td>0</td>\n      <td>1</td>\n      <td>2557</td>\n    </tr>\n    <tr>\n      <th>3</th>\n      <td>0</td>\n      <td>21</td>\n      <td>108</td>\n      <td>1</td>\n      <td>1</td>\n      <td>0</td>\n      <td>0</td>\n      <td>1</td>\n      <td>2</td>\n      <td>2594</td>\n    </tr>\n    <tr>\n      <th>4</th>\n      <td>0</td>\n      <td>18</td>\n      <td>107</td>\n      <td>1</td>\n      <td>1</td>\n      <td>0</td>\n      <td>0</td>\n      <td>1</td>\n      <td>0</td>\n      <td>2600</td>\n    </tr>\n  </tbody>\n</table>\n</div>"
     },
     "metadata": {},
     "output_type": "display_data"
    }
   ],
   "source": [
    "birthwt = pd.read_csv('../Data/Birthwt.csv', delimiter=';', decimal=',')\n",
    "display(birthwt.head())"
   ],
   "metadata": {
    "collapsed": false,
    "ExecuteTime": {
     "end_time": "2024-04-17T13:53:42.138206Z",
     "start_time": "2024-04-17T13:53:42.105728Z"
    }
   },
   "id": "c6a18b90edf1f951",
   "execution_count": 11
  },
  {
   "cell_type": "code",
   "outputs": [
    {
     "name": "stdout",
     "output_type": "stream",
     "text": [
      "low      int64\n",
      "age      int64\n",
      "lwt      int64\n",
      "race     int64\n",
      "smoke    int64\n",
      "ptl      int64\n",
      "ht       int64\n",
      "ui       int64\n",
      "ftv      int64\n",
      "bwt      int64\n",
      "dtype: object\n"
     ]
    }
   ],
   "source": [
    "# 1\n",
    "print(birthwt.dtypes)"
   ],
   "metadata": {
    "collapsed": false,
    "ExecuteTime": {
     "end_time": "2024-04-17T13:53:42.153525Z",
     "start_time": "2024-04-17T13:53:42.140523Z"
    }
   },
   "id": "a3aa3d2a61b4d424",
   "execution_count": 12
  },
  {
   "cell_type": "code",
   "outputs": [],
   "source": [
    "# 2"
   ],
   "metadata": {
    "collapsed": false,
    "ExecuteTime": {
     "end_time": "2024-04-17T14:01:13.442173Z",
     "start_time": "2024-04-17T14:01:13.427645Z"
    }
   },
   "id": "82a1ff92b3680ff9",
   "execution_count": 19
  },
  {
   "cell_type": "code",
   "outputs": [],
   "source": [
    "# 3"
   ],
   "metadata": {
    "collapsed": false,
    "ExecuteTime": {
     "end_time": "2024-04-17T14:01:15.129113Z",
     "start_time": "2024-04-17T14:01:15.122737Z"
    }
   },
   "id": "a2726114f2fde23c",
   "execution_count": 20
  },
  {
   "cell_type": "code",
   "outputs": [],
   "source": [
    "# 4"
   ],
   "metadata": {
    "collapsed": false,
    "ExecuteTime": {
     "end_time": "2024-04-17T14:01:18.507606Z",
     "start_time": "2024-04-17T14:01:18.489514Z"
    }
   },
   "id": "24203e0b93f70bc4",
   "execution_count": 21
  },
  {
   "cell_type": "code",
   "outputs": [],
   "source": [
    "# 5"
   ],
   "metadata": {
    "collapsed": false,
    "ExecuteTime": {
     "end_time": "2024-04-17T13:53:42.215552Z",
     "start_time": "2024-04-17T13:53:42.202501Z"
    }
   },
   "id": "6aca760e0c6344c4",
   "execution_count": 12
  },
  {
   "cell_type": "code",
   "outputs": [],
   "source": [
    "# 6"
   ],
   "metadata": {
    "collapsed": false,
    "ExecuteTime": {
     "end_time": "2024-04-17T13:53:42.231034Z",
     "start_time": "2024-04-17T13:53:42.217621Z"
    }
   },
   "id": "5e51aa632608d7f6",
   "execution_count": 12
  },
  {
   "cell_type": "markdown",
   "source": [
    "### Question 4:\n",
    "- Zoek op Canvas de dataset `Cars93` en plaats die in een dataframe.\n",
    "    - Analyseer de type van gegevens in deze dataset.\n",
    "    - Splits de data set in twee: de eerste `90` rijen als ‘leer data set’ waarom je een discriminant analyse gaat toepassen (zie 5) en de laatste 3 rijen om na te gaan of de bekomen discriminant analyse deze auto’s in de juiste klasse plaatst (zie 7).\n",
    "    - Welke kolommen kunnen er als afhankelijke variabele voor een discriminant analyse worden gebruikt?\n",
    "    - Welke kolommen kunnen er als onafhankelijke variabelen voor een discriminant analyse worden gebruikt?\n",
    "    - Pas een discriminantanalyse toe op deze data set. Neem als afhankelijke variabele de kolom Type en als onafhankelijke variabelen alle bruikbare kolommen (zie 4).\n",
    "    - Hoeveel dimensies heeft de discriminantanalyse?\n",
    "    - Pas de bekomen discriminantanalyse met behulp van predict-commando toe op de laatste 3 rijen van de oorspronkelijke gegevens (zie 2). Worden alle 3 de wagens in de juiste klasse geplaatst?"
   ],
   "metadata": {
    "collapsed": false
   },
   "id": "921495f352a4d7dd"
  },
  {
   "cell_type": "code",
   "outputs": [
    {
     "data": {
      "text/plain": "  Manufacturer    Model     Type  Min.Price  Price  Max.Price  MPG.city  \\\n0        Acura  Integra    Small       12.9   15.9       18.8        25   \n1        Acura   Legend  Midsize       29.2   33.9       38.7        18   \n2         Audi       90  Compact       25.9   29.1       32.3        20   \n3         Audi      100  Midsize       30.8   37.7       44.6        19   \n4          BMW     535i  Midsize       23.7   30.0       36.2        22   \n\n   MPG.highway             AirBags DriveTrain  ... Passengers  Length  \\\n0           31                 NaN      Front  ...          5     177   \n1           25  Driver & Passenger      Front  ...          5     195   \n2           26         Driver only      Front  ...          5     180   \n3           26  Driver & Passenger      Front  ...          6     193   \n4           30         Driver only       Rear  ...          4     186   \n\n   Wheelbase  Width  Turn.circle Rear.seat.room  Luggage.room  Weight  \\\n0        102     68           37           26.5          11.0    2705   \n1        115     71           38           30.0          15.0    3560   \n2        102     67           37           28.0          14.0    3375   \n3        106     70           37           31.0          17.0    3405   \n4        109     69           39           27.0          13.0    3640   \n\n    Origin           Make  \n0  non-USA  Acura Integra  \n1  non-USA   Acura Legend  \n2  non-USA        Audi 90  \n3  non-USA       Audi 100  \n4  non-USA       BMW 535i  \n\n[5 rows x 27 columns]",
      "text/html": "<div>\n<style scoped>\n    .dataframe tbody tr th:only-of-type {\n        vertical-align: middle;\n    }\n\n    .dataframe tbody tr th {\n        vertical-align: top;\n    }\n\n    .dataframe thead th {\n        text-align: right;\n    }\n</style>\n<table border=\"1\" class=\"dataframe\">\n  <thead>\n    <tr style=\"text-align: right;\">\n      <th></th>\n      <th>Manufacturer</th>\n      <th>Model</th>\n      <th>Type</th>\n      <th>Min.Price</th>\n      <th>Price</th>\n      <th>Max.Price</th>\n      <th>MPG.city</th>\n      <th>MPG.highway</th>\n      <th>AirBags</th>\n      <th>DriveTrain</th>\n      <th>...</th>\n      <th>Passengers</th>\n      <th>Length</th>\n      <th>Wheelbase</th>\n      <th>Width</th>\n      <th>Turn.circle</th>\n      <th>Rear.seat.room</th>\n      <th>Luggage.room</th>\n      <th>Weight</th>\n      <th>Origin</th>\n      <th>Make</th>\n    </tr>\n  </thead>\n  <tbody>\n    <tr>\n      <th>0</th>\n      <td>Acura</td>\n      <td>Integra</td>\n      <td>Small</td>\n      <td>12.9</td>\n      <td>15.9</td>\n      <td>18.8</td>\n      <td>25</td>\n      <td>31</td>\n      <td>NaN</td>\n      <td>Front</td>\n      <td>...</td>\n      <td>5</td>\n      <td>177</td>\n      <td>102</td>\n      <td>68</td>\n      <td>37</td>\n      <td>26.5</td>\n      <td>11.0</td>\n      <td>2705</td>\n      <td>non-USA</td>\n      <td>Acura Integra</td>\n    </tr>\n    <tr>\n      <th>1</th>\n      <td>Acura</td>\n      <td>Legend</td>\n      <td>Midsize</td>\n      <td>29.2</td>\n      <td>33.9</td>\n      <td>38.7</td>\n      <td>18</td>\n      <td>25</td>\n      <td>Driver &amp; Passenger</td>\n      <td>Front</td>\n      <td>...</td>\n      <td>5</td>\n      <td>195</td>\n      <td>115</td>\n      <td>71</td>\n      <td>38</td>\n      <td>30.0</td>\n      <td>15.0</td>\n      <td>3560</td>\n      <td>non-USA</td>\n      <td>Acura Legend</td>\n    </tr>\n    <tr>\n      <th>2</th>\n      <td>Audi</td>\n      <td>90</td>\n      <td>Compact</td>\n      <td>25.9</td>\n      <td>29.1</td>\n      <td>32.3</td>\n      <td>20</td>\n      <td>26</td>\n      <td>Driver only</td>\n      <td>Front</td>\n      <td>...</td>\n      <td>5</td>\n      <td>180</td>\n      <td>102</td>\n      <td>67</td>\n      <td>37</td>\n      <td>28.0</td>\n      <td>14.0</td>\n      <td>3375</td>\n      <td>non-USA</td>\n      <td>Audi 90</td>\n    </tr>\n    <tr>\n      <th>3</th>\n      <td>Audi</td>\n      <td>100</td>\n      <td>Midsize</td>\n      <td>30.8</td>\n      <td>37.7</td>\n      <td>44.6</td>\n      <td>19</td>\n      <td>26</td>\n      <td>Driver &amp; Passenger</td>\n      <td>Front</td>\n      <td>...</td>\n      <td>6</td>\n      <td>193</td>\n      <td>106</td>\n      <td>70</td>\n      <td>37</td>\n      <td>31.0</td>\n      <td>17.0</td>\n      <td>3405</td>\n      <td>non-USA</td>\n      <td>Audi 100</td>\n    </tr>\n    <tr>\n      <th>4</th>\n      <td>BMW</td>\n      <td>535i</td>\n      <td>Midsize</td>\n      <td>23.7</td>\n      <td>30.0</td>\n      <td>36.2</td>\n      <td>22</td>\n      <td>30</td>\n      <td>Driver only</td>\n      <td>Rear</td>\n      <td>...</td>\n      <td>4</td>\n      <td>186</td>\n      <td>109</td>\n      <td>69</td>\n      <td>39</td>\n      <td>27.0</td>\n      <td>13.0</td>\n      <td>3640</td>\n      <td>non-USA</td>\n      <td>BMW 535i</td>\n    </tr>\n  </tbody>\n</table>\n<p>5 rows × 27 columns</p>\n</div>"
     },
     "metadata": {},
     "output_type": "display_data"
    }
   ],
   "source": [
    "cars93 = pd.read_csv('../Data/Cars93.csv', delimiter=';', decimal='.')\n",
    "display(cars93.head())"
   ],
   "metadata": {
    "collapsed": false,
    "ExecuteTime": {
     "end_time": "2024-04-17T13:53:42.261683Z",
     "start_time": "2024-04-17T13:53:42.233153Z"
    }
   },
   "id": "7bb235ae95ef43d9",
   "execution_count": 13
  },
  {
   "cell_type": "code",
   "outputs": [],
   "source": [
    "# 1"
   ],
   "metadata": {
    "collapsed": false,
    "ExecuteTime": {
     "end_time": "2024-04-17T13:53:42.277016Z",
     "start_time": "2024-04-17T13:53:42.262684Z"
    }
   },
   "id": "9f79e40886cba937",
   "execution_count": 14
  },
  {
   "cell_type": "code",
   "outputs": [],
   "source": [],
   "metadata": {
    "collapsed": false,
    "ExecuteTime": {
     "end_time": "2024-04-17T13:53:42.292751Z",
     "start_time": "2024-04-17T13:53:42.278032Z"
    }
   },
   "id": "37f8e4f29cb6aa30",
   "execution_count": 14
  },
  {
   "cell_type": "code",
   "outputs": [],
   "source": [],
   "metadata": {
    "collapsed": false,
    "ExecuteTime": {
     "end_time": "2024-04-17T13:53:42.307557Z",
     "start_time": "2024-04-17T13:53:42.294933Z"
    }
   },
   "id": "6c1ba50dda0a3af1",
   "execution_count": 14
  },
  {
   "cell_type": "code",
   "outputs": [],
   "source": [],
   "metadata": {
    "collapsed": false,
    "ExecuteTime": {
     "end_time": "2024-04-17T13:53:42.323411Z",
     "start_time": "2024-04-17T13:53:42.308783Z"
    }
   },
   "id": "bba6a9abc86781d8",
   "execution_count": 14
  },
  {
   "cell_type": "code",
   "outputs": [],
   "source": [],
   "metadata": {
    "collapsed": false,
    "ExecuteTime": {
     "end_time": "2024-04-17T13:53:42.338562Z",
     "start_time": "2024-04-17T13:53:42.325508Z"
    }
   },
   "id": "a644a29abf325897",
   "execution_count": 14
  },
  {
   "cell_type": "code",
   "outputs": [],
   "source": [],
   "metadata": {
    "collapsed": false,
    "ExecuteTime": {
     "end_time": "2024-04-17T13:53:42.353772Z",
     "start_time": "2024-04-17T13:53:42.340651Z"
    }
   },
   "id": "dda90ec2476b7843",
   "execution_count": 14
  },
  {
   "cell_type": "code",
   "outputs": [],
   "source": [],
   "metadata": {
    "collapsed": false,
    "ExecuteTime": {
     "end_time": "2024-04-17T13:53:42.369685Z",
     "start_time": "2024-04-17T13:53:42.355946Z"
    }
   },
   "id": "91920bf20083163c",
   "execution_count": 14
  }
 ],
 "metadata": {
  "kernelspec": {
   "display_name": "Python 3",
   "language": "python",
   "name": "python3"
  },
  "language_info": {
   "codemirror_mode": {
    "name": "ipython",
    "version": 2
   },
   "file_extension": ".py",
   "mimetype": "text/x-python",
   "name": "python",
   "nbconvert_exporter": "python",
   "pygments_lexer": "ipython2",
   "version": "2.7.6"
  }
 },
 "nbformat": 4,
 "nbformat_minor": 5
}

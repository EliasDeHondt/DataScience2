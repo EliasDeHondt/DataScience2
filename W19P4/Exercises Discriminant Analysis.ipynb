{
 "cells": [
  {
   "cell_type": "markdown",
   "source": [
    "# Exercises Discriminant Analysis"
   ],
   "metadata": {
    "collapsed": false
   },
   "id": "fc11ae5046d6cd48"
  },
  {
   "cell_type": "code",
   "source": [
    "import pandas as pd                                                     # Data manipulation\n",
    "import numpy as np                                                      # Scientific computing\n",
    "import matplotlib.pyplot as plt                                         # Data visualization\n",
    "from sklearn.discriminant_analysis import LinearDiscriminantAnalysis    # Discriminant Analysis\n",
    "\n",
    "from Resources.Functions import *                                       # Custom functions"
   ],
   "metadata": {
    "collapsed": false,
    "ExecuteTime": {
     "end_time": "2024-04-28T11:25:19.802068Z",
     "start_time": "2024-04-28T11:25:19.790508Z"
    }
   },
   "id": "1796a7e3a7232f25",
   "outputs": [],
   "execution_count": 28
  },
  {
   "cell_type": "markdown",
   "source": [
    "## Theoretical questions"
   ],
   "metadata": {
    "collapsed": false
   },
   "id": "d66cd879508e8eb4"
  },
  {
   "cell_type": "markdown",
   "source": [
    "### Question 1:\n",
    "- Can you predict the writing hand of the next student based on the specified height (`182`), pieces of fruit (`2`), shoe size (`44`), distance to KdG (`22`)? Only use students who have specified Left or Right as their writing hand.\n",
    "- Draw up a confusion matrix based on the predicted and effective values for the data you used to perform the discriminant analysis (see 1).\n",
    "- Calculate the usual evaluation metrics for a binary classifier.\n",
    "- Draw the ROC curve. If applicable, explain why the ROC curve is not drawn.\n",
    "- What is the accuracy of the discriminant analysis where height and shoe size predict the number of brothers and sisters?\n",
    "\n",
    "**Name of Columns**: `gapminder` `schrijfhand` `schoenmaat` `lengte` `bloedgroep` `resus` `siblings` `Samenzweringen` `rijbewijs` `domicilie in Antwerpen` `afstudeerrichting` `vrijetijdsbesteding` `uren wiskunde` `informatica` `belangrijk` `uren buiten schooluren` `afstand tot KdG` `vervoersmiddel` `klimaatopwarming` `zakgeld` `stukken fruit` `fruitvoorkeur` `besturingssysteem` `belangrijkste app` `M1 - stelen` `M2 - team` `M3 - beschermen` `M4 - voorbeeld` `M5 - embryo` `M6 - vrijheid` `mascotte` `zwaarste vak` `boeienste vak` `studiepunt`"
   ],
   "metadata": {
    "collapsed": false
   },
   "id": "8302daa62617938d"
  },
  {
   "cell_type": "code",
   "source": [
    "data1 = pd.read_csv('../Data/Data1.csv', delimiter=';', decimal=',')\n",
    "display(data1.head())"
   ],
   "metadata": {
    "collapsed": false,
    "ExecuteTime": {
     "end_time": "2024-04-28T11:25:18.941389Z",
     "start_time": "2024-04-28T11:25:18.911550Z"
    }
   },
   "id": "fca4ade8e07f1fee",
   "outputs": [
    {
     "data": {
      "text/plain": [
       "  gapminder schrijfhand  schoenmaat  lengte    bloedgroep         resus  \\\n",
       "0      7/18      Rechts        43.0     184             O      positief   \n",
       "1      3/18      Rechts        42.0     163  Weet ik niet  Weet ik niet   \n",
       "2     12/18      Rechts        45.0     183            AB      positief   \n",
       "3      5/18      Rechts        44.0     175             A      positief   \n",
       "4      6/18      Rechts        43.0     173             B      positief   \n",
       "\n",
       "   siblings                                     Samenzweringen  \\\n",
       "0         5  De tsunami van 2004 in de Indische Oceaan was ...   \n",
       "1         1   Prinses Diana kwam niet per ongeluk om het leven   \n",
       "2         2  Prinses Diana kwam niet per ongeluk om het lev...   \n",
       "3         2  De wereld wordt eigenlijk gecontroleerd door e...   \n",
       "4         3  De wereld wordt eigenlijk gecontroleerd door e...   \n",
       "\n",
       "                                           rijbewijs  \\\n",
       "0                               Categorie B: Wagens.   \n",
       "1  Categorie AM: Bromfietsen met een maximumsnelh...   \n",
       "2  Categorie AM: Bromfietsen met een maximumsnelh...   \n",
       "3  Categorie AM: Bromfietsen met een maximumsnelh...   \n",
       "4                               Categorie B: Wagens.   \n",
       "\n",
       "                              domicilie in Antwerpen  ... M1 - stelen  \\\n",
       "0  buiten de stad (een dorp, een gehucht, het pla...  ...           7   \n",
       "1                                        in een stad  ...          10   \n",
       "2                                        in een stad  ...           6   \n",
       "3                                        in een stad  ...           9   \n",
       "4                                        in een stad  ...          10   \n",
       "\n",
       "  M2 - team M3 - beschermen M4 - voorbeeld M5 - embryo  M6 - vrijheid  \\\n",
       "0         2               8              6           5            4.0   \n",
       "1         5              10              6           7            3.0   \n",
       "2         3               7              7          10            6.0   \n",
       "3        10              10             10          10            0.0   \n",
       "4         6              10              7           7            2.0   \n",
       "\n",
       "                                            mascotte  zwaarste vak  \\\n",
       "0  1=Bever,2=Wasbeer,3=Otter,4=Wolf,5=Poema,6=Pan...  Management 1   \n",
       "1  1=Bever,2=Wolf,3=Bizon,4=Otter,5=Panter,6=Poem...  Management 1   \n",
       "2  1=Bruine beer,2=Poema,3=Panter,4=Wolf,5=Vos,6=...  Management 1   \n",
       "3  1=Wasbeer,2=Wolf,3=Bruine beer,4=Das,5=Vos,6=B...  Management 1   \n",
       "4  1=Wolf,2=Vos,3=Bruine beer,4=Bizon,5=Panter,6=...  Management 1   \n",
       "\n",
       "           boeienste vak  studiepunt  \n",
       "0         Data science 1  16-20 uren  \n",
       "1     Computersystemen 1  <= 10 uren  \n",
       "2  Programmeren 1 - Java  16-20 uren  \n",
       "3         Data science 1  <= 10 uren  \n",
       "4         Data science 1  <= 10 uren  \n",
       "\n",
       "[5 rows x 33 columns]"
      ],
      "text/html": [
       "<div>\n",
       "<style scoped>\n",
       "    .dataframe tbody tr th:only-of-type {\n",
       "        vertical-align: middle;\n",
       "    }\n",
       "\n",
       "    .dataframe tbody tr th {\n",
       "        vertical-align: top;\n",
       "    }\n",
       "\n",
       "    .dataframe thead th {\n",
       "        text-align: right;\n",
       "    }\n",
       "</style>\n",
       "<table border=\"1\" class=\"dataframe\">\n",
       "  <thead>\n",
       "    <tr style=\"text-align: right;\">\n",
       "      <th></th>\n",
       "      <th>gapminder</th>\n",
       "      <th>schrijfhand</th>\n",
       "      <th>schoenmaat</th>\n",
       "      <th>lengte</th>\n",
       "      <th>bloedgroep</th>\n",
       "      <th>resus</th>\n",
       "      <th>siblings</th>\n",
       "      <th>Samenzweringen</th>\n",
       "      <th>rijbewijs</th>\n",
       "      <th>domicilie in Antwerpen</th>\n",
       "      <th>...</th>\n",
       "      <th>M1 - stelen</th>\n",
       "      <th>M2 - team</th>\n",
       "      <th>M3 - beschermen</th>\n",
       "      <th>M4 - voorbeeld</th>\n",
       "      <th>M5 - embryo</th>\n",
       "      <th>M6 - vrijheid</th>\n",
       "      <th>mascotte</th>\n",
       "      <th>zwaarste vak</th>\n",
       "      <th>boeienste vak</th>\n",
       "      <th>studiepunt</th>\n",
       "    </tr>\n",
       "  </thead>\n",
       "  <tbody>\n",
       "    <tr>\n",
       "      <th>0</th>\n",
       "      <td>7/18</td>\n",
       "      <td>Rechts</td>\n",
       "      <td>43.0</td>\n",
       "      <td>184</td>\n",
       "      <td>O</td>\n",
       "      <td>positief</td>\n",
       "      <td>5</td>\n",
       "      <td>De tsunami van 2004 in de Indische Oceaan was ...</td>\n",
       "      <td>Categorie B: Wagens.</td>\n",
       "      <td>buiten de stad (een dorp, een gehucht, het pla...</td>\n",
       "      <td>...</td>\n",
       "      <td>7</td>\n",
       "      <td>2</td>\n",
       "      <td>8</td>\n",
       "      <td>6</td>\n",
       "      <td>5</td>\n",
       "      <td>4.0</td>\n",
       "      <td>1=Bever,2=Wasbeer,3=Otter,4=Wolf,5=Poema,6=Pan...</td>\n",
       "      <td>Management 1</td>\n",
       "      <td>Data science 1</td>\n",
       "      <td>16-20 uren</td>\n",
       "    </tr>\n",
       "    <tr>\n",
       "      <th>1</th>\n",
       "      <td>3/18</td>\n",
       "      <td>Rechts</td>\n",
       "      <td>42.0</td>\n",
       "      <td>163</td>\n",
       "      <td>Weet ik niet</td>\n",
       "      <td>Weet ik niet</td>\n",
       "      <td>1</td>\n",
       "      <td>Prinses Diana kwam niet per ongeluk om het leven</td>\n",
       "      <td>Categorie AM: Bromfietsen met een maximumsnelh...</td>\n",
       "      <td>in een stad</td>\n",
       "      <td>...</td>\n",
       "      <td>10</td>\n",
       "      <td>5</td>\n",
       "      <td>10</td>\n",
       "      <td>6</td>\n",
       "      <td>7</td>\n",
       "      <td>3.0</td>\n",
       "      <td>1=Bever,2=Wolf,3=Bizon,4=Otter,5=Panter,6=Poem...</td>\n",
       "      <td>Management 1</td>\n",
       "      <td>Computersystemen 1</td>\n",
       "      <td>&lt;= 10 uren</td>\n",
       "    </tr>\n",
       "    <tr>\n",
       "      <th>2</th>\n",
       "      <td>12/18</td>\n",
       "      <td>Rechts</td>\n",
       "      <td>45.0</td>\n",
       "      <td>183</td>\n",
       "      <td>AB</td>\n",
       "      <td>positief</td>\n",
       "      <td>2</td>\n",
       "      <td>Prinses Diana kwam niet per ongeluk om het lev...</td>\n",
       "      <td>Categorie AM: Bromfietsen met een maximumsnelh...</td>\n",
       "      <td>in een stad</td>\n",
       "      <td>...</td>\n",
       "      <td>6</td>\n",
       "      <td>3</td>\n",
       "      <td>7</td>\n",
       "      <td>7</td>\n",
       "      <td>10</td>\n",
       "      <td>6.0</td>\n",
       "      <td>1=Bruine beer,2=Poema,3=Panter,4=Wolf,5=Vos,6=...</td>\n",
       "      <td>Management 1</td>\n",
       "      <td>Programmeren 1 - Java</td>\n",
       "      <td>16-20 uren</td>\n",
       "    </tr>\n",
       "    <tr>\n",
       "      <th>3</th>\n",
       "      <td>5/18</td>\n",
       "      <td>Rechts</td>\n",
       "      <td>44.0</td>\n",
       "      <td>175</td>\n",
       "      <td>A</td>\n",
       "      <td>positief</td>\n",
       "      <td>2</td>\n",
       "      <td>De wereld wordt eigenlijk gecontroleerd door e...</td>\n",
       "      <td>Categorie AM: Bromfietsen met een maximumsnelh...</td>\n",
       "      <td>in een stad</td>\n",
       "      <td>...</td>\n",
       "      <td>9</td>\n",
       "      <td>10</td>\n",
       "      <td>10</td>\n",
       "      <td>10</td>\n",
       "      <td>10</td>\n",
       "      <td>0.0</td>\n",
       "      <td>1=Wasbeer,2=Wolf,3=Bruine beer,4=Das,5=Vos,6=B...</td>\n",
       "      <td>Management 1</td>\n",
       "      <td>Data science 1</td>\n",
       "      <td>&lt;= 10 uren</td>\n",
       "    </tr>\n",
       "    <tr>\n",
       "      <th>4</th>\n",
       "      <td>6/18</td>\n",
       "      <td>Rechts</td>\n",
       "      <td>43.0</td>\n",
       "      <td>173</td>\n",
       "      <td>B</td>\n",
       "      <td>positief</td>\n",
       "      <td>3</td>\n",
       "      <td>De wereld wordt eigenlijk gecontroleerd door e...</td>\n",
       "      <td>Categorie B: Wagens.</td>\n",
       "      <td>in een stad</td>\n",
       "      <td>...</td>\n",
       "      <td>10</td>\n",
       "      <td>6</td>\n",
       "      <td>10</td>\n",
       "      <td>7</td>\n",
       "      <td>7</td>\n",
       "      <td>2.0</td>\n",
       "      <td>1=Wolf,2=Vos,3=Bruine beer,4=Bizon,5=Panter,6=...</td>\n",
       "      <td>Management 1</td>\n",
       "      <td>Data science 1</td>\n",
       "      <td>&lt;= 10 uren</td>\n",
       "    </tr>\n",
       "  </tbody>\n",
       "</table>\n",
       "<p>5 rows × 33 columns</p>\n",
       "</div>"
      ]
     },
     "metadata": {},
     "output_type": "display_data"
    }
   ],
   "execution_count": 2
  },
  {
   "cell_type": "code",
   "source": [
    "# 1\n",
    "X = data1[['lengte', 'stukken fruit', 'schoenmaat', 'afstand tot KdG']]\n",
    "y = data1['schrijfhand']\n",
    "lda = LinearDiscriminantAnalysis()\n",
    "lda.fit(X, y)\n",
    "\n",
    "testdata = pd.DataFrame(data={'lengte': [182], 'stukken fruit': [2], 'schoenmaat': [44], 'afstand tot KdG': [22]})\n",
    "print(lda.predict(testdata))\n",
    "print(lda.predict_proba(testdata))"
   ],
   "metadata": {
    "collapsed": false,
    "ExecuteTime": {
     "end_time": "2024-04-28T11:25:18.972378Z",
     "start_time": "2024-04-28T11:25:18.942677Z"
    }
   },
   "id": "e6852ab5e5722e78",
   "outputs": [
    {
     "name": "stdout",
     "output_type": "stream",
     "text": [
      "['Rechts']\n",
      "[[0.09459903 0.90540097]]\n"
     ]
    }
   ],
   "execution_count": 3
  },
  {
   "cell_type": "code",
   "source": [
    "# 2\n",
    "predicted = pd.Series(lda.predict(X), name='predicted')\n",
    "actual = y.rename('actual')\n",
    "confusion_matrix = pd.crosstab(index=actual, columns=predicted, margins='all', margins_name='total')\n",
    "print(confusion_matrix)"
   ],
   "metadata": {
    "collapsed": false,
    "ExecuteTime": {
     "end_time": "2024-04-28T11:25:19.019432Z",
     "start_time": "2024-04-28T11:25:18.973509Z"
    }
   },
   "id": "f7c08fe989140647",
   "outputs": [
    {
     "name": "stdout",
     "output_type": "stream",
     "text": [
      "predicted  Links  Rechts  total\n",
      "actual                         \n",
      "Links          1      13     14\n",
      "Rechts         1      74     75\n",
      "total          2      87     89\n"
     ]
    }
   ],
   "execution_count": 4
  },
  {
   "cell_type": "code",
   "source": [
    "# 3\n",
    "accuracy = np.mean(predicted == actual)\n",
    "print(f\"Accuracy: {accuracy:.2f}\")"
   ],
   "metadata": {
    "collapsed": false,
    "ExecuteTime": {
     "end_time": "2024-04-28T11:25:19.034543Z",
     "start_time": "2024-04-28T11:25:19.021874Z"
    }
   },
   "id": "999844140262f81e",
   "outputs": [
    {
     "name": "stdout",
     "output_type": "stream",
     "text": [
      "Accuracy: 0.84\n"
     ]
    }
   ],
   "execution_count": 5
  },
  {
   "cell_type": "code",
   "source": [
    "# 4\n",
    "print(\"ROC curve is not drawn because the discriminant analysis is not a binary classifier.\")"
   ],
   "metadata": {
    "collapsed": false,
    "ExecuteTime": {
     "end_time": "2024-04-28T11:25:19.050356Z",
     "start_time": "2024-04-28T11:25:19.035543Z"
    }
   },
   "id": "288bc0da0f301074",
   "outputs": [
    {
     "name": "stdout",
     "output_type": "stream",
     "text": [
      "ROC curve is not drawn because the discriminant analysis is not a binary classifier.\n"
     ]
    }
   ],
   "execution_count": 6
  },
  {
   "cell_type": "code",
   "source": [
    "# 5\n",
    "X = data1[['lengte', 'schoenmaat']]\n",
    "y = data1['siblings']\n",
    "lda = LinearDiscriminantAnalysis()\n",
    "lda.fit(X, y)\n",
    "predicted = pd.Series(lda.predict(X), name='predicted')\n",
    "actual = y.rename('actual')\n",
    "accuracy = np.mean(predicted == actual)\n",
    "print(f\"Accuracy: {accuracy:.2f}\")"
   ],
   "metadata": {
    "collapsed": false,
    "ExecuteTime": {
     "end_time": "2024-04-28T11:25:19.065915Z",
     "start_time": "2024-04-28T11:25:19.051573Z"
    }
   },
   "id": "ae5681eeb006d6ce",
   "outputs": [
    {
     "name": "stdout",
     "output_type": "stream",
     "text": [
      "Accuracy: 0.35\n"
     ]
    }
   ],
   "execution_count": 7
  },
  {
   "cell_type": "markdown",
   "source": [
    "### Question 2:\n",
    "- In the Canvas course, find the dataset `Bordeaux.csv` and place it in a data frame.\n",
    "    - Apply a discriminant analysis to this data set with quality as the dependent variable and `temperature`, `sun`, `heat` and `rain` as the independent variables.\n",
    "    - How many dimensions does the discriminant analysis have?\n",
    "    - Plot the results of the discriminant analysis. What is visualized here?\n",
    "    - Apply the predict command briefly to the original data. What percentage of the wines receive the same label via the discriminant analysis as observed?"
   ],
   "metadata": {
    "collapsed": false
   },
   "id": "8dcce8d70aac0bac"
  },
  {
   "cell_type": "code",
   "source": [
    "bordeaux = pd.read_csv('../Data/Bordeaux.csv', delimiter=';', decimal=',')\n",
    "display(bordeaux.head())"
   ],
   "metadata": {
    "collapsed": false,
    "ExecuteTime": {
     "end_time": "2024-04-28T11:25:19.081855Z",
     "start_time": "2024-04-28T11:25:19.066906Z"
    }
   },
   "id": "d45ccf151811f954",
   "outputs": [
    {
     "data": {
      "text/plain": [
       "   year  temperature   sun  heat  rain quality\n",
       "0  1924         3064  1201    10   361  medium\n",
       "1  1925         3000  1053    11   338     bad\n",
       "2  1926         3155  1133    19   393  medium\n",
       "3  1927         3085   970     4   467     bad\n",
       "4  1928         3245  1258    36   294    good"
      ],
      "text/html": [
       "<div>\n",
       "<style scoped>\n",
       "    .dataframe tbody tr th:only-of-type {\n",
       "        vertical-align: middle;\n",
       "    }\n",
       "\n",
       "    .dataframe tbody tr th {\n",
       "        vertical-align: top;\n",
       "    }\n",
       "\n",
       "    .dataframe thead th {\n",
       "        text-align: right;\n",
       "    }\n",
       "</style>\n",
       "<table border=\"1\" class=\"dataframe\">\n",
       "  <thead>\n",
       "    <tr style=\"text-align: right;\">\n",
       "      <th></th>\n",
       "      <th>year</th>\n",
       "      <th>temperature</th>\n",
       "      <th>sun</th>\n",
       "      <th>heat</th>\n",
       "      <th>rain</th>\n",
       "      <th>quality</th>\n",
       "    </tr>\n",
       "  </thead>\n",
       "  <tbody>\n",
       "    <tr>\n",
       "      <th>0</th>\n",
       "      <td>1924</td>\n",
       "      <td>3064</td>\n",
       "      <td>1201</td>\n",
       "      <td>10</td>\n",
       "      <td>361</td>\n",
       "      <td>medium</td>\n",
       "    </tr>\n",
       "    <tr>\n",
       "      <th>1</th>\n",
       "      <td>1925</td>\n",
       "      <td>3000</td>\n",
       "      <td>1053</td>\n",
       "      <td>11</td>\n",
       "      <td>338</td>\n",
       "      <td>bad</td>\n",
       "    </tr>\n",
       "    <tr>\n",
       "      <th>2</th>\n",
       "      <td>1926</td>\n",
       "      <td>3155</td>\n",
       "      <td>1133</td>\n",
       "      <td>19</td>\n",
       "      <td>393</td>\n",
       "      <td>medium</td>\n",
       "    </tr>\n",
       "    <tr>\n",
       "      <th>3</th>\n",
       "      <td>1927</td>\n",
       "      <td>3085</td>\n",
       "      <td>970</td>\n",
       "      <td>4</td>\n",
       "      <td>467</td>\n",
       "      <td>bad</td>\n",
       "    </tr>\n",
       "    <tr>\n",
       "      <th>4</th>\n",
       "      <td>1928</td>\n",
       "      <td>3245</td>\n",
       "      <td>1258</td>\n",
       "      <td>36</td>\n",
       "      <td>294</td>\n",
       "      <td>good</td>\n",
       "    </tr>\n",
       "  </tbody>\n",
       "</table>\n",
       "</div>"
      ]
     },
     "metadata": {},
     "output_type": "display_data"
    }
   ],
   "execution_count": 8
  },
  {
   "cell_type": "code",
   "source": [
    "# 1\n",
    "X = bordeaux[['temperature', 'sun', 'heat', 'rain']]\n",
    "y = bordeaux['quality']\n",
    "lda = LinearDiscriminantAnalysis()\n",
    "print(lda.fit(X, y))"
   ],
   "metadata": {
    "collapsed": false,
    "ExecuteTime": {
     "end_time": "2024-04-28T11:25:19.097726Z",
     "start_time": "2024-04-28T11:25:19.082991Z"
    }
   },
   "id": "afe706b98c4e9e1c",
   "outputs": [
    {
     "name": "stdout",
     "output_type": "stream",
     "text": [
      "LinearDiscriminantAnalysis()\n"
     ]
    }
   ],
   "execution_count": 9
  },
  {
   "cell_type": "code",
   "source": [
    "# 2\n",
    "print((len(y.unique())-1)) # Dimension = Total classes - 1"
   ],
   "metadata": {
    "collapsed": false,
    "ExecuteTime": {
     "end_time": "2024-04-28T11:25:19.113858Z",
     "start_time": "2024-04-28T11:25:19.098903Z"
    }
   },
   "id": "64dfa88c8978c760",
   "outputs": [
    {
     "name": "stdout",
     "output_type": "stream",
     "text": [
      "2\n"
     ]
    }
   ],
   "execution_count": 10
  },
  {
   "cell_type": "code",
   "source": [
    "# 3\n",
    "quality_mapping = {'bad': 0, 'medium': 1, 'good': 2}\n",
    "bordeaux['quality_code'] = bordeaux['quality'].map(quality_mapping)\n",
    "y2 = bordeaux['quality_code']\n",
    "\n",
    "lda = LinearDiscriminantAnalysis()\n",
    "lda.fit(X, y2)\n",
    "\n",
    "plt.figure(figsize=(12, 6))\n",
    "\n",
    "plt.scatter(X['temperature'], X['sun'], X['heat'], c=lda.predict(X), cmap='viridis')\n",
    "plt.colorbar(label='Quality')\n",
    "plt.xlabel('Temperature')\n",
    "plt.ylabel('Sun')\n",
    "plt.title('Discriminant Analysis Results')\n",
    "\n",
    "plt.grid(True)\n",
    "plt.show()\n",
    "\n",
    "print(\"The plot visualizes the results of the discriminant analysis. So we can easily see the different quality levels of the wines.\")"
   ],
   "metadata": {
    "collapsed": false,
    "ExecuteTime": {
     "end_time": "2024-04-28T11:25:19.333936Z",
     "start_time": "2024-04-28T11:25:19.115995Z"
    }
   },
   "id": "d750076c00fb96e",
   "outputs": [
    {
     "data": {
      "text/plain": [
       "<Figure size 1200x600 with 2 Axes>"
      ],
      "image/png": "[encoded data removed]"
     },
     "metadata": {},
     "output_type": "display_data"
    },
    {
     "name": "stdout",
     "output_type": "stream",
     "text": [
      "The plot visualizes the results of the discriminant analysis. So we can easily see the different quality levels of the wines.\n"
     ]
    }
   ],
   "execution_count": 11
  },
  {
   "cell_type": "code",
   "source": [
    "# 4\n",
    "predicted = lda.predict(X)\n",
    "accuracy = np.mean(predicted == y2)\n",
    "print(f\"Accuracy: {accuracy:.2f}\")"
   ],
   "metadata": {
    "collapsed": false,
    "ExecuteTime": {
     "end_time": "2024-04-28T11:25:19.349388Z",
     "start_time": "2024-04-28T11:25:19.335438Z"
    }
   },
   "id": "75ae57120d7676d6",
   "outputs": [
    {
     "name": "stdout",
     "output_type": "stream",
     "text": [
      "Accuracy: 0.79\n"
     ]
    }
   ],
   "execution_count": 12
  },
  {
   "cell_type": "markdown",
   "source": [
    "### Question 3:\n",
    "- In the Canvas course, find the dataset `Birthwt.csv` and place it in a data frame.\n",
    "    - Analyze the type of data in this dataset.\n",
    "    - Which columns can be used as dependent variables for a discriminant analysis?\n",
    "    - Which columns can be used as independent variables for a discriminant analysis?\n",
    "    - Apply a discriminant analysis to this data set (using your choices above).\n",
    "    - How many dimensions does the discriminant analysis have?\n",
    "    - Plot the results of the discriminant analysis.\n",
    "\n",
    "**Name of Columns & Meaning**:\n",
    "    - `low`: Indicator of birth weight less than 2.5 kg\n",
    "    - `age`: Mother's age in years\n",
    "    - `lwt`: Mother's weight in pounds at last menstrual period\n",
    "    - `race`: Mother's race (1 = white, 2 = black, 3 = other)\n",
    "    - `smoke`: Smoking status during pregnancy (1 = yes, 0 = no)\n",
    "    - `ptl`: Number of previous premature labors\n",
    "    - `ht`: History of hypertension (1 = yes, 0 = no)\n",
    "    - `ui`: Presence of uterine irritability (1 = yes, 0 = no)\n",
    "    - `ftv`: Number of physician visits during the first trimester\n",
    "    - `bwt`: Birth weight in grams"
   ],
   "metadata": {
    "collapsed": false
   },
   "id": "3d07b7bd896afd9c"
  },
  {
   "cell_type": "code",
   "source": [
    "birthwt = pd.read_csv('../Data/Birthwt.csv', delimiter=';', decimal=',')\n",
    "display(birthwt.head())"
   ],
   "metadata": {
    "collapsed": false,
    "ExecuteTime": {
     "end_time": "2024-04-28T11:25:19.364015Z",
     "start_time": "2024-04-28T11:25:19.351889Z"
    }
   },
   "id": "c6a18b90edf1f951",
   "outputs": [
    {
     "data": {
      "text/plain": [
       "   low  age  lwt  race  smoke  ptl  ht  ui  ftv   bwt\n",
       "0    0   19  182     2      0    0   0   1    0  2523\n",
       "1    0   33  155     3      0    0   0   0    3  2551\n",
       "2    0   20  105     1      1    0   0   0    1  2557\n",
       "3    0   21  108     1      1    0   0   1    2  2594\n",
       "4    0   18  107     1      1    0   0   1    0  2600"
      ],
      "text/html": [
       "<div>\n",
       "<style scoped>\n",
       "    .dataframe tbody tr th:only-of-type {\n",
       "        vertical-align: middle;\n",
       "    }\n",
       "\n",
       "    .dataframe tbody tr th {\n",
       "        vertical-align: top;\n",
       "    }\n",
       "\n",
       "    .dataframe thead th {\n",
       "        text-align: right;\n",
       "    }\n",
       "</style>\n",
       "<table border=\"1\" class=\"dataframe\">\n",
       "  <thead>\n",
       "    <tr style=\"text-align: right;\">\n",
       "      <th></th>\n",
       "      <th>low</th>\n",
       "      <th>age</th>\n",
       "      <th>lwt</th>\n",
       "      <th>race</th>\n",
       "      <th>smoke</th>\n",
       "      <th>ptl</th>\n",
       "      <th>ht</th>\n",
       "      <th>ui</th>\n",
       "      <th>ftv</th>\n",
       "      <th>bwt</th>\n",
       "    </tr>\n",
       "  </thead>\n",
       "  <tbody>\n",
       "    <tr>\n",
       "      <th>0</th>\n",
       "      <td>0</td>\n",
       "      <td>19</td>\n",
       "      <td>182</td>\n",
       "      <td>2</td>\n",
       "      <td>0</td>\n",
       "      <td>0</td>\n",
       "      <td>0</td>\n",
       "      <td>1</td>\n",
       "      <td>0</td>\n",
       "      <td>2523</td>\n",
       "    </tr>\n",
       "    <tr>\n",
       "      <th>1</th>\n",
       "      <td>0</td>\n",
       "      <td>33</td>\n",
       "      <td>155</td>\n",
       "      <td>3</td>\n",
       "      <td>0</td>\n",
       "      <td>0</td>\n",
       "      <td>0</td>\n",
       "      <td>0</td>\n",
       "      <td>3</td>\n",
       "      <td>2551</td>\n",
       "    </tr>\n",
       "    <tr>\n",
       "      <th>2</th>\n",
       "      <td>0</td>\n",
       "      <td>20</td>\n",
       "      <td>105</td>\n",
       "      <td>1</td>\n",
       "      <td>1</td>\n",
       "      <td>0</td>\n",
       "      <td>0</td>\n",
       "      <td>0</td>\n",
       "      <td>1</td>\n",
       "      <td>2557</td>\n",
       "    </tr>\n",
       "    <tr>\n",
       "      <th>3</th>\n",
       "      <td>0</td>\n",
       "      <td>21</td>\n",
       "      <td>108</td>\n",
       "      <td>1</td>\n",
       "      <td>1</td>\n",
       "      <td>0</td>\n",
       "      <td>0</td>\n",
       "      <td>1</td>\n",
       "      <td>2</td>\n",
       "      <td>2594</td>\n",
       "    </tr>\n",
       "    <tr>\n",
       "      <th>4</th>\n",
       "      <td>0</td>\n",
       "      <td>18</td>\n",
       "      <td>107</td>\n",
       "      <td>1</td>\n",
       "      <td>1</td>\n",
       "      <td>0</td>\n",
       "      <td>0</td>\n",
       "      <td>1</td>\n",
       "      <td>0</td>\n",
       "      <td>2600</td>\n",
       "    </tr>\n",
       "  </tbody>\n",
       "</table>\n",
       "</div>"
      ]
     },
     "metadata": {},
     "output_type": "display_data"
    }
   ],
   "execution_count": 13
  },
  {
   "cell_type": "code",
   "source": [
    "# 1\n",
    "print(birthwt.dtypes)"
   ],
   "metadata": {
    "collapsed": false,
    "ExecuteTime": {
     "end_time": "2024-04-28T11:25:19.379356Z",
     "start_time": "2024-04-28T11:25:19.367910Z"
    }
   },
   "id": "a3aa3d2a61b4d424",
   "outputs": [
    {
     "name": "stdout",
     "output_type": "stream",
     "text": [
      "low      int64\n",
      "age      int64\n",
      "lwt      int64\n",
      "race     int64\n",
      "smoke    int64\n",
      "ptl      int64\n",
      "ht       int64\n",
      "ui       int64\n",
      "ftv      int64\n",
      "bwt      int64\n",
      "dtype: object\n"
     ]
    }
   ],
   "execution_count": 14
  },
  {
   "cell_type": "code",
   "source": [
    "# 2\n",
    "print(\"In principle, we can use the mall in this case. But for simplicity we will use 'smoke'.\")"
   ],
   "metadata": {
    "collapsed": false,
    "ExecuteTime": {
     "end_time": "2024-04-28T11:25:19.394622Z",
     "start_time": "2024-04-28T11:25:19.381607Z"
    }
   },
   "id": "82a1ff92b3680ff9",
   "outputs": [
    {
     "name": "stdout",
     "output_type": "stream",
     "text": [
      "In principle, we can use the mall in this case. But for simplicity we will use 'smoke'.\n"
     ]
    }
   ],
   "execution_count": 15
  },
  {
   "cell_type": "code",
   "source": [
    "# 3\n",
    "print(\"We can use 'age', 'lwt' & 'bwt' as independent variables.\")"
   ],
   "metadata": {
    "collapsed": false,
    "ExecuteTime": {
     "end_time": "2024-04-28T11:25:19.410620Z",
     "start_time": "2024-04-28T11:25:19.396821Z"
    }
   },
   "id": "a2726114f2fde23c",
   "outputs": [
    {
     "name": "stdout",
     "output_type": "stream",
     "text": [
      "We can use 'age', 'lwt' & 'bwt' as independent variables.\n"
     ]
    }
   ],
   "execution_count": 16
  },
  {
   "cell_type": "code",
   "source": [
    "# 4\n",
    "X = birthwt[['age', 'lwt', 'bwt']]\n",
    "y = birthwt['smoke']\n",
    "lda = LinearDiscriminantAnalysis()\n",
    "print(lda.fit(X, y))"
   ],
   "metadata": {
    "collapsed": false,
    "ExecuteTime": {
     "end_time": "2024-04-28T11:25:19.426742Z",
     "start_time": "2024-04-28T11:25:19.412101Z"
    }
   },
   "id": "24203e0b93f70bc4",
   "outputs": [
    {
     "name": "stdout",
     "output_type": "stream",
     "text": [
      "LinearDiscriminantAnalysis()\n"
     ]
    }
   ],
   "execution_count": 17
  },
  {
   "cell_type": "code",
   "source": [
    "# 5\n",
    "print((len(y.unique())-1)) # Dimension = Total classes - 1"
   ],
   "metadata": {
    "collapsed": false,
    "ExecuteTime": {
     "end_time": "2024-04-28T11:25:19.442350Z",
     "start_time": "2024-04-28T11:25:19.428795Z"
    }
   },
   "id": "6aca760e0c6344c4",
   "outputs": [
    {
     "name": "stdout",
     "output_type": "stream",
     "text": [
      "1\n"
     ]
    }
   ],
   "execution_count": 18
  },
  {
   "cell_type": "code",
   "source": [
    "# 6 \n",
    "birthwt[\"LD1\"] = lda.transform(X)[:, 0]\n",
    "plt.figure(figsize=(10, 5))\n",
    "birthwt['LD1'][birthwt['smoke'] == 0].hist(bins=25, density=True, edgecolor='black', color='green', alpha=0.7, label='Non-Smoker')\n",
    "birthwt['LD1'][birthwt['smoke'] == 1].hist(bins=25, density=True, edgecolor='black', color='red', alpha=0.7, label='Smoker')\n",
    "plt.title('Discriminant Analysis Results')\n",
    "plt.legend()\n",
    "plt.grid(False)\n",
    "plt.show()"
   ],
   "metadata": {
    "collapsed": false,
    "ExecuteTime": {
     "end_time": "2024-04-28T11:25:19.646799Z",
     "start_time": "2024-04-28T11:25:19.444344Z"
    }
   },
   "id": "e29693212932943a",
   "outputs": [
    {
     "data": {
      "text/plain": [
       "<Figure size 1000x500 with 1 Axes>"
      ],
      "image/png": "[encoded data removed]"
     },
     "metadata": {},
     "output_type": "display_data"
    }
   ],
   "execution_count": 19
  },
  {
   "cell_type": "markdown",
   "source": [
    "### Question 4:\n",
    "- Find the dataset 'Cars93' on Canvas and place it in a data frame.\n",
    "    - Analyze the type of data in this dataset.\n",
    "    - Split the data set into two: the first `90` rows as a `learning data set` for why you are going to apply a discriminant analysis (see 5) and the last 3 rows to check whether the obtained discriminant analysis places these cars in the correct class places (see 7).\n",
    "    - Which columns can be used as dependent variables for a discriminant analysis?\n",
    "    - Which columns can be used as independent variables for a discriminant analysis?\n",
    "    - Apply a discriminant analysis to this data set. Take the Type column as the dependent variable and all usable columns as the independent variables (see 4).\n",
    "    - How many dimensions does the discriminant analysis have?\n",
    "    - Apply the obtained discriminant analysis using the predict command to the last 3 rows of the original data (see 2). Will all 3 cars be placed in the correct class?\n",
    "\n",
    "**Name of Columns & Meaning**:\n",
    "    - `Manufacturer`: Manufacturer of the car\n",
    "    - `Model`: Model of the car\n",
    "    - `Type`: A factor with levels `Small`, `Sporty`, `Compact`, `Midsize`, `Large` and `Van`\n",
    "    - `Min.Price`: Minimum Price (in \\$1,000) price of a basic version of the car\n",
    "    - `Price`: Midrange Price (in \\$1,000) average of `Min.Price` and `Max.Price`\n",
    "    - `Max.Price`: Maximum Price (in \\$1,000) price of `a premium version` of the car\n",
    "    - `MPG.city`: City MPG (miles per US gallon by EPA rating)\n",
    "    - `MPG.highway`: Highway MPG\n",
    "    - `AirBags`: AirBags standard. Factor: `None`, `Driver only`, `Driver` & `Passenger`\n",
    "    - `DriveTrain`: Drive train type: `Real wheel`, `Front wheel` or `4WD` (factor)\n",
    "    - `Cylinders`: Number of cylinders (missing for Mazda RX-7, which has a rotary engine)\n",
    "    - `EngineSize`: Engine size (liters)\n",
    "    - `Horsepower`: Horsepower (maximum)\n",
    "    - `RPM`: RPM (revs per minute at maximum horsepower)\n",
    "    - `Rev.per.mile`: Engine revolutions per mile (in the highest gear)\n",
    "    - `Man.trans.avail`: Is a manual transmission available? Factor with levels `Yes` and `No`\n",
    "    - `Fuel.tank.capacity`: Fuel tank capacity (US gallons)\n",
    "    - `Passengers`: Passenger capacity (persons)\n",
    "    "
   ],
   "metadata": {
    "collapsed": false
   },
   "id": "921495f352a4d7dd"
  },
  {
   "cell_type": "code",
   "source": [
    "cars93 = pd.read_csv('../Data/Cars93.csv', delimiter=';', decimal='.')\n",
    "display(cars93.head())"
   ],
   "metadata": {
    "collapsed": false,
    "ExecuteTime": {
     "end_time": "2024-04-28T11:25:19.678084Z",
     "start_time": "2024-04-28T11:25:19.648342Z"
    }
   },
   "id": "7bb235ae95ef43d9",
   "outputs": [
    {
     "data": {
      "text/plain": [
       "  Manufacturer    Model     Type  Min.Price  Price  Max.Price  MPG.city  \\\n",
       "0        Acura  Integra    Small       12.9   15.9       18.8        25   \n",
       "1        Acura   Legend  Midsize       29.2   33.9       38.7        18   \n",
       "2         Audi       90  Compact       25.9   29.1       32.3        20   \n",
       "3         Audi      100  Midsize       30.8   37.7       44.6        19   \n",
       "4          BMW     535i  Midsize       23.7   30.0       36.2        22   \n",
       "\n",
       "   MPG.highway             AirBags DriveTrain  ... Passengers  Length  \\\n",
       "0           31                 NaN      Front  ...          5     177   \n",
       "1           25  Driver & Passenger      Front  ...          5     195   \n",
       "2           26         Driver only      Front  ...          5     180   \n",
       "3           26  Driver & Passenger      Front  ...          6     193   \n",
       "4           30         Driver only       Rear  ...          4     186   \n",
       "\n",
       "   Wheelbase  Width  Turn.circle Rear.seat.room  Luggage.room  Weight  \\\n",
       "0        102     68           37           26.5          11.0    2705   \n",
       "1        115     71           38           30.0          15.0    3560   \n",
       "2        102     67           37           28.0          14.0    3375   \n",
       "3        106     70           37           31.0          17.0    3405   \n",
       "4        109     69           39           27.0          13.0    3640   \n",
       "\n",
       "    Origin           Make  \n",
       "0  non-USA  Acura Integra  \n",
       "1  non-USA   Acura Legend  \n",
       "2  non-USA        Audi 90  \n",
       "3  non-USA       Audi 100  \n",
       "4  non-USA       BMW 535i  \n",
       "\n",
       "[5 rows x 27 columns]"
      ],
      "text/html": [
       "<div>\n",
       "<style scoped>\n",
       "    .dataframe tbody tr th:only-of-type {\n",
       "        vertical-align: middle;\n",
       "    }\n",
       "\n",
       "    .dataframe tbody tr th {\n",
       "        vertical-align: top;\n",
       "    }\n",
       "\n",
       "    .dataframe thead th {\n",
       "        text-align: right;\n",
       "    }\n",
       "</style>\n",
       "<table border=\"1\" class=\"dataframe\">\n",
       "  <thead>\n",
       "    <tr style=\"text-align: right;\">\n",
       "      <th></th>\n",
       "      <th>Manufacturer</th>\n",
       "      <th>Model</th>\n",
       "      <th>Type</th>\n",
       "      <th>Min.Price</th>\n",
       "      <th>Price</th>\n",
       "      <th>Max.Price</th>\n",
       "      <th>MPG.city</th>\n",
       "      <th>MPG.highway</th>\n",
       "      <th>AirBags</th>\n",
       "      <th>DriveTrain</th>\n",
       "      <th>...</th>\n",
       "      <th>Passengers</th>\n",
       "      <th>Length</th>\n",
       "      <th>Wheelbase</th>\n",
       "      <th>Width</th>\n",
       "      <th>Turn.circle</th>\n",
       "      <th>Rear.seat.room</th>\n",
       "      <th>Luggage.room</th>\n",
       "      <th>Weight</th>\n",
       "      <th>Origin</th>\n",
       "      <th>Make</th>\n",
       "    </tr>\n",
       "  </thead>\n",
       "  <tbody>\n",
       "    <tr>\n",
       "      <th>0</th>\n",
       "      <td>Acura</td>\n",
       "      <td>Integra</td>\n",
       "      <td>Small</td>\n",
       "      <td>12.9</td>\n",
       "      <td>15.9</td>\n",
       "      <td>18.8</td>\n",
       "      <td>25</td>\n",
       "      <td>31</td>\n",
       "      <td>NaN</td>\n",
       "      <td>Front</td>\n",
       "      <td>...</td>\n",
       "      <td>5</td>\n",
       "      <td>177</td>\n",
       "      <td>102</td>\n",
       "      <td>68</td>\n",
       "      <td>37</td>\n",
       "      <td>26.5</td>\n",
       "      <td>11.0</td>\n",
       "      <td>2705</td>\n",
       "      <td>non-USA</td>\n",
       "      <td>Acura Integra</td>\n",
       "    </tr>\n",
       "    <tr>\n",
       "      <th>1</th>\n",
       "      <td>Acura</td>\n",
       "      <td>Legend</td>\n",
       "      <td>Midsize</td>\n",
       "      <td>29.2</td>\n",
       "      <td>33.9</td>\n",
       "      <td>38.7</td>\n",
       "      <td>18</td>\n",
       "      <td>25</td>\n",
       "      <td>Driver &amp; Passenger</td>\n",
       "      <td>Front</td>\n",
       "      <td>...</td>\n",
       "      <td>5</td>\n",
       "      <td>195</td>\n",
       "      <td>115</td>\n",
       "      <td>71</td>\n",
       "      <td>38</td>\n",
       "      <td>30.0</td>\n",
       "      <td>15.0</td>\n",
       "      <td>3560</td>\n",
       "      <td>non-USA</td>\n",
       "      <td>Acura Legend</td>\n",
       "    </tr>\n",
       "    <tr>\n",
       "      <th>2</th>\n",
       "      <td>Audi</td>\n",
       "      <td>90</td>\n",
       "      <td>Compact</td>\n",
       "      <td>25.9</td>\n",
       "      <td>29.1</td>\n",
       "      <td>32.3</td>\n",
       "      <td>20</td>\n",
       "      <td>26</td>\n",
       "      <td>Driver only</td>\n",
       "      <td>Front</td>\n",
       "      <td>...</td>\n",
       "      <td>5</td>\n",
       "      <td>180</td>\n",
       "      <td>102</td>\n",
       "      <td>67</td>\n",
       "      <td>37</td>\n",
       "      <td>28.0</td>\n",
       "      <td>14.0</td>\n",
       "      <td>3375</td>\n",
       "      <td>non-USA</td>\n",
       "      <td>Audi 90</td>\n",
       "    </tr>\n",
       "    <tr>\n",
       "      <th>3</th>\n",
       "      <td>Audi</td>\n",
       "      <td>100</td>\n",
       "      <td>Midsize</td>\n",
       "      <td>30.8</td>\n",
       "      <td>37.7</td>\n",
       "      <td>44.6</td>\n",
       "      <td>19</td>\n",
       "      <td>26</td>\n",
       "      <td>Driver &amp; Passenger</td>\n",
       "      <td>Front</td>\n",
       "      <td>...</td>\n",
       "      <td>6</td>\n",
       "      <td>193</td>\n",
       "      <td>106</td>\n",
       "      <td>70</td>\n",
       "      <td>37</td>\n",
       "      <td>31.0</td>\n",
       "      <td>17.0</td>\n",
       "      <td>3405</td>\n",
       "      <td>non-USA</td>\n",
       "      <td>Audi 100</td>\n",
       "    </tr>\n",
       "    <tr>\n",
       "      <th>4</th>\n",
       "      <td>BMW</td>\n",
       "      <td>535i</td>\n",
       "      <td>Midsize</td>\n",
       "      <td>23.7</td>\n",
       "      <td>30.0</td>\n",
       "      <td>36.2</td>\n",
       "      <td>22</td>\n",
       "      <td>30</td>\n",
       "      <td>Driver only</td>\n",
       "      <td>Rear</td>\n",
       "      <td>...</td>\n",
       "      <td>4</td>\n",
       "      <td>186</td>\n",
       "      <td>109</td>\n",
       "      <td>69</td>\n",
       "      <td>39</td>\n",
       "      <td>27.0</td>\n",
       "      <td>13.0</td>\n",
       "      <td>3640</td>\n",
       "      <td>non-USA</td>\n",
       "      <td>BMW 535i</td>\n",
       "    </tr>\n",
       "  </tbody>\n",
       "</table>\n",
       "<p>5 rows × 27 columns</p>\n",
       "</div>"
      ]
     },
     "metadata": {},
     "output_type": "display_data"
    }
   ],
   "execution_count": 20
  },
  {
   "cell_type": "code",
   "source": [
    "# 1\n",
    "print(cars93.dtypes)"
   ],
   "metadata": {
    "collapsed": false,
    "ExecuteTime": {
     "end_time": "2024-04-28T11:25:19.693300Z",
     "start_time": "2024-04-28T11:25:19.679087Z"
    }
   },
   "id": "9f79e40886cba937",
   "outputs": [
    {
     "name": "stdout",
     "output_type": "stream",
     "text": [
      "Manufacturer           object\n",
      "Model                  object\n",
      "Type                   object\n",
      "Min.Price             float64\n",
      "Price                 float64\n",
      "Max.Price             float64\n",
      "MPG.city                int64\n",
      "MPG.highway             int64\n",
      "AirBags                object\n",
      "DriveTrain             object\n",
      "Cylinders              object\n",
      "EngineSize            float64\n",
      "Horsepower              int64\n",
      "RPM                     int64\n",
      "Rev.per.mile            int64\n",
      "Man.trans.avail        object\n",
      "Fuel.tank.capacity    float64\n",
      "Passengers              int64\n",
      "Length                  int64\n",
      "Wheelbase               int64\n",
      "Width                   int64\n",
      "Turn.circle             int64\n",
      "Rear.seat.room        float64\n",
      "Luggage.room          float64\n",
      "Weight                  int64\n",
      "Origin                 object\n",
      "Make                   object\n",
      "dtype: object\n"
     ]
    }
   ],
   "execution_count": 21
  },
  {
   "cell_type": "code",
   "source": [
    "# 2\n",
    "learning_data = cars93.iloc[:90]\n",
    "test_data = cars93.iloc[90:]"
   ],
   "metadata": {
    "collapsed": false,
    "ExecuteTime": {
     "end_time": "2024-04-28T11:25:19.708653Z",
     "start_time": "2024-04-28T11:25:19.694403Z"
    }
   },
   "id": "37f8e4f29cb6aa30",
   "outputs": [],
   "execution_count": 22
  },
  {
   "cell_type": "code",
   "source": [
    "# 3\n",
    "print(\"We can use Type as dependent variable. So columns:\")\n",
    "print(cars93.select_dtypes(include=['object']).columns)"
   ],
   "metadata": {
    "collapsed": false,
    "ExecuteTime": {
     "end_time": "2024-04-28T11:25:19.724448Z",
     "start_time": "2024-04-28T11:25:19.709861Z"
    }
   },
   "id": "6c1ba50dda0a3af1",
   "outputs": [
    {
     "name": "stdout",
     "output_type": "stream",
     "text": [
      "We can use Type as dependent variable. So columns:\n",
      "Index(['Manufacturer', 'Model', 'Type', 'AirBags', 'DriveTrain', 'Cylinders',\n",
      "       'Man.trans.avail', 'Origin', 'Make'],\n",
      "      dtype='object')\n"
     ]
    }
   ],
   "execution_count": 23
  },
  {
   "cell_type": "code",
   "source": [
    "# 4\n",
    "print(\"We can use Numerical columns as independent variables. So columns:\")\n",
    "print(cars93.select_dtypes(include=['int64', 'float64']).columns)"
   ],
   "metadata": {
    "collapsed": false,
    "ExecuteTime": {
     "end_time": "2024-04-28T11:25:19.739992Z",
     "start_time": "2024-04-28T11:25:19.725891Z"
    }
   },
   "id": "bba6a9abc86781d8",
   "outputs": [
    {
     "name": "stdout",
     "output_type": "stream",
     "text": [
      "We can use Numerical columns as independent variables. So columns:\n",
      "Index(['Min.Price', 'Price', 'Max.Price', 'MPG.city', 'MPG.highway',\n",
      "       'EngineSize', 'Horsepower', 'RPM', 'Rev.per.mile', 'Fuel.tank.capacity',\n",
      "       'Passengers', 'Length', 'Wheelbase', 'Width', 'Turn.circle',\n",
      "       'Rear.seat.room', 'Luggage.room', 'Weight'],\n",
      "      dtype='object')\n"
     ]
    }
   ],
   "execution_count": 24
  },
  {
   "cell_type": "code",
   "source": [
    "# 5\n",
    "X = learning_data[['Min.Price', 'Price', 'Max.Price', 'MPG.city', 'MPG.highway', 'EngineSize', 'Horsepower', 'RPM', 'Rev.per.mile', 'Fuel.tank.capacity', 'Passengers']]\n",
    "y = learning_data['Type']\n",
    "lda = LinearDiscriminantAnalysis()\n",
    "print(lda.fit(X, y))"
   ],
   "metadata": {
    "collapsed": false,
    "ExecuteTime": {
     "end_time": "2024-04-28T11:25:19.755562Z",
     "start_time": "2024-04-28T11:25:19.740991Z"
    }
   },
   "id": "a644a29abf325897",
   "outputs": [
    {
     "name": "stdout",
     "output_type": "stream",
     "text": [
      "LinearDiscriminantAnalysis()\n"
     ]
    }
   ],
   "execution_count": 25
  },
  {
   "cell_type": "code",
   "source": [
    "# 6\n",
    "print((len(y.unique())-1)) # Dimension = Total classes - 1"
   ],
   "metadata": {
    "collapsed": false,
    "ExecuteTime": {
     "end_time": "2024-04-28T11:25:19.771301Z",
     "start_time": "2024-04-28T11:25:19.757584Z"
    }
   },
   "id": "dda90ec2476b7843",
   "outputs": [
    {
     "name": "stdout",
     "output_type": "stream",
     "text": [
      "5\n"
     ]
    }
   ],
   "execution_count": 26
  },
  {
   "cell_type": "code",
   "source": [
    "# 7 Apply the obtained discriminant analysis using the predict command to the last 3 rows of the original data (see 2). Will all 3 cars be placed in the correct class?\n",
    "predicted = lda.predict(test_data[['Min.Price', 'Price', 'Max.Price', 'MPG.city', 'MPG.highway', 'EngineSize', 'Horsepower', 'RPM', 'Rev.per.mile', 'Fuel.tank.capacity', 'Passengers']])\n",
    "print(predicted)\n",
    "\n",
    "display(test_data['Type'])\n",
    "\n",
    "print(\"Not all 3 cars will be placed in the correct class.\")\n",
    "\n",
    "print(f\"Accuracy: {lda.score(X,y)}\")"
   ],
   "metadata": {
    "collapsed": false,
    "ExecuteTime": {
     "end_time": "2024-04-28T11:25:19.786924Z",
     "start_time": "2024-04-28T11:25:19.773301Z"
    }
   },
   "id": "91920bf20083163c",
   "outputs": [
    {
     "name": "stdout",
     "output_type": "stream",
     "text": [
      "['Midsize' 'Midsize' 'Midsize']\n"
     ]
    },
    {
     "data": {
      "text/plain": [
       "90     Sporty\n",
       "91    Compact\n",
       "92    Midsize\n",
       "Name: Type, dtype: object"
      ]
     },
     "metadata": {},
     "output_type": "display_data"
    },
    {
     "name": "stdout",
     "output_type": "stream",
     "text": [
      "Not all 3 cars will be placed in the correct class.\n",
      "Accuracy: 0.8222222222222222\n"
     ]
    }
   ],
   "execution_count": 27
  }
 ],
 "metadata": {
  "kernelspec": {
   "display_name": "Python 3",
   "language": "python",
   "name": "python3"
  },
  "language_info": {
   "codemirror_mode": {
    "name": "ipython",
    "version": 2
   },
   "file_extension": ".py",
   "mimetype": "text/x-python",
   "name": "python",
   "nbconvert_exporter": "python",
   "pygments_lexer": "ipython2",
   "version": "2.7.6"
  }
 },
 "nbformat": 4,
 "nbformat_minor": 5
}

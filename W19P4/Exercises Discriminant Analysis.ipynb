{
 "cells": [
  {
   "cell_type": "markdown",
   "source": [
    "# Exercises Discriminant Analysis"
   ],
   "metadata": {
    "collapsed": false
   },
   "id": "fc11ae5046d6cd48"
  },
  {
   "cell_type": "code",
   "outputs": [],
   "source": [],
   "metadata": {
    "collapsed": false,
    "ExecuteTime": {
     "end_time": "2024-04-17T10:23:15.643508Z",
     "start_time": "2024-04-17T10:23:15.632179Z"
    }
   },
   "id": "1796a7e3a7232f25",
   "execution_count": null
  },
  {
   "cell_type": "markdown",
   "source": [
    "## Theoretical questions"
   ],
   "metadata": {
    "collapsed": false
   },
   "id": "d66cd879508e8eb4"
  },
  {
   "cell_type": "markdown",
   "source": [
    "### Question 1:\n",
    "- Zoek in de Canvas-cursus de dataset `bordeaux` en plaats die in een dataframe.\n",
    "    - Pas een discriminantanalyse toe op deze data set waarbij quality als afhankelijke variabele optreedt en temperature, sun, heat en rain als de onafhankelijke variabelen.\n",
    "    - Hoeveel dimensies heeft de discriminantanalyse?\n",
    "    - Maak een plot van de resultaten van de discriminantanalyse. Wat wordt er hier gevisualiseerd?\n",
    "    - Pas het predict commando even toe op de oorspronkelijke gegevens. Hoeveel percent van de wijnen krijgen dezelfde label opgeplakt via de discriminantanalyse als geobserveerd?"
   ],
   "metadata": {
    "collapsed": false
   },
   "id": "8dcce8d70aac0bac"
  },
  {
   "cell_type": "code",
   "outputs": [],
   "source": [],
   "metadata": {
    "collapsed": false,
    "ExecuteTime": {
     "end_time": "2024-04-17T10:23:15.735690Z",
     "start_time": "2024-04-17T10:23:15.723881Z"
    }
   },
   "id": "d45ccf151811f954",
   "execution_count": null
  },
  {
   "cell_type": "markdown",
   "source": [
    "### Question 2:\n",
    "- Zoek in de Canvas-cursus de dataset `birthwt` en plaats die in een dataframe.\n",
    "    - Analyseer het type van gegevens in deze dataset.\n",
    "    - Welke kolommen kunnen er als afhankelijke variabele voor een discriminant analyse worden gebruikt?\n",
    "    - Welke kolommen kunnen er als onafhankelijke variabelen voor een discriminant analyse worden gebruikt?\n",
    "    - Pas een discriminantanalyse toe op deze data set (maakt gebruik van je keuzes hierboven).\n",
    "    - Hoeveel dimensies heeft de discriminantanalyse?\n",
    "    - Maak een plot van de resultaten van de discriminantanalyse.\n",
    "\n"
   ],
   "metadata": {
    "collapsed": false
   },
   "id": "3d07b7bd896afd9c"
  },
  {
   "cell_type": "code",
   "outputs": [],
   "source": [],
   "metadata": {
    "collapsed": false,
    "ExecuteTime": {
     "end_time": "2024-04-17T10:23:15.751245Z",
     "start_time": "2024-04-17T10:23:15.746550Z"
    }
   },
   "id": "c6a18b90edf1f951",
   "execution_count": null
  },
  {
   "cell_type": "markdown",
   "source": [
    "### Question 3:\n",
    "- Zoek op Canvas de dataset `Cars93` en plaats die in een dataframe.\n",
    "    - Analyseer de type van gegevens in deze dataset.\n",
    "    - Splits de data set in twee: de eerste 90 rijen als ‘leer data set’ waarom je een discriminant analyse gaat toepassen (zie e) en de laatste 3 rijen om na te gaan of de bekomen discriminant analyse deze auto’s in de juiste klasse plaatst (zie g).\n",
    "    - Welke kolommen kunnen er als afhankelijke variabele voor een discriminant analyse worden gebruikt?\n",
    "    - Welke kolommen kunnen er als onafhankelijke variabelen voor een discriminant analyse worden gebruikt?\n",
    "    - Pas een discriminantanalyse toe op deze data set. Neem als afhankelijke variabele de kolom Type en als onafhankelijke variabelen alle bruikbare kolommen (zie 4).\n",
    "    - Hoeveel dimensies heeft de discriminantanalyse?\n",
    "    - Pas de bekomen discriminantanalyse met behulp van predict-commando toe op de laatste 3 rijen van de oorspronkelijke gegevens (zie b). Worden alle 3 de wagens in de juiste klasse geplaatst?"
   ],
   "metadata": {
    "collapsed": false
   },
   "id": "921495f352a4d7dd"
  },
  {
   "cell_type": "code",
   "outputs": [],
   "source": [],
   "metadata": {
    "collapsed": false,
    "ExecuteTime": {
     "end_time": "2024-04-17T10:23:15.782239Z",
     "start_time": "2024-04-17T10:23:15.769394Z"
    }
   },
   "id": "7bb235ae95ef43d9",
   "execution_count": 0
  }
 ],
 "metadata": {
  "kernelspec": {
   "display_name": "Python 3",
   "language": "python",
   "name": "python3"
  },
  "language_info": {
   "codemirror_mode": {
    "name": "ipython",
    "version": 2
   },
   "file_extension": ".py",
   "mimetype": "text/x-python",
   "name": "python",
   "nbconvert_exporter": "python",
   "pygments_lexer": "ipython2",
   "version": "2.7.6"
  }
 },
 "nbformat": 4,
 "nbformat_minor": 5
}

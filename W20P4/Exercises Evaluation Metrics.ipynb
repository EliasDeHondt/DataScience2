{
 "cells": [
  {
   "cell_type": "markdown",
   "source": [
    "# Exercises Evaluation Metrics"
   ],
   "metadata": {
    "collapsed": false
   },
   "id": "fc11ae5046d6cd48"
  },
  {
   "cell_type": "code",
   "source": [
    "from random import Random  # type: ignore                                             # Random number generator\n",
    "import math  # type: ignore                                                           # Mathematical functions\n",
    "import pandas as pd  # type: ignore                                                   # Data manipulation\n",
    "import numpy as np  # type: ignore                                                    # Scientific computing\n",
    "import matplotlib.pyplot as plt  # type: ignore                                       # Data visualization\n",
    "from scipy.stats import binom as binomial  # type: ignore                             # Binomial distribution\n",
    "from scipy.stats import norm as normal  # type: ignore                                # Normal distribution\n",
    "from scipy.stats import poisson as poisson  # type: ignore                            # Poisson distribution\n",
    "from scipy.stats import t as student  # type: ignore                                  # Student distribution\n",
    "from scipy.stats import chi2  # type: ignore                                          # Chi-squared distribution\n",
    "from scipy.stats import ttest_1samp  # type: ignore                                   # One-sample t-test\n",
    "from scipy.stats import chisquare  # type: ignore                                     # Chi-squared test\n",
    "from scipy.special import comb  # type: ignore                                        # Combinations\n",
    "from mlxtend.frequent_patterns import apriori  # type: ignore                         # Apriori algorithm\n",
    "from mlxtend.frequent_patterns import fpgrowth  # type: ignore                        # FP-growth algorithm\n",
    "from mlxtend.frequent_patterns import association_rules  # type: ignore               # Association rules\n",
    "from mlxtend.preprocessing import TransactionEncoder  # type: ignore                  # Transaction encoder\n",
    "from sklearn.discriminant_analysis import LinearDiscriminantAnalysis  # type: ignore  # Discriminant Analysis\n",
    "from tensorflow import keras  # type: ignore                                          # Deep Learning library\n",
    "from tensorflow.keras import Model  # type: ignore                                    # Model class\n",
    "from tensorflow.keras.layers import Input, Dense, BatchNormalization  # type: ignore  # Layers\n",
    "from tensorflow.keras.utils import to_categorical  # type: ignore                     # One-hot encoding\n",
    "from tensorflow.keras.optimizers import Adam  # type: ignore                          # Optimizer\n",
    "from livelossplot import PlotLossesKeras  # type: ignore                              # Live plot\n",
    "from keras.src.optimizers import RMSprop  # type: ignore                              # Optimizer\n",
    "from sklearn.model_selection import train_test_split  # type: ignore                  # Train-test split\n",
    "from sklearn.metrics import roc_auc_score # type: ignore                              # ROC AUC score\n",
    "from simanneal import Annealer  # type: ignore                                        # Simulated Annealing\n",
    "from inspyred import ec  # type: ignore                                               # Evolutionary Computation\n",
    "import warnings  # type: ignore                                                       # Disable warnings\n",
    "from Resources.Functions import *  # type: ignore                                     # Custom functions"
   ],
   "metadata": {
    "collapsed": false,
    "ExecuteTime": {
     "end_time": "2024-05-28T10:22:57.617820Z",
     "start_time": "2024-05-28T10:22:57.604012Z"
    }
   },
   "id": "1796a7e3a7232f25",
   "outputs": [],
   "execution_count": 21
  },
  {
   "cell_type": "markdown",
   "source": [
    "## Theoretical questions\n",
    "> **Goal**: "
   ],
   "metadata": {
    "collapsed": false
   },
   "id": "d66cd879508e8eb4"
  },
  {
   "cell_type": "markdown",
   "source": [
    "### Question 1:\n",
    "- In the table below you will find the confusion matrix of a binary classifier.\n",
    "\n",
    "|            | Predicted YES | Predicted NO | Total |\n",
    "|------------|---------------|--------------|-------|\n",
    "| Actual YES | 100           | 5            | 105   |\n",
    "| Actual NO  | 10            | 50           | 60    |\n",
    "| Total      | 110           | 55           | 165   |\n",
    "\n",
    "- Now answer the following questions:\n",
    "     - What are the values for TP, TN, FP, FN?\n",
    "     - Now calculate the accuracy, precision and recall.\n",
    "     - Calculate the F1 and F1.5 measures.\n",
    "     - What is the TPR and FPR? Compare with your recall. What do you determine?"
   ],
   "metadata": {
    "collapsed": false
   },
   "id": "8dcce8d70aac0bac"
  },
  {
   "cell_type": "code",
   "source": [
    "# YES = Positive\n",
    "# NO = Negative\n",
    "confusion_matrix1 = pd.DataFrame(data=[[100, 5], [10, 50]], columns=['Predicted YES', 'Predicted NO'], index=['Actual YES', 'Actual NO'])\n",
    "display(confusion_matrix1)"
   ],
   "metadata": {
    "collapsed": false,
    "ExecuteTime": {
     "end_time": "2024-05-28T10:22:40.328535Z",
     "start_time": "2024-05-28T10:22:40.301162Z"
    }
   },
   "id": "75ae57120d7676d6",
   "outputs": [
    {
     "data": {
      "text/plain": [
       "            Predicted YES  Predicted NO\n",
       "Actual YES            100             5\n",
       "Actual NO              10            50"
      ],
      "text/html": [
       "<div>\n",
       "<style scoped>\n",
       "    .dataframe tbody tr th:only-of-type {\n",
       "        vertical-align: middle;\n",
       "    }\n",
       "\n",
       "    .dataframe tbody tr th {\n",
       "        vertical-align: top;\n",
       "    }\n",
       "\n",
       "    .dataframe thead th {\n",
       "        text-align: right;\n",
       "    }\n",
       "</style>\n",
       "<table border=\"1\" class=\"dataframe\">\n",
       "  <thead>\n",
       "    <tr style=\"text-align: right;\">\n",
       "      <th></th>\n",
       "      <th>Predicted YES</th>\n",
       "      <th>Predicted NO</th>\n",
       "    </tr>\n",
       "  </thead>\n",
       "  <tbody>\n",
       "    <tr>\n",
       "      <th>Actual YES</th>\n",
       "      <td>100</td>\n",
       "      <td>5</td>\n",
       "    </tr>\n",
       "    <tr>\n",
       "      <th>Actual NO</th>\n",
       "      <td>10</td>\n",
       "      <td>50</td>\n",
       "    </tr>\n",
       "  </tbody>\n",
       "</table>\n",
       "</div>"
      ]
     },
     "metadata": {},
     "output_type": "display_data"
    }
   ],
   "execution_count": 3
  },
  {
   "metadata": {
    "ExecuteTime": {
     "end_time": "2024-05-28T10:22:40.344311Z",
     "start_time": "2024-05-28T10:22:40.330364Z"
    }
   },
   "cell_type": "code",
   "source": [
    "# 1\n",
    "trueFalsef(confusion_matrix1, columnnb=0)"
   ],
   "id": "6e8a29fd9af9c784",
   "outputs": [
    {
     "name": "stdout",
     "output_type": "stream",
     "text": [
      "TP 100\n",
      "TN: 50\n",
      "FP: 10\n",
      "FN: 5\n"
     ]
    }
   ],
   "execution_count": 4
  },
  {
   "cell_type": "code",
   "source": [
    "# 2\n",
    "accuracy = accuracyf(confusion_matrix1)\n",
    "print(f\"Acuracy: {round(accuracy, 3)}\\n\")\n",
    "\n",
    "precision_yes = precisionf(confusion_matrix1)[0]\n",
    "print(f\"Precision YES: {round(precision_yes, 3)}\")\n",
    "precision_no = precisionf(confusion_matrix1)[1]\n",
    "print(f\"Precision NO: {round(precision_no, 3)}\\n\")\n",
    "\n",
    "recall_yes = recallf(confusion_matrix1)[0]\n",
    "print(f\"Recall YES: {round(recall_yes, 3)}\")\n",
    "recall_no = recallf(confusion_matrix1)[1]\n",
    "print(f\"Recall NO: {round(recall_no, 3)}\")"
   ],
   "metadata": {
    "collapsed": false,
    "ExecuteTime": {
     "end_time": "2024-05-28T10:22:40.360359Z",
     "start_time": "2024-05-28T10:22:40.346843Z"
    }
   },
   "id": "ab53a45d5868a47c",
   "outputs": [
    {
     "name": "stdout",
     "output_type": "stream",
     "text": [
      "Acuracy: 0.909\n",
      "\n",
      "Precision YES: 0.909\n",
      "Precision NO: 0.909\n",
      "\n",
      "Recall YES: 0.952\n",
      "Recall NO: 0.833\n"
     ]
    }
   ],
   "execution_count": 5
  },
  {
   "cell_type": "code",
   "source": [
    "# 3\n",
    "f1 = f_measuref(confusion_matrix1, 1)[0] # Beta = 1\n",
    "print(f\"F1 YES: {round(f1, 3)}\")\n",
    "f1 = f_measuref(confusion_matrix1, 1)[1] # Beta = 1\n",
    "print(f\"F1 NO: {round(f1, 3)}\")"
   ],
   "metadata": {
    "collapsed": false,
    "ExecuteTime": {
     "end_time": "2024-05-28T10:22:40.375595Z",
     "start_time": "2024-05-28T10:22:40.362212Z"
    }
   },
   "id": "7ded465170abb8bf",
   "outputs": [
    {
     "name": "stdout",
     "output_type": "stream",
     "text": [
      "F1 YES: 0.93\n",
      "F1 NO: 0.87\n"
     ]
    }
   ],
   "execution_count": 6
  },
  {
   "cell_type": "code",
   "source": [
    "# 4\n",
    "# TPR = Recall = TP / (TP + FN)\n",
    "# FPR = FP / (FP + TN)\n",
    "positiveratesf(confusion_matrix1)\n",
    "\n",
    "print(\"\\n(EN) -> The difference between recall and TPR is that recall is the ratio of the correctly predicted positive observations to the all observations in actual class and TPR is the ratio of the correctly predicted positive observations to the all observations in predicted class.\")\n",
    "print(\"\\n(NL) -> Het verschil tussen recall en TPR is dat recall de verhouding is van de correct voorspelde positieve observaties tot alle observaties in de werkelijke klasse en TPR is de verhouding van de correct voorspelde positieve observaties tot alle observaties in de voorspelde klasse.\")"
   ],
   "metadata": {
    "collapsed": false,
    "ExecuteTime": {
     "end_time": "2024-05-28T10:22:40.391992Z",
     "start_time": "2024-05-28T10:22:40.377126Z"
    }
   },
   "id": "ef563535e8376ffc",
   "outputs": [
    {
     "name": "stdout",
     "output_type": "stream",
     "text": [
      "TPR 0.9523809523809523\n",
      "FPR 0.16666666666666666\n",
      "\n",
      "(EN) -> The difference between recall and TPR is that recall is the ratio of the correctly predicted positive observations to the all observations in actual class and TPR is the ratio of the correctly predicted positive observations to the all observations in predicted class.\n",
      "\n",
      "(NL) -> Het verschil tussen recall en TPR is dat recall de verhouding is van de correct voorspelde positieve observaties tot alle observaties in de werkelijke klasse en TPR is de verhouding van de correct voorspelde positieve observaties tot alle observaties in de voorspelde klasse.\n"
     ]
    }
   ],
   "execution_count": 7
  },
  {
   "cell_type": "markdown",
   "source": [
    "### Question 2:\n",
    "- In the table below you will find the confusion matrix of a binary classifier.\n",
    "\n",
    "|            | Predicted YES | Predicted NO | Total |\n",
    "|------------|---------------|--------------|-------|\n",
    "| Actual A   | 100           | 0            | 100   |\n",
    "| Actual B   | 50            | 5            | 55    |\n",
    "| Total      | 150           | 5            | 155   |\n",
    "\n",
    "- Now answer the following questions:\n",
    "     - What are the values for TP, TN, FP, FN?\n",
    "     - Calculate the accuracy, precision and recall, and F1 with your own Python functions.\n",
    "     - Is this a good classifier?\n"
   ],
   "metadata": {
    "collapsed": false
   },
   "id": "3d07b7bd896afd9c"
  },
  {
   "cell_type": "code",
   "source": [
    "# YES = Positive\n",
    "# NO = Negative\n",
    "confusion_matrix2 = pd.DataFrame(data=[[100, 0], [50, 5]], columns=['Predicted YES', 'Predicted NO'], index=['Actual A', 'Actual B'])\n",
    "\n",
    "display(confusion_matrix2)"
   ],
   "metadata": {
    "collapsed": false,
    "ExecuteTime": {
     "end_time": "2024-05-28T10:22:40.408072Z",
     "start_time": "2024-05-28T10:22:40.393175Z"
    }
   },
   "id": "82a1ff92b3680ff9",
   "outputs": [
    {
     "data": {
      "text/plain": [
       "          Predicted YES  Predicted NO\n",
       "Actual A            100             0\n",
       "Actual B             50             5"
      ],
      "text/html": [
       "<div>\n",
       "<style scoped>\n",
       "    .dataframe tbody tr th:only-of-type {\n",
       "        vertical-align: middle;\n",
       "    }\n",
       "\n",
       "    .dataframe tbody tr th {\n",
       "        vertical-align: top;\n",
       "    }\n",
       "\n",
       "    .dataframe thead th {\n",
       "        text-align: right;\n",
       "    }\n",
       "</style>\n",
       "<table border=\"1\" class=\"dataframe\">\n",
       "  <thead>\n",
       "    <tr style=\"text-align: right;\">\n",
       "      <th></th>\n",
       "      <th>Predicted YES</th>\n",
       "      <th>Predicted NO</th>\n",
       "    </tr>\n",
       "  </thead>\n",
       "  <tbody>\n",
       "    <tr>\n",
       "      <th>Actual A</th>\n",
       "      <td>100</td>\n",
       "      <td>0</td>\n",
       "    </tr>\n",
       "    <tr>\n",
       "      <th>Actual B</th>\n",
       "      <td>50</td>\n",
       "      <td>5</td>\n",
       "    </tr>\n",
       "  </tbody>\n",
       "</table>\n",
       "</div>"
      ]
     },
     "metadata": {},
     "output_type": "display_data"
    }
   ],
   "execution_count": 8
  },
  {
   "metadata": {
    "ExecuteTime": {
     "end_time": "2024-05-28T10:22:40.423610Z",
     "start_time": "2024-05-28T10:22:40.410099Z"
    }
   },
   "cell_type": "code",
   "source": [
    "# 1\n",
    "trueFalsef(confusion_matrix2, columnnb=0)"
   ],
   "id": "cc1453c015f4b4ea",
   "outputs": [
    {
     "name": "stdout",
     "output_type": "stream",
     "text": [
      "TP 100\n",
      "TN: 5\n",
      "FP: 50\n",
      "FN: 0\n"
     ]
    }
   ],
   "execution_count": 9
  },
  {
   "cell_type": "code",
   "source": [
    "# 2\n",
    "accuracy = accuracyf(confusion_matrix2)\n",
    "print(f\"Acuracy: {round(accuracy, 3)}\\n\")\n",
    "\n",
    "precision_yes = precisionf(confusion_matrix2)[0]\n",
    "print(f\"Precision YES: {round(precision_yes, 3)}\")\n",
    "precision_no = precisionf(confusion_matrix2)[1]\n",
    "print(f\"Precision NO: {round(precision_no, 3)}\\n\")\n",
    "\n",
    "recall_a = recallf(confusion_matrix2)[0]\n",
    "print(f\"Recall A: {round(recall_a, 3)}\")\n",
    "recall_b = recallf(confusion_matrix2)[1]\n",
    "print(f\"Recall B: {round(recall_b, 3)}\\n\")\n",
    "\n",
    "f1 = f_measuref(confusion_matrix2, 1)[0] # Beta = 1\n",
    "print(f\"F1 YES: {round(f1, 3)}\")\n",
    "f1 = f_measuref(confusion_matrix2, 1)[1] # Beta = 1\n",
    "print(f\"F1 NO: {round(f1, 3)}\")"
   ],
   "metadata": {
    "collapsed": false,
    "ExecuteTime": {
     "end_time": "2024-05-28T10:22:40.439300Z",
     "start_time": "2024-05-28T10:22:40.424823Z"
    }
   },
   "id": "2cb4672d272844b1",
   "outputs": [
    {
     "name": "stdout",
     "output_type": "stream",
     "text": [
      "Acuracy: 0.677\n",
      "\n",
      "Precision YES: 0.667\n",
      "Precision NO: 1.0\n",
      "\n",
      "Recall A: 1.0\n",
      "Recall B: 0.091\n",
      "\n",
      "F1 YES: 0.8\n",
      "F1 NO: 0.167\n"
     ]
    }
   ],
   "execution_count": 10
  },
  {
   "metadata": {
    "ExecuteTime": {
     "end_time": "2024-05-28T10:22:40.454800Z",
     "start_time": "2024-05-28T10:22:40.443238Z"
    }
   },
   "cell_type": "code",
   "source": [
    "# 3\n",
    "evaluate_classifier(confusion_matrix2, beta=1, threshold=0.9)"
   ],
   "id": "19ccdb14613858a6",
   "outputs": [
    {
     "name": "stdout",
     "output_type": "stream",
     "text": [
      "This is a bad classifier with a threshold of 0.9\n"
     ]
    }
   ],
   "execution_count": 11
  },
  {
   "cell_type": "markdown",
   "source": [
    "### Question 3:\n",
    "- In the table below you will find the confusion matrix of a multiclass classifier.\n",
    "\n",
    "|            | Asfalt | Beton | Gras | Boom | Gebouw | Total |\n",
    "|------------|--------|-------|------|------|--------|-------|\n",
    "| Asfalt     | 2385   | 0     | 0    | 0    | 12     | 2397  |\n",
    "| Beton      | 4      | 332   | 1    | 0    | 0      | 337   |\n",
    "| Gras       | 0      | 0     | 908  | 0    | 0      | 908   |\n",
    "| Boom       | 1      | 0     | 8    | 1084 | 6      | 1099  |\n",
    "| Gebouw     | 4      | 1     | 0    | 9    | 2053   | 2067  |\n",
    "| Total      | 2394   | 333   | 917  | 1093 | 2071   | 6808  |\n",
    "\n",
    "- Beantwoord nu de volgende vragen:\n",
    "    - What are the values for TP, FP, FN for the Grass class?\n",
    "    - Now calculate the accuracy, precision and recall per class with these functions.\n",
    "    - Is this a good classifier?\n"
   ],
   "metadata": {
    "collapsed": false
   },
   "id": "921495f352a4d7dd"
  },
  {
   "cell_type": "code",
   "source": [
    "confusion_matrix3 = pd.DataFrame(data=[[2385, 0, 0, 0, 12], [4, 332, 1, 0, 0], [0, 0, 908, 0, 0], [1, 0, 8, 1084, 6], [4, 1, 0, 9, 2053]], columns=['Asfalt', 'Beton', 'Gras', 'Boom', 'Gebouw'], index=['Asfalt', 'Beton', 'Gras', 'Boom', 'Gebouw'])\n",
    "\n",
    "display(confusion_matrix3)"
   ],
   "metadata": {
    "collapsed": false,
    "ExecuteTime": {
     "end_time": "2024-05-28T10:22:40.470222Z",
     "start_time": "2024-05-28T10:22:40.455982Z"
    }
   },
   "id": "91920bf20083163c",
   "outputs": [
    {
     "data": {
      "text/plain": [
       "        Asfalt  Beton  Gras  Boom  Gebouw\n",
       "Asfalt    2385      0     0     0      12\n",
       "Beton        4    332     1     0       0\n",
       "Gras         0      0   908     0       0\n",
       "Boom         1      0     8  1084       6\n",
       "Gebouw       4      1     0     9    2053"
      ],
      "text/html": [
       "<div>\n",
       "<style scoped>\n",
       "    .dataframe tbody tr th:only-of-type {\n",
       "        vertical-align: middle;\n",
       "    }\n",
       "\n",
       "    .dataframe tbody tr th {\n",
       "        vertical-align: top;\n",
       "    }\n",
       "\n",
       "    .dataframe thead th {\n",
       "        text-align: right;\n",
       "    }\n",
       "</style>\n",
       "<table border=\"1\" class=\"dataframe\">\n",
       "  <thead>\n",
       "    <tr style=\"text-align: right;\">\n",
       "      <th></th>\n",
       "      <th>Asfalt</th>\n",
       "      <th>Beton</th>\n",
       "      <th>Gras</th>\n",
       "      <th>Boom</th>\n",
       "      <th>Gebouw</th>\n",
       "    </tr>\n",
       "  </thead>\n",
       "  <tbody>\n",
       "    <tr>\n",
       "      <th>Asfalt</th>\n",
       "      <td>2385</td>\n",
       "      <td>0</td>\n",
       "      <td>0</td>\n",
       "      <td>0</td>\n",
       "      <td>12</td>\n",
       "    </tr>\n",
       "    <tr>\n",
       "      <th>Beton</th>\n",
       "      <td>4</td>\n",
       "      <td>332</td>\n",
       "      <td>1</td>\n",
       "      <td>0</td>\n",
       "      <td>0</td>\n",
       "    </tr>\n",
       "    <tr>\n",
       "      <th>Gras</th>\n",
       "      <td>0</td>\n",
       "      <td>0</td>\n",
       "      <td>908</td>\n",
       "      <td>0</td>\n",
       "      <td>0</td>\n",
       "    </tr>\n",
       "    <tr>\n",
       "      <th>Boom</th>\n",
       "      <td>1</td>\n",
       "      <td>0</td>\n",
       "      <td>8</td>\n",
       "      <td>1084</td>\n",
       "      <td>6</td>\n",
       "    </tr>\n",
       "    <tr>\n",
       "      <th>Gebouw</th>\n",
       "      <td>4</td>\n",
       "      <td>1</td>\n",
       "      <td>0</td>\n",
       "      <td>9</td>\n",
       "      <td>2053</td>\n",
       "    </tr>\n",
       "  </tbody>\n",
       "</table>\n",
       "</div>"
      ]
     },
     "metadata": {},
     "output_type": "display_data"
    }
   ],
   "execution_count": 12
  },
  {
   "metadata": {
    "ExecuteTime": {
     "end_time": "2024-05-28T10:22:40.493055Z",
     "start_time": "2024-05-28T10:22:40.471605Z"
    }
   },
   "cell_type": "code",
   "source": [
    "# 1\n",
    "trueFalsef(confusion_matrix3, columnnb=2)"
   ],
   "id": "d57715110e1ab42e",
   "outputs": [
    {
     "name": "stdout",
     "output_type": "stream",
     "text": [
      "TP 908\n",
      "TN: 5854\n",
      "FP: 9\n",
      "FN: 0\n"
     ]
    }
   ],
   "execution_count": 13
  },
  {
   "cell_type": "code",
   "source": [
    "# 2\n",
    "accuracy = accuracyf(confusion_matrix3)\n",
    "print(f\"Acuracy: {round(accuracy, 3)}\\n\")\n",
    "\n",
    "precision_asfalt = precisionf(confusion_matrix3)[0]\n",
    "print(f\"Precision Asfalt: {round(precision_asfalt, 3)}\")\n",
    "precision_beton = precisionf(confusion_matrix3)[1]\n",
    "print(f\"Precision Beton: {round(precision_beton, 3)}\")\n",
    "precision_gras = precisionf(confusion_matrix3)[2]\n",
    "print(f\"Precision Gras: {round(precision_gras, 3)}\")\n",
    "precision_boom = precisionf(confusion_matrix3)[3]\n",
    "print(f\"Precision Boom: {round(precision_boom, 3)}\")\n",
    "precision_gebouw = precisionf(confusion_matrix3)[4]\n",
    "print(f\"Precision Gebouw: {round(precision_gebouw, 3)}\\n\")\n",
    "\n",
    "recall_asfalt = recallf(confusion_matrix3)[0]\n",
    "print(f\"Recall Asfalt: {round(recall_asfalt, 3)}\")\n",
    "recall_beton = recallf(confusion_matrix3)[1]\n",
    "print(f\"Recall Beton: {round(recall_beton, 3)}\")\n",
    "recall_gras = recallf(confusion_matrix3)[2]\n",
    "print(f\"Recall Gras: {round(recall_gras, 3)}\")\n",
    "recall_boom = recallf(confusion_matrix3)[3]\n",
    "print(f\"Recall Boom: {round(recall_boom, 3)}\")\n",
    "recall_gebouw = recallf(confusion_matrix3)[4]\n",
    "print(f\"Recall Gebouw: {round(recall_gebouw, 3)}\\n\")\n",
    "\n",
    "f1 = f_measuref(confusion_matrix3, 1)[0] # Beta = 1\n",
    "print(f\"F1 Asfalt: {round(f1, 3)}\")\n",
    "f1 = f_measuref(confusion_matrix3, 1)[1] # Beta = 1\n",
    "print(f\"F1 Beton: {round(f1, 3)}\")\n",
    "f1 = f_measuref(confusion_matrix3, 1)[2] # Beta = 1\n",
    "print(f\"F1 Gras: {round(f1, 3)}\")\n",
    "f1 = f_measuref(confusion_matrix3, 1)[3] # Beta = 1\n",
    "print(f\"F1 Boom: {round(f1, 3)}\")\n",
    "f1 = f_measuref(confusion_matrix3, 1)[4] # Beta = 1\n",
    "print(f\"F1 Gebouw: {round(f1, 3)}\")"
   ],
   "metadata": {
    "collapsed": false,
    "ExecuteTime": {
     "end_time": "2024-05-28T10:22:40.517410Z",
     "start_time": "2024-05-28T10:22:40.495445Z"
    }
   },
   "id": "c8fb773b1095ee86",
   "outputs": [
    {
     "name": "stdout",
     "output_type": "stream",
     "text": [
      "Acuracy: 0.993\n",
      "\n",
      "Precision Asfalt: 0.996\n",
      "Precision Beton: 0.997\n",
      "Precision Gras: 0.99\n",
      "Precision Boom: 0.992\n",
      "Precision Gebouw: 0.991\n",
      "\n",
      "Recall Asfalt: 0.995\n",
      "Recall Beton: 0.985\n",
      "Recall Gras: 1.0\n",
      "Recall Boom: 0.986\n",
      "Recall Gebouw: 0.993\n",
      "\n",
      "F1 Asfalt: 0.996\n",
      "F1 Beton: 0.991\n",
      "F1 Gras: 0.995\n",
      "F1 Boom: 0.989\n",
      "F1 Gebouw: 0.992\n"
     ]
    }
   ],
   "execution_count": 14
  },
  {
   "cell_type": "code",
   "source": [
    "# 3\n",
    "evaluate_classifier(confusion_matrix3, beta=1, threshold=0.9)"
   ],
   "metadata": {
    "collapsed": false,
    "ExecuteTime": {
     "end_time": "2024-05-28T10:22:40.533023Z",
     "start_time": "2024-05-28T10:22:40.519263Z"
    }
   },
   "id": "b814c2e4632856e9",
   "outputs": [
    {
     "name": "stdout",
     "output_type": "stream",
     "text": [
      "This is a good classifier with a threshold of 0.9\n"
     ]
    }
   ],
   "execution_count": 15
  },
  {
   "cell_type": "markdown",
   "source": [
    "### Question 4:\n",
    "- Read the data in the file `simpsons_roc1` & `simpsons_roc2`. Do you notice any differences?\n",
    "     - Use the `plot_roc` function to draw the ROC curve.\n",
    "     - What is the best threshold value?\n",
    "     - What is the AUC? What does it mean?\n",
    "    - Apply the found threshold value to the `y_score` column (this column contains the results of a neural network predict_proba function) to create a new predicted column.\n"
   ],
   "metadata": {
    "collapsed": false
   },
   "id": "5392d59b1c3e2763"
  },
  {
   "metadata": {
    "ExecuteTime": {
     "end_time": "2024-05-28T10:22:40.564438Z",
     "start_time": "2024-05-28T10:22:40.535014Z"
    }
   },
   "cell_type": "code",
   "source": [
    "simpsons_roc1 = pd.read_csv('../Data/Simpsons_roc1.csv', delimiter=',', decimal='.')\n",
    "display(simpsons_roc1)\n",
    "\n",
    "simpsons_roc2 = pd.read_csv('../Data/Simpsons_roc2.csv', delimiter=',', decimal='.')\n",
    "display(simpsons_roc2)"
   ],
   "id": "7f37564515fdbc77",
   "outputs": [
    {
     "data": {
      "text/plain": [
       "   y_true   y_score\n",
       "0       0  0.001611\n",
       "1       1  0.568856\n",
       "2       0  0.224951\n",
       "3       1  0.678186\n",
       "4       1  0.780744\n",
       "5       0  0.030405\n",
       "6       1  0.431997\n",
       "7       0  0.346567\n",
       "8       0  0.102228"
      ],
      "text/html": [
       "<div>\n",
       "<style scoped>\n",
       "    .dataframe tbody tr th:only-of-type {\n",
       "        vertical-align: middle;\n",
       "    }\n",
       "\n",
       "    .dataframe tbody tr th {\n",
       "        vertical-align: top;\n",
       "    }\n",
       "\n",
       "    .dataframe thead th {\n",
       "        text-align: right;\n",
       "    }\n",
       "</style>\n",
       "<table border=\"1\" class=\"dataframe\">\n",
       "  <thead>\n",
       "    <tr style=\"text-align: right;\">\n",
       "      <th></th>\n",
       "      <th>y_true</th>\n",
       "      <th>y_score</th>\n",
       "    </tr>\n",
       "  </thead>\n",
       "  <tbody>\n",
       "    <tr>\n",
       "      <th>0</th>\n",
       "      <td>0</td>\n",
       "      <td>0.001611</td>\n",
       "    </tr>\n",
       "    <tr>\n",
       "      <th>1</th>\n",
       "      <td>1</td>\n",
       "      <td>0.568856</td>\n",
       "    </tr>\n",
       "    <tr>\n",
       "      <th>2</th>\n",
       "      <td>0</td>\n",
       "      <td>0.224951</td>\n",
       "    </tr>\n",
       "    <tr>\n",
       "      <th>3</th>\n",
       "      <td>1</td>\n",
       "      <td>0.678186</td>\n",
       "    </tr>\n",
       "    <tr>\n",
       "      <th>4</th>\n",
       "      <td>1</td>\n",
       "      <td>0.780744</td>\n",
       "    </tr>\n",
       "    <tr>\n",
       "      <th>5</th>\n",
       "      <td>0</td>\n",
       "      <td>0.030405</td>\n",
       "    </tr>\n",
       "    <tr>\n",
       "      <th>6</th>\n",
       "      <td>1</td>\n",
       "      <td>0.431997</td>\n",
       "    </tr>\n",
       "    <tr>\n",
       "      <th>7</th>\n",
       "      <td>0</td>\n",
       "      <td>0.346567</td>\n",
       "    </tr>\n",
       "    <tr>\n",
       "      <th>8</th>\n",
       "      <td>0</td>\n",
       "      <td>0.102228</td>\n",
       "    </tr>\n",
       "  </tbody>\n",
       "</table>\n",
       "</div>"
      ]
     },
     "metadata": {},
     "output_type": "display_data"
    },
    {
     "data": {
      "text/plain": [
       "   y_true       y_score\n",
       "0       0  2.877834e-10\n",
       "1       1  7.970729e-01\n",
       "2       0  2.533495e-03\n",
       "3       1  9.756606e-01\n",
       "4       1  9.971678e-01\n",
       "5       0  2.030402e-02\n",
       "6       1  5.763744e-01\n",
       "7       0  1.594006e-01\n",
       "8       0  1.794845e-03"
      ],
      "text/html": [
       "<div>\n",
       "<style scoped>\n",
       "    .dataframe tbody tr th:only-of-type {\n",
       "        vertical-align: middle;\n",
       "    }\n",
       "\n",
       "    .dataframe tbody tr th {\n",
       "        vertical-align: top;\n",
       "    }\n",
       "\n",
       "    .dataframe thead th {\n",
       "        text-align: right;\n",
       "    }\n",
       "</style>\n",
       "<table border=\"1\" class=\"dataframe\">\n",
       "  <thead>\n",
       "    <tr style=\"text-align: right;\">\n",
       "      <th></th>\n",
       "      <th>y_true</th>\n",
       "      <th>y_score</th>\n",
       "    </tr>\n",
       "  </thead>\n",
       "  <tbody>\n",
       "    <tr>\n",
       "      <th>0</th>\n",
       "      <td>0</td>\n",
       "      <td>2.877834e-10</td>\n",
       "    </tr>\n",
       "    <tr>\n",
       "      <th>1</th>\n",
       "      <td>1</td>\n",
       "      <td>7.970729e-01</td>\n",
       "    </tr>\n",
       "    <tr>\n",
       "      <th>2</th>\n",
       "      <td>0</td>\n",
       "      <td>2.533495e-03</td>\n",
       "    </tr>\n",
       "    <tr>\n",
       "      <th>3</th>\n",
       "      <td>1</td>\n",
       "      <td>9.756606e-01</td>\n",
       "    </tr>\n",
       "    <tr>\n",
       "      <th>4</th>\n",
       "      <td>1</td>\n",
       "      <td>9.971678e-01</td>\n",
       "    </tr>\n",
       "    <tr>\n",
       "      <th>5</th>\n",
       "      <td>0</td>\n",
       "      <td>2.030402e-02</td>\n",
       "    </tr>\n",
       "    <tr>\n",
       "      <th>6</th>\n",
       "      <td>1</td>\n",
       "      <td>5.763744e-01</td>\n",
       "    </tr>\n",
       "    <tr>\n",
       "      <th>7</th>\n",
       "      <td>0</td>\n",
       "      <td>1.594006e-01</td>\n",
       "    </tr>\n",
       "    <tr>\n",
       "      <th>8</th>\n",
       "      <td>0</td>\n",
       "      <td>1.794845e-03</td>\n",
       "    </tr>\n",
       "  </tbody>\n",
       "</table>\n",
       "</div>"
      ]
     },
     "metadata": {},
     "output_type": "display_data"
    }
   ],
   "execution_count": 16
  },
  {
   "cell_type": "code",
   "source": [
    "# 1 Simpsons_roc1\n",
    "plot_rocf(y_true=simpsons_roc1['y_true'], y_score=simpsons_roc1['y_score'], title='ROC Curve Simpsons ROC1')\n",
    "\n",
    "# 1 Simpsons_roc2\n",
    "plot_rocf(y_true=simpsons_roc2['y_true'], y_score=simpsons_roc2['y_score'], title='ROC Curve Simpsons ROC2')"
   ],
   "metadata": {
    "collapsed": false,
    "ExecuteTime": {
     "end_time": "2024-05-28T10:22:40.999115Z",
     "start_time": "2024-05-28T10:22:40.566369Z"
    }
   },
   "id": "23b1b14b5160e258",
   "outputs": [
    {
     "data": {
      "text/plain": [
       "<Figure size 700x700 with 1 Axes>"
      ],
      "image/png": "[encoded data removed]"
     },
     "metadata": {},
     "output_type": "display_data"
    },
    {
     "data": {
      "text/plain": [
       "<Figure size 700x700 with 1 Axes>"
      ],
      "image/png": "[encoded data removed]"
     },
     "metadata": {},
     "output_type": "display_data"
    }
   ],
   "execution_count": 17
  },
  {
   "cell_type": "code",
   "source": [
    "# 2 Simpsons_roc1\n",
    "best_threshold1 = find_best_threshold(simpsons_roc1['y_true'], simpsons_roc1['y_score'])\n",
    "print(\"Beste drempelwaarde voor simpsons_roc1:\", best_threshold1)\n",
    "\n",
    "# 2 Simpsons_roc2\n",
    "best_threshold2 = find_best_threshold(simpsons_roc2['y_true'], simpsons_roc2['y_score'])\n",
    "print(\"Beste drempelwaarde voor simpsons_roc2:\", best_threshold2)"
   ],
   "metadata": {
    "collapsed": false,
    "ExecuteTime": {
     "end_time": "2024-05-28T10:22:41.013861Z",
     "start_time": "2024-05-28T10:22:41.001272Z"
    }
   },
   "id": "315862836c7d3074",
   "outputs": [
    {
     "name": "stdout",
     "output_type": "stream",
     "text": [
      "Beste drempelwaarde voor simpsons_roc1: 0.4319972097873688\n",
      "Beste drempelwaarde voor simpsons_roc2: 0.576374351978302\n"
     ]
    }
   ],
   "execution_count": 18
  },
  {
   "cell_type": "code",
   "source": [
    "# 3 Simpsons_roc1\n",
    "auc_score1 = roc_auc_score(simpsons_roc1['y_true'], simpsons_roc1['y_score'])\n",
    "print(\"AUC voor simpsons_roc1:\", auc_score1)\n",
    "\n",
    "# 3 Simpsons_roc2\n",
    "auc_score2 = roc_auc_score(simpsons_roc2['y_true'], simpsons_roc2['y_score'])\n",
    "print(\"AUC voor simpsons_roc2:\", auc_score2)"
   ],
   "metadata": {
    "collapsed": false,
    "ExecuteTime": {
     "end_time": "2024-05-28T10:22:49.584647Z",
     "start_time": "2024-05-28T10:22:49.571662Z"
    }
   },
   "id": "a650a1fddeca1eee",
   "outputs": [
    {
     "name": "stdout",
     "output_type": "stream",
     "text": [
      "AUC voor simpsons_roc1: 1.0\n",
      "AUC voor simpsons_roc2: 1.0\n"
     ]
    }
   ],
   "execution_count": 20
  },
  {
   "cell_type": "code",
   "source": [
    "# 4 Simpsons_roc1\n",
    "simpsons_roc1['y_pred'] = simpsons_roc1['y_score'].apply(lambda x: 1 if x > best_threshold1 else 0)\n",
    "display(simpsons_roc1)\n",
    "\n",
    "# 4 Simpsons_roc2\n",
    "simpsons_roc2['y_pred'] = simpsons_roc2['y_score'].apply(lambda x: 1 if x > best_threshold2 else 0)\n",
    "display(simpsons_roc2)"
   ],
   "metadata": {
    "collapsed": false
   },
   "id": "6eb9f8ea287c9a58",
   "outputs": [],
   "execution_count": null
  },
  {
   "cell_type": "markdown",
   "source": [
    "### Question 5:\n",
    "- Two linear discriminant analysis models were built with the dataset infert. The results of the predictions can be found in the files `Education_roc1.csv` and `Education_roc2.csv`.\n",
    "    - Load both datasets.\n",
    "    - Use the `plot_roc` function to plot both ROC curves. For both data sets, use column `6-11yrs` as the `y-score` and transform the column `y_true` into 1 for the values `6-11yrs` and a 0 for the other values.\n",
    "    - What is the best threshold value for each of the ROC curves?\n",
    "    - Which model do you prefer?"
   ],
   "metadata": {
    "collapsed": false
   },
   "id": "a0d85bde4076d612"
  },
  {
   "cell_type": "code",
   "source": [
    "# 1 Education_roc1\n",
    "education_roc1 = pd.read_csv('../Data/Education_roc1.csv', delimiter=',', decimal='.')\n",
    "display(education_roc1.head())\n",
    "\n",
    "# 1 Education_roc2\n",
    "education_roc2 = pd.read_csv('../Data/Education_roc2.csv', delimiter=',', decimal='.')\n",
    "display(education_roc2.head())"
   ],
   "metadata": {
    "collapsed": false
   },
   "id": "db3e2d73e1206a1c",
   "outputs": [],
   "execution_count": null
  },
  {
   "cell_type": "code",
   "source": [
    "# 2 Education_roc1\n",
    "y_true1 = education_roc1['y_true'].apply(lambda x: 1 if x == \"6-11yrs\" else 0)\n",
    "y_score1 = education_roc1['6-11yrs']\n",
    "plot_rocf(y_true=y_true1, y_score=y_score1, title='ROC Curve Education ROC1')\n",
    "\n",
    "# 2 Education_roc2\n",
    "y_true2 = education_roc2['y_true'].apply(lambda x: 1 if x == \"6-11yrs\" else 0)\n",
    "y_score2 = education_roc2['6-11yrs']\n",
    "plot_rocf(y_true=y_true2, y_score=y_score2, title='ROC Curve Education ROC2')"
   ],
   "metadata": {
    "collapsed": false
   },
   "id": "171c8153a9645b8b",
   "outputs": [],
   "execution_count": null
  },
  {
   "cell_type": "code",
   "source": [
    "# 3 Education_roc1\n",
    "best_threshold1 = find_best_threshold(y_true1, y_score1)\n",
    "print(\"Beste drempelwaarde voor Education_roc1:\", best_threshold1)\n",
    "\n",
    "# 3 Education_roc2\n",
    "best_threshold2 = find_best_threshold(y_true2, y_score2)\n",
    "print(\"Beste drempelwaarde voor Education_roc2:\", best_threshold2)"
   ],
   "metadata": {
    "collapsed": false
   },
   "id": "b03ea2bd3d07661f",
   "outputs": [],
   "execution_count": null
  },
  {
   "cell_type": "code",
   "source": "print(\"The AUC for Education_roc2 1.0 is higher than the AUC for Education_roc1 0.69~. Therefore, I prefer the model of Education_roc2.\")",
   "metadata": {
    "collapsed": false
   },
   "id": "d181350002dc41a7",
   "outputs": [],
   "execution_count": null
  }
 ],
 "metadata": {
  "kernelspec": {
   "display_name": "Python 3",
   "language": "python",
   "name": "python3"
  },
  "language_info": {
   "codemirror_mode": {
    "name": "ipython",
    "version": 2
   },
   "file_extension": ".py",
   "mimetype": "text/x-python",
   "name": "python",
   "nbconvert_exporter": "python",
   "pygments_lexer": "ipython2",
   "version": "2.7.6"
  }
 },
 "nbformat": 4,
 "nbformat_minor": 5
}

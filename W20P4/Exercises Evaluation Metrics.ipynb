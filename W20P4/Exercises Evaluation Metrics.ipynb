{
 "cells": [
  {
   "cell_type": "markdown",
   "source": [
    "# Exercises Evaluation Metrics"
   ],
   "metadata": {
    "collapsed": false
   },
   "id": "fc11ae5046d6cd48"
  },
  {
   "cell_type": "code",
   "outputs": [],
   "source": [
    "import pandas as pd                                                     # Data manipulation\n",
    "import numpy as np                                                      # Scientific computing\n",
    "import matplotlib.pyplot as plt                                         # Data visualization\n",
    "from sklearn.discriminant_analysis import LinearDiscriminantAnalysis    # Discriminant Analysis\n"
   ],
   "metadata": {
    "collapsed": false,
    "ExecuteTime": {
     "end_time": "2024-04-21T08:52:10.191446Z",
     "start_time": "2024-04-21T08:52:10.181434Z"
    }
   },
   "id": "1796a7e3a7232f25",
   "execution_count": 2
  },
  {
   "cell_type": "markdown",
   "source": [
    "## Theoretical questions"
   ],
   "metadata": {
    "collapsed": false
   },
   "id": "d66cd879508e8eb4"
  },
  {
   "cell_type": "markdown",
   "source": [
    "### Question 1:\n",
    "- We willen gaan voorspellen of studenten heel gemotiveerd zijn om een diploma Toegepaste Informatica te behalen.\n",
    "    - De onafhankelijke gegevens (de voorspellers) zijn \"het aantal broers en/of zussen\", \"aantal samenzweringen\" en \"het aantal uren wiskunde\". Plaats de onafhankelijke variabelen in een nieuw dataframe met naam df en zorg ervoor dat de waarden van de voorspellers numeriek zijn en dat eventueel onrealistische gegevens worden omgezet in nan-waarden.\n",
    "    - In de vragenlijst wil je het \"belang van informatica\" gaan voorspellen. Dit is een ordinaal gegeven dat je zal moeten reduceren tot twee mogelijke waarden: alles gelijk of meer dan \"groot\" is \"groot\", alles kleiner is \"matig\". Voeg het resultaat als een kolom toe aan het dataframe df.\n",
    "    - Gebruik lineaire discriminant analyse als model om de afhankelijke variabele \"belang van Informatica\" te voorspellen met behulp van de onafhankelijke variabelen (voorspellers). Maak de voorspellingen voor de beschikbare gegevens.\n",
    "    - Bestudeer de resultaten van de evaluatie metrieken:\n",
    "        - Maak de confusion matrix\n",
    "        - Bereken de accuracy, precision, recall en F1\n",
    "        - Maak de ROC-curve"
   ],
   "metadata": {
    "collapsed": false
   },
   "id": "8302daa62617938d"
  },
  {
   "cell_type": "code",
   "outputs": [
    {
     "data": {
      "text/plain": "  gapminder schrijfhand  schoenmaat  lengte    bloedgroep         resus  \\\n0      7/18      Rechts        43.0     184             O      positief   \n1      3/18      Rechts        42.0     163  Weet ik niet  Weet ik niet   \n2     12/18      Rechts        45.0     183            AB      positief   \n3      5/18      Rechts        44.0     175             A      positief   \n4      6/18      Rechts        43.0     173             B      positief   \n\n   siblings                                     Samenzweringen  \\\n0         5  De tsunami van 2004 in de Indische Oceaan was ...   \n1         1   Prinses Diana kwam niet per ongeluk om het leven   \n2         2  Prinses Diana kwam niet per ongeluk om het lev...   \n3         2  De wereld wordt eigenlijk gecontroleerd door e...   \n4         3  De wereld wordt eigenlijk gecontroleerd door e...   \n\n                                           rijbewijs  \\\n0                               Categorie B: Wagens.   \n1  Categorie AM: Bromfietsen met een maximumsnelh...   \n2  Categorie AM: Bromfietsen met een maximumsnelh...   \n3  Categorie AM: Bromfietsen met een maximumsnelh...   \n4                               Categorie B: Wagens.   \n\n                              domicilie in Antwerpen  ... M1 - stelen  \\\n0  buiten de stad (een dorp, een gehucht, het pla...  ...           7   \n1                                        in een stad  ...          10   \n2                                        in een stad  ...           6   \n3                                        in een stad  ...           9   \n4                                        in een stad  ...          10   \n\n  M2 - team M3 - beschermen M4 - voorbeeld M5 - embryo  M6 - vrijheid  \\\n0         2               8              6           5            4.0   \n1         5              10              6           7            3.0   \n2         3               7              7          10            6.0   \n3        10              10             10          10            0.0   \n4         6              10              7           7            2.0   \n\n                                            mascotte  zwaarste vak  \\\n0  1=Bever,2=Wasbeer,3=Otter,4=Wolf,5=Poema,6=Pan...  Management 1   \n1  1=Bever,2=Wolf,3=Bizon,4=Otter,5=Panter,6=Poem...  Management 1   \n2  1=Bruine beer,2=Poema,3=Panter,4=Wolf,5=Vos,6=...  Management 1   \n3  1=Wasbeer,2=Wolf,3=Bruine beer,4=Das,5=Vos,6=B...  Management 1   \n4  1=Wolf,2=Vos,3=Bruine beer,4=Bizon,5=Panter,6=...  Management 1   \n\n           boeienste vak  studiepunt  \n0         Data science 1  16-20 uren  \n1     Computersystemen 1  <= 10 uren  \n2  Programmeren 1 - Java  16-20 uren  \n3         Data science 1  <= 10 uren  \n4         Data science 1  <= 10 uren  \n\n[5 rows x 33 columns]",
      "text/html": "<div>\n<style scoped>\n    .dataframe tbody tr th:only-of-type {\n        vertical-align: middle;\n    }\n\n    .dataframe tbody tr th {\n        vertical-align: top;\n    }\n\n    .dataframe thead th {\n        text-align: right;\n    }\n</style>\n<table border=\"1\" class=\"dataframe\">\n  <thead>\n    <tr style=\"text-align: right;\">\n      <th></th>\n      <th>gapminder</th>\n      <th>schrijfhand</th>\n      <th>schoenmaat</th>\n      <th>lengte</th>\n      <th>bloedgroep</th>\n      <th>resus</th>\n      <th>siblings</th>\n      <th>Samenzweringen</th>\n      <th>rijbewijs</th>\n      <th>domicilie in Antwerpen</th>\n      <th>...</th>\n      <th>M1 - stelen</th>\n      <th>M2 - team</th>\n      <th>M3 - beschermen</th>\n      <th>M4 - voorbeeld</th>\n      <th>M5 - embryo</th>\n      <th>M6 - vrijheid</th>\n      <th>mascotte</th>\n      <th>zwaarste vak</th>\n      <th>boeienste vak</th>\n      <th>studiepunt</th>\n    </tr>\n  </thead>\n  <tbody>\n    <tr>\n      <th>0</th>\n      <td>7/18</td>\n      <td>Rechts</td>\n      <td>43.0</td>\n      <td>184</td>\n      <td>O</td>\n      <td>positief</td>\n      <td>5</td>\n      <td>De tsunami van 2004 in de Indische Oceaan was ...</td>\n      <td>Categorie B: Wagens.</td>\n      <td>buiten de stad (een dorp, een gehucht, het pla...</td>\n      <td>...</td>\n      <td>7</td>\n      <td>2</td>\n      <td>8</td>\n      <td>6</td>\n      <td>5</td>\n      <td>4.0</td>\n      <td>1=Bever,2=Wasbeer,3=Otter,4=Wolf,5=Poema,6=Pan...</td>\n      <td>Management 1</td>\n      <td>Data science 1</td>\n      <td>16-20 uren</td>\n    </tr>\n    <tr>\n      <th>1</th>\n      <td>3/18</td>\n      <td>Rechts</td>\n      <td>42.0</td>\n      <td>163</td>\n      <td>Weet ik niet</td>\n      <td>Weet ik niet</td>\n      <td>1</td>\n      <td>Prinses Diana kwam niet per ongeluk om het leven</td>\n      <td>Categorie AM: Bromfietsen met een maximumsnelh...</td>\n      <td>in een stad</td>\n      <td>...</td>\n      <td>10</td>\n      <td>5</td>\n      <td>10</td>\n      <td>6</td>\n      <td>7</td>\n      <td>3.0</td>\n      <td>1=Bever,2=Wolf,3=Bizon,4=Otter,5=Panter,6=Poem...</td>\n      <td>Management 1</td>\n      <td>Computersystemen 1</td>\n      <td>&lt;= 10 uren</td>\n    </tr>\n    <tr>\n      <th>2</th>\n      <td>12/18</td>\n      <td>Rechts</td>\n      <td>45.0</td>\n      <td>183</td>\n      <td>AB</td>\n      <td>positief</td>\n      <td>2</td>\n      <td>Prinses Diana kwam niet per ongeluk om het lev...</td>\n      <td>Categorie AM: Bromfietsen met een maximumsnelh...</td>\n      <td>in een stad</td>\n      <td>...</td>\n      <td>6</td>\n      <td>3</td>\n      <td>7</td>\n      <td>7</td>\n      <td>10</td>\n      <td>6.0</td>\n      <td>1=Bruine beer,2=Poema,3=Panter,4=Wolf,5=Vos,6=...</td>\n      <td>Management 1</td>\n      <td>Programmeren 1 - Java</td>\n      <td>16-20 uren</td>\n    </tr>\n    <tr>\n      <th>3</th>\n      <td>5/18</td>\n      <td>Rechts</td>\n      <td>44.0</td>\n      <td>175</td>\n      <td>A</td>\n      <td>positief</td>\n      <td>2</td>\n      <td>De wereld wordt eigenlijk gecontroleerd door e...</td>\n      <td>Categorie AM: Bromfietsen met een maximumsnelh...</td>\n      <td>in een stad</td>\n      <td>...</td>\n      <td>9</td>\n      <td>10</td>\n      <td>10</td>\n      <td>10</td>\n      <td>10</td>\n      <td>0.0</td>\n      <td>1=Wasbeer,2=Wolf,3=Bruine beer,4=Das,5=Vos,6=B...</td>\n      <td>Management 1</td>\n      <td>Data science 1</td>\n      <td>&lt;= 10 uren</td>\n    </tr>\n    <tr>\n      <th>4</th>\n      <td>6/18</td>\n      <td>Rechts</td>\n      <td>43.0</td>\n      <td>173</td>\n      <td>B</td>\n      <td>positief</td>\n      <td>3</td>\n      <td>De wereld wordt eigenlijk gecontroleerd door e...</td>\n      <td>Categorie B: Wagens.</td>\n      <td>in een stad</td>\n      <td>...</td>\n      <td>10</td>\n      <td>6</td>\n      <td>10</td>\n      <td>7</td>\n      <td>7</td>\n      <td>2.0</td>\n      <td>1=Wolf,2=Vos,3=Bruine beer,4=Bizon,5=Panter,6=...</td>\n      <td>Management 1</td>\n      <td>Data science 1</td>\n      <td>&lt;= 10 uren</td>\n    </tr>\n  </tbody>\n</table>\n<p>5 rows × 33 columns</p>\n</div>"
     },
     "metadata": {},
     "output_type": "display_data"
    }
   ],
   "source": [
    "data1 = pd.read_csv('../Data/Data1.csv', delimiter=';', decimal=',')\n",
    "display(data1.head())"
   ],
   "metadata": {
    "collapsed": false,
    "ExecuteTime": {
     "end_time": "2024-04-21T08:52:13.407087Z",
     "start_time": "2024-04-21T08:52:13.331042Z"
    }
   },
   "id": "db318279ac26e208",
   "execution_count": 3
  },
  {
   "cell_type": "code",
   "outputs": [],
   "source": [],
   "metadata": {
    "collapsed": false
   },
   "id": "418475ace790686b"
  },
  {
   "cell_type": "markdown",
   "source": [
    "### Question 2:\n",
    "- In de tabel hieronder vind je de confusion matrix van een binaire classifier.\n",
    "\n",
    "|            | Predicted YES | Predicted NO | Total |\n",
    "|------------|---------------|--------------|-------|\n",
    "| Actual YES | 100           | 5            | 105   |\n",
    "| Actual NO  | 10            | 50           | 60    |\n",
    "| Total      | 110           | 55           | 165   |\n",
    "\n",
    "- Beantwoord nu de volgende vragen:\n",
    "    - Wat zijn de waarden voor TP, TN, FP, FN?\n",
    "    - Bereken nu de accuracy, precision en recall.\n",
    "    - Bereken de F1 en F1.5-measures.\n",
    "    - Wat is de TPR en FPR? Vergelijk met je recall. Wat stel je vast?\n",
    "\n",
    "Schrijf functies in Python die bovenstaande metrieken kunnen berekenen uit een confusion matrix. Let op: dit is niet mogelijk met bestaande functies van sklearn.metrics, omdat deze werken op de ruwe data en niet op een reeds bestaande verwarringsmatrix.\n",
    "\n",
    "- Maak van bovenstaande tabel een (confusion) matrix in Python.\n",
    "- Schrijf een aparte functie voor elk metriek en controleer je oplossing. Hint: kijk even naar de volgende Python functie: np.diag."
   ],
   "metadata": {
    "collapsed": false
   },
   "id": "8dcce8d70aac0bac"
  },
  {
   "cell_type": "code",
   "outputs": [],
   "source": [],
   "metadata": {
    "collapsed": false,
    "ExecuteTime": {
     "end_time": "2024-04-21T08:48:55.338584Z",
     "start_time": "2024-04-21T08:48:55.325590Z"
    }
   },
   "id": "75ae57120d7676d6",
   "execution_count": null
  },
  {
   "cell_type": "markdown",
   "source": [
    "### Question 3:\n",
    "- In de tabel hieronder vind je de confusion matrix van een binaire classifier.\n",
    "\n",
    "|            | Predicted YES | Predicted NO | Total |\n",
    "|------------|---------------|--------------|-------|\n",
    "| Actual A   | 100           | 0            | 100   |\n",
    "| Actual B   | 50            | 5            | 55    |\n",
    "| Total      | 150           | 5            | 155   |\n",
    "\n",
    "- Beantwoord nu de volgende vragen:\n",
    "- Wat zijn de waarden voor TP, TN, FP, FN?\n",
    "- Bereken met je zelfgeschreven Python-functies de accuracy, precision en recall, en F1.\n",
    "- Is dit een goede classifier?\n"
   ],
   "metadata": {
    "collapsed": false
   },
   "id": "3d07b7bd896afd9c"
  },
  {
   "cell_type": "code",
   "outputs": [],
   "source": [],
   "metadata": {
    "collapsed": false,
    "ExecuteTime": {
     "end_time": "2024-04-21T08:48:55.354018Z",
     "start_time": "2024-04-21T08:48:55.340271Z"
    }
   },
   "id": "82a1ff92b3680ff9",
   "execution_count": null
  },
  {
   "cell_type": "markdown",
   "source": [
    "### Question 4:\n",
    "- In de tabel hieronder vind je de confusion matrix van een multiclass classifier.\n",
    "\n",
    "|            | Asfalt | Beton | Gras | Boom | Gebouw | Total |\n",
    "|------------|--------|-------|------|------|--------|-------|\n",
    "| Asfalt     | 2385   | 0     | 0    | 0    | 12     | 2397  |\n",
    "| Beton      | 4      | 332   | 1    | 0    | 0      | 337   |\n",
    "| Gras       | 0      | 0     | 908  | 0    | 0      | 908   |\n",
    "| Boom       | 1      | 0     | 8    | 1084 | 6      | 1099  |\n",
    "| Gebouw     | 4      | 1     | 0    | 9    | 2053   | 2067  |\n",
    "| Total      | 2394   | 333   | 917  | 1093 | 2071   | 6808  |\n",
    "\n",
    "- Beantwoord nu de volgende vragen:\n",
    "    - Wat zijn de waarden voor TP, FP, FN voor de klasse Gras?\n",
    "Pas je functies voor alle evaluatiemetrieken aan zodat ze de waarde per klasse teruggeven.\n",
    "    - Bereken nu de accuracy, precision en recall per klasse met deze functies.\n",
    "    - Is dit een goede classifier?\n"
   ],
   "metadata": {
    "collapsed": false
   },
   "id": "921495f352a4d7dd"
  },
  {
   "cell_type": "code",
   "outputs": [],
   "source": [],
   "metadata": {
    "collapsed": false,
    "ExecuteTime": {
     "end_time": "2024-04-21T08:48:55.369967Z",
     "start_time": "2024-04-21T08:48:55.357010Z"
    }
   },
   "id": "91920bf20083163c",
   "execution_count": null
  },
  {
   "cell_type": "markdown",
   "source": [
    "### Question 5:\n",
    "- Lees de data in het bestand `simpsons_roc1`. \n",
    "    - Gebruik de plot_roc functie (zie slides) om de ROC-curve te tekenen.\n",
    "    - Wat is de beste treshold-waarde?\n",
    "    - Wat is de AUC? Wat betekent het?\n",
    "    - Pas de gevonden treshold-waarde (zie b.) toe op de kolom y_score (deze kolom bevat de resultaten van een neuraal netwerk predict_proba-functie -zie later-) om een nieuwe voorspelde kolom te maken.\n",
    "    Voer de stappen a. tot en met d. uit met de dataset in het bestand \"simpsons_roc2\". Merk je \n",
    "    verschillen?\n"
   ],
   "metadata": {
    "collapsed": false
   },
   "id": "5392d59b1c3e2763"
  },
  {
   "cell_type": "code",
   "outputs": [],
   "source": [],
   "metadata": {
    "collapsed": false
   },
   "id": "6eb9f8ea287c9a58"
  },
  {
   "cell_type": "markdown",
   "source": [
    "### Question 6:\n",
    "- Twee lineaire discriminante analysemodellen werden gebouwd met de dataset-infert -zie bestand infert.csv- De resultaten van de voorspellingen zijn te vinden in de bestanden `education_roc1.csv` en `education_roc2.csv`.\n",
    "    - Laad beide datasets\n",
    "    - Gebruik de plot_roc functie (zie slides) om beide ROC-curven te tekenen. Gebruik voor beide datasets kolom `6-11yrs` als y-score en transformeer de kolom `y_true` in 1 (voor de waarden `6-11yrs` en een 0 voor de andere waarden).\n",
    "    - Wat is de beste treshold-waarde voor elk van de ROC-curves?\n",
    "    - Welk model heeft uw voorkeur?"
   ],
   "metadata": {
    "collapsed": false
   },
   "id": "a0d85bde4076d612"
  },
  {
   "cell_type": "code",
   "outputs": [],
   "source": [],
   "metadata": {
    "collapsed": false
   },
   "id": "db3e2d73e1206a1c"
  }
 ],
 "metadata": {
  "kernelspec": {
   "display_name": "Python 3",
   "language": "python",
   "name": "python3"
  },
  "language_info": {
   "codemirror_mode": {
    "name": "ipython",
    "version": 2
   },
   "file_extension": ".py",
   "mimetype": "text/x-python",
   "name": "python",
   "nbconvert_exporter": "python",
   "pygments_lexer": "ipython2",
   "version": "2.7.6"
  }
 },
 "nbformat": 4,
 "nbformat_minor": 5
}

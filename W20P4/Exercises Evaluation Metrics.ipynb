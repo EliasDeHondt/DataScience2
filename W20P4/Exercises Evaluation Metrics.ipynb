{
 "cells": [
  {
   "cell_type": "markdown",
   "source": [
    "# Exercises Evaluation Metrics"
   ],
   "metadata": {
    "collapsed": false
   },
   "id": "fc11ae5046d6cd48"
  },
  {
   "cell_type": "code",
   "outputs": [],
   "source": [
    "import pandas as pd                                                     # Data manipulation\n",
    "import numpy as np                                                      # Scientific computing\n",
    "import matplotlib.pyplot as plt                                         # Data visualization\n",
    "from sklearn.discriminant_analysis import LinearDiscriminantAnalysis    # Discriminant Analysis\n",
    "\n",
    "def trueFalse (confusion_matrix, columnnb=0):\n",
    "    TP = confusion_matrix.iloc[columnnb][columnnb]\n",
    "    print('TP', TP)\n",
    "    TN = np.diag(confusion_matrix).sum() - TP\n",
    "    print('TN:', TN)\n",
    "    FP = confusion_matrix.iloc[:, columnnb].sum() - TP\n",
    "    print('FP:', FP)\n",
    "    FN = confusion_matrix.iloc[columnnb,:].sum() - TP\n",
    "    print('FN:', FN)\n",
    "    return\n",
    "\n",
    "def accuracy(confusion_matrix):\n",
    "    return np.diag(confusion_matrix).sum()/confusion_matrix.sum().sum()\n",
    "\n",
    "def precision(confusion_matrix):\n",
    "    precision = []\n",
    "    n = confusion_matrix.shape[1]\n",
    "    for i in range(0,n):\n",
    "        TP = confusion_matrix.iloc[i][i]\n",
    "        precision = precision + [TP/confusion_matrix.iloc[:, i].sum()]\n",
    "    return precision\n",
    "\n",
    "def recall(confusion_matrix):\n",
    "    recall = []\n",
    "    n = confusion_matrix.shape[0]\n",
    "    for i in range(0,n):\n",
    "        TP = confusion_matrix.iloc[i][i]\n",
    "        recall = recall + [TP/confusion_matrix.iloc[i, :].sum()]\n",
    "    return recall\n",
    "\n",
    "def f_measure(confusion_matrix, beta):\n",
    "    precisionarray = precision(confusion_matrix)\n",
    "    recallarray = recall(confusion_matrix)\n",
    "    fmeasure=[]\n",
    "    n = len(precisionarray)\n",
    "    for i in range(0,n):\n",
    "        p = precisionarray[i]\n",
    "        r = recallarray [i]\n",
    "        fmeasure = fmeasure + [((beta*beta+1)*p*r)/(beta*beta*p+r)]\n",
    "    return fmeasure\n",
    "\n",
    "def overview_metrieken(confusion_matrix, beta):\n",
    "    overview_1 = np.transpose(precision (confusion_matrix))\n",
    "    overview_2 = np.transpose(recall(confusion_matrix))\n",
    "    overview_3 = np.transpose(f_measure(confusion_matrix,beta))\n",
    "    overview_table=pd.DataFrame (data=np.array([overview_1, overview_2, overview_3]), columns=confusion_matrix.index)\n",
    "    overview_table.index = ['precision', 'recall', 'fx']\n",
    "    return[overview_table]\n",
    "\n",
    "def positiverates(confusion_matrix):\n",
    "    if (confusion_matrix.shape[0] == 2) & (confusion_matrix.shape[1] == 2):\n",
    "        TPR = confusion_matrix.iloc[0][0]/confusion_matrix.iloc[0, :].sum()\n",
    "        print('TPR', TPR)\n",
    "        FPR = confusion_matrix.iloc[1][0]/confusion_matrix.iloc[1, :].sum()\n",
    "        print('FPR', FPR)\n",
    "    return\n",
    "\n",
    "def plot_roc(y_true, y_score, title='ROC Curve', **kwargs):\n",
    "    from sklearn.metrics import roc_curve, roc_auc_score\n",
    "    \n",
    "    if 'pos_label' in kwargs:\n",
    "        fpr, tpr, thresholds = roc_curve(y_true=y_true, y_score=y_score, pos_label=kwargs.get('pos_label'))\n",
    "        auc = roc_auc_score(y_true, y_score)\n",
    "    else:\n",
    "        fpr, tpr, thresholds = roc_curve(y_true=y_true, y_score=y_score)\n",
    "        auc = roc_auc_score(y_true, y_score)\n",
    "\n",
    "    optimal_idx = np.argmax(tpr - fpr)\n",
    "    optimal_threshold = thresholds[optimal_idx]\n",
    "\n",
    "    figsize = kwargs.get('figsize', (7, 7))\n",
    "    fig, ax = plt.subplots(1, 1, figsize=figsize)\n",
    "    ax.grid(linestyle='--')\n",
    "\n",
    "    ax.plot(fpr, tpr, color='darkorange', label='AUC: {}'.format(auc))\n",
    "    ax.set_title(title)\n",
    "    ax.set_xlabel('False Positive Rate (FPR)')\n",
    "    ax.set_ylabel('True Positive Rate (TPR)')\n",
    "    ax.fill_between(fpr, tpr, alpha=0.3, color='darkorange', edgecolor='black')\n",
    "\n",
    "    ax.plot([0, 1], [0, 1], color='navy', lw=2, linestyle='--')\n",
    "\n",
    "    ax.scatter(fpr[optimal_idx], tpr[optimal_idx], label='optimal cutoff {:.2f} on ({:.2f},{:.2f})'.format(optimal_threshold, fpr[optimal_idx], tpr[optimal_idx]), color='red')\n",
    "    ax.plot([fpr[optimal_idx], fpr[optimal_idx]], [0, tpr[optimal_idx]], linestyle='--', color='red')\n",
    "    ax.plot([0, fpr[optimal_idx]], [tpr[optimal_idx], tpr[optimal_idx]], linestyle='--', color='red')\n",
    "\n",
    "    ax.legend(loc='lower right')\n",
    "    plt.show()"
   ],
   "metadata": {
    "collapsed": false,
    "ExecuteTime": {
     "end_time": "2024-04-24T14:36:56.598501Z",
     "start_time": "2024-04-24T14:36:56.568909Z"
    }
   },
   "id": "1796a7e3a7232f25",
   "execution_count": 223
  },
  {
   "cell_type": "markdown",
   "source": [
    "## Theoretical questions"
   ],
   "metadata": {
    "collapsed": false
   },
   "id": "d66cd879508e8eb4"
  },
  {
   "cell_type": "markdown",
   "source": [
    "### Question 1:\n",
    "- We willen gaan voorspellen of studenten heel gemotiveerd zijn om een diploma Toegepaste Informatica te behalen.\n",
    "    - De onafhankelijke gegevens (de voorspellers) zijn \"het aantal broers en/of zussen\", \"aantal samenzweringen\" en \"het aantal uren wiskunde\". Plaats de onafhankelijke variabelen in een nieuw dataframe met naam df en zorg ervoor dat de waarden van de voorspellers numeriek zijn en dat eventueel onrealistische gegevens worden omgezet in nan-waarden.\n",
    "    - In de vragenlijst wil je het \"belang van informatica\" gaan voorspellen. Dit is een ordinaal gegeven dat je zal moeten reduceren tot twee mogelijke waarden: alles gelijk of meer dan \"groot\" is \"groot\", alles kleiner is \"matig\". Voeg het resultaat als een kolom toe aan het dataframe df.\n",
    "    - Gebruik lineaire discriminant analyse als model om de afhankelijke variabele \"belang van Informatica\" te voorspellen met behulp van de onafhankelijke variabelen (voorspellers). Maak de voorspellingen voor de beschikbare gegevens.\n",
    "    - Bestudeer de resultaten van de evaluatie metrieken:\n",
    "        - Maak de confusion matrix\n",
    "        - Bereken de accuracy, precision, recall en F1\n",
    "        - Maak de ROC-curve"
   ],
   "metadata": {
    "collapsed": false
   },
   "id": "8302daa62617938d"
  },
  {
   "cell_type": "code",
   "outputs": [
    {
     "data": {
      "text/plain": "  gapminder schrijfhand  schoenmaat  lengte    bloedgroep         resus  \\\n0      7/18      Rechts        43.0     184             O      positief   \n1      3/18      Rechts        42.0     163  Weet ik niet  Weet ik niet   \n2     12/18      Rechts        45.0     183            AB      positief   \n3      5/18      Rechts        44.0     175             A      positief   \n4      6/18      Rechts        43.0     173             B      positief   \n\n   siblings                                     Samenzweringen  \\\n0         5  De tsunami van 2004 in de Indische Oceaan was ...   \n1         1   Prinses Diana kwam niet per ongeluk om het leven   \n2         2  Prinses Diana kwam niet per ongeluk om het lev...   \n3         2  De wereld wordt eigenlijk gecontroleerd door e...   \n4         3  De wereld wordt eigenlijk gecontroleerd door e...   \n\n                                           rijbewijs  \\\n0                               Categorie B: Wagens.   \n1  Categorie AM: Bromfietsen met een maximumsnelh...   \n2  Categorie AM: Bromfietsen met een maximumsnelh...   \n3  Categorie AM: Bromfietsen met een maximumsnelh...   \n4                               Categorie B: Wagens.   \n\n                              domicilie in Antwerpen  ... M1 - stelen  \\\n0  buiten de stad (een dorp, een gehucht, het pla...  ...           7   \n1                                        in een stad  ...          10   \n2                                        in een stad  ...           6   \n3                                        in een stad  ...           9   \n4                                        in een stad  ...          10   \n\n  M2 - team M3 - beschermen M4 - voorbeeld M5 - embryo  M6 - vrijheid  \\\n0         2               8              6           5            4.0   \n1         5              10              6           7            3.0   \n2         3               7              7          10            6.0   \n3        10              10             10          10            0.0   \n4         6              10              7           7            2.0   \n\n                                            mascotte  zwaarste vak  \\\n0  1=Bever,2=Wasbeer,3=Otter,4=Wolf,5=Poema,6=Pan...  Management 1   \n1  1=Bever,2=Wolf,3=Bizon,4=Otter,5=Panter,6=Poem...  Management 1   \n2  1=Bruine beer,2=Poema,3=Panter,4=Wolf,5=Vos,6=...  Management 1   \n3  1=Wasbeer,2=Wolf,3=Bruine beer,4=Das,5=Vos,6=B...  Management 1   \n4  1=Wolf,2=Vos,3=Bruine beer,4=Bizon,5=Panter,6=...  Management 1   \n\n           boeienste vak  studiepunt  \n0         Data science 1  16-20 uren  \n1     Computersystemen 1  <= 10 uren  \n2  Programmeren 1 - Java  16-20 uren  \n3         Data science 1  <= 10 uren  \n4         Data science 1  <= 10 uren  \n\n[5 rows x 33 columns]",
      "text/html": "<div>\n<style scoped>\n    .dataframe tbody tr th:only-of-type {\n        vertical-align: middle;\n    }\n\n    .dataframe tbody tr th {\n        vertical-align: top;\n    }\n\n    .dataframe thead th {\n        text-align: right;\n    }\n</style>\n<table border=\"1\" class=\"dataframe\">\n  <thead>\n    <tr style=\"text-align: right;\">\n      <th></th>\n      <th>gapminder</th>\n      <th>schrijfhand</th>\n      <th>schoenmaat</th>\n      <th>lengte</th>\n      <th>bloedgroep</th>\n      <th>resus</th>\n      <th>siblings</th>\n      <th>Samenzweringen</th>\n      <th>rijbewijs</th>\n      <th>domicilie in Antwerpen</th>\n      <th>...</th>\n      <th>M1 - stelen</th>\n      <th>M2 - team</th>\n      <th>M3 - beschermen</th>\n      <th>M4 - voorbeeld</th>\n      <th>M5 - embryo</th>\n      <th>M6 - vrijheid</th>\n      <th>mascotte</th>\n      <th>zwaarste vak</th>\n      <th>boeienste vak</th>\n      <th>studiepunt</th>\n    </tr>\n  </thead>\n  <tbody>\n    <tr>\n      <th>0</th>\n      <td>7/18</td>\n      <td>Rechts</td>\n      <td>43.0</td>\n      <td>184</td>\n      <td>O</td>\n      <td>positief</td>\n      <td>5</td>\n      <td>De tsunami van 2004 in de Indische Oceaan was ...</td>\n      <td>Categorie B: Wagens.</td>\n      <td>buiten de stad (een dorp, een gehucht, het pla...</td>\n      <td>...</td>\n      <td>7</td>\n      <td>2</td>\n      <td>8</td>\n      <td>6</td>\n      <td>5</td>\n      <td>4.0</td>\n      <td>1=Bever,2=Wasbeer,3=Otter,4=Wolf,5=Poema,6=Pan...</td>\n      <td>Management 1</td>\n      <td>Data science 1</td>\n      <td>16-20 uren</td>\n    </tr>\n    <tr>\n      <th>1</th>\n      <td>3/18</td>\n      <td>Rechts</td>\n      <td>42.0</td>\n      <td>163</td>\n      <td>Weet ik niet</td>\n      <td>Weet ik niet</td>\n      <td>1</td>\n      <td>Prinses Diana kwam niet per ongeluk om het leven</td>\n      <td>Categorie AM: Bromfietsen met een maximumsnelh...</td>\n      <td>in een stad</td>\n      <td>...</td>\n      <td>10</td>\n      <td>5</td>\n      <td>10</td>\n      <td>6</td>\n      <td>7</td>\n      <td>3.0</td>\n      <td>1=Bever,2=Wolf,3=Bizon,4=Otter,5=Panter,6=Poem...</td>\n      <td>Management 1</td>\n      <td>Computersystemen 1</td>\n      <td>&lt;= 10 uren</td>\n    </tr>\n    <tr>\n      <th>2</th>\n      <td>12/18</td>\n      <td>Rechts</td>\n      <td>45.0</td>\n      <td>183</td>\n      <td>AB</td>\n      <td>positief</td>\n      <td>2</td>\n      <td>Prinses Diana kwam niet per ongeluk om het lev...</td>\n      <td>Categorie AM: Bromfietsen met een maximumsnelh...</td>\n      <td>in een stad</td>\n      <td>...</td>\n      <td>6</td>\n      <td>3</td>\n      <td>7</td>\n      <td>7</td>\n      <td>10</td>\n      <td>6.0</td>\n      <td>1=Bruine beer,2=Poema,3=Panter,4=Wolf,5=Vos,6=...</td>\n      <td>Management 1</td>\n      <td>Programmeren 1 - Java</td>\n      <td>16-20 uren</td>\n    </tr>\n    <tr>\n      <th>3</th>\n      <td>5/18</td>\n      <td>Rechts</td>\n      <td>44.0</td>\n      <td>175</td>\n      <td>A</td>\n      <td>positief</td>\n      <td>2</td>\n      <td>De wereld wordt eigenlijk gecontroleerd door e...</td>\n      <td>Categorie AM: Bromfietsen met een maximumsnelh...</td>\n      <td>in een stad</td>\n      <td>...</td>\n      <td>9</td>\n      <td>10</td>\n      <td>10</td>\n      <td>10</td>\n      <td>10</td>\n      <td>0.0</td>\n      <td>1=Wasbeer,2=Wolf,3=Bruine beer,4=Das,5=Vos,6=B...</td>\n      <td>Management 1</td>\n      <td>Data science 1</td>\n      <td>&lt;= 10 uren</td>\n    </tr>\n    <tr>\n      <th>4</th>\n      <td>6/18</td>\n      <td>Rechts</td>\n      <td>43.0</td>\n      <td>173</td>\n      <td>B</td>\n      <td>positief</td>\n      <td>3</td>\n      <td>De wereld wordt eigenlijk gecontroleerd door e...</td>\n      <td>Categorie B: Wagens.</td>\n      <td>in een stad</td>\n      <td>...</td>\n      <td>10</td>\n      <td>6</td>\n      <td>10</td>\n      <td>7</td>\n      <td>7</td>\n      <td>2.0</td>\n      <td>1=Wolf,2=Vos,3=Bruine beer,4=Bizon,5=Panter,6=...</td>\n      <td>Management 1</td>\n      <td>Data science 1</td>\n      <td>&lt;= 10 uren</td>\n    </tr>\n  </tbody>\n</table>\n<p>5 rows × 33 columns</p>\n</div>"
     },
     "metadata": {},
     "output_type": "display_data"
    }
   ],
   "source": [
    "data1 = pd.read_csv('../Data/Data1.csv', delimiter=';', decimal=',')\n",
    "display(data1.head())"
   ],
   "metadata": {
    "collapsed": false,
    "ExecuteTime": {
     "end_time": "2024-04-24T14:36:56.765167Z",
     "start_time": "2024-04-24T14:36:56.723133Z"
    }
   },
   "id": "db318279ac26e208",
   "execution_count": 224
  },
  {
   "cell_type": "code",
   "outputs": [],
   "source": [],
   "metadata": {
    "collapsed": false,
    "ExecuteTime": {
     "end_time": "2024-04-24T14:36:56.781222Z",
     "start_time": "2024-04-24T14:36:56.767520Z"
    }
   },
   "id": "418475ace790686b",
   "execution_count": 224
  },
  {
   "cell_type": "code",
   "outputs": [],
   "source": [],
   "metadata": {
    "collapsed": false,
    "ExecuteTime": {
     "end_time": "2024-04-24T14:36:56.796741Z",
     "start_time": "2024-04-24T14:36:56.783315Z"
    }
   },
   "id": "7f57ab3a00bc0f90",
   "execution_count": 224
  },
  {
   "cell_type": "code",
   "outputs": [],
   "source": [],
   "metadata": {
    "collapsed": false,
    "ExecuteTime": {
     "end_time": "2024-04-24T14:36:56.812749Z",
     "start_time": "2024-04-24T14:36:56.798916Z"
    }
   },
   "id": "d0ad8a493dd5f505",
   "execution_count": 224
  },
  {
   "cell_type": "code",
   "outputs": [],
   "source": [],
   "metadata": {
    "collapsed": false,
    "ExecuteTime": {
     "end_time": "2024-04-24T14:36:56.828776Z",
     "start_time": "2024-04-24T14:36:56.813930Z"
    }
   },
   "id": "c77b2a4aaa811e89",
   "execution_count": 224
  },
  {
   "cell_type": "markdown",
   "source": [
    "### Question 2:\n",
    "- In de tabel hieronder vind je de confusion matrix van een binaire classifier.\n",
    "\n",
    "|            | Predicted YES | Predicted NO | Total |\n",
    "|------------|---------------|--------------|-------|\n",
    "| Actual YES | 100           | 5            | 105   |\n",
    "| Actual NO  | 10            | 50           | 60    |\n",
    "| Total      | 110           | 55           | 165   |\n",
    "\n",
    "- Beantwoord nu de volgende vragen:\n",
    "    - Wat zijn de waarden voor TP, TN, FP, FN?\n",
    "    - Bereken nu de accuracy, precision en recall.\n",
    "    - Bereken de F1 en F1.5-measures.\n",
    "    - Wat is de TPR en FPR? Vergelijk met je recall. Wat stel je vast?"
   ],
   "metadata": {
    "collapsed": false
   },
   "id": "8dcce8d70aac0bac"
  },
  {
   "cell_type": "code",
   "outputs": [
    {
     "data": {
      "text/plain": "            Predicted YES  Predicted NO\nActual YES            100             5\nActual NO              10            50",
      "text/html": "<div>\n<style scoped>\n    .dataframe tbody tr th:only-of-type {\n        vertical-align: middle;\n    }\n\n    .dataframe tbody tr th {\n        vertical-align: top;\n    }\n\n    .dataframe thead th {\n        text-align: right;\n    }\n</style>\n<table border=\"1\" class=\"dataframe\">\n  <thead>\n    <tr style=\"text-align: right;\">\n      <th></th>\n      <th>Predicted YES</th>\n      <th>Predicted NO</th>\n    </tr>\n  </thead>\n  <tbody>\n    <tr>\n      <th>Actual YES</th>\n      <td>100</td>\n      <td>5</td>\n    </tr>\n    <tr>\n      <th>Actual NO</th>\n      <td>10</td>\n      <td>50</td>\n    </tr>\n  </tbody>\n</table>\n</div>"
     },
     "metadata": {},
     "output_type": "display_data"
    }
   ],
   "source": [
    "# 1\n",
    "# YES = Positive\n",
    "# NO = Negative\n",
    "confusion_matrix1 = pd.DataFrame(data=[[100, 5], [10, 50]], columns=['Predicted YES', 'Predicted NO'], index=['Actual YES', 'Actual NO'])\n",
    "display(confusion_matrix1)"
   ],
   "metadata": {
    "collapsed": false,
    "ExecuteTime": {
     "end_time": "2024-04-24T14:36:56.843922Z",
     "start_time": "2024-04-24T14:36:56.829889Z"
    }
   },
   "id": "75ae57120d7676d6",
   "execution_count": 225
  },
  {
   "cell_type": "code",
   "outputs": [
    {
     "name": "stdout",
     "output_type": "stream",
     "text": [
      "Acuracy: 0.909\n",
      "Precision YES: 0.909\n",
      "Precision NO: 0.909\n",
      "Recall YES: 0.952\n",
      "Recall NO: 0.833\n"
     ]
    },
    {
     "name": "stderr",
     "output_type": "stream",
     "text": [
      "C:\\Users\\elias\\AppData\\Local\\Temp\\ipykernel_24660\\2513945939.py:24: FutureWarning: Series.__getitem__ treating keys as positions is deprecated. In a future version, integer keys will always be treated as labels (consistent with DataFrame behavior). To access a value by position, use `ser.iloc[pos]`\n",
      "  TP = confusion_matrix.iloc[i][i]\n",
      "C:\\Users\\elias\\AppData\\Local\\Temp\\ipykernel_24660\\2513945939.py:32: FutureWarning: Series.__getitem__ treating keys as positions is deprecated. In a future version, integer keys will always be treated as labels (consistent with DataFrame behavior). To access a value by position, use `ser.iloc[pos]`\n",
      "  TP = confusion_matrix.iloc[i][i]\n"
     ]
    }
   ],
   "source": [
    "# 2\n",
    "accuracy = np.diag(confusion_matrix1).sum()/confusion_matrix1.sum().sum()\n",
    "print(f\"Acuracy: {round(accuracy, 3)}\")\n",
    "\n",
    "precision_yes = precision(confusion_matrix1)[0]\n",
    "print(f\"Precision YES: {round(precision_yes, 3)}\")\n",
    "precision_no = precision(confusion_matrix1)[1]\n",
    "print(f\"Precision NO: {round(precision_no, 3)}\")\n",
    "\n",
    "recall_yes = recall(confusion_matrix1)[0]\n",
    "print(f\"Recall YES: {round(recall_yes, 3)}\")\n",
    "recall_no = recall(confusion_matrix1)[1]\n",
    "print(f\"Recall NO: {round(recall_no, 3)}\")"
   ],
   "metadata": {
    "collapsed": false,
    "ExecuteTime": {
     "end_time": "2024-04-24T14:36:56.859823Z",
     "start_time": "2024-04-24T14:36:56.845070Z"
    }
   },
   "id": "ab53a45d5868a47c",
   "execution_count": 226
  },
  {
   "cell_type": "code",
   "outputs": [
    {
     "name": "stdout",
     "output_type": "stream",
     "text": [
      "F1 YES: 0.93\n",
      "F1 NO: 0.87\n"
     ]
    },
    {
     "name": "stderr",
     "output_type": "stream",
     "text": [
      "C:\\Users\\elias\\AppData\\Local\\Temp\\ipykernel_24660\\2513945939.py:24: FutureWarning: Series.__getitem__ treating keys as positions is deprecated. In a future version, integer keys will always be treated as labels (consistent with DataFrame behavior). To access a value by position, use `ser.iloc[pos]`\n",
      "  TP = confusion_matrix.iloc[i][i]\n",
      "C:\\Users\\elias\\AppData\\Local\\Temp\\ipykernel_24660\\2513945939.py:32: FutureWarning: Series.__getitem__ treating keys as positions is deprecated. In a future version, integer keys will always be treated as labels (consistent with DataFrame behavior). To access a value by position, use `ser.iloc[pos]`\n",
      "  TP = confusion_matrix.iloc[i][i]\n"
     ]
    }
   ],
   "source": [
    "# 3\n",
    "f1 = f_measure(confusion_matrix1, 1)[0] # Beta = 1\n",
    "print(f\"F1 YES: {round(f1, 3)}\")\n",
    "f1 = f_measure(confusion_matrix1, 1)[1] # Beta = 1\n",
    "print(f\"F1 NO: {round(f1, 3)}\")"
   ],
   "metadata": {
    "collapsed": false,
    "ExecuteTime": {
     "end_time": "2024-04-24T14:36:56.875475Z",
     "start_time": "2024-04-24T14:36:56.862230Z"
    }
   },
   "id": "7ded465170abb8bf",
   "execution_count": 227
  },
  {
   "cell_type": "code",
   "outputs": [
    {
     "name": "stdout",
     "output_type": "stream",
     "text": [
      "TPR 0.9523809523809523\n",
      "FPR 0.16666666666666666\n",
      "The difference between recall and TPR is that recall is the ratio of the correctly predicted positive observations to the all observations in actual class and TPR is the ratio of the correctly predicted positive observations to the all observations in predicted class.\n"
     ]
    },
    {
     "name": "stderr",
     "output_type": "stream",
     "text": [
      "C:\\Users\\elias\\AppData\\Local\\Temp\\ipykernel_24660\\2513945939.py:57: FutureWarning: Series.__getitem__ treating keys as positions is deprecated. In a future version, integer keys will always be treated as labels (consistent with DataFrame behavior). To access a value by position, use `ser.iloc[pos]`\n",
      "  TPR = confusion_matrix.iloc[0][0]/confusion_matrix.iloc[0, :].sum()\n",
      "C:\\Users\\elias\\AppData\\Local\\Temp\\ipykernel_24660\\2513945939.py:59: FutureWarning: Series.__getitem__ treating keys as positions is deprecated. In a future version, integer keys will always be treated as labels (consistent with DataFrame behavior). To access a value by position, use `ser.iloc[pos]`\n",
      "  FPR = confusion_matrix.iloc[1][0]/confusion_matrix.iloc[1, :].sum()\n"
     ]
    }
   ],
   "source": [
    "# 4\n",
    "# TPR = Recall = TP / (TP + FN)\n",
    "# FPR = FP / (FP + TN)\n",
    "positiverates(confusion_matrix1)\n",
    "\n",
    "print(\"The difference between recall and TPR is that recall is the ratio of the correctly predicted positive observations to the all observations in actual class and TPR is the ratio of the correctly predicted positive observations to the all observations in predicted class.\")"
   ],
   "metadata": {
    "collapsed": false,
    "ExecuteTime": {
     "end_time": "2024-04-24T14:36:56.891157Z",
     "start_time": "2024-04-24T14:36:56.876484Z"
    }
   },
   "id": "ef563535e8376ffc",
   "execution_count": 228
  },
  {
   "cell_type": "markdown",
   "source": [
    "### Question 3:\n",
    "- In de tabel hieronder vind je de confusion matrix van een binaire classifier.\n",
    "\n",
    "|            | Predicted YES | Predicted NO | Total |\n",
    "|------------|---------------|--------------|-------|\n",
    "| Actual A   | 100           | 0            | 100   |\n",
    "| Actual B   | 50            | 5            | 55    |\n",
    "| Total      | 150           | 5            | 155   |\n",
    "\n",
    "- Beantwoord nu de volgende vragen:\n",
    "    - Wat zijn de waarden voor TP, TN, FP, FN?\n",
    "    - Bereken met je zelfgeschreven Python-functies de accuracy, precision en recall, en F1.\n",
    "    - Is dit een goede classifier?\n"
   ],
   "metadata": {
    "collapsed": false
   },
   "id": "3d07b7bd896afd9c"
  },
  {
   "cell_type": "code",
   "outputs": [
    {
     "data": {
      "text/plain": "          Predicted YES  Predicted NO\nActual A            100             0\nActual B             50             5",
      "text/html": "<div>\n<style scoped>\n    .dataframe tbody tr th:only-of-type {\n        vertical-align: middle;\n    }\n\n    .dataframe tbody tr th {\n        vertical-align: top;\n    }\n\n    .dataframe thead th {\n        text-align: right;\n    }\n</style>\n<table border=\"1\" class=\"dataframe\">\n  <thead>\n    <tr style=\"text-align: right;\">\n      <th></th>\n      <th>Predicted YES</th>\n      <th>Predicted NO</th>\n    </tr>\n  </thead>\n  <tbody>\n    <tr>\n      <th>Actual A</th>\n      <td>100</td>\n      <td>0</td>\n    </tr>\n    <tr>\n      <th>Actual B</th>\n      <td>50</td>\n      <td>5</td>\n    </tr>\n  </tbody>\n</table>\n</div>"
     },
     "metadata": {},
     "output_type": "display_data"
    }
   ],
   "source": [
    "# 1\n",
    "# YES = Positive\n",
    "# NO = Negative\n",
    "confusion_matrix2 = pd.DataFrame(data=[[100, 0], [50, 5]], columns=['Predicted YES', 'Predicted NO'], index=['Actual A', 'Actual B'])\n",
    "display(confusion_matrix2)"
   ],
   "metadata": {
    "collapsed": false,
    "ExecuteTime": {
     "end_time": "2024-04-24T14:36:56.922640Z",
     "start_time": "2024-04-24T14:36:56.905929Z"
    }
   },
   "id": "82a1ff92b3680ff9",
   "execution_count": 229
  },
  {
   "cell_type": "code",
   "outputs": [
    {
     "name": "stdout",
     "output_type": "stream",
     "text": [
      "Acuracy: 0.677\n",
      "Precision YES: 0.667\n",
      "Precision NO: 1.0\n",
      "Recall A: 1.0\n",
      "Recall B: 0.091\n",
      "F1 YES: 0.8\n",
      "F1 NO: 0.167\n"
     ]
    },
    {
     "name": "stderr",
     "output_type": "stream",
     "text": [
      "C:\\Users\\elias\\AppData\\Local\\Temp\\ipykernel_24660\\2513945939.py:24: FutureWarning: Series.__getitem__ treating keys as positions is deprecated. In a future version, integer keys will always be treated as labels (consistent with DataFrame behavior). To access a value by position, use `ser.iloc[pos]`\n",
      "  TP = confusion_matrix.iloc[i][i]\n",
      "C:\\Users\\elias\\AppData\\Local\\Temp\\ipykernel_24660\\2513945939.py:32: FutureWarning: Series.__getitem__ treating keys as positions is deprecated. In a future version, integer keys will always be treated as labels (consistent with DataFrame behavior). To access a value by position, use `ser.iloc[pos]`\n",
      "  TP = confusion_matrix.iloc[i][i]\n"
     ]
    }
   ],
   "source": [
    "# 2\n",
    "accuracy = np.diag(confusion_matrix2).sum()/confusion_matrix2.sum().sum()\n",
    "print(f\"Acuracy: {round(accuracy, 3)}\")\n",
    "\n",
    "precision_yes = precision(confusion_matrix2)[0]\n",
    "print(f\"Precision YES: {round(precision_yes, 3)}\")\n",
    "precision_no = precision(confusion_matrix2)[1]\n",
    "print(f\"Precision NO: {round(precision_no, 3)}\")\n",
    "\n",
    "recall_a = recall(confusion_matrix2)[0]\n",
    "print(f\"Recall A: {round(recall_a, 3)}\")\n",
    "recall_b = recall(confusion_matrix2)[1]\n",
    "print(f\"Recall B: {round(recall_b, 3)}\")\n",
    "\n",
    "f1 = f_measure(confusion_matrix2, 1)[0] # Beta = 1\n",
    "print(f\"F1 YES: {round(f1, 3)}\")\n",
    "f1 = f_measure(confusion_matrix2, 1)[1] # Beta = 1\n",
    "print(f\"F1 NO: {round(f1, 3)}\")"
   ],
   "metadata": {
    "collapsed": false,
    "ExecuteTime": {
     "end_time": "2024-04-24T14:36:57.000412Z",
     "start_time": "2024-04-24T14:36:56.974396Z"
    }
   },
   "id": "2cb4672d272844b1",
   "execution_count": 230
  },
  {
   "cell_type": "code",
   "outputs": [
    {
     "name": "stdout",
     "output_type": "stream",
     "text": [
      "This is not a good classifier\n"
     ]
    }
   ],
   "source": [
    "# 3\n",
    "if (accuracy < 0.99) | (precision_yes < 0.99) | (recall_a < 0.99):\n",
    "    print(\"This is not a good classifier\")\n",
    "else:\n",
    "    print(\"This is a good classifier\")"
   ],
   "metadata": {
    "collapsed": false,
    "ExecuteTime": {
     "end_time": "2024-04-24T14:36:57.157490Z",
     "start_time": "2024-04-24T14:36:57.144653Z"
    }
   },
   "id": "287a59dfd9ec8b4b",
   "execution_count": 231
  },
  {
   "cell_type": "markdown",
   "source": [
    "### Question 4:\n",
    "- In de tabel hieronder vind je de confusion matrix van een multiclass classifier.\n",
    "\n",
    "|            | Asfalt | Beton | Gras | Boom | Gebouw | Total |\n",
    "|------------|--------|-------|------|------|--------|-------|\n",
    "| Asfalt     | 2385   | 0     | 0    | 0    | 12     | 2397  |\n",
    "| Beton      | 4      | 332   | 1    | 0    | 0      | 337   |\n",
    "| Gras       | 0      | 0     | 908  | 0    | 0      | 908   |\n",
    "| Boom       | 1      | 0     | 8    | 1084 | 6      | 1099  |\n",
    "| Gebouw     | 4      | 1     | 0    | 9    | 2053   | 2067  |\n",
    "| Total      | 2394   | 333   | 917  | 1093 | 2071   | 6808  |\n",
    "\n",
    "- Beantwoord nu de volgende vragen:\n",
    "    - Wat zijn de waarden voor TP, FP, FN voor de klasse Gras?\n",
    "    - Bereken nu de accuracy, precision en recall per klasse met deze functies.\n",
    "    - Is dit een goede classifier?\n"
   ],
   "metadata": {
    "collapsed": false
   },
   "id": "921495f352a4d7dd"
  },
  {
   "cell_type": "code",
   "outputs": [
    {
     "data": {
      "text/plain": "        Asfalt  Beton  Gras  Boom  Gebouw\nAsfalt    2385      0     0     0      12\nBeton        4    332     1     0       0\nGras         0      0   908     0       0\nBoom         1      0     8  1084       6\nGebouw       4      1     0     9    2053",
      "text/html": "<div>\n<style scoped>\n    .dataframe tbody tr th:only-of-type {\n        vertical-align: middle;\n    }\n\n    .dataframe tbody tr th {\n        vertical-align: top;\n    }\n\n    .dataframe thead th {\n        text-align: right;\n    }\n</style>\n<table border=\"1\" class=\"dataframe\">\n  <thead>\n    <tr style=\"text-align: right;\">\n      <th></th>\n      <th>Asfalt</th>\n      <th>Beton</th>\n      <th>Gras</th>\n      <th>Boom</th>\n      <th>Gebouw</th>\n    </tr>\n  </thead>\n  <tbody>\n    <tr>\n      <th>Asfalt</th>\n      <td>2385</td>\n      <td>0</td>\n      <td>0</td>\n      <td>0</td>\n      <td>12</td>\n    </tr>\n    <tr>\n      <th>Beton</th>\n      <td>4</td>\n      <td>332</td>\n      <td>1</td>\n      <td>0</td>\n      <td>0</td>\n    </tr>\n    <tr>\n      <th>Gras</th>\n      <td>0</td>\n      <td>0</td>\n      <td>908</td>\n      <td>0</td>\n      <td>0</td>\n    </tr>\n    <tr>\n      <th>Boom</th>\n      <td>1</td>\n      <td>0</td>\n      <td>8</td>\n      <td>1084</td>\n      <td>6</td>\n    </tr>\n    <tr>\n      <th>Gebouw</th>\n      <td>4</td>\n      <td>1</td>\n      <td>0</td>\n      <td>9</td>\n      <td>2053</td>\n    </tr>\n  </tbody>\n</table>\n</div>"
     },
     "metadata": {},
     "output_type": "display_data"
    }
   ],
   "source": [
    "# 1\n",
    "confusion_matrix3 = pd.DataFrame(data=[[2385, 0, 0, 0, 12], [4, 332, 1, 0, 0], [0, 0, 908, 0, 0], [1, 0, 8, 1084, 6], [4, 1, 0, 9, 2053]], columns=['Asfalt', 'Beton', 'Gras', 'Boom', 'Gebouw'], index=['Asfalt', 'Beton', 'Gras', 'Boom', 'Gebouw'])\n",
    "display(confusion_matrix3)"
   ],
   "metadata": {
    "collapsed": false,
    "ExecuteTime": {
     "end_time": "2024-04-24T14:36:57.219356Z",
     "start_time": "2024-04-24T14:36:57.199122Z"
    }
   },
   "id": "91920bf20083163c",
   "execution_count": 232
  },
  {
   "cell_type": "code",
   "outputs": [],
   "source": [
    "# 2"
   ],
   "metadata": {
    "collapsed": false,
    "ExecuteTime": {
     "end_time": "2024-04-24T14:36:57.297638Z",
     "start_time": "2024-04-24T14:36:57.294255Z"
    }
   },
   "id": "c8fb773b1095ee86",
   "execution_count": 233
  },
  {
   "cell_type": "code",
   "outputs": [],
   "source": [
    "# 3"
   ],
   "metadata": {
    "collapsed": false,
    "ExecuteTime": {
     "end_time": "2024-04-24T14:36:57.337825Z",
     "start_time": "2024-04-24T14:36:57.327389Z"
    }
   },
   "id": "b814c2e4632856e9",
   "execution_count": 234
  },
  {
   "cell_type": "markdown",
   "source": [
    "### Question 5:\n",
    "- Lees de data in het bestand `simpsons_roc1`. \n",
    "    - Gebruik de plot_roc functie om de ROC-curve te tekenen.\n",
    "    - Wat is de beste treshold-waarde?\n",
    "    - Wat is de AUC? Wat betekent het?\n",
    "    - Pas de gevonden treshold-waarde (zie b.) toe op de kolom y_score (deze kolom bevat de resultaten van een neuraal netwerk predict_proba-functie -zie later-) om een nieuwe voorspelde kolom te maken.\n",
    "    - Voer de stappen a. tot en met d. uit met de dataset in het bestand `simpsons_roc2`. Merk je verschillen?\n"
   ],
   "metadata": {
    "collapsed": false
   },
   "id": "5392d59b1c3e2763"
  },
  {
   "cell_type": "code",
   "outputs": [],
   "source": [
    "# 1"
   ],
   "metadata": {
    "collapsed": false,
    "ExecuteTime": {
     "end_time": "2024-04-24T14:36:57.384903Z",
     "start_time": "2024-04-24T14:36:57.379617Z"
    }
   },
   "id": "23b1b14b5160e258",
   "execution_count": 235
  },
  {
   "cell_type": "code",
   "outputs": [],
   "source": [
    "# 2"
   ],
   "metadata": {
    "collapsed": false,
    "ExecuteTime": {
     "end_time": "2024-04-24T14:36:57.447549Z",
     "start_time": "2024-04-24T14:36:57.439475Z"
    }
   },
   "id": "315862836c7d3074",
   "execution_count": 236
  },
  {
   "cell_type": "code",
   "outputs": [],
   "source": [
    "# 3"
   ],
   "metadata": {
    "collapsed": false,
    "ExecuteTime": {
     "end_time": "2024-04-24T14:36:57.526739Z",
     "start_time": "2024-04-24T14:36:57.509199Z"
    }
   },
   "id": "a650a1fddeca1eee",
   "execution_count": 237
  },
  {
   "cell_type": "code",
   "outputs": [],
   "source": [
    "# 4"
   ],
   "metadata": {
    "collapsed": false,
    "ExecuteTime": {
     "end_time": "2024-04-24T14:36:57.542219Z",
     "start_time": "2024-04-24T14:36:57.529165Z"
    }
   },
   "id": "6eb9f8ea287c9a58",
   "execution_count": 238
  },
  {
   "cell_type": "code",
   "outputs": [],
   "source": [],
   "metadata": {
    "collapsed": false,
    "ExecuteTime": {
     "end_time": "2024-04-24T14:36:57.574085Z",
     "start_time": "2024-04-24T14:36:57.564899Z"
    }
   },
   "id": "8694f41795a06aea",
   "execution_count": 238
  },
  {
   "cell_type": "markdown",
   "source": [
    "### Question 6:\n",
    "- Twee lineaire discriminante analysemodellen werden gebouwd met de dataset-infert -zie bestand infert.csv- De resultaten van de voorspellingen zijn te vinden in de bestanden `Education_roc1.csv` en `Education_roc2.csv`.\n",
    "    - Laad beide datasets\n",
    "    - Gebruik de plot_roc functie (zie slides) om beide ROC-curven te tekenen. Gebruik voor beide datasets kolom `6-11yrs` als y-score en transformeer de kolom `y_true` in 1 (voor de waarden `6-11yrs` en een 0 voor de andere waarden).\n",
    "    - Wat is de beste treshold-waarde voor elk van de ROC-curves?\n",
    "    - Welk model heeft uw voorkeur?"
   ],
   "metadata": {
    "collapsed": false
   },
   "id": "a0d85bde4076d612"
  },
  {
   "cell_type": "code",
   "outputs": [],
   "source": [
    "# 1\n",
    "education_roc1 = pd.read_csv('../Data/Education_roc1.csv', delimiter=',', decimal='.')\n",
    "education_roc2 = pd.read_csv('../Data/Education_roc2.csv', delimiter=',', decimal='.')"
   ],
   "metadata": {
    "collapsed": false,
    "ExecuteTime": {
     "end_time": "2024-04-24T14:36:57.636227Z",
     "start_time": "2024-04-24T14:36:57.613862Z"
    }
   },
   "id": "db3e2d73e1206a1c",
   "execution_count": 239
  },
  {
   "cell_type": "code",
   "outputs": [],
   "source": [
    "# 2"
   ],
   "metadata": {
    "collapsed": false,
    "ExecuteTime": {
     "end_time": "2024-04-24T14:36:57.651662Z",
     "start_time": "2024-04-24T14:36:57.646196Z"
    }
   },
   "id": "171c8153a9645b8b",
   "execution_count": 240
  },
  {
   "cell_type": "code",
   "outputs": [],
   "source": [
    "# 3"
   ],
   "metadata": {
    "collapsed": false,
    "ExecuteTime": {
     "end_time": "2024-04-24T14:36:57.698759Z",
     "start_time": "2024-04-24T14:36:57.688424Z"
    }
   },
   "id": "b03ea2bd3d07661f",
   "execution_count": 241
  },
  {
   "cell_type": "code",
   "outputs": [],
   "source": [
    "# 4"
   ],
   "metadata": {
    "collapsed": false,
    "ExecuteTime": {
     "end_time": "2024-04-24T14:36:57.714872Z",
     "start_time": "2024-04-24T14:36:57.699969Z"
    }
   },
   "id": "d181350002dc41a7",
   "execution_count": 242
  }
 ],
 "metadata": {
  "kernelspec": {
   "display_name": "Python 3",
   "language": "python",
   "name": "python3"
  },
  "language_info": {
   "codemirror_mode": {
    "name": "ipython",
    "version": 2
   },
   "file_extension": ".py",
   "mimetype": "text/x-python",
   "name": "python",
   "nbconvert_exporter": "python",
   "pygments_lexer": "ipython2",
   "version": "2.7.6"
  }
 },
 "nbformat": 4,
 "nbformat_minor": 5
}

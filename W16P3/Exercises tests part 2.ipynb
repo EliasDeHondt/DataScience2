{
 "cells": [
  {
   "cell_type": "markdown",
   "source": [
    "# Exercises tests part 2"
   ],
   "metadata": {
    "collapsed": false
   },
   "id": "fc11ae5046d6cd48"
  },
  {
   "cell_type": "markdown",
   "source": [
    "## Theoretical questions"
   ],
   "metadata": {
    "collapsed": false
   },
   "id": "d66cd879508e8eb4"
  },
  {
   "cell_type": "code",
   "outputs": [],
   "source": [
    "from scipy.stats import t as student # Student distribution\n",
    "from scipy.stats import chi2 # Chi-squared distribution\n",
    "from scipy.stats import ttest_1samp # One-sample t-test\n",
    "import pandas as pd # Data manipulation\n",
    "import numpy as np # Numerical computing\n",
    "import matplotlib.pyplot as plt # Data visualization\n",
    "import math # Mathematical functions"
   ],
   "metadata": {
    "collapsed": false,
    "ExecuteTime": {
     "end_time": "2024-03-06T11:38:23.921914Z",
     "start_time": "2024-03-06T11:38:23.911173Z"
    }
   },
   "id": "2264e6df19b0fe81",
   "execution_count": 30
  },
  {
   "cell_type": "markdown",
   "source": [
    "### Question 1:\n",
    "- Open the file entry `/gamerps.csv`. Scissors rock paper is a game where you make a choice between these three. However, is there a preference among our scout members regarding the selection test? The expected distribution is proportional. Check whether our count differs from the expected distribution.\n",
    "     - What is `H0`? `The count in our sample is/is not evenly distributed.`\n",
    "     - What is the value of `X^2`? (3 significant digits)\n",
    "     - What is the probability that a sample would have a higher value than `X^2` (p-value)? (3 significant digits)\n",
    "     - Can `H0` be rejected with `95%` confidence?\n",
    "     - So can we say that the scout members have a preference?"
   ],
   "metadata": {
    "collapsed": false
   },
   "id": "8dcce8d70aac0bac"
  },
  {
   "cell_type": "code",
   "outputs": [],
   "source": [
    "gamerps = pd.read_csv('../gamerps.csv', delimiter=';', decimal=',')"
   ],
   "metadata": {
    "collapsed": false,
    "ExecuteTime": {
     "end_time": "2024-03-06T11:38:23.998810Z",
     "start_time": "2024-03-06T11:38:23.983527Z"
    }
   },
   "id": "5813ee597d3898ea",
   "execution_count": 31
  },
  {
   "cell_type": "code",
   "outputs": [
    {
     "data": {
      "text/plain": "        hand\n0   Scissors\n1      Paper\n2      Paper\n3   Scissors\n4   Scissors\n..       ...\n70  Scissors\n71  Scissors\n72     Paper\n73     Paper\n74  Scissors\n\n[75 rows x 1 columns]",
      "text/html": "<div>\n<style scoped>\n    .dataframe tbody tr th:only-of-type {\n        vertical-align: middle;\n    }\n\n    .dataframe tbody tr th {\n        vertical-align: top;\n    }\n\n    .dataframe thead th {\n        text-align: right;\n    }\n</style>\n<table border=\"1\" class=\"dataframe\">\n  <thead>\n    <tr style=\"text-align: right;\">\n      <th></th>\n      <th>hand</th>\n    </tr>\n  </thead>\n  <tbody>\n    <tr>\n      <th>0</th>\n      <td>Scissors</td>\n    </tr>\n    <tr>\n      <th>1</th>\n      <td>Paper</td>\n    </tr>\n    <tr>\n      <th>2</th>\n      <td>Paper</td>\n    </tr>\n    <tr>\n      <th>3</th>\n      <td>Scissors</td>\n    </tr>\n    <tr>\n      <th>4</th>\n      <td>Scissors</td>\n    </tr>\n    <tr>\n      <th>...</th>\n      <td>...</td>\n    </tr>\n    <tr>\n      <th>70</th>\n      <td>Scissors</td>\n    </tr>\n    <tr>\n      <th>71</th>\n      <td>Scissors</td>\n    </tr>\n    <tr>\n      <th>72</th>\n      <td>Paper</td>\n    </tr>\n    <tr>\n      <th>73</th>\n      <td>Paper</td>\n    </tr>\n    <tr>\n      <th>74</th>\n      <td>Scissors</td>\n    </tr>\n  </tbody>\n</table>\n<p>75 rows × 1 columns</p>\n</div>"
     },
     "metadata": {},
     "output_type": "display_data"
    }
   ],
   "source": [
    "display(gamerps)"
   ],
   "metadata": {
    "collapsed": false,
    "ExecuteTime": {
     "end_time": "2024-03-06T11:38:24.014056Z",
     "start_time": "2024-03-06T11:38:24.006269Z"
    }
   },
   "id": "f61d5f3c36d4ed95",
   "execution_count": 32
  },
  {
   "cell_type": "code",
   "outputs": [],
   "source": [],
   "metadata": {
    "collapsed": false,
    "ExecuteTime": {
     "end_time": "2024-03-06T11:38:24.045617Z",
     "start_time": "2024-03-06T11:38:24.039396Z"
    }
   },
   "id": "eba1bc7b75979392",
   "execution_count": 32
  },
  {
   "cell_type": "markdown",
   "source": [
    "### Question 2:\n",
    "- Open the file `/ColorHairBrussels.csv`. This concerns data on the color of the hair of a sample of people in Brussels. The expected distribution of hair colors in Europe are: `30% blonde`, `12% red`, `30% brown`, `25% dark`, and `3% black`. Check whether our count differs from the expected distribution.\n",
    "     - Which test will you use for this?\n",
    "     - What is `H0`? `The hair color count in our sample does/does not deviate from the expected distribution.`\n",
    "     - What `X^2` value do you find?\n",
    "     - What `p-value` do you find?\n",
    "     - Can `H0` be rejected with a reliability of `95%` or not?\n",
    "     - Is there a deviation in Brussels compared to the expected distribution?"
   ],
   "metadata": {
    "collapsed": false
   },
   "id": "ac6e6a8db97c7653"
  },
  {
   "cell_type": "code",
   "outputs": [],
   "source": [
    "colorHairBrussels = pd.read_csv('../colorHairBrussels.csv', delimiter=';', decimal=',')"
   ],
   "metadata": {
    "collapsed": false,
    "ExecuteTime": {
     "end_time": "2024-03-06T11:38:24.077439Z",
     "start_time": "2024-03-06T11:38:24.056673Z"
    }
   },
   "id": "ce4e897992fd055a",
   "execution_count": 33
  },
  {
   "cell_type": "code",
   "outputs": [
    {
     "data": {
      "text/plain": "       hair\n0      Dark\n1    Blonde\n2     Brown\n3    Blonde\n4     Brown\n..      ...\n241   Brown\n242     Red\n243  Blonde\n244   Brown\n245     Red\n\n[246 rows x 1 columns]",
      "text/html": "<div>\n<style scoped>\n    .dataframe tbody tr th:only-of-type {\n        vertical-align: middle;\n    }\n\n    .dataframe tbody tr th {\n        vertical-align: top;\n    }\n\n    .dataframe thead th {\n        text-align: right;\n    }\n</style>\n<table border=\"1\" class=\"dataframe\">\n  <thead>\n    <tr style=\"text-align: right;\">\n      <th></th>\n      <th>hair</th>\n    </tr>\n  </thead>\n  <tbody>\n    <tr>\n      <th>0</th>\n      <td>Dark</td>\n    </tr>\n    <tr>\n      <th>1</th>\n      <td>Blonde</td>\n    </tr>\n    <tr>\n      <th>2</th>\n      <td>Brown</td>\n    </tr>\n    <tr>\n      <th>3</th>\n      <td>Blonde</td>\n    </tr>\n    <tr>\n      <th>4</th>\n      <td>Brown</td>\n    </tr>\n    <tr>\n      <th>...</th>\n      <td>...</td>\n    </tr>\n    <tr>\n      <th>241</th>\n      <td>Brown</td>\n    </tr>\n    <tr>\n      <th>242</th>\n      <td>Red</td>\n    </tr>\n    <tr>\n      <th>243</th>\n      <td>Blonde</td>\n    </tr>\n    <tr>\n      <th>244</th>\n      <td>Brown</td>\n    </tr>\n    <tr>\n      <th>245</th>\n      <td>Red</td>\n    </tr>\n  </tbody>\n</table>\n<p>246 rows × 1 columns</p>\n</div>"
     },
     "metadata": {},
     "output_type": "display_data"
    }
   ],
   "source": [
    "display(colorHairBrussels)"
   ],
   "metadata": {
    "collapsed": false,
    "ExecuteTime": {
     "end_time": "2024-03-06T11:38:24.093368Z",
     "start_time": "2024-03-06T11:38:24.080181Z"
    }
   },
   "id": "85b2b992f238c0a9",
   "execution_count": 34
  },
  {
   "cell_type": "code",
   "outputs": [],
   "source": [],
   "metadata": {
    "collapsed": false,
    "ExecuteTime": {
     "end_time": "2024-03-06T11:38:24.109177Z",
     "start_time": "2024-03-06T11:38:24.094413Z"
    }
   },
   "id": "f72aec064c466e3e",
   "execution_count": 34
  },
  {
   "cell_type": "markdown",
   "source": [
    "### Question 3:\n",
    "- We wish to conduct a survey on students' favorite browser. We expect the following distribution:\n",
    "     - Internet explorer: `8`\n",
    "     - Opera: `10`\n",
    "     - Mozilla Firefox: `10`\n",
    "     - Google chrome: `12`\n",
    "- When inquiring about `1` class group, the distribution appears as follows:\n",
    "     - Internet explorer: `17`\n",
    "     - Opera: `10`\n",
    "     - Mozilla Firefox: `8`\n",
    "     - Google chrome: `5`\n",
    "\n",
    "- Question:\n",
    "     - Which test are you going to apply?\n",
    "     - Is this deviation within our expectations (`alpha=0.01`)?\n",
    "     - What is the critical value of this data?\n",
    "     - What `X^2` value do you find?\n",
    "     - What p-value do you find?"
   ],
   "metadata": {
    "collapsed": false
   },
   "id": "52f18b95661cc892"
  },
  {
   "cell_type": "code",
   "outputs": [],
   "source": [],
   "metadata": {
    "collapsed": false,
    "ExecuteTime": {
     "end_time": "2024-03-06T11:38:24.125073Z",
     "start_time": "2024-03-06T11:38:24.111182Z"
    }
   },
   "id": "42e449944e3abeaf",
   "execution_count": 34
  },
  {
   "cell_type": "markdown",
   "source": [
    "### Question 4:\n",
    "- A programmer has written a Python class to generate random integers between `0` and `10`. This code looks like this:\n",
    "```python\n",
    "import math\n",
    "class Random:\n",
    "    def __init__(self)-> None:\n",
    "        self.i = 0\n",
    "        self.j = 0\n",
    "\n",
    "    def random_between_0_and_10(self) -> int:\n",
    "        r = abs(math.sin(51 * self.i ** 2 + math.cos(80 * self.j)) + math.sin(300 * self.j + 3 * math.sin(111 * self.i - self.j)))\n",
    "        self.j += 1\n",
    "        if self.j > 100:\n",
    "            self.i +=1\n",
    "        if self.i > 100:\n",
    "            self.i = 0\n",
    "            self.j = 0\n",
    "        return math.floor(r * 5.5)\n",
    "```\n",
    "\n",
    "- Write a Python program that generates `1100` random numbers and check whether this random number generator works properly (we expect each number `0-10` to appear equally). Use `alpha=0.05`.\n",
    "     - What `X^2` value do you find?\n",
    "     - What p-value do you find?\n",
    "     - What is the confidence interval for `alpha=0.05`?\n",
    "     - What decision can you make?"
   ],
   "metadata": {
    "collapsed": false
   },
   "id": "82996318cf7a7ab5"
  },
  {
   "cell_type": "code",
   "outputs": [],
   "source": [],
   "metadata": {
    "collapsed": false,
    "ExecuteTime": {
     "end_time": "2024-03-06T11:38:24.140426Z",
     "start_time": "2024-03-06T11:38:24.135799Z"
    }
   },
   "id": "d45ccf151811f954",
   "execution_count": 34
  },
  {
   "cell_type": "markdown",
   "source": [
    "## Practical exercises (Python)"
   ],
   "metadata": {
    "collapsed": false
   },
   "id": "f8f39a382b50d97a"
  },
  {
   "cell_type": "code",
   "outputs": [],
   "source": [
    "studentQuestions = pd.read_csv('../Data1.csv', delimiter=';', decimal=',')"
   ],
   "metadata": {
    "collapsed": false,
    "ExecuteTime": {
     "end_time": "2024-03-06T11:38:24.234863Z",
     "start_time": "2024-03-06T11:38:24.218712Z"
    }
   },
   "id": "5e61cb3cb6fe7e97",
   "execution_count": 35
  },
  {
   "cell_type": "code",
   "outputs": [
    {
     "data": {
      "text/plain": "   gapminder schrijfhand  schoenmaat  lengte    bloedgroep         resus  \\\n0       7/18      Rechts        43.0     184             O      positief   \n1       3/18      Rechts        42.0     163  Weet ik niet  Weet ik niet   \n2      12/18      Rechts        45.0     183            AB      positief   \n3       5/18      Rechts        44.0     175             A      positief   \n4       6/18      Rechts        43.0     173             B      positief   \n..       ...         ...         ...     ...           ...           ...   \n84      7/18      Rechts        45.0     185             O      negatief   \n85      9/18      Rechts        43.0     184             O  Weet ik niet   \n86      4/18       Links        45.5     190  Weet ik niet  Weet ik niet   \n87      8/18      Rechts        45.0     188             A      positief   \n88      7/18      Rechts        43.0     176             B      positief   \n\n    siblings                                     Samenzweringen  \\\n0          5  De tsunami van 2004 in de Indische Oceaan was ...   \n1          1   Prinses Diana kwam niet per ongeluk om het leven   \n2          2  Prinses Diana kwam niet per ongeluk om het lev...   \n3          2  De wereld wordt eigenlijk gecontroleerd door e...   \n4          3  De wereld wordt eigenlijk gecontroleerd door e...   \n..       ...                                                ...   \n84         0  De maanlanding is in scne gezet om de Russen ...   \n85         2  De aanslagen van 9/11 in NY werden niet door t...   \n86         0  Prinses Diana kwam niet per ongeluk om het lev...   \n87         1                                                NaN   \n88         2                                                NaN   \n\n                                            rijbewijs  \\\n0                                Categorie B: Wagens.   \n1   Categorie AM: Bromfietsen met een maximumsnelh...   \n2   Categorie AM: Bromfietsen met een maximumsnelh...   \n3   Categorie AM: Bromfietsen met een maximumsnelh...   \n4                                Categorie B: Wagens.   \n..                                                ...   \n84  Categorie AM: Bromfietsen met een maximumsnelh...   \n85  Categorie AM: Bromfietsen met een maximumsnelh...   \n86  Categorie AM: Bromfietsen met een maximumsnelh...   \n87                               Categorie B: Wagens.   \n88                               Categorie B: Wagens.   \n\n                               domicilie in Antwerpen  ... M1 - stelen  \\\n0   buiten de stad (een dorp, een gehucht, het pla...  ...           7   \n1                                         in een stad  ...          10   \n2                                         in een stad  ...           6   \n3                                         in een stad  ...           9   \n4                                         in een stad  ...          10   \n..                                                ...  ...         ...   \n84  buiten de stad (een dorp, een gehucht, het pla...  ...          10   \n85  buiten de stad (een dorp, een gehucht, het pla...  ...           8   \n86                                        in een stad  ...          10   \n87                                        in een stad  ...           8   \n88                                        in een stad  ...          10   \n\n   M2 - team M3 - beschermen M4 - voorbeeld M5 - embryo  M6 - vrijheid  \\\n0          2               8              6           5            4.0   \n1          5              10              6           7            3.0   \n2          3               7              7          10            6.0   \n3         10              10             10          10            0.0   \n4          6              10              7           7            2.0   \n..       ...             ...            ...         ...            ...   \n84         3               8              8           2            5.0   \n85         5               7              8           4            0.0   \n86         5              10              8           9            5.0   \n87         6               6              7           6            4.0   \n88         5               4              9           3            9.0   \n\n                                             mascotte            zwaarste vak  \\\n0   1=Bever,2=Wasbeer,3=Otter,4=Wolf,5=Poema,6=Pan...            Management 1   \n1   1=Bever,2=Wolf,3=Bizon,4=Otter,5=Panter,6=Poem...            Management 1   \n2   1=Bruine beer,2=Poema,3=Panter,4=Wolf,5=Vos,6=...            Management 1   \n3   1=Wasbeer,2=Wolf,3=Bruine beer,4=Das,5=Vos,6=B...            Management 1   \n4   1=Wolf,2=Vos,3=Bruine beer,4=Bizon,5=Panter,6=...            Management 1   \n..                                                ...                     ...   \n84  1=Panter,2=Poema,3=Wolf,4=Vos,5=Bever,6=Bruine...  Software engineering 1   \n85  1=Panter,2=Poema,3=Vos,4=Wolf,5=Bruine beer,6=...          Data science 1   \n86  1=Wolf,2=Vos,3=Bruine beer,4=Bever,5=Das,6=Was...       User interfaces 1   \n87  1=Otter,2=Wasbeer,3=Vos,4=Bruine beer,5=Bever,...             Netwerken 1   \n88  1=Poema,2=Panter,3=Wolf,4=Bruine beer,5=Bizon,...          Data science 1   \n\n                boeienste vak  studiepunt  \n0              Data science 1  16-20 uren  \n1          Computersystemen 1  <= 10 uren  \n2       Programmeren 1 - Java  16-20 uren  \n3              Data science 1  <= 10 uren  \n4              Data science 1  <= 10 uren  \n..                        ...         ...  \n84          User interfaces 1  26-30 uren  \n85  Programmeren 1 - Embedded  11-15 uren  \n86             Data science 1  16-20 uren  \n87             Data science 1  16-20 uren  \n88      Programmeren 1 - Java  26-30 uren  \n\n[89 rows x 33 columns]",
      "text/html": "<div>\n<style scoped>\n    .dataframe tbody tr th:only-of-type {\n        vertical-align: middle;\n    }\n\n    .dataframe tbody tr th {\n        vertical-align: top;\n    }\n\n    .dataframe thead th {\n        text-align: right;\n    }\n</style>\n<table border=\"1\" class=\"dataframe\">\n  <thead>\n    <tr style=\"text-align: right;\">\n      <th></th>\n      <th>gapminder</th>\n      <th>schrijfhand</th>\n      <th>schoenmaat</th>\n      <th>lengte</th>\n      <th>bloedgroep</th>\n      <th>resus</th>\n      <th>siblings</th>\n      <th>Samenzweringen</th>\n      <th>rijbewijs</th>\n      <th>domicilie in Antwerpen</th>\n      <th>...</th>\n      <th>M1 - stelen</th>\n      <th>M2 - team</th>\n      <th>M3 - beschermen</th>\n      <th>M4 - voorbeeld</th>\n      <th>M5 - embryo</th>\n      <th>M6 - vrijheid</th>\n      <th>mascotte</th>\n      <th>zwaarste vak</th>\n      <th>boeienste vak</th>\n      <th>studiepunt</th>\n    </tr>\n  </thead>\n  <tbody>\n    <tr>\n      <th>0</th>\n      <td>7/18</td>\n      <td>Rechts</td>\n      <td>43.0</td>\n      <td>184</td>\n      <td>O</td>\n      <td>positief</td>\n      <td>5</td>\n      <td>De tsunami van 2004 in de Indische Oceaan was ...</td>\n      <td>Categorie B: Wagens.</td>\n      <td>buiten de stad (een dorp, een gehucht, het pla...</td>\n      <td>...</td>\n      <td>7</td>\n      <td>2</td>\n      <td>8</td>\n      <td>6</td>\n      <td>5</td>\n      <td>4.0</td>\n      <td>1=Bever,2=Wasbeer,3=Otter,4=Wolf,5=Poema,6=Pan...</td>\n      <td>Management 1</td>\n      <td>Data science 1</td>\n      <td>16-20 uren</td>\n    </tr>\n    <tr>\n      <th>1</th>\n      <td>3/18</td>\n      <td>Rechts</td>\n      <td>42.0</td>\n      <td>163</td>\n      <td>Weet ik niet</td>\n      <td>Weet ik niet</td>\n      <td>1</td>\n      <td>Prinses Diana kwam niet per ongeluk om het leven</td>\n      <td>Categorie AM: Bromfietsen met een maximumsnelh...</td>\n      <td>in een stad</td>\n      <td>...</td>\n      <td>10</td>\n      <td>5</td>\n      <td>10</td>\n      <td>6</td>\n      <td>7</td>\n      <td>3.0</td>\n      <td>1=Bever,2=Wolf,3=Bizon,4=Otter,5=Panter,6=Poem...</td>\n      <td>Management 1</td>\n      <td>Computersystemen 1</td>\n      <td>&lt;= 10 uren</td>\n    </tr>\n    <tr>\n      <th>2</th>\n      <td>12/18</td>\n      <td>Rechts</td>\n      <td>45.0</td>\n      <td>183</td>\n      <td>AB</td>\n      <td>positief</td>\n      <td>2</td>\n      <td>Prinses Diana kwam niet per ongeluk om het lev...</td>\n      <td>Categorie AM: Bromfietsen met een maximumsnelh...</td>\n      <td>in een stad</td>\n      <td>...</td>\n      <td>6</td>\n      <td>3</td>\n      <td>7</td>\n      <td>7</td>\n      <td>10</td>\n      <td>6.0</td>\n      <td>1=Bruine beer,2=Poema,3=Panter,4=Wolf,5=Vos,6=...</td>\n      <td>Management 1</td>\n      <td>Programmeren 1 - Java</td>\n      <td>16-20 uren</td>\n    </tr>\n    <tr>\n      <th>3</th>\n      <td>5/18</td>\n      <td>Rechts</td>\n      <td>44.0</td>\n      <td>175</td>\n      <td>A</td>\n      <td>positief</td>\n      <td>2</td>\n      <td>De wereld wordt eigenlijk gecontroleerd door e...</td>\n      <td>Categorie AM: Bromfietsen met een maximumsnelh...</td>\n      <td>in een stad</td>\n      <td>...</td>\n      <td>9</td>\n      <td>10</td>\n      <td>10</td>\n      <td>10</td>\n      <td>10</td>\n      <td>0.0</td>\n      <td>1=Wasbeer,2=Wolf,3=Bruine beer,4=Das,5=Vos,6=B...</td>\n      <td>Management 1</td>\n      <td>Data science 1</td>\n      <td>&lt;= 10 uren</td>\n    </tr>\n    <tr>\n      <th>4</th>\n      <td>6/18</td>\n      <td>Rechts</td>\n      <td>43.0</td>\n      <td>173</td>\n      <td>B</td>\n      <td>positief</td>\n      <td>3</td>\n      <td>De wereld wordt eigenlijk gecontroleerd door e...</td>\n      <td>Categorie B: Wagens.</td>\n      <td>in een stad</td>\n      <td>...</td>\n      <td>10</td>\n      <td>6</td>\n      <td>10</td>\n      <td>7</td>\n      <td>7</td>\n      <td>2.0</td>\n      <td>1=Wolf,2=Vos,3=Bruine beer,4=Bizon,5=Panter,6=...</td>\n      <td>Management 1</td>\n      <td>Data science 1</td>\n      <td>&lt;= 10 uren</td>\n    </tr>\n    <tr>\n      <th>...</th>\n      <td>...</td>\n      <td>...</td>\n      <td>...</td>\n      <td>...</td>\n      <td>...</td>\n      <td>...</td>\n      <td>...</td>\n      <td>...</td>\n      <td>...</td>\n      <td>...</td>\n      <td>...</td>\n      <td>...</td>\n      <td>...</td>\n      <td>...</td>\n      <td>...</td>\n      <td>...</td>\n      <td>...</td>\n      <td>...</td>\n      <td>...</td>\n      <td>...</td>\n      <td>...</td>\n    </tr>\n    <tr>\n      <th>84</th>\n      <td>7/18</td>\n      <td>Rechts</td>\n      <td>45.0</td>\n      <td>185</td>\n      <td>O</td>\n      <td>negatief</td>\n      <td>0</td>\n      <td>De maanlanding is in scne gezet om de Russen ...</td>\n      <td>Categorie AM: Bromfietsen met een maximumsnelh...</td>\n      <td>buiten de stad (een dorp, een gehucht, het pla...</td>\n      <td>...</td>\n      <td>10</td>\n      <td>3</td>\n      <td>8</td>\n      <td>8</td>\n      <td>2</td>\n      <td>5.0</td>\n      <td>1=Panter,2=Poema,3=Wolf,4=Vos,5=Bever,6=Bruine...</td>\n      <td>Software engineering 1</td>\n      <td>User interfaces 1</td>\n      <td>26-30 uren</td>\n    </tr>\n    <tr>\n      <th>85</th>\n      <td>9/18</td>\n      <td>Rechts</td>\n      <td>43.0</td>\n      <td>184</td>\n      <td>O</td>\n      <td>Weet ik niet</td>\n      <td>2</td>\n      <td>De aanslagen van 9/11 in NY werden niet door t...</td>\n      <td>Categorie AM: Bromfietsen met een maximumsnelh...</td>\n      <td>buiten de stad (een dorp, een gehucht, het pla...</td>\n      <td>...</td>\n      <td>8</td>\n      <td>5</td>\n      <td>7</td>\n      <td>8</td>\n      <td>4</td>\n      <td>0.0</td>\n      <td>1=Panter,2=Poema,3=Vos,4=Wolf,5=Bruine beer,6=...</td>\n      <td>Data science 1</td>\n      <td>Programmeren 1 - Embedded</td>\n      <td>11-15 uren</td>\n    </tr>\n    <tr>\n      <th>86</th>\n      <td>4/18</td>\n      <td>Links</td>\n      <td>45.5</td>\n      <td>190</td>\n      <td>Weet ik niet</td>\n      <td>Weet ik niet</td>\n      <td>0</td>\n      <td>Prinses Diana kwam niet per ongeluk om het lev...</td>\n      <td>Categorie AM: Bromfietsen met een maximumsnelh...</td>\n      <td>in een stad</td>\n      <td>...</td>\n      <td>10</td>\n      <td>5</td>\n      <td>10</td>\n      <td>8</td>\n      <td>9</td>\n      <td>5.0</td>\n      <td>1=Wolf,2=Vos,3=Bruine beer,4=Bever,5=Das,6=Was...</td>\n      <td>User interfaces 1</td>\n      <td>Data science 1</td>\n      <td>16-20 uren</td>\n    </tr>\n    <tr>\n      <th>87</th>\n      <td>8/18</td>\n      <td>Rechts</td>\n      <td>45.0</td>\n      <td>188</td>\n      <td>A</td>\n      <td>positief</td>\n      <td>1</td>\n      <td>NaN</td>\n      <td>Categorie B: Wagens.</td>\n      <td>in een stad</td>\n      <td>...</td>\n      <td>8</td>\n      <td>6</td>\n      <td>6</td>\n      <td>7</td>\n      <td>6</td>\n      <td>4.0</td>\n      <td>1=Otter,2=Wasbeer,3=Vos,4=Bruine beer,5=Bever,...</td>\n      <td>Netwerken 1</td>\n      <td>Data science 1</td>\n      <td>16-20 uren</td>\n    </tr>\n    <tr>\n      <th>88</th>\n      <td>7/18</td>\n      <td>Rechts</td>\n      <td>43.0</td>\n      <td>176</td>\n      <td>B</td>\n      <td>positief</td>\n      <td>2</td>\n      <td>NaN</td>\n      <td>Categorie B: Wagens.</td>\n      <td>in een stad</td>\n      <td>...</td>\n      <td>10</td>\n      <td>5</td>\n      <td>4</td>\n      <td>9</td>\n      <td>3</td>\n      <td>9.0</td>\n      <td>1=Poema,2=Panter,3=Wolf,4=Bruine beer,5=Bizon,...</td>\n      <td>Data science 1</td>\n      <td>Programmeren 1 - Java</td>\n      <td>26-30 uren</td>\n    </tr>\n  </tbody>\n</table>\n<p>89 rows × 33 columns</p>\n</div>"
     },
     "metadata": {},
     "output_type": "display_data"
    }
   ],
   "source": [
    "display(studentQuestions)"
   ],
   "metadata": {
    "collapsed": false,
    "ExecuteTime": {
     "end_time": "2024-03-06T11:38:24.282046Z",
     "start_time": "2024-03-06T11:38:24.251374Z"
    }
   },
   "id": "2982744c657d7ba",
   "execution_count": 36
  },
  {
   "cell_type": "markdown",
   "source": [
    "### Exercise 1:\n",
    "- Add a column to the data frame and place the stature of a person expressed in shoe size (i.e. height divided by shoe size)"
   ],
   "metadata": {
    "collapsed": false
   },
   "id": "439b67b46397307e"
  },
  {
   "cell_type": "code",
   "outputs": [
    {
     "data": {
      "text/plain": "     stature  lengte  schoenmaat\n0   4.279070     184        43.0\n1   3.880952     163        42.0\n2   4.066667     183        45.0\n3   3.977273     175        44.0\n4   4.023256     173        43.0\n..       ...     ...         ...\n84  4.111111     185        45.0\n85  4.279070     184        43.0\n86  4.175824     190        45.5\n87  4.177778     188        45.0\n88  4.093023     176        43.0\n\n[89 rows x 3 columns]",
      "text/html": "<div>\n<style scoped>\n    .dataframe tbody tr th:only-of-type {\n        vertical-align: middle;\n    }\n\n    .dataframe tbody tr th {\n        vertical-align: top;\n    }\n\n    .dataframe thead th {\n        text-align: right;\n    }\n</style>\n<table border=\"1\" class=\"dataframe\">\n  <thead>\n    <tr style=\"text-align: right;\">\n      <th></th>\n      <th>stature</th>\n      <th>lengte</th>\n      <th>schoenmaat</th>\n    </tr>\n  </thead>\n  <tbody>\n    <tr>\n      <th>0</th>\n      <td>4.279070</td>\n      <td>184</td>\n      <td>43.0</td>\n    </tr>\n    <tr>\n      <th>1</th>\n      <td>3.880952</td>\n      <td>163</td>\n      <td>42.0</td>\n    </tr>\n    <tr>\n      <th>2</th>\n      <td>4.066667</td>\n      <td>183</td>\n      <td>45.0</td>\n    </tr>\n    <tr>\n      <th>3</th>\n      <td>3.977273</td>\n      <td>175</td>\n      <td>44.0</td>\n    </tr>\n    <tr>\n      <th>4</th>\n      <td>4.023256</td>\n      <td>173</td>\n      <td>43.0</td>\n    </tr>\n    <tr>\n      <th>...</th>\n      <td>...</td>\n      <td>...</td>\n      <td>...</td>\n    </tr>\n    <tr>\n      <th>84</th>\n      <td>4.111111</td>\n      <td>185</td>\n      <td>45.0</td>\n    </tr>\n    <tr>\n      <th>85</th>\n      <td>4.279070</td>\n      <td>184</td>\n      <td>43.0</td>\n    </tr>\n    <tr>\n      <th>86</th>\n      <td>4.175824</td>\n      <td>190</td>\n      <td>45.5</td>\n    </tr>\n    <tr>\n      <th>87</th>\n      <td>4.177778</td>\n      <td>188</td>\n      <td>45.0</td>\n    </tr>\n    <tr>\n      <th>88</th>\n      <td>4.093023</td>\n      <td>176</td>\n      <td>43.0</td>\n    </tr>\n  </tbody>\n</table>\n<p>89 rows × 3 columns</p>\n</div>"
     },
     "metadata": {},
     "output_type": "display_data"
    }
   ],
   "source": [
    "studentQuestions['stature'] = studentQuestions['lengte'] / studentQuestions['schoenmaat']\n",
    "display(studentQuestions[['stature','lengte','schoenmaat']])"
   ],
   "metadata": {
    "collapsed": false,
    "ExecuteTime": {
     "end_time": "2024-03-06T11:38:24.345391Z",
     "start_time": "2024-03-06T11:38:24.321329Z"
    }
   },
   "id": "226a017cd1abc68e",
   "execution_count": 37
  },
  {
   "cell_type": "markdown",
   "source": [
    "### Exercise 2:\n",
    "- Someone claims that the ratio of height to shoe size of a human being is `4.2` with a standard deviation of `0.05`. Can you agree with this based on the data from the questionnaire? And from what significance level (`alpha`)?"
   ],
   "metadata": {
    "collapsed": false
   },
   "id": "e8f1254695876091"
  },
  {
   "cell_type": "code",
   "outputs": [
    {
     "name": "stdout",
     "output_type": "stream",
     "text": [
      "Reject the null hypothesis. There is evidence to suggest that the ratio is different from 4.2.\n"
     ]
    }
   ],
   "source": [
    "# Null Hypothesis (H0): The true ratio of height to shoe size is 4.2.\n",
    "# Alternative Hypothesis (H1): The true ratio of height to shoe size is not equal to 4.2.\n",
    "\n",
    "# Calculate the sample mean and standard deviation\n",
    "sample_mean = studentQuestions['stature'].mean()\n",
    "sample_std = studentQuestions['stature'].std()\n",
    "\n",
    "# Calculate the t-statistic\n",
    "n = len(studentQuestions)\n",
    "t_statistic = (sample_mean - 4.2) / (sample_std / math.sqrt(n))\n",
    "\n",
    "# Calculate the p-value\n",
    "p_value = 2 * (1 - student.cdf(abs(t_statistic), df=n-1))\n",
    "\n",
    "# Set the significance level\n",
    "alpha = 0.05\n",
    "\n",
    "# Print the results\n",
    "if p_value < alpha:\n",
    "    print('Reject the null hypothesis. There is evidence to suggest that the ratio is different from 4.2.')\n",
    "else:\n",
    "    print('Fail to reject the null hypothesis. The data does not provide enough evidence to suggest a difference from 4.2.')"
   ],
   "metadata": {
    "collapsed": false,
    "ExecuteTime": {
     "end_time": "2024-03-06T11:38:24.361173Z",
     "start_time": "2024-03-06T11:38:24.346544Z"
    }
   },
   "id": "c0d4588203e46fa1",
   "execution_count": 38
  },
  {
   "cell_type": "markdown",
   "source": [
    "### Exercise 3:\n",
    "- Determine the `99%` confidence interval for the distance to KdG (remove the outliers first!)."
   ],
   "metadata": {
    "collapsed": false
   },
   "id": "4763d5f4fbadd085"
  },
  {
   "cell_type": "code",
   "outputs": [
    {
     "name": "stdout",
     "output_type": "stream",
     "text": [
      "Low:  -16.650000000000002\n",
      "High: 43.75\n",
      "Len:  89\n",
      "Outliers: [48. 44. 44.] \n",
      "\n",
      "Factor: 2.371022043913763\n",
      "Confidence Interval: (10.652390235958102, 16.5383074384605)\n"
     ]
    }
   ],
   "source": [
    "def no_outliers(data): # Return the data without outliers\n",
    "    Q1 = data.quantile(0.25)\n",
    "    Q3 = data.quantile(0.75)\n",
    "    I = Q3 - Q1\n",
    "    low = Q1 - 1.5 * I\n",
    "    high = Q3 + 1.5 * I\n",
    "    outliers = data[(data < low) | (data > high)]\n",
    "    \n",
    "    print(\"Low: \",low)\n",
    "    print(\"High:\",high)\n",
    "    print(\"Len: \",len(data))\n",
    "    print(\"Outliers:\", outliers.values, \"\\n\")\n",
    "    return data[(data >= low) & (data <= high)]\n",
    "\n",
    "distance = no_outliers(studentQuestions['afstand tot KdG'])\n",
    "s = distance.std() # s = Sample standard deviation\n",
    "x_bar = distance.mean() # x_bar = Sample mean\n",
    "n = len(distance) # n = Population size\n",
    "df = n - 1 # df = Degrees of freedom\n",
    "p = 0.99 # p = Confidence level\n",
    "\n",
    "\n",
    "factor = student.ppf(p, df=df) # factor = Z-score\n",
    "print(\"Factor:\",factor)\n",
    "interval = student.interval(confidence=p, df=df, loc=x_bar, scale=s/math.sqrt(n))\n",
    "print(\"Confidence Interval:\",interval)"
   ],
   "metadata": {
    "collapsed": false,
    "ExecuteTime": {
     "end_time": "2024-03-06T11:46:04.846463Z",
     "start_time": "2024-03-06T11:46:04.828222Z"
    }
   },
   "id": "2b6f2cdb5583c35f",
   "execution_count": 52
  },
  {
   "cell_type": "markdown",
   "source": [
    "### Exercise 4:\n",
    "- Iemand beweert dat de afstand tot KdG gemiddeld 19 km bedraagt. Vanaf welk significantieniveau (alpha) kan je de bewering niet weerleggen?"
   ],
   "metadata": {
    "collapsed": false
   },
   "id": "f56a43dca7238bc9"
  },
  {
   "cell_type": "code",
   "outputs": [],
   "source": [],
   "metadata": {
    "collapsed": false,
    "ExecuteTime": {
     "end_time": "2024-03-06T11:38:24.391953Z",
     "start_time": "2024-03-06T11:38:24.381986Z"
    }
   },
   "id": "cfe85b4d1d57ec5c",
   "execution_count": 39
  },
  {
   "cell_type": "markdown",
   "source": [
    "### Exercise 5:\n",
    "- Verdeling over de verschillende bloedgroepen {\"O\":0.45, \"A\":0.4, \"B\":0.1, \"AB\":0.05}. Kan je dit op basis van de steekproef weerleggen? Neem alpha = 0,05."
   ],
   "metadata": {
    "collapsed": false
   },
   "id": "c30a24fc5fd3d4a"
  },
  {
   "cell_type": "code",
   "outputs": [],
   "source": [],
   "metadata": {
    "collapsed": false,
    "ExecuteTime": {
     "end_time": "2024-03-06T11:38:24.423762Z",
     "start_time": "2024-03-06T11:38:24.405549Z"
    }
   },
   "id": "4a35e166afaca94d",
   "execution_count": 39
  }
 ],
 "metadata": {
  "kernelspec": {
   "display_name": "Python 3",
   "language": "python",
   "name": "python3"
  },
  "language_info": {
   "codemirror_mode": {
    "name": "ipython",
    "version": 2
   },
   "file_extension": ".py",
   "mimetype": "text/x-python",
   "name": "python",
   "nbconvert_exporter": "python",
   "pygments_lexer": "ipython2",
   "version": "2.7.6"
  }
 },
 "nbformat": 4,
 "nbformat_minor": 5
}

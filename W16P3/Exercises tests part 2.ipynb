{
 "cells": [
  {
   "cell_type": "markdown",
   "source": [
    "# Exercises tests part 2"
   ],
   "metadata": {
    "collapsed": false
   },
   "id": "fc11ae5046d6cd48"
  },
  {
   "cell_type": "markdown",
   "source": [
    "## Theoretical questions"
   ],
   "metadata": {
    "collapsed": false
   },
   "id": "d66cd879508e8eb4"
  },
  {
   "cell_type": "markdown",
   "source": [
    "### Question 1:"
   ],
   "metadata": {
    "collapsed": false
   },
   "id": "8dcce8d70aac0bac"
  },
  {
   "cell_type": "code",
   "outputs": [],
   "source": [],
   "metadata": {
    "collapsed": false,
    "ExecuteTime": {
     "end_time": "2024-02-20T20:08:58.836814100Z",
     "start_time": "2024-02-20T20:08:58.830814200Z"
    }
   },
   "id": "f61d5f3c36d4ed95",
   "execution_count": null
  },
  {
   "cell_type": "markdown",
   "source": [
    "### Question 2:"
   ],
   "metadata": {
    "collapsed": false
   },
   "id": "ac6e6a8db97c7653"
  },
  {
   "cell_type": "code",
   "outputs": [],
   "source": [],
   "metadata": {
    "collapsed": false,
    "ExecuteTime": {
     "end_time": "2024-02-20T20:08:58.853170200Z",
     "start_time": "2024-02-20T20:08:58.838814500Z"
    }
   },
   "id": "ce4e897992fd055a",
   "execution_count": null
  },
  {
   "cell_type": "markdown",
   "source": [
    "### Question 3:"
   ],
   "metadata": {
    "collapsed": false
   },
   "id": "52f18b95661cc892"
  },
  {
   "cell_type": "code",
   "outputs": [],
   "source": [],
   "metadata": {
    "collapsed": false,
    "ExecuteTime": {
     "end_time": "2024-02-20T20:08:58.869941100Z",
     "start_time": "2024-02-20T20:08:58.854610700Z"
    }
   },
   "id": "42e449944e3abeaf",
   "execution_count": null
  },
  {
   "cell_type": "markdown",
   "source": [
    "### Question 4:"
   ],
   "metadata": {
    "collapsed": false
   },
   "id": "82996318cf7a7ab5"
  },
  {
   "cell_type": "code",
   "outputs": [],
   "source": [],
   "metadata": {
    "collapsed": false,
    "ExecuteTime": {
     "end_time": "2024-02-20T20:08:58.885843100Z",
     "start_time": "2024-02-20T20:08:58.870939600Z"
    }
   },
   "id": "d45ccf151811f954",
   "execution_count": null
  },
  {
   "cell_type": "markdown",
   "source": [
    "### Question 5:"
   ],
   "metadata": {
    "collapsed": false
   },
   "id": "620d7b7bdcad6009"
  },
  {
   "cell_type": "code",
   "outputs": [],
   "source": [],
   "metadata": {
    "collapsed": false,
    "ExecuteTime": {
     "end_time": "2024-02-20T20:08:58.900349300Z",
     "start_time": "2024-02-20T20:08:58.885843100Z"
    }
   },
   "id": "578c8e73692e80b7",
   "execution_count": null
  },
  {
   "cell_type": "markdown",
   "source": [
    "### Question 6:"
   ],
   "metadata": {
    "collapsed": false
   },
   "id": "6070de44bfdfd33"
  },
  {
   "cell_type": "code",
   "outputs": [],
   "source": [],
   "metadata": {
    "collapsed": false,
    "ExecuteTime": {
     "end_time": "2024-02-20T20:08:58.915371300Z",
     "start_time": "2024-02-20T20:08:58.901385200Z"
    }
   },
   "id": "d18f832b04f4acf8",
   "execution_count": null
  },
  {
   "cell_type": "markdown",
   "source": [
    "### Question 7:"
   ],
   "metadata": {
    "collapsed": false
   },
   "id": "cc61bae3d109394c"
  },
  {
   "cell_type": "code",
   "outputs": [],
   "source": [],
   "metadata": {
    "collapsed": false,
    "ExecuteTime": {
     "end_time": "2024-02-20T20:08:58.931066900Z",
     "start_time": "2024-02-20T20:08:58.917967900Z"
    }
   },
   "id": "44bfac8b48ddafd0",
   "execution_count": null
  },
  {
   "cell_type": "markdown",
   "source": [
    "### Question 8:"
   ],
   "metadata": {
    "collapsed": false
   },
   "id": "38274c4c7bf85d7a"
  },
  {
   "cell_type": "code",
   "outputs": [],
   "source": [],
   "metadata": {
    "collapsed": false,
    "ExecuteTime": {
     "end_time": "2024-02-20T20:08:58.947238100Z",
     "start_time": "2024-02-20T20:08:58.931066900Z"
    }
   },
   "id": "a1a696d807d4c60a",
   "execution_count": null
  },
  {
   "cell_type": "markdown",
   "source": [
    "### Question 9:"
   ],
   "metadata": {
    "collapsed": false
   },
   "id": "ee5c4b5a82eb1955"
  },
  {
   "cell_type": "code",
   "outputs": [],
   "source": [],
   "metadata": {
    "collapsed": false,
    "ExecuteTime": {
     "end_time": "2024-02-20T20:08:58.961834600Z",
     "start_time": "2024-02-20T20:08:58.947238100Z"
    }
   },
   "id": "cff83f626304373",
   "execution_count": null
  },
  {
   "cell_type": "markdown",
   "source": [
    "### Question 10:"
   ],
   "metadata": {
    "collapsed": false
   },
   "id": "d6410f46d520b3c4"
  },
  {
   "cell_type": "code",
   "outputs": [],
   "source": [],
   "metadata": {
    "collapsed": false,
    "ExecuteTime": {
     "end_time": "2024-02-20T20:08:58.977393600Z",
     "start_time": "2024-02-20T20:08:58.963277300Z"
    }
   },
   "id": "a568b487cdf6735b",
   "execution_count": null
  },
  {
   "cell_type": "markdown",
   "source": [
    "## Practical exercises (Python)"
   ],
   "metadata": {
    "collapsed": false
   },
   "id": "f8f39a382b50d97a"
  },
  {
   "cell_type": "code",
   "outputs": [],
   "source": [],
   "metadata": {
    "collapsed": false,
    "ExecuteTime": {
     "end_time": "2024-02-20T20:08:58.992904400Z",
     "start_time": "2024-02-20T20:08:58.978396800Z"
    }
   },
   "id": "5e61cb3cb6fe7e97",
   "execution_count": null
  },
  {
   "cell_type": "markdown",
   "source": [
    "### Exercise 1:"
   ],
   "metadata": {
    "collapsed": false
   },
   "id": "439b67b46397307e"
  },
  {
   "cell_type": "code",
   "outputs": [],
   "source": [],
   "metadata": {
    "collapsed": false,
    "ExecuteTime": {
     "end_time": "2024-02-20T20:08:59.010768200Z",
     "start_time": "2024-02-20T20:08:58.994134700Z"
    }
   },
   "id": "226a017cd1abc68e",
   "execution_count": null
  },
  {
   "cell_type": "markdown",
   "source": [
    "### Exercise 2:"
   ],
   "metadata": {
    "collapsed": false
   },
   "id": "e8f1254695876091"
  },
  {
   "cell_type": "code",
   "outputs": [],
   "source": [],
   "metadata": {
    "collapsed": false,
    "ExecuteTime": {
     "end_time": "2024-02-20T20:08:59.025297400Z",
     "start_time": "2024-02-20T20:08:59.010768200Z"
    }
   },
   "id": "c0d4588203e46fa1",
   "execution_count": null
  },
  {
   "cell_type": "markdown",
   "source": [
    "### Exercise 3:"
   ],
   "metadata": {
    "collapsed": false
   },
   "id": "4763d5f4fbadd085"
  },
  {
   "cell_type": "code",
   "outputs": [],
   "source": [],
   "metadata": {
    "collapsed": false,
    "ExecuteTime": {
     "end_time": "2024-02-20T20:08:59.041101100Z",
     "start_time": "2024-02-20T20:08:59.027970400Z"
    }
   },
   "id": "2b6f2cdb5583c35f",
   "execution_count": null
  },
  {
   "cell_type": "markdown",
   "source": [
    "### Exercise 4:"
   ],
   "metadata": {
    "collapsed": false
   },
   "id": "f56a43dca7238bc9"
  },
  {
   "cell_type": "code",
   "outputs": [],
   "source": [],
   "metadata": {
    "collapsed": false,
    "ExecuteTime": {
     "end_time": "2024-02-20T20:08:59.064040100Z",
     "start_time": "2024-02-20T20:08:59.041101100Z"
    }
   },
   "id": "cfe85b4d1d57ec5c",
   "execution_count": null
  }
 ],
 "metadata": {
  "kernelspec": {
   "display_name": "Python 3",
   "language": "python",
   "name": "python3"
  },
  "language_info": {
   "codemirror_mode": {
    "name": "ipython",
    "version": 2
   },
   "file_extension": ".py",
   "mimetype": "text/x-python",
   "name": "python",
   "nbconvert_exporter": "python",
   "pygments_lexer": "ipython2",
   "version": "2.7.6"
  }
 },
 "nbformat": 4,
 "nbformat_minor": 5
}

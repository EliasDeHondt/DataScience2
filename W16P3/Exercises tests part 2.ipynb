{
 "cells": [
  {
   "cell_type": "markdown",
   "source": [
    "# Exercises tests part 2"
   ],
   "metadata": {
    "collapsed": false
   },
   "id": "fc11ae5046d6cd48"
  },
  {
   "cell_type": "markdown",
   "source": [
    "## Theoretical questions"
   ],
   "metadata": {
    "collapsed": false
   },
   "id": "d66cd879508e8eb4"
  },
  {
   "cell_type": "code",
   "outputs": [],
   "source": [
    "from scipy.stats import t as student # Student distribution\n",
    "import pandas as pd # Data manipulation\n",
    "import numpy as np # Numerical computing\n",
    "import matplotlib.pyplot as plt # Data visualization\n",
    "import math # Mathematical functions"
   ],
   "metadata": {
    "collapsed": false,
    "ExecuteTime": {
     "end_time": "2024-03-02T11:53:59.814126Z",
     "start_time": "2024-03-02T11:53:59.806398Z"
    }
   },
   "id": "2264e6df19b0fe81",
   "execution_count": 6
  },
  {
   "cell_type": "markdown",
   "source": [
    "### Question 1:\n",
    "- Open the file entry `/gamerps.csv`. Scissors rock paper is a game where you make a choice between these three. However, is there a preference among our scout members regarding the selection test? The expected distribution is proportional. Check whether our count differs from the expected distribution.\n",
    "     - What is `H0`? `The count in our sample is/is not evenly distributed.`\n",
    "     - What is the value of `X^2`? (3 significant digits)\n",
    "     - What is the probability that a sample would have a higher value than `X^2` (p-value)? (3 significant digits)\n",
    "     - Can `H0` be rejected with `95%` confidence?\n",
    "     - So can we say that the scout members have a preference?"
   ],
   "metadata": {
    "collapsed": false
   },
   "id": "8dcce8d70aac0bac"
  },
  {
   "cell_type": "code",
   "outputs": [],
   "source": [
    "gamerps = pd.read_csv('../gamerps.csv', delimiter=';', decimal=',')"
   ],
   "metadata": {
    "collapsed": false,
    "ExecuteTime": {
     "end_time": "2024-03-02T11:53:59.891870Z",
     "start_time": "2024-03-02T11:53:59.877881Z"
    }
   },
   "id": "5813ee597d3898ea",
   "execution_count": 7
  },
  {
   "cell_type": "code",
   "outputs": [
    {
     "data": {
      "text/plain": "        hand\n0   Scissors\n1      Paper\n2      Paper\n3   Scissors\n4   Scissors\n..       ...\n70  Scissors\n71  Scissors\n72     Paper\n73     Paper\n74  Scissors\n\n[75 rows x 1 columns]",
      "text/html": "<div>\n<style scoped>\n    .dataframe tbody tr th:only-of-type {\n        vertical-align: middle;\n    }\n\n    .dataframe tbody tr th {\n        vertical-align: top;\n    }\n\n    .dataframe thead th {\n        text-align: right;\n    }\n</style>\n<table border=\"1\" class=\"dataframe\">\n  <thead>\n    <tr style=\"text-align: right;\">\n      <th></th>\n      <th>hand</th>\n    </tr>\n  </thead>\n  <tbody>\n    <tr>\n      <th>0</th>\n      <td>Scissors</td>\n    </tr>\n    <tr>\n      <th>1</th>\n      <td>Paper</td>\n    </tr>\n    <tr>\n      <th>2</th>\n      <td>Paper</td>\n    </tr>\n    <tr>\n      <th>3</th>\n      <td>Scissors</td>\n    </tr>\n    <tr>\n      <th>4</th>\n      <td>Scissors</td>\n    </tr>\n    <tr>\n      <th>...</th>\n      <td>...</td>\n    </tr>\n    <tr>\n      <th>70</th>\n      <td>Scissors</td>\n    </tr>\n    <tr>\n      <th>71</th>\n      <td>Scissors</td>\n    </tr>\n    <tr>\n      <th>72</th>\n      <td>Paper</td>\n    </tr>\n    <tr>\n      <th>73</th>\n      <td>Paper</td>\n    </tr>\n    <tr>\n      <th>74</th>\n      <td>Scissors</td>\n    </tr>\n  </tbody>\n</table>\n<p>75 rows × 1 columns</p>\n</div>"
     },
     "metadata": {},
     "output_type": "display_data"
    }
   ],
   "source": [
    "display(gamerps)"
   ],
   "metadata": {
    "collapsed": false,
    "ExecuteTime": {
     "end_time": "2024-03-02T11:53:59.907445Z",
     "start_time": "2024-03-02T11:53:59.895692Z"
    }
   },
   "id": "f61d5f3c36d4ed95",
   "execution_count": 8
  },
  {
   "cell_type": "code",
   "outputs": [],
   "source": [],
   "metadata": {
    "collapsed": false,
    "ExecuteTime": {
     "end_time": "2024-03-02T11:53:59.923545Z",
     "start_time": "2024-03-02T11:53:59.909878Z"
    }
   },
   "id": "eba1bc7b75979392",
   "execution_count": 8
  },
  {
   "cell_type": "markdown",
   "source": [
    "### Question 2:\n",
    "- Open the file `/ColorHairBrussels.csv`. This concerns data on the color of the hair of a sample of people in Brussels. The expected distribution of hair colors in Europe are: `30% blonde`, `12% red`, `30% brown`, `25% dark`, and `3% black`. Check whether our count differs from the expected distribution.\n",
    "     - Which test will you use for this?\n",
    "     - What is `H0`? `The hair color count in our sample does/does not deviate from the expected distribution.`\n",
    "     - What `X^2` value do you find?\n",
    "     - What `p-value` do you find?\n",
    "     - Can `H0` be rejected with a reliability of `95%` or not?\n",
    "     - Is there a deviation in Brussels compared to the expected distribution?"
   ],
   "metadata": {
    "collapsed": false
   },
   "id": "ac6e6a8db97c7653"
  },
  {
   "cell_type": "code",
   "outputs": [],
   "source": [
    "colorHairBrussels = pd.read_csv('../colorHairBrussels.csv', delimiter=';', decimal=',')"
   ],
   "metadata": {
    "collapsed": false,
    "ExecuteTime": {
     "end_time": "2024-03-02T11:53:59.939235Z",
     "start_time": "2024-03-02T11:53:59.925058Z"
    }
   },
   "id": "ce4e897992fd055a",
   "execution_count": 9
  },
  {
   "cell_type": "code",
   "outputs": [
    {
     "data": {
      "text/plain": "       hair\n0      Dark\n1    Blonde\n2     Brown\n3    Blonde\n4     Brown\n..      ...\n241   Brown\n242     Red\n243  Blonde\n244   Brown\n245     Red\n\n[246 rows x 1 columns]",
      "text/html": "<div>\n<style scoped>\n    .dataframe tbody tr th:only-of-type {\n        vertical-align: middle;\n    }\n\n    .dataframe tbody tr th {\n        vertical-align: top;\n    }\n\n    .dataframe thead th {\n        text-align: right;\n    }\n</style>\n<table border=\"1\" class=\"dataframe\">\n  <thead>\n    <tr style=\"text-align: right;\">\n      <th></th>\n      <th>hair</th>\n    </tr>\n  </thead>\n  <tbody>\n    <tr>\n      <th>0</th>\n      <td>Dark</td>\n    </tr>\n    <tr>\n      <th>1</th>\n      <td>Blonde</td>\n    </tr>\n    <tr>\n      <th>2</th>\n      <td>Brown</td>\n    </tr>\n    <tr>\n      <th>3</th>\n      <td>Blonde</td>\n    </tr>\n    <tr>\n      <th>4</th>\n      <td>Brown</td>\n    </tr>\n    <tr>\n      <th>...</th>\n      <td>...</td>\n    </tr>\n    <tr>\n      <th>241</th>\n      <td>Brown</td>\n    </tr>\n    <tr>\n      <th>242</th>\n      <td>Red</td>\n    </tr>\n    <tr>\n      <th>243</th>\n      <td>Blonde</td>\n    </tr>\n    <tr>\n      <th>244</th>\n      <td>Brown</td>\n    </tr>\n    <tr>\n      <th>245</th>\n      <td>Red</td>\n    </tr>\n  </tbody>\n</table>\n<p>246 rows × 1 columns</p>\n</div>"
     },
     "metadata": {},
     "output_type": "display_data"
    }
   ],
   "source": [
    "display(colorHairBrussels)"
   ],
   "metadata": {
    "collapsed": false,
    "ExecuteTime": {
     "end_time": "2024-03-02T11:53:59.954545Z",
     "start_time": "2024-03-02T11:53:59.940871Z"
    }
   },
   "id": "85b2b992f238c0a9",
   "execution_count": 10
  },
  {
   "cell_type": "code",
   "outputs": [],
   "source": [],
   "metadata": {
    "collapsed": false,
    "ExecuteTime": {
     "end_time": "2024-03-02T11:53:59.970107Z",
     "start_time": "2024-03-02T11:53:59.955551Z"
    }
   },
   "id": "f72aec064c466e3e",
   "execution_count": 10
  },
  {
   "cell_type": "markdown",
   "source": [
    "### Question 3:\n",
    "- We wish to conduct a survey on students' favorite browser. We expect the following distribution:\n",
    "     - Internet explorer: `8`\n",
    "     - Opera: `10`\n",
    "     - Mozilla Firefox: `10`\n",
    "     - Google chrome: `12`\n",
    "- When inquiring about `1` class group, the distribution appears as follows:\n",
    "     - Internet explorer: `17`\n",
    "     - Opera: `10`\n",
    "     - Mozilla Firefox: `8`\n",
    "     - Google chrome: `5`\n",
    "\n",
    "- Question:\n",
    "     - Which test are you going to apply?\n",
    "     - Is this deviation within our expectations (`alpha=0.01`)?\n",
    "     - What is the critical value of this data?\n",
    "     - What `X^2` value do you find?\n",
    "     - What p-value do you find?"
   ],
   "metadata": {
    "collapsed": false
   },
   "id": "52f18b95661cc892"
  },
  {
   "cell_type": "code",
   "outputs": [],
   "source": [],
   "metadata": {
    "collapsed": false,
    "ExecuteTime": {
     "end_time": "2024-03-02T11:53:59.984917Z",
     "start_time": "2024-03-02T11:53:59.971558Z"
    }
   },
   "id": "42e449944e3abeaf",
   "execution_count": 10
  },
  {
   "cell_type": "markdown",
   "source": [
    "### Question 4:\n",
    "- A programmer has written a Python class to generate random integers between `0` and `10`. This code looks like this:\n",
    "```python\n",
    "import math\n",
    "class Random:\n",
    "    def __init__(self)-> None:\n",
    "        self.i = 0\n",
    "        self.j = 0\n",
    "\n",
    "    def random_between_0_and_10(self) -> int:\n",
    "        r = abs(math.sin(51 * self.i ** 2 + math.cos(80 * self.j)) + math.sin(300 * self.j + 3 * math.sin(111 * self.i - self.j)))\n",
    "        self.j += 1\n",
    "        if self.j > 100:\n",
    "            self.i +=1\n",
    "        if self.i > 100:\n",
    "            self.i = 0\n",
    "            self.j = 0\n",
    "        return math.floor(r * 5.5)\n",
    "```\n",
    "\n",
    "- Write a Python program that generates `1100` random numbers and check whether this random number generator works properly (we expect each number `0-10` to appear equally). Use `alpha=0.05`.\n",
    "     - What `X^2` value do you find?\n",
    "     - What p-value do you find?\n",
    "     - What is the confidence interval for `alpha=0.05`?\n",
    "     - What decision can you make?"
   ],
   "metadata": {
    "collapsed": false
   },
   "id": "82996318cf7a7ab5"
  },
  {
   "cell_type": "code",
   "outputs": [],
   "source": [],
   "metadata": {
    "collapsed": false,
    "ExecuteTime": {
     "end_time": "2024-03-02T11:54:00.000045Z",
     "start_time": "2024-03-02T11:53:59.986923Z"
    }
   },
   "id": "d45ccf151811f954",
   "execution_count": 10
  },
  {
   "cell_type": "markdown",
   "source": [
    "## Practical exercises (Python)"
   ],
   "metadata": {
    "collapsed": false
   },
   "id": "f8f39a382b50d97a"
  },
  {
   "cell_type": "code",
   "outputs": [],
   "source": [],
   "metadata": {
    "collapsed": false,
    "ExecuteTime": {
     "end_time": "2024-03-02T11:54:00.015436Z",
     "start_time": "2024-03-02T11:54:00.002036Z"
    }
   },
   "id": "5e61cb3cb6fe7e97",
   "execution_count": 10
  },
  {
   "cell_type": "markdown",
   "source": [
    "### Exercise 1:"
   ],
   "metadata": {
    "collapsed": false
   },
   "id": "439b67b46397307e"
  },
  {
   "cell_type": "code",
   "outputs": [],
   "source": [],
   "metadata": {
    "collapsed": false,
    "ExecuteTime": {
     "end_time": "2024-03-02T11:54:00.031255Z",
     "start_time": "2024-03-02T11:54:00.017784Z"
    }
   },
   "id": "226a017cd1abc68e",
   "execution_count": 10
  },
  {
   "cell_type": "markdown",
   "source": [
    "### Exercise 2:"
   ],
   "metadata": {
    "collapsed": false
   },
   "id": "e8f1254695876091"
  },
  {
   "cell_type": "code",
   "outputs": [],
   "source": [],
   "metadata": {
    "collapsed": false,
    "ExecuteTime": {
     "end_time": "2024-03-02T11:54:00.046278Z",
     "start_time": "2024-03-02T11:54:00.033080Z"
    }
   },
   "id": "c0d4588203e46fa1",
   "execution_count": 10
  },
  {
   "cell_type": "markdown",
   "source": [
    "### Exercise 3:"
   ],
   "metadata": {
    "collapsed": false
   },
   "id": "4763d5f4fbadd085"
  },
  {
   "cell_type": "code",
   "outputs": [],
   "source": [],
   "metadata": {
    "collapsed": false,
    "ExecuteTime": {
     "end_time": "2024-03-02T11:54:00.093918Z",
     "start_time": "2024-03-02T11:54:00.090206Z"
    }
   },
   "id": "2b6f2cdb5583c35f",
   "execution_count": 10
  },
  {
   "cell_type": "markdown",
   "source": [
    "### Exercise 4:"
   ],
   "metadata": {
    "collapsed": false
   },
   "id": "f56a43dca7238bc9"
  },
  {
   "cell_type": "code",
   "outputs": [],
   "source": [],
   "metadata": {
    "collapsed": false,
    "ExecuteTime": {
     "end_time": "2024-03-02T11:54:00.140188Z",
     "start_time": "2024-03-02T11:54:00.137694Z"
    }
   },
   "id": "cfe85b4d1d57ec5c",
   "execution_count": 10
  }
 ],
 "metadata": {
  "kernelspec": {
   "display_name": "Python 3",
   "language": "python",
   "name": "python3"
  },
  "language_info": {
   "codemirror_mode": {
    "name": "ipython",
    "version": 2
   },
   "file_extension": ".py",
   "mimetype": "text/x-python",
   "name": "python",
   "nbconvert_exporter": "python",
   "pygments_lexer": "ipython2",
   "version": "2.7.6"
  }
 },
 "nbformat": 4,
 "nbformat_minor": 5
}

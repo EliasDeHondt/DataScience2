{
 "cells": [
  {
   "metadata": {},
   "cell_type": "markdown",
   "source": "# Practice",
   "id": "25ef229349c3b7b3"
  },
  {
   "metadata": {},
   "cell_type": "markdown",
   "source": "## Libraries",
   "id": "fdbd73feefe59b5e"
  },
  {
   "cell_type": "code",
   "id": "initial_id",
   "metadata": {
    "collapsed": true,
    "ExecuteTime": {
     "end_time": "2024-06-10T10:18:43.133266Z",
     "start_time": "2024-06-10T10:18:43.051541Z"
    }
   },
   "source": [
    "from termcolor import colored # type: ignore                                          # Colored text\n",
    "from random import Random  # type: ignore                                             # Random number generator\n",
    "import math  # type: ignore                                                           # Mathematical functions\n",
    "import pandas as pd  # type: ignore                                                   # Data manipulation\n",
    "import numpy as np  # type: ignore                                                    # Scientific computing\n",
    "import matplotlib.pyplot as plt  # type: ignore                                       # Data visualization\n",
    "from scipy.stats import binom as binomial  # type: ignore                             # Binomial distribution\n",
    "from scipy.stats import norm as normal  # type: ignore                                # Normal distribution\n",
    "from scipy.stats import poisson as poisson  # type: ignore                            # Poisson distribution\n",
    "from scipy.stats import t as student  # type: ignore                                  # Student distribution\n",
    "from scipy.stats import chi2  # type: ignore                                          # Chi-squared distribution\n",
    "from scipy.stats import ttest_1samp  # type: ignore                                   # One-sample t-test\n",
    "from scipy.stats import chisquare  # type: ignore                                     # Chi-squared test\n",
    "from scipy.special import comb  # type: ignore                                        # Combinations\n",
    "from mlxtend.frequent_patterns import apriori  # type: ignore                         # Apriori algorithm\n",
    "from mlxtend.frequent_patterns import fpgrowth  # type: ignore                        # FP-growth algorithm\n",
    "from mlxtend.frequent_patterns import association_rules  # type: ignore               # Association rules\n",
    "from mlxtend.preprocessing import TransactionEncoder  # type: ignore                  # Transaction encoder\n",
    "from sklearn.discriminant_analysis import LinearDiscriminantAnalysis  # type: ignore  # Discriminant Analysis\n",
    "from tensorflow import keras  # type: ignore                                          # Deep Learning library\n",
    "from tensorflow.keras import Model  # type: ignore                                    # Model class\n",
    "from tensorflow.keras.layers import Input, Dense, BatchNormalization  # type: ignore  # Layers\n",
    "from tensorflow.keras.utils import to_categorical  # type: ignore                     # One-hot encoding\n",
    "from tensorflow.keras.optimizers import Adam  # type: ignore                          # Optimizer\n",
    "from livelossplot import PlotLossesKeras  # type: ignore                              # Live plot\n",
    "from keras.src.optimizers import RMSprop  # type: ignore                              # Optimizer\n",
    "from sklearn.model_selection import train_test_split  # type: ignore                  # Train-test split\n",
    "from sklearn.metrics import roc_auc_score # type: ignore                              # ROC AUC score\n",
    "from simanneal import Annealer  # type: ignore                                        # Simulated Annealing\n",
    "from inspyred import ec  # type: ignore                                               # Evolutionary Computation\n",
    "import warnings  # type: ignore                                                       # Disable warnings\n",
    "from Resources.Functions import *  # type: ignore                                     # Custom functions\n",
    "warnings.filterwarnings(\"ignore\")                                                     # Disable warnings\n",
    "outputColor = \"blue\"                                                                  # Color for the output"
   ],
   "outputs": [],
   "execution_count": 7
  },
  {
   "metadata": {},
   "cell_type": "markdown",
   "source": [
    "## Information About the Dataset\n",
    "- Information about the dataset `../Data/Gesture-Original.csv` used in the following questions.\n",
    "- This dataset contains data from 64 muscle sensors `V1 - V64` that are placed on the body of test subjects. In addition, the file contains 2 columns.\n",
    "- `gesture` always contains the hand gesture performed by a test subject during the measurement of the 64 sensors. The possible values `Pare`, `rock`, `paper`, `scissors`\n",
    "and `okay`.\n",
    "- The `okay` column does not contain any new data, but simply indicates whether the subject performed the `okay` hand gesture during the measurement."
   ],
   "id": "91c17ba492416214"
  },
  {
   "metadata": {
    "ExecuteTime": {
     "end_time": "2024-06-10T07:16:32.744284Z",
     "start_time": "2024-06-10T07:16:32.652057Z"
    }
   },
   "cell_type": "code",
   "source": [
    "# Load in data and filter data\n",
    "gestureOriginal = pd.read_csv(\"../Data/Gesture-Original.csv\", delimiter=';')"
   ],
   "id": "b0779b3ad3a94f1e",
   "outputs": [],
   "execution_count": 2
  },
  {
   "metadata": {},
   "cell_type": "markdown",
   "source": [
    "### Question 1:\n",
    "- Apply linear discriminant analysis to the `../Data/Gesture-Original.csv` dataset.\n",
    "- `gesture` is the dependent variable.\n",
    "- Use all other variables as independent variables except the column Okay.\n",
    "\n",
    "Answer the following questions:\n",
    "- One of the assumptions for being able to apply LDA is that there is no dependence exists between the independent variables. Show that here or not is met.2. \n",
    "- How many discriminant functions are created?\n",
    "- Why exactly are there so many?\n",
    "- Which independent variable plays the largest role in the first discriminant function? Please indicate how you got here."
   ],
   "id": "93b079662452c29f"
  },
  {
   "metadata": {
    "ExecuteTime": {
     "end_time": "2024-06-10T07:16:32.901088Z",
     "start_time": "2024-06-10T07:16:32.745435Z"
    }
   },
   "cell_type": "code",
   "source": [
    "# Create linear discriminant analysis model\n",
    "# independentVariables = gestureOriginal[['V1', 'V2', 'V3', 'V4', 'V5', 'V6', 'V7', 'V8', 'V9', 'V10', 'V11', 'V12', 'V13', 'V14', 'V15', 'V16', 'V17', 'V18', 'V19', 'V20', 'V21', 'V22', 'V23', 'V24', 'V25', 'V26', 'V27', 'V28', 'V29', 'V30', 'V31', 'V32', 'V33', 'V34', 'V35', 'V36', 'V37', 'V38', 'V39', 'V40', 'V41', 'V42', 'V43', 'V44', 'V45', 'V46', 'V47', 'V48', 'V49', 'V50', 'V51', 'V52', 'V53', 'V54', 'V55', 'V56', 'V57', 'V58', 'V59', 'V60', 'V61', 'V62', 'V63', 'V64']]\n",
    "\n",
    "independentVariables = gestureOriginal.drop(columns=['gesture', 'okay'])                                                        # Independent variables\n",
    "dependentVariable = gestureOriginal['gesture']                                                                                  # Dependent variable\n",
    "lda = LinearDiscriminantAnalysis()\n",
    "lda.fit(independentVariables, dependentVariable)\n",
    "\n",
    "# independentVariables.describe()\n",
    "# independentVariables.corr(method='pearson')\n",
    "\n",
    "# Show some information about the discriminant analysis\n",
    "print(colored(f\"There are {(len(dependentVariable.unique()))-1} dimensions and there are {len(dependentVariable.unique())} different possibilities for the dependent variable and also, there are {len(independentVariables.columns)} independent variables. And there are {min(len(gestureOriginal['gesture'].unique()) - 1, independentVariables.shape[1])} discriminant functions.\", outputColor))\n",
    "print(colored(f\"\\nThe reason for the number of discriminant functions is that the number of discriminant functions is the minimum of the number of dependent variables and the number of independent variables.\", outputColor))"
   ],
   "id": "d13cf98f368f5d84",
   "outputs": [
    {
     "name": "stdout",
     "output_type": "stream",
     "text": [
      "\u001B[34mThere are 3 dimensions and there are 4 different possibilities for the dependent variable and also, there are 64 independent variables. And there are 3 discriminant functions.\u001B[0m\n",
      "\u001B[34m\n",
      "The reason for the number of discriminant functions is that the number of discriminant functions is the minimum of the number of dependent variables and the number of independent variables.\u001B[0m\n"
     ]
    }
   ],
   "execution_count": 3
  },
  {
   "metadata": {
    "ExecuteTime": {
     "end_time": "2024-06-10T07:16:33.009966Z",
     "start_time": "2024-06-10T07:16:32.902543Z"
    }
   },
   "cell_type": "code",
   "source": [
    "# Determine the most important variable\n",
    "result = most_important_variable(independentVariables, dependentVariable)\n",
    "\n",
    "# Print the most important variable\n",
    "print(colored(\"The independent variable that plays the most significant role in the first discriminant function is:\", outputColor))\n",
    "print(colored(f\"Variable: {result['Variable']}, Coefficient: {result['Coefficient']}\", outputColor))"
   ],
   "id": "f1b9e55d4f20d416",
   "outputs": [
    {
     "name": "stdout",
     "output_type": "stream",
     "text": [
      "\u001B[34mThe independent variable that plays the most significant role in the first discriminant function is:\u001B[0m\n",
      "\u001B[34mVariable: V39, Coefficient: 0.006181404091898121\u001B[0m\n"
     ]
    }
   ],
   "execution_count": 4
  },
  {
   "metadata": {},
   "cell_type": "markdown",
   "source": [
    "### Question 2:\n",
    "- With 64 independent variables we are dealing with a rather large number.\n",
    "    - Use proper technique to limit the number of variables.\n",
    "    - I want to limit myself to 10 variables. What percentage of the information from the original. Can I keep the dataset with this?\n",
    "    - Explain how you arrived at this number?\n",
    "    - Create a data set with those 10 variables.\n",
    "        - Perform a discriminant analysis. Compare the explained variance with that of the previous exercise."
   ],
   "id": "1cb761421f5700a6"
  },
  {
   "metadata": {
    "ExecuteTime": {
     "end_time": "2024-06-10T07:16:33.118305Z",
     "start_time": "2024-06-10T07:16:33.011961Z"
    }
   },
   "cell_type": "code",
   "source": [
    "from sklearn.decomposition import PCA\n",
    "\n",
    "# Limit the number of variables\n",
    "pca_dim = min(independentVariables.shape[1], independentVariables.shape[0])                                             # Number of dimensions (dependent variables)\n",
    "pcamodel = PCA(n_components=pca_dim)                                                                                    # Create PCA model\n",
    "principalComponents = pcamodel.fit_transform(independentVariables)                                                      # Fit and transform the data\n",
    "col_names = ['PC{}'.format(i) for i in range(1, 11)]                                                                    # Get the column names\n",
    "new_independentVariables = pd.DataFrame(data=principalComponents[:,[0, 1, 2, 3, 4, 5, 6, 7, 8, 9]], columns= col_names) # Create a new dataframe with the principal components\n",
    "\n",
    "# Conclusion what did we do. We combined the 64 independent variables into 10 principal components, and we used these 10 principal components as independent variables.\n",
    "print(colored(f\"The new dataset contains {new_independentVariables.shape[1]} independent variables.\", outputColor))\n",
    "\n",
    "print(colored(f\"We expect to keep {round(pcamodel.explained_variance_ratio_[range(0,10)].sum() * 100, 2)}% of the information from the original dataset.\", outputColor))\n",
    "\n",
    "# Explain how we arrived at this number\n",
    "print(colored(f\"\\nWe arrived at this number by calculating the sum of the explained variance ratios of the first 10 principal components.\", outputColor))"
   ],
   "id": "c8be5cc3487395ce",
   "outputs": [
    {
     "name": "stdout",
     "output_type": "stream",
     "text": [
      "\u001B[34mThe new dataset contains 10 independent variables.\u001B[0m\n",
      "\u001B[34mWe expect to keep 51.83% of the information from the original dataset.\u001B[0m\n",
      "\u001B[34m\n",
      "We arrived at this number by calculating the sum of the explained variance ratios of the first 10 principal components.\u001B[0m\n"
     ]
    }
   ],
   "execution_count": 5
  },
  {
   "metadata": {
    "ExecuteTime": {
     "end_time": "2024-06-10T07:16:33.165826Z",
     "start_time": "2024-06-10T07:16:33.120299Z"
    }
   },
   "cell_type": "code",
   "source": [
    "# Create a new discriminant analysis model\n",
    "lda_new = LinearDiscriminantAnalysis()\n",
    "lda_new.fit(new_independentVariables, dependentVariable)\n",
    "\n",
    "# Compare the lda models with lda_new model\n",
    "print(colored(f\"The first discriminant function of the new model explains {round(lda_new.explained_variance_ratio_[0] * 100, 2)}% of the variance.\", outputColor))\n",
    "print(colored(f\"The first discriminant function of the old model explains {round(lda.explained_variance_ratio_[0] * 100, 2)}% of the variance.\", outputColor))\n",
    "\n",
    "print(colored(f\"\\nThe second discriminant function of the new model explains {round(lda_new.explained_variance_ratio_[1] * 100, 2)}% of the variance.\", outputColor))\n",
    "print(colored(f\"The second discriminant function of the old model explains {round(lda.explained_variance_ratio_[1] * 100, 2)}% of the variance.\", outputColor))\n",
    "\n",
    "print(colored(f\"\\nThe third discriminant function of the new model explains {round(lda_new.explained_variance_ratio_[2] * 100, 2)}% of the variance.\", outputColor))\n",
    "print(colored(f\"The third discriminant function of the old model explains {round(lda.explained_variance_ratio_[2] * 100, 2)}% of the variance.\", outputColor))\n",
    "\n",
    "print(colored(f\"\\nWe can obviously see that the old model with more independent variables can quicker explain more variance than the new model with less independent variables.\", outputColor))"
   ],
   "id": "c6517b87614c8302",
   "outputs": [
    {
     "name": "stdout",
     "output_type": "stream",
     "text": [
      "\u001B[34mThe first discriminant function of the new model explains 72.63% of the variance.\u001B[0m\n",
      "\u001B[34mThe first discriminant function of the old model explains 91.15% of the variance.\u001B[0m\n",
      "\u001B[34m\n",
      "The second discriminant function of the new model explains 16.87% of the variance.\u001B[0m\n",
      "\u001B[34mThe second discriminant function of the old model explains 5.33% of the variance.\u001B[0m\n",
      "\u001B[34m\n",
      "The third discriminant function of the new model explains 10.5% of the variance.\u001B[0m\n",
      "\u001B[34mThe third discriminant function of the old model explains 3.52% of the variance.\u001B[0m\n",
      "\u001B[34m\n",
      "We can obviously see that the old model with more independent variables can quicker explain more variance than the new model with less independent variables.\u001B[0m\n"
     ]
    }
   ],
   "execution_count": 6
  },
  {
   "metadata": {},
   "cell_type": "markdown",
   "source": [
    "### Question 3:\n",
    "- We created our own model with more test data to predict whether someone will have it performs `okay` hand gesture. The data is available in `../Data/Gesture-Evaluation.csv`. Note that the predicted values pare not just `0` or `1`, but can be close to `0` or close to `1` or somewhere in between. Take `0.5` as the threshold.\n",
    "\n",
    "Answer the following questions:\n",
    "- You want to know how well the model can predict whether the test subject has diabetes performing `okay` gesture. What metric do you use?\n",
    "- How much is this?\n",
    "- Calculate the F-measure in which the importance of recall and precision is equal weigh. How much is this?\n",
    "- Create an ROC curve.\n",
    "- What is the AUC?\n",
    "- What can you conclude based on the answer to question?"
   ],
   "id": "6e945f7de7257a05"
  },
  {
   "metadata": {
    "ExecuteTime": {
     "end_time": "2024-06-10T10:26:55.633793Z",
     "start_time": "2024-06-10T10:26:55.580899Z"
    }
   },
   "cell_type": "code",
   "source": [
    "# Load in data and filter data\n",
    "gestureEvaluation = pd.read_csv(\"../Data/Gesture-Evaluation.csv\", delimiter=',', decimal='.')\n",
    "gestureEvaluation.loc[gestureEvaluation.predicted < 0.5, 'predicted'] = 0\n",
    "gestureEvaluation.loc[gestureEvaluation.predicted >= 0.5, 'predicted'] = 1"
   ],
   "id": "ffa6c45ecd2573e6",
   "outputs": [
    {
     "data": {
      "text/plain": [
       "Predicted  okay  paper  rock  scissors  Total\n",
       "actual                                       \n",
       "okay       1093    716   353       759   2921\n",
       "paper       735   1058   157       953   2903\n",
       "rock        463    550  1257       640   2910\n",
       "scissors    825    752   381       985   2943\n",
       "Total      3116   3076  2148      3337  11677"
      ],
      "text/html": [
       "<div>\n",
       "<style scoped>\n",
       "    .dataframe tbody tr th:only-of-type {\n",
       "        vertical-align: middle;\n",
       "    }\n",
       "\n",
       "    .dataframe tbody tr th {\n",
       "        vertical-align: top;\n",
       "    }\n",
       "\n",
       "    .dataframe thead th {\n",
       "        text-align: right;\n",
       "    }\n",
       "</style>\n",
       "<table border=\"1\" class=\"dataframe\">\n",
       "  <thead>\n",
       "    <tr style=\"text-align: right;\">\n",
       "      <th>Predicted</th>\n",
       "      <th>okay</th>\n",
       "      <th>paper</th>\n",
       "      <th>rock</th>\n",
       "      <th>scissors</th>\n",
       "      <th>Total</th>\n",
       "    </tr>\n",
       "    <tr>\n",
       "      <th>actual</th>\n",
       "      <th></th>\n",
       "      <th></th>\n",
       "      <th></th>\n",
       "      <th></th>\n",
       "      <th></th>\n",
       "    </tr>\n",
       "  </thead>\n",
       "  <tbody>\n",
       "    <tr>\n",
       "      <th>okay</th>\n",
       "      <td>1093</td>\n",
       "      <td>716</td>\n",
       "      <td>353</td>\n",
       "      <td>759</td>\n",
       "      <td>2921</td>\n",
       "    </tr>\n",
       "    <tr>\n",
       "      <th>paper</th>\n",
       "      <td>735</td>\n",
       "      <td>1058</td>\n",
       "      <td>157</td>\n",
       "      <td>953</td>\n",
       "      <td>2903</td>\n",
       "    </tr>\n",
       "    <tr>\n",
       "      <th>rock</th>\n",
       "      <td>463</td>\n",
       "      <td>550</td>\n",
       "      <td>1257</td>\n",
       "      <td>640</td>\n",
       "      <td>2910</td>\n",
       "    </tr>\n",
       "    <tr>\n",
       "      <th>scissors</th>\n",
       "      <td>825</td>\n",
       "      <td>752</td>\n",
       "      <td>381</td>\n",
       "      <td>985</td>\n",
       "      <td>2943</td>\n",
       "    </tr>\n",
       "    <tr>\n",
       "      <th>Total</th>\n",
       "      <td>3116</td>\n",
       "      <td>3076</td>\n",
       "      <td>2148</td>\n",
       "      <td>3337</td>\n",
       "      <td>11677</td>\n",
       "    </tr>\n",
       "  </tbody>\n",
       "</table>\n",
       "</div>"
      ]
     },
     "metadata": {},
     "output_type": "display_data"
    }
   ],
   "execution_count": 19
  },
  {
   "metadata": {
    "ExecuteTime": {
     "end_time": "2024-06-10T10:41:10.748292Z",
     "start_time": "2024-06-10T10:41:10.728176Z"
    }
   },
   "cell_type": "code",
   "source": [
    "# Evaluating model\n",
    "predicted = gestureEvaluation.predicted\n",
    "actual = gestureEvaluation.actual\n",
    "confusion_matrix = pd.crosstab(index=actual, columns=predicted)\n",
    "\n",
    "accuracy = accuracyf(confusion_matrix)\n",
    "\n",
    "# Accuracy: The sum of all correct predictions divided by the total sum.\n",
    "print(colored(f\"The accuracy of the classifier is: {round(accuracy, 2) * 100}%\\n\", outputColor))\n",
    "\n",
    "f1_0 = f_measuref(confusion_matrix, 1)[0]\n",
    "f1_1 = f_measuref(confusion_matrix, 1)[1]\n",
    "\n",
    "# F-measuref: The curved harmonic mean of precision and recall.\n",
    "print(colored(f\"The F1-measure for the class 0 is: {round(f1_0, 2) * 100}%\", outputColor))\n",
    "print(colored(f\"The F1-measure for the class 1 is: {round(f1_1, 2) * 100}%\", outputColor))\n",
    "print(colored(f\"The F1-measure for all classes is: {round((f1_0 + f1_1) / 2, 2) * 100}%\\n\", outputColor))\n",
    "\n",
    "evaluate_classifier(confusion_matrix, 1, 0.9)"
   ],
   "id": "a2bf13561fc10012",
   "outputs": [
    {
     "name": "stdout",
     "output_type": "stream",
     "text": [
      "\u001B[34mThe accuracy of the classifier is: 75.0%\n",
      "\u001B[0m\n",
      "\u001B[34mThe F1-measure for the class 0 is: 83.0%\u001B[0m\n",
      "\u001B[34mThe F1-measure for the class 1 is: 51.0%\u001B[0m\n",
      "\u001B[34mThe F1-measure for all classes is: 67.0%\n",
      "\u001B[0m\n",
      "\u001B[34mThis is a bad classifier with a threshold of 90.0%\u001B[0m\n"
     ]
    }
   ],
   "execution_count": 42
  },
  {
   "metadata": {
    "ExecuteTime": {
     "end_time": "2024-06-10T10:40:15.623567Z",
     "start_time": "2024-06-10T10:40:15.423626Z"
    }
   },
   "cell_type": "code",
   "source": [
    "predicted = gestureEvaluation.predicted\n",
    "actual = gestureEvaluation.actual\n",
    "\n",
    "# Calculate the AUC (Area Under the Curve)\n",
    "AUC = roc_auc_score(actual, predicted)\n",
    "print(colored(f\"The AUC (Area Under the Curve) is: {AUC}\", outputColor))\n",
    "\n",
    "# Create a ROC (Receiver Operator Characteristic Curve) diagram.\n",
    "plot_rocf(actual, predicted, title='ROC Curve')"
   ],
   "id": "a2bbb45bce8db24c",
   "outputs": [
    {
     "name": "stdout",
     "output_type": "stream",
     "text": [
      "\u001B[34mThe AUC (Area Under the Curve) is: 0.6729833787784725\u001B[0m\n"
     ]
    },
    {
     "data": {
      "text/plain": [
       "<Figure size 700x700 with 1 Axes>"
      ],
      "image/png": "[encoded data removed]"
     },
     "metadata": {},
     "output_type": "display_data"
    }
   ],
   "execution_count": 40
  },
  {
   "metadata": {
    "ExecuteTime": {
     "end_time": "2024-06-10T10:46:23.435456Z",
     "start_time": "2024-06-10T10:46:23.417280Z"
    }
   },
   "cell_type": "code",
   "source": [
    "# Conclusion\n",
    "print(colored(f\"We can draw several conclusions from the results, but the most important one is that the accuracy is quite low at {round(accuracy, 2) * 100}%. However, the AUC is relatively acceptable because it is above 0.5, specifically {AUC}. This means that the model correctly predicts the outcome {round(AUC, 2) * 100}% of the time.\", outputColor))"
   ],
   "id": "a3879fe05aca2d4a",
   "outputs": [
    {
     "name": "stdout",
     "output_type": "stream",
     "text": [
      "\u001B[34mWe can draw several conclusions from the results, but the most important one is that the accuracy is quite low at 75.0%. However, the AUC is relatively acceptable because it is above 0.5, specifically 0.6729833787784725. This means that the model correctly predicts the outcome 67.0% of the time.\u001B[0m\n"
     ]
    }
   ],
   "execution_count": 45
  },
  {
   "metadata": {},
   "cell_type": "markdown",
   "source": [
    "### Question 4:\n",
    "Use dataframe `../Data/Gesture-Original.csv` to train an artificial neural network around the column predict `okay`.\n",
    "- Scale the data with min-max normalization\n",
    "- Create a neural network model for the entire data set with the following values for the parameters:\n",
    "    - 4 hidden layers: 32, 16, 8 and 4 neurons\n",
    "    - learning rate = 0.001\n",
    "    - epochs=100\n",
    "    - Make the right choices according to the objective of the ANN - for the other parameters involved correspond to the functions used."
   ],
   "id": "aeaf26ee4d9de5e0"
  },
  {
   "metadata": {
    "ExecuteTime": {
     "end_time": "2024-06-10T11:41:47.774466Z",
     "start_time": "2024-06-10T11:41:47.689877Z"
    }
   },
   "cell_type": "code",
   "source": [
    "# Load in data and filter data\n",
    "gestureOriginal = pd.read_csv(\"../Data/Gesture-Original.csv\", delimiter=';')\n",
    "\n",
    "# Split up the necessary data \n",
    "x_gestureOriginal = gestureOriginal.drop(columns=['gesture', 'okay'])                                                                  # Get the input\n",
    "y_gestureOriginal = gestureOriginal['okay']                                                                                            # Get the output\n",
    "\n",
    "# Normalize and convert input and output fields\n",
    "x_gestureOriginal_normalize = (x_gestureOriginal - x_gestureOriginal.min()) / (x_gestureOriginal.max() - x_gestureOriginal.min())      # Normalization of the input"
   ],
   "id": "a333f15e8a1d8e71",
   "outputs": [],
   "execution_count": 56
  },
  {
   "metadata": {},
   "cell_type": "code",
   "source": [
    "# Create (ANN) artificial neural network\n",
    "inputs_gestureOriginal = Input(shape=(64,))\n",
    "x_gestureOriginal_model = Dense(32, activation='sigmoid')(inputs_gestureOriginal)\n",
    "x_gestureOriginal_model = Dense(16, activation='sigmoid')(x_gestureOriginal_model)\n",
    "x_gestureOriginal_model = Dense(8, activation='sigmoid')(x_gestureOriginal_model)\n",
    "x_gestureOriginal_model = Dense(4, activation='sigmoid')(x_gestureOriginal_model)\n",
    "outputs_gestureOriginal = Dense(1, activation='sigmoid')(x_gestureOriginal_model)\n",
    "model_gestureOriginal = Model(inputs_gestureOriginal, outputs_gestureOriginal, name='gestureOriginal_NN')                          # Softmax for one-hot encoding (classification)\n",
    "\n",
    "# Compile the model\n",
    "model_gestureOriginal.compile(optimizer=Adam(learning_rate=0.001), loss=keras.losses.binary_crossentropy, metrics=['accuracy'])    # Binary_crossentropy for one-hot encoding\n",
    "\n",
    "# Fit the model\n",
    "history_gestureOriginal = model_gestureOriginal.fit(\n",
    "                                                x_gestureOriginal_normalize,            # Input\n",
    "                                                y_gestureOriginal,                      # Output\n",
    "                                                epochs=100,                             # Number of epochs (epochs = iterations over all the dataset)\n",
    "                                                callbacks=[PlotLossesKeras()],          # Plot the losses\n",
    "                                                verbose=False)                          # Fit the model"
   ],
   "id": "9e435cda7446d5bd",
   "execution_count": 59,
   "outputs": [
    {
     "name": "stdout",
     "output_type": "stream",
     "text": [
      "accuracy\n",
      "\taccuracy         \t (min:    0.750, max:    0.761, cur:    0.761)\n",
      "Loss\n",
      "\tloss             \t (min:    0.533, max:    0.565, cur:    0.533)\n"
     ]
    }
   ]
  },
  {
   "metadata": {
    "ExecuteTime": {
     "end_time": "2024-06-10T11:44:40.660921Z",
     "start_time": "2024-06-10T11:44:40.619166Z"
    }
   },
   "cell_type": "code",
   "source": [
    "# Get a summary of the model\n",
    "model_gestureOriginal.summary()"
   ],
   "id": "f0445d5807fa6aeb",
   "outputs": [
    {
     "data": {
      "text/plain": [
       "\u001B[1mModel: \"gestureOriginal_NN\"\u001B[0m\n"
      ],
      "text/html": [
       "<pre style=\"white-space:pre;overflow-x:auto;line-height:normal;font-family:Menlo,'DejaVu Sans Mono',consolas,'Courier New',monospace\"><span style=\"font-weight: bold\">Model: \"gestureOriginal_NN\"</span>\n",
       "</pre>\n"
      ]
     },
     "metadata": {},
     "output_type": "display_data"
    },
    {
     "data": {
      "text/plain": [
       "┏━━━━━━━━━━━━━━━━━━━━━━━━━━━━━━━━━┳━━━━━━━━━━━━━━━━━━━━━━━━┳━━━━━━━━━━━━━━━┓\n",
       "┃\u001B[1m \u001B[0m\u001B[1mLayer (type)                   \u001B[0m\u001B[1m \u001B[0m┃\u001B[1m \u001B[0m\u001B[1mOutput Shape          \u001B[0m\u001B[1m \u001B[0m┃\u001B[1m \u001B[0m\u001B[1m      Param #\u001B[0m\u001B[1m \u001B[0m┃\n",
       "┡━━━━━━━━━━━━━━━━━━━━━━━━━━━━━━━━━╇━━━━━━━━━━━━━━━━━━━━━━━━╇━━━━━━━━━━━━━━━┩\n",
       "│ input_layer_4 (\u001B[38;5;33mInputLayer\u001B[0m)      │ (\u001B[38;5;45mNone\u001B[0m, \u001B[38;5;34m64\u001B[0m)             │             \u001B[38;5;34m0\u001B[0m │\n",
       "├─────────────────────────────────┼────────────────────────┼───────────────┤\n",
       "│ dense_16 (\u001B[38;5;33mDense\u001B[0m)                │ (\u001B[38;5;45mNone\u001B[0m, \u001B[38;5;34m32\u001B[0m)             │         \u001B[38;5;34m2,080\u001B[0m │\n",
       "├─────────────────────────────────┼────────────────────────┼───────────────┤\n",
       "│ dense_17 (\u001B[38;5;33mDense\u001B[0m)                │ (\u001B[38;5;45mNone\u001B[0m, \u001B[38;5;34m16\u001B[0m)             │           \u001B[38;5;34m528\u001B[0m │\n",
       "├─────────────────────────────────┼────────────────────────┼───────────────┤\n",
       "│ dense_18 (\u001B[38;5;33mDense\u001B[0m)                │ (\u001B[38;5;45mNone\u001B[0m, \u001B[38;5;34m8\u001B[0m)              │           \u001B[38;5;34m136\u001B[0m │\n",
       "├─────────────────────────────────┼────────────────────────┼───────────────┤\n",
       "│ dense_19 (\u001B[38;5;33mDense\u001B[0m)                │ (\u001B[38;5;45mNone\u001B[0m, \u001B[38;5;34m4\u001B[0m)              │            \u001B[38;5;34m36\u001B[0m │\n",
       "├─────────────────────────────────┼────────────────────────┼───────────────┤\n",
       "│ dense_20 (\u001B[38;5;33mDense\u001B[0m)                │ (\u001B[38;5;45mNone\u001B[0m, \u001B[38;5;34m1\u001B[0m)              │             \u001B[38;5;34m5\u001B[0m │\n",
       "└─────────────────────────────────┴────────────────────────┴───────────────┘\n"
      ],
      "text/html": [
       "<pre style=\"white-space:pre;overflow-x:auto;line-height:normal;font-family:Menlo,'DejaVu Sans Mono',consolas,'Courier New',monospace\">┏━━━━━━━━━━━━━━━━━━━━━━━━━━━━━━━━━┳━━━━━━━━━━━━━━━━━━━━━━━━┳━━━━━━━━━━━━━━━┓\n",
       "┃<span style=\"font-weight: bold\"> Layer (type)                    </span>┃<span style=\"font-weight: bold\"> Output Shape           </span>┃<span style=\"font-weight: bold\">       Param # </span>┃\n",
       "┡━━━━━━━━━━━━━━━━━━━━━━━━━━━━━━━━━╇━━━━━━━━━━━━━━━━━━━━━━━━╇━━━━━━━━━━━━━━━┩\n",
       "│ input_layer_4 (<span style=\"color: #0087ff; text-decoration-color: #0087ff\">InputLayer</span>)      │ (<span style=\"color: #00d7ff; text-decoration-color: #00d7ff\">None</span>, <span style=\"color: #00af00; text-decoration-color: #00af00\">64</span>)             │             <span style=\"color: #00af00; text-decoration-color: #00af00\">0</span> │\n",
       "├─────────────────────────────────┼────────────────────────┼───────────────┤\n",
       "│ dense_16 (<span style=\"color: #0087ff; text-decoration-color: #0087ff\">Dense</span>)                │ (<span style=\"color: #00d7ff; text-decoration-color: #00d7ff\">None</span>, <span style=\"color: #00af00; text-decoration-color: #00af00\">32</span>)             │         <span style=\"color: #00af00; text-decoration-color: #00af00\">2,080</span> │\n",
       "├─────────────────────────────────┼────────────────────────┼───────────────┤\n",
       "│ dense_17 (<span style=\"color: #0087ff; text-decoration-color: #0087ff\">Dense</span>)                │ (<span style=\"color: #00d7ff; text-decoration-color: #00d7ff\">None</span>, <span style=\"color: #00af00; text-decoration-color: #00af00\">16</span>)             │           <span style=\"color: #00af00; text-decoration-color: #00af00\">528</span> │\n",
       "├─────────────────────────────────┼────────────────────────┼───────────────┤\n",
       "│ dense_18 (<span style=\"color: #0087ff; text-decoration-color: #0087ff\">Dense</span>)                │ (<span style=\"color: #00d7ff; text-decoration-color: #00d7ff\">None</span>, <span style=\"color: #00af00; text-decoration-color: #00af00\">8</span>)              │           <span style=\"color: #00af00; text-decoration-color: #00af00\">136</span> │\n",
       "├─────────────────────────────────┼────────────────────────┼───────────────┤\n",
       "│ dense_19 (<span style=\"color: #0087ff; text-decoration-color: #0087ff\">Dense</span>)                │ (<span style=\"color: #00d7ff; text-decoration-color: #00d7ff\">None</span>, <span style=\"color: #00af00; text-decoration-color: #00af00\">4</span>)              │            <span style=\"color: #00af00; text-decoration-color: #00af00\">36</span> │\n",
       "├─────────────────────────────────┼────────────────────────┼───────────────┤\n",
       "│ dense_20 (<span style=\"color: #0087ff; text-decoration-color: #0087ff\">Dense</span>)                │ (<span style=\"color: #00d7ff; text-decoration-color: #00d7ff\">None</span>, <span style=\"color: #00af00; text-decoration-color: #00af00\">1</span>)              │             <span style=\"color: #00af00; text-decoration-color: #00af00\">5</span> │\n",
       "└─────────────────────────────────┴────────────────────────┴───────────────┘\n",
       "</pre>\n"
      ]
     },
     "metadata": {},
     "output_type": "display_data"
    },
    {
     "data": {
      "text/plain": [
       "\u001B[1m Total params: \u001B[0m\u001B[38;5;34m8,357\u001B[0m (32.65 KB)\n"
      ],
      "text/html": [
       "<pre style=\"white-space:pre;overflow-x:auto;line-height:normal;font-family:Menlo,'DejaVu Sans Mono',consolas,'Courier New',monospace\"><span style=\"font-weight: bold\"> Total params: </span><span style=\"color: #00af00; text-decoration-color: #00af00\">8,357</span> (32.65 KB)\n",
       "</pre>\n"
      ]
     },
     "metadata": {},
     "output_type": "display_data"
    },
    {
     "data": {
      "text/plain": [
       "\u001B[1m Trainable params: \u001B[0m\u001B[38;5;34m2,785\u001B[0m (10.88 KB)\n"
      ],
      "text/html": [
       "<pre style=\"white-space:pre;overflow-x:auto;line-height:normal;font-family:Menlo,'DejaVu Sans Mono',consolas,'Courier New',monospace\"><span style=\"font-weight: bold\"> Trainable params: </span><span style=\"color: #00af00; text-decoration-color: #00af00\">2,785</span> (10.88 KB)\n",
       "</pre>\n"
      ]
     },
     "metadata": {},
     "output_type": "display_data"
    },
    {
     "data": {
      "text/plain": [
       "\u001B[1m Non-trainable params: \u001B[0m\u001B[38;5;34m0\u001B[0m (0.00 B)\n"
      ],
      "text/html": [
       "<pre style=\"white-space:pre;overflow-x:auto;line-height:normal;font-family:Menlo,'DejaVu Sans Mono',consolas,'Courier New',monospace\"><span style=\"font-weight: bold\"> Non-trainable params: </span><span style=\"color: #00af00; text-decoration-color: #00af00\">0</span> (0.00 B)\n",
       "</pre>\n"
      ]
     },
     "metadata": {},
     "output_type": "display_data"
    },
    {
     "data": {
      "text/plain": [
       "\u001B[1m Optimizer params: \u001B[0m\u001B[38;5;34m5,572\u001B[0m (21.77 KB)\n"
      ],
      "text/html": [
       "<pre style=\"white-space:pre;overflow-x:auto;line-height:normal;font-family:Menlo,'DejaVu Sans Mono',consolas,'Courier New',monospace\"><span style=\"font-weight: bold\"> Optimizer params: </span><span style=\"color: #00af00; text-decoration-color: #00af00\">5,572</span> (21.77 KB)\n",
       "</pre>\n"
      ]
     },
     "metadata": {},
     "output_type": "display_data"
    }
   ],
   "execution_count": 60
  },
  {
   "metadata": {
    "ExecuteTime": {
     "end_time": "2024-06-10T11:46:20.466245Z",
     "start_time": "2024-06-10T11:46:19.993581Z"
    }
   },
   "cell_type": "code",
   "source": [
    "# Use the model for prediction\n",
    "predicted = model_gestureOriginal.predict(x_gestureOriginal_normalize)                                                                  # Predict the output\n",
    "predicted = np.argmax(predicted, axis=1)                                                                                                # Get the highest value\n",
    "original = y_gestureOriginal.values                                                                                                     # Get the original output\n",
    "\n",
    "print(colored(f\"Predicted values:  {predicted}\", outputColor))\n",
    "print(colored(f\"Original values:   {original}\", outputColor))\n",
    "\n",
    "# Evaluate the model\n",
    "correct = np.mean(predicted == original)                                                                                                # Get the mean of the correct predictions\n",
    "print(colored(f\"\\nThe percentage of gesture original that are correctly classified is: {round(correct, 2) * 100}%\", outputColor))"
   ],
   "id": "91328cb0f3da7389",
   "outputs": [
    {
     "name": "stdout",
     "output_type": "stream",
     "text": [
      "\u001B[1m365/365\u001B[0m \u001B[32m━━━━━━━━━━━━━━━━━━━━\u001B[0m\u001B[37m\u001B[0m \u001B[1m0s\u001B[0m 806us/step\n",
      "\u001B[34mPredicted values:  [0 0 0 ... 0 0 0]\u001B[0m\n",
      "\u001B[34mOriginal values:   [0 0 0 ... 1 1 1]\u001B[0m\n",
      "\u001B[34m\n",
      "The percentage of gesture original that are correctly classified is: 75.0%\u001B[0m\n"
     ]
    }
   ],
   "execution_count": 65
  },
  {
   "metadata": {},
   "cell_type": "markdown",
   "source": [
    "### Question 5:\n",
    "We want to solve the following optimization problem without doing the calculations ourselves:\n",
    "- You have `30` cards, each with its own value: 2, 4, 6, ..., 60.\n",
    "- You must divide the cards into two piles so that the sum of all values of pile `1`.\n",
    "- As close as possible to `2` times the sum of stack `2`.\n",
    "\n",
    "Answer the following questions:\n",
    "- Solve this problem with a genetic algorithm. Make sure you use the following parameters:\n",
    " - popSize=100\n",
    " - max_evaluations=5000\n",
    " -run=100\n",
    " - mutation_rate = 0.1\n",
    "- Which cards are in pile `1`? Also indicate how you arrived at this.\n",
    "- How much difference is there between the sum of stack `1` and `2` * the sum of stack `2`?\n",
    "- Are you sure there isn't a better solution? And why?\n"
   ],
   "id": "c3fb36e0490ff414"
  },
  {
   "metadata": {
    "ExecuteTime": {
     "end_time": "2024-06-10T14:44:14.702421Z",
     "start_time": "2024-06-10T14:44:11.619715Z"
    }
   },
   "cell_type": "code",
   "source": [
    "def generate(random = None, args = None):\n",
    "    return np.random.randint(0, 2, size=len(args.get('cards'))).tolist()\n",
    "\n",
    "def evaluate(candidates, args = None):\n",
    "    fitness = []\n",
    "    values_cards = args.get('cards')\n",
    "    for candidate in candidates:\n",
    "        stack1 = (candidate * values_cards).sum()\n",
    "        stack2 = values_cards.sum() - stack1\n",
    "        fitness.append(abs(stack1 - 2 * stack2))\n",
    "    return fitness\n",
    "\n",
    "cards = np.array(range(2,61,2))\n",
    "minValue = 0\n",
    "maxValue = 1\n",
    "\n",
    "rand = Random()\n",
    "ga = ec.GA(rand)\n",
    "ga.terminator = ec.terminators.evaluation_termination\n",
    "ga.variator = [ec.variators.arithmetic_crossover, ec.variators.gaussian_mutation]\n",
    "ga.observer = ec.observers.plot_observer\n",
    "population = ga.evolve(\n",
    "    generator = generate,\n",
    "    evaluator = evaluate,\n",
    "    selector = ec.selectors.fitness_proportionate_selection,\n",
    "    pop_size = 100,\n",
    "    maximize = False, # Minimize\n",
    "    bounder = ec.Bounder(minValue, maxValue),\n",
    "    max_evaluations = 5000,\n",
    "    mutation_rate = 0.1,\n",
    "    num_inputs = 2,\n",
    "    run = 100,\n",
    "    cards = cards)\n",
    "population.sort(reverse=True)\n",
    "\n",
    "print(colored(f\"Optimal solution: {population[0].candidate}\\nObjective function value: {population[0].fitness}\", outputColor))\n",
    "\n",
    "stack1 = cards[np.array(population[0].candidate) > 0.5]     # All the cards in stack 1 are the ones where the candidate is 1 (True)\n",
    "stack2 = cards[np.array(population[0].candidate) <= 0.5]    # All the cards in stack 2 are the ones where the candidate is 0 (False)\n",
    "\n",
    "print(colored(f\"Stack 1: {stack1}\\nStack 2: {stack2}\", outputColor))\n",
    "print(colored(f\"Difference: {population[0].fitness}\", outputColor))\n",
    "print(colored(f\"There is no better solution possible. This is the optimal solution.\", outputColor))"
   ],
   "id": "3c88c63ce8e27890",
   "outputs": [
    {
     "name": "stdout",
     "output_type": "stream",
     "text": [
      "\u001B[34mOptimal solution: [0.17261392233053247, 0.7535747733605693, 0.4079470970049937, 0.4595074260414576, 0.6154111062657446, 1.0, 0.7539548936915625, 0.5071390390197358, 0.6849651815051032, 0.4985841815099492, 0.759481493101691, 0.43548701830787506, 0.33583814788097954, 0.6771917083174381, 0.4074659108221873, 0.5968315785239273, 0.6755288102208616, 0.5018489734463528, 0.8589251348607224, 0.8842343991744257, 0.8155984162864194, 0.5932353376537081, 0.6331543067628312, 1, 0.8013118745824567, 0.0, 0.693282134234125, 0.6698328574176222, 0.8785941578198401, 0.8781874060402294]\n",
      "Objective function value: 0.08131958542662687\u001B[0m\n",
      "\u001B[34mStack 1: [ 4 10 12 14 16 18 22 28 32 34 36 38 40 42 44 46 48 50 54 56 58 60]\n",
      "Stack 2: [ 2  6  8 20 24 26 30 52]\u001B[0m\n",
      "\u001B[34mDifference: 0.08131958542662687\u001B[0m\n",
      "\u001B[34mThere is no better solution possible. This is the optimal solution.\u001B[0m\n"
     ]
    },
    {
     "data": {
      "text/plain": [
       "<Figure size 640x480 with 1 Axes>"
      ],
      "image/png": "[encoded data removed]"
     },
     "metadata": {},
     "output_type": "display_data"
    }
   ],
   "execution_count": 81
  }
 ],
 "metadata": {
  "kernelspec": {
   "display_name": "Python 3",
   "language": "python",
   "name": "python3"
  },
  "language_info": {
   "codemirror_mode": {
    "name": "ipython",
    "version": 2
   },
   "file_extension": ".py",
   "mimetype": "text/x-python",
   "name": "python",
   "nbconvert_exporter": "python",
   "pygments_lexer": "ipython2",
   "version": "2.7.6"
  }
 },
 "nbformat": 4,
 "nbformat_minor": 5
}

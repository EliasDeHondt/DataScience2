{
 "cells": [
  {
   "metadata": {},
   "cell_type": "markdown",
   "source": "# Practice",
   "id": "25ef229349c3b7b3"
  },
  {
   "metadata": {},
   "cell_type": "markdown",
   "source": "## Libraries",
   "id": "fdbd73feefe59b5e"
  },
  {
   "cell_type": "code",
   "id": "initial_id",
   "metadata": {
    "collapsed": true,
    "ExecuteTime": {
     "end_time": "2024-06-08T13:44:10.637176Z",
     "start_time": "2024-06-08T13:44:01.558957Z"
    }
   },
   "source": [
    "from termcolor import colored # type: ignore                                          # Colored text\n",
    "from random import Random  # type: ignore                                             # Random number generator\n",
    "import math  # type: ignore                                                           # Mathematical functions\n",
    "import pandas as pd  # type: ignore                                                   # Data manipulation\n",
    "import numpy as np  # type: ignore                                                    # Scientific computing\n",
    "import matplotlib.pyplot as plt  # type: ignore                                       # Data visualization\n",
    "from scipy.stats import binom as binomial  # type: ignore                             # Binomial distribution\n",
    "from scipy.stats import norm as normal  # type: ignore                                # Normal distribution\n",
    "from scipy.stats import poisson as poisson  # type: ignore                            # Poisson distribution\n",
    "from scipy.stats import t as student  # type: ignore                                  # Student distribution\n",
    "from scipy.stats import chi2  # type: ignore                                          # Chi-squared distribution\n",
    "from scipy.stats import ttest_1samp  # type: ignore                                   # One-sample t-test\n",
    "from scipy.stats import chisquare  # type: ignore                                     # Chi-squared test\n",
    "from scipy.special import comb  # type: ignore                                        # Combinations\n",
    "from mlxtend.frequent_patterns import apriori  # type: ignore                         # Apriori algorithm\n",
    "from mlxtend.frequent_patterns import fpgrowth  # type: ignore                        # FP-growth algorithm\n",
    "from mlxtend.frequent_patterns import association_rules  # type: ignore               # Association rules\n",
    "from mlxtend.preprocessing import TransactionEncoder  # type: ignore                  # Transaction encoder\n",
    "from sklearn.discriminant_analysis import LinearDiscriminantAnalysis  # type: ignore  # Discriminant Analysis\n",
    "from tensorflow import keras  # type: ignore                                          # Deep Learning library\n",
    "from tensorflow.keras import Model  # type: ignore                                    # Model class\n",
    "from tensorflow.keras.layers import Input, Dense, BatchNormalization  # type: ignore  # Layers\n",
    "from tensorflow.keras.utils import to_categorical  # type: ignore                     # One-hot encoding\n",
    "from tensorflow.keras.optimizers import Adam  # type: ignore                          # Optimizer\n",
    "from livelossplot import PlotLossesKeras  # type: ignore                              # Live plot\n",
    "from keras.src.optimizers import RMSprop  # type: ignore                              # Optimizer\n",
    "from sklearn.model_selection import train_test_split  # type: ignore                  # Train-test split\n",
    "from sklearn.metrics import roc_auc_score # type: ignore                              # ROC AUC score\n",
    "from simanneal import Annealer  # type: ignore                                        # Simulated Annealing\n",
    "from inspyred import ec  # type: ignore                                               # Evolutionary Computation\n",
    "import warnings  # type: ignore                                                       # Disable warnings\n",
    "from Resources.Functions import *  # type: ignore                                     # Custom functions\n",
    "warnings.filterwarnings(\"ignore\")                                                     # Disable warnings\n",
    "outputColor = \"blue\"                                                                  # Color for the output"
   ],
   "outputs": [
    {
     "name": "stderr",
     "output_type": "stream",
     "text": [
      "C:\\Users\\elias\\AppData\\Local\\Temp\\ipykernel_21472\\958834498.py:4: DeprecationWarning: \n",
      "Pyarrow will become a required dependency of pandas in the next major release of pandas (pandas 3.0),\n",
      "(to allow more performant data types, such as the Arrow string type, and better interoperability with other libraries)\n",
      "but was not found to be installed on your system.\n",
      "If this would cause problems for you,\n",
      "please provide us feedback at https://github.com/pandas-dev/pandas/issues/54466\n",
      "        \n",
      "  import pandas as pd  # type: ignore                                                   # Data manipulation\n"
     ]
    }
   ],
   "execution_count": 1
  },
  {
   "metadata": {},
   "cell_type": "markdown",
   "source": [
    "## Information About the Dataset\n",
    "- Information about the dataset `../Data/Gesture-Original.csv` used in the following questions.\n",
    "- This dataset contains data from 64 muscle sensors `V1 - V64` that are placed on the body of test subjects. In addition, the file contains 2 columns.\n",
    "- `gesture` always contains the hand gesture performed by a test subject during the measurement of the 64 sensors. The possible values `Pare`, `rock`, `paper`, `scissors`\n",
    "and `okay`.\n",
    "- The `okay` column does not contain any new data, but simply indicates whether the subject performed the `okay` hand gesture during the measurement."
   ],
   "id": "91c17ba492416214"
  },
  {
   "metadata": {},
   "cell_type": "markdown",
   "source": [
    "### Question 1:\n",
    "- Apply linear discriminant analysis to the gesture.original.csv dataset.\n",
    "- Gesture is the dependent variable.\n",
    "- Use all other variables as independent variables except the column Okay.\n",
    "\n",
    "Answer the following questions:\n",
    "- One of the assumptions for being able to apply LDA is that there is no dependence exists between the independent variables. Show that here or not is met.2. \n",
    "- How many discriminant functions are created?\n",
    "- Why exactly are there so many?\n",
    "- Which independent variable plays the largest role in the first discriminant function? Please indicate how you got here."
   ],
   "id": "93b079662452c29f"
  },
  {
   "metadata": {
    "ExecuteTime": {
     "end_time": "2024-06-08T13:44:10.652944Z",
     "start_time": "2024-06-08T13:44:10.639509Z"
    }
   },
   "cell_type": "code",
   "source": "",
   "id": "bb54ae81f0e02168",
   "outputs": [],
   "execution_count": 1
  },
  {
   "metadata": {},
   "cell_type": "markdown",
   "source": [
    "### Question 2:\n",
    "- With 64 independent variables we are dealing with a rather large number.\n",
    "    - Use proper technique to limit the number of variables.\n",
    "    - I want to limit myself to 10 variables. What percentage of the information from the original. Can I keep the dataset with this?\n",
    "    - Explain how you arrived at this number?\n",
    "    - Create a data set with those 10 variables.\n",
    "        - Perform a discriminant analysis. Compare the explained variance with that of the previous exercise."
   ],
   "id": "1cb761421f5700a6"
  },
  {
   "metadata": {
    "ExecuteTime": {
     "end_time": "2024-06-08T13:44:10.668237Z",
     "start_time": "2024-06-08T13:44:10.653943Z"
    }
   },
   "cell_type": "code",
   "source": "",
   "id": "c8be5cc3487395ce",
   "outputs": [],
   "execution_count": 1
  },
  {
   "metadata": {},
   "cell_type": "markdown",
   "source": [
    "### Question 3:\n",
    "- We created our own model with more test data to predict whether someone will have it performs `okay` hand gesture. The data is available in `../Data/Gesture-Original.csv`. Note that the predicted values pare not just `0` or `1`, but can be close to `0` or close to `1` or somewhere in between. Take `0.5` as the threshold.\n",
    "\n",
    "Answer the following questions:\n",
    "- You want to know how well the model can predict whether the test subject has diabetes performing `okay` gesture. What metric do you use?\n",
    "- How much is this?\n",
    "- Calculate the F-measure in which the importance of recall and precision is equal weigh. How much is this?\n",
    "- Create an ROC curve.\n",
    "- What is the AUC?\n",
    "- What can you conclude based on the answer to question e?"
   ],
   "id": "6e945f7de7257a05"
  },
  {
   "metadata": {
    "ExecuteTime": {
     "end_time": "2024-06-08T13:44:10.683750Z",
     "start_time": "2024-06-08T13:44:10.669992Z"
    }
   },
   "cell_type": "code",
   "source": "",
   "id": "ffa6c45ecd2573e6",
   "outputs": [],
   "execution_count": 1
  },
  {
   "metadata": {},
   "cell_type": "markdown",
   "source": [
    "### Question 4:\n",
    "Use dataframe `../Data/Gesture-Original.csv` to train an artificial neural network around the column predict `okay`.\n",
    "- Scale the data with min-max normalization\n",
    "- Create a neural network model for the entire data set with the following values for the parameters:\n",
    "    - 4 hidden layers: 32, 16, 8 and 4 neurons\n",
    "    - learning rate = 0.001\n",
    "    - epochs=100\n",
    "    - Make the right choices according to the objective of the ANN - for the other parameters involved correspond to the functions used."
   ],
   "id": "aeaf26ee4d9de5e0"
  },
  {
   "metadata": {
    "ExecuteTime": {
     "end_time": "2024-06-08T13:44:10.698971Z",
     "start_time": "2024-06-08T13:44:10.685746Z"
    }
   },
   "cell_type": "code",
   "source": "",
   "id": "a333f15e8a1d8e71",
   "outputs": [],
   "execution_count": 1
  },
  {
   "metadata": {},
   "cell_type": "markdown",
   "source": [
    "### Question 5:\n",
    "We want to solve the following optimization problem without doing the calculations ourselves:\n",
    "- You have `30` cards, each with its own value: 2, 4, 6, ..., 60.\n",
    "- You must divide the cards into two piles so that the sum of all values of pile `1`.\n",
    "- As close as possible to `2` times the sum of stack `2`.\n",
    "\n",
    "Answer the following questions:\n",
    "- Solve this problem with a genetic algorithm. Make sure you use the following parameters:\n",
    " - popSize=100\n",
    " - max_evaluations=5000\n",
    " -run=100\n",
    " - mutation_rate = 0.1\n",
    "- Which cards are in pile `1`? Also indicate how you arrived at this.\n",
    "- How much difference is there between the sum of stack `1` and `2` * the sum of stack `2`?\n",
    "- Are you sure there isn't a better solution? And why?\n"
   ],
   "id": "c3fb36e0490ff414"
  },
  {
   "metadata": {
    "ExecuteTime": {
     "end_time": "2024-06-08T13:44:10.715032Z",
     "start_time": "2024-06-08T13:44:10.700963Z"
    }
   },
   "cell_type": "code",
   "source": "",
   "id": "3c88c63ce8e27890",
   "outputs": [],
   "execution_count": 1
  }
 ],
 "metadata": {
  "kernelspec": {
   "display_name": "Python 3",
   "language": "python",
   "name": "python3"
  },
  "language_info": {
   "codemirror_mode": {
    "name": "ipython",
    "version": 2
   },
   "file_extension": ".py",
   "mimetype": "text/x-python",
   "name": "python",
   "nbconvert_exporter": "python",
   "pygments_lexer": "ipython2",
   "version": "2.7.6"
  }
 },
 "nbformat": 4,
 "nbformat_minor": 5
}

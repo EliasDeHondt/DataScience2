{
 "cells": [
  {
   "cell_type": "markdown",
   "source": [
    "# Exercises tests part 1"
   ],
   "metadata": {
    "collapsed": false
   },
   "id": "fc11ae5046d6cd48"
  },
  {
   "cell_type": "code",
   "outputs": [],
   "source": [
    "from scipy.stats import norm as normal # Normal distribution\n",
    "from scipy.stats import t as student # Student distribution\n",
    "import pandas as pd # Data manipulation\n",
    "import numpy as np # Numerical computing\n",
    "import matplotlib.pyplot as plt # Data visualization\n",
    "import math # Mathematical functions\n",
    "\n",
    "# student.interval(confidence=0.955, df=n-1, loc=x_bar, scale=s/math.sqrt(n))"
   ],
   "metadata": {
    "collapsed": false,
    "ExecuteTime": {
     "end_time": "2024-02-28T14:54:24.984863500Z",
     "start_time": "2024-02-28T14:54:24.897178300Z"
    }
   },
   "id": "62619a05ef5ab714",
   "execution_count": 99
  },
  {
   "cell_type": "markdown",
   "source": [
    "## Theoretical questions"
   ],
   "metadata": {
    "collapsed": false
   },
   "id": "d66cd879508e8eb4"
  },
  {
   "cell_type": "markdown",
   "source": [
    "### Question 1: (Normale moeilijkheidsgraad)\n",
    "- Open het bestand opgave `/gamerps.csv`. Schaar steen papier is een spelletje waarbij je zelf een keuze maakt tussen deze drie. Is er echter een voorkeur bij onze scoutsleden van de selectietest? De verwachte verdeling is evenredig. Ga na of onze telling afwijkt van de verwachte verdeling\n",
    "    - Welke test ga je hiervoor gebruiken?\n",
    "    - Hoe luidt `H0`? `De telling in onze steekproef is wel/niet evenredig verdeeld.`\n",
    "    - Wat is de waarde van `X^2`? (3 beduidende cijfers)\n",
    "    - Wat is de kans dat een steekproef een hogere waarde dan `X^2` zou hebben (p-waarde)? (3 beduidende cijfers)\n",
    "    - Kan `H0` met een betrouwbaarheid van 95% verworpen worden?\n",
    "    - Kunnen we dus beweren dat de scoutsleden een voorkeur hebben?"
   ],
   "metadata": {
    "collapsed": false
   },
   "id": "8dcce8d70aac0bac"
  },
  {
   "cell_type": "code",
   "outputs": [],
   "source": [
    "gamerps = pd.read_csv('../gamerps.csv', delimiter=';', decimal=',')"
   ],
   "metadata": {
    "collapsed": false,
    "ExecuteTime": {
     "end_time": "2024-02-28T14:54:25.005862100Z",
     "start_time": "2024-02-28T14:54:24.988861600Z"
    }
   },
   "id": "f61d5f3c36d4ed95",
   "execution_count": 100
  },
  {
   "cell_type": "code",
   "outputs": [
    {
     "data": {
      "text/plain": "        hand\n0   Scissors\n1      Paper\n2      Paper\n3   Scissors\n4   Scissors\n..       ...\n70  Scissors\n71  Scissors\n72     Paper\n73     Paper\n74  Scissors\n\n[75 rows x 1 columns]",
      "text/html": "<div>\n<style scoped>\n    .dataframe tbody tr th:only-of-type {\n        vertical-align: middle;\n    }\n\n    .dataframe tbody tr th {\n        vertical-align: top;\n    }\n\n    .dataframe thead th {\n        text-align: right;\n    }\n</style>\n<table border=\"1\" class=\"dataframe\">\n  <thead>\n    <tr style=\"text-align: right;\">\n      <th></th>\n      <th>hand</th>\n    </tr>\n  </thead>\n  <tbody>\n    <tr>\n      <th>0</th>\n      <td>Scissors</td>\n    </tr>\n    <tr>\n      <th>1</th>\n      <td>Paper</td>\n    </tr>\n    <tr>\n      <th>2</th>\n      <td>Paper</td>\n    </tr>\n    <tr>\n      <th>3</th>\n      <td>Scissors</td>\n    </tr>\n    <tr>\n      <th>4</th>\n      <td>Scissors</td>\n    </tr>\n    <tr>\n      <th>...</th>\n      <td>...</td>\n    </tr>\n    <tr>\n      <th>70</th>\n      <td>Scissors</td>\n    </tr>\n    <tr>\n      <th>71</th>\n      <td>Scissors</td>\n    </tr>\n    <tr>\n      <th>72</th>\n      <td>Paper</td>\n    </tr>\n    <tr>\n      <th>73</th>\n      <td>Paper</td>\n    </tr>\n    <tr>\n      <th>74</th>\n      <td>Scissors</td>\n    </tr>\n  </tbody>\n</table>\n<p>75 rows × 1 columns</p>\n</div>"
     },
     "metadata": {},
     "output_type": "display_data"
    }
   ],
   "source": [
    "display(gamerps)"
   ],
   "metadata": {
    "collapsed": false,
    "ExecuteTime": {
     "end_time": "2024-02-28T14:54:25.037975500Z",
     "start_time": "2024-02-28T14:54:24.999631Z"
    }
   },
   "id": "45a8af0f7b4891fa",
   "execution_count": 101
  },
  {
   "cell_type": "code",
   "outputs": [],
   "source": [],
   "metadata": {
    "collapsed": false,
    "ExecuteTime": {
     "end_time": "2024-02-28T14:54:25.039974800Z",
     "start_time": "2024-02-28T14:54:25.015377200Z"
    }
   },
   "id": "c294592abbfebade",
   "execution_count": 101
  },
  {
   "cell_type": "markdown",
   "source": [
    "### Question 2: (Normale moeilijkheidsgraad)\n",
    "- Open het bestand `/ColorHairBrussels.csv`. Het gaat om de gegevens over de kleur van het haar van een steekproef van mensen in Brussel. De verwachte verdeling van haarkleuren in Europa zijn: `30% blond`, `12% rood`, `30% bruin`, `25% donker`, en `3% zwart`. Ga na of onze telling afwijkt van de verwachte verdeling.\n",
    "    - Welke test ga je hiervoor gebruiken?\n",
    "    - Hoe luidt `H0`? `De haarkleurentelling in onze steekproef wijkt wel/niet af van de verwachte verdeling.`\n",
    "    - Welke `X^2`-waarde vind je?\n",
    "    - Welke p-waarde vind je?\n",
    "    - Kan H0 met een betrouwbaarheid van `95%` kan H0 wel of niet verworpen worden?\n",
    "    - Is er in Brussel een afwijking tov de verwachte verdeling?"
   ],
   "metadata": {
    "collapsed": false
   },
   "id": "ac6e6a8db97c7653"
  },
  {
   "cell_type": "code",
   "outputs": [],
   "source": [
    "colorHairBrussels = pd.read_csv('../colorHairBrussels.csv', delimiter=';', decimal=',')"
   ],
   "metadata": {
    "collapsed": false,
    "ExecuteTime": {
     "end_time": "2024-02-28T14:54:25.055323300Z",
     "start_time": "2024-02-28T14:54:25.031954700Z"
    }
   },
   "id": "ce4e897992fd055a",
   "execution_count": 102
  },
  {
   "cell_type": "code",
   "outputs": [
    {
     "data": {
      "text/plain": "       hair\n0      Dark\n1    Blonde\n2     Brown\n3    Blonde\n4     Brown\n..      ...\n241   Brown\n242     Red\n243  Blonde\n244   Brown\n245     Red\n\n[246 rows x 1 columns]",
      "text/html": "<div>\n<style scoped>\n    .dataframe tbody tr th:only-of-type {\n        vertical-align: middle;\n    }\n\n    .dataframe tbody tr th {\n        vertical-align: top;\n    }\n\n    .dataframe thead th {\n        text-align: right;\n    }\n</style>\n<table border=\"1\" class=\"dataframe\">\n  <thead>\n    <tr style=\"text-align: right;\">\n      <th></th>\n      <th>hair</th>\n    </tr>\n  </thead>\n  <tbody>\n    <tr>\n      <th>0</th>\n      <td>Dark</td>\n    </tr>\n    <tr>\n      <th>1</th>\n      <td>Blonde</td>\n    </tr>\n    <tr>\n      <th>2</th>\n      <td>Brown</td>\n    </tr>\n    <tr>\n      <th>3</th>\n      <td>Blonde</td>\n    </tr>\n    <tr>\n      <th>4</th>\n      <td>Brown</td>\n    </tr>\n    <tr>\n      <th>...</th>\n      <td>...</td>\n    </tr>\n    <tr>\n      <th>241</th>\n      <td>Brown</td>\n    </tr>\n    <tr>\n      <th>242</th>\n      <td>Red</td>\n    </tr>\n    <tr>\n      <th>243</th>\n      <td>Blonde</td>\n    </tr>\n    <tr>\n      <th>244</th>\n      <td>Brown</td>\n    </tr>\n    <tr>\n      <th>245</th>\n      <td>Red</td>\n    </tr>\n  </tbody>\n</table>\n<p>246 rows × 1 columns</p>\n</div>"
     },
     "metadata": {},
     "output_type": "display_data"
    }
   ],
   "source": [
    "display(colorHairBrussels)"
   ],
   "metadata": {
    "collapsed": false,
    "ExecuteTime": {
     "end_time": "2024-02-28T14:54:25.107889Z",
     "start_time": "2024-02-28T14:54:25.045321100Z"
    }
   },
   "id": "47e9b83b94cb329e",
   "execution_count": 103
  },
  {
   "cell_type": "code",
   "outputs": [],
   "source": [],
   "metadata": {
    "collapsed": false,
    "ExecuteTime": {
     "end_time": "2024-02-28T14:54:25.108892200Z",
     "start_time": "2024-02-28T14:54:25.060173700Z"
    }
   },
   "id": "64b01c20e295815f",
   "execution_count": 103
  },
  {
   "cell_type": "markdown",
   "source": [
    "### Question 3: (Normale moeilijkheidsgraad)\n",
    "- We willen weten hoeveel requests een server gemiddeld per dag moet verwerken. Daarvoor doen we een meting. We meten gedurende `30 dagen` en tellen iedere dag het \n",
    "aantal requests. We komen op een gemiddelde van `975` en een standaardafwijking gelijk aan `100`.\n",
    "    - Tussen welke grenzen ligt dan het gemiddeld aantal requests als we `95%` zeker willen zijn?\n",
    "    - Stel dat we hetzelfde gemiddelde en standaardafwijking vonden, maar met een steekproef van `100 dagen`. Dan zijn we voor `95%` zeker dat het gemiddelde tussen ... en ... ligt.\n",
    "    - Stel dat iemand beweert dat de server `1000 requests` per dag moet verwerken. Kan je deze stelling dan ondersteunen of verwerpen in de twee gevallen? Je wil weer een zekerheid van `95%`."
   ],
   "metadata": {
    "collapsed": false
   },
   "id": "52f18b95661cc892"
  },
  {
   "cell_type": "code",
   "outputs": [
    {
     "name": "stdout",
     "output_type": "stream",
     "text": [
      "Factor: 1.6991270265334972\n",
      "Confidence Interval: (937.65938632419, 1012.34061367581)\n"
     ]
    }
   ],
   "source": [
    "# 1\n",
    "n = 30 # n = Population size\n",
    "x_bar = 975 # x_bar = Sample mean\n",
    "s = 100 # s = Sample standard deviation\n",
    "p = 0.95 # p = Confidence level\n",
    "factor = student.ppf(p, df=n-1) # factor = Z-score\n",
    "print(\"Factor:\",factor)\n",
    "interval = student.interval(confidence=p, df=n-1, loc=x_bar, scale=s/math.sqrt(n))\n",
    "print(\"Confidence Interval:\",interval)"
   ],
   "metadata": {
    "collapsed": false,
    "ExecuteTime": {
     "end_time": "2024-02-28T14:54:25.142504400Z",
     "start_time": "2024-02-28T14:54:25.076739200Z"
    }
   },
   "id": "9eab81b726648b2d",
   "execution_count": 104
  },
  {
   "cell_type": "code",
   "outputs": [
    {
     "name": "stdout",
     "output_type": "stream",
     "text": [
      "Factor: 1.6603911559963895\n",
      "Confidence Interval: (955.1578304849131, 994.8421695150869)\n"
     ]
    }
   ],
   "source": [
    "# 2\n",
    "n = 100 # n = Population size\n",
    "x_bar = 975 # x_bar = Sample mean\n",
    "s = 100 # s = Sample standard deviation\n",
    "p = 0.95 # p = Confidence level\n",
    "factor = student.ppf(p, df=n-1) # factor = Z-score\n",
    "print(\"Factor:\",factor)\n",
    "interval = student.interval(confidence=p, df=n-1, loc=x_bar, scale=s/math.sqrt(n))\n",
    "print(\"Confidence Interval:\",interval)"
   ],
   "metadata": {
    "collapsed": false,
    "ExecuteTime": {
     "end_time": "2024-02-28T14:54:25.192434400Z",
     "start_time": "2024-02-28T14:54:25.094250700Z"
    }
   },
   "id": "bd1690c7f6a8c0ea",
   "execution_count": 105
  },
  {
   "cell_type": "code",
   "outputs": [
    {
     "name": "stdout",
     "output_type": "stream",
     "text": [
      "Factor: 1.6991270265334972\n",
      "Confidence Interval: (962.65938632419, 1037.34061367581)\n",
      "Factor: 1.6603911559963895\n",
      "Confidence Interval: (980.1578304849131, 1019.8421695150869)\n"
     ]
    }
   ],
   "source": [
    "# 3\n",
    "n = 30 # n = Population size\n",
    "x_bar = 1000 # x_bar = Sample mean\n",
    "s = 100 # s = Sample standard deviation\n",
    "p = 0.95 # p = Confidence level\n",
    "factor = student.ppf(p, df=n-1) # factor = Z-score\n",
    "print(\"Factor:\",factor)\n",
    "interval = student.interval(confidence=p, df=n-1, loc=x_bar, scale=s/math.sqrt(n))\n",
    "print(\"Confidence Interval:\",interval)\n",
    "# H0 Is not rejected\n",
    "\n",
    "# 3\n",
    "n = 100 # n = Population size\n",
    "x_bar = 1000 # x_bar = Sample mean\n",
    "s = 100 # s = Sample standard deviation\n",
    "p = 0.95 # p = Confidence level\n",
    "factor = student.ppf(p, df=n-1) # factor = Z-score\n",
    "print(\"Factor:\",factor)\n",
    "interval = student.interval(confidence=p, df=n-1, loc=x_bar, scale=s/math.sqrt(n))\n",
    "print(\"Confidence Interval:\",interval)\n",
    "# H0 Is rejected"
   ],
   "metadata": {
    "collapsed": false,
    "ExecuteTime": {
     "end_time": "2024-02-28T14:54:25.217477Z",
     "start_time": "2024-02-28T14:54:25.107889Z"
    }
   },
   "id": "42e449944e3abeaf",
   "execution_count": 106
  },
  {
   "cell_type": "markdown",
   "source": [
    "### Question 4: (Normale moeilijkheidsgraad)\n",
    "- Een fabriek maakt zakken cornflakes van `12kg`. Om dit te testen, worden regelmatig steekproeven gedaan. Daarbij worden `100` zakken gewogen. De eerste steekproef levert een gemiddelde van `11.9kg` en een standaardafwijking van `1kg`. We gebruiken een `alpha=0.01`.\n",
    "    - Welke factor (Z-waarde) zal je gebruiken om het interval op te stellen?\n",
    "    - Moeten we de machine bijstellen?\n",
    "\n",
    "- Een tweede steekproef levert ook een gemiddelde van `11.9kg`, maar een standaardafwijking van `0.1kg`.\n",
    "    - Welke factor (Z-waarde) gebruiken we deze keer?\n",
    "    - Moeten we de machine deze keer bijstellen?"
   ],
   "metadata": {
    "collapsed": false
   },
   "id": "82996318cf7a7ab5"
  },
  {
   "cell_type": "code",
   "outputs": [
    {
     "name": "stdout",
     "output_type": "stream",
     "text": [
      "Factor: 2.3646058614359737\n",
      "Confidence Interval: (11.637359454361482, 12.162640545638519)\n"
     ]
    }
   ],
   "source": [
    "# 1\n",
    "n = 100 # n = Population size\n",
    "x_bar = 11.9 # x_bar = Sample mean\n",
    "s = 1 # s = Sample standard deviation\n",
    "p = 0.99 # p = Confidence level\n",
    "factor = student.ppf(p, df=n-1) # factor = Z-score\n",
    "print(\"Factor:\",factor)\n",
    "interval = student.interval(confidence=p, df=n-1, loc=x_bar, scale=s/math.sqrt(n))\n",
    "print(\"Confidence Interval:\",interval)\n",
    "# The machine does not need to be adjusted"
   ],
   "metadata": {
    "collapsed": false,
    "ExecuteTime": {
     "end_time": "2024-02-28T14:58:51.677704800Z",
     "start_time": "2024-02-28T14:58:51.652246200Z"
    }
   },
   "id": "d45ccf151811f954",
   "execution_count": 111
  },
  {
   "cell_type": "code",
   "outputs": [
    {
     "name": "stdout",
     "output_type": "stream",
     "text": [
      "Factor: 2.3646058614359737\n",
      "Confidence Interval: (11.873735945436149, 11.926264054563852)\n"
     ]
    }
   ],
   "source": [
    "# 2\n",
    "n = 100 # n = Population size\n",
    "x_bar = 11.9 # x_bar = Sample mean\n",
    "s = 0.1 # s = Sample standard deviation\n",
    "p = 0.99 # p = Confidence level\n",
    "factor = student.ppf(p, df=n-1) # factor = Z-score\n",
    "print(\"Factor:\",factor)\n",
    "interval = student.interval(confidence=p, df=n-1, loc=x_bar, scale=s/math.sqrt(n))\n",
    "print(\"Confidence Interval:\",interval)\n",
    "# The machine needs to be adjusted"
   ],
   "metadata": {
    "collapsed": false,
    "ExecuteTime": {
     "end_time": "2024-02-28T15:07:14.135940700Z",
     "start_time": "2024-02-28T15:07:14.021634200Z"
    }
   },
   "id": "48051dde8a6d43ea",
   "execution_count": 116
  },
  {
   "cell_type": "markdown",
   "source": [
    "### Question 5: (Gevorderde moeilijkheidsgraad)\n",
    "- In opdracht van een kaasfabriek onderzoeken we of sommige leveranciers knoeien met hun melk door er water toe te voegen. We nemen `5` opeenvolgende zendingen melk en kijken op welke temperatuur deze bevriest. We weten dat het vriespunt van melk gelijk is aan `-0.545°C` met een standaardafwijking van `0.008°C`. Het vriespunt van water is natuurlijk `0°C`. In onze steekproef vinden we een gemiddeld vriespunt van `-0.539 °C`. Stel `alpha=0.1`\n",
    "    - Welke toets gaan we gebruiken?\n",
    "    - Moeten we deze toets eenzijdig of tweezijdig toepassen?\n",
    "    - Is er met de melk geknoeid?\n",
    "    - Wat is de kans dat het vorige antwoord verkeerd is?"
   ],
   "metadata": {
    "collapsed": false
   },
   "id": "620d7b7bdcad6009"
  },
  {
   "cell_type": "code",
   "outputs": [],
   "source": [],
   "metadata": {
    "collapsed": false,
    "ExecuteTime": {
     "end_time": "2024-02-28T14:54:25.240421100Z",
     "start_time": "2024-02-28T14:54:25.141499400Z"
    }
   },
   "id": "578c8e73692e80b7",
   "execution_count": 106
  },
  {
   "cell_type": "markdown",
   "source": [
    "### Question 6: (Normale moeilijkheidsgraad)\n",
    "- We wensen een programmeur aan te werven. We onderwerpen de kandidaten aan een test. We weten dat een goede programmeur een score van gemiddeld `100` haalt op deze \n",
    "test. Enkele (`16`) studenten van KdG bieden zich aan. We komen op een gemiddelde van `107.3` en een standaardafwijking van `8.0`. \n",
    "    - Neem `alpha=0.05`. We vermoeden dat deze groep afwijkt van de gemiddelde populatie.\n",
    "        - Welke toets gebruiken we?\n",
    "        - Welke factor gaan we gebruiken?\n",
    "    - We kunnen een interval opstellen waarbinnen we voor 95% zeker zijn dat KdG studenten gemiddeld scoren.\n",
    "        - Wat is de ondergrens van het interval?\n",
    "        - Wat is de bovengrens van het interval?\n",
    "        - Kunnen we op basis van dit interval stellen dat KdG studenten beter scoren dan gemiddeld?"
   ],
   "metadata": {
    "collapsed": false
   },
   "id": "6070de44bfdfd33"
  },
  {
   "cell_type": "code",
   "outputs": [],
   "source": [],
   "metadata": {
    "collapsed": false,
    "ExecuteTime": {
     "end_time": "2024-02-28T14:54:25.245451500Z",
     "start_time": "2024-02-28T14:54:25.198420Z"
    }
   },
   "id": "d18f832b04f4acf8",
   "execution_count": 106
  },
  {
   "cell_type": "markdown",
   "source": [
    "### Question 7: (Normale moeilijkheidsgraad)\n",
    "- We wensen een onderzoek uit te voeren naar de favoriete browser van studenten. We verwachten de volgende verdeling:\n",
    "    - Internet explorer: `8`\n",
    "    - Opera: `10`\n",
    "    - Mozilla Firefox: `10`\n",
    "    - Google chrome: `12`\n",
    "- Bij navraag bij `1` klasgroep blijkt de verdeling als volgt:\n",
    "    - Internet explorer: `17`\n",
    "    - Opera: `10`\n",
    "    - Mozilla Firefox: `8`\n",
    "    - Google chrome: `5`\n",
    "\n",
    "- Question:\n",
    "    - Welke test ga je toepassen?\n",
    "    - Is deze afwijking binnen onze verwachtingen (`alpha=0.01`)?\n",
    "    - Wat is de kritieke waarde bij deze gegevens?\n",
    "    - Welke `X^2`-waarde vind je?\n",
    "    - Welke p-waarde vind je?"
   ],
   "metadata": {
    "collapsed": false
   },
   "id": "cc61bae3d109394c"
  },
  {
   "cell_type": "code",
   "outputs": [],
   "source": [],
   "metadata": {
    "collapsed": false,
    "ExecuteTime": {
     "end_time": "2024-02-28T14:54:25.305122500Z",
     "start_time": "2024-02-28T14:54:25.249447Z"
    }
   },
   "id": "44bfac8b48ddafd0",
   "execution_count": 106
  },
  {
   "cell_type": "markdown",
   "source": [
    "### Question 8: (Fun)\n",
    "- Een programmeur heeft een Python klasse geschreven om random gehele getallen tussen `0` en `10` te genereren. Deze code ziet er als volgt uit:\n",
    "```python\n",
    "import math\n",
    "class Random:\n",
    "    def __init__(self)-> None:\n",
    "        self.i = 0\n",
    "        self.j = 0\n",
    "\n",
    "    def random_between_0_and_10(self) -> int:\n",
    "        r = abs(math.sin(51 * self.i ** 2 + math.cos(80 * self.j)) + math.sin(300 * self.j + 3 * math.sin(111 * self.i - self.j)))\n",
    "        self.j += 1\n",
    "        if self.j > 100:\n",
    "            self.i +=1\n",
    "        if self.i > 100:\n",
    "            self.i = 0\n",
    "            self.j = 0\n",
    "        return math.floor(r * 5.5)\n",
    "```\n",
    "\n",
    "- Schrijf een Python programma dat 1100 random getallen genereert en ga na of deze random getallen generator goed werkt (we verwachten dat ieder getal `0-10` evenveel voorkomt). Gebruik `alfa=0.05`.\n",
    "    - Welke `X^2`-waarde vind je?\n",
    "    - Welke p-waarde vind je?\n",
    "    - Wat is het betrouwbaarheidsinterval voor `alfa=0.05`?\n",
    "    - Welk besluit kan je trekken?"
   ],
   "metadata": {
    "collapsed": false
   },
   "id": "38274c4c7bf85d7a"
  },
  {
   "cell_type": "code",
   "outputs": [],
   "source": [],
   "metadata": {
    "collapsed": false,
    "ExecuteTime": {
     "end_time": "2024-02-28T14:54:25.323073300Z",
     "start_time": "2024-02-28T14:54:25.296110500Z"
    }
   },
   "id": "a1a696d807d4c60a",
   "execution_count": 106
  },
  {
   "cell_type": "markdown",
   "source": [
    "## Practical exercises (Python)"
   ],
   "metadata": {
    "collapsed": false
   },
   "id": "f8f39a382b50d97a"
  },
  {
   "cell_type": "code",
   "outputs": [],
   "source": [
    "studentQuestions = pd.read_csv('../Data1.csv', delimiter=';', decimal=',')"
   ],
   "metadata": {
    "collapsed": false,
    "ExecuteTime": {
     "end_time": "2024-02-28T14:54:25.365215800Z",
     "start_time": "2024-02-28T14:54:25.326108400Z"
    }
   },
   "id": "5e61cb3cb6fe7e97",
   "execution_count": 107
  },
  {
   "cell_type": "code",
   "outputs": [
    {
     "data": {
      "text/plain": "   gapminder schrijfhand  schoenmaat  lengte    bloedgroep         resus  \\\n0       7/18      Rechts        43.0     184             O      positief   \n1       3/18      Rechts        42.0     163  Weet ik niet  Weet ik niet   \n2      12/18      Rechts        45.0     183            AB      positief   \n3       5/18      Rechts        44.0     175             A      positief   \n4       6/18      Rechts        43.0     173             B      positief   \n..       ...         ...         ...     ...           ...           ...   \n84      7/18      Rechts        45.0     185             O      negatief   \n85      9/18      Rechts        43.0     184             O  Weet ik niet   \n86      4/18       Links        45.5     190  Weet ik niet  Weet ik niet   \n87      8/18      Rechts        45.0     188             A      positief   \n88      7/18      Rechts        43.0     176             B      positief   \n\n    siblings                                     Samenzweringen  \\\n0          5  De tsunami van 2004 in de Indische Oceaan was ...   \n1          1   Prinses Diana kwam niet per ongeluk om het leven   \n2          2  Prinses Diana kwam niet per ongeluk om het lev...   \n3          2  De wereld wordt eigenlijk gecontroleerd door e...   \n4          3  De wereld wordt eigenlijk gecontroleerd door e...   \n..       ...                                                ...   \n84         0  De maanlanding is in scne gezet om de Russen ...   \n85         2  De aanslagen van 9/11 in NY werden niet door t...   \n86         0  Prinses Diana kwam niet per ongeluk om het lev...   \n87         1                                                NaN   \n88         2                                                NaN   \n\n                                            rijbewijs  \\\n0                                Categorie B: Wagens.   \n1   Categorie AM: Bromfietsen met een maximumsnelh...   \n2   Categorie AM: Bromfietsen met een maximumsnelh...   \n3   Categorie AM: Bromfietsen met een maximumsnelh...   \n4                                Categorie B: Wagens.   \n..                                                ...   \n84  Categorie AM: Bromfietsen met een maximumsnelh...   \n85  Categorie AM: Bromfietsen met een maximumsnelh...   \n86  Categorie AM: Bromfietsen met een maximumsnelh...   \n87                               Categorie B: Wagens.   \n88                               Categorie B: Wagens.   \n\n                               domicilie in Antwerpen  ... M1 - stelen  \\\n0   buiten de stad (een dorp, een gehucht, het pla...  ...           7   \n1                                         in een stad  ...          10   \n2                                         in een stad  ...           6   \n3                                         in een stad  ...           9   \n4                                         in een stad  ...          10   \n..                                                ...  ...         ...   \n84  buiten de stad (een dorp, een gehucht, het pla...  ...          10   \n85  buiten de stad (een dorp, een gehucht, het pla...  ...           8   \n86                                        in een stad  ...          10   \n87                                        in een stad  ...           8   \n88                                        in een stad  ...          10   \n\n   M2 - team M3 - beschermen M4 - voorbeeld M5 - embryo  M6 - vrijheid  \\\n0          2               8              6           5            4.0   \n1          5              10              6           7            3.0   \n2          3               7              7          10            6.0   \n3         10              10             10          10            0.0   \n4          6              10              7           7            2.0   \n..       ...             ...            ...         ...            ...   \n84         3               8              8           2            5.0   \n85         5               7              8           4            0.0   \n86         5              10              8           9            5.0   \n87         6               6              7           6            4.0   \n88         5               4              9           3            9.0   \n\n                                             mascotte            zwaarste vak  \\\n0   1=Bever,2=Wasbeer,3=Otter,4=Wolf,5=Poema,6=Pan...            Management 1   \n1   1=Bever,2=Wolf,3=Bizon,4=Otter,5=Panter,6=Poem...            Management 1   \n2   1=Bruine beer,2=Poema,3=Panter,4=Wolf,5=Vos,6=...            Management 1   \n3   1=Wasbeer,2=Wolf,3=Bruine beer,4=Das,5=Vos,6=B...            Management 1   \n4   1=Wolf,2=Vos,3=Bruine beer,4=Bizon,5=Panter,6=...            Management 1   \n..                                                ...                     ...   \n84  1=Panter,2=Poema,3=Wolf,4=Vos,5=Bever,6=Bruine...  Software engineering 1   \n85  1=Panter,2=Poema,3=Vos,4=Wolf,5=Bruine beer,6=...          Data science 1   \n86  1=Wolf,2=Vos,3=Bruine beer,4=Bever,5=Das,6=Was...       User interfaces 1   \n87  1=Otter,2=Wasbeer,3=Vos,4=Bruine beer,5=Bever,...             Netwerken 1   \n88  1=Poema,2=Panter,3=Wolf,4=Bruine beer,5=Bizon,...          Data science 1   \n\n                boeienste vak  studiepunt  \n0              Data science 1  16-20 uren  \n1          Computersystemen 1  <= 10 uren  \n2       Programmeren 1 - Java  16-20 uren  \n3              Data science 1  <= 10 uren  \n4              Data science 1  <= 10 uren  \n..                        ...         ...  \n84          User interfaces 1  26-30 uren  \n85  Programmeren 1 - Embedded  11-15 uren  \n86             Data science 1  16-20 uren  \n87             Data science 1  16-20 uren  \n88      Programmeren 1 - Java  26-30 uren  \n\n[89 rows x 33 columns]",
      "text/html": "<div>\n<style scoped>\n    .dataframe tbody tr th:only-of-type {\n        vertical-align: middle;\n    }\n\n    .dataframe tbody tr th {\n        vertical-align: top;\n    }\n\n    .dataframe thead th {\n        text-align: right;\n    }\n</style>\n<table border=\"1\" class=\"dataframe\">\n  <thead>\n    <tr style=\"text-align: right;\">\n      <th></th>\n      <th>gapminder</th>\n      <th>schrijfhand</th>\n      <th>schoenmaat</th>\n      <th>lengte</th>\n      <th>bloedgroep</th>\n      <th>resus</th>\n      <th>siblings</th>\n      <th>Samenzweringen</th>\n      <th>rijbewijs</th>\n      <th>domicilie in Antwerpen</th>\n      <th>...</th>\n      <th>M1 - stelen</th>\n      <th>M2 - team</th>\n      <th>M3 - beschermen</th>\n      <th>M4 - voorbeeld</th>\n      <th>M5 - embryo</th>\n      <th>M6 - vrijheid</th>\n      <th>mascotte</th>\n      <th>zwaarste vak</th>\n      <th>boeienste vak</th>\n      <th>studiepunt</th>\n    </tr>\n  </thead>\n  <tbody>\n    <tr>\n      <th>0</th>\n      <td>7/18</td>\n      <td>Rechts</td>\n      <td>43.0</td>\n      <td>184</td>\n      <td>O</td>\n      <td>positief</td>\n      <td>5</td>\n      <td>De tsunami van 2004 in de Indische Oceaan was ...</td>\n      <td>Categorie B: Wagens.</td>\n      <td>buiten de stad (een dorp, een gehucht, het pla...</td>\n      <td>...</td>\n      <td>7</td>\n      <td>2</td>\n      <td>8</td>\n      <td>6</td>\n      <td>5</td>\n      <td>4.0</td>\n      <td>1=Bever,2=Wasbeer,3=Otter,4=Wolf,5=Poema,6=Pan...</td>\n      <td>Management 1</td>\n      <td>Data science 1</td>\n      <td>16-20 uren</td>\n    </tr>\n    <tr>\n      <th>1</th>\n      <td>3/18</td>\n      <td>Rechts</td>\n      <td>42.0</td>\n      <td>163</td>\n      <td>Weet ik niet</td>\n      <td>Weet ik niet</td>\n      <td>1</td>\n      <td>Prinses Diana kwam niet per ongeluk om het leven</td>\n      <td>Categorie AM: Bromfietsen met een maximumsnelh...</td>\n      <td>in een stad</td>\n      <td>...</td>\n      <td>10</td>\n      <td>5</td>\n      <td>10</td>\n      <td>6</td>\n      <td>7</td>\n      <td>3.0</td>\n      <td>1=Bever,2=Wolf,3=Bizon,4=Otter,5=Panter,6=Poem...</td>\n      <td>Management 1</td>\n      <td>Computersystemen 1</td>\n      <td>&lt;= 10 uren</td>\n    </tr>\n    <tr>\n      <th>2</th>\n      <td>12/18</td>\n      <td>Rechts</td>\n      <td>45.0</td>\n      <td>183</td>\n      <td>AB</td>\n      <td>positief</td>\n      <td>2</td>\n      <td>Prinses Diana kwam niet per ongeluk om het lev...</td>\n      <td>Categorie AM: Bromfietsen met een maximumsnelh...</td>\n      <td>in een stad</td>\n      <td>...</td>\n      <td>6</td>\n      <td>3</td>\n      <td>7</td>\n      <td>7</td>\n      <td>10</td>\n      <td>6.0</td>\n      <td>1=Bruine beer,2=Poema,3=Panter,4=Wolf,5=Vos,6=...</td>\n      <td>Management 1</td>\n      <td>Programmeren 1 - Java</td>\n      <td>16-20 uren</td>\n    </tr>\n    <tr>\n      <th>3</th>\n      <td>5/18</td>\n      <td>Rechts</td>\n      <td>44.0</td>\n      <td>175</td>\n      <td>A</td>\n      <td>positief</td>\n      <td>2</td>\n      <td>De wereld wordt eigenlijk gecontroleerd door e...</td>\n      <td>Categorie AM: Bromfietsen met een maximumsnelh...</td>\n      <td>in een stad</td>\n      <td>...</td>\n      <td>9</td>\n      <td>10</td>\n      <td>10</td>\n      <td>10</td>\n      <td>10</td>\n      <td>0.0</td>\n      <td>1=Wasbeer,2=Wolf,3=Bruine beer,4=Das,5=Vos,6=B...</td>\n      <td>Management 1</td>\n      <td>Data science 1</td>\n      <td>&lt;= 10 uren</td>\n    </tr>\n    <tr>\n      <th>4</th>\n      <td>6/18</td>\n      <td>Rechts</td>\n      <td>43.0</td>\n      <td>173</td>\n      <td>B</td>\n      <td>positief</td>\n      <td>3</td>\n      <td>De wereld wordt eigenlijk gecontroleerd door e...</td>\n      <td>Categorie B: Wagens.</td>\n      <td>in een stad</td>\n      <td>...</td>\n      <td>10</td>\n      <td>6</td>\n      <td>10</td>\n      <td>7</td>\n      <td>7</td>\n      <td>2.0</td>\n      <td>1=Wolf,2=Vos,3=Bruine beer,4=Bizon,5=Panter,6=...</td>\n      <td>Management 1</td>\n      <td>Data science 1</td>\n      <td>&lt;= 10 uren</td>\n    </tr>\n    <tr>\n      <th>...</th>\n      <td>...</td>\n      <td>...</td>\n      <td>...</td>\n      <td>...</td>\n      <td>...</td>\n      <td>...</td>\n      <td>...</td>\n      <td>...</td>\n      <td>...</td>\n      <td>...</td>\n      <td>...</td>\n      <td>...</td>\n      <td>...</td>\n      <td>...</td>\n      <td>...</td>\n      <td>...</td>\n      <td>...</td>\n      <td>...</td>\n      <td>...</td>\n      <td>...</td>\n      <td>...</td>\n    </tr>\n    <tr>\n      <th>84</th>\n      <td>7/18</td>\n      <td>Rechts</td>\n      <td>45.0</td>\n      <td>185</td>\n      <td>O</td>\n      <td>negatief</td>\n      <td>0</td>\n      <td>De maanlanding is in scne gezet om de Russen ...</td>\n      <td>Categorie AM: Bromfietsen met een maximumsnelh...</td>\n      <td>buiten de stad (een dorp, een gehucht, het pla...</td>\n      <td>...</td>\n      <td>10</td>\n      <td>3</td>\n      <td>8</td>\n      <td>8</td>\n      <td>2</td>\n      <td>5.0</td>\n      <td>1=Panter,2=Poema,3=Wolf,4=Vos,5=Bever,6=Bruine...</td>\n      <td>Software engineering 1</td>\n      <td>User interfaces 1</td>\n      <td>26-30 uren</td>\n    </tr>\n    <tr>\n      <th>85</th>\n      <td>9/18</td>\n      <td>Rechts</td>\n      <td>43.0</td>\n      <td>184</td>\n      <td>O</td>\n      <td>Weet ik niet</td>\n      <td>2</td>\n      <td>De aanslagen van 9/11 in NY werden niet door t...</td>\n      <td>Categorie AM: Bromfietsen met een maximumsnelh...</td>\n      <td>buiten de stad (een dorp, een gehucht, het pla...</td>\n      <td>...</td>\n      <td>8</td>\n      <td>5</td>\n      <td>7</td>\n      <td>8</td>\n      <td>4</td>\n      <td>0.0</td>\n      <td>1=Panter,2=Poema,3=Vos,4=Wolf,5=Bruine beer,6=...</td>\n      <td>Data science 1</td>\n      <td>Programmeren 1 - Embedded</td>\n      <td>11-15 uren</td>\n    </tr>\n    <tr>\n      <th>86</th>\n      <td>4/18</td>\n      <td>Links</td>\n      <td>45.5</td>\n      <td>190</td>\n      <td>Weet ik niet</td>\n      <td>Weet ik niet</td>\n      <td>0</td>\n      <td>Prinses Diana kwam niet per ongeluk om het lev...</td>\n      <td>Categorie AM: Bromfietsen met een maximumsnelh...</td>\n      <td>in een stad</td>\n      <td>...</td>\n      <td>10</td>\n      <td>5</td>\n      <td>10</td>\n      <td>8</td>\n      <td>9</td>\n      <td>5.0</td>\n      <td>1=Wolf,2=Vos,3=Bruine beer,4=Bever,5=Das,6=Was...</td>\n      <td>User interfaces 1</td>\n      <td>Data science 1</td>\n      <td>16-20 uren</td>\n    </tr>\n    <tr>\n      <th>87</th>\n      <td>8/18</td>\n      <td>Rechts</td>\n      <td>45.0</td>\n      <td>188</td>\n      <td>A</td>\n      <td>positief</td>\n      <td>1</td>\n      <td>NaN</td>\n      <td>Categorie B: Wagens.</td>\n      <td>in een stad</td>\n      <td>...</td>\n      <td>8</td>\n      <td>6</td>\n      <td>6</td>\n      <td>7</td>\n      <td>6</td>\n      <td>4.0</td>\n      <td>1=Otter,2=Wasbeer,3=Vos,4=Bruine beer,5=Bever,...</td>\n      <td>Netwerken 1</td>\n      <td>Data science 1</td>\n      <td>16-20 uren</td>\n    </tr>\n    <tr>\n      <th>88</th>\n      <td>7/18</td>\n      <td>Rechts</td>\n      <td>43.0</td>\n      <td>176</td>\n      <td>B</td>\n      <td>positief</td>\n      <td>2</td>\n      <td>NaN</td>\n      <td>Categorie B: Wagens.</td>\n      <td>in een stad</td>\n      <td>...</td>\n      <td>10</td>\n      <td>5</td>\n      <td>4</td>\n      <td>9</td>\n      <td>3</td>\n      <td>9.0</td>\n      <td>1=Poema,2=Panter,3=Wolf,4=Bruine beer,5=Bizon,...</td>\n      <td>Data science 1</td>\n      <td>Programmeren 1 - Java</td>\n      <td>26-30 uren</td>\n    </tr>\n  </tbody>\n</table>\n<p>89 rows × 33 columns</p>\n</div>"
     },
     "metadata": {},
     "output_type": "display_data"
    }
   ],
   "source": [
    "display(studentQuestions)"
   ],
   "metadata": {
    "collapsed": false,
    "ExecuteTime": {
     "end_time": "2024-02-28T14:54:25.383679200Z",
     "start_time": "2024-02-28T14:54:25.348140500Z"
    }
   },
   "id": "23752d3c78c4b8ec",
   "execution_count": 108
  },
  {
   "cell_type": "markdown",
   "source": [
    "### Exercise 1:\n",
    "- Voeg een kolom toe aan het dataframe en plaats daarin de gestalte van een persoon uitgedrukt in zijn schoenmaat (maw lengte gedeeld door schoenmaat)"
   ],
   "metadata": {
    "collapsed": false
   },
   "id": "439b67b46397307e"
  },
  {
   "cell_type": "code",
   "outputs": [],
   "source": [
    "studentQuestions['lengte_schoenmaat'] = studentQuestions['lengte'] / studentQuestions['schoenmaat']"
   ],
   "metadata": {
    "collapsed": false,
    "ExecuteTime": {
     "end_time": "2024-02-28T15:16:25.956483300Z",
     "start_time": "2024-02-28T15:16:25.931484200Z"
    }
   },
   "id": "226a017cd1abc68e",
   "execution_count": 120
  },
  {
   "cell_type": "markdown",
   "source": [
    "### Exercise 2:\n",
    "- Bepaal het gemiddelde en de standaardafwijking"
   ],
   "metadata": {
    "collapsed": false
   },
   "id": "e8f1254695876091"
  },
  {
   "cell_type": "code",
   "outputs": [
    {
     "name": "stdout",
     "output_type": "stream",
     "text": [
      "Gemiddelde: 4.167049413790356\n",
      "Standaardafwijking: 0.15332544212731153\n"
     ]
    }
   ],
   "source": [
    "gemiddelde = studentQuestions['lengte_schoenmaat'].mean()\n",
    "standaardafwijking = studentQuestions['lengte_schoenmaat'].std()\n",
    "print(\"Gemiddelde:\",gemiddelde)\n",
    "print(\"Standaardafwijking:\",standaardafwijking)"
   ],
   "metadata": {
    "collapsed": false,
    "ExecuteTime": {
     "end_time": "2024-02-28T15:17:34.171041200Z",
     "start_time": "2024-02-28T15:17:34.125061900Z"
    }
   },
   "id": "c0d4588203e46fa1",
   "execution_count": 121
  },
  {
   "cell_type": "markdown",
   "source": [
    "### Exercise 3:\n",
    "- Geef het betrouwbaarheidsinterval (alpha=`5%`) voor de gemiddelde verhouding gestalte-schoenmaat"
   ],
   "metadata": {
    "collapsed": false
   },
   "id": "4763d5f4fbadd085"
  },
  {
   "cell_type": "code",
   "outputs": [
    {
     "name": "stdout",
     "output_type": "stream",
     "text": [
      "Factor: 1.6623540291297123\n",
      "Confidence Interval: (43.03511737263701, 43.09971408803715)\n"
     ]
    }
   ],
   "source": [
    "n = studentQuestions.shape[0] # n = Population size\n",
    "x_bar = studentQuestions['schoenmaat'].mean()\n",
    "s = standaardafwijking # s = Sample standard deviation\n",
    "p = 0.95 # p = Confidence level\n",
    "factor = student.ppf(p, df=n-1) # factor = Z-score\n",
    "print(\"Factor:\",factor)\n",
    "interval = student.interval(confidence=p, df=n-1, loc=x_bar, scale=s/math.sqrt(n))\n",
    "print(\"Confidence Interval:\",interval)"
   ],
   "metadata": {
    "collapsed": false,
    "ExecuteTime": {
     "end_time": "2024-02-28T15:20:57.177605800Z",
     "start_time": "2024-02-28T15:20:57.151180200Z"
    }
   },
   "id": "2b6f2cdb5583c35f",
   "execution_count": 122
  },
  {
   "cell_type": "markdown",
   "source": [
    "### Exercise 4:\n",
    "- Iemand beweert dat de verhouding gestalte-schoenmaat van een mens gelijk is aan `4.2`. Kan je op basis van de gegevens uit de vragenlijst dit (alpha=`5%`) bijtreden? En indien alpha = `2.5%`?"
   ],
   "metadata": {
    "collapsed": false
   },
   "id": "f56a43dca7238bc9"
  },
  {
   "cell_type": "code",
   "outputs": [],
   "source": [],
   "metadata": {
    "collapsed": false,
    "ExecuteTime": {
     "end_time": "2024-02-28T14:54:25.510605500Z",
     "start_time": "2024-02-28T14:54:25.423372300Z"
    }
   },
   "id": "cfe85b4d1d57ec5c",
   "execution_count": 108
  },
  {
   "cell_type": "markdown",
   "source": [
    "## Testing examples:"
   ],
   "metadata": {
    "collapsed": false
   },
   "id": "7e73a6f2a987e615"
  },
  {
   "cell_type": "markdown",
   "source": [
    "### Experiment 1: (Student distribution)"
   ],
   "metadata": {
    "collapsed": false
   },
   "id": "946e0b85644ab99c"
  },
  {
   "cell_type": "code",
   "outputs": [
    {
     "data": {
      "text/plain": "<Figure size 640x480 with 1 Axes>",
      "image/png": "[encoded data removed]"
     },
     "metadata": {},
     "output_type": "display_data"
    }
   ],
   "source": [
    "# Set the degrees of freedom (df) for the Student's t-distribution\n",
    "degrees_of_freedom = 10  # You can adjust this value\n",
    "\n",
    "# Generate random data from Student's t-distribution\n",
    "data = student.rvs(degrees_of_freedom, size=1000)\n",
    "\n",
    "# Plot the histogram of the generated data\n",
    "plt.hist(data, bins=30, density=True, alpha=0.7, color='blue', label='Sample Data')\n",
    "\n",
    "# Plot the probability density function (PDF) of the Student's t-distribution\n",
    "x = np.linspace(student.ppf(0.001, degrees_of_freedom), student.ppf(0.999, degrees_of_freedom), 100)\n",
    "plt.plot(x, student.pdf(x, degrees_of_freedom), 'r-', lw=2, label='PDF')\n",
    "\n",
    "# Add labels and a legend\n",
    "plt.title('Student\\'s t-distribution')\n",
    "plt.xlabel('Value')\n",
    "plt.ylabel('Probability Density')\n",
    "plt.legend()\n",
    "\n",
    "# Show the plot\n",
    "plt.show()"
   ],
   "metadata": {
    "collapsed": false,
    "ExecuteTime": {
     "end_time": "2024-02-28T14:54:25.639586300Z",
     "start_time": "2024-02-28T14:54:25.441787500Z"
    }
   },
   "id": "d5297260df00c9e",
   "execution_count": 109
  }
 ],
 "metadata": {
  "kernelspec": {
   "display_name": "Python 3",
   "language": "python",
   "name": "python3"
  },
  "language_info": {
   "codemirror_mode": {
    "name": "ipython",
    "version": 2
   },
   "file_extension": ".py",
   "mimetype": "text/x-python",
   "name": "python",
   "nbconvert_exporter": "python",
   "pygments_lexer": "ipython2",
   "version": "2.7.6"
  }
 },
 "nbformat": 4,
 "nbformat_minor": 5
}

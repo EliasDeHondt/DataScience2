{
 "cells": [
  {
   "cell_type": "markdown",
   "source": [
    "# Exercises Repetition"
   ],
   "metadata": {
    "collapsed": false
   },
   "id": "fc11ae5046d6cd48"
  },
  {
   "cell_type": "code",
   "outputs": [],
   "source": [
    "import pandas as pd # Data manipulation\n",
    "from scipy.special import comb # Combinations\n",
    "import matplotlib.pyplot as plt # Data visualization\n",
    "from mlxtend.frequent_patterns import apriori # Apriori algorithm\n",
    "from mlxtend.frequent_patterns import fpgrowth # FP-growth algorithm\n",
    "from mlxtend.frequent_patterns import association_rules # Association rules"
   ],
   "metadata": {
    "collapsed": false,
    "ExecuteTime": {
     "end_time": "2024-03-19T14:56:53.877331Z",
     "start_time": "2024-03-19T14:56:53.871322Z"
    }
   },
   "id": "1796a7e3a7232f25",
   "execution_count": 21
  },
  {
   "cell_type": "markdown",
   "source": [
    "## Theoretical questions"
   ],
   "metadata": {
    "collapsed": false
   },
   "id": "d66cd879508e8eb4"
  },
  {
   "cell_type": "markdown",
   "source": [
    "### Question 1:\n",
    "The following probabilities are known from a dataset from the previous year. 79% of students are taking the Data Science exam for the first time. Respectively `12.65%`, `4.30%` and `4.05%` of the students participate in the exam for the `2nd`, `3rd` and `4th` time. If the student participates for the first time, the chance that he or she will pass is '60%'. For the second, third and fourth participation, the chance of passing is `40%`, `12%` and `2%` respectively."
   ],
   "metadata": {
    "collapsed": false
   },
   "id": "8dcce8d70aac0bac"
  },
  {
   "cell_type": "markdown",
   "source": [
    "- 1.1. There is a `53.057%` chance that a randomly selected student from last year has passed. Write down the calculation that gives you this percentage based on the data from the exercise."
   ],
   "metadata": {
    "collapsed": false
   },
   "id": "b41df6b24b54df3f"
  },
  {
   "cell_type": "code",
   "outputs": [],
   "source": [],
   "metadata": {
    "collapsed": false,
    "ExecuteTime": {
     "end_time": "2024-03-19T14:56:53.986325Z",
     "start_time": "2024-03-19T14:56:53.971576Z"
    }
   },
   "id": "f61d5f3c36d4ed95",
   "execution_count": 21
  },
  {
   "cell_type": "markdown",
   "source": [
    "- 1.2.`24%` of the students who sat for the Data Science exam last year were baptized. The percentage of successful students for the group of baptized students is exactly the same as the percentage of successful students for the entire group. Suppose the teacher chooses one student from the entire group of students (who took the exam last year). What are the chances that this student was baptized and passed Data Science last year."
   ],
   "metadata": {
    "collapsed": false
   },
   "id": "ac6e6a8db97c7653"
  },
  {
   "cell_type": "code",
   "outputs": [],
   "source": [],
   "metadata": {
    "collapsed": false,
    "ExecuteTime": {
     "end_time": "2024-03-19T14:56:54.002394Z",
     "start_time": "2024-03-19T14:56:53.989240Z"
    }
   },
   "id": "ce4e897992fd055a",
   "execution_count": 21
  },
  {
   "cell_type": "markdown",
   "source": [
    "- 1.3. The teacher calls on `15` students who participated for the first time last year the exam. What is the probability that 10 or more students have passed?"
   ],
   "metadata": {
    "collapsed": false
   },
   "id": "52f18b95661cc892"
  },
  {
   "cell_type": "code",
   "outputs": [],
   "source": [],
   "metadata": {
    "collapsed": false,
    "ExecuteTime": {
     "end_time": "2024-03-19T14:56:54.017967Z",
     "start_time": "2024-03-19T14:56:54.004860Z"
    }
   },
   "id": "d45ccf151811f954",
   "execution_count": 21
  },
  {
   "cell_type": "markdown",
   "source": [
    "### Question 2:\n",
    "The average study time per course is `4.5` hours per week in the course. We want to determine whether the study time of the course differs significantly from the average for the Data Science course (based on a sample). Use the input file for this"
   ],
   "metadata": {
    "collapsed": false
   },
   "id": "3d07b7bd896afd9c"
  },
  {
   "cell_type": "markdown",
   "source": [
    "- 2.1. What alternative hypothesis can we use?"
   ],
   "metadata": {
    "collapsed": false
   },
   "id": "d1ceb0901b94f23c"
  },
  {
   "cell_type": "code",
   "outputs": [],
   "source": [],
   "metadata": {
    "collapsed": false,
    "ExecuteTime": {
     "end_time": "2024-03-19T14:56:54.033507Z",
     "start_time": "2024-03-19T14:56:54.020903Z"
    }
   },
   "id": "b837a52e5d751ed9",
   "execution_count": 21
  },
  {
   "cell_type": "markdown",
   "source": [
    "- 2.2 What is the acceptance interval for the study time of the course at `a=0.05`? Also write down how you arrived at this number."
   ],
   "metadata": {
    "collapsed": false
   },
   "id": "f0bcb30b4995615d"
  },
  {
   "cell_type": "code",
   "outputs": [],
   "source": [],
   "metadata": {
    "collapsed": false,
    "ExecuteTime": {
     "end_time": "2024-03-19T14:56:54.048874Z",
     "start_time": "2024-03-19T14:56:54.035508Z"
    }
   },
   "id": "d64da21d3213cb37",
   "execution_count": 21
  },
  {
   "cell_type": "markdown",
   "source": [
    "- 2.3. What value for the factor did you use to calculate the acceptance interval?"
   ],
   "metadata": {
    "collapsed": false
   },
   "id": "1dcf4e50a2171471"
  },
  {
   "cell_type": "code",
   "outputs": [],
   "source": [],
   "metadata": {
    "collapsed": false,
    "ExecuteTime": {
     "end_time": "2024-03-19T14:56:54.064060Z",
     "start_time": "2024-03-19T14:56:54.050887Z"
    }
   },
   "id": "241f0f7a12fc19f5",
   "execution_count": 21
  },
  {
   "cell_type": "markdown",
   "source": [
    "- 2.4. What can you say about the null hypothesis?"
   ],
   "metadata": {
    "collapsed": false
   },
   "id": "e624826d7141821a"
  },
  {
   "cell_type": "code",
   "outputs": [],
   "source": [],
   "metadata": {
    "collapsed": false,
    "ExecuteTime": {
     "end_time": "2024-03-19T14:56:54.079366Z",
     "start_time": "2024-03-19T14:56:54.066234Z"
    }
   },
   "id": "23ab4a95cfa623d7",
   "execution_count": 21
  },
  {
   "cell_type": "markdown",
   "source": [
    "- 2.5. Calculate the p-value that you can use to support this claim (at `a=0.05`)"
   ],
   "metadata": {
    "collapsed": false
   },
   "id": "614a3b1a8373a0cd"
  },
  {
   "cell_type": "code",
   "outputs": [],
   "source": [],
   "metadata": {
    "collapsed": false,
    "ExecuteTime": {
     "end_time": "2024-03-19T14:56:54.095340Z",
     "start_time": "2024-03-19T14:56:54.080939Z"
    }
   },
   "id": "97a4d66e679ac5a1",
   "execution_count": 21
  },
  {
   "cell_type": "markdown",
   "source": [
    "- 2.6. Form a conclusion based on the p-value. Complete the following sentence (in any case, use the obtained p-value in your conclusion): If the average study duration of the population is `4.5 HOURS`, then"
   ],
   "metadata": {
    "collapsed": false
   },
   "id": "6438d35cb7cf39ec"
  },
  {
   "cell_type": "code",
   "outputs": [],
   "source": [],
   "metadata": {
    "collapsed": false,
    "ExecuteTime": {
     "end_time": "2024-03-19T14:56:54.111098Z",
     "start_time": "2024-03-19T14:56:54.097340Z"
    }
   },
   "id": "59431b79068364c3",
   "execution_count": 21
  },
  {
   "cell_type": "markdown",
   "source": [
    "### Question 3:\n",
    "We want to know whether the going out behavior of our students differs from those of the University From a survey of all students of the\n",
    "university shows the following distribution:\n",
    "\n",
    "|                   | Behavior College | Measured education absolutely |\n",
    "|-------------------|------------------|-------------------------------|\n",
    "| Never             | 5.00%            | 23                            |\n",
    "| Occasionally      | 30.00%           | 103                           |\n",
    "| Weekly            | 35.00%           | 130                           |\n",
    "| More times a week | 20.00%           | 86                            |\n",
    "| Daily             | 10.00%           | 53                            |\n"
   ],
   "metadata": {
    "collapsed": false
   },
   "id": "921495f352a4d7dd"
  },
  {
   "cell_type": "markdown",
   "source": [
    "3.1. Calculate x^2"
   ],
   "metadata": {
    "collapsed": false
   },
   "id": "1bf3491f5849f3ec"
  },
  {
   "cell_type": "code",
   "outputs": [],
   "source": [],
   "metadata": {
    "collapsed": false,
    "ExecuteTime": {
     "end_time": "2024-03-19T14:56:54.127386Z",
     "start_time": "2024-03-19T14:56:54.113456Z"
    }
   },
   "id": "1159dd434fc53d1a",
   "execution_count": 21
  },
  {
   "cell_type": "markdown",
   "source": [
    "3.2. What is the p value for this distribution?"
   ],
   "metadata": {
    "collapsed": false
   },
   "id": "6c8f52a096f04f7b"
  },
  {
   "cell_type": "code",
   "outputs": [],
   "source": [],
   "metadata": {
    "collapsed": false,
    "ExecuteTime": {
     "end_time": "2024-03-19T14:56:54.143332Z",
     "start_time": "2024-03-19T14:56:54.128442Z"
    }
   },
   "id": "cc65136f0fb02e1a",
   "execution_count": 21
  },
  {
   "cell_type": "markdown",
   "source": [
    "3.3. I want to make a decision with reliability of `90%`. Which decision do I take?"
   ],
   "metadata": {
    "collapsed": false
   },
   "id": "f014b064bd19ef9c"
  },
  {
   "cell_type": "code",
   "outputs": [],
   "source": [],
   "metadata": {
    "collapsed": false,
    "ExecuteTime": {
     "end_time": "2024-03-19T14:56:54.159338Z",
     "start_time": "2024-03-19T14:56:54.145685Z"
    }
   },
   "id": "4b9dcf4c27e2c13",
   "execution_count": 21
  },
  {
   "cell_type": "markdown",
   "source": [
    "### Question 4:\n",
    "A store has analyzed a number of shopping carts. Look for the association rules."
   ],
   "metadata": {
    "collapsed": false
   },
   "id": "fad47ac4057f255"
  },
  {
   "cell_type": "markdown",
   "source": [
    "4.1. Read the groceries.csv file."
   ],
   "metadata": {
    "collapsed": false
   },
   "id": "41d24b440407e4ab"
  },
  {
   "cell_type": "code",
   "outputs": [],
   "source": [
    "groceries = pd.read_csv('../Data/Groceries.csv', delimiter=',', decimal='.')"
   ],
   "metadata": {
    "collapsed": false,
    "ExecuteTime": {
     "end_time": "2024-03-19T14:56:54.190859Z",
     "start_time": "2024-03-19T14:56:54.161967Z"
    }
   },
   "id": "6cd6e934bfe2eeb3",
   "execution_count": 22
  },
  {
   "cell_type": "code",
   "outputs": [
    {
     "data": {
      "text/plain": "   transaction                                              items\n0            1  {citrus fruit;semi-finished bread;margarine;re...\n1            2                     {tropical fruit;yogurt;coffee}\n2            3                                       {whole milk}\n3            4      {pip fruit;yogurt;cream cheese ;meat spreads}\n4            5  {other vegetables;whole milk;condensed milk;lo...",
      "text/html": "<div>\n<style scoped>\n    .dataframe tbody tr th:only-of-type {\n        vertical-align: middle;\n    }\n\n    .dataframe tbody tr th {\n        vertical-align: top;\n    }\n\n    .dataframe thead th {\n        text-align: right;\n    }\n</style>\n<table border=\"1\" class=\"dataframe\">\n  <thead>\n    <tr style=\"text-align: right;\">\n      <th></th>\n      <th>transaction</th>\n      <th>items</th>\n    </tr>\n  </thead>\n  <tbody>\n    <tr>\n      <th>0</th>\n      <td>1</td>\n      <td>{citrus fruit;semi-finished bread;margarine;re...</td>\n    </tr>\n    <tr>\n      <th>1</th>\n      <td>2</td>\n      <td>{tropical fruit;yogurt;coffee}</td>\n    </tr>\n    <tr>\n      <th>2</th>\n      <td>3</td>\n      <td>{whole milk}</td>\n    </tr>\n    <tr>\n      <th>3</th>\n      <td>4</td>\n      <td>{pip fruit;yogurt;cream cheese ;meat spreads}</td>\n    </tr>\n    <tr>\n      <th>4</th>\n      <td>5</td>\n      <td>{other vegetables;whole milk;condensed milk;lo...</td>\n    </tr>\n  </tbody>\n</table>\n</div>"
     },
     "metadata": {},
     "output_type": "display_data"
    }
   ],
   "source": [
    "display(groceries.head())"
   ],
   "metadata": {
    "collapsed": false,
    "ExecuteTime": {
     "end_time": "2024-03-19T14:56:54.206697Z",
     "start_time": "2024-03-19T14:56:54.193373Z"
    }
   },
   "id": "491f6e27f1516269",
   "execution_count": 23
  },
  {
   "cell_type": "markdown",
   "source": [
    "4.2. To convert the items in string format to an n-dimensional array you can do the following perform conversion.\n",
    "```python\n",
    "transactions = groceries['items'].apply(lambda row: row[1:-1].split(';')).to_numpy();\n",
    "\n",
    "# For each list of items in form {item 1, item 2, item 3}\n",
    "#1. Remove the curly braces with [1:-1]\n",
    "#2. Split based on “;”\n",
    "#3. Convert the panda Series to a numpy ndarray\n",
    "```"
   ],
   "metadata": {
    "collapsed": false
   },
   "id": "958a60af8f5b2ab"
  },
  {
   "cell_type": "code",
   "outputs": [],
   "source": [
    "transactions = groceries['items'].apply(lambda row: row[1:-1].split(';')).to_numpy();"
   ],
   "metadata": {
    "collapsed": false,
    "ExecuteTime": {
     "end_time": "2024-03-19T14:56:54.254122Z",
     "start_time": "2024-03-19T14:56:54.232952Z"
    }
   },
   "id": "123b660558a54fc4",
   "execution_count": 24
  },
  {
   "cell_type": "code",
   "outputs": [
    {
     "name": "stdout",
     "output_type": "stream",
     "text": [
      "[list(['citrus fruit', 'semi-finished bread', 'margarine', 'ready soups'])\n",
      " list(['tropical fruit', 'yogurt', 'coffee']) list(['whole milk']) ...\n",
      " list(['chicken', 'citrus fruit', 'other vegetables', 'butter', 'yogurt', 'frozen dessert', 'domestic eggs', 'rolls/buns', 'rum', 'cling film/bags'])\n",
      " list(['semi-finished bread', 'bottled water', 'soda', 'bottled beer'])\n",
      " list(['chicken', 'tropical fruit', 'other vegetables', 'vinegar', 'shopping bags'])]\n"
     ]
    }
   ],
   "source": [
    "print(transactions)"
   ],
   "metadata": {
    "collapsed": false,
    "ExecuteTime": {
     "end_time": "2024-03-19T14:57:05.458413Z",
     "start_time": "2024-03-19T14:57:05.452145Z"
    }
   },
   "id": "7fd43df7fc36d23e",
   "execution_count": 26
  },
  {
   "cell_type": "markdown",
   "source": [
    "4.3. Create the association rules with the apriori algorithm based on the following parameters:\n",
    "- minimum support = `0.05`\n",
    "- minimum confidence = `0.1`\n",
    "- minimum lengte = `2`\n",
    "- maximum lengte = `5`\n"
   ],
   "metadata": {
    "collapsed": false
   },
   "id": "ff20065f644d7c06"
  },
  {
   "cell_type": "code",
   "outputs": [],
   "source": [],
   "metadata": {
    "collapsed": false,
    "ExecuteTime": {
     "end_time": "2024-03-19T14:56:54.285380Z",
     "start_time": "2024-03-19T14:56:54.271390Z"
    }
   },
   "id": "bd09ec9c00270c86",
   "execution_count": 25
  },
  {
   "cell_type": "markdown",
   "source": [
    "4.4. Look up the line yogurt → whole milk. Is this a good line? Rate based on Support, Confidence and Lift."
   ],
   "metadata": {
    "collapsed": false
   },
   "id": "def89ff9beaa0c89"
  },
  {
   "cell_type": "code",
   "outputs": [],
   "source": [],
   "metadata": {
    "collapsed": false,
    "ExecuteTime": {
     "end_time": "2024-03-19T14:56:54.301069Z",
     "start_time": "2024-03-19T14:56:54.288154Z"
    }
   },
   "id": "47e52cc72ccf9ed0",
   "execution_count": 25
  }
 ],
 "metadata": {
  "kernelspec": {
   "display_name": "Python 3",
   "language": "python",
   "name": "python3"
  },
  "language_info": {
   "codemirror_mode": {
    "name": "ipython",
    "version": 2
   },
   "file_extension": ".py",
   "mimetype": "text/x-python",
   "name": "python",
   "nbconvert_exporter": "python",
   "pygments_lexer": "ipython2",
   "version": "2.7.6"
  }
 },
 "nbformat": 4,
 "nbformat_minor": 5
}

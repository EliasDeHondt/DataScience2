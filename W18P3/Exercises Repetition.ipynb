{
 "cells": [
  {
   "cell_type": "markdown",
   "source": [
    "# Exercises Repetition"
   ],
   "metadata": {
    "collapsed": false
   },
   "id": "fc11ae5046d6cd48"
  },
  {
   "cell_type": "code",
   "outputs": [],
   "source": [
    "import math                                                   # Mathematical functions\n",
    "import pandas as pd                                           # Data manipulation\n",
    "import numpy as np                                            # Scientific computing\n",
    "import matplotlib.pyplot as plt                               # Data visualization\n",
    "from scipy.stats import binom as binomial                     # Binomial distribution\n",
    "from scipy.stats import t as student                          # Student distribution\n",
    "from scipy.stats import chi2                                  # Chi-squared distribution\n",
    "from scipy.stats import ttest_1samp                           # One-sample t-test\n",
    "from scipy.stats import chisquare                             # Chi-squared test\n",
    "from mlxtend.frequent_patterns import apriori                 # Apriori algorithm\n",
    "from mlxtend.frequent_patterns import association_rules       # Association rules\n",
    "from mlxtend.preprocessing import TransactionEncoder          # Transaction encoder\n",
    "\n",
    "def rule_filter(row, min_len, max_len):\n",
    "    length = len(row['antecedents']) + len(row['consequents'])\n",
    "    return min_len <= length <= max_len\n",
    "\n",
    "def get_item_list (string):\n",
    "    items = string [1:-1]\n",
    "    return items.split(';')\n",
    "\n",
    "def plot_confidence_interval(population_size, sample_mean, sample_standard_deviation, degrees_freedom, plot_factor):\n",
    "    margin_of_error = plot_factor * sample_standard_deviation / np.sqrt(population_size)\n",
    "    lower_bound = sample_mean - margin_of_error\n",
    "    upper_bound = sample_mean + margin_of_error\n",
    "\n",
    "    # Plotting the confidence interval\n",
    "    plt.figure(figsize=(10, 6))\n",
    "    x_axis = np.linspace(sample_mean - 3 * sample_standard_deviation, sample_mean + 3 * sample_standard_deviation, 1000)\n",
    "    y_axis = student.pdf(x_axis, degrees_freedom, loc=sample_mean, scale=sample_standard_deviation / np.sqrt(population_size))\n",
    "\n",
    "    plt.plot(x_axis, y_axis, label='t-distribution')\n",
    "    plt.axvline(lower_bound, color='red', linestyle='--', label='Lower Bound')\n",
    "    plt.axvline(upper_bound, color='blue', linestyle='--', label='Upper Bound')\n",
    "    plt.axvline(sample_mean, color='green', linestyle='-', label='Sample Mean')\n",
    "\n",
    "    # Mark the confidence interval\n",
    "    plt.fill_betweenx(y_axis, lower_bound, upper_bound, where=(x_axis >= lower_bound) & (x_axis <= upper_bound), color='orange', label='Confidence Interval')\n",
    "\n",
    "    plt.title('Confidence Interval Plot')\n",
    "    plt.xlabel('Sample Mean')\n",
    "    plt.ylabel('Probability Density Function')\n",
    "    plt.legend()\n",
    "    plt.grid(True)\n",
    "    plt.show()"
   ],
   "metadata": {
    "collapsed": false,
    "ExecuteTime": {
     "end_time": "2024-03-20T17:52:12.163337Z",
     "start_time": "2024-03-20T17:52:12.142713Z"
    }
   },
   "id": "1796a7e3a7232f25",
   "execution_count": 30
  },
  {
   "cell_type": "markdown",
   "source": [
    "## Theoretical questions"
   ],
   "metadata": {
    "collapsed": false
   },
   "id": "d66cd879508e8eb4"
  },
  {
   "cell_type": "markdown",
   "source": [
    "### Question 1:\n",
    "The following probabilities are known from a dataset from the previous year. `79%` of students are taking the Data Science exam for the first time. Respectively `12.65%`, `4.30%` and `4.05%` of the students participate in the exam for the `2nd`, `3rd` and `4th` time. If the student participates for the first time, the chance that he or she will pass is `60%`. For the second, third and fourth participation, the chance of passing is `40%`, `12%` and `2%` respectively."
   ],
   "metadata": {
    "collapsed": false
   },
   "id": "8dcce8d70aac0bac"
  },
  {
   "cell_type": "markdown",
   "source": [
    "- 1.1. There is a `53.057%` chance that a randomly selected student from last year has passed. Write down the calculation that gives you this percentage based on the data from the exercise."
   ],
   "metadata": {
    "collapsed": false
   },
   "id": "b41df6b24b54df3f"
  },
  {
   "cell_type": "code",
   "outputs": [
    {
     "name": "stdout",
     "output_type": "stream",
     "text": [
      "Total Probability: 0.53057\n"
     ]
    }
   ],
   "source": [
    "# = 0.6 * 0.79 + 0.4 * 0.1265 + 0.12 * 0.043 + 0.02 * 0.0405\n",
    "totalProbability = 0.6 * 0.79 + 0.4 * 0.1265 + 0.12 * 0.043 + 0.02 * 0.0405\n",
    "print(\"Total Probability:\", totalProbability)"
   ],
   "metadata": {
    "collapsed": false,
    "ExecuteTime": {
     "end_time": "2024-03-20T17:52:12.552301Z",
     "start_time": "2024-03-20T17:52:12.534052Z"
    }
   },
   "id": "f61d5f3c36d4ed95",
   "execution_count": 31
  },
  {
   "cell_type": "markdown",
   "source": [
    "- 1.2.`24%` of the students who sat for the Data Science exam last year were baptized. The percentage of successful students for the group of baptized students is exactly the same as the percentage of successful students for the entire group. Suppose the teacher chooses one student from the entire group of students (who took the exam last year). What are the chances that this student was baptized and passed Data Science last year."
   ],
   "metadata": {
    "collapsed": false
   },
   "id": "ac6e6a8db97c7653"
  },
  {
   "cell_type": "code",
   "outputs": [
    {
     "name": "stdout",
     "output_type": "stream",
     "text": [
      "Product Rule: 0.1273368\n"
     ]
    }
   ],
   "source": [
    "# P(Baptized and Passed) = P(Baptized) * P(Passed | Baptized)\n",
    "productRule = totalProbability * 0.24\n",
    "print(\"Product Rule:\", productRule)"
   ],
   "metadata": {
    "collapsed": false,
    "ExecuteTime": {
     "end_time": "2024-03-20T17:52:12.583933Z",
     "start_time": "2024-03-20T17:52:12.573399Z"
    }
   },
   "id": "ce4e897992fd055a",
   "execution_count": 32
  },
  {
   "cell_type": "markdown",
   "source": [
    "- 1.3. The teacher calls on `15` students who participated for the first time last year the exam. What is the probability that 10 or more students have passed?"
   ],
   "metadata": {
    "collapsed": false
   },
   "id": "52f18b95661cc892"
  },
  {
   "cell_type": "code",
   "outputs": [
    {
     "name": "stdout",
     "output_type": "stream",
     "text": [
      "0.403215550414848\n"
     ]
    }
   ],
   "source": [
    "# Binomial Distribution\n",
    "print(1 - binomial.cdf(9, 15, 0.6))"
   ],
   "metadata": {
    "collapsed": false,
    "ExecuteTime": {
     "end_time": "2024-03-20T17:52:12.662311Z",
     "start_time": "2024-03-20T17:52:12.653732Z"
    }
   },
   "id": "d45ccf151811f954",
   "execution_count": 33
  },
  {
   "cell_type": "markdown",
   "source": [
    "### Question 2:\n",
    "The average study time per course is `4.5 hours` per week in the course. We want to determine whether the study time of the course differs significantly from the average for the Data Science course (based on a sample). Use the input file for this `/StudyResult.csv`."
   ],
   "metadata": {
    "collapsed": false
   },
   "id": "3d07b7bd896afd9c"
  },
  {
   "cell_type": "code",
   "outputs": [],
   "source": [
    "studyResult = pd.read_csv('../Data/StudyResult.csv', delimiter=';', decimal=',')"
   ],
   "metadata": {
    "collapsed": false,
    "ExecuteTime": {
     "end_time": "2024-03-20T17:52:12.772244Z",
     "start_time": "2024-03-20T17:52:12.759888Z"
    }
   },
   "id": "57ebc4815e900dfd",
   "execution_count": 34
  },
  {
   "cell_type": "code",
   "outputs": [
    {
     "data": {
      "text/plain": "   studentID gender residence   Education_Mother  study time  #participations  \\\n0          1      F      City             Master         4.4                1   \n1          2      F      City  Primary education         5.2                1   \n2          3      F      City  Primary education         4.7                4   \n3          4      F      City             Master         5.8                1   \n4          5      F      City           Bachelor         4.2                1   \n\n               partying  Absences  Score1  Score2  Score3 Result  \n0  Several times a week         6       5       6       6   Fail  \n1           Once a week         4       5       5       6   Fail  \n2                Rarely        10       7       8      10   Fail  \n3                Rarely         2      15      14      15   Pass  \n4                Rarely         4       6      10      10   Fail  ",
      "text/html": "<div>\n<style scoped>\n    .dataframe tbody tr th:only-of-type {\n        vertical-align: middle;\n    }\n\n    .dataframe tbody tr th {\n        vertical-align: top;\n    }\n\n    .dataframe thead th {\n        text-align: right;\n    }\n</style>\n<table border=\"1\" class=\"dataframe\">\n  <thead>\n    <tr style=\"text-align: right;\">\n      <th></th>\n      <th>studentID</th>\n      <th>gender</th>\n      <th>residence</th>\n      <th>Education_Mother</th>\n      <th>study time</th>\n      <th>#participations</th>\n      <th>partying</th>\n      <th>Absences</th>\n      <th>Score1</th>\n      <th>Score2</th>\n      <th>Score3</th>\n      <th>Result</th>\n    </tr>\n  </thead>\n  <tbody>\n    <tr>\n      <th>0</th>\n      <td>1</td>\n      <td>F</td>\n      <td>City</td>\n      <td>Master</td>\n      <td>4.4</td>\n      <td>1</td>\n      <td>Several times a week</td>\n      <td>6</td>\n      <td>5</td>\n      <td>6</td>\n      <td>6</td>\n      <td>Fail</td>\n    </tr>\n    <tr>\n      <th>1</th>\n      <td>2</td>\n      <td>F</td>\n      <td>City</td>\n      <td>Primary education</td>\n      <td>5.2</td>\n      <td>1</td>\n      <td>Once a week</td>\n      <td>4</td>\n      <td>5</td>\n      <td>5</td>\n      <td>6</td>\n      <td>Fail</td>\n    </tr>\n    <tr>\n      <th>2</th>\n      <td>3</td>\n      <td>F</td>\n      <td>City</td>\n      <td>Primary education</td>\n      <td>4.7</td>\n      <td>4</td>\n      <td>Rarely</td>\n      <td>10</td>\n      <td>7</td>\n      <td>8</td>\n      <td>10</td>\n      <td>Fail</td>\n    </tr>\n    <tr>\n      <th>3</th>\n      <td>4</td>\n      <td>F</td>\n      <td>City</td>\n      <td>Master</td>\n      <td>5.8</td>\n      <td>1</td>\n      <td>Rarely</td>\n      <td>2</td>\n      <td>15</td>\n      <td>14</td>\n      <td>15</td>\n      <td>Pass</td>\n    </tr>\n    <tr>\n      <th>4</th>\n      <td>5</td>\n      <td>F</td>\n      <td>City</td>\n      <td>Bachelor</td>\n      <td>4.2</td>\n      <td>1</td>\n      <td>Rarely</td>\n      <td>4</td>\n      <td>6</td>\n      <td>10</td>\n      <td>10</td>\n      <td>Fail</td>\n    </tr>\n  </tbody>\n</table>\n</div>"
     },
     "metadata": {},
     "output_type": "display_data"
    }
   ],
   "source": [
    "display(studyResult.head())"
   ],
   "metadata": {
    "collapsed": false,
    "ExecuteTime": {
     "end_time": "2024-03-20T17:52:12.926527Z",
     "start_time": "2024-03-20T17:52:12.902602Z"
    }
   },
   "id": "552350e7f6047f24",
   "execution_count": 35
  },
  {
   "cell_type": "markdown",
   "source": [
    "- 2.1. What alternative hypothesis can we use?"
   ],
   "metadata": {
    "collapsed": false
   },
   "id": "d1ceb0901b94f23c"
  },
  {
   "cell_type": "code",
   "outputs": [],
   "source": [
    "# H0: The average study time of the population is 4.5 HOURS (= 4.5)\n",
    "# H1: The average study time of the population is not 4.5 HOURS (!= 4.5)"
   ],
   "metadata": {
    "collapsed": false,
    "ExecuteTime": {
     "end_time": "2024-03-20T17:52:12.973781Z",
     "start_time": "2024-03-20T17:52:12.956878Z"
    }
   },
   "id": "b837a52e5d751ed9",
   "execution_count": 36
  },
  {
   "cell_type": "markdown",
   "source": [
    "- 2.2 What is the acceptance interval for the study time of the course at `a=0.05`? Also write down how you arrived at this number."
   ],
   "metadata": {
    "collapsed": false
   },
   "id": "f0bcb30b4995615d"
  },
  {
   "cell_type": "code",
   "outputs": [
    {
     "name": "stdout",
     "output_type": "stream",
     "text": [
      "Confidence Interval: (3.8767239334848833, 4.273655813350561)\n"
     ]
    }
   ],
   "source": [
    "alpha = 0.05\n",
    "x_bar = studyResult['study time'].mean()\n",
    "s = studyResult['study time'].std()\n",
    "n = len(studyResult)\n",
    "df = n - 1\n",
    "p = 1 - alpha\n",
    "\n",
    "interval = student.interval(confidence=p, df=df, loc=x_bar, scale=s/math.sqrt(n))\n",
    "print(\"Confidence Interval:\",interval)"
   ],
   "metadata": {
    "collapsed": false,
    "ExecuteTime": {
     "end_time": "2024-03-20T17:52:13.039415Z",
     "start_time": "2024-03-20T17:52:13.027516Z"
    }
   },
   "id": "d64da21d3213cb37",
   "execution_count": 37
  },
  {
   "cell_type": "markdown",
   "source": [
    "- 2.3. What value for the factor did you use to calculate the acceptance interval?"
   ],
   "metadata": {
    "collapsed": false
   },
   "id": "1dcf4e50a2171471"
  },
  {
   "cell_type": "code",
   "outputs": [
    {
     "name": "stdout",
     "output_type": "stream",
     "text": [
      "Factor: 1.6487302260963181\n"
     ]
    }
   ],
   "source": [
    "factor = student.ppf(p, df=df) # factor = Z-score\n",
    "print(\"Factor:\",factor)"
   ],
   "metadata": {
    "collapsed": false,
    "ExecuteTime": {
     "end_time": "2024-03-20T17:52:13.175647Z",
     "start_time": "2024-03-20T17:52:13.161558Z"
    }
   },
   "id": "241f0f7a12fc19f5",
   "execution_count": 38
  },
  {
   "cell_type": "markdown",
   "source": [
    "- 2.4. What can you say about the null hypothesis?"
   ],
   "metadata": {
    "collapsed": false
   },
   "id": "e624826d7141821a"
  },
  {
   "cell_type": "code",
   "outputs": [
    {
     "name": "stdout",
     "output_type": "stream",
     "text": [
      "Reject H0\n"
     ]
    }
   ],
   "source": [
    "p_value = ttest_1samp(studyResult['study time'], 4.5).pvalue\n",
    "if p_value < alpha:\n",
    "    print('Reject H0')\n",
    "else:\n",
    "    print('Fail to reject H0')"
   ],
   "metadata": {
    "collapsed": false,
    "ExecuteTime": {
     "end_time": "2024-03-20T17:52:13.253305Z",
     "start_time": "2024-03-20T17:52:13.227751Z"
    }
   },
   "id": "23ab4a95cfa623d7",
   "execution_count": 39
  },
  {
   "cell_type": "markdown",
   "source": [
    "- 2.5. Calculate the p-value that you can use to support this claim (at `a=0.05`)"
   ],
   "metadata": {
    "collapsed": false
   },
   "id": "614a3b1a8373a0cd"
  },
  {
   "cell_type": "code",
   "outputs": [
    {
     "name": "stdout",
     "output_type": "stream",
     "text": [
      "3.19125975826884e-05\n"
     ]
    }
   ],
   "source": [
    "print(p_value)"
   ],
   "metadata": {
    "collapsed": false,
    "ExecuteTime": {
     "end_time": "2024-03-20T17:52:13.394150Z",
     "start_time": "2024-03-20T17:52:13.378469Z"
    }
   },
   "id": "97a4d66e679ac5a1",
   "execution_count": 40
  },
  {
   "cell_type": "markdown",
   "source": [
    "- 2.6. Form a conclusion based on the p-value. Complete the following sentence (in any case, use the obtained p-value in your conclusion): If the average study duration of the population is `4.5 HOURS`, then"
   ],
   "metadata": {
    "collapsed": false
   },
   "id": "6438d35cb7cf39ec"
  },
  {
   "cell_type": "code",
   "outputs": [
    {
     "name": "stdout",
     "output_type": "stream",
     "text": [
      "If the average study duration of the population is 4.5 HOURS, then the probability of observing students who study more or less than 4.5 HOURS is 3.19125975826884e-05.\n"
     ]
    }
   ],
   "source": [
    "print(f\"If the average study duration of the population is 4.5 HOURS, then the probability of observing students who study more or less than 4.5 HOURS is {p_value}.\")"
   ],
   "metadata": {
    "collapsed": false,
    "ExecuteTime": {
     "end_time": "2024-03-20T17:52:13.470449Z",
     "start_time": "2024-03-20T17:52:13.456541Z"
    }
   },
   "id": "59431b79068364c3",
   "execution_count": 41
  },
  {
   "cell_type": "markdown",
   "source": [
    "### Question 3:\n",
    "We want to know whether the going out behavior of our students differs from those of the University From a survey of all students of the\n",
    "university shows the following distribution:\n",
    "\n",
    "|                   | Behavior College | Measured education absolutely |\n",
    "|-------------------|------------------|-------------------------------|\n",
    "| Never             | 5.00%            | 23                            |\n",
    "| Occasionally      | 30.00%           | 103                           |\n",
    "| Weekly            | 35.00%           | 130                           |\n",
    "| More times a week | 20.00%           | 86                            |\n",
    "| Daily             | 10.00%           | 53                            |\n"
   ],
   "metadata": {
    "collapsed": false
   },
   "id": "921495f352a4d7dd"
  },
  {
   "cell_type": "code",
   "outputs": [],
   "source": [
    "measured_values = [23, 103, 130, 86, 53]\n",
    "total = sum(measured_values)\n",
    "expected_values = [total * 0.05, total * 0.3, total * 0.35, total * 0.2, total * 0.1]\n",
    "data = chisquare(measured_values, expected_values)"
   ],
   "metadata": {
    "collapsed": false,
    "ExecuteTime": {
     "end_time": "2024-03-20T17:52:13.782985Z",
     "start_time": "2024-03-20T17:52:13.772450Z"
    }
   },
   "id": "6f69f8ef9419acec",
   "execution_count": 42
  },
  {
   "cell_type": "markdown",
   "source": [
    "3.1. Calculate x^2"
   ],
   "metadata": {
    "collapsed": false
   },
   "id": "1bf3491f5849f3ec"
  },
  {
   "cell_type": "code",
   "outputs": [
    {
     "name": "stdout",
     "output_type": "stream",
     "text": [
      "X^2 Value: 8.289\n"
     ]
    }
   ],
   "source": [
    "print(\"X^2 Value:\", round(data.statistic,3))"
   ],
   "metadata": {
    "collapsed": false,
    "ExecuteTime": {
     "end_time": "2024-03-20T17:52:13.986197Z",
     "start_time": "2024-03-20T17:52:13.974693Z"
    }
   },
   "id": "4890e753493f5ef0",
   "execution_count": 43
  },
  {
   "cell_type": "markdown",
   "source": [
    "3.2. What is the p value for this distribution?"
   ],
   "metadata": {
    "collapsed": false
   },
   "id": "6c8f52a096f04f7b"
  },
  {
   "cell_type": "code",
   "outputs": [
    {
     "name": "stdout",
     "output_type": "stream",
     "text": [
      "P Value: 0.082\n"
     ]
    }
   ],
   "source": [
    "print(\"P Value:\", round(data.pvalue,3))"
   ],
   "metadata": {
    "collapsed": false,
    "ExecuteTime": {
     "end_time": "2024-03-20T17:52:14.110475Z",
     "start_time": "2024-03-20T17:52:14.094983Z"
    }
   },
   "id": "cc65136f0fb02e1a",
   "execution_count": 44
  },
  {
   "cell_type": "markdown",
   "source": [
    "3.3. I want to make a decision with reliability of `90%`. Which decision do I take?"
   ],
   "metadata": {
    "collapsed": false
   },
   "id": "f014b064bd19ef9c"
  },
  {
   "cell_type": "code",
   "outputs": [
    {
     "name": "stdout",
     "output_type": "stream",
     "text": [
      "Critical value: 7.779440339734858\n",
      "H0 can be rejected with 90% confidence.\n"
     ]
    }
   ],
   "source": [
    "p = 0.90\n",
    "df = len(measured_values) - 1\n",
    "critical_value = chi2.ppf(p, df=df)\n",
    "print(\"Critical value:\",critical_value)\n",
    "\n",
    "if data.statistic < critical_value:\n",
    "    print(\"H0 can not be rejected with 90% confidence.\")\n",
    "else:\n",
    "    print(\"H0 can be rejected with 90% confidence.\")"
   ],
   "metadata": {
    "collapsed": false,
    "ExecuteTime": {
     "end_time": "2024-03-20T17:52:14.361073Z",
     "start_time": "2024-03-20T17:52:14.339862Z"
    }
   },
   "id": "4b9dcf4c27e2c13",
   "execution_count": 45
  },
  {
   "cell_type": "code",
   "outputs": [
    {
     "data": {
      "text/plain": "<Figure size 1000x600 with 1 Axes>",
      "image/png": "[encoded data removed]"
     },
     "metadata": {},
     "output_type": "display_data"
    }
   ],
   "source": [
    "plot_confidence_interval(n, x_bar, s, df, factor)"
   ],
   "metadata": {
    "collapsed": false,
    "ExecuteTime": {
     "end_time": "2024-03-20T17:52:16.931635Z",
     "start_time": "2024-03-20T17:52:14.477745Z"
    }
   },
   "id": "3d588faab3c0cf00",
   "execution_count": 46
  },
  {
   "cell_type": "markdown",
   "source": [
    "### Question 4:\n",
    "A store has analyzed a number of shopping carts. Look for the association rules."
   ],
   "metadata": {
    "collapsed": false
   },
   "id": "fad47ac4057f255"
  },
  {
   "cell_type": "markdown",
   "source": [
    "4.1. Read the `Groceries.csv` file."
   ],
   "metadata": {
    "collapsed": false
   },
   "id": "41d24b440407e4ab"
  },
  {
   "cell_type": "code",
   "outputs": [],
   "source": [
    "groceries = pd.read_csv('../Data/Groceries.csv', delimiter=',')"
   ],
   "metadata": {
    "collapsed": false,
    "ExecuteTime": {
     "end_time": "2024-03-20T17:52:17.009635Z",
     "start_time": "2024-03-20T17:52:16.942636Z"
    }
   },
   "id": "6cd6e934bfe2eeb3",
   "execution_count": 47
  },
  {
   "cell_type": "code",
   "outputs": [
    {
     "data": {
      "text/plain": "   transaction                                              items\n0            1  {citrus fruit;semi-finished bread;margarine;re...\n1            2                     {tropical fruit;yogurt;coffee}\n2            3                                       {whole milk}\n3            4      {pip fruit;yogurt;cream cheese ;meat spreads}\n4            5  {other vegetables;whole milk;condensed milk;lo...",
      "text/html": "<div>\n<style scoped>\n    .dataframe tbody tr th:only-of-type {\n        vertical-align: middle;\n    }\n\n    .dataframe tbody tr th {\n        vertical-align: top;\n    }\n\n    .dataframe thead th {\n        text-align: right;\n    }\n</style>\n<table border=\"1\" class=\"dataframe\">\n  <thead>\n    <tr style=\"text-align: right;\">\n      <th></th>\n      <th>transaction</th>\n      <th>items</th>\n    </tr>\n  </thead>\n  <tbody>\n    <tr>\n      <th>0</th>\n      <td>1</td>\n      <td>{citrus fruit;semi-finished bread;margarine;re...</td>\n    </tr>\n    <tr>\n      <th>1</th>\n      <td>2</td>\n      <td>{tropical fruit;yogurt;coffee}</td>\n    </tr>\n    <tr>\n      <th>2</th>\n      <td>3</td>\n      <td>{whole milk}</td>\n    </tr>\n    <tr>\n      <th>3</th>\n      <td>4</td>\n      <td>{pip fruit;yogurt;cream cheese ;meat spreads}</td>\n    </tr>\n    <tr>\n      <th>4</th>\n      <td>5</td>\n      <td>{other vegetables;whole milk;condensed milk;lo...</td>\n    </tr>\n  </tbody>\n</table>\n</div>"
     },
     "metadata": {},
     "output_type": "display_data"
    }
   ],
   "source": [
    "display(groceries.head())"
   ],
   "metadata": {
    "collapsed": false,
    "ExecuteTime": {
     "end_time": "2024-03-20T17:52:17.055635Z",
     "start_time": "2024-03-20T17:52:17.020636Z"
    }
   },
   "id": "491f6e27f1516269",
   "execution_count": 48
  },
  {
   "cell_type": "markdown",
   "source": [
    "4.2. To convert the items in string format to an n-dimensional array you can do the following perform conversion.\n",
    "```python\n",
    "transactions = groceries['items'].apply(lambda row: row[1:-1].split(';')).to_numpy();\n",
    "\n",
    "# For each list of items in form {item 1, item 2, item 3}\n",
    "#1. Remove the curly braces with [1:-1]\n",
    "#2. Split based on “;”\n",
    "#3. Convert the panda Series to a numpy ndarray\n",
    "```"
   ],
   "metadata": {
    "collapsed": false
   },
   "id": "958a60af8f5b2ab"
  },
  {
   "cell_type": "code",
   "outputs": [],
   "source": [
    "transactions = groceries['items'].apply(get_item_list).to_numpy()"
   ],
   "metadata": {
    "collapsed": false,
    "ExecuteTime": {
     "end_time": "2024-03-20T17:52:17.119161Z",
     "start_time": "2024-03-20T17:52:17.066637Z"
    }
   },
   "id": "123b660558a54fc4",
   "execution_count": 49
  },
  {
   "cell_type": "code",
   "outputs": [],
   "source": [
    "te = TransactionEncoder()\n",
    "dataset = te.fit(transactions).transform(transactions)\n",
    "transactionstable = pd.DataFrame(dataset,columns=te.columns_)"
   ],
   "metadata": {
    "collapsed": false,
    "ExecuteTime": {
     "end_time": "2024-03-20T17:52:17.198586Z",
     "start_time": "2024-03-20T17:52:17.123896Z"
    }
   },
   "id": "78826de6e6294fc1",
   "execution_count": 50
  },
  {
   "cell_type": "code",
   "outputs": [
    {
     "data": {
      "text/plain": "      Instant food products  UHT-milk  abrasive cleaner  artif. sweetener  \\\n0                     False     False             False             False   \n1                     False     False             False             False   \n2                     False     False             False             False   \n3                     False     False             False             False   \n4                     False     False             False             False   \n...                     ...       ...               ...               ...   \n9830                  False     False             False             False   \n9831                  False     False             False             False   \n9832                  False     False             False             False   \n9833                  False     False             False             False   \n9834                  False     False             False             False   \n\n      baby cosmetics  baby food   bags  baking powder  bathroom cleaner  \\\n0              False      False  False          False             False   \n1              False      False  False          False             False   \n2              False      False  False          False             False   \n3              False      False  False          False             False   \n4              False      False  False          False             False   \n...              ...        ...    ...            ...               ...   \n9830           False      False  False          False             False   \n9831           False      False  False          False             False   \n9832           False      False  False          False             False   \n9833           False      False  False          False             False   \n9834           False      False  False          False             False   \n\n       beef  ...  turkey  vinegar  waffles  whipped/sour cream  whisky  \\\n0     False  ...   False    False    False               False   False   \n1     False  ...   False    False    False               False   False   \n2     False  ...   False    False    False               False   False   \n3     False  ...   False    False    False               False   False   \n4     False  ...   False    False    False               False   False   \n...     ...  ...     ...      ...      ...                 ...     ...   \n9830   True  ...   False    False    False                True   False   \n9831  False  ...   False    False    False               False   False   \n9832  False  ...   False    False    False               False   False   \n9833  False  ...   False    False    False               False   False   \n9834  False  ...   False     True    False               False   False   \n\n      white bread  white wine  whole milk  yogurt  zwieback  \n0           False       False       False   False     False  \n1           False       False       False    True     False  \n2           False       False        True   False     False  \n3           False       False       False    True     False  \n4           False       False        True   False     False  \n...           ...         ...         ...     ...       ...  \n9830        False       False        True   False     False  \n9831        False       False       False   False     False  \n9832        False       False       False    True     False  \n9833        False       False       False   False     False  \n9834        False       False       False   False     False  \n\n[9835 rows x 169 columns]",
      "text/html": "<div>\n<style scoped>\n    .dataframe tbody tr th:only-of-type {\n        vertical-align: middle;\n    }\n\n    .dataframe tbody tr th {\n        vertical-align: top;\n    }\n\n    .dataframe thead th {\n        text-align: right;\n    }\n</style>\n<table border=\"1\" class=\"dataframe\">\n  <thead>\n    <tr style=\"text-align: right;\">\n      <th></th>\n      <th>Instant food products</th>\n      <th>UHT-milk</th>\n      <th>abrasive cleaner</th>\n      <th>artif. sweetener</th>\n      <th>baby cosmetics</th>\n      <th>baby food</th>\n      <th>bags</th>\n      <th>baking powder</th>\n      <th>bathroom cleaner</th>\n      <th>beef</th>\n      <th>...</th>\n      <th>turkey</th>\n      <th>vinegar</th>\n      <th>waffles</th>\n      <th>whipped/sour cream</th>\n      <th>whisky</th>\n      <th>white bread</th>\n      <th>white wine</th>\n      <th>whole milk</th>\n      <th>yogurt</th>\n      <th>zwieback</th>\n    </tr>\n  </thead>\n  <tbody>\n    <tr>\n      <th>0</th>\n      <td>False</td>\n      <td>False</td>\n      <td>False</td>\n      <td>False</td>\n      <td>False</td>\n      <td>False</td>\n      <td>False</td>\n      <td>False</td>\n      <td>False</td>\n      <td>False</td>\n      <td>...</td>\n      <td>False</td>\n      <td>False</td>\n      <td>False</td>\n      <td>False</td>\n      <td>False</td>\n      <td>False</td>\n      <td>False</td>\n      <td>False</td>\n      <td>False</td>\n      <td>False</td>\n    </tr>\n    <tr>\n      <th>1</th>\n      <td>False</td>\n      <td>False</td>\n      <td>False</td>\n      <td>False</td>\n      <td>False</td>\n      <td>False</td>\n      <td>False</td>\n      <td>False</td>\n      <td>False</td>\n      <td>False</td>\n      <td>...</td>\n      <td>False</td>\n      <td>False</td>\n      <td>False</td>\n      <td>False</td>\n      <td>False</td>\n      <td>False</td>\n      <td>False</td>\n      <td>False</td>\n      <td>True</td>\n      <td>False</td>\n    </tr>\n    <tr>\n      <th>2</th>\n      <td>False</td>\n      <td>False</td>\n      <td>False</td>\n      <td>False</td>\n      <td>False</td>\n      <td>False</td>\n      <td>False</td>\n      <td>False</td>\n      <td>False</td>\n      <td>False</td>\n      <td>...</td>\n      <td>False</td>\n      <td>False</td>\n      <td>False</td>\n      <td>False</td>\n      <td>False</td>\n      <td>False</td>\n      <td>False</td>\n      <td>True</td>\n      <td>False</td>\n      <td>False</td>\n    </tr>\n    <tr>\n      <th>3</th>\n      <td>False</td>\n      <td>False</td>\n      <td>False</td>\n      <td>False</td>\n      <td>False</td>\n      <td>False</td>\n      <td>False</td>\n      <td>False</td>\n      <td>False</td>\n      <td>False</td>\n      <td>...</td>\n      <td>False</td>\n      <td>False</td>\n      <td>False</td>\n      <td>False</td>\n      <td>False</td>\n      <td>False</td>\n      <td>False</td>\n      <td>False</td>\n      <td>True</td>\n      <td>False</td>\n    </tr>\n    <tr>\n      <th>4</th>\n      <td>False</td>\n      <td>False</td>\n      <td>False</td>\n      <td>False</td>\n      <td>False</td>\n      <td>False</td>\n      <td>False</td>\n      <td>False</td>\n      <td>False</td>\n      <td>False</td>\n      <td>...</td>\n      <td>False</td>\n      <td>False</td>\n      <td>False</td>\n      <td>False</td>\n      <td>False</td>\n      <td>False</td>\n      <td>False</td>\n      <td>True</td>\n      <td>False</td>\n      <td>False</td>\n    </tr>\n    <tr>\n      <th>...</th>\n      <td>...</td>\n      <td>...</td>\n      <td>...</td>\n      <td>...</td>\n      <td>...</td>\n      <td>...</td>\n      <td>...</td>\n      <td>...</td>\n      <td>...</td>\n      <td>...</td>\n      <td>...</td>\n      <td>...</td>\n      <td>...</td>\n      <td>...</td>\n      <td>...</td>\n      <td>...</td>\n      <td>...</td>\n      <td>...</td>\n      <td>...</td>\n      <td>...</td>\n      <td>...</td>\n    </tr>\n    <tr>\n      <th>9830</th>\n      <td>False</td>\n      <td>False</td>\n      <td>False</td>\n      <td>False</td>\n      <td>False</td>\n      <td>False</td>\n      <td>False</td>\n      <td>False</td>\n      <td>False</td>\n      <td>True</td>\n      <td>...</td>\n      <td>False</td>\n      <td>False</td>\n      <td>False</td>\n      <td>True</td>\n      <td>False</td>\n      <td>False</td>\n      <td>False</td>\n      <td>True</td>\n      <td>False</td>\n      <td>False</td>\n    </tr>\n    <tr>\n      <th>9831</th>\n      <td>False</td>\n      <td>False</td>\n      <td>False</td>\n      <td>False</td>\n      <td>False</td>\n      <td>False</td>\n      <td>False</td>\n      <td>False</td>\n      <td>False</td>\n      <td>False</td>\n      <td>...</td>\n      <td>False</td>\n      <td>False</td>\n      <td>False</td>\n      <td>False</td>\n      <td>False</td>\n      <td>False</td>\n      <td>False</td>\n      <td>False</td>\n      <td>False</td>\n      <td>False</td>\n    </tr>\n    <tr>\n      <th>9832</th>\n      <td>False</td>\n      <td>False</td>\n      <td>False</td>\n      <td>False</td>\n      <td>False</td>\n      <td>False</td>\n      <td>False</td>\n      <td>False</td>\n      <td>False</td>\n      <td>False</td>\n      <td>...</td>\n      <td>False</td>\n      <td>False</td>\n      <td>False</td>\n      <td>False</td>\n      <td>False</td>\n      <td>False</td>\n      <td>False</td>\n      <td>False</td>\n      <td>True</td>\n      <td>False</td>\n    </tr>\n    <tr>\n      <th>9833</th>\n      <td>False</td>\n      <td>False</td>\n      <td>False</td>\n      <td>False</td>\n      <td>False</td>\n      <td>False</td>\n      <td>False</td>\n      <td>False</td>\n      <td>False</td>\n      <td>False</td>\n      <td>...</td>\n      <td>False</td>\n      <td>False</td>\n      <td>False</td>\n      <td>False</td>\n      <td>False</td>\n      <td>False</td>\n      <td>False</td>\n      <td>False</td>\n      <td>False</td>\n      <td>False</td>\n    </tr>\n    <tr>\n      <th>9834</th>\n      <td>False</td>\n      <td>False</td>\n      <td>False</td>\n      <td>False</td>\n      <td>False</td>\n      <td>False</td>\n      <td>False</td>\n      <td>False</td>\n      <td>False</td>\n      <td>False</td>\n      <td>...</td>\n      <td>False</td>\n      <td>True</td>\n      <td>False</td>\n      <td>False</td>\n      <td>False</td>\n      <td>False</td>\n      <td>False</td>\n      <td>False</td>\n      <td>False</td>\n      <td>False</td>\n    </tr>\n  </tbody>\n</table>\n<p>9835 rows × 169 columns</p>\n</div>"
     },
     "metadata": {},
     "output_type": "display_data"
    }
   ],
   "source": [
    "display(transactionstable)"
   ],
   "metadata": {
    "collapsed": false,
    "ExecuteTime": {
     "end_time": "2024-03-20T17:52:17.292304Z",
     "start_time": "2024-03-20T17:52:17.209587Z"
    }
   },
   "id": "a7612f7711a930ea",
   "execution_count": 51
  },
  {
   "cell_type": "markdown",
   "source": [
    "4.3. Create the association rules with the `apriori algorithm` based on the following parameters:\n",
    "- minimum support = `0.05`\n",
    "- minimum confidence = `0.1`\n",
    "- minimum lengte = `2`\n",
    "- maximum lengte = `5`\n"
   ],
   "metadata": {
    "collapsed": false
   },
   "id": "ff20065f644d7c06"
  },
  {
   "cell_type": "code",
   "outputs": [],
   "source": [
    "min_support = 0.05\n",
    "min_confidence = 0.1\n",
    "min_lengte = 2\n",
    "max_lengte = 5"
   ],
   "metadata": {
    "collapsed": false,
    "ExecuteTime": {
     "end_time": "2024-03-20T17:52:17.308737Z",
     "start_time": "2024-03-20T17:52:17.296579Z"
    }
   },
   "id": "bd09ec9c00270c86",
   "execution_count": 52
  },
  {
   "cell_type": "code",
   "outputs": [
    {
     "data": {
      "text/plain": "    support         itemsets\n0  0.052466           (beef)\n1  0.080529   (bottled beer)\n2  0.110524  (bottled water)\n3  0.064870    (brown bread)\n4  0.055414         (butter)",
      "text/html": "<div>\n<style scoped>\n    .dataframe tbody tr th:only-of-type {\n        vertical-align: middle;\n    }\n\n    .dataframe tbody tr th {\n        vertical-align: top;\n    }\n\n    .dataframe thead th {\n        text-align: right;\n    }\n</style>\n<table border=\"1\" class=\"dataframe\">\n  <thead>\n    <tr style=\"text-align: right;\">\n      <th></th>\n      <th>support</th>\n      <th>itemsets</th>\n    </tr>\n  </thead>\n  <tbody>\n    <tr>\n      <th>0</th>\n      <td>0.052466</td>\n      <td>(beef)</td>\n    </tr>\n    <tr>\n      <th>1</th>\n      <td>0.080529</td>\n      <td>(bottled beer)</td>\n    </tr>\n    <tr>\n      <th>2</th>\n      <td>0.110524</td>\n      <td>(bottled water)</td>\n    </tr>\n    <tr>\n      <th>3</th>\n      <td>0.064870</td>\n      <td>(brown bread)</td>\n    </tr>\n    <tr>\n      <th>4</th>\n      <td>0.055414</td>\n      <td>(butter)</td>\n    </tr>\n  </tbody>\n</table>\n</div>"
     },
     "metadata": {},
     "output_type": "display_data"
    }
   ],
   "source": [
    "# Apriori algorithm\n",
    "item_sets_apriori = apriori(transactionstable, min_support=min_support, use_colnames=True, max_len=max_lengte)\n",
    "display(item_sets_apriori.head())"
   ],
   "metadata": {
    "collapsed": false,
    "ExecuteTime": {
     "end_time": "2024-03-20T17:52:17.401790Z",
     "start_time": "2024-03-20T17:52:17.315258Z"
    }
   },
   "id": "3f93ab3fcf057c4a",
   "execution_count": 53
  },
  {
   "cell_type": "code",
   "outputs": [
    {
     "data": {
      "text/plain": "          antecedents         consequents  antecedent support  \\\n0        (whole milk)  (other vegetables)            0.255516   \n1  (other vegetables)        (whole milk)            0.193493   \n2        (rolls/buns)        (whole milk)            0.183935   \n3        (whole milk)        (rolls/buns)            0.255516   \n4            (yogurt)        (whole milk)            0.139502   \n\n   consequent support   support  confidence      lift  leverage  conviction  \\\n0            0.193493  0.074835    0.292877  1.513634  0.025394    1.140548   \n1            0.255516  0.074835    0.386758  1.513634  0.025394    1.214013   \n2            0.255516  0.056634    0.307905  1.205032  0.009636    1.075696   \n3            0.183935  0.056634    0.221647  1.205032  0.009636    1.048452   \n4            0.255516  0.056024    0.401603  1.571735  0.020379    1.244132   \n\n   zhangs_metric  \n0       0.455803  \n1       0.420750  \n2       0.208496  \n3       0.228543  \n4       0.422732  ",
      "text/html": "<div>\n<style scoped>\n    .dataframe tbody tr th:only-of-type {\n        vertical-align: middle;\n    }\n\n    .dataframe tbody tr th {\n        vertical-align: top;\n    }\n\n    .dataframe thead th {\n        text-align: right;\n    }\n</style>\n<table border=\"1\" class=\"dataframe\">\n  <thead>\n    <tr style=\"text-align: right;\">\n      <th></th>\n      <th>antecedents</th>\n      <th>consequents</th>\n      <th>antecedent support</th>\n      <th>consequent support</th>\n      <th>support</th>\n      <th>confidence</th>\n      <th>lift</th>\n      <th>leverage</th>\n      <th>conviction</th>\n      <th>zhangs_metric</th>\n    </tr>\n  </thead>\n  <tbody>\n    <tr>\n      <th>0</th>\n      <td>(whole milk)</td>\n      <td>(other vegetables)</td>\n      <td>0.255516</td>\n      <td>0.193493</td>\n      <td>0.074835</td>\n      <td>0.292877</td>\n      <td>1.513634</td>\n      <td>0.025394</td>\n      <td>1.140548</td>\n      <td>0.455803</td>\n    </tr>\n    <tr>\n      <th>1</th>\n      <td>(other vegetables)</td>\n      <td>(whole milk)</td>\n      <td>0.193493</td>\n      <td>0.255516</td>\n      <td>0.074835</td>\n      <td>0.386758</td>\n      <td>1.513634</td>\n      <td>0.025394</td>\n      <td>1.214013</td>\n      <td>0.420750</td>\n    </tr>\n    <tr>\n      <th>2</th>\n      <td>(rolls/buns)</td>\n      <td>(whole milk)</td>\n      <td>0.183935</td>\n      <td>0.255516</td>\n      <td>0.056634</td>\n      <td>0.307905</td>\n      <td>1.205032</td>\n      <td>0.009636</td>\n      <td>1.075696</td>\n      <td>0.208496</td>\n    </tr>\n    <tr>\n      <th>3</th>\n      <td>(whole milk)</td>\n      <td>(rolls/buns)</td>\n      <td>0.255516</td>\n      <td>0.183935</td>\n      <td>0.056634</td>\n      <td>0.221647</td>\n      <td>1.205032</td>\n      <td>0.009636</td>\n      <td>1.048452</td>\n      <td>0.228543</td>\n    </tr>\n    <tr>\n      <th>4</th>\n      <td>(yogurt)</td>\n      <td>(whole milk)</td>\n      <td>0.139502</td>\n      <td>0.255516</td>\n      <td>0.056024</td>\n      <td>0.401603</td>\n      <td>1.571735</td>\n      <td>0.020379</td>\n      <td>1.244132</td>\n      <td>0.422732</td>\n    </tr>\n  </tbody>\n</table>\n</div>"
     },
     "metadata": {},
     "output_type": "display_data"
    }
   ],
   "source": [
    "rules_apriori = association_rules(item_sets_apriori, metric='confidence', min_threshold=min_confidence)\n",
    "display(rules_apriori.head())"
   ],
   "metadata": {
    "collapsed": false,
    "ExecuteTime": {
     "end_time": "2024-03-20T17:52:17.493477Z",
     "start_time": "2024-03-20T17:52:17.407311Z"
    }
   },
   "id": "c3292faedee003ee",
   "execution_count": 54
  },
  {
   "cell_type": "markdown",
   "source": [
    "4.4. Look up the line yogurt → whole milk. Is this a good line? Rate based on Support, Confidence and Lift."
   ],
   "metadata": {
    "collapsed": false
   },
   "id": "def89ff9beaa0c89"
  },
  {
   "cell_type": "code",
   "outputs": [
    {
     "name": "stdout",
     "output_type": "stream",
     "text": [
      "Lift 1.5717351405345266\n",
      "Confidence 0.40160349854227406\n"
     ]
    }
   ],
   "source": [
    "print(\"Lift\", rules_apriori.sort_values(by='confidence', ascending=False).head(1)['lift'].values[0])\n",
    "print(\"Confidence\", rules_apriori.sort_values(by='confidence', ascending=False).head(1)['confidence'].values[0])"
   ],
   "metadata": {
    "collapsed": false,
    "ExecuteTime": {
     "end_time": "2024-03-20T17:52:17.541476Z",
     "start_time": "2024-03-20T17:52:17.515474Z"
    }
   },
   "id": "47e52cc72ccf9ed0",
   "execution_count": 55
  },
  {
   "cell_type": "markdown",
   "source": [
    "### Question 5:\n",
    "A theoretical driving test contains `50` multiple choice questions. You must get `43/50` to pass. Suppose each multiple-choice question has `4` possible answers."
   ],
   "metadata": {
    "collapsed": false
   },
   "id": "6c26b5905bb1950d"
  },
  {
   "cell_type": "markdown",
   "source": [
    "5.1. What is the chance of success (`43/50`) when you only gamble (`4` options)?"
   ],
   "metadata": {
    "collapsed": false
   },
   "id": "2f4af3b774db5ee5"
  },
  {
   "cell_type": "code",
   "outputs": [
    {
     "name": "stdout",
     "output_type": "stream",
     "text": [
      "0.0\n"
     ]
    }
   ],
   "source": [
    "# Binomial Distribution\n",
    "# 1 - binomial.cdf(x, y, z)\n",
    "# x = Is the number of successes in the sample.\n",
    "# y = Is the number of trials.\n",
    "# z = Is the probability of success on each trial.\n",
    "print(1 - binomial.cdf(42, 50, 1/4)) # 42 = 43 - 1"
   ],
   "metadata": {
    "collapsed": false,
    "ExecuteTime": {
     "end_time": "2024-03-20T17:52:17.573941Z",
     "start_time": "2024-03-20T17:52:17.551475Z"
    }
   },
   "id": "8f51e35287782d03",
   "execution_count": 56
  },
  {
   "cell_type": "markdown",
   "source": [
    "5.2. What is the chance of passing if you are sure of `35` questions (and therefore have guessed `15` times)?"
   ],
   "metadata": {
    "collapsed": false
   },
   "id": "58f8375b3beda36e"
  },
  {
   "cell_type": "code",
   "outputs": [
    {
     "name": "stdout",
     "output_type": "stream",
     "text": [
      "1.0728085086952888e-12\n"
     ]
    }
   ],
   "source": [
    "# Binomial Distribution\n",
    "# 1 - binomial.cdf(x, y, z)\n",
    "# x = Is the number of successes in the sample.\n",
    "# y = Is the number of trials.\n",
    "# z = Is the probability of success on each trial.\n",
    "print(1 - binomial.cdf(28, 35, 1/4))# 28 = 43 - 15"
   ],
   "metadata": {
    "collapsed": false,
    "ExecuteTime": {
     "end_time": "2024-03-20T17:52:17.605386Z",
     "start_time": "2024-03-20T17:52:17.579455Z"
    }
   },
   "id": "23e8e4e18497a830",
   "execution_count": 57
  },
  {
   "cell_type": "markdown",
   "source": [
    "5.3. What is the probability of passing (`43/50`) if you are just guessing and there are only `2` options per question?"
   ],
   "metadata": {
    "collapsed": false
   },
   "id": "7c52f3ce612dabae"
  },
  {
   "cell_type": "code",
   "outputs": [
    {
     "name": "stdout",
     "output_type": "stream",
     "text": [
      "1.049338713698944e-07\n"
     ]
    }
   ],
   "source": [
    "# Binomial Distribution\n",
    "# 1 - binomial.cdf(x, y, z)\n",
    "# x = Is the number of successes in the sample.\n",
    "# y = Is the number of trials.\n",
    "# z = Is the probability of success on each trial.\n",
    "print(1 - binomial.cdf(42, 50, 1/2)) # 42 = 43 - 1"
   ],
   "metadata": {
    "collapsed": false,
    "ExecuteTime": {
     "end_time": "2024-03-20T17:52:17.635540Z",
     "start_time": "2024-03-20T17:52:17.612387Z"
    }
   },
   "id": "5f10958f2aac70ec",
   "execution_count": 58
  }
 ],
 "metadata": {
  "kernelspec": {
   "display_name": "Python 3",
   "language": "python",
   "name": "python3"
  },
  "language_info": {
   "codemirror_mode": {
    "name": "ipython",
    "version": 2
   },
   "file_extension": ".py",
   "mimetype": "text/x-python",
   "name": "python",
   "nbconvert_exporter": "python",
   "pygments_lexer": "ipython2",
   "version": "2.7.6"
  }
 },
 "nbformat": 4,
 "nbformat_minor": 5
}

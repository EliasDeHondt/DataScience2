{
 "cells": [
  {
   "cell_type": "markdown",
   "source": "# Exercises Meta Heuristics",
   "metadata": {
    "collapsed": false
   },
   "id": "fc11ae5046d6cd48"
  },
  {
   "cell_type": "code",
   "source": [
    "import math  # type: ignore                                                           # Mathematical functions\n",
    "import pandas as pd  # type: ignore                                                   # Data manipulation\n",
    "import numpy as np  # type: ignore                                                    # Scientific computing\n",
    "import matplotlib.pyplot as plt  # type: ignore                                       # Data visualization\n",
    "from scipy.stats import binom as binomial  # type: ignore                             # Binomial distribution\n",
    "from scipy.stats import norm as normal  # type: ignore                                # Normal distribution\n",
    "from scipy.stats import poisson as poisson  # type: ignore                            # Poisson distribution\n",
    "from scipy.stats import t as student  # type: ignore                                  # Student distribution\n",
    "from scipy.stats import chi2  # type: ignore                                          # Chi-squared distribution\n",
    "from scipy.stats import ttest_1samp  # type: ignore                                   # One-sample t-test\n",
    "from scipy.stats import chisquare  # type: ignore                                     # Chi-squared test\n",
    "from scipy.special import comb  # type: ignore                                        # Combinations\n",
    "from mlxtend.frequent_patterns import apriori  # type: ignore                         # Apriori algorithm\n",
    "from mlxtend.frequent_patterns import fpgrowth  # type: ignore                        # FP-growth algorithm\n",
    "from mlxtend.frequent_patterns import association_rules  # type: ignore               # Association rules\n",
    "from mlxtend.preprocessing import TransactionEncoder  # type: ignore                  # Transaction encoder\n",
    "from sklearn.discriminant_analysis import LinearDiscriminantAnalysis  # type: ignore  # Discriminant Analysis\n",
    "from tensorflow import keras  # type: ignore                                          # Deep Learning library\n",
    "from tensorflow.keras import Model  # type: ignore                                    # Model class\n",
    "from tensorflow.keras.layers import Input, Dense, BatchNormalization  # type: ignore  # Layers\n",
    "from tensorflow.keras.utils import to_categorical  # type: ignore                     # One-hot encoding\n",
    "from tensorflow.keras.optimizers import Adam  # type: ignore                         # Optimizer\n",
    "from livelossplot import PlotLossesKeras  # type: ignore                              # Live plot\n",
    "from keras.src.optimizers import RMSprop  # type: ignore                              # Optimizer\n",
    "from sklearn.model_selection import train_test_split  # type: ignore                  # Train-test split\n",
    "from simanneal import Annealer  # type: ignore                                        # Simulated Annealing\n",
    "from inspyred import ec  # type: ignore                                                # Evolutionary Computation\n",
    "import warnings  # type: ignore                                                       # Disable warnings\n",
    "from Resources.Functions import *  # type: ignore                                     # Custom functions\n",
    "warnings.filterwarnings(\"ignore\")"
   ],
   "metadata": {
    "collapsed": false,
    "ExecuteTime": {
     "end_time": "2024-05-19T13:08:16.667798Z",
     "start_time": "2024-05-19T13:08:16.647952Z"
    }
   },
   "id": "1796a7e3a7232f25",
   "outputs": [],
   "execution_count": 75
  },
  {
   "metadata": {},
   "cell_type": "markdown",
   "source": [
    "# Guidelines\n",
    "- To solve the problems below, always use simulated annealing and genetic algorithms. So you always provide two solutions. If you have the Tabu search Once implemented, you can even develop a third solution.\n",
    "- You always have to write a cost function (objective function) yourself that is focused on the problem. You can reuse the cost function for the Simulated Annealing for the genetic algorithms. Note how the objective function should be optimized. You can - if necessary - add a minus sign and/or use rounding.\n",
    "- Don't forget to also write a function that identifies other solution(s) somewhere in the solution space (e.g. random) or near the current solution(s).\n",
    "- Experiment with some parameters such as the chance of crossover, or mutation in genetics algorithms.\n",
    "- In some assignments it is best to also provide lower and upper limits (lower and upper)."
   ],
   "id": "280f55c7e3a3b9ed"
  },
  {
   "cell_type": "markdown",
   "source": [
    "## Theoretical questions"
   ],
   "metadata": {
    "collapsed": false
   },
   "id": "d66cd879508e8eb4"
  },
  {
   "metadata": {},
   "cell_type": "markdown",
   "source": [
    "### Question 0: Simulated Annealing\n",
    "The simulated annealing algorithm is a probabilistic optimization algorithm that is used to find the global optimum of a function. The algorithm is inspired by the annealing process in metallurgy, where a material is heated and then slowly cooled to increase the size of its crystals. The algorithm works by starting at a random point in the search space and then iteratively moving to a new point in the search space. The algorithm accepts moves to new points that improve the objective function value, but also accepts moves to points that decrease the objective function value with a certain probability. This probability decreases over time, allowing the algorithm to escape local optima and find the global optimum.\n",
    "\n",
    "$$ P(\\text{accept worse}) = e^{-\\frac{\\Delta E}{T}} $$"
   ],
   "id": "c5c2eee58fd939a3"
  },
  {
   "metadata": {
    "ExecuteTime": {
     "end_time": "2024-05-19T12:21:26.451555Z",
     "start_time": "2024-05-19T12:21:25.209568Z"
    }
   },
   "cell_type": "code",
   "source": [
    "class RastriginProblem(Annealer):\n",
    "    def energy(self):\n",
    "        x1 = self.state[0]\n",
    "        x2 = self.state[1]\n",
    "        sum = (10 * 2 + x1**2 + x2**2)\n",
    "        sum = sum - 10 * math.cos(2 * math.pi * x1) - 10 * math.cos(2 * math.pi * x2)\n",
    "        return sum # Maximize = return -sum\n",
    "\n",
    "    def move(self):\n",
    "        i = np.random.randint(0,2) # Randomly select a dimension (between 0 and 1)\n",
    "        self.state[i] += np.random.normal(0, 0.1)\n",
    "        self.state[i] = np.clip(self.state[i], -5.12, 5.12)\n",
    "\n",
    "initial_state =  np.random.uniform(-5.12,5.12, size=2)\n",
    "rastrigin = RastriginProblem(initial_state)\n",
    "\n",
    "rastrigin.Tmax = 25000.0                # Max (starting) temperature\n",
    "rastrigin.Tmin = 2.5                    # Min (ending) temperature\n",
    "rastrigin.updates = 10                  # Number of updates (On the screen)\n",
    "rastrigin.steps = 100000                # Number of iterations\n",
    "route, distance = rastrigin.anneal()    # Start the annealing\n",
    "\n",
    "print(f\"Route: {route}\\nDistance: {distance}\")"
   ],
   "id": "e91f031222e05f87",
   "outputs": [
    {
     "name": "stderr",
     "output_type": "stream",
     "text": [
      " Temperature        Energy    Accept   Improve     Elapsed   Remaining\n",
      "\r    2.50000          3.45    72.63%    35.94%     0:00:01     0:00:00"
     ]
    },
    {
     "name": "stdout",
     "output_type": "stream",
     "text": [
      "Route: [0.00437066 0.00289638]\n",
      "Distance: 0.005453844800690888\n"
     ]
    }
   ],
   "execution_count": 34
  },
  {
   "metadata": {},
   "cell_type": "markdown",
   "source": [
    "### Question 0: Traveling Salesman\n",
    "The traveling salesman problem (TSP) is a classic optimization problem where the goal is to determine the shortest tour of a collection of `n` \"cities\" (i.e. nodes), visiting each city exactly once and returning to the starting city. The distance between each pair of cities is known, and the goal is to find the shortest possible tour that visits each city exactly once and returns to the starting city.\n",
    "\n",
    "$$ \\text{Minimize} \\sum_{i=1}^{n} \\sum_{j=1}^{n} c_{ij} \\cdot x_{ij} $$\n",
    "\n",
    "\n",
    "![Traveling Salesman](Images/travelingSalesman.png)"
   ],
   "id": "1be717d4cda0d2a7"
  },
  {
   "metadata": {
    "ExecuteTime": {
     "end_time": "2024-05-19T11:52:33.741678Z",
     "start_time": "2024-05-19T11:52:33.728696Z"
    }
   },
   "cell_type": "code",
   "source": [
    "# Matrix where the distances between the cities are stored (The matrix is symmetric)\n",
    "# 2 dimensions (5*5) (x,y)\n",
    "distance_matrix2 = np.array([[0, 100, 125, 100,  75],\n",
    "                            [100, 0,  50,  75, 100],\n",
    "                            [125, 50,  0, 100, 125],\n",
    "                            [100, 75, 100,   0, 50],\n",
    "                            [75, 100, 125,  50,  0]])"
   ],
   "id": "14142f0ff4d06031",
   "outputs": [],
   "execution_count": 3
  },
  {
   "metadata": {
    "ExecuteTime": {
     "end_time": "2024-05-19T12:24:16.943177Z",
     "start_time": "2024-05-19T12:24:16.019458Z"
    }
   },
   "cell_type": "code",
   "source": [
    "class TravellingSalesmanProblem(Annealer):\n",
    "    def energy(self): # Calculates the length of the route.\n",
    "        dist = 0\n",
    "        for i in range(len(self.state)):\n",
    "            dist += distance_matrix2[self.state[i - 1], self.state[i]]\n",
    "        return dist\n",
    "\n",
    "    def move(self): # Swaps two cities in the route.\n",
    "        a = np.random.randint(0, len(self.state) - 1)\n",
    "        b = np.random.randint(0, len(self.state) - 1)\n",
    "        self.state[a], self.state[b] = self.state[b], self.state[a]\n",
    "\n",
    "initial_state = [0, 4, 1, 3, 2] # Random initial route 0 -> 4 -> 1 -> 3 -> 2 (Index of the cities)\n",
    "route, distance = TravellingSalesmanProblem(initial_state).anneal()\n",
    "\n",
    "print(f\"Route: {route}\\nDistance: {distance}\")"
   ],
   "id": "156f172784fa934c",
   "outputs": [
    {
     "name": "stderr",
     "output_type": "stream",
     "text": [
      " Temperature        Energy    Accept   Improve     Elapsed   Remaining\n",
      "     2.50000        375.00    37.00%     0.00%     0:00:01     0:00:00\r"
     ]
    },
    {
     "name": "stdout",
     "output_type": "stream",
     "text": [
      "Route: [0, 4, 3, 1, 2]\n",
      "Distance: 375\n"
     ]
    }
   ],
   "execution_count": 35
  },
  {
   "metadata": {},
   "cell_type": "markdown",
   "source": [
    "### Question 1: The Backpack\n",
    "You will find yourself in a **secret room** equipped with a door with a **time lock**. You'll see a timer countdown telling you that you only have five minutes left before the door will be locked forever. In front of you are **valuable objects**, each with their own **yield and weight**. You have a backpack that can carry an absolute maximum weight of `750 grams`. Put together the optimal backpack. You should end up with an optimal yield of `1458` (or at least a value close to that).\n",
    "\n",
    "$$ \\text{Maximize} \\sum_{i=1}^{n} v_i \\cdot x_i $$"
   ],
   "id": "fe1f95ab76ee580e"
  },
  {
   "metadata": {
    "ExecuteTime": {
     "end_time": "2024-05-19T12:01:37.937609Z",
     "start_time": "2024-05-19T12:01:37.918319Z"
    }
   },
   "cell_type": "code",
   "source": [
    "knapsackItems = pd.read_csv('../Data/KnapsackItems.csv', sep=',')\n",
    "display(knapsackItems.head())"
   ],
   "id": "c57ac49f518a4b18",
   "outputs": [
    {
     "data": {
      "text/plain": [
       "   Voorwerpen  Gewichten(gr)  Waarde\n",
       "0  Voorwerp 1             70     135\n",
       "1  Voorwerp 2             73     139\n",
       "2  Voorwerp 3             77     149\n",
       "3  Voorwerp 4             80     150\n",
       "4  Voorwerp 5             82     156"
      ],
      "text/html": [
       "<div>\n",
       "<style scoped>\n",
       "    .dataframe tbody tr th:only-of-type {\n",
       "        vertical-align: middle;\n",
       "    }\n",
       "\n",
       "    .dataframe tbody tr th {\n",
       "        vertical-align: top;\n",
       "    }\n",
       "\n",
       "    .dataframe thead th {\n",
       "        text-align: right;\n",
       "    }\n",
       "</style>\n",
       "<table border=\"1\" class=\"dataframe\">\n",
       "  <thead>\n",
       "    <tr style=\"text-align: right;\">\n",
       "      <th></th>\n",
       "      <th>Voorwerpen</th>\n",
       "      <th>Gewichten(gr)</th>\n",
       "      <th>Waarde</th>\n",
       "    </tr>\n",
       "  </thead>\n",
       "  <tbody>\n",
       "    <tr>\n",
       "      <th>0</th>\n",
       "      <td>Voorwerp 1</td>\n",
       "      <td>70</td>\n",
       "      <td>135</td>\n",
       "    </tr>\n",
       "    <tr>\n",
       "      <th>1</th>\n",
       "      <td>Voorwerp 2</td>\n",
       "      <td>73</td>\n",
       "      <td>139</td>\n",
       "    </tr>\n",
       "    <tr>\n",
       "      <th>2</th>\n",
       "      <td>Voorwerp 3</td>\n",
       "      <td>77</td>\n",
       "      <td>149</td>\n",
       "    </tr>\n",
       "    <tr>\n",
       "      <th>3</th>\n",
       "      <td>Voorwerp 4</td>\n",
       "      <td>80</td>\n",
       "      <td>150</td>\n",
       "    </tr>\n",
       "    <tr>\n",
       "      <th>4</th>\n",
       "      <td>Voorwerp 5</td>\n",
       "      <td>82</td>\n",
       "      <td>156</td>\n",
       "    </tr>\n",
       "  </tbody>\n",
       "</table>\n",
       "</div>"
      ]
     },
     "metadata": {},
     "output_type": "display_data"
    }
   ],
   "execution_count": 20
  },
  {
   "metadata": {
    "ExecuteTime": {
     "end_time": "2024-05-19T12:24:44.054060Z",
     "start_time": "2024-05-19T12:24:35.778525Z"
    }
   },
   "cell_type": "code",
   "source": [
    "class TheBackpackProblem(Annealer):\n",
    "    def energy(self):\n",
    "        solution = self.state\n",
    "        total_weight = (solution * weight_items).sum()\n",
    "        if total_weight > 750:\n",
    "            total_value = 0\n",
    "        else:\n",
    "            total_value = (solution * value_items).sum()\n",
    "        return -total_value\n",
    "    \n",
    "    def move(self):\n",
    "        i = np.random.randint(0, len(self.state))\n",
    "        self.state[i] = not self.state[i] # not = -1\n",
    "\n",
    "weight_items = knapsackItems['Gewichten(gr)']\n",
    "value_items = knapsackItems['Waarde']\n",
    "initial_state = np.random.choice([0,1], size=len(weight_items)) # Size = all rows of the dataframe (CSV)\n",
    "route, distance = TheBackpackProblem(initial_state).anneal()\n",
    "\n",
    "print(f\"Route: {route}\\nDistance: {-distance}\")"
   ],
   "id": "c0a73d28ca088254",
   "outputs": [
    {
     "name": "stderr",
     "output_type": "stream",
     "text": [
      " Temperature        Energy    Accept   Improve     Elapsed   Remaining\n",
      "     2.50000      -1399.00     0.00%     0.00%     0:00:08     0:00:00\r"
     ]
    },
    {
     "name": "stdout",
     "output_type": "stream",
     "text": [
      "Route: [1 0 1 0 1 0 1 1 1 0 0 0 0 1 1]\n",
      "Distance: 1458\n"
     ]
    }
   ],
   "execution_count": 39
  },
  {
   "metadata": {},
   "cell_type": "markdown",
   "source": [
    "### Question 2: The Gutter\n",
    "You are responsible for the design of gutters where the production costs must be as low as possible. It is therefore necessary that the gutters have an optimal cross-section with the available material so that leaves and dirt can be easily removed. The company you work for purchases **metal plates** that have a width of `1m. In other words H + W + H` see drawing-must be less than or equal to `1m`. Determine the **ideal `width B` and `height H`** of the gutter that you can make from the `1m` plates.\n",
    "\n",
    "$$ \\text{Maximize} \\frac{1}{2} \\cdot B \\cdot H $$\n",
    "\n",
    "![Gutter](Images/theGutter.png)"
   ],
   "id": "9976ef5eea85abba"
  },
  {
   "metadata": {
    "ExecuteTime": {
     "end_time": "2024-05-19T12:48:56.208180Z",
     "start_time": "2024-05-19T12:48:55.539547Z"
    }
   },
   "cell_type": "code",
   "source": [
    "class TheGutterProblem(Annealer):\n",
    "    def energy(self):\n",
    "        b = self.state[0]\n",
    "        h = (1 - b) / 2\n",
    "        return -b * h\n",
    "\n",
    "    def move(self):\n",
    "        b = self.state[0]\n",
    "        b += np.random.normal(0, 0.1)\n",
    "        self.state[0] = np.clip(b, 0, 1)\n",
    "\n",
    "initial_state = np.random.uniform(0,1, size=1)\n",
    "route, distance = TheGutterProblem(initial_state).anneal()\n",
    "\n",
    "print(f\"Route: {route}\\nDistance: {-distance}\")"
   ],
   "id": "7e5cbb4bd86ed8e1",
   "outputs": [
    {
     "name": "stderr",
     "output_type": "stream",
     "text": [
      " Temperature        Energy    Accept   Improve     Elapsed   Remaining\n",
      "\r    2.50000         -0.09    99.80%    46.80%     0:00:01     0:00:00"
     ]
    },
    {
     "name": "stdout",
     "output_type": "stream",
     "text": [
      "Route: [0.50000293]\n",
      "Distance: 0.1249999999957189\n"
     ]
    }
   ],
   "execution_count": 42
  },
  {
   "metadata": {},
   "cell_type": "markdown",
   "source": [
    "### Question 3: The Football Stadium\n",
    "The local sports club wants to build a new stadium. The perimeter of the sports field should be `400m`, and at the same time we want to ensure that the central midfield has a maximum surface area. Determine the ideal length and width ratio.\n",
    "\n",
    "$$ \\text{Maximize } L \\cdot B $$\n",
    "\n",
    "![The Football Stadium](Images/theFootballStadium.png)"
   ],
   "id": "8dcce8d70aac0bac"
  },
  {
   "metadata": {
    "ExecuteTime": {
     "end_time": "2024-05-19T13:05:02.593958Z",
     "start_time": "2024-05-19T13:05:01.959470Z"
    }
   },
   "cell_type": "code",
   "source": [
    "class TheFootballStadium(Annealer):\n",
    "    def energy(self):\n",
    "        l = self.state[0]\n",
    "        b = 400 - 2 * l\n",
    "        area = l * b\n",
    "        return -area\n",
    "\n",
    "    def move(self):\n",
    "        l = self.state[0]\n",
    "        l += np.random.normal(0, 0.1)\n",
    "        self.state[0] = np.clip(l, 0, 200)\n",
    "\n",
    "initial_state = np.random.uniform(0, 200, size=1)\n",
    "route, distance = TheFootballStadium(initial_state).anneal()\n",
    "\n",
    "print(f\"Route: {route}\\nDistance: {-distance}\")\n",
    "\n",
    "L = route[0]\n",
    "B = 200 - L\n",
    "max_area = L * B\n",
    "\n",
    "print(f\"\\nOptimal Width (L): {L:.2f} m\")\n",
    "print(f\"Optimal Height (B): {B:.2f} m\")\n",
    "print(f\"Maximum Area: {max_area:.2f} m^2\")"
   ],
   "id": "7576d7d60ea7a0c8",
   "outputs": [
    {
     "name": "stderr",
     "output_type": "stream",
     "text": [
      " Temperature        Energy    Accept   Improve     Elapsed   Remaining\n",
      "     2.50000     -19999.99    97.40%    47.60%     0:00:01     0:00:00\r"
     ]
    },
    {
     "name": "stdout",
     "output_type": "stream",
     "text": [
      "Route: [100.00005621]\n",
      "Distance: 19999.99999999368\n",
      "\n",
      "Optimal Width (L): 100.00 m\n",
      "Optimal Height (B): 100.00 m\n",
      "Maximum Area: 10000.00 m^2\n"
     ]
    }
   ],
   "execution_count": 73
  },
  {
   "metadata": {},
   "cell_type": "markdown",
   "source": [
    "### Question 4: Optimization problem\n",
    "\n",
    "Given the following objective function to be maximized:\n",
    "\n",
    "\n",
    "$ obj = 0.2 + x_1^2 + x_2^2 - 0.1 \\cos(6\\pi x_1) - 0.1 \\cos(6\\pi x_2) $\n",
    "\n",
    "\n",
    "With the following restrictions: $-1.0 \\leq x_i \\leq 1.0$ met $i=1,2$\n",
    "\n",
    "Find a good solution."
   ],
   "id": "cbbb2930e5856c1d"
  },
  {
   "metadata": {
    "ExecuteTime": {
     "end_time": "2024-05-19T12:25:45.601541Z",
     "start_time": "2024-05-19T12:25:44.744131Z"
    }
   },
   "cell_type": "code",
   "source": [
    "class OptimalisatieProblem(Annealer):\n",
    "    def energy(self):\n",
    "        x = self.state[0]\n",
    "        y = self.state[1]\n",
    "        return -(0.2 + x**2 + y**2 - 0.1 * math.cos(6 * math.pi * x) - 0.1 * math.cos(6 * math.pi * y))\n",
    "\n",
    "    def move(self):\n",
    "        i = np.random.randint(0,2)\n",
    "        self.state[i] += np.random.normal(0, 0.1)\n",
    "        self.state[i] = np.clip(self.state[i], -1, 1)\n",
    "\n",
    "initial_state = np.random.uniform(-1,1, size=2)\n",
    "route, distance = OptimalisatieProblem(initial_state).anneal()\n",
    "\n",
    "print(f\"Route: {route}\\nDistance: {-distance}\")"
   ],
   "id": "1c22172c060755b4",
   "outputs": [
    {
     "name": "stderr",
     "output_type": "stream",
     "text": [
      " Temperature        Energy    Accept   Improve     Elapsed   Remaining\n",
      "     2.50000         -0.67    98.40%    47.00%     0:00:01     0:00:00\r"
     ]
    },
    {
     "name": "stdout",
     "output_type": "stream",
     "text": [
      "Route: [-1. -1.]\n",
      "Distance: 2.0\n"
     ]
    }
   ],
   "execution_count": 41
  },
  {
   "metadata": {},
   "cell_type": "markdown",
   "source": [
    "### Question 5: Quiz\n",
    "\n",
    "1. Hebben bovengemiddelde chromosomen altijd een beter nageslacht? \n",
    "2. Kan je met cross-over de hele zoekruimte verkennen? Zijn er beperkingen van deze verkenning?\n",
    "3. Waarom speelt de kans op mutatie een belangrijke rol?\n",
    "4. Waarom start je bij Simulated Annealing het best met een gerandomiseerde vector?\n",
    "5. Waarom moet de temperatuur bij simulated annealing afnemen?"
   ],
   "id": "85679458cdb42976"
  },
  {
   "metadata": {},
   "cell_type": "code",
   "source": "",
   "id": "19b20b97f96e8fcb",
   "outputs": [],
   "execution_count": null
  },
  {
   "metadata": {},
   "cell_type": "markdown",
   "source": [
    "### General explanation:\n",
    "\n",
    "What is what?\n",
    "- The output `Route` is the solution of the problem.\n",
    "- The output `Distance` is the value of the objective function.\n",
    "- The `energy` method is the objective function.\n",
    "- The `move` method is the function that identifies other solution(s) somewhere in the solution space.\n",
    "- The `initial_state` is the random initial solution.\n",
    "- The `anneal` method is the function that starts the annealing process.\n",
    "- The `objective function` is the function that we want to maximize or minimize so `energy` method is the objective function."
   ],
   "id": "cc4167f5cd080b44"
  }
 ],
 "metadata": {
  "kernelspec": {
   "display_name": "Python 3",
   "language": "python",
   "name": "python3"
  },
  "language_info": {
   "codemirror_mode": {
    "name": "ipython",
    "version": 2
   },
   "file_extension": ".py",
   "mimetype": "text/x-python",
   "name": "python",
   "nbconvert_exporter": "python",
   "pygments_lexer": "ipython2",
   "version": "2.7.6"
  }
 },
 "nbformat": 4,
 "nbformat_minor": 5
}

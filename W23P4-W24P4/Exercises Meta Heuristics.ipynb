{
 "cells": [
  {
   "cell_type": "markdown",
   "source": "# Exercises Meta Heuristics",
   "metadata": {
    "collapsed": false
   },
   "id": "fc11ae5046d6cd48"
  },
  {
   "cell_type": "code",
   "source": [
    "import math  # type: ignore                                                           # Mathematical functions\n",
    "import pandas as pd  # type: ignore                                                   # Data manipulation\n",
    "import numpy as np  # type: ignore                                                    # Scientific computing\n",
    "import matplotlib.pyplot as plt  # type: ignore                                       # Data visualization\n",
    "from scipy.stats import binom as binomial  # type: ignore                             # Binomial distribution\n",
    "from scipy.stats import norm as normal  # type: ignore                                # Normal distribution\n",
    "from scipy.stats import poisson as poisson  # type: ignore                            # Poisson distribution\n",
    "from scipy.stats import t as student  # type: ignore                                  # Student distribution\n",
    "from scipy.stats import chi2  # type: ignore                                          # Chi-squared distribution\n",
    "from scipy.stats import ttest_1samp  # type: ignore                                   # One-sample t-test\n",
    "from scipy.stats import chisquare  # type: ignore                                     # Chi-squared test\n",
    "from scipy.special import comb  # type: ignore                                        # Combinations\n",
    "from mlxtend.frequent_patterns import apriori  # type: ignore                         # Apriori algorithm\n",
    "from mlxtend.frequent_patterns import fpgrowth  # type: ignore                        # FP-growth algorithm\n",
    "from mlxtend.frequent_patterns import association_rules  # type: ignore               # Association rules\n",
    "from mlxtend.preprocessing import TransactionEncoder  # type: ignore                  # Transaction encoder\n",
    "from sklearn.discriminant_analysis import LinearDiscriminantAnalysis  # type: ignore  # Discriminant Analysis\n",
    "from tensorflow import keras  # type: ignore                                          # Deep Learning library\n",
    "from tensorflow.keras import Model  # type: ignore                                    # Model class\n",
    "from tensorflow.keras.layers import Input, Dense, BatchNormalization  # type: ignore  # Layers\n",
    "from tensorflow.keras.utils import to_categorical  # type: ignore                     # One-hot encoding\n",
    "from tensorflow. keras.optimizers import Adam  # type: ignore                         # Optimizer\n",
    "from livelossplot import PlotLossesKeras  # type: ignore                              # Live plot\n",
    "from keras.src.optimizers import RMSprop  # type: ignore                              # Optimizer\n",
    "from sklearn.model_selection import train_test_split  # type: ignore                  # Train-test split\n",
    "from simanneal import Annealer  # type: ignore                                        # Simulated Annealing\n",
    "import warnings  # type: ignore                                                       # Disable warnings\n",
    "from Resources.Functions import *  # type: ignore                                     # Custom functions\n",
    "warnings.filterwarnings(\"ignore\")"
   ],
   "metadata": {
    "collapsed": false,
    "ExecuteTime": {
     "end_time": "2024-05-15T12:50:06.396790Z",
     "start_time": "2024-05-15T12:50:06.382849Z"
    }
   },
   "id": "1796a7e3a7232f25",
   "outputs": [],
   "execution_count": 2
  },
  {
   "metadata": {},
   "cell_type": "markdown",
   "source": [
    "# Guidelines\n",
    "- To solve the problems below, always use simulated annealing and genetic algorithms. So you always provide two solutions. If you have the Tabu search Once implemented, you can even develop a third solution.\n",
    "- You always have to write a cost function (objective function) yourself that is focused on the problem. You can reuse the cost function for the Simulated Annealing for the genetic algorithms. Note how the objective function should be optimized. You can - if necessary - add a minus sign and/or use rounding.\n",
    "- Don't forget to also write a function that identifies other solution(s) somewhere in the solution space (e.g. random) or near the current solution(s).\n",
    "- Experiment with some parameters such as the chance of crossover, or mutation in genetics algorithms.\n",
    "- In some assignments it is best to also provide lower and upper limits (lower and upper)."
   ],
   "id": "280f55c7e3a3b9ed"
  },
  {
   "cell_type": "markdown",
   "source": [
    "## Theoretical questions"
   ],
   "metadata": {
    "collapsed": false
   },
   "id": "d66cd879508e8eb4"
  },
  {
   "metadata": {},
   "cell_type": "markdown",
   "source": "### Question 0: Simulated Annealing",
   "id": "c5c2eee58fd939a3"
  },
  {
   "metadata": {
    "ExecuteTime": {
     "end_time": "2024-05-15T14:40:47.182584Z",
     "start_time": "2024-05-15T14:40:45.692446Z"
    }
   },
   "cell_type": "code",
   "source": [
    "class RastriginProblem(Annealer):\n",
    "    def energy(self):\n",
    "        x1 = self.state[0]\n",
    "        x2 = self.state[1]\n",
    "        sum = 10 * 2 + x1**2 + x2**2\n",
    "        sum = sum - 10 * math.cos(2 * math.pi * x1) - 10 * math.cos(2 * math.pi * x2)\n",
    "        return sum # Maximize = return -sum\n",
    "\n",
    "    def move(self):\n",
    "        i = np.random.randint(0,2) # Randomly select a dimension (between 0 and 1)\n",
    "        self.state[i] += np.random.normal(0, 0.1)\n",
    "        self.state[i] = np.clip(self.state[i], -5.12, 5.12)\n",
    "\n",
    "initial_state =  np.random.uniform(-5.12,5.12, size=2)\n",
    "rastrigin = RastriginProblem(initial_state)\n",
    "\n",
    "rastrigin.Tmax = 25000.0                # Max (starting) temperature\n",
    "rastrigin.Tmin = 2.5                    # Min (ending) temperature\n",
    "rastrigin.updates = 10                  # Number of updates (On the screen)\n",
    "rastrigin.steps = 100000                # Number of iterations\n",
    "route, distance = rastrigin.anneal()    # Start the annealing\n",
    "\n",
    "print(f\"Route: {route}\")\n",
    "print(f\"Distance: {distance}\")"
   ],
   "id": "e91f031222e05f87",
   "outputs": [
    {
     "name": "stderr",
     "output_type": "stream",
     "text": [
      " Temperature        Energy    Accept   Improve     Elapsed   Remaining\n",
      "     2.50000          6.30    72.32%    36.26%     0:00:01     0:00:00\r"
     ]
    },
    {
     "name": "stdout",
     "output_type": "stream",
     "text": [
      "Route: [-0.00330428  0.00256111]\n",
      "Distance: 0.00346730490606717\n"
     ]
    }
   ],
   "execution_count": 63
  },
  {
   "metadata": {},
   "cell_type": "markdown",
   "source": [
    "### Question 0: Traveling Salesman\n",
    "\n",
    "![Traveling Salesman](Images/travelingSalesman.png)"
   ],
   "id": "1be717d4cda0d2a7"
  },
  {
   "metadata": {
    "ExecuteTime": {
     "end_time": "2024-05-15T13:44:26.064233Z",
     "start_time": "2024-05-15T13:44:26.043210Z"
    }
   },
   "cell_type": "code",
   "source": [
    "# Matrix where the distances between the cities are stored (The matrix is symmetric)\n",
    "# 2 dimensions (5*5) (x,y)\n",
    "distance_matrix2 = np.array([[0, 100, 125, 100,  75],\n",
    "                            [100, 0,  50,  75, 100],\n",
    "                            [125, 50,  0, 100, 125],\n",
    "                            [100, 75, 100,   0, 50],\n",
    "                            [75, 100, 125,  50,  0]])"
   ],
   "id": "14142f0ff4d06031",
   "outputs": [],
   "execution_count": 29
  },
  {
   "metadata": {
    "ExecuteTime": {
     "end_time": "2024-05-15T14:41:39.654636Z",
     "start_time": "2024-05-15T14:41:38.544021Z"
    }
   },
   "cell_type": "code",
   "source": [
    "class TravellingSalesmanProblem(Annealer):\n",
    "    def move(self): # Swaps two cities in the route.\n",
    "        a = np.random.randint(0, len(self.state) - 1)\n",
    "        b = np.random.randint(0, len(self.state) - 1)\n",
    "        self.state[a], self.state[b] = self.state[b], self.state[a]\n",
    "        \n",
    "    def energy(self): # Calculates the length of the route.\n",
    "        dist = 0\n",
    "        for i in range(len(self.state)):\n",
    "            dist += distance_matrix2[self.state[i - 1], self.state[i]]\n",
    "        return dist\n",
    "\n",
    "initial_state = [0, 4, 1, 3, 2] # Random initial route 0 -> 4 -> 1 -> 3 -> 2 (Index of the cities)\n",
    "route, distance = TravellingSalesmanProblem(initial_state).anneal()\n",
    "\n",
    "print(f\"Route: {route}\")\n",
    "print(f\"Distance: {distance}\")"
   ],
   "id": "156f172784fa934c",
   "outputs": [
    {
     "name": "stderr",
     "output_type": "stream",
     "text": [
      " Temperature        Energy    Accept   Improve     Elapsed   Remaining\n",
      "     2.50000        375.00    38.00%     0.00%     0:00:01     0:00:00\r"
     ]
    },
    {
     "name": "stdout",
     "output_type": "stream",
     "text": [
      "Route: [0, 4, 3, 1, 2]\n",
      "Distance: 375\n"
     ]
    }
   ],
   "execution_count": 64
  },
  {
   "metadata": {},
   "cell_type": "markdown",
   "source": [
    "### Question 1: The Backpack\n",
    "Je bevindt je in een **geheime kamer** die uitgerust is met een deur met **tijdslot**. Je ziet een timer aftellen die meldt dat je nog maar vijf minuten over het voordat de deur voor altijd op slot zal zijn. Voor je neus liggen **waardevolle voorwerpen** met elk hun eigen **opbrengst en gewicht**. Je hebt een rugzak bij die een absoluut maximaal gewicht kan torsen van `750gr`. Op **Canvas** vind je de lijst van voorwerpen met hun gewicht en opbrengst. Stel de optimale rugzak samen. Je zou op een optimale opbrengst van `1458` moeten uitkomen (of toch zeker een waarde dicht daarbij in de buurt)."
   ],
   "id": "fe1f95ab76ee580e"
  },
  {
   "metadata": {
    "ExecuteTime": {
     "end_time": "2024-05-15T14:39:00.751144Z",
     "start_time": "2024-05-15T14:39:00.736856Z"
    }
   },
   "cell_type": "code",
   "source": [
    "knapsackItems = pd.read_csv('../Data/KnapsackItems.csv', sep=',')\n",
    "display(knapsackItems.head())"
   ],
   "id": "c57ac49f518a4b18",
   "outputs": [
    {
     "data": {
      "text/plain": [
       "   Voorwerpen  Gewichten(gr)  Waarde\n",
       "0  Voorwerp 1             70     135\n",
       "1  Voorwerp 2             73     139\n",
       "2  Voorwerp 3             77     149\n",
       "3  Voorwerp 4             80     150\n",
       "4  Voorwerp 5             82     156"
      ],
      "text/html": [
       "<div>\n",
       "<style scoped>\n",
       "    .dataframe tbody tr th:only-of-type {\n",
       "        vertical-align: middle;\n",
       "    }\n",
       "\n",
       "    .dataframe tbody tr th {\n",
       "        vertical-align: top;\n",
       "    }\n",
       "\n",
       "    .dataframe thead th {\n",
       "        text-align: right;\n",
       "    }\n",
       "</style>\n",
       "<table border=\"1\" class=\"dataframe\">\n",
       "  <thead>\n",
       "    <tr style=\"text-align: right;\">\n",
       "      <th></th>\n",
       "      <th>Voorwerpen</th>\n",
       "      <th>Gewichten(gr)</th>\n",
       "      <th>Waarde</th>\n",
       "    </tr>\n",
       "  </thead>\n",
       "  <tbody>\n",
       "    <tr>\n",
       "      <th>0</th>\n",
       "      <td>Voorwerp 1</td>\n",
       "      <td>70</td>\n",
       "      <td>135</td>\n",
       "    </tr>\n",
       "    <tr>\n",
       "      <th>1</th>\n",
       "      <td>Voorwerp 2</td>\n",
       "      <td>73</td>\n",
       "      <td>139</td>\n",
       "    </tr>\n",
       "    <tr>\n",
       "      <th>2</th>\n",
       "      <td>Voorwerp 3</td>\n",
       "      <td>77</td>\n",
       "      <td>149</td>\n",
       "    </tr>\n",
       "    <tr>\n",
       "      <th>3</th>\n",
       "      <td>Voorwerp 4</td>\n",
       "      <td>80</td>\n",
       "      <td>150</td>\n",
       "    </tr>\n",
       "    <tr>\n",
       "      <th>4</th>\n",
       "      <td>Voorwerp 5</td>\n",
       "      <td>82</td>\n",
       "      <td>156</td>\n",
       "    </tr>\n",
       "  </tbody>\n",
       "</table>\n",
       "</div>"
      ]
     },
     "metadata": {},
     "output_type": "display_data"
    }
   ],
   "execution_count": 59
  },
  {
   "metadata": {
    "ExecuteTime": {
     "end_time": "2024-05-15T14:44:59.600327Z",
     "start_time": "2024-05-15T14:44:59.477813Z"
    }
   },
   "cell_type": "code",
   "source": [
    "class TheBackpackProblem(Annealer):\n",
    "    def move(self):\n",
    "        solution = self.state\n",
    "        total_weight = (solution * weight_items).sum()\n",
    "        if total_weight > 750:\n",
    "            total_value = 0\n",
    "        else:\n",
    "            total_value = (solution * value_items).sum()\n",
    "        return -total_value\n",
    "        \n",
    "    def energy(self):\n",
    "        i = np.random.randint(0, len(self.state))\n",
    "        self.state[i] = not self.state[i] # not = -1\n",
    "        \n",
    "weight_items = knapsackItems['Gewichten(gr)']\n",
    "value_items = knapsackItems['Waarde']\n",
    "initial_state = np.random.choice([0,1], size=len(weight_items)) # Size = all rows of the dataframe (CSV)\n",
    "route, distance = TheBackpackProblem(initial_state).anneal()\n",
    "\n",
    "print(f\"Route: {route}\")\n",
    "print(f\"Distance: {distance}\")"
   ],
   "id": "c0a73d28ca088254",
   "outputs": [
    {
     "name": "stderr",
     "output_type": "stream",
     "text": [
      " Temperature        Energy    Accept   Improve     Elapsed   Remaining\n"
     ]
    },
    {
     "ename": "TypeError",
     "evalue": "must be real number, not NoneType",
     "output_type": "error",
     "traceback": [
      "\u001B[1;31m---------------------------------------------------------------------------\u001B[0m",
      "\u001B[1;31mTypeError\u001B[0m                                 Traceback (most recent call last)",
      "Cell \u001B[1;32mIn[70], line 18\u001B[0m\n\u001B[0;32m     16\u001B[0m value_items \u001B[38;5;241m=\u001B[39m knapsackItems[\u001B[38;5;124m'\u001B[39m\u001B[38;5;124mWaarde\u001B[39m\u001B[38;5;124m'\u001B[39m]\n\u001B[0;32m     17\u001B[0m initial_state \u001B[38;5;241m=\u001B[39m np\u001B[38;5;241m.\u001B[39mrandom\u001B[38;5;241m.\u001B[39mchoice([\u001B[38;5;241m0\u001B[39m,\u001B[38;5;241m1\u001B[39m], size\u001B[38;5;241m=\u001B[39m\u001B[38;5;28mlen\u001B[39m(weight_items)) \u001B[38;5;66;03m# Size = all rows of the dataframe (CSV)\u001B[39;00m\n\u001B[1;32m---> 18\u001B[0m route, distance \u001B[38;5;241m=\u001B[39m \u001B[43mTheBackpackProblem\u001B[49m\u001B[43m(\u001B[49m\u001B[43minitial_state\u001B[49m\u001B[43m)\u001B[49m\u001B[38;5;241;43m.\u001B[39;49m\u001B[43manneal\u001B[49m\u001B[43m(\u001B[49m\u001B[43m)\u001B[49m\n\u001B[0;32m     20\u001B[0m \u001B[38;5;28mprint\u001B[39m(\u001B[38;5;124mf\u001B[39m\u001B[38;5;124m\"\u001B[39m\u001B[38;5;124mRoute: \u001B[39m\u001B[38;5;132;01m{\u001B[39;00mroute\u001B[38;5;132;01m}\u001B[39;00m\u001B[38;5;124m\"\u001B[39m)\n\u001B[0;32m     21\u001B[0m \u001B[38;5;28mprint\u001B[39m(\u001B[38;5;124mf\u001B[39m\u001B[38;5;124m\"\u001B[39m\u001B[38;5;124mDistance: \u001B[39m\u001B[38;5;132;01m{\u001B[39;00mdistance\u001B[38;5;132;01m}\u001B[39;00m\u001B[38;5;124m\"\u001B[39m)\n",
      "File \u001B[1;32m~\\Downloads\\DataScience2\\venv\\lib\\site-packages\\simanneal\\anneal.py:190\u001B[0m, in \u001B[0;36mAnnealer.anneal\u001B[1;34m(self)\u001B[0m\n\u001B[0;32m    188\u001B[0m \u001B[38;5;28;01mif\u001B[39;00m \u001B[38;5;28mself\u001B[39m\u001B[38;5;241m.\u001B[39mupdates \u001B[38;5;241m>\u001B[39m \u001B[38;5;241m0\u001B[39m:\n\u001B[0;32m    189\u001B[0m     updateWavelength \u001B[38;5;241m=\u001B[39m \u001B[38;5;28mself\u001B[39m\u001B[38;5;241m.\u001B[39msteps \u001B[38;5;241m/\u001B[39m \u001B[38;5;28mself\u001B[39m\u001B[38;5;241m.\u001B[39mupdates\n\u001B[1;32m--> 190\u001B[0m     \u001B[38;5;28;43mself\u001B[39;49m\u001B[38;5;241;43m.\u001B[39;49m\u001B[43mupdate\u001B[49m\u001B[43m(\u001B[49m\u001B[43mstep\u001B[49m\u001B[43m,\u001B[49m\u001B[43m \u001B[49m\u001B[43mT\u001B[49m\u001B[43m,\u001B[49m\u001B[43m \u001B[49m\u001B[43mE\u001B[49m\u001B[43m,\u001B[49m\u001B[43m \u001B[49m\u001B[38;5;28;43;01mNone\u001B[39;49;00m\u001B[43m,\u001B[49m\u001B[43m \u001B[49m\u001B[38;5;28;43;01mNone\u001B[39;49;00m\u001B[43m)\u001B[49m\n\u001B[0;32m    192\u001B[0m \u001B[38;5;66;03m# Attempt moves to new states\u001B[39;00m\n\u001B[0;32m    193\u001B[0m \u001B[38;5;28;01mwhile\u001B[39;00m step \u001B[38;5;241m<\u001B[39m \u001B[38;5;28mself\u001B[39m\u001B[38;5;241m.\u001B[39msteps \u001B[38;5;129;01mand\u001B[39;00m \u001B[38;5;129;01mnot\u001B[39;00m \u001B[38;5;28mself\u001B[39m\u001B[38;5;241m.\u001B[39muser_exit:\n",
      "File \u001B[1;32m~\\Downloads\\DataScience2\\venv\\lib\\site-packages\\simanneal\\anneal.py:125\u001B[0m, in \u001B[0;36mAnnealer.update\u001B[1;34m(self, *args, **kwargs)\u001B[0m\n\u001B[0;32m    118\u001B[0m \u001B[38;5;28;01mdef\u001B[39;00m \u001B[38;5;21mupdate\u001B[39m(\u001B[38;5;28mself\u001B[39m, \u001B[38;5;241m*\u001B[39margs, \u001B[38;5;241m*\u001B[39m\u001B[38;5;241m*\u001B[39mkwargs):\n\u001B[0;32m    119\u001B[0m \u001B[38;5;250m    \u001B[39m\u001B[38;5;124;03m\"\"\"Wrapper for internal update.\u001B[39;00m\n\u001B[0;32m    120\u001B[0m \n\u001B[0;32m    121\u001B[0m \u001B[38;5;124;03m    If you override the self.update method,\u001B[39;00m\n\u001B[0;32m    122\u001B[0m \u001B[38;5;124;03m    you can chose to call the self.default_update method\u001B[39;00m\n\u001B[0;32m    123\u001B[0m \u001B[38;5;124;03m    from your own Annealer.\u001B[39;00m\n\u001B[0;32m    124\u001B[0m \u001B[38;5;124;03m    \"\"\"\u001B[39;00m\n\u001B[1;32m--> 125\u001B[0m     \u001B[38;5;28mself\u001B[39m\u001B[38;5;241m.\u001B[39mdefault_update(\u001B[38;5;241m*\u001B[39margs, \u001B[38;5;241m*\u001B[39m\u001B[38;5;241m*\u001B[39mkwargs)\n",
      "File \u001B[1;32m~\\Downloads\\DataScience2\\venv\\lib\\site-packages\\simanneal\\anneal.py:152\u001B[0m, in \u001B[0;36mAnnealer.default_update\u001B[1;34m(self, step, T, E, acceptance, improvement)\u001B[0m\n\u001B[0;32m    149\u001B[0m \u001B[38;5;28;01mif\u001B[39;00m step \u001B[38;5;241m==\u001B[39m \u001B[38;5;241m0\u001B[39m:\n\u001B[0;32m    150\u001B[0m     \u001B[38;5;28mprint\u001B[39m(\u001B[38;5;124m'\u001B[39m\u001B[38;5;124m Temperature        Energy    Accept   Improve     Elapsed   Remaining\u001B[39m\u001B[38;5;124m'\u001B[39m,\n\u001B[0;32m    151\u001B[0m           file\u001B[38;5;241m=\u001B[39msys\u001B[38;5;241m.\u001B[39mstderr)\n\u001B[1;32m--> 152\u001B[0m     \u001B[38;5;28mprint\u001B[39m(\u001B[38;5;124;43m'\u001B[39;49m\u001B[38;5;130;43;01m\\r\u001B[39;49;00m\u001B[38;5;132;43;01m%12.5f\u001B[39;49;00m\u001B[38;5;124;43m  \u001B[39;49m\u001B[38;5;132;43;01m%12.2f\u001B[39;49;00m\u001B[38;5;124;43m                      \u001B[39;49m\u001B[38;5;132;43;01m%s\u001B[39;49;00m\u001B[38;5;124;43m            \u001B[39;49m\u001B[38;5;124;43m'\u001B[39;49m\u001B[43m \u001B[49m\u001B[38;5;241;43m%\u001B[39;49m\n\u001B[0;32m    153\u001B[0m \u001B[43m          \u001B[49m\u001B[43m(\u001B[49m\u001B[43mT\u001B[49m\u001B[43m,\u001B[49m\u001B[43m \u001B[49m\u001B[43mE\u001B[49m\u001B[43m,\u001B[49m\u001B[43m \u001B[49m\u001B[43mtime_string\u001B[49m\u001B[43m(\u001B[49m\u001B[43melapsed\u001B[49m\u001B[43m)\u001B[49m\u001B[43m)\u001B[49m, file\u001B[38;5;241m=\u001B[39msys\u001B[38;5;241m.\u001B[39mstderr, end\u001B[38;5;241m=\u001B[39m\u001B[38;5;124m\"\u001B[39m\u001B[38;5;130;01m\\r\u001B[39;00m\u001B[38;5;124m\"\u001B[39m)\n\u001B[0;32m    154\u001B[0m     sys\u001B[38;5;241m.\u001B[39mstderr\u001B[38;5;241m.\u001B[39mflush()\n\u001B[0;32m    155\u001B[0m \u001B[38;5;28;01melse\u001B[39;00m:\n",
      "\u001B[1;31mTypeError\u001B[0m: must be real number, not NoneType"
     ]
    }
   ],
   "execution_count": 70
  },
  {
   "metadata": {},
   "cell_type": "markdown",
   "source": [
    "### Question 2: The Gutter\n",
    "Je bent belast met het ontwerp van dakgoten waarbij de productiekost zo laag mogelijk moet zijn. Daarom is het noodzakelijk dat de dakgoten een zo optimale doorsnede hebben met het beschikbare materiaal zodat bladeren en vuil makkelijk afgevoerd kunnen worden. Het bedrijf waarvoor je werkt, koopt **metalen platen** aan die een breedte hebben van `1m. M.a.w. H + B + H` -zie tekening- moet kleiner of gelijk zijn aan `1m`. Bepaal de **ideale `breedte B` en `hoogte H`** van de dakgoot die je uit de platen van `1m` kan maken.\n",
    "\n",
    "![Gutter](Images/theGutter.png)"
   ],
   "id": "9976ef5eea85abba"
  },
  {
   "metadata": {
    "ExecuteTime": {
     "end_time": "2024-05-15T14:42:36.285230Z",
     "start_time": "2024-05-15T14:42:35.406412Z"
    }
   },
   "cell_type": "code",
   "source": [
    "class TheGutterProblem(Annealer):\n",
    "    def energy(self):\n",
    "        b = self.state[0]\n",
    "        h = (1 - b) / 2\n",
    "        return -b * h\n",
    "\n",
    "    def move(self):\n",
    "        self.state[0] += np.random.normal(0, 0.1)\n",
    "        self.state[0] = np.clip(self.state[0], 0, 1)\n",
    "\n",
    "initial_state = np.random.uniform(0,1, size=1)\n",
    "route, distance = TheGutterProblem(initial_state).anneal()\n",
    "\n",
    "print(f\"Route: {route}\")\n",
    "print(f\"Distance: {distance}\")"
   ],
   "id": "7e5cbb4bd86ed8e1",
   "outputs": [
    {
     "name": "stderr",
     "output_type": "stream",
     "text": [
      " Temperature        Energy    Accept   Improve     Elapsed   Remaining\n",
      "     2.50000         -0.04    99.20%    48.60%     0:00:01     0:00:00\r"
     ]
    },
    {
     "name": "stdout",
     "output_type": "stream",
     "text": [
      "Route: [0.49998991]\n",
      "Distance: -0.12499999994906158\n"
     ]
    }
   ],
   "execution_count": 66
  },
  {
   "metadata": {},
   "cell_type": "markdown",
   "source": [
    "### Question 3: The Football Stadium\n",
    "De plaatselijke sportclub wil een nieuw stadion bouwen. De omtrek van het sportveld moet `400m` bedragen, en tegelijkertijd willen we ervoor zorgen dat het centrale middenveld een maximale oppervlakte heeft. Bepaal de ideale lengte –en breedteverhouding.\n",
    "\n",
    "![The Football Stadium](Images/theFootballStadium.png)"
   ],
   "id": "8dcce8d70aac0bac"
  },
  {
   "metadata": {
    "ExecuteTime": {
     "end_time": "2024-05-15T08:18:26.991878Z",
     "start_time": "2024-05-15T08:18:26.977632Z"
    }
   },
   "cell_type": "code",
   "source": [
    "class TheFootballStadium(Annealer):\n",
    "    def energy(self):\n",
    "\n",
    "        return\n",
    "\n",
    "    def move(self):\n",
    "        \n",
    "        return\n",
    "\n",
    "\n",
    "\n",
    "initial_state = 1\n",
    "route, distance = TheFootballStadium(initial_state).anneal()\n",
    "\n",
    "print(f\"Route: {route}\")\n",
    "print(f\"Distance: {distance}\")"
   ],
   "id": "7576d7d60ea7a0c8",
   "outputs": [],
   "execution_count": 7
  },
  {
   "metadata": {},
   "cell_type": "markdown",
   "source": [
    "### Vraag 4: Optimalisatieprobleem\n",
    "\n",
    "Gegeven volgende te maximaliseren doelfunctie:\n",
    "\n",
    "\n",
    "$ obj = 0.2 + x_1^2 + x_2^2 - 0.1 \\cos(6\\pi x_1) - 0.1 \\cos(6\\pi x_2) $\n",
    "\n",
    "\n",
    "Met volgende beperkingen: $-1.0 \\leq x_i \\leq 1.0$ met $i=1,2$\n",
    "\n",
    "Zoek een goede oplossing."
   ],
   "id": "cbbb2930e5856c1d"
  },
  {
   "metadata": {
    "ExecuteTime": {
     "end_time": "2024-05-15T14:43:15.772376Z",
     "start_time": "2024-05-15T14:43:14.560060Z"
    }
   },
   "cell_type": "code",
   "source": [
    "class OptimalisatieProblem(Annealer):\n",
    "    def energy(self):\n",
    "        x = self.state[0]\n",
    "        y = self.state[1]\n",
    "        return -(0.2 + x**2 + y**2 - 0.1 * math.cos(6 * math.pi * x) - 0.1 * math.cos(6 * math.pi * y))\n",
    "\n",
    "    def move(self):\n",
    "        i = np.random.randint(0,2)\n",
    "        self.state[i] += np.random.normal(0, 0.1)\n",
    "        self.state[i] = np.clip(self.state[i], -1, 1)\n",
    "\n",
    "initial_state = np.random.uniform(-1,1, size=2)\n",
    "route, distance = OptimalisatieProblem(initial_state).anneal()\n",
    "\n",
    "print(f\"Route: {route}\")\n",
    "print(f\"Distance: {distance}\")"
   ],
   "id": "1c22172c060755b4",
   "outputs": [
    {
     "name": "stderr",
     "output_type": "stream",
     "text": [
      " Temperature        Energy    Accept   Improve     Elapsed   Remaining\n",
      "\r    2.50000         -0.47    98.40%    51.80%     0:00:01     0:00:00"
     ]
    },
    {
     "name": "stdout",
     "output_type": "stream",
     "text": [
      "Route: [-1. -1.]\n",
      "Distance: -2.0\n"
     ]
    }
   ],
   "execution_count": 67
  },
  {
   "metadata": {},
   "cell_type": "markdown",
   "source": [
    "### Question 5: Quiz\n",
    "\n",
    "1. Hebben bovengemiddelde chromosomen altijd een beter nageslacht? \n",
    "2. Kan je met cross-over de hele zoekruimte verkennen? Zijn er beperkingen van deze verkenning? \n",
    "3. Waarom speelt de kans op mutatie een belangrijke rol? \n",
    "4. Waarom start je bij Simulated Annealing het best met een gerandomiseerde vector?\n",
    "5. Waarom moet de temperatuur bij simulated annealing afnemen?"
   ],
   "id": "85679458cdb42976"
  },
  {
   "metadata": {
    "ExecuteTime": {
     "end_time": "2024-05-15T08:18:27.022630Z",
     "start_time": "2024-05-15T08:18:27.009733Z"
    }
   },
   "cell_type": "code",
   "source": "",
   "id": "19b20b97f96e8fcb",
   "outputs": [],
   "execution_count": 7
  }
 ],
 "metadata": {
  "kernelspec": {
   "display_name": "Python 3",
   "language": "python",
   "name": "python3"
  },
  "language_info": {
   "codemirror_mode": {
    "name": "ipython",
    "version": 2
   },
   "file_extension": ".py",
   "mimetype": "text/x-python",
   "name": "python",
   "nbconvert_exporter": "python",
   "pygments_lexer": "ipython2",
   "version": "2.7.6"
  }
 },
 "nbformat": 4,
 "nbformat_minor": 5
}

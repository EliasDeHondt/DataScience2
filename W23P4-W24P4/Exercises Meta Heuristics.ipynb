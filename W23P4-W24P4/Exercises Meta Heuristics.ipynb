{
 "cells": [
  {
   "cell_type": "markdown",
   "source": "# Exercises Meta Heuristics",
   "metadata": {
    "collapsed": false
   },
   "id": "fc11ae5046d6cd48"
  },
  {
   "cell_type": "code",
   "source": [
    "import math  # type: ignore                                                           # Mathematical functions\n",
    "import pandas as pd  # type: ignore                                                   # Data manipulation\n",
    "import numpy as np  # type: ignore                                                    # Scientific computing\n",
    "import matplotlib.pyplot as plt  # type: ignore                                       # Data visualization\n",
    "from scipy.stats import binom as binomial  # type: ignore                             # Binomial distribution\n",
    "from scipy.stats import norm as normal  # type: ignore                                # Normal distribution\n",
    "from scipy.stats import poisson as poisson  # type: ignore                            # Poisson distribution\n",
    "from scipy.stats import t as student  # type: ignore                                  # Student distribution\n",
    "from scipy.stats import chi2  # type: ignore                                          # Chi-squared distribution\n",
    "from scipy.stats import ttest_1samp  # type: ignore                                   # One-sample t-test\n",
    "from scipy.stats import chisquare  # type: ignore                                     # Chi-squared test\n",
    "from scipy.special import comb  # type: ignore                                        # Combinations\n",
    "from mlxtend.frequent_patterns import apriori  # type: ignore                         # Apriori algorithm\n",
    "from mlxtend.frequent_patterns import fpgrowth  # type: ignore                        # FP-growth algorithm\n",
    "from mlxtend.frequent_patterns import association_rules  # type: ignore               # Association rules\n",
    "from mlxtend.preprocessing import TransactionEncoder  # type: ignore                  # Transaction encoder\n",
    "from sklearn.discriminant_analysis import LinearDiscriminantAnalysis  # type: ignore  # Discriminant Analysis\n",
    "from tensorflow import keras  # type: ignore                                          # Deep Learning library\n",
    "from tensorflow.keras import Model  # type: ignore                                    # Model class\n",
    "from tensorflow.keras.layers import Input, Dense, BatchNormalization  # type: ignore  # Layers\n",
    "from tensorflow.keras.utils import to_categorical  # type: ignore                     # One-hot encoding\n",
    "from tensorflow. keras.optimizers import Adam  # type: ignore                         # Optimizer\n",
    "from livelossplot import PlotLossesKeras  # type: ignore                              # Live plot\n",
    "from keras.src.optimizers import RMSprop  # type: ignore                              # Optimizer\n",
    "from sklearn.model_selection import train_test_split  # type: ignore                  # Train-test split\n",
    "from simanneal import Annealer  # type: ignore                                        # Simulated Annealing\n",
    "import warnings  # type: ignore                                                       # Disable warnings\n",
    "from Resources.Functions import *  # type: ignore                                     # Custom functions\n",
    "warnings.filterwarnings(\"ignore\")"
   ],
   "metadata": {
    "collapsed": false,
    "ExecuteTime": {
     "end_time": "2024-05-15T12:50:06.396790Z",
     "start_time": "2024-05-15T12:50:06.382849Z"
    }
   },
   "id": "1796a7e3a7232f25",
   "outputs": [],
   "execution_count": 2
  },
  {
   "metadata": {},
   "cell_type": "markdown",
   "source": [
    "# Guidelines\n",
    "- To solve the problems below, always use simulated annealing and genetic algorithms. So you always provide two solutions. If you have the Tabu search Once implemented, you can even develop a third solution.\n",
    "- You always have to write a cost function (objective function) yourself that is focused on the problem. You can reuse the cost function for the Simulated Annealing for the genetic algorithms. Note how the objective function should be optimized. You can - if necessary - add a minus sign and/or use rounding.\n",
    "- Don't forget to also write a function that identifies other solution(s) somewhere in the solution space (e.g. random) or near the current solution(s).\n",
    "- Experiment with some parameters such as the chance of crossover, or mutation in genetics algorithms.\n",
    "- In some assignments it is best to also provide lower and upper limits (lower and upper)."
   ],
   "id": "280f55c7e3a3b9ed"
  },
  {
   "cell_type": "markdown",
   "source": [
    "## Theoretical questions"
   ],
   "metadata": {
    "collapsed": false
   },
   "id": "d66cd879508e8eb4"
  },
  {
   "metadata": {},
   "cell_type": "markdown",
   "source": "### Question 0: Simulated Annealing",
   "id": "c5c2eee58fd939a3"
  },
  {
   "metadata": {
    "ExecuteTime": {
     "end_time": "2024-05-15T13:03:58.231710Z",
     "start_time": "2024-05-15T13:03:56.823554Z"
    }
   },
   "cell_type": "code",
   "source": [
    "class RastriginProblem(Annealer):\n",
    "    def energy(self):\n",
    "        x1 = self.state[0]\n",
    "        x2 = self.state[1]\n",
    "        sum = 10 * 2 + x1**2 + x2**2\n",
    "        sum = sum - 10 * math.cos(2 * math.pi * x1) - 10 * math.cos(2 * math.pi * x2)\n",
    "        return sum # Maximize = return -sum\n",
    "\n",
    "    def move(self):\n",
    "        i = np.random.randint(0,2) # Randomly select a dimension (between 0 and 1)\n",
    "        self.state[i] += np.random.normal(0, 0.1)\n",
    "        self.state[i] = np.clip(self.state[i], -5.12, 5.12)\n",
    "\n",
    "init_sol =  np.random.uniform(-5.12,5.12, size=2)\n",
    "rastrigin = RastriginProblem(init_sol)\n",
    "\n",
    "rastrigin.Tmax = 25000.0                # Max (starting) temperature\n",
    "rastrigin.Tmin = 2.5                    # Min (ending) temperature\n",
    "rastrigin.updates = 10                  # Number of updates (On the screen)\n",
    "rastrigin.steps = 100000                # Number of iterations\n",
    "opt_sol = rastrigin.anneal()            # Start the annealing\n",
    "\n",
    "print(opt_sol)"
   ],
   "id": "e91f031222e05f87",
   "outputs": [
    {
     "name": "stderr",
     "output_type": "stream",
     "text": [
      " Temperature        Energy    Accept   Improve     Elapsed   Remaining\n",
      "\r    2.50000         11.14    72.28%    36.38%     0:00:01     0:00:00"
     ]
    },
    {
     "name": "stdout",
     "output_type": "stream",
     "text": [
      "(array([ 0.00197505, -0.01038512]), 0.02216305119366524)\n"
     ]
    }
   ],
   "execution_count": 15
  },
  {
   "metadata": {},
   "cell_type": "markdown",
   "source": "### Question 0: Traveling Salesman",
   "id": "1be717d4cda0d2a7"
  },
  {
   "metadata": {
    "ExecuteTime": {
     "end_time": "2024-05-15T13:00:21.481453Z",
     "start_time": "2024-05-15T13:00:21.464956Z"
    }
   },
   "cell_type": "code",
   "source": [
    "# Matrix where the distances between the cities are stored (The matrix is symmetric)\n",
    "distance_matrix = np.array([[0, 100, 125, 100,  75],\n",
    "                            [100, 0,  50,  75, 100],\n",
    "                            [125, 50,  0, 100, 125],\n",
    "                            [100, 75, 100,   0, 50],\n",
    "                            [75, 100, 125,  50,  0]])"
   ],
   "id": "14142f0ff4d06031",
   "outputs": [],
   "execution_count": 12
  },
  {
   "metadata": {
    "ExecuteTime": {
     "end_time": "2024-05-15T13:00:23.978998Z",
     "start_time": "2024-05-15T13:00:22.987953Z"
    }
   },
   "cell_type": "code",
   "source": [
    "class TravellingSalesmanProblem(Annealer):\n",
    "    def move(self): # Swaps two cities in the route.\n",
    "        a = np.random.randint(0, len(self.state) - 1)\n",
    "        b = np.random.randint(0, len(self.state) - 1)\n",
    "        self.state[a], self.state[b] = self.state[b], self.state[a]\n",
    "        \n",
    "    def energy(self): # Calculates the length of the route.\n",
    "        dist = 0\n",
    "        for i in range(len(self.state)):\n",
    "            dist += distance_matrix[self.state[i - 1], self.state[i]]\n",
    "        return dist\n",
    "\n",
    "initial_state = [0, 4, 1, 3, 2]\n",
    "tsp = TravellingSalesmanProblem(initial_state)\n",
    "route, distance = tsp.anneal()\n",
    "route, distance"
   ],
   "id": "156f172784fa934c",
   "outputs": [
    {
     "name": "stderr",
     "output_type": "stream",
     "text": [
      " Temperature        Energy    Accept   Improve     Elapsed   Remaining\n",
      "     2.50000        375.00    36.20%     0.00%     0:00:01     0:00:00\r"
     ]
    },
    {
     "data": {
      "text/plain": [
       "([3, 4, 0, 1, 2], 375)"
      ]
     },
     "execution_count": 13,
     "metadata": {},
     "output_type": "execute_result"
    }
   ],
   "execution_count": 13
  },
  {
   "metadata": {},
   "cell_type": "markdown",
   "source": [
    "### Question 1: De rugzak\n",
    "Je bevindt je in een **geheime kamer** die uitgerust is met een deur met **tijdslot**. Je ziet een timer aftellen die meldt dat je nog maar vijf minuten over het voordat de deur voor altijd op slot zal zijn. Voor je neus liggen **waardevolle voorwerpen** met elk hun eigen **opbrengst en gewicht**. Je hebt een rugzak bij die een absoluut maximaal gewicht kan torsen van 750gr. Op **Canvas** vind je de lijst van voorwerpen met hun gewicht en opbrengst. Stel de optimale rugzak samen. Je zou op een optimale opbrengst van 1458 moeten uitkomen (of toch zeker een waarde dicht daarbij in de buurt)."
   ],
   "id": "fe1f95ab76ee580e"
  },
  {
   "metadata": {
    "ExecuteTime": {
     "end_time": "2024-05-15T08:18:26.960486Z",
     "start_time": "2024-05-15T08:18:26.955486Z"
    }
   },
   "cell_type": "code",
   "source": "",
   "id": "c0a73d28ca088254",
   "outputs": [],
   "execution_count": 7
  },
  {
   "metadata": {},
   "cell_type": "markdown",
   "source": [
    "### Question 2: De dakgoten\n",
    "Je bent belast met het ontwerp van dakgoten waarbij de productiekost zo laag mogelijk moet zijn. Daarom is het noodzakelijk dat de dakgoten een zo optimale doorsnede hebben met het beschikbare materiaal zodat bladeren en vuil makkelijk afgevoerd kunnen worden. Het bedrijf waarvoor je werkt, koopt **metalen platen** aan die een breedte hebben van `1m. M.a.w. H + B + H` -zie tekening- moet kleiner of gelijk zijn aan `1m`. Bepaal de **ideale `breedte B` en `hoogte H`** van de dakgoot die je uit de platen van `1m` kan maken.\n",
    "\n",
    "![Gutter](Images/gutter.png)"
   ],
   "id": "9976ef5eea85abba"
  },
  {
   "metadata": {
    "ExecuteTime": {
     "end_time": "2024-05-15T08:18:26.976625Z",
     "start_time": "2024-05-15T08:18:26.963482Z"
    }
   },
   "cell_type": "code",
   "source": "",
   "id": "7e5cbb4bd86ed8e1",
   "outputs": [],
   "execution_count": 7
  },
  {
   "metadata": {},
   "cell_type": "markdown",
   "source": [
    "### Question 3: Het voetbalstadion\n",
    "De plaatselijke sportclub wil een nieuw stadion bouwen. De omtrek van het sportveld moet `400m` bedragen, en tegelijkertijd willen we ervoor zorgen dat het centrale middenveld een maximale oppervlakte heeft. Bepaal de ideale lengte –en breedteverhouding.\n",
    "\n",
    "![Football Stadium](Images/footballStadium.png)"
   ],
   "id": "8dcce8d70aac0bac"
  },
  {
   "metadata": {
    "ExecuteTime": {
     "end_time": "2024-05-15T08:18:26.991878Z",
     "start_time": "2024-05-15T08:18:26.977632Z"
    }
   },
   "cell_type": "code",
   "source": "",
   "id": "7576d7d60ea7a0c8",
   "outputs": [],
   "execution_count": 7
  },
  {
   "metadata": {},
   "cell_type": "markdown",
   "source": [
    "### Vraag 4: Optimalisatie\n",
    "\n",
    "Gegeven volgende te maximaliseren doelfunctie:\n",
    "\n",
    "\n",
    "$ obj = 0.2 + x_1^2 + x_2^2 - 0.1 \\cos(6\\pi x_1) - 0.1 \\cos(6\\pi x_2) $\n",
    "\n",
    "\n",
    "Met volgende beperkingen: $-1.0 \\leq x_i \\leq 1.0$ met $i=1,2$\n",
    "\n",
    "Zoek een goede oplossing."
   ],
   "id": "cbbb2930e5856c1d"
  },
  {
   "metadata": {
    "ExecuteTime": {
     "end_time": "2024-05-15T13:16:53.573535Z",
     "start_time": "2024-05-15T13:16:52.452220Z"
    }
   },
   "cell_type": "code",
   "source": [
    "class XProblem(Annealer):\n",
    "    def energy(self):\n",
    "        x = self.state[0]\n",
    "        y = self.state[1]\n",
    "        return -(0.2 + x**2 + y**2 - 0.1 * math.cos(6 * math.pi * x) - 0.1 * math.cos(6 * math.pi * y))\n",
    "\n",
    "    def move(self):\n",
    "        i = np.random.randint(0,2)\n",
    "        self.state[i] += np.random.normal(0, 0.1)\n",
    "        self.state[i] = np.clip(self.state[i], -1, 1)\n",
    "\n",
    "print(XProblem(np.random.uniform(-1,1, size=2)).anneal())"
   ],
   "id": "1c22172c060755b4",
   "outputs": [
    {
     "name": "stderr",
     "output_type": "stream",
     "text": [
      " Temperature        Energy    Accept   Improve     Elapsed   Remaining\n",
      "     2.50000         -1.46    97.60%    44.60%     0:00:01     0:00:00\r"
     ]
    },
    {
     "name": "stdout",
     "output_type": "stream",
     "text": [
      "(array([-1.,  1.]), -2.0)\n"
     ]
    }
   ],
   "execution_count": 24
  },
  {
   "metadata": {},
   "cell_type": "markdown",
   "source": [
    "### Question 5: Quiz\n",
    "\n",
    "1. Hebben bovengemiddelde chromosomen altijd een beter nageslacht? \n",
    "2. Kan je met cross-over de hele zoekruimte verkennen? Zijn er beperkingen van deze verkenning? \n",
    "3. Waarom speelt de kans op mutatie een belangrijke rol? \n",
    "4. Waarom start je bij Simulated Annealing het best met een gerandomiseerde vector?\n",
    "5. Waarom moet de temperatuur bij simulated annealing afnemen?"
   ],
   "id": "85679458cdb42976"
  },
  {
   "metadata": {
    "ExecuteTime": {
     "end_time": "2024-05-15T08:18:27.022630Z",
     "start_time": "2024-05-15T08:18:27.009733Z"
    }
   },
   "cell_type": "code",
   "source": "",
   "id": "19b20b97f96e8fcb",
   "outputs": [],
   "execution_count": 7
  }
 ],
 "metadata": {
  "kernelspec": {
   "display_name": "Python 3",
   "language": "python",
   "name": "python3"
  },
  "language_info": {
   "codemirror_mode": {
    "name": "ipython",
    "version": 2
   },
   "file_extension": ".py",
   "mimetype": "text/x-python",
   "name": "python",
   "nbconvert_exporter": "python",
   "pygments_lexer": "ipython2",
   "version": "2.7.6"
  }
 },
 "nbformat": 4,
 "nbformat_minor": 5
}

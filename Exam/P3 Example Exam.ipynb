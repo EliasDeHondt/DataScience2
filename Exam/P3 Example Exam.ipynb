{
 "cells": [
  {
   "cell_type": "markdown",
   "source": [
    "# P3 Example Exam"
   ],
   "metadata": {
    "collapsed": false
   },
   "id": "fed765dbf2e6f800"
  },
  {
   "cell_type": "code",
   "execution_count": 57,
   "id": "initial_id",
   "metadata": {
    "collapsed": true,
    "ExecuteTime": {
     "end_time": "2024-03-24T14:54:46.418416Z",
     "start_time": "2024-03-24T14:54:46.398991Z"
    }
   },
   "outputs": [],
   "source": [
    "import math                                                   # Mathematical functions\n",
    "import pandas as pd                                           # Data manipulation\n",
    "import numpy as np                                            # Scientific computing\n",
    "import matplotlib.pyplot as plt                               # Data visualization\n",
    "from scipy.stats import binom as binomial                     # Binomial distribution\n",
    "from scipy.stats import norm as normal                        # Normal distribution\n",
    "from scipy.stats import poisson as poisson                    # Poisson distribution\n",
    "from scipy.stats import t as student                          # Student distribution\n",
    "from scipy.stats import chi2                                  # Chi-squared distribution\n",
    "from scipy.stats import ttest_1samp                           # One-sample t-test\n",
    "from scipy.stats import chisquare                             # Chi-squared test\n",
    "from scipy.special import comb                                # Combinations\n",
    "from mlxtend.frequent_patterns import apriori                 # Apriori algorithm\n",
    "from mlxtend.frequent_patterns import fpgrowth                # FP-growth algorithm\n",
    "from mlxtend.frequent_patterns import association_rules       # Association rules\n",
    "from mlxtend.preprocessing import TransactionEncoder          # Transaction encoder"
   ]
  },
  {
   "cell_type": "code",
   "outputs": [],
   "source": [
    "def rule_filter(row, min_len, max_len):\n",
    "    length = len(row['antecedents']) + len(row['consequents'])\n",
    "    return min_len <= length <= max_len\n",
    "\n",
    "def get_item_list (string):\n",
    "    items = string [1:-1]\n",
    "    return items.split(';')\n",
    "\n",
    "def plot_confidence_interval(population_size, sample_mean, sample_standard_deviation, degrees_freedom, plot_factor):\n",
    "    margin_of_error = plot_factor * sample_standard_deviation / np.sqrt(population_size)\n",
    "    lower_bound = sample_mean - margin_of_error\n",
    "    upper_bound = sample_mean + margin_of_error\n",
    "\n",
    "    # Plotting the confidence interval\n",
    "    plt.figure(figsize=(10, 6))\n",
    "    x_axis = np.linspace(sample_mean - 3 * sample_standard_deviation, sample_mean + 3 * sample_standard_deviation, 1000)\n",
    "    y_axis = student.pdf(x_axis, degrees_freedom, loc=sample_mean, scale=sample_standard_deviation / np.sqrt(population_size))\n",
    "\n",
    "    plt.plot(x_axis, y_axis, label='t-distribution')\n",
    "    plt.axvline(lower_bound, color='red', linestyle='--', label='Lower Bound')\n",
    "    plt.axvline(upper_bound, color='blue', linestyle='--', label='Upper Bound')\n",
    "    plt.axvline(sample_mean, color='green', linestyle='-', label='Sample Mean')\n",
    "\n",
    "    # Mark the confidence interval\n",
    "    plt.fill_betweenx(y_axis, lower_bound, upper_bound, where=(x_axis >= lower_bound) & (x_axis <= upper_bound), color='orange', label='Confidence Interval')\n",
    "\n",
    "    plt.title('Confidence Interval Plot')\n",
    "    plt.xlabel('Sample Mean')\n",
    "    plt.ylabel('Probability Density Function')\n",
    "    plt.legend()\n",
    "    plt.grid(True)\n",
    "    plt.show()"
   ],
   "metadata": {
    "collapsed": false,
    "ExecuteTime": {
     "end_time": "2024-03-24T14:54:47.309808Z",
     "start_time": "2024-03-24T14:54:47.297338Z"
    }
   },
   "id": "4488dddd3e1aba7a",
   "execution_count": 58
  },
  {
   "cell_type": "markdown",
   "source": [
    "## Exercises Chance (Week 1)"
   ],
   "metadata": {
    "collapsed": false
   },
   "id": "68239ff2077dedb0"
  },
  {
   "cell_type": "markdown",
   "source": [
    "### Question 1:\n",
    "You roll `2 dice`.\n",
    "What is the probability that you roll a `5` and a `2`? (3 significant figures)"
   ],
   "metadata": {
    "collapsed": false
   },
   "id": "4a9ac19a59c6be17"
  },
  {
   "cell_type": "code",
   "outputs": [],
   "source": [],
   "metadata": {
    "collapsed": false,
    "ExecuteTime": {
     "end_time": "2024-03-24T14:54:47.341886Z",
     "start_time": "2024-03-24T14:54:47.328082Z"
    }
   },
   "id": "6b049d23b1745162",
   "execution_count": 58
  },
  {
   "cell_type": "markdown",
   "source": [
    "### Question 2:\n",
    "We have `2 dice`.\n",
    "-   1st: `3 yellow` areas and `3 red` areas.\n",
    "-   2nd: `5 yellow` areas and `1 red` area.\n",
    "\n",
    "What is the probability of having both a `yellow` and a `red` square?"
   ],
   "metadata": {
    "collapsed": false
   },
   "id": "51d90d5933d97d8b"
  },
  {
   "cell_type": "code",
   "outputs": [],
   "source": [],
   "metadata": {
    "collapsed": false,
    "ExecuteTime": {
     "end_time": "2024-03-24T14:54:47.405486Z",
     "start_time": "2024-03-24T14:54:47.401419Z"
    }
   },
   "id": "568cb1aa694e1ac4",
   "execution_count": 58
  },
  {
   "cell_type": "markdown",
   "source": [
    "### Question 3:\n",
    "A box contains `4 yellow`, `2 brown`, `1 orange`, `1 green` and `2 purple` marbles. We always draw without replacing. (2 significant figures each)\n",
    "- If we draw `4 marbles`, what is the probability that all marbles are `yellow`?\n",
    "- If we draw `2 marbles`, what is the probability of getting a `brown` and a `green` marble?\n",
    "- When we draw `1 marble`, what is the chance of getting an `orange` or a `green` marble?"
   ],
   "metadata": {
    "collapsed": false
   },
   "id": "62e4a396a5867928"
  },
  {
   "cell_type": "code",
   "outputs": [],
   "source": [],
   "metadata": {
    "collapsed": false,
    "ExecuteTime": {
     "end_time": "2024-03-24T14:54:47.451954Z",
     "start_time": "2024-03-24T14:54:47.438663Z"
    }
   },
   "id": "e27b9f007baccd7",
   "execution_count": 58
  },
  {
   "cell_type": "markdown",
   "source": [
    "### Question 4:\n",
    "For a group of `144 students`, `90` passed the \"OO Concepts\" exam and `60` for \"JavaFX\".\n",
    "Of the `90` who passed on \"OO concepts\", `30` also passed on \"JavaFX\".\n",
    "What is the probability that if we randomly select a student, they will have passed at least 1 of the 2 exams? (4 significant digits)"
   ],
   "metadata": {
    "collapsed": false
   },
   "id": "b7f4d69d328558e6"
  },
  {
   "cell_type": "code",
   "outputs": [],
   "source": [],
   "metadata": {
    "collapsed": false,
    "ExecuteTime": {
     "end_time": "2024-03-24T14:54:47.513193Z",
     "start_time": "2024-03-24T14:54:47.510197Z"
    }
   },
   "id": "451c0533c2636cf5",
   "execution_count": 58
  },
  {
   "cell_type": "markdown",
   "source": [
    "### Question 5:\n",
    "(C) In a group of `1000 students`, `400` regularly play computer games.\n",
    "(B) `200` regularly play board games.\n",
    "(C and B) There are `100` who regularly play computer games and board games.\n",
    "\n",
    "If you choose a random student, what are the chances that they regularly play games (computer or board)?"
   ],
   "metadata": {
    "collapsed": false
   },
   "id": "91bfdd15af1773b4"
  },
  {
   "cell_type": "code",
   "outputs": [],
   "source": [],
   "metadata": {
    "collapsed": false,
    "ExecuteTime": {
     "end_time": "2024-03-24T14:54:47.544517Z",
     "start_time": "2024-03-24T14:54:47.528852Z"
    }
   },
   "id": "98110bc26228f197",
   "execution_count": 58
  },
  {
   "cell_type": "markdown",
   "source": [
    "### Question 6:\n",
    "`70%` of students pass a \"Data Science 1\" exam. Of these, `50%` are day students and `50%` blended students. Of the participants, `60%` are day students and `40%` blended students. `1` random student is selected from the group each time. (2 significant figures each)\n",
    "\n",
    "- What is the chance of a successful student?\n",
    "- What is the probability of a day student, given that he or she is a successful student?\n",
    "- What are the chances of a successful day student?\n",
    "- What is the chance of a successful student, given that he or she is a day student?\n",
    "- What is the chance of a student failing, given that he or she is a day student?\n",
    "- What are the chances of a day student failing?"
   ],
   "metadata": {
    "collapsed": false
   },
   "id": "bb7efc8b027d57ce"
  },
  {
   "cell_type": "code",
   "outputs": [],
   "source": [],
   "metadata": {
    "collapsed": false,
    "ExecuteTime": {
     "end_time": "2024-03-24T14:54:47.559945Z",
     "start_time": "2024-03-24T14:54:47.548629Z"
    }
   },
   "id": "47d513e143575ad7",
   "execution_count": 58
  },
  {
   "cell_type": "markdown",
   "source": [
    "### Question 7:\n",
    "`3 men` go to a party and wear exactly the same jackets. They hang their coats on the coat rack and then get very drunk.\n",
    "At the end, each man takes a coat without looking at which one. What are the chances that everyone will take their own coat?"
   ],
   "metadata": {
    "collapsed": false
   },
   "id": "501242d36d98d3c3"
  },
  {
   "cell_type": "code",
   "outputs": [],
   "source": [],
   "metadata": {
    "collapsed": false,
    "ExecuteTime": {
     "end_time": "2024-03-24T14:54:47.623765Z",
     "start_time": "2024-03-24T14:54:47.619765Z"
    }
   },
   "id": "84ec1890668aab07",
   "execution_count": 58
  },
  {
   "cell_type": "markdown",
   "source": [
    "### Question 8:\n",
    "If it rains heavily, there is a `50%` chance that my basement will flood. It rains heavily on average `35 days per year` and my basement floods `20 days per year` (even sometimes when it is not raining hard).\n",
    "If my basement is flooded, what are the chances that it is because it is raining heavily?"
   ],
   "metadata": {
    "collapsed": false
   },
   "id": "7880909fa2159799"
  },
  {
   "cell_type": "code",
   "outputs": [],
   "source": [],
   "metadata": {
    "collapsed": false,
    "ExecuteTime": {
     "end_time": "2024-03-24T14:54:47.701682Z",
     "start_time": "2024-03-24T14:54:47.687547Z"
    }
   },
   "id": "fcb7f63146f00602",
   "execution_count": 58
  },
  {
   "cell_type": "markdown",
   "source": [
    "### Question 9:\n",
    "`90%` of PCs use Windows. If a PC crashes, you are `99.9%` sure it is running Windows. The chance that a PC will crash (regardless of the operating system) is `0.01`.\n",
    "\n",
    "What are the chances of a PC crashing if you know it is running Windows?"
   ],
   "metadata": {
    "collapsed": false
   },
   "id": "84b80bd09a49b909"
  },
  {
   "cell_type": "code",
   "outputs": [],
   "source": [],
   "metadata": {
    "collapsed": false,
    "ExecuteTime": {
     "end_time": "2024-03-24T14:54:47.732643Z",
     "start_time": "2024-03-24T14:54:47.724477Z"
    }
   },
   "id": "4018ae53a206295a",
   "execution_count": 58
  },
  {
   "cell_type": "markdown",
   "source": [
    "### Question 10:\n",
    "In 1988 there was discussion about introducing mandatory AIDS testing. A very reliable test has been developed that achieves the following results:\n",
    "- `P(positive | infected) = 0.999`\n",
    "- `P(negative | not infected) = 0.99`\n",
    "\n",
    "It is estimated that `0.60%` of people are carriers of the virus.\n",
    "What are the chances that someone is actually infected if you know the test is positive? Do you see why the mandatory test was not introduced?"
   ],
   "metadata": {
    "collapsed": false
   },
   "id": "be6d9bee0b7332ce"
  },
  {
   "cell_type": "code",
   "outputs": [],
   "source": [],
   "metadata": {
    "collapsed": false,
    "ExecuteTime": {
     "end_time": "2024-03-24T14:54:47.794362Z",
     "start_time": "2024-03-24T14:54:47.780309Z"
    }
   },
   "id": "c19d364dc9edfac3",
   "execution_count": 58
  },
  {
   "cell_type": "markdown",
   "source": [
    "### Question 11:\n",
    "A program was written that determines when a text is interesting for a reader.\n",
    "The program has already been trained and the following values were noted:\n",
    "`1642 texts` were analyzed by hand. `46` of the texts were identified as interesting. A map was made of words and the number of times they occurred as well as the number of times they occurred in interesting texts.\n",
    "We now get the following text:\n",
    "    \n",
    "`\"This is a text to see if it will be judged as interesting.\"`\n",
    "\n",
    "The folder contains the following values for these words:\n",
    "\n",
    "    | Word        | Frequency  | Freq in interesting texts    |\n",
    "    |-------------|------------|------------------------------|\n",
    "    | dit         | 1368       | 40                           |\n",
    "    | is          | 1642       | 46                           |\n",
    "    | een         | 1642       | 46                           |\n",
    "    | tekst       | 159        | 1                            |\n",
    "    | om          | 1480       | 24                           |\n",
    "    | te          | 1574       | 38                           |\n",
    "    | kijken      | 947        | 11                           |\n",
    "    | of          | 1642       | 35                           |\n",
    "    | deze        | 1608       | 46                           |\n",
    "    | als         | 1576       | 39                           |\n",
    "    | interessant | 156        | 2                            |\n",
    "    | zal         | 1387       | 46                           |\n",
    "    | worden      | 1589       | 14                           |\n",
    "    | beoordeeld  | 176        | 1                            |\n",
    "What is the probability that this text is an interesting text, according to the algorithm seen? Is this chance big or small?"
   ],
   "metadata": {
    "collapsed": false
   },
   "id": "c3495804fffe5edd"
  },
  {
   "cell_type": "code",
   "outputs": [],
   "source": [],
   "metadata": {
    "collapsed": false,
    "ExecuteTime": {
     "end_time": "2024-03-24T14:54:47.825057Z",
     "start_time": "2024-03-24T14:54:47.807234Z"
    }
   },
   "id": "cdecafbe1d0ed93f",
   "execution_count": 58
  },
  {
   "cell_type": "markdown",
   "source": [
    "## Exercises Probability Distributions (Week 2)"
   ],
   "metadata": {
    "collapsed": false
   },
   "id": "55123662f6538e02"
  },
  {
   "cell_type": "markdown",
   "source": [
    "### Question 1:\n",
    "Luna rolls a die `4` times (answer with `4` significant figures):\n",
    "- What is the probability of exactly one `6`?\n",
    "- What is the probability of getting four sixes?\n",
    "- What is the probability of `2` rolls below `3` and `2` rolls `3` or higher?\n"
   ],
   "metadata": {
    "collapsed": false
   },
   "id": "5e0aca6a34827f49"
  },
  {
   "cell_type": "code",
   "outputs": [],
   "source": [],
   "metadata": {
    "collapsed": false,
    "ExecuteTime": {
     "end_time": "2024-03-24T14:54:47.840264Z",
     "start_time": "2024-03-24T14:54:47.832009Z"
    }
   },
   "id": "171f931d68e132b2",
   "execution_count": 58
  },
  {
   "cell_type": "markdown",
   "source": [
    "### Question 2:\n",
    "`6` Applied Computer Science students must take an `English` test. The probability of passing the exam `0.75`.\n",
    "- What is the probability that exactly `4` of them will succeed?\n",
    "- What is the probability that exactly `5` of them will succeed?\n",
    "- What is the probability that exactly `6` of them will succeed?\n",
    "- What is the probability that less than `4` of them will succeed?"
   ],
   "metadata": {
    "collapsed": false
   },
   "id": "b2a32a3d1654ee77"
  },
  {
   "cell_type": "code",
   "outputs": [],
   "source": [],
   "metadata": {
    "collapsed": false,
    "ExecuteTime": {
     "end_time": "2024-03-24T14:54:47.902443Z",
     "start_time": "2024-03-24T14:54:47.888929Z"
    }
   },
   "id": "a26566e337190196",
   "execution_count": 58
  },
  {
   "cell_type": "markdown",
   "source": [
    "### Question 3:\n",
    "On the way to the school, you pass `6` traffic lights. Unfortunately, these are not synchronized at all. They work completely independently of each other. The traffic lights are red approximately `40%` of the time.\n",
    "- What is the probability that you don't see a single red light on the road?\n",
    "- What is the probability that all traffic lights are red?\n",
    "- What is the probability of encountering more than `2` lights on red?\n",
    "- If you know that you lose an average of `2` minutes per red light. How much time do you expect to lose on average on a route?\n"
   ],
   "metadata": {
    "collapsed": false
   },
   "id": "fb47de341fbfa734"
  },
  {
   "cell_type": "code",
   "outputs": [],
   "source": [],
   "metadata": {
    "collapsed": false,
    "ExecuteTime": {
     "end_time": "2024-03-24T14:54:47.933547Z",
     "start_time": "2024-03-24T14:54:47.920969Z"
    }
   },
   "id": "3ba3bcc2e1300aef",
   "execution_count": 58
  },
  {
   "cell_type": "markdown",
   "source": [
    "### Question 4:\n",
    "If you cycle to school, you will have a flat tire on average `2` a year.\n",
    "- What is the probability that you will not have a flat tire in a given year?\n",
    "- What is the probability that you will have more than `3` flat tires in a year?\n",
    "- What is the probability that you will have `2` flat tires in `1` month?"
   ],
   "metadata": {
    "collapsed": false
   },
   "id": "4903b029b181d13c"
  },
  {
   "cell_type": "code",
   "outputs": [],
   "source": [],
   "metadata": {
    "collapsed": false,
    "ExecuteTime": {
     "end_time": "2024-03-24T14:54:47.996136Z",
     "start_time": "2024-03-24T14:54:47.991136Z"
    }
   },
   "id": "8c5a9fe1dab75fd0",
   "execution_count": 58
  },
  {
   "cell_type": "markdown",
   "source": [
    "### Question 5:\n",
    "A user receives an average of `20` emails per day. One day he gets `100` and wonders if this is still normal.\n",
    "- What is the probability that he will receive more than `100` emails in one day?\n",
    "- What is the probability that he will get more than `30` in one day?\n",
    "- What is the probability that he will get exactly `20` in one day?\n",
    "- What is the probability that he will get `10` or less in a day?\n",
    "- What is the probability that he will get `650` or less in a month (`30` days)?"
   ],
   "metadata": {
    "collapsed": false
   },
   "id": "d53134d04db1b310"
  },
  {
   "cell_type": "code",
   "outputs": [],
   "source": [],
   "metadata": {
    "collapsed": false,
    "ExecuteTime": {
     "end_time": "2024-03-24T14:54:48.027504Z",
     "start_time": "2024-03-24T14:54:48.014507Z"
    }
   },
   "id": "4e7b7c7201d2aefa",
   "execution_count": 58
  },
  {
   "cell_type": "markdown",
   "source": [
    "### Question 6:\n",
    "An average of `3.5` bitcoin transactions are carried out per second. However, the maximum number of transactions the network can process is `7` per second.\n",
    "- What is the probability that more than `7` transactions need to be executed during one second?\n",
    "- What is the probability that there is no transaction for one second?\n",
    "- What is the probability that there are `3` or fewer transactions during a second?\n",
    "- What is the probability that there are `2` or more transactions during a second?\n",
    "- How many transactions do you expect in a day?"
   ],
   "metadata": {
    "collapsed": false
   },
   "id": "a06a63059f934f1b"
  },
  {
   "cell_type": "code",
   "outputs": [],
   "source": [],
   "metadata": {
    "collapsed": false,
    "ExecuteTime": {
     "end_time": "2024-03-24T14:54:48.105355Z",
     "start_time": "2024-03-24T14:54:48.088356Z"
    }
   },
   "id": "5b7152f89b9cd0ef",
   "execution_count": 58
  },
  {
   "cell_type": "markdown",
   "source": [
    "### Question 7:\n",
    "A test consists of `40` questions and the average difficulty of the questions is `0.85` (the probability of a correct answer is `0.85`). Students receive `1` point per question. Which of the following values are the correct-expected value and standard deviation of the score on this test?\n",
    "- µ=34 and ơ=2.26\n",
    "- µ=29 and ơ=2.26\n",
    "- µ=34 and ơ=5.10\n",
    "- µ=29 and ơ=5.10"
   ],
   "metadata": {
    "collapsed": false
   },
   "id": "7ac84168f6445421"
  },
  {
   "cell_type": "code",
   "outputs": [],
   "source": [],
   "metadata": {
    "collapsed": false,
    "ExecuteTime": {
     "end_time": "2024-03-24T14:54:48.120507Z",
     "start_time": "2024-03-24T14:54:48.111432Z"
    }
   },
   "id": "8d4b1ba62d59b83b",
   "execution_count": 58
  },
  {
   "cell_type": "markdown",
   "source": [
    "### Question 8:\n",
    "Voor de standaardNormal distribution, wat zijn de volgende kansen?\n",
    "- P(Z ≥ +1.64)\n",
    "- P(Z ≥ -1.32)\n",
    "- P(Z ≤ -0.18)\n",
    "- P(Z ≤ +1.28)\n",
    "- P(0.45 ≤ Z ≤ 0.92)\n",
    "- P(-0.72 ≤ Z ≤ -0.38)\n"
   ],
   "metadata": {
    "collapsed": false
   },
   "id": "f3c2858310b34632"
  },
  {
   "cell_type": "code",
   "outputs": [],
   "source": [],
   "metadata": {
    "collapsed": false,
    "ExecuteTime": {
     "end_time": "2024-03-24T14:54:48.198156Z",
     "start_time": "2024-03-24T14:54:48.188953Z"
    }
   },
   "id": "dce1c9acfcd72279",
   "execution_count": 58
  },
  {
   "cell_type": "markdown",
   "source": [
    "### Question 9:\n",
    "In a class, the average hair length is normally distributed `µ=20cm` and `ơ=4`. What are the next opportunities?\n",
    "- The probability that someone's hair is longer than `28cm`\n",
    "- The chance that someone's hair is shorter than `16cm`\n",
    "- The chance that someone has hair between `18cm` and `22cm`"
   ],
   "metadata": {
    "collapsed": false
   },
   "id": "f30847c30d8d4182"
  },
  {
   "cell_type": "code",
   "outputs": [],
   "source": [],
   "metadata": {
    "collapsed": false,
    "ExecuteTime": {
     "end_time": "2024-03-24T14:54:48.275790Z",
     "start_time": "2024-03-24T14:54:48.267536Z"
    }
   },
   "id": "d370c8e909261919",
   "execution_count": 58
  },
  {
   "cell_type": "markdown",
   "source": [
    "### Question 10:\n",
    "We are building a website with a competition with different questions. The scores for the match are normally distributed with `µ=50` and `ơ=5`.\n",
    "- What is the probability that a randomly selected score on this match is lower than `40`?\n",
    "- What is the probability that a randomly selected score on this match falls between `42` and `52`?\n",
    "- Anyone who achieves a score higher than `58.75` will receive a special prize with a mention in the newspaper. If `75` people participate, how many will win a special prize?"
   ],
   "metadata": {
    "collapsed": false
   },
   "id": "f2baae7ba2e0f573"
  },
  {
   "cell_type": "code",
   "outputs": [],
   "source": [],
   "metadata": {
    "collapsed": false,
    "ExecuteTime": {
     "end_time": "2024-03-24T14:54:48.306406Z",
     "start_time": "2024-03-24T14:54:48.297497Z"
    }
   },
   "id": "4d7f0c9bf30e99a7",
   "execution_count": 58
  },
  {
   "cell_type": "markdown",
   "source": [
    "### Question 11:\n",
    "In an IQ test, the expected value is 100 (normally distributed). In Antwerp the standard deviation is `15`, in Ghent it is `18`.\n",
    "- What is the probability that someone in Antwerp has an IQ greater than `120`?\n",
    "- With what IQ do you belong to the people in Antwerp who have the `16%` lowest scores?\n",
    "- What IQ (or more) do the `5%` smartest people in Ghent have?\n",
    "- What is the ratio of Antwerp residents to Ghent residents for scores above `130`?\n",
    "    1. `1:1`\n",
    "    2. `1:2`\n",
    "    3. `1:3`\n",
    "    4. `5:6`"
   ],
   "metadata": {
    "collapsed": false
   },
   "id": "113faba43a0c62c2"
  },
  {
   "cell_type": "code",
   "outputs": [],
   "source": [],
   "metadata": {
    "collapsed": false,
    "ExecuteTime": {
     "end_time": "2024-03-24T14:54:48.353112Z",
     "start_time": "2024-03-24T14:54:48.348074Z"
    }
   },
   "id": "292f3448b1e88aa7",
   "execution_count": 58
  },
  {
   "cell_type": "markdown",
   "source": [
    "### Question 12:\n",
    "Research has shown that the lifespan of lamps is normally distributed. A certain type of lamps has a lifespan of `500` hours, with a standard deviation of `100` hours. A chain store purchases `50,000` lamps of this type.\n",
    "- How many of these lamps burn for longer than `400` hours?\n",
    "- How many of these lamps have a lifespan between `400` and `700` hours?\n",
    "- How many of these lamps have a lifespan of less than `600` hours?"
   ],
   "metadata": {
    "collapsed": false
   },
   "id": "2d14a563da92b61e"
  },
  {
   "cell_type": "code",
   "outputs": [],
   "source": [],
   "metadata": {
    "collapsed": false,
    "ExecuteTime": {
     "end_time": "2024-03-24T14:54:48.399323Z",
     "start_time": "2024-03-24T14:54:48.382119Z"
    }
   },
   "id": "e9d8d3edc500a78b",
   "execution_count": 58
  },
  {
   "cell_type": "markdown",
   "source": [
    "### Question 13:\n",
    "In a simple competition on the website, `8` out of `10` people give the correct answer.\n",
    "- What is the probability that at least `55` participants from a random sample of `60` people answered correctly (`2` significant figures)?"
   ],
   "metadata": {
    "collapsed": false
   },
   "id": "323f7eace693af8"
  },
  {
   "cell_type": "code",
   "outputs": [],
   "source": [],
   "metadata": {
    "collapsed": false,
    "ExecuteTime": {
     "end_time": "2024-03-24T14:54:48.446198Z",
     "start_time": "2024-03-24T14:54:48.441050Z"
    }
   },
   "id": "1fd1182ab0a2a389",
   "execution_count": 58
  },
  {
   "cell_type": "markdown",
   "source": [
    "### Question 14:\n",
    "A new machine makes processors completely autonomously. Only `2/5` processors meet the quality standard.\n",
    "- We take `10` processors made by this machine. What is the probability that fewer than `2` are correct?\n",
    "- We take `100` processors made by this machine. What is the probability that fewer than `20` are correct?\n",
    "- Both questions above ask for less than `20%` of the total number of processors. What difference do you notice? What could be the cause?"
   ],
   "metadata": {
    "collapsed": false
   },
   "id": "37c26f4d2091b510"
  },
  {
   "cell_type": "code",
   "outputs": [],
   "source": [],
   "metadata": {
    "collapsed": false,
    "ExecuteTime": {
     "end_time": "2024-03-24T14:54:48.493078Z",
     "start_time": "2024-03-24T14:54:48.476753Z"
    }
   },
   "id": "a61f321cc9edf6e3",
   "execution_count": 58
  },
  {
   "cell_type": "markdown",
   "source": [
    "### Question 15:\n",
    "Many things can go wrong during a laptop exam. We know that a computer running Windows has a `2%` chance of crashing during the exam. For Mac OSX it is `0.2%` and for Linux it is `0.1%`. Suppose a class of `40` students comes to take an exam.\n",
    "\n",
    "#### Situation 1: Everyone runs Windows:\n",
    "- What is the expected number of crashes during the exam?\n",
    "- What is the chance that `1` computer will crash during the exam?\n",
    "- What is the chance that `2` computers will crash during the exam?\n",
    "\n",
    "#### Situation 2: 10 students run Windows, 10 students run Mac OSX and 20 run Linux\n",
    "- What is the expected number of crashes during the exam?\n",
    "- What is the chance that `1` computer will crash during the exam?\n",
    "- What is the chance that `2` computers will crash during the exam?"
   ],
   "metadata": {
    "collapsed": false
   },
   "id": "69e246fd4c57a5a4"
  },
  {
   "cell_type": "code",
   "outputs": [],
   "source": [],
   "metadata": {
    "collapsed": false,
    "ExecuteTime": {
     "end_time": "2024-03-24T14:54:48.539886Z",
     "start_time": "2024-03-24T14:54:48.537834Z"
    }
   },
   "id": "b66a59d520f6e531",
   "execution_count": 58
  },
  {
   "cell_type": "markdown",
   "source": [
    "### Question 16:\n",
    "In a textile factory, rolls of fabric are produced with a length of `50` meters per roll. The number of weaving errors per roll is Poisson distributed with an associated expectation value of `1` weaving error per roll. During the qualitative inspection of the rolls of fabric, they are separated into rolls of `A quality` (with `0` or `1` weaving defect per roll) and rolls of `B quality` (with two or more weaving defects per roll).\n",
    "- Calculate the probability that a random role will receive the designation `B quality`.\n",
    "- The production volume per day is equal to `2000` meters of fabric. What is the probability that at least `30` rolls of `A quality` are made on any given day?"
   ],
   "metadata": {
    "collapsed": false
   },
   "id": "1cece5e850a8597f"
  },
  {
   "cell_type": "code",
   "outputs": [],
   "source": [],
   "metadata": {
    "collapsed": false,
    "ExecuteTime": {
     "end_time": "2024-03-24T14:54:48.570366Z",
     "start_time": "2024-03-24T14:54:48.554362Z"
    }
   },
   "id": "95c5fe0ed990cd86",
   "execution_count": 58
  },
  {
   "cell_type": "markdown",
   "source": [
    "### Question 17:\n",
    "An IT service desk receives an average of `10` service requests per hour.\n",
    "- Calculate the probability that more than `15` service requests will be received in an hour.\n",
    "- Calculate the probability that at least `10` but no more than `15` service requests will be received.\n",
    "- Calculate the probability that no service requests will be received for fifteen minutes."
   ],
   "metadata": {
    "collapsed": false
   },
   "id": "81555ea98dda4816"
  },
  {
   "cell_type": "code",
   "outputs": [],
   "source": [],
   "metadata": {
    "collapsed": false,
    "ExecuteTime": {
     "end_time": "2024-03-24T14:54:48.585715Z",
     "start_time": "2024-03-24T14:54:48.572330Z"
    }
   },
   "id": "2b6fbf80faa4c28f",
   "execution_count": 58
  },
  {
   "cell_type": "markdown",
   "source": [
    "## Exercises Tests Part 1 (Week 3)"
   ],
   "metadata": {
    "collapsed": false
   },
   "id": "9f1f00b005c92f96"
  },
  {
   "cell_type": "markdown",
   "source": [
    "### Question 1:\n",
    "- We want to know how many requests a server has to process on average per day. We do a measurement for this. We measure for `30 days` and count it every day\n",
    "number of requests. We arrive at a mean of `975` and a standard deviation equal to `100`.\n",
    "     - Between what limits does the average number of requests lie if we want to be `95%` sure?\n",
    "     - Suppose we found the same mean and standard deviation, but with a sample size of `100 days`. Then we are `95%` certain that the average is between ... and ....\n",
    "     - Suppose someone claims that the server must process `1000 requests` per day. Can you support or reject this statement in the two cases? You want a certainty of `95%` again."
   ],
   "metadata": {
    "collapsed": false
   },
   "id": "7c5ff59ee78ec9ea"
  },
  {
   "cell_type": "code",
   "outputs": [
    {
     "name": "stdout",
     "output_type": "stream",
     "text": [
      "1. It lies between: (937.65938632419, 1012.34061367581)\n",
      "2. It lies between: (955.1578304849131, 994.8421695150869)\n",
      "3. If we look at it, with a number of 30 days it may be that the server has to handle more than 1000 requests, but if we look at 100 days, no more.\n"
     ]
    }
   ],
   "source": [
    "n=30\n",
    "s=100\n",
    "x_bar=975\n",
    "p=0.95\n",
    "df=n-1\n",
    "results=student.interval(confidence=p, df=df, loc=x_bar, scale=s/math.sqrt(n))\n",
    "print(f\"1. It lies between: {results}\")\n",
    "\n",
    "n=100\n",
    "df=n-1\n",
    "results=student.interval(confidence=p, df=df, loc=x_bar, scale=s/math.sqrt(n))\n",
    "print(f\"2. It lies between: {results}\")\n",
    "\n",
    "print(\"3. If we look at it, with a number of 30 days it may be that the server has to handle more than 1000 requests, but if we look at 100 days, no more.\")"
   ],
   "metadata": {
    "collapsed": false,
    "ExecuteTime": {
     "end_time": "2024-03-24T14:54:48.648413Z",
     "start_time": "2024-03-24T14:54:48.637852Z"
    }
   },
   "id": "81d804bdabec27e7",
   "execution_count": 59
  },
  {
   "cell_type": "markdown",
   "source": [
    "### Question 2:\n",
    "- A factory makes `12kg` bags of corn flakes. To test this, random samples are taken regularly. `100` bags are weighed. The first sample yields a mean of `11.9kg` and a standard deviation of `1kg`. We use an `alpha=0.01`.\n",
    "     - Which factor (Z-value) will you use to determine the interval?\n",
    "     - Do we need to adjust the machine?\n",
    "\n",
    "- A second sample also yields a mean of `11.9kg`, but a standard deviation of `0.1kg`.\n",
    "     - Which factor (Z-value) do we use this time?\n",
    "     - Do we need to adjust the machine this time?"
   ],
   "metadata": {
    "collapsed": false
   },
   "id": "77413458f8167a58"
  },
  {
   "cell_type": "code",
   "outputs": [
    {
     "name": "stdout",
     "output_type": "stream",
     "text": [
      "Factor: 2.6264054563851857 \n",
      "Interval: (11.637359454361482, 12.162640545638519)\n",
      "The machine does not need to be adjusted.\n"
     ]
    }
   ],
   "source": [
    "n=100\n",
    "s=1\n",
    "x_bar=11.9\n",
    "a=0.01\n",
    "p=1-a\n",
    "df=n-1\n",
    "\n",
    "factor=student.ppf((1+p)/2, df=df) # Factor = Z-Score\n",
    "interval=student.interval(confidence=p, df=df, loc=x_bar, scale=s/math.sqrt(n))\n",
    "print(\"Factor:\", factor, \"\\nInterval:\", interval)\n",
    "print(\"The machine does not need to be adjusted.\")"
   ],
   "metadata": {
    "collapsed": false,
    "ExecuteTime": {
     "end_time": "2024-03-24T14:54:48.679517Z",
     "start_time": "2024-03-24T14:54:48.663028Z"
    }
   },
   "id": "35d23c1c1baf2e5d",
   "execution_count": 60
  },
  {
   "cell_type": "code",
   "outputs": [
    {
     "name": "stdout",
     "output_type": "stream",
     "text": [
      "Factor: 2.6264054563851857 \n",
      "Interval: (11.897373594543614, 11.902626405456386)\n",
      "The machine needs to be adjusted.\n"
     ]
    }
   ],
   "source": [
    "n=100\n",
    "s=0.01\n",
    "x_bar=11.9\n",
    "a=0.01\n",
    "p=1-a\n",
    "df=n-1\n",
    "\n",
    "factor=student.ppf((1+p)/2, df=df) # Factor = Z-Score\n",
    "interval=student.interval(confidence=p, df=df, loc=x_bar, scale=s/math.sqrt(n))\n",
    "print(\"Factor:\", factor, \"\\nInterval:\", interval)\n",
    "print(\"The machine needs to be adjusted.\")"
   ],
   "metadata": {
    "collapsed": false,
    "ExecuteTime": {
     "end_time": "2024-03-24T14:54:48.742353Z",
     "start_time": "2024-03-24T14:54:48.729529Z"
    }
   },
   "id": "801d56e4f08ca7d4",
   "execution_count": 61
  },
  {
   "cell_type": "markdown",
   "source": [
    "### Question 3:\n",
    "- On behalf of a cheese factory, we investigate whether some suppliers tamper with their milk by adding water. We take `5` consecutive shipments of milk and see at what temperature they freeze. We know that the freezing point of milk is `-0.545°C` with a standard deviation of `0.008°C`. The freezing point of water is of course `0°C`. In our sample we find an average freezing point of `-0.539 °C`. Set `alpha=0.1`\n",
    "     - Which test are we going to use?\n",
    "     - Should we apply this test one-sided or two-sided?\n",
    "     - Was the milk tampered with?\n",
    "     - What is the probability that the previous answer is wrong?"
   ],
   "metadata": {
    "collapsed": false
   },
   "id": "680c4af8aed29d4f"
  },
  {
   "cell_type": "code",
   "outputs": [
    {
     "name": "stdout",
     "output_type": "stream",
     "text": [
      "1. We are going to calculate the Z-Toets.\n",
      "2. Two-sided test is necessary.\n",
      "3. Interval: (0.5331151927633592, 0.5448848072366409) -> The milk has not been tampered with. Factor: ( 1.2815515655446004 ).\n",
      "4. What is the probability that my conclusion is wrong: 0.1\n"
     ]
    }
   ],
   "source": [
    "n=5\n",
    "s=0.008\n",
    "x_bar=0.539\n",
    "a=0.1\n",
    "p=1-a\n",
    "\n",
    "print(\"1. We are going to calculate the Z-Toets.\")\n",
    "print(\"2. Two-sided test is necessary.\")\n",
    "\n",
    "factor=normal.ppf(p) # Factor = Z-Score\n",
    "interval=normal.interval(confidence=p, loc=x_bar, scale=s/math.sqrt(n))\n",
    "print(\"3. Interval:\", interval, \"-> The milk has not been tampered with. Factor: (\", factor, \").\")\n",
    "\n",
    "print(\"4. What is the probability that my conclusion is wrong:\", a)"
   ],
   "metadata": {
    "collapsed": false,
    "ExecuteTime": {
     "end_time": "2024-03-24T14:54:48.789373Z",
     "start_time": "2024-03-24T14:54:48.780023Z"
    }
   },
   "id": "a8d5b7658fa02c3d",
   "execution_count": 62
  },
  {
   "cell_type": "markdown",
   "source": [
    "### Question 4:\n",
    "- We wish to hire a programmer. We subject the candidates to a test. We know that a good programmer gets an average score of `100` on this one\n",
    "test. A few (`16`) students from KdG volunteered. We arrive at a mean of `107.3` and a standard deviation of `8.0`.\n",
    "     - Take `alpha=0.05`. We suspect that this group deviates from the average population.\n",
    "         - Which test do we use?\n",
    "         - Which factor are we going to use?\n",
    "     - We can set an interval within which we are `95%` certain that KdG students score on average.\n",
    "         - What is the lower limit of the interval?\n",
    "         - What is the upper limit of the interval?\n",
    "         - Can we say on the basis of this interval that KdG students score better than average?"
   ],
   "metadata": {
    "collapsed": false
   },
   "id": "7e97e31f66c8d787"
  },
  {
   "cell_type": "code",
   "outputs": [
    {
     "name": "stdout",
     "output_type": "stream",
     "text": [
      "1. We are going to calculate the T-Toets.\n",
      "2. Factor: 2.131449545559323\n"
     ]
    }
   ],
   "source": [
    "n=16\n",
    "a=0.05\n",
    "p=1-a\n",
    "df=n-1\n",
    "\n",
    "print(\"1. We are going to calculate the T-Toets.\")\n",
    "\n",
    "factor=student.ppf((1+p)/2, df=df) # Factor = Z-Score\n",
    "print(\"2. Factor:\", factor)"
   ],
   "metadata": {
    "collapsed": false,
    "ExecuteTime": {
     "end_time": "2024-03-24T14:54:48.867327Z",
     "start_time": "2024-03-24T14:54:48.851243Z"
    }
   },
   "id": "c5f55b41ca85bf30",
   "execution_count": 63
  },
  {
   "cell_type": "code",
   "outputs": [
    {
     "name": "stdout",
     "output_type": "stream",
     "text": [
      "3. Interval Bottom: 103.38007203091989\n",
      "4. Interval Top: 111.2199279690801\n",
      "5. KDG students score better than the population average.\n"
     ]
    }
   ],
   "source": [
    "n=16\n",
    "s=8\n",
    "x_bar=107.3\n",
    "a=0.05\n",
    "p=1-a\n",
    "\n",
    "interval=normal.interval(confidence=p, loc=x_bar, scale=s/math.sqrt(n))\n",
    "print(\"3. Interval Bottom:\", interval[0])\n",
    "print(\"4. Interval Top:\", interval[1])\n",
    "print(\"5. KDG students score better than the population average.\")"
   ],
   "metadata": {
    "collapsed": false,
    "ExecuteTime": {
     "end_time": "2024-03-24T14:54:48.898284Z",
     "start_time": "2024-03-24T14:54:48.889280Z"
    }
   },
   "id": "354d2b02544499c6",
   "execution_count": 64
  },
  {
   "cell_type": "markdown",
   "source": [
    "## Exercises Tests Part 2 (Week 4)"
   ],
   "metadata": {
    "collapsed": false
   },
   "id": "adf306c1906ddfa6"
  },
  {
   "cell_type": "markdown",
   "source": [
    "### Question 1:\n",
    "- Open the file entry `/Gamerps.csv`. Scissors rock paper is a game where you make a choice between these three. However, is there a preference among our scout members regarding the selection test? The expected distribution is proportional. Check whether our count differs from the expected distribution.\n",
    "    - Which test will you use for this?\n",
    "    - What is `H0`? `The count in our sample is/is not evenly distributed.`\n",
    "    - What is the value of `X^2`? (3 significant digits)\n",
    "    - What is the probability that a sample would have a higher value than `X^2` (p-value)? (3 significant digits)\n",
    "    - Can `H0` be rejected with `95%` confidence?\n",
    "    - So can we say that the scout members have a preference?"
   ],
   "metadata": {
    "collapsed": false
   },
   "id": "a21f6891f09db56b"
  },
  {
   "cell_type": "code",
   "outputs": [
    {
     "data": {
      "text/plain": "        hand\n0   Scissors\n1      Paper\n2      Paper\n3   Scissors\n4   Scissors\n..       ...\n70  Scissors\n71  Scissors\n72     Paper\n73     Paper\n74  Scissors\n\n[75 rows x 1 columns]",
      "text/html": "<div>\n<style scoped>\n    .dataframe tbody tr th:only-of-type {\n        vertical-align: middle;\n    }\n\n    .dataframe tbody tr th {\n        vertical-align: top;\n    }\n\n    .dataframe thead th {\n        text-align: right;\n    }\n</style>\n<table border=\"1\" class=\"dataframe\">\n  <thead>\n    <tr style=\"text-align: right;\">\n      <th></th>\n      <th>hand</th>\n    </tr>\n  </thead>\n  <tbody>\n    <tr>\n      <th>0</th>\n      <td>Scissors</td>\n    </tr>\n    <tr>\n      <th>1</th>\n      <td>Paper</td>\n    </tr>\n    <tr>\n      <th>2</th>\n      <td>Paper</td>\n    </tr>\n    <tr>\n      <th>3</th>\n      <td>Scissors</td>\n    </tr>\n    <tr>\n      <th>4</th>\n      <td>Scissors</td>\n    </tr>\n    <tr>\n      <th>...</th>\n      <td>...</td>\n    </tr>\n    <tr>\n      <th>70</th>\n      <td>Scissors</td>\n    </tr>\n    <tr>\n      <th>71</th>\n      <td>Scissors</td>\n    </tr>\n    <tr>\n      <th>72</th>\n      <td>Paper</td>\n    </tr>\n    <tr>\n      <th>73</th>\n      <td>Paper</td>\n    </tr>\n    <tr>\n      <th>74</th>\n      <td>Scissors</td>\n    </tr>\n  </tbody>\n</table>\n<p>75 rows × 1 columns</p>\n</div>"
     },
     "metadata": {},
     "output_type": "display_data"
    }
   ],
   "source": [
    "gamerps = pd.read_csv('../Data/Gamerps.csv')\n",
    "display(gamerps)"
   ],
   "metadata": {
    "collapsed": false,
    "ExecuteTime": {
     "end_time": "2024-03-24T14:54:48.960112Z",
     "start_time": "2024-03-24T14:54:48.945196Z"
    }
   },
   "id": "46369249e106dd9f",
   "execution_count": 65
  },
  {
   "cell_type": "code",
   "outputs": [
    {
     "name": "stdout",
     "output_type": "stream",
     "text": [
      "1. We are going to calculate the Chi-square.\n",
      "2.\n",
      "\tH0: There is a preference among the people.\n",
      "\tH1: There is no preference among the People.\n",
      "3. X^2: 1.68\n",
      "4. P-Value: 0.432\n",
      "5. H0 is true with a reliability of 95%.\n",
      "6. No\n"
     ]
    }
   ],
   "source": [
    "from scipy.stats import chisquare\n",
    "print(\"1. We are going to calculate the Chi-square.\")\n",
    "print(\"2.\\n\\tH0: There is a preference among the people.\\n\\tH1: There is no preference among the People.\")\n",
    "\n",
    "total_scissors=0\n",
    "total_rock=0\n",
    "total_paper=0\n",
    "n=len(gamerps)\n",
    "for i in range(n):\n",
    "    if gamerps['hand'][i] == 'Scissors':\n",
    "        total_scissors += 1\n",
    "    if gamerps['hand'][i] == 'Rock':\n",
    "        total_rock += 1\n",
    "    if gamerps['hand'][i] == 'Paper':\n",
    "        total_paper += 1\n",
    "\n",
    "measured_values=[total_scissors, total_rock, total_paper]\n",
    "expected_values=[n/3, n/3, n/3]\n",
    "chisquare=chisquare(measured_values, expected_values)\n",
    "\n",
    "print(\"3. X^2:\", round(chisquare.statistic, 3))\n",
    "print(\"4. P-Value:\", round(chisquare.pvalue, 3))\n",
    "\n",
    "p=0.95\n",
    "df=len(measured_values)-1\n",
    "critical_value=chi2.ppf(p, df=df)\n",
    "if chisquare.statistic < critical_value:\n",
    "    print(\"5. H0 is true with a reliability of 95%.\")\n",
    "else:\n",
    "    print(\"5. H1 is true with a reliability of 95%.\")\n",
    "\n",
    "print(\"6. No\")"
   ],
   "metadata": {
    "collapsed": false,
    "ExecuteTime": {
     "end_time": "2024-03-24T15:18:18.091223Z",
     "start_time": "2024-03-24T15:18:18.079343Z"
    }
   },
   "id": "598d49658dabe862",
   "execution_count": 79
  },
  {
   "cell_type": "markdown",
   "source": [
    "### Question 2:\n",
    "- Open the file `/ColorHairBrussels.csv`. This concerns data on the color of the hair of a sample of people in Brussels. The expected distribution of hair colors in Europe are: `30% blonde`, `12% red`, `30% brown`, `25% dark`, and `3% black`. Check whether our count differs from the expected distribution.\n",
    "     - Which test will you use for this?\n",
    "     - What is `H0`? `The hair color count in our sample does/does not deviate from the expected distribution.`\n",
    "     - What `X^2` value do you find?\n",
    "     - What `p-value` do you find?\n",
    "     - Can `H0` be rejected with a reliability of `95%` or not?\n",
    "     - Is there a deviation in Brussels compared to the expected distribution?"
   ],
   "metadata": {
    "collapsed": false
   },
   "id": "431c52a489c1e272"
  },
  {
   "cell_type": "code",
   "outputs": [
    {
     "data": {
      "text/plain": "       hair\n0      Dark\n1    Blonde\n2     Brown\n3    Blonde\n4     Brown\n..      ...\n241   Brown\n242     Red\n243  Blonde\n244   Brown\n245     Red\n\n[246 rows x 1 columns]",
      "text/html": "<div>\n<style scoped>\n    .dataframe tbody tr th:only-of-type {\n        vertical-align: middle;\n    }\n\n    .dataframe tbody tr th {\n        vertical-align: top;\n    }\n\n    .dataframe thead th {\n        text-align: right;\n    }\n</style>\n<table border=\"1\" class=\"dataframe\">\n  <thead>\n    <tr style=\"text-align: right;\">\n      <th></th>\n      <th>hair</th>\n    </tr>\n  </thead>\n  <tbody>\n    <tr>\n      <th>0</th>\n      <td>Dark</td>\n    </tr>\n    <tr>\n      <th>1</th>\n      <td>Blonde</td>\n    </tr>\n    <tr>\n      <th>2</th>\n      <td>Brown</td>\n    </tr>\n    <tr>\n      <th>3</th>\n      <td>Blonde</td>\n    </tr>\n    <tr>\n      <th>4</th>\n      <td>Brown</td>\n    </tr>\n    <tr>\n      <th>...</th>\n      <td>...</td>\n    </tr>\n    <tr>\n      <th>241</th>\n      <td>Brown</td>\n    </tr>\n    <tr>\n      <th>242</th>\n      <td>Red</td>\n    </tr>\n    <tr>\n      <th>243</th>\n      <td>Blonde</td>\n    </tr>\n    <tr>\n      <th>244</th>\n      <td>Brown</td>\n    </tr>\n    <tr>\n      <th>245</th>\n      <td>Red</td>\n    </tr>\n  </tbody>\n</table>\n<p>246 rows × 1 columns</p>\n</div>"
     },
     "metadata": {},
     "output_type": "display_data"
    }
   ],
   "source": [
    "colorHairBrussels = pd.read_csv('../Data/ColorHairBrussels.csv')\n",
    "display(colorHairBrussels)"
   ],
   "metadata": {
    "collapsed": false,
    "ExecuteTime": {
     "end_time": "2024-03-24T14:54:49.083409Z",
     "start_time": "2024-03-24T14:54:49.068125Z"
    }
   },
   "id": "faa6ba0c0f9d3983",
   "execution_count": 67
  },
  {
   "cell_type": "code",
   "outputs": [
    {
     "name": "stdout",
     "output_type": "stream",
     "text": [
      "1. We are going to calculate the Chi-square.\n",
      "2.\n",
      "\tH0: The hair color count in our sample does not deviate from the expected distribution.\n",
      "\tH1: The hair color count in our sample does deviate from the expected distribution.\n",
      "3. X^2: 7.76\n",
      "4. P-Value: 0.101\n",
      "5. H0 is true with a reliability of 95%.\n",
      "6. No\n"
     ]
    }
   ],
   "source": [
    "from scipy.stats import chisquare\n",
    "print(\"1. We are going to calculate the Chi-square.\")\n",
    "print(\"2.\\n\\tH0: The hair color count in our sample does not deviate from the expected distribution.\\n\\tH1: The hair color count in our sample does deviate from the expected distribution.\")\n",
    "\n",
    "total_blond=0\n",
    "total_rood=0\n",
    "total_bruin=0\n",
    "total_donker=0\n",
    "total_zwart=0\n",
    "n=len(colorHairBrussels)\n",
    "\n",
    "for i in range(n):\n",
    "    if colorHairBrussels['hair'][i] == 'Blonde':\n",
    "        total_blond += 1\n",
    "    if colorHairBrussels['hair'][i] == 'Red':\n",
    "        total_rood += 1\n",
    "    if colorHairBrussels['hair'][i] == 'Brown':\n",
    "        total_bruin += 1\n",
    "    if colorHairBrussels['hair'][i] == 'Dark':\n",
    "        total_donker += 1\n",
    "    if colorHairBrussels['hair'][i] == 'Black':\n",
    "        total_zwart += 1\n",
    "\n",
    "measured_values=[total_blond, total_rood, total_bruin, total_donker, total_zwart]\n",
    "expected_values=[n*0.3, n*0.12, n*0.3, n*0.25, n*0.03]\n",
    "chisquare=chisquare(measured_values, expected_values)\n",
    "\n",
    "print(\"3. X^2:\", round(chisquare.statistic, 3))\n",
    "print(\"4. P-Value:\", round(chisquare.pvalue, 3))\n",
    "\n",
    "p=0.95\n",
    "df=len(measured_values)-1\n",
    "critical_value=chi2.ppf(p, df=df)\n",
    "if chisquare.statistic < critical_value:\n",
    "    print(\"5. H0 is true with a reliability of 95%.\")\n",
    "else:\n",
    "    print(\"5. H1 is true with a reliability of 95%.\")\n",
    "print(\"6. No\")"
   ],
   "metadata": {
    "collapsed": false,
    "ExecuteTime": {
     "end_time": "2024-03-24T14:59:04.515179Z",
     "start_time": "2024-03-24T14:59:04.489799Z"
    }
   },
   "id": "f47a383d7971ddef",
   "execution_count": 74
  },
  {
   "cell_type": "markdown",
   "source": [
    "### Question 3:\n",
    "- We wish to conduct a survey on students' favorite browser. We expect the following distribution:\n",
    "     - Internet explorer: `8`\n",
    "     - Opera: `10`\n",
    "     - Mozilla Firefox: `10`\n",
    "     - Google chrome: `12`\n",
    "- When inquiring about `1` class group, the distribution appears as follows:\n",
    "     - Internet explorer: `17`\n",
    "     - Opera: `10`\n",
    "     - Mozilla Firefox: `8`\n",
    "     - Google chrome: `5`\n",
    "\n",
    "- Question:\n",
    "     - Which test are you going to apply?\n",
    "     - Is this deviation within our expectations (`alpha=0.01`) Yes/No?\n",
    "     - What is the critical value of this data?\n",
    "     - What `X^2` value do you find?\n",
    "     - What p-value do you find?"
   ],
   "metadata": {
    "collapsed": false
   },
   "id": "8cf37834dd311b56"
  },
  {
   "cell_type": "code",
   "outputs": [
    {
     "name": "stdout",
     "output_type": "stream",
     "text": [
      "1. We are going to calculate the Chi-square.\n",
      "2. The deviation is significant because the p-value is less than alpha.\n",
      "3. Critical Value 11.344866730144373\n",
      "4. X^2: 14.608\n",
      "5. P-Value: 0.002\n"
     ]
    }
   ],
   "source": [
    "from scipy.stats import chisquare\n",
    "print(\"1. We are going to calculate the Chi-square.\")\n",
    "\n",
    "measured_values=[17, 10, 8, 5]\n",
    "expected_values=[8, 10, 10, 12]\n",
    "chisquare=chisquare(measured_values, expected_values)\n",
    "\n",
    "a=0.01\n",
    "p=1-a\n",
    "df=len(measured_values)-1\n",
    "critical_value=chi2.ppf(p, df=df)\n",
    "\n",
    "if chisquare.pvalue <= a:\n",
    "    print(\"2. The deviation is significant because the p-value is less than alpha.\")\n",
    "else:\n",
    "    print(\"2. The deviation is not significant because the p-value is greater than alpha.\")\n",
    "\n",
    "print(\"3. Critical Value\", critical_value)\n",
    "    \n",
    "print(\"4. X^2:\", round(chisquare.statistic, 3))\n",
    "print(\"5. P-Value:\", round(chisquare.pvalue, 3))"
   ],
   "metadata": {
    "collapsed": false,
    "ExecuteTime": {
     "end_time": "2024-03-24T15:11:22.154070Z",
     "start_time": "2024-03-24T15:11:22.146464Z"
    }
   },
   "id": "d84d3f24411f6da3",
   "execution_count": 78
  },
  {
   "cell_type": "markdown",
   "source": [
    "## Exercises Association Rules (Week 5)"
   ],
   "metadata": {
    "collapsed": false
   },
   "id": "65da23edbfa2de05"
  },
  {
   "cell_type": "markdown",
   "source": [
    "### Question 1: [Income questionnaire]\n",
    "The UCI Machine Learning Repository [Archive Ics Uci Edu](https://archive.ics.uci.edu/ml/index.php) contains a number of interesting datasets, including the so-called AdultUCI dataset. This is a dataset with a questionnaire that a significant number of respondents completed about their income. In addition to an indication of the income level, it also contains some other attributes. Before we can use it, you have to make some adjustments to the data. The data management chapter is therefore useful here."
   ],
   "metadata": {
    "collapsed": false
   },
   "id": "879107e74de73b5a"
  },
  {
   "cell_type": "code",
   "outputs": [],
   "source": [],
   "metadata": {
    "collapsed": false,
    "ExecuteTime": {
     "end_time": "2024-03-24T14:54:49.286012Z",
     "start_time": "2024-03-24T14:54:49.278494Z"
    }
   },
   "id": "96470a13f76d0c17",
   "execution_count": 69
  },
  {
   "cell_type": "markdown",
   "source": [
    "- 1.1. Use Pandas to read this data (`../Data/AdultUCI.csv`) as a data frame called adultUCI."
   ],
   "metadata": {
    "collapsed": false
   },
   "id": "2d920660599fb64c"
  },
  {
   "cell_type": "code",
   "outputs": [],
   "source": [],
   "metadata": {
    "collapsed": false,
    "ExecuteTime": {
     "end_time": "2024-03-24T14:54:49.799361Z",
     "start_time": "2024-03-24T14:54:49.797015Z"
    }
   },
   "id": "3658bfbd697fdf6c",
   "execution_count": 69
  },
  {
   "cell_type": "markdown",
   "source": [
    "- 1.2. View the data set."
   ],
   "metadata": {
    "collapsed": false
   },
   "id": "b77d77c0d903fd8e"
  },
  {
   "cell_type": "code",
   "outputs": [],
   "source": [],
   "metadata": {
    "collapsed": false,
    "ExecuteTime": {
     "end_time": "2024-03-24T14:54:49.893566Z",
     "start_time": "2024-03-24T14:54:49.883360Z"
    }
   },
   "id": "98a4d702b8c3627",
   "execution_count": 69
  },
  {
   "cell_type": "markdown",
   "source": [
    "- 1.3. Remove the following columns from the data frame: `fnlwgt`, `education-num`, `capital-gain`, `capital-loss`."
   ],
   "metadata": {
    "collapsed": false
   },
   "id": "1861d87229c0482d"
  },
  {
   "cell_type": "code",
   "outputs": [],
   "source": [],
   "metadata": {
    "collapsed": false,
    "ExecuteTime": {
     "end_time": "2024-03-24T14:54:49.925471Z",
     "start_time": "2024-03-24T14:54:49.919421Z"
    }
   },
   "id": "c6ebc72ab53fdf57",
   "execution_count": 69
  },
  {
   "cell_type": "markdown",
   "source": [
    "- 1.4. You cannot work with numerical data. Therefore, we will convert the numeric columns to categorize:\n",
    "    - Convert the **age** column to classes. The breaks of the classes are (`15`, `25`, `45`, `65`, `100`). Convert the classes to the following names (`Young`, `Middle-aged`, `Senior`, `Old`).\n",
    "    - Convert the **hours-per-week** column to classes. The breaks of the classes are (`0`, `25`, `40`, `60`, `168`). Convert the classes to the following names (`Part-time`, `Full-time`, `Over-time`, `Workaholic`)"
   ],
   "metadata": {
    "collapsed": false
   },
   "id": "969d3c60155d8a82"
  },
  {
   "cell_type": "code",
   "outputs": [],
   "source": [],
   "metadata": {
    "collapsed": false,
    "ExecuteTime": {
     "end_time": "2024-03-24T14:54:49.987825Z",
     "start_time": "2024-03-24T14:54:49.970586Z"
    }
   },
   "id": "e8e489c610b7cff5",
   "execution_count": 69
  },
  {
   "cell_type": "markdown",
   "source": [
    "- 1.5. Convert the data frame to a transactions object with Pandas get_dummies function. Make using the parameter `prefix_sep='='`. Study the result."
   ],
   "metadata": {
    "collapsed": false
   },
   "id": "b9d3e14c66801ce7"
  },
  {
   "cell_type": "code",
   "outputs": [],
   "source": [],
   "metadata": {
    "collapsed": false,
    "ExecuteTime": {
     "end_time": "2024-03-24T14:54:50.019257Z",
     "start_time": "2024-03-24T14:54:50.006554Z"
    }
   },
   "id": "119ea122815b24ea",
   "execution_count": 69
  },
  {
   "cell_type": "markdown",
   "source": [
    "- 1.6. Create a barchart of all items with a support of `0.1` or more."
   ],
   "metadata": {
    "collapsed": false
   },
   "id": "5b4db15a2df3541e"
  },
  {
   "cell_type": "code",
   "outputs": [],
   "source": [],
   "metadata": {
    "collapsed": false,
    "ExecuteTime": {
     "end_time": "2024-03-24T14:54:50.081439Z",
     "start_time": "2024-03-24T14:54:50.070452Z"
    }
   },
   "id": "9a5625f943fb071d",
   "execution_count": 69
  },
  {
   "cell_type": "markdown",
   "source": [
    "- 1.7. Which two items have very high support (proportionally)? Can you conclude from this that the administered questionnaire a good example of a random sample?"
   ],
   "metadata": {
    "collapsed": false
   },
   "id": "57266bc318c226fc"
  },
  {
   "cell_type": "code",
   "outputs": [],
   "source": [],
   "metadata": {
    "collapsed": false,
    "ExecuteTime": {
     "end_time": "2024-03-24T14:54:50.097440Z",
     "start_time": "2024-03-24T14:54:50.092440Z"
    }
   },
   "id": "a8fc9e5a92f9f5a4",
   "execution_count": 69
  },
  {
   "cell_type": "markdown",
   "source": [
    "- 1.8. Apply the apriori and association_rules algorithms with the following parameters:\n",
    "    - support= `0.05`,\n",
    "    - confidence=`0.6`,\n",
    "    - min_len=`2`, max_len=`3`."
   ],
   "metadata": {
    "collapsed": false
   },
   "id": "37fc2560100c57a7"
  },
  {
   "cell_type": "code",
   "outputs": [],
   "source": [],
   "metadata": {
    "collapsed": false,
    "ExecuteTime": {
     "end_time": "2024-03-24T14:54:50.160181Z",
     "start_time": "2024-03-24T14:54:50.152176Z"
    }
   },
   "id": "e59980aa0290b62b",
   "execution_count": 69
  },
  {
   "cell_type": "markdown",
   "source": [
    "- 1.9. You can use the following filter function in combination with the .apply function of a DataFrame 'def rule_filter(row, min_len, max_len):' How many rules did the algorithm find?"
   ],
   "metadata": {
    "collapsed": false
   },
   "id": "60cb188a481f9137"
  },
  {
   "cell_type": "code",
   "outputs": [],
   "source": [],
   "metadata": {
    "collapsed": false,
    "ExecuteTime": {
     "end_time": "2024-03-24T14:54:50.206366Z",
     "start_time": "2024-03-24T14:54:50.195031Z"
    }
   },
   "id": "75e7320bd45462b3",
   "execution_count": 69
  },
  {
   "cell_type": "markdown",
   "source": [
    "- 1.10. View the rules with the highest confidence? What stands out?"
   ],
   "metadata": {
    "collapsed": false
   },
   "id": "104b9516605bb10e"
  },
  {
   "cell_type": "code",
   "outputs": [],
   "source": [],
   "metadata": {
    "collapsed": false,
    "ExecuteTime": {
     "end_time": "2024-03-24T14:54:50.268199Z",
     "start_time": "2024-03-24T14:54:50.262199Z"
    }
   },
   "id": "d0bc8c052a484c82",
   "execution_count": 69
  },
  {
   "cell_type": "markdown",
   "source": [
    "- 1.11. Can you explain why there is such a high confidence in this case?"
   ],
   "metadata": {
    "collapsed": false
   },
   "id": "a8be3aa6120bab0d"
  },
  {
   "cell_type": "code",
   "outputs": [],
   "source": [],
   "metadata": {
    "collapsed": false,
    "ExecuteTime": {
     "end_time": "2024-03-24T14:54:50.299361Z",
     "start_time": "2024-03-24T14:54:50.296347Z"
    }
   },
   "id": "7aff419bc729eac4",
   "execution_count": 69
  },
  {
   "cell_type": "markdown",
   "source": [
    "- 1.12. That rule and variations on that rule are pretty useless. Therefore, remove the `relationship` column on the original data."
   ],
   "metadata": {
    "collapsed": false
   },
   "id": "356219eb31eae02e"
  },
  {
   "cell_type": "code",
   "outputs": [],
   "source": [],
   "metadata": {
    "collapsed": false,
    "ExecuteTime": {
     "end_time": "2024-03-24T14:54:50.377050Z",
     "start_time": "2024-03-24T14:54:50.363481Z"
    }
   },
   "id": "1997781aec61b254",
   "execution_count": 69
  },
  {
   "cell_type": "markdown",
   "source": [
    "- 1.13. Run the apriori algorithm again. Which rule has the greatest confidence?"
   ],
   "metadata": {
    "collapsed": false
   },
   "id": "2a47ce00108bbffa"
  },
  {
   "cell_type": "code",
   "outputs": [],
   "source": [],
   "metadata": {
    "collapsed": false,
    "ExecuteTime": {
     "end_time": "2024-03-24T14:54:50.407709Z",
     "start_time": "2024-03-24T14:54:50.394452Z"
    }
   },
   "id": "4a82dce131db1377",
   "execution_count": 69
  },
  {
   "cell_type": "markdown",
   "source": [
    "- 1.14. If you look at the Lift of this line, would you still consider it a good association consider rule?"
   ],
   "metadata": {
    "collapsed": false
   },
   "id": "55427fd6b04d2426"
  },
  {
   "cell_type": "code",
   "outputs": [],
   "source": [],
   "metadata": {
    "collapsed": false,
    "ExecuteTime": {
     "end_time": "2024-03-24T14:54:50.483902Z",
     "start_time": "2024-03-24T14:54:50.469174Z"
    }
   },
   "id": "582bfa4743ab31d9",
   "execution_count": 69
  },
  {
   "cell_type": "markdown",
   "source": [
    "- 1.15. If a respondent indicates that he works overtime (`hours-per-week`) and has a limited income (`income = small`), in which age category can we expect him to be? How sure are you of that?"
   ],
   "metadata": {
    "collapsed": false
   },
   "id": "5446671941066ab4"
  },
  {
   "cell_type": "code",
   "outputs": [],
   "source": [],
   "metadata": {
    "collapsed": false,
    "ExecuteTime": {
     "end_time": "2024-03-24T14:54:50.530369Z",
     "start_time": "2024-03-24T14:54:50.517337Z"
    }
   },
   "id": "9df641d40482c3c2",
   "execution_count": 69
  },
  {
   "cell_type": "markdown",
   "source": [
    "- 1.16. Describe what the lift says about the rule used in n."
   ],
   "metadata": {
    "collapsed": false
   },
   "id": "f4f1347cca96cb79"
  },
  {
   "cell_type": "code",
   "outputs": [],
   "source": [],
   "metadata": {
    "collapsed": false,
    "ExecuteTime": {
     "end_time": "2024-03-24T14:54:50.592466Z",
     "start_time": "2024-03-24T14:54:50.579562Z"
    }
   },
   "id": "c2406e1c05514efc",
   "execution_count": 69
  },
  {
   "cell_type": "markdown",
   "source": [
    "- 1.17. Does the combination of the three items from the previous 2 questions occur often? What number do you have?\n",
    "used for this?"
   ],
   "metadata": {
    "collapsed": false
   },
   "id": "adb72bd040979945"
  },
  {
   "cell_type": "code",
   "outputs": [],
   "source": [],
   "metadata": {
    "collapsed": false,
    "ExecuteTime": {
     "end_time": "2024-03-24T14:54:50.623744Z",
     "start_time": "2024-03-24T14:54:50.610433Z"
    }
   },
   "id": "5c917caf876a3cba",
   "execution_count": 69
  },
  {
   "cell_type": "markdown",
   "source": [
    "- 1.18. Have you come across a rule somewhere that says `hours-per-week=Workaholic`? Can you explain why?\n",
    "is this so?"
   ],
   "metadata": {
    "collapsed": false
   },
   "id": "2f96b3d8c4e867b0"
  },
  {
   "cell_type": "code",
   "outputs": [],
   "source": [],
   "metadata": {
    "collapsed": false,
    "ExecuteTime": {
     "end_time": "2024-03-24T14:54:50.685975Z",
     "start_time": "2024-03-24T14:54:50.668523Z"
    }
   },
   "id": "aa2ca6603b96f807",
   "execution_count": 69
  },
  {
   "cell_type": "markdown",
   "source": [
    "### Question 2: [Fruit promotion]\n",
    "A supermarket wants to attract people to the store with a very strong promotion for fruit. Because she If they don't make a profit on that promotion, they want to compensate for that with another type right next to it to produce fruit that will increase the price slightly so that the profit margin on it can partially offset the loss compensate. The store wants to know which fruit to promote and which fruit to use the most has a chance to be purchased with the fruit on promotion."
   ],
   "metadata": {
    "collapsed": false
   },
   "id": "7b9edfcff398c30"
  },
  {
   "cell_type": "code",
   "outputs": [],
   "source": [],
   "metadata": {
    "collapsed": false,
    "ExecuteTime": {
     "end_time": "2024-03-24T14:54:50.716624Z",
     "start_time": "2024-03-24T14:54:50.702538Z"
    }
   },
   "id": "fca045f6b1cc6e03",
   "execution_count": 69
  },
  {
   "cell_type": "markdown",
   "source": [
    "- 2.1. Use the fruit preferences from the questionnaire dataset (`../DataFruitPurchase.csv`) toto draw up the rules."
   ],
   "metadata": {
    "collapsed": false
   },
   "id": "59c9638235b36f59"
  },
  {
   "cell_type": "code",
   "outputs": [],
   "source": [],
   "metadata": {
    "collapsed": false,
    "ExecuteTime": {
     "end_time": "2024-03-24T14:54:50.780050Z",
     "start_time": "2024-03-24T14:54:50.777362Z"
    }
   },
   "id": "d61ec150a9e2e8a",
   "execution_count": 69
  },
  {
   "cell_type": "markdown",
   "source": [
    "- 2.2 Create association rules using this list. Use the following parameters for the apriori algorithm or the fp-growth algorithm:\n",
    "    - support=`0.1`\n",
    "    - confidence=`0.3`\n",
    "    - min_len=`2`, max_len=`2`)"
   ],
   "metadata": {
    "collapsed": false
   },
   "id": "f523eb30cd62f27a"
  },
  {
   "cell_type": "code",
   "outputs": [],
   "source": [],
   "metadata": {
    "collapsed": false,
    "ExecuteTime": {
     "end_time": "2024-03-24T14:54:50.810398Z",
     "start_time": "2024-03-24T14:54:50.798538Z"
    }
   },
   "id": "412c8c91c30f73aa",
   "execution_count": 69
  },
  {
   "cell_type": "markdown",
   "source": [
    "- 2.3. Find the association rule with the highest confidence."
   ],
   "metadata": {
    "collapsed": false
   },
   "id": "9ffa52d621ad41a4"
  },
  {
   "cell_type": "code",
   "outputs": [],
   "source": [],
   "metadata": {
    "collapsed": false,
    "ExecuteTime": {
     "end_time": "2024-03-24T14:54:50.874025Z",
     "start_time": "2024-03-24T14:54:50.860596Z"
    }
   },
   "id": "93abba6faac670ba",
   "execution_count": 69
  },
  {
   "cell_type": "markdown",
   "source": [
    "- 2.4. Which fruit will the store promote based on that rule?"
   ],
   "metadata": {
    "collapsed": false
   },
   "id": "bbb1d019d1a2aaf9"
  },
  {
   "cell_type": "code",
   "outputs": [],
   "source": [],
   "metadata": {
    "collapsed": false,
    "ExecuteTime": {
     "end_time": "2024-03-24T14:54:50.905983Z",
     "start_time": "2024-03-24T14:54:50.901322Z"
    }
   },
   "id": "e1406395a6ce4190",
   "execution_count": 69
  },
  {
   "cell_type": "markdown",
   "source": [
    "- 2.5. Based on that rule, which fruit will the store place next to the promotional item?"
   ],
   "metadata": {
    "collapsed": false
   },
   "id": "e2079392f7a49bdd"
  },
  {
   "cell_type": "code",
   "outputs": [],
   "source": [],
   "metadata": {
    "collapsed": false,
    "ExecuteTime": {
     "end_time": "2024-03-24T14:54:50.984565Z",
     "start_time": "2024-03-24T14:54:50.968674Z"
    }
   },
   "id": "19ec957341d60cee",
   "execution_count": 69
  },
  {
   "cell_type": "markdown",
   "source": [
    "- 2.6. What percentage of the students who completed the questionnaire have the combination of the two fruit types are in their top 3?"
   ],
   "metadata": {
    "collapsed": false
   },
   "id": "6b23974d191fea3a"
  },
  {
   "cell_type": "code",
   "outputs": [],
   "source": [],
   "metadata": {
    "collapsed": false,
    "ExecuteTime": {
     "end_time": "2024-03-24T14:54:50.999704Z",
     "start_time": "2024-03-24T14:54:50.990566Z"
    }
   },
   "id": "e1bc203eb2e9a35a",
   "execution_count": 69
  },
  {
   "cell_type": "markdown",
   "source": [
    "- 2.7. What can you say about the fruit in promotion based on the lift?"
   ],
   "metadata": {
    "collapsed": false
   },
   "id": "3be25e2f229489be"
  },
  {
   "cell_type": "code",
   "outputs": [],
   "source": [],
   "metadata": {
    "collapsed": false,
    "ExecuteTime": {
     "end_time": "2024-03-24T14:54:51.062240Z",
     "start_time": "2024-03-24T14:54:51.050649Z"
    }
   },
   "id": "20908d5705140d09",
   "execution_count": 69
  }
 ],
 "metadata": {
  "kernelspec": {
   "display_name": "Python 3",
   "language": "python",
   "name": "python3"
  },
  "language_info": {
   "codemirror_mode": {
    "name": "ipython",
    "version": 2
   },
   "file_extension": ".py",
   "mimetype": "text/x-python",
   "name": "python",
   "nbconvert_exporter": "python",
   "pygments_lexer": "ipython2",
   "version": "2.7.6"
  }
 },
 "nbformat": 4,
 "nbformat_minor": 5
}

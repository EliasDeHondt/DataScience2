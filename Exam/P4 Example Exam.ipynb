{
 "cells": [
  {
   "cell_type": "markdown",
   "source": [
    "# P4 Example Exam"
   ],
   "metadata": {
    "collapsed": false
   },
   "id": "fed765dbf2e6f800"
  },
  {
   "cell_type": "code",
   "execution_count": null,
   "id": "initial_id",
   "metadata": {
    "collapsed": true,
    "ExecuteTime": {
     "end_time": "2024-03-23T19:13:19.741456Z",
     "start_time": "2024-03-23T19:13:19.725407Z"
    }
   },
   "outputs": [],
   "source": []
  },
  {
   "cell_type": "code",
   "outputs": [],
   "source": [],
   "metadata": {
    "collapsed": false,
    "ExecuteTime": {
     "end_time": "2024-03-23T19:13:19.757206Z",
     "start_time": "2024-03-23T19:13:19.743174Z"
    }
   },
   "id": "4488dddd3e1aba7a",
   "execution_count": null
  }
 ],
 "metadata": {
  "kernelspec": {
   "display_name": "Python 3",
   "language": "python",
   "name": "python3"
  },
  "language_info": {
   "codemirror_mode": {
    "name": "ipython",
    "version": 2
   },
   "file_extension": ".py",
   "mimetype": "text/x-python",
   "name": "python",
   "nbconvert_exporter": "python",
   "pygments_lexer": "ipython2",
   "version": "2.7.6"
  }
 },
 "nbformat": 4,
 "nbformat_minor": 5
}

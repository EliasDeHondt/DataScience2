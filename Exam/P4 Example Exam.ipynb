{
 "cells": [
  {
   "cell_type": "markdown",
   "source": [
    "# P4 Example Exam"
   ],
   "metadata": {
    "collapsed": false
   },
   "id": "fed765dbf2e6f800"
  },
  {
   "cell_type": "code",
   "id": "initial_id",
   "metadata": {
    "collapsed": true,
    "ExecuteTime": {
     "end_time": "2024-05-19T14:24:51.701893Z",
     "start_time": "2024-05-19T14:24:51.687549Z"
    }
   },
   "source": [
    "import math  # type: ignore                                                           # Mathematical functions\n",
    "import pandas as pd  # type: ignore                                                   # Data manipulation\n",
    "import numpy as np  # type: ignore                                                    # Scientific computing\n",
    "import matplotlib.pyplot as plt  # type: ignore                                       # Data visualization\n",
    "from scipy.stats import binom as binomial  # type: ignore                             # Binomial distribution\n",
    "from scipy.stats import norm as normal  # type: ignore                                # Normal distribution\n",
    "from scipy.stats import poisson as poisson  # type: ignore                            # Poisson distribution\n",
    "from scipy.stats import t as student  # type: ignore                                  # Student distribution\n",
    "from scipy.stats import chi2  # type: ignore                                          # Chi-squared distribution\n",
    "from scipy.stats import ttest_1samp  # type: ignore                                   # One-sample t-test\n",
    "from scipy.stats import chisquare  # type: ignore                                     # Chi-squared test\n",
    "from scipy.special import comb  # type: ignore                                        # Combinations\n",
    "from mlxtend.frequent_patterns import apriori  # type: ignore                         # Apriori algorithm\n",
    "from mlxtend.frequent_patterns import fpgrowth  # type: ignore                        # FP-growth algorithm\n",
    "from mlxtend.frequent_patterns import association_rules  # type: ignore               # Association rules\n",
    "from mlxtend.preprocessing import TransactionEncoder  # type: ignore                  # Transaction encoder\n",
    "from sklearn.discriminant_analysis import LinearDiscriminantAnalysis  # type: ignore  # Discriminant Analysis\n",
    "from tensorflow import keras  # type: ignore                                          # Deep Learning library\n",
    "from tensorflow.keras import Model  # type: ignore                                    # Model class\n",
    "from tensorflow.keras.layers import Input, Dense, BatchNormalization  # type: ignore  # Layers\n",
    "from tensorflow.keras.utils import to_categorical  # type: ignore                     # One-hot encoding\n",
    "from tensorflow.keras.optimizers import Adam  # type: ignore                         # Optimizer\n",
    "from livelossplot import PlotLossesKeras  # type: ignore                              # Live plot\n",
    "from keras.src.optimizers import RMSprop  # type: ignore                              # Optimizer\n",
    "from sklearn.model_selection import train_test_split  # type: ignore                  # Train-test split\n",
    "from simanneal import Annealer  # type: ignore                                        # Simulated Annealing\n",
    "from inspyred import ec  # type: ignore                                                # Evolutionary Computation\n",
    "import warnings  # type: ignore                                                       # Disable warnings\n",
    "warnings.filterwarnings(\"ignore\")"
   ],
   "outputs": [],
   "execution_count": 2
  },
  {
   "cell_type": "code",
   "outputs": [],
   "source": [],
   "metadata": {
    "collapsed": false,
    "ExecuteTime": {
     "end_time": "2024-03-23T19:13:19.757206Z",
     "start_time": "2024-03-23T19:13:19.743174Z"
    }
   },
   "id": "4488dddd3e1aba7a",
   "execution_count": null
  },
  {
   "metadata": {},
   "cell_type": "markdown",
   "source": "## Exercises Discriminant Analysis (Week 1)",
   "id": "168eb1220123b6fb"
  },
  {
   "metadata": {},
   "cell_type": "markdown",
   "source": [
    "### Question 1:\n",
    "- Can you predict the writing hand of the next student based on the specified height (`182`), pieces of fruit (`2`), shoe size (`44`), distance to KdG (`22`)? Only use students who have specified Left or Right as their writing hand.\n",
    "- Draw up a confusion matrix based on the predicted and effective values for the data you used to perform the discriminant analysis (see 1).\n",
    "- Calculate the usual evaluation metrics for a binary classifier.\n",
    "- Draw the ROC curve. If applicable, explain why the ROC curve is not drawn.\n",
    "- What is the accuracy of the discriminant analysis where height and shoe size predict the number of brothers and sisters?\n",
    "\n",
    "**Name of Columns**: `gapminder` `schrijfhand` `schoenmaat` `lengte` `bloedgroep` `resus` `siblings` `Samenzweringen` `rijbewijs` `domicilie in Antwerpen` `afstudeerrichting` `vrijetijdsbesteding` `uren wiskunde` `informatica` `belangrijk` `uren buiten schooluren` `afstand tot KdG` `vervoersmiddel` `klimaatopwarming` `zakgeld` `stukken fruit` `fruitvoorkeur` `besturingssysteem` `belangrijkste app` `M1 - stelen` `M2 - team` `M3 - beschermen` `M4 - voorbeeld` `M5 - embryo` `M6 - vrijheid` `mascotte` `zwaarste vak` `boeienste vak` `studiepunt`"
   ],
   "id": "16cc7c38957a76d2"
  },
  {
   "metadata": {},
   "cell_type": "code",
   "outputs": [],
   "execution_count": null,
   "source": "",
   "id": "2431c06ade91a010"
  },
  {
   "metadata": {},
   "cell_type": "markdown",
   "source": [
    "### Question 2:\n",
    "- In the Canvas course, find the dataset `Bordeaux.csv` and place it in a data frame.\n",
    "    - Apply a discriminant analysis to this data set with quality as the dependent variable and `temperature`, `sun`, `heat` and `rain` as the independent variables.\n",
    "    - How many dimensions does the discriminant analysis have?\n",
    "    - Plot the results of the discriminant analysis. What is visualized here?\n",
    "    - Apply the predict command briefly to the original data. What percentage of the wines receive the same label via the discriminant analysis as observed?"
   ],
   "id": "a109424a640cf107"
  },
  {
   "metadata": {},
   "cell_type": "code",
   "outputs": [],
   "execution_count": null,
   "source": "",
   "id": "6035d9b867b1158"
  },
  {
   "metadata": {},
   "cell_type": "markdown",
   "source": [
    "### Question 3:\n",
    "- In the Canvas course, find the dataset `Birthwt.csv` and place it in a data frame.\n",
    "    - Analyze the type of data in this dataset.\n",
    "    - Which columns can be used as dependent variables for a discriminant analysis?\n",
    "    - Which columns can be used as independent variables for a discriminant analysis?\n",
    "    - Apply a discriminant analysis to this data set (using your choices above).\n",
    "    - How many dimensions does the discriminant analysis have?\n",
    "    - Plot the results of the discriminant analysis.\n",
    "\n",
    "**Name of Columns & Meaning**:\n",
    "    - `low`: Indicator of birth weight less than 2.5 kg\n",
    "    - `age`: Mother's age in years\n",
    "    - `lwt`: Mother's weight in pounds at last menstrual period\n",
    "    - `race`: Mother's race (1 = white, 2 = black, 3 = other)\n",
    "    - `smoke`: Smoking status during pregnancy (1 = yes, 0 = no)\n",
    "    - `ptl`: Number of previous premature labors\n",
    "    - `ht`: History of hypertension (1 = yes, 0 = no)\n",
    "    - `ui`: Presence of uterine irritability (1 = yes, 0 = no)\n",
    "    - `ftv`: Number of physician visits during the first trimester\n",
    "    - `bwt`: Birth weight in grams"
   ],
   "id": "b8107333a3ca6f78"
  },
  {
   "metadata": {},
   "cell_type": "code",
   "outputs": [],
   "execution_count": null,
   "source": "",
   "id": "13bca42be09e9b69"
  },
  {
   "metadata": {},
   "cell_type": "markdown",
   "source": [
    "### Question 4:\n",
    "- Find the dataset 'Cars93' on Canvas and place it in a data frame.\n",
    "    - Analyze the type of data in this dataset.\n",
    "    - Split the data set into two: the first `90` rows as a `learning data set` for why you are going to apply a discriminant analysis (see 5) and the last 3 rows to check whether the obtained discriminant analysis places these cars in the correct class places (see 7).\n",
    "    - Which columns can be used as dependent variables for a discriminant analysis?\n",
    "    - Which columns can be used as independent variables for a discriminant analysis?\n",
    "    - Apply a discriminant analysis to this data set. Take the Type column as the dependent variable and all usable columns as the independent variables (see 4).\n",
    "    - How many dimensions does the discriminant analysis have?\n",
    "    - Apply the obtained discriminant analysis using the predict command to the last 3 rows of the original data (see 2). Will all 3 cars be placed in the correct class?\n",
    "\n",
    "**Name of Columns & Meaning**:\n",
    "    - `Manufacturer`: Manufacturer of the car\n",
    "    - `Model`: Model of the car\n",
    "    - `Type`: A factor with levels `Small`, `Sporty`, `Compact`, `Midsize`, `Large` and `Van`\n",
    "    - `Min.Price`: Minimum Price (in \\$1,000) price of a basic version of the car\n",
    "    - `Price`: Midrange Price (in \\$1,000) average of `Min.Price` and `Max.Price`\n",
    "    - `Max.Price`: Maximum Price (in \\$1,000) price of `a premium version` of the car\n",
    "    - `MPG.city`: City MPG (miles per US gallon by EPA rating)\n",
    "    - `MPG.highway`: Highway MPG\n",
    "    - `AirBags`: AirBags standard. Factor: `None`, `Driver only`, `Driver` & `Passenger`\n",
    "    - `DriveTrain`: Drive train type: `Real wheel`, `Front wheel` or `4WD` (factor)\n",
    "    - `Cylinders`: Number of cylinders (missing for Mazda RX-7, which has a rotary engine)\n",
    "    - `EngineSize`: Engine size (liters)\n",
    "    - `Horsepower`: Horsepower (maximum)\n",
    "    - `RPM`: RPM (revs per minute at maximum horsepower)\n",
    "    - `Rev.per.mile`: Engine revolutions per mile (in the highest gear)\n",
    "    - `Man.trans.avail`: Is a manual transmission available? Factor with levels `Yes` and `No`\n",
    "    - `Fuel.tank.capacity`: Fuel tank capacity (US gallons)\n",
    "    - `Passengers`: Passenger capacity (persons)\n",
    "    "
   ],
   "id": "ad01c43da2da573f"
  },
  {
   "metadata": {},
   "cell_type": "code",
   "outputs": [],
   "execution_count": null,
   "source": "",
   "id": "f5aefe141240f49b"
  },
  {
   "metadata": {},
   "cell_type": "markdown",
   "source": "## Exercises Evaluation Metrics (Week 2)",
   "id": "53b575c45cdfc517"
  },
  {
   "metadata": {},
   "cell_type": "markdown",
   "source": [
    "### Question 1:\n",
    "- In the table below you will find the confusion matrix of a binary classifier.\n",
    "\n",
    "|            | Predicted YES | Predicted NO | Total |\n",
    "|------------|---------------|--------------|-------|\n",
    "| Actual YES | 100           | 5            | 105   |\n",
    "| Actual NO  | 10            | 50           | 60    |\n",
    "| Total      | 110           | 55           | 165   |\n",
    "\n",
    "- Now answer the following questions:\n",
    "     - What are the values for TP, TN, FP, FN?\n",
    "     - Now calculate the accuracy, precision and recall.\n",
    "     - Calculate the F1 and F1.5 measures.\n",
    "     - What is the TPR and FPR? Compare with your recall. What do you determine?"
   ],
   "id": "2e40c7e137da8d14"
  },
  {
   "metadata": {},
   "cell_type": "code",
   "outputs": [],
   "execution_count": null,
   "source": "",
   "id": "cc7546ca11e1b3d4"
  },
  {
   "metadata": {},
   "cell_type": "markdown",
   "source": [
    "### Question 2:\n",
    "- In the table below you will find the confusion matrix of a binary classifier.\n",
    "\n",
    "|            | Predicted YES | Predicted NO | Total |\n",
    "|------------|---------------|--------------|-------|\n",
    "| Actual A   | 100           | 0            | 100   |\n",
    "| Actual B   | 50            | 5            | 55    |\n",
    "| Total      | 150           | 5            | 155   |\n",
    "\n",
    "- Now answer the following questions:\n",
    "     - What are the values for TP, TN, FP, FN?\n",
    "     - Calculate the accuracy, precision and recall, and F1 with your own Python functions.\n",
    "     - Is this a good classifier?\n"
   ],
   "id": "b6cc7fb08fce5bc3"
  },
  {
   "metadata": {},
   "cell_type": "code",
   "outputs": [],
   "execution_count": null,
   "source": "",
   "id": "4d7801e018790c30"
  },
  {
   "metadata": {},
   "cell_type": "markdown",
   "source": [
    "### Question 3:\n",
    "- In the table below you will find the confusion matrix of a multiclass classifier.\n",
    "\n",
    "|            | Asfalt | Beton | Gras | Boom | Gebouw | Total |\n",
    "|------------|--------|-------|------|------|--------|-------|\n",
    "| Asfalt     | 2385   | 0     | 0    | 0    | 12     | 2397  |\n",
    "| Beton      | 4      | 332   | 1    | 0    | 0      | 337   |\n",
    "| Gras       | 0      | 0     | 908  | 0    | 0      | 908   |\n",
    "| Boom       | 1      | 0     | 8    | 1084 | 6      | 1099  |\n",
    "| Gebouw     | 4      | 1     | 0    | 9    | 2053   | 2067  |\n",
    "| Total      | 2394   | 333   | 917  | 1093 | 2071   | 6808  |\n",
    "\n",
    "- Beantwoord nu de volgende vragen:\n",
    "    - What are the values for TP, FP, FN for the Grass class?\n",
    "    - Now calculate the accuracy, precision and recall per class with these functions.\n",
    "    - Is this a good classifier?\n"
   ],
   "id": "f8c9e32b5e8193f8"
  },
  {
   "metadata": {},
   "cell_type": "code",
   "outputs": [],
   "execution_count": null,
   "source": "",
   "id": "50950c018a53a950"
  },
  {
   "metadata": {},
   "cell_type": "markdown",
   "source": [
    "### Question 4:\n",
    "- Read the data in the file `simpsons_roc1` & `simpsons_roc2`. Do you notice any differences?\n",
    "     - Use the `plot_roc` function to draw the ROC curve.\n",
    "     - What is the best threshold value?\n",
    "     - What is the AUC? What does it mean?\n",
    "    - Apply the found threshold value to the `y_score` column (this column contains the results of a neural network predict_proba function) to create a new predicted column.\n"
   ],
   "id": "fc8425b21e0a9909"
  },
  {
   "metadata": {},
   "cell_type": "code",
   "outputs": [],
   "execution_count": null,
   "source": "",
   "id": "bd2c27a3c6e56514"
  },
  {
   "metadata": {},
   "cell_type": "markdown",
   "source": [
    "### Question 5:\n",
    "- Two linear discriminant analysis models were built with the dataset infert. The results of the predictions can be found in the files `Education_roc1.csv` and `Education_roc2.csv`.\n",
    "    - Load both datasets.\n",
    "    - Use the `plot_roc` function to plot both ROC curves. For both data sets, use column `6-11yrs` as the `y-score` and transform the column `y_true` into 1 for the values `6-11yrs` and a 0 for the other values.\n",
    "    - What is the best threshold value for each of the ROC curves?\n",
    "    - Which model do you prefer?"
   ],
   "id": "92c07a3405518b0d"
  },
  {
   "metadata": {},
   "cell_type": "code",
   "outputs": [],
   "execution_count": null,
   "source": "",
   "id": "9576e19a1ba30b10"
  },
  {
   "metadata": {},
   "cell_type": "markdown",
   "source": "## No Lesson (Week 3)",
   "id": "4f57bc03ca7842ed"
  },
  {
   "metadata": {},
   "cell_type": "markdown",
   "source": "### No lessons were scheduled due to a Belgian holiday \"Labor Day\"",
   "id": "4cf7524af1afd6ec"
  },
  {
   "metadata": {},
   "cell_type": "markdown",
   "source": "## Exercises Neural Networks (Week 4)",
   "id": "13d7b992b1848e9f"
  },
  {
   "metadata": {},
   "cell_type": "markdown",
   "source": [
    "### Question 1: The Simpsons Revisited\n",
    "- We want to be able to predict the gender of a Simpson using... a neural network. This dataset is very small, and therefore we cannot construct a validation set or test set.\n",
    "    - Read the Simpsons dataset (`The_Simpsons_Original.csv`).\n",
    "    - Determine which columns we cannot use with this prediction?\n",
    "    - Now create an input training data set `x_simpsons` and normalize it (min-max normalization). Do the same for the output column(y4_simpsons).\n",
    "    - Create a neural network with the correct inputs and outputs.\n",
    "    - Use your neural network to predict the gender of your `x_simpsons`. Do they match the targets? Also predict the gender of the unknown Simpson (Comic guy: `hairlenght=8`, `weight=500`, `age=38`). Does this match the prediction you were made with decision trees?\n",
    "\n",
    "**Name of Columns**: `name` `hair length` `weight` `age` `gender`"
   ],
   "id": "1029fa607209320e"
  },
  {
   "metadata": {},
   "cell_type": "code",
   "outputs": [],
   "execution_count": null,
   "source": "",
   "id": "6e6564030b79ef67"
  },
  {
   "metadata": {},
   "cell_type": "markdown",
   "source": [
    "### Question 2: Forecast demo Revisited\n",
    "- We want to be able to predict a company's revenues per quarter for the last `5` years. This dataset is very small, and therefore we cannot construct a validation set or test set.\n",
    "    - Read the Forecasting dataset (`forecastdemo.csv`)\n",
    "    - Determine which columns we cannot use in this prediction?\n",
    "    - Now create an input training data set `x_forcast` and an output column `y_forcast`. Normalize where necessary.\n",
    "    - Create a neural network with the correct inputs and outputs.\n",
    "    - Use your neural network to predict the returns associated with `x_forcast`. Do they correspond to actual returns? Create one plot of the original data and the predicted data.\n",
    "\n",
    "**Name of Columns**: `Year` `Quarter` `Revenu`"
   ],
   "id": "a64edbf0e7a600b4"
  },
  {
   "metadata": {},
   "cell_type": "code",
   "outputs": [],
   "execution_count": null,
   "source": "",
   "id": "fe2b47428ac22328"
  },
  {
   "metadata": {},
   "cell_type": "markdown",
   "source": [
    "### Question 3: Iris\n",
    "- Load the iris dataset (`iris.csv`) and study its contents.\n",
    "- Determine which columns we cannot use in this prediction?\n",
    "- Now create an input data set `x_iris` and normalize it. Try one of the normalization techniques that you have not yet used in an exercise or assignment.\n",
    "- Create a training data set and a test data set (`x_train_iris` and `x_test_iris`) consisting of `80%` and `20%` (randomly chosen) of the input data set `x_iris` respectively.\n",
    "- Create a neural network with the correct inputs and outputs.\n",
    "- Evaluate your neural network on your test data set (`x_test_iris`). What accuracy do you achieve?\n",
    "\n",
    "**Name of Columns**: `sepal length` `sepal width` `petal length` `petal width` `target`"
   ],
   "id": "c5c14954a86e043f"
  },
  {
   "metadata": {},
   "cell_type": "code",
   "outputs": [],
   "execution_count": null,
   "source": "",
   "id": "8ba03b2be9dd5d7d"
  },
  {
   "metadata": {},
   "cell_type": "markdown",
   "source": "## Exercises Meta Heuristics (Week 5-6)",
   "id": "d70c9f58f6e7da43"
  },
  {
   "metadata": {},
   "cell_type": "markdown",
   "source": [
    "### Question 1: The Backpack\n",
    "You will find yourself in a **secret room** equipped with a door with a **time lock**. You'll see a timer countdown telling you that you only have five minutes left before the door will be locked forever. In front of you are **valuable objects**, each with their own **yield and weight**. You have a backpack that can carry an absolute maximum weight of `750 grams`. Put together the optimal backpack. You should end up with an optimal yield of `1458` (or at least a value close to that).\n",
    "\n",
    "$$ \\text{Maximize} \\sum_{i=1}^{n} v_i \\cdot x_i $$"
   ],
   "id": "6058e50b93fffa60"
  },
  {
   "metadata": {},
   "cell_type": "code",
   "outputs": [],
   "execution_count": null,
   "source": [
    "knapsackItems = pd.read_csv('../Data/KnapsackItems.csv', sep=',')\n",
    "display(knapsackItems.head())"
   ],
   "id": "d93367a00aadaa07"
  },
  {
   "metadata": {},
   "cell_type": "code",
   "outputs": [],
   "execution_count": null,
   "source": "",
   "id": "19a4b8dc38758cbb"
  },
  {
   "metadata": {},
   "cell_type": "markdown",
   "source": [
    "### Question 2: The Gutter\n",
    "You are responsible for the design of gutters where the production costs must be as low as possible. It is therefore necessary that the gutters have an optimal cross-section with the available material so that leaves and dirt can be easily removed. The company you work for purchases **metal plates** that have a width of `1m. In other words H + W + H` see drawing-must be less than or equal to `1m`. Determine the **ideal `width B` and `height H`** of the gutter that you can make from the `1m` plates.\n",
    "\n",
    "$$ \\text{Maximize} \\frac{1}{2} \\cdot B \\cdot H $$\n",
    "\n",
    "![Gutter](../W23P4-W24P4/Images/theGutter.png)"
   ],
   "id": "4a91b753b61cf14d"
  },
  {
   "metadata": {},
   "cell_type": "code",
   "outputs": [],
   "execution_count": null,
   "source": "",
   "id": "929a494fab43a160"
  },
  {
   "metadata": {},
   "cell_type": "markdown",
   "source": [
    "### Question 3: The Football Stadium\n",
    "The local sports club wants to build a new stadium. The perimeter of the sports field should be `400m`, and at the same time we want to ensure that the central midfield has a maximum surface area. Determine the ideal length and width ratio.\n",
    "\n",
    "$$ \\text{Maximize } L \\cdot B $$\n",
    "\n",
    "![The Football Stadium](../W23P4-W24P4/Images/theFootballStadium.png)"
   ],
   "id": "af831a1977c6fcaa"
  },
  {
   "metadata": {},
   "cell_type": "code",
   "outputs": [],
   "execution_count": null,
   "source": "",
   "id": "3184f4570dd229b9"
  },
  {
   "metadata": {},
   "cell_type": "markdown",
   "source": [
    "### Question 4: Optimization problem\n",
    "\n",
    "Given the following objective function to be maximized:\n",
    "\n",
    "\n",
    "$ obj = 0.2 + x_1^2 + x_2^2 - 0.1 \\cos(6\\pi x_1) - 0.1 \\cos(6\\pi x_2) $\n",
    "\n",
    "\n",
    "With the following restrictions: $-1.0 \\leq x_i \\leq 1.0$ met $i=1,2$\n",
    "\n",
    "Find a good solution."
   ],
   "id": "9b7556a7d5856303"
  },
  {
   "metadata": {},
   "cell_type": "code",
   "outputs": [],
   "execution_count": null,
   "source": "",
   "id": "60e28cc313abc62a"
  },
  {
   "metadata": {},
   "cell_type": "markdown",
   "source": [
    "### Question 5: Quiz\n",
    "\n",
    "1. Hebben bovengemiddelde chromosomen altijd een beter nageslacht? \n",
    "2. Kan je met cross-over de hele zoekruimte verkennen? Zijn er beperkingen van deze verkenning?\n",
    "3. Waarom speelt de kans op mutatie een belangrijke rol?\n",
    "4. Waarom start je bij Simulated Annealing het best met een gerandomiseerde vector?\n",
    "5. Waarom moet de temperatuur bij simulated annealing afnemen?"
   ],
   "id": "febc066b07108ba"
  },
  {
   "metadata": {},
   "cell_type": "code",
   "outputs": [],
   "execution_count": null,
   "source": "",
   "id": "15d11256755141"
  }
 ],
 "metadata": {
  "kernelspec": {
   "display_name": "Python 3",
   "language": "python",
   "name": "python3"
  },
  "language_info": {
   "codemirror_mode": {
    "name": "ipython",
    "version": 2
   },
   "file_extension": ".py",
   "mimetype": "text/x-python",
   "name": "python",
   "nbconvert_exporter": "python",
   "pygments_lexer": "ipython2",
   "version": "2.7.6"
  }
 },
 "nbformat": 4,
 "nbformat_minor": 5
}

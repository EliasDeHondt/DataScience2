{
 "cells": [
  {
   "cell_type": "markdown",
   "id": "3959ab7c-c52f-4912-a177-85ee5ec5a8ec",
   "metadata": {},
   "source": [
    "# P4 Examen\n",
    "- **Name**: Elias De Hondt\n",
    "- **Class**: ISB204B\n",
    "- **Course**: Data Science 2\n",
    "- **Date**: 11/06/2024\n",
    "- **StudentID**: 0160712-80\n",
    "\n",
    "> You hand in a **completed notebook**, so the **results of the calculations are also included**. Results should **not** be rounded."
   ]
  },
  {
   "cell_type": "code",
   "id": "5d6867e0-ae45-4e93-813e-23e1bbbbaf96",
   "metadata": {
    "ExecuteTime": {
     "end_time": "2024-06-11T11:37:24.226171Z",
     "start_time": "2024-06-11T11:37:24.209170Z"
    }
   },
   "source": [
    "# Import statements:\n",
    "from termcolor import colored # type: ignore                                          # Colored text\n",
    "from random import Random  # type: ignore                                             # Random number generator\n",
    "import math  # type: ignore                                                           # Mathematical functions\n",
    "import pandas as pd  # type: ignore                                                   # Data manipulation\n",
    "import numpy as np  # type: ignore                                                    # Scientific computing\n",
    "import matplotlib.pyplot as plt  # type: ignore                                       # Data visualization\n",
    "from scipy.stats import binom as binomial  # type: ignore                             # Binomial distribution\n",
    "from scipy.stats import norm as normal  # type: ignore                                # Normal distribution\n",
    "from scipy.stats import poisson as poisson  # type: ignore                            # Poisson distribution\n",
    "from scipy.stats import t as student  # type: ignore                                  # Student distribution\n",
    "from scipy.stats import chi2  # type: ignore                                          # Chi-squared distribution\n",
    "from scipy.stats import ttest_1samp  # type: ignore                                   # One-sample t-test\n",
    "from scipy.stats import chisquare  # type: ignore                                     # Chi-squared test\n",
    "from scipy.special import comb  # type: ignore                                        # Combinations\n",
    "from mlxtend.frequent_patterns import apriori  # type: ignore                         # Apriori algorithm\n",
    "from mlxtend.frequent_patterns import fpgrowth  # type: ignore                        # FP-growth algorithm\n",
    "from mlxtend.frequent_patterns import association_rules  # type: ignore               # Association rules\n",
    "from mlxtend.preprocessing import TransactionEncoder  # type: ignore                  # Transaction encoder\n",
    "from sklearn.discriminant_analysis import LinearDiscriminantAnalysis  # type: ignore  # Discriminant Analysis\n",
    "from tensorflow import keras  # type: ignore                                          # Deep Learning library\n",
    "from tensorflow.keras import Model  # type: ignore                                    # Model class\n",
    "from tensorflow.keras.layers import Input, Dense, BatchNormalization  # type: ignore  # Layers\n",
    "from tensorflow.keras.utils import to_categorical  # type: ignore                     # One-hot encoding\n",
    "from tensorflow.keras.optimizers import Adam  # type: ignore                          # Optimizer\n",
    "from livelossplot import PlotLossesKeras  # type: ignore                              # Live plot\n",
    "from keras.src.optimizers import RMSprop  # type: ignore                              # Optimizer\n",
    "from sklearn.model_selection import train_test_split  # type: ignore                  # Train-test split\n",
    "from sklearn.metrics import roc_auc_score # type: ignore                              # ROC AUC score\n",
    "from simanneal import Annealer  # type: ignore                                        # Simulated Annealing\n",
    "from inspyred import ec  # type: ignore                                               # Evolutionary Computation\n",
    "import warnings  # type: ignore                                                       # Disable warnings\n",
    "warnings.filterwarnings(\"ignore\")                                                     # Disable warnings\n",
    "outputColor = \"blue\"                                                                  # Color for the output"
   ],
   "outputs": [],
   "execution_count": 11
  },
  {
   "cell_type": "code",
   "id": "828890e8-f957-4fa5-ae18-c67bf5c7a1a1",
   "metadata": {
    "ExecuteTime": {
     "end_time": "2024-06-11T11:43:01.780695Z",
     "start_time": "2024-06-11T11:43:01.736591Z"
    }
   },
   "source": [
    "# Function definitions:\n",
    "def LDA_coefficients(x, lda):\n",
    "    \"\"\"\n",
    "    Computes the Linear Discriminant Analysis (LDA) coefficients for each class.\n",
    "    This function transforms the input data using LDA and calculates the coefficients for the discriminant functions.\n",
    "\n",
    "    Parameters:\n",
    "    - X (pd.DataFrame): Input features for LDA.\n",
    "    - lda (object): Trained LDA model.\n",
    "\n",
    "    Returns:\n",
    "    - pd.DataFrame: A dataframe containing the LDA coefficients for each class.\n",
    "\n",
    "    Usage:\n",
    "    coefficients = LDA_coefficients(X, lda_model)\n",
    "    \"\"\"\n",
    "    nb_col = x.shape[1]\n",
    "    matrix = np.zeros((nb_col + 1, nb_col), dtype=int)\n",
    "    Z = pd.DataFrame(data=matrix, columns=x.columns)\n",
    "    for j in range(nb_col):\n",
    "        Z.iloc[j, j] = 1\n",
    "    LD = lda.transform(Z)\n",
    "    resultaat = pd.DataFrame()\n",
    "    index = ['const'] + list(x.columns)\n",
    "\n",
    "    for i in range(LD.shape[1]):\n",
    "        coef = [LD[-1, i]] + list(LD[:-1, i] - LD[-1, i])\n",
    "        result = pd.Series(coef, index=index)\n",
    "        column_name = f'LD{i + 1}'\n",
    "        resultaat[column_name] = result\n",
    "\n",
    "    return resultaat\n",
    "\n",
    "\n",
    "def trueFalsef(matrix, columnnb=0):\n",
    "    \"\"\"\n",
    "    Calculates and prints the True Positive (TP), True Negative (TN), False Positive (FP),\n",
    "    and False Negative (FN) rates from a confusion matrix.\n",
    "\n",
    "    Parameters:\n",
    "    - confusion_matrix (pd.DataFrame): Confusion matrix for the classification.\n",
    "    - columnnb (int): Index of the class for which to compute the metrics (default is 0).\n",
    "\n",
    "    Returns:\n",
    "    - None: This function prints the metrics directly.\n",
    "\n",
    "    Usage:\n",
    "    trueFalsef(confusion_matrix, columnnb=0)\n",
    "    \"\"\"\n",
    "\n",
    "    TP = matrix.values[columnnb][columnnb]\n",
    "    print(colored(f'TP: {TP}', 'blue'))\n",
    "    TN = np.diag(matrix).sum() - TP\n",
    "    print(colored(f'TN: {TN}', 'blue'))\n",
    "    FP = matrix.values[:, columnnb].sum() - TP\n",
    "    print(colored(f'FP: {FP}', 'blue'))\n",
    "    FN = matrix.values[columnnb, :].sum() - TP\n",
    "    print(colored(f'FN: {FN}', 'blue'))\n",
    "    return\n",
    "\n",
    "\n",
    "def calculate_confusion_metrics(matrix, class_label):\n",
    "    \"\"\"\n",
    "    Calculates the True Positive (TP), True Negative (TN), False Positive (FP), and False Negative (FN) rates\n",
    "    for a specific class from a confusion matrix.\n",
    "\n",
    "    Parameters:\n",
    "    - confusion_matrix (pd.DataFrame): Confusion matrix for the classification.\n",
    "    - class_label (str): The label of the class for which to compute the metrics.\n",
    "\n",
    "    Returns:\n",
    "    - tuple: A tuple containing the TP, TN, FP, and FN rates for the specified class.\n",
    "\n",
    "    Usage:\n",
    "    TP, TN, FP, FN = calculate_confusion_metrics(matrix, 'class1')\n",
    "    \"\"\"\n",
    "    class_index = matrix.columns.get_loc(class_label)\n",
    "    TP = matrix.iloc[class_index, class_index]\n",
    "    FP = matrix.iloc[:, class_index].sum() - TP\n",
    "    FN = matrix.iloc[class_index, :].sum() - TP\n",
    "    total_sum = matrix.values.sum()\n",
    "    TN = total_sum - (TP + FP + FN)\n",
    "\n",
    "    return TP, TN, FP, FN\n",
    "\n",
    "\n",
    "def accuracyf(matrix):\n",
    "    \"\"\"\n",
    "    Calculates the overall accuracy from a confusion matrix.\n",
    "\n",
    "    Parameters:\n",
    "    - confusion_matrix (pd.DataFrame): Confusion matrix for the classification.\n",
    "\n",
    "    Returns:\n",
    "    - float: The accuracy of the classification.\n",
    "\n",
    "    Usage:\n",
    "    accuracy = accuracyf(matrix)\n",
    "    \"\"\"\n",
    "    return np.diag(matrix).sum() / matrix.sum().sum()\n",
    "\n",
    "\n",
    "def precisionf(matrix):\n",
    "    \"\"\"\n",
    "    Calculates the precision for each class from a confusion matrix.\n",
    "\n",
    "    Parameters:\n",
    "    - confusion_matrix (pd.DataFrame): Confusion matrix for the classification.\n",
    "\n",
    "    Returns:\n",
    "    - list: A list of precision values for each class.\n",
    "\n",
    "    Usage:\n",
    "    precision = precisionf(matrix)\n",
    "    \"\"\"\n",
    "    results = []\n",
    "    n = matrix.shape[1]\n",
    "    for i in range(0, n):\n",
    "        TP = matrix.values[i][i]\n",
    "        results = results + [TP / matrix.values[:, i].sum()]\n",
    "    return results\n",
    "\n",
    "\n",
    "def recallf(matrix):\n",
    "    \"\"\"\n",
    "    Calculates the recall for each class from a confusion matrix.\n",
    "\n",
    "    Parameters:\n",
    "    - confusion_matrix (pd.DataFrame): Confusion matrix for the classification.\n",
    "\n",
    "    Returns:\n",
    "    - list: A list of recall values for each class.\n",
    "\n",
    "    Usage:\n",
    "    recall = recallf(matrix)\n",
    "    \"\"\"\n",
    "    results = []\n",
    "    n = matrix.shape[0]\n",
    "    for i in range(0, n):\n",
    "        TP = matrix.values[i][i]\n",
    "        results = results + [TP / matrix.values[i, :].sum()]\n",
    "    return results\n",
    "\n",
    "\n",
    "def f_measuref(matrix, beta):\n",
    "    \"\"\"\n",
    "    Calculates the F-measure (F1 score) for each class from a confusion matrix using a specified beta value.\n",
    "\n",
    "    Parameters:\n",
    "    - confusion_matrix (pd.DataFrame): Confusion matrix for the classification.\n",
    "    - beta (float): The beta value to weigh precision and recall (default is 1, which gives the F1 score).\n",
    "\n",
    "    Returns:\n",
    "    - list: A list of F-measure values for each class.\n",
    "\n",
    "    Usage:\n",
    "    f_measure = f_measuref(matrix, beta=1)\n",
    "    \"\"\"\n",
    "    precisionarray = precisionf(matrix)\n",
    "    recallarray = recallf(matrix)\n",
    "    fmeasure = []\n",
    "    n = len(precisionarray)\n",
    "    for i in range(0, n):\n",
    "        p = precisionarray[i]\n",
    "        r = recallarray[i]\n",
    "        fmeasure = fmeasure + [((beta * beta + 1) * p * r) / (beta * beta * p + r)]\n",
    "    return fmeasure\n",
    "\n",
    "\n",
    "def overview_metrieken(matrix, beta):\n",
    "    \"\"\"\n",
    "    Provides an overview of classification metrics (precision, recall, F-measure) for each class in a confusion matrix.\n",
    "\n",
    "    Parameters:\n",
    "    - confusion_matrix (pd.DataFrame): Confusion matrix for the classification.\n",
    "    - beta (float): The beta value to weigh precision and recall for the F-measure (default is 1).\n",
    "\n",
    "    Returns:\n",
    "    - list: A list containing a dataframe with precision, recall, and F-measure for each class.\n",
    "\n",
    "    Usage:\n",
    "    metrics_overview = overview_metrieken(matrix, beta=1)\n",
    "    \"\"\"\n",
    "    overview_1 = np.transpose(precisionf(matrix))\n",
    "    overview_2 = np.transpose(recallf(matrix))\n",
    "    overview_3 = np.transpose(f_measuref(matrix, beta))\n",
    "    overview_table = pd.DataFrame(data=np.array([overview_1, overview_2, overview_3]), columns=matrix.index)\n",
    "    overview_table.index = ['precision', 'recall', 'fx']\n",
    "    return [overview_table]\n",
    "\n",
    "\n",
    "def positiveratesf(matrix):\n",
    "    \"\"\"\n",
    "    Calculates and prints the True Positive Rate (TPR) and False Positive Rate (FPR) for a\n",
    "    binary classification confusion matrix.\n",
    "\n",
    "    Parameters:\n",
    "    - confusion_matrix (pd.DataFrame): Confusion matrix for binary classification.\n",
    "\n",
    "    Returns:\n",
    "    - None: This function prints the TPR and FPR directly.\n",
    "\n",
    "    Usage:\n",
    "    positiveratesf(matrix)\n",
    "    \"\"\"\n",
    "    if (matrix.shape[0] == 2) & (matrix.shape[1] == 2):\n",
    "        TPR = matrix.values[0][0] / matrix.values[0, :].sum()\n",
    "        print(colored(f\"TPR: {TPR}\", \"blue\"))\n",
    "        FPR = matrix.values[1][0] / matrix.values[1, :].sum()\n",
    "        print(colored(f\"FPR: {FPR}\", \"blue\"))\n",
    "    return\n",
    "\n",
    "\n",
    "def plot_rocf(y_true, y_score, title='ROC Curve', **kwargs):\n",
    "    \"\"\"\n",
    "    Plots the Receiver Operating Characteristic (ROC) curve and calculates the Area Under the Curve (AUC) for a set of\n",
    "    true labels and predicted scores. It also highlights the optimal threshold on the ROC curve.\n",
    "\n",
    "    Parameters:\n",
    "    - y_true (array-like): True binary labels.\n",
    "    - y_score (array-like): Target scores, probability estimates of the positive class.\n",
    "    - title (str): Title of the ROC curve plot (default is 'ROC Curve').\n",
    "    - **kwargs (dict): Additional keyword arguments for customizing the plot.\n",
    "\n",
    "    Returns:\n",
    "    - None: This function plots the ROC curve directly.\n",
    "\n",
    "    Usage:\n",
    "    plot_rocf(y_true, y_score, title='My ROC Curve', pos_label=1, figsize=(8, 8))\n",
    "    \"\"\"\n",
    "    from sklearn.metrics import roc_curve, roc_auc_score\n",
    "\n",
    "    if 'pos_label' in kwargs:\n",
    "        fpr, tpr, thresholds = roc_curve(y_true=y_true, y_score=y_score, pos_label=kwargs.get('pos_label'))\n",
    "        auc = roc_auc_score(y_true, y_score)\n",
    "    else:\n",
    "        fpr, tpr, thresholds = roc_curve(y_true=y_true, y_score=y_score)\n",
    "        auc = roc_auc_score(y_true, y_score)\n",
    "\n",
    "    optimal_idx = np.argmax(tpr - fpr)\n",
    "    optimal_threshold = thresholds[optimal_idx]\n",
    "\n",
    "    figsize = kwargs.get('figsize', (7, 7))\n",
    "    fig, ax = plt.subplots(1, 1, figsize=figsize)\n",
    "    ax.grid(linestyle='--')\n",
    "\n",
    "    ax.plot(fpr, tpr, color='darkorange', label='AUC: {}'.format(auc))\n",
    "    ax.set_title(title)\n",
    "    ax.set_xlabel('False Positive Rate (FPR)')\n",
    "    ax.set_ylabel('True Positive Rate (TPR)')\n",
    "    ax.fill_between(fpr, tpr, alpha=0.3, color='darkorange', edgecolor='black')\n",
    "\n",
    "    ax.plot([0, 1], [0, 1], color='navy', lw=2, linestyle='--')\n",
    "\n",
    "    ax.scatter(fpr[optimal_idx], tpr[optimal_idx], label='optimal cutoff {:.2f} on ({:.2f},{:.2f})'.format(optimal_threshold, fpr[optimal_idx], tpr[optimal_idx]), color='red')\n",
    "    ax.plot([fpr[optimal_idx], fpr[optimal_idx]], [0, tpr[optimal_idx]], linestyle='--', color='red')\n",
    "    ax.plot([0, fpr[optimal_idx]], [tpr[optimal_idx], tpr[optimal_idx]], linestyle='--', color='red')\n",
    "\n",
    "    ax.legend(loc='lower right')\n",
    "    plt.show()\n",
    "\n",
    "\n",
    "def evaluate_classifier(matrix, beta=1, threshold=0.9):\n",
    "    \"\"\"\n",
    "    Evaluates a classifier based on its confusion matrix and specified threshold for various metrics.\n",
    "    This function checks if the classifier meets the threshold criteria for accuracy, precision, recall, and F1-score.\n",
    "\n",
    "    Parameters:\n",
    "    - confusion_matrix (pd.DataFrame): Confusion matrix for the classification.\n",
    "    - beta (float): The beta value to weigh precision and recall for the F-measure (default is 1).\n",
    "    - threshold (float): The threshold value to evaluate the metrics (default is 0.9).\n",
    "\n",
    "    Returns:\n",
    "    - None: This function prints the evaluation result directly.\n",
    "\n",
    "    Usage:\n",
    "    evaluate_classifier(confusion_matrix, beta=1, threshold=0.9)\n",
    "    \"\"\"\n",
    "    TP = np.diag(matrix).sum()\n",
    "    TN = np.sum(np.diag(matrix)) - TP\n",
    "    accuracy = (TP + TN) / matrix.sum().sum()\n",
    "\n",
    "    n = matrix.shape[1]\n",
    "    precision = [np.diag(matrix)[i] / np.sum(matrix.iloc[i, :]) if np.sum(matrix.iloc[i, :]) > 0 else 0 for i in range(0, n)]\n",
    "\n",
    "    n = matrix.shape[0]\n",
    "    recall = [np.diag(matrix)[i] / np.sum(matrix.iloc[:, i]) if np.sum(matrix.iloc[:, i]) > 0 else 0 for i in range(0, n)]\n",
    "\n",
    "    f1_score = [((beta ** 2 + 1) * p * r) / ((beta ** 2 * p) + r) if (p + r) > 0 else 0 for p, r in zip(precision, recall)]\n",
    "\n",
    "    if accuracy >= threshold and all(prec >= threshold for prec in precision) and all(rec >= threshold for rec in recall) and all(f1 >= threshold for f1 in f1_score):\n",
    "        print(colored(f\"This is a good classifier with a threshold of {threshold * 100}%\", \"blue\"))\n",
    "    else:\n",
    "        print(colored(f\"This is a bad classifier with a threshold of {threshold * 100}%\", \"blue\"))\n",
    "\n",
    "\n",
    "def categorize_variables(df):\n",
    "    \"\"\"\n",
    "    Categorize columns in a DataFrame into potential dependent (categorical)\n",
    "    and independent (numerical) variables for Discriminant Analysis.\n",
    "\n",
    "    Parameters:\n",
    "    df (pd.DataFrame): The DataFrame containing the data to be analyzed.\n",
    "\n",
    "    Returns:\n",
    "    tuple: A tuple containing two lists:\n",
    "        - dependent_vars (list): List of column names suitable as dependent variables (categorical).\n",
    "        - independent_vars (list): List of column names suitable as independent variables (numerical).\n",
    "    \"\"\"\n",
    "    independentVars = []\n",
    "    dependentVars = []\n",
    "\n",
    "    for col in df.columns:\n",
    "        if pd.api.types.is_numeric_dtype(df[col]):\n",
    "            independentVars.append(col)\n",
    "        elif pd.api.types.is_categorical_dtype(df[col]) or pd.api.types.is_object_dtype(df[col]) or pd.api.types.is_bool_dtype(df[col]):\n",
    "            dependentVars.append(col)\n",
    "\n",
    "    return independentVars, dependentVars\n",
    "\n",
    "\n",
    "def find_best_threshold(y_true, y_score, beta=1):\n",
    "    \"\"\"\n",
    "    Finds the optimal threshold for classification by maximizing the F1-score based on the precision-recall curve.\n",
    "\n",
    "    Parameters:\n",
    "    - y_true (array-like): True binary labels.\n",
    "    - y_score (array-like): Target scores, probability estimates of the positive class.\n",
    "    - beta (float): The beta value to weigh precision and recall for the F-measure (default is 1).\n",
    "\n",
    "    Returns:\n",
    "    - float: The optimal threshold that maximizes the F1-score.\n",
    "\n",
    "    Usage:\n",
    "    best_threshold = find_best_threshold(y_true, y_score, beta=1)\n",
    "    \"\"\"\n",
    "    from sklearn.metrics import precision_recall_curve\n",
    "\n",
    "    precision, recall, thresholds = precision_recall_curve(y_true, y_score)\n",
    "    f1_score = [(beta ** 2 + 1) * p * r / ((beta ** 2 * p) + r) if (p != 0 and r != 0) else 0 for p, r in zip(precision, recall)]\n",
    "    optimal_idx = f1_score.index(max(f1_score))\n",
    "    return thresholds[optimal_idx]\n",
    "\n",
    "\n",
    "def most_important_variable(independentVariables, dependentVariable):\n",
    "    \"\"\"\n",
    "    Finds the most important variable for Linear Discriminant Analysis (LDA) based on the coefficients.\n",
    "    This function fits an LDA model and returns the variable with the highest absolute coefficient.\n",
    "\n",
    "    Parameters:\n",
    "    - independent_vars (pd.DataFrame): Input features for LDA.\n",
    "    - dependent_var (pd.Series): Target variable for LDA.\n",
    "\n",
    "    Returns:\n",
    "    - pd.Series: A series containing the most important variable and its coefficient.\n",
    "\n",
    "    Usage:\n",
    "    important_var = most_important_variable(independent_vars, dependent_var)\n",
    "    \"\"\"\n",
    "    lda = LinearDiscriminantAnalysis()\n",
    "    lda.fit(independentVariables, dependentVariable)\n",
    "    coef_df = pd.DataFrame({'Variable': independentVariables.columns, 'Coefficient': lda.coef_[0]})\n",
    "\n",
    "    coef_df['Absolute Coefficient'] = coef_df['Coefficient'].abs()\n",
    "\n",
    "    return coef_df.loc[coef_df['Absolute Coefficient'].idxmax()]"
   ],
   "outputs": [],
   "execution_count": 14
  },
  {
   "metadata": {
    "ExecuteTime": {
     "end_time": "2024-06-11T13:07:30.504878Z",
     "start_time": "2024-06-11T13:07:30.480957Z"
    }
   },
   "cell_type": "code",
   "source": [
    "# Load in data and filter data\n",
    "CellPhone = pd.read_csv('../Data/CellPhone_train.csv', delimiter=',', decimal='.')"
   ],
   "id": "c692e7d8d75b7311",
   "outputs": [],
   "execution_count": 48
  },
  {
   "cell_type": "markdown",
   "id": "dae70c5b-63e2-491d-9b21-99c86db0e830",
   "metadata": {},
   "source": "## Questions 1"
  },
  {
   "cell_type": "code",
   "id": "ac4c918a-4b02-4bb1-9565-89d586d96b33",
   "metadata": {
    "ExecuteTime": {
     "end_time": "2024-06-11T12:26:50.212812Z",
     "start_time": "2024-06-11T12:26:50.153952Z"
    }
   },
   "source": [
    "independentVariables = 8\n",
    "print(colored(f\"Here is the requested solution: {independentVariables - 1}\", outputColor))"
   ],
   "outputs": [
    {
     "name": "stdout",
     "output_type": "stream",
     "text": [
      "\u001B[34mHere is the requested solution: 7\u001B[0m\n"
     ]
    }
   ],
   "execution_count": 16
  },
  {
   "cell_type": "markdown",
   "id": "7ac7f699-4cf3-4340-a4b1-ba827b7aa5c2",
   "metadata": {},
   "source": "## Questions 2"
  },
  {
   "cell_type": "code",
   "id": "ff5da0df-8794-4ded-aebf-3e9864a9ba8e",
   "metadata": {
    "ExecuteTime": {
     "end_time": "2024-06-11T14:25:31.057186Z",
     "start_time": "2024-06-11T14:25:31.028335Z"
    }
   },
   "source": [
    "# Create linear discriminant analysis model\n",
    "independentVariables = CellPhone[['battery_power', 'clock_speed', 'fc', 'int_memory', 'n_cores', 'pc', 'ram', 'talk_time']]         # Independent variables\n",
    "dependentVariable = np.where(CellPhone['price_range'] == 3, 'True', 'False')                                                        # Replace the output & Dependent variable\n",
    "lda = LinearDiscriminantAnalysis()\n",
    "lda.fit(independentVariables, dependentVariable)\n",
    "\n",
    "resultaat = LDA_coefficients(independentVariables, lda)\n",
    "\n",
    "display(resultaat)"
   ],
   "outputs": [
    {
     "data": {
      "text/plain": [
       "                    LD1\n",
       "const         -3.890118\n",
       "battery_power  0.000855\n",
       "clock_speed   -0.015213\n",
       "fc            -0.010454\n",
       "int_memory     0.004280\n",
       "n_cores       -0.001439\n",
       "pc             0.003935\n",
       "ram            0.001301\n",
       "talk_time     -0.003131"
      ],
      "text/html": [
       "<div>\n",
       "<style scoped>\n",
       "    .dataframe tbody tr th:only-of-type {\n",
       "        vertical-align: middle;\n",
       "    }\n",
       "\n",
       "    .dataframe tbody tr th {\n",
       "        vertical-align: top;\n",
       "    }\n",
       "\n",
       "    .dataframe thead th {\n",
       "        text-align: right;\n",
       "    }\n",
       "</style>\n",
       "<table border=\"1\" class=\"dataframe\">\n",
       "  <thead>\n",
       "    <tr style=\"text-align: right;\">\n",
       "      <th></th>\n",
       "      <th>LD1</th>\n",
       "    </tr>\n",
       "  </thead>\n",
       "  <tbody>\n",
       "    <tr>\n",
       "      <th>const</th>\n",
       "      <td>-3.890118</td>\n",
       "    </tr>\n",
       "    <tr>\n",
       "      <th>battery_power</th>\n",
       "      <td>0.000855</td>\n",
       "    </tr>\n",
       "    <tr>\n",
       "      <th>clock_speed</th>\n",
       "      <td>-0.015213</td>\n",
       "    </tr>\n",
       "    <tr>\n",
       "      <th>fc</th>\n",
       "      <td>-0.010454</td>\n",
       "    </tr>\n",
       "    <tr>\n",
       "      <th>int_memory</th>\n",
       "      <td>0.004280</td>\n",
       "    </tr>\n",
       "    <tr>\n",
       "      <th>n_cores</th>\n",
       "      <td>-0.001439</td>\n",
       "    </tr>\n",
       "    <tr>\n",
       "      <th>pc</th>\n",
       "      <td>0.003935</td>\n",
       "    </tr>\n",
       "    <tr>\n",
       "      <th>ram</th>\n",
       "      <td>0.001301</td>\n",
       "    </tr>\n",
       "    <tr>\n",
       "      <th>talk_time</th>\n",
       "      <td>-0.003131</td>\n",
       "    </tr>\n",
       "  </tbody>\n",
       "</table>\n",
       "</div>"
      ]
     },
     "metadata": {},
     "output_type": "display_data"
    }
   ],
   "execution_count": 129
  },
  {
   "cell_type": "markdown",
   "id": "4d11afd7-805a-43fa-ae0a-d6586ff890ab",
   "metadata": {},
   "source": "## Questions 3"
  },
  {
   "cell_type": "code",
   "id": "b4e55c97-d34c-43f1-ad7c-1ec6e5a2a110",
   "metadata": {
    "scrolled": true,
    "ExecuteTime": {
     "end_time": "2024-06-11T14:27:46.625017Z",
     "start_time": "2024-06-11T14:27:46.580245Z"
    }
   },
   "source": [
    "# Create confusion matrix\n",
    "predicted = pd.Series(lda.predict(independentVariables), name='Predicted')\n",
    "actual = CellPhone['predicted_price_range'].rename('actual')\n",
    "confusion_matrix = pd.crosstab(index=actual, columns=predicted, margins='All', margins_name='Total')\n",
    "display(confusion_matrix)"
   ],
   "outputs": [
    {
     "data": {
      "text/plain": [
       "Predicted  False  True  Total\n",
       "actual                       \n",
       "0            515     0    515\n",
       "1            489     0    489\n",
       "2            446    45    491\n",
       "3              0   505    505\n",
       "Total       1450   550   2000"
      ],
      "text/html": [
       "<div>\n",
       "<style scoped>\n",
       "    .dataframe tbody tr th:only-of-type {\n",
       "        vertical-align: middle;\n",
       "    }\n",
       "\n",
       "    .dataframe tbody tr th {\n",
       "        vertical-align: top;\n",
       "    }\n",
       "\n",
       "    .dataframe thead th {\n",
       "        text-align: right;\n",
       "    }\n",
       "</style>\n",
       "<table border=\"1\" class=\"dataframe\">\n",
       "  <thead>\n",
       "    <tr style=\"text-align: right;\">\n",
       "      <th>Predicted</th>\n",
       "      <th>False</th>\n",
       "      <th>True</th>\n",
       "      <th>Total</th>\n",
       "    </tr>\n",
       "    <tr>\n",
       "      <th>actual</th>\n",
       "      <th></th>\n",
       "      <th></th>\n",
       "      <th></th>\n",
       "    </tr>\n",
       "  </thead>\n",
       "  <tbody>\n",
       "    <tr>\n",
       "      <th>0</th>\n",
       "      <td>515</td>\n",
       "      <td>0</td>\n",
       "      <td>515</td>\n",
       "    </tr>\n",
       "    <tr>\n",
       "      <th>1</th>\n",
       "      <td>489</td>\n",
       "      <td>0</td>\n",
       "      <td>489</td>\n",
       "    </tr>\n",
       "    <tr>\n",
       "      <th>2</th>\n",
       "      <td>446</td>\n",
       "      <td>45</td>\n",
       "      <td>491</td>\n",
       "    </tr>\n",
       "    <tr>\n",
       "      <th>3</th>\n",
       "      <td>0</td>\n",
       "      <td>505</td>\n",
       "      <td>505</td>\n",
       "    </tr>\n",
       "    <tr>\n",
       "      <th>Total</th>\n",
       "      <td>1450</td>\n",
       "      <td>550</td>\n",
       "      <td>2000</td>\n",
       "    </tr>\n",
       "  </tbody>\n",
       "</table>\n",
       "</div>"
      ]
     },
     "metadata": {},
     "output_type": "display_data"
    }
   ],
   "execution_count": 138
  },
  {
   "metadata": {
    "ExecuteTime": {
     "end_time": "2024-06-11T14:33:41.169613Z",
     "start_time": "2024-06-11T14:33:41.153040Z"
    }
   },
   "cell_type": "code",
   "source": [
    "# Evaluating model\n",
    "precision_0 = precisionf(confusion_matrix)[0]\n",
    "precision_1 = precisionf(confusion_matrix)[1]\n",
    "precision_2 = precisionf(confusion_matrix)[2]\n",
    "precision_3 = precisionf(confusion_matrix)[3]\n",
    "\n",
    "recall_0 = recallf(confusion_matrix)[0]\n",
    "recall_1 = recallf(confusion_matrix)[1]\n",
    "recall_2 = recallf(confusion_matrix)[2]\n",
    "recall_3 = recallf(confusion_matrix)[3]\n",
    "\n",
    "f1_0 = f_measuref(confusion_matrix, 1)[0]\n",
    "f1_1 = f_measuref(confusion_matrix, 1)[1]\n",
    "f1_2 = f_measuref(confusion_matrix, 1)[2]\n",
    "f1_3 = f_measuref(confusion_matrix, 1)[3]\n",
    "\n",
    "# Precision: The number of correct positive predictions divided by the total predictions.\n",
    "print(colored(f\"The precision of the classifier for 0 is: {round(precision_0, 2) * 100}%\", outputColor))\n",
    "print(colored(f\"The precision of the classifier for 1 is: {round(precision_1, 2) * 100}%\", outputColor))\n",
    "print(colored(f\"The precision of the classifier for 2 is: {round(precision_2, 2) * 100}%\", outputColor))\n",
    "print(colored(f\"The precision of the classifier for 3 is: {round(precision_3, 2) * 100}%\", outputColor))\n",
    "\n",
    "# Recall: The number of correct positive predictions divided by the number of total positives.\n",
    "print(colored(f\"The recall of the classifier for 0 is: {round(recall_0, 2) * 100}%\", outputColor))\n",
    "print(colored(f\"The recall of the classifier for 1 is: {round(recall_1, 2) * 100}%\", outputColor))\n",
    "print(colored(f\"The recall of the classifier for 2 is: {round(recall_2, 2) * 100}%\", outputColor))\n",
    "print(colored(f\"The recall of the classifier for 3 is: {round(recall_3, 2) * 100}%\", outputColor))\n",
    "\n",
    "# F-measuref: The curved harmonic mean of precision and recall.\n",
    "print(colored(f\"The F1-measure of the classifier for 0 is: {round(f1_0, 2) * 100}%\", outputColor))\n",
    "print(colored(f\"The F1-measure of the classifier for 1 is: {round(f1_1, 2) * 100}%\", outputColor))\n",
    "print(colored(f\"The F1-measure of the classifier for 2 is: {round(f1_2, 2) * 100}%\", outputColor))\n",
    "print(colored(f\"The F1-measure of the classifier for 3 is: {round(f1_3, 2) * 100}%\", outputColor))\n",
    "\n",
    "print(colored(f\"Het model is het besten voor classifier 3 (Komt van de F1-measure & confusion_matrix)\", outputColor))"
   ],
   "id": "afea0d30b9ba3fb5",
   "outputs": [
    {
     "name": "stdout",
     "output_type": "stream",
     "text": [
      "\u001B[34mThe precision of the classifier for 0 is: 18.0%\u001B[0m\n",
      "\u001B[34mThe precision of the classifier for 1 is: 0.0%\u001B[0m\n",
      "\u001B[34mThe precision of the classifier for 2 is: 12.0%\u001B[0m\n",
      "\u001B[34mHet model is het besten voor classifier 3 (Komt van de F1-measure & confusion_matrix)\u001B[0m\n"
     ]
    }
   ],
   "execution_count": 158
  },
  {
   "cell_type": "markdown",
   "id": "64f25185-545e-4be6-b962-c91a797be1ba",
   "metadata": {},
   "source": "## Questions 4"
  },
  {
   "cell_type": "code",
   "id": "c4df4a6a-b3b7-4095-917c-5e3da6da1c01",
   "metadata": {
    "ExecuteTime": {
     "end_time": "2024-06-11T14:05:12.878522Z",
     "start_time": "2024-06-11T14:05:12.691396Z"
    }
   },
   "source": [
    "# Plot ROC curve\n",
    "y_true = CellPhone['price_range'].apply(lambda x: 1 if x == 1 else 0)\n",
    "y_score = CellPhone['predicted_price_range_proba']\n",
    "\n",
    "# Calculate AUC (Area Under Curve)\n",
    "auc = roc_auc_score(y_true, y_score)\n",
    "\n",
    "# Area Under Curve: If the binary classifier can distinguish the two better, the number is higher.\n",
    "print(colored(f\"The AUC for CellPhone is: {round(auc, 2)}%\", outputColor))\n",
    "print(colored(f\"The optimal cutoff for CellPhone is (Dat is het punt dat het beste bij 1 komt 1 = 100% goed voor het model dus altijd juist): {0.20}\", outputColor))\n",
    "\n",
    "plot_rocf(y_true=y_true, y_score=y_score, title='ROC Curve')"
   ],
   "outputs": [
    {
     "name": "stdout",
     "output_type": "stream",
     "text": [
      "\u001B[34mThe AUC for CellPhone is: 0.68%\u001B[0m\n",
      "\u001B[34mThe optimal cutoff for CellPhone is (Dat is het punt dat het beste bij 1 komt 1 = 100% goed voor het model dus altijd juist): 0.2\u001B[0m\n"
     ]
    },
    {
     "data": {
      "text/plain": [
       "<Figure size 700x700 with 1 Axes>"
      ],
      "image/png": "[encoded data removed]"
     },
     "metadata": {},
     "output_type": "display_data"
    }
   ],
   "execution_count": 107
  },
  {
   "cell_type": "markdown",
   "id": "89237de3-3964-4b84-b5fc-5ee88171b4bb",
   "metadata": {},
   "source": "## Questions 5"
  },
  {
   "cell_type": "code",
   "id": "c2a5ccee-d5cc-417e-89c7-826aed37bd01",
   "metadata": {
    "ExecuteTime": {
     "end_time": "2024-06-11T14:37:32.739865Z",
     "start_time": "2024-06-11T14:37:32.719945Z"
    }
   },
   "source": [
    "print(colored(f\"A: {3}\", outputColor))\n",
    "print(colored(f\"B: {2}\", outputColor))\n",
    "print(colored(f\"C: {'H1'}\", outputColor))\n",
    "print(colored(f\"D: {'Tanh Functie'}\", outputColor))"
   ],
   "outputs": [
    {
     "name": "stdout",
     "output_type": "stream",
     "text": [
      "\u001B[34mA: 3\u001B[0m\n",
      "\u001B[34mB: 2\u001B[0m\n",
      "\u001B[34mC: H1\u001B[0m\n",
      "\u001B[34mD: Tanh Functie\u001B[0m\n"
     ]
    }
   ],
   "execution_count": 159
  },
  {
   "cell_type": "markdown",
   "id": "7b140ba7-f4f4-4539-b1cb-fdb5ad7102e9",
   "metadata": {},
   "source": "## Questions 6"
  },
  {
   "cell_type": "code",
   "id": "ec4b3037-1e47-4bcf-9621-2332caef960a",
   "metadata": {},
   "source": [
    "# Split up the necessary data \n",
    "x_CellPhone = CellPhone[['battery_power', 'clock_speed', 'fc', 'int_memory', 'n_cores', 'pc', 'ram', 'talk_time']]                       # Get the input\n",
    "y_CellPhone = CellPhone['price_range']                                                                                                   # Get the output\n",
    "\n",
    "x_CellPhone_normalize = (x_CellPhone - x_CellPhone.min()) / (x_CellPhone.max() - x_CellPhone.min())                                      # Normalize the input\n",
    "print(colored(\"BatchNormalization werkt niet op mijn pc. mijn venv is dood :(\", outputColor))\n",
    "\n",
    "# Create (ANN) artificial neural network\n",
    "inputs_CellPhone = Input(shape=(8,))\n",
    "x_CellPhone_model = Dense(8, activation='relu')(inputs_CellPhone)\n",
    "outputs_CellPhone = Dense(1, activation='softmax')(x_CellPhone_model) # 4?\n",
    "model_CellPhone = Model(inputs_CellPhone, outputs_CellPhone, name='CellPhone_NN')\n",
    "\n",
    "# Compile the model\n",
    "model_CellPhone.compile(optimizer=keras.optimizers.Adam(learning_rate=0.10), loss=keras.losses.categorical_crossentropy, metrics=['accuracy'])\n",
    "\n",
    "# Fit the model\n",
    "history_CellPhone = model_CellPhone.fit(\n",
    "                                x_CellPhone_normalize,                  # Input\n",
    "                                y_CellPhone,                            # Output\n",
    "                                epochs=100,                             # Number of epochs (epochs = iterations over all the dataset)\n",
    "                                batch_size=32,\n",
    "                                validation_split=0.2,\n",
    "                                callbacks=[PlotLossesKeras()],          # Plot the losses\n",
    "                                verbose=False)                          # Fit the model"
   ],
   "execution_count": 160,
   "outputs": [
    {
     "name": "stdout",
     "output_type": "stream",
     "text": [
      "accuracy\n",
      "\ttraining         \t (min:    0.249, max:    0.249, cur:    0.249)\n",
      "\tvalidation       \t (min:    0.255, max:    0.255, cur:    0.255)\n",
      "Loss\n",
      "\ttraining         \t (min:    0.000, max:    0.000, cur:    0.000)\n",
      "\tvalidation       \t (min:    0.000, max:    0.000, cur:    0.000)\n"
     ]
    }
   ]
  },
  {
   "metadata": {
    "ExecuteTime": {
     "end_time": "2024-06-11T13:47:53.812489Z",
     "start_time": "2024-06-11T13:47:53.782156Z"
    }
   },
   "cell_type": "code",
   "source": [
    "# Get a summary of the model\n",
    "model_CellPhone.summary()"
   ],
   "id": "56bea1032af66ab",
   "outputs": [
    {
     "data": {
      "text/plain": [
       "\u001B[1mModel: \"CellPhone_NN\"\u001B[0m\n"
      ],
      "text/html": [
       "<pre style=\"white-space:pre;overflow-x:auto;line-height:normal;font-family:Menlo,'DejaVu Sans Mono',consolas,'Courier New',monospace\"><span style=\"font-weight: bold\">Model: \"CellPhone_NN\"</span>\n",
       "</pre>\n"
      ]
     },
     "metadata": {},
     "output_type": "display_data"
    },
    {
     "data": {
      "text/plain": [
       "┏━━━━━━━━━━━━━━━━━━━━━━━━━━━━━━━━━┳━━━━━━━━━━━━━━━━━━━━━━━━┳━━━━━━━━━━━━━━━┓\n",
       "┃\u001B[1m \u001B[0m\u001B[1mLayer (type)                   \u001B[0m\u001B[1m \u001B[0m┃\u001B[1m \u001B[0m\u001B[1mOutput Shape          \u001B[0m\u001B[1m \u001B[0m┃\u001B[1m \u001B[0m\u001B[1m      Param #\u001B[0m\u001B[1m \u001B[0m┃\n",
       "┡━━━━━━━━━━━━━━━━━━━━━━━━━━━━━━━━━╇━━━━━━━━━━━━━━━━━━━━━━━━╇━━━━━━━━━━━━━━━┩\n",
       "│ input_layer_19 (\u001B[38;5;33mInputLayer\u001B[0m)     │ (\u001B[38;5;45mNone\u001B[0m, \u001B[38;5;34m8\u001B[0m)              │             \u001B[38;5;34m0\u001B[0m │\n",
       "├─────────────────────────────────┼────────────────────────┼───────────────┤\n",
       "│ dense_59 (\u001B[38;5;33mDense\u001B[0m)                │ (\u001B[38;5;45mNone\u001B[0m, \u001B[38;5;34m8\u001B[0m)              │            \u001B[38;5;34m72\u001B[0m │\n",
       "├─────────────────────────────────┼────────────────────────┼───────────────┤\n",
       "│ dense_60 (\u001B[38;5;33mDense\u001B[0m)                │ (\u001B[38;5;45mNone\u001B[0m, \u001B[38;5;34m1\u001B[0m)              │             \u001B[38;5;34m9\u001B[0m │\n",
       "└─────────────────────────────────┴────────────────────────┴───────────────┘\n"
      ],
      "text/html": [
       "<pre style=\"white-space:pre;overflow-x:auto;line-height:normal;font-family:Menlo,'DejaVu Sans Mono',consolas,'Courier New',monospace\">┏━━━━━━━━━━━━━━━━━━━━━━━━━━━━━━━━━┳━━━━━━━━━━━━━━━━━━━━━━━━┳━━━━━━━━━━━━━━━┓\n",
       "┃<span style=\"font-weight: bold\"> Layer (type)                    </span>┃<span style=\"font-weight: bold\"> Output Shape           </span>┃<span style=\"font-weight: bold\">       Param # </span>┃\n",
       "┡━━━━━━━━━━━━━━━━━━━━━━━━━━━━━━━━━╇━━━━━━━━━━━━━━━━━━━━━━━━╇━━━━━━━━━━━━━━━┩\n",
       "│ input_layer_19 (<span style=\"color: #0087ff; text-decoration-color: #0087ff\">InputLayer</span>)     │ (<span style=\"color: #00d7ff; text-decoration-color: #00d7ff\">None</span>, <span style=\"color: #00af00; text-decoration-color: #00af00\">8</span>)              │             <span style=\"color: #00af00; text-decoration-color: #00af00\">0</span> │\n",
       "├─────────────────────────────────┼────────────────────────┼───────────────┤\n",
       "│ dense_59 (<span style=\"color: #0087ff; text-decoration-color: #0087ff\">Dense</span>)                │ (<span style=\"color: #00d7ff; text-decoration-color: #00d7ff\">None</span>, <span style=\"color: #00af00; text-decoration-color: #00af00\">8</span>)              │            <span style=\"color: #00af00; text-decoration-color: #00af00\">72</span> │\n",
       "├─────────────────────────────────┼────────────────────────┼───────────────┤\n",
       "│ dense_60 (<span style=\"color: #0087ff; text-decoration-color: #0087ff\">Dense</span>)                │ (<span style=\"color: #00d7ff; text-decoration-color: #00d7ff\">None</span>, <span style=\"color: #00af00; text-decoration-color: #00af00\">1</span>)              │             <span style=\"color: #00af00; text-decoration-color: #00af00\">9</span> │\n",
       "└─────────────────────────────────┴────────────────────────┴───────────────┘\n",
       "</pre>\n"
      ]
     },
     "metadata": {},
     "output_type": "display_data"
    },
    {
     "data": {
      "text/plain": [
       "\u001B[1m Total params: \u001B[0m\u001B[38;5;34m245\u001B[0m (984.00 B)\n"
      ],
      "text/html": [
       "<pre style=\"white-space:pre;overflow-x:auto;line-height:normal;font-family:Menlo,'DejaVu Sans Mono',consolas,'Courier New',monospace\"><span style=\"font-weight: bold\"> Total params: </span><span style=\"color: #00af00; text-decoration-color: #00af00\">245</span> (984.00 B)\n",
       "</pre>\n"
      ]
     },
     "metadata": {},
     "output_type": "display_data"
    },
    {
     "data": {
      "text/plain": [
       "\u001B[1m Trainable params: \u001B[0m\u001B[38;5;34m81\u001B[0m (324.00 B)\n"
      ],
      "text/html": [
       "<pre style=\"white-space:pre;overflow-x:auto;line-height:normal;font-family:Menlo,'DejaVu Sans Mono',consolas,'Courier New',monospace\"><span style=\"font-weight: bold\"> Trainable params: </span><span style=\"color: #00af00; text-decoration-color: #00af00\">81</span> (324.00 B)\n",
       "</pre>\n"
      ]
     },
     "metadata": {},
     "output_type": "display_data"
    },
    {
     "data": {
      "text/plain": [
       "\u001B[1m Non-trainable params: \u001B[0m\u001B[38;5;34m0\u001B[0m (0.00 B)\n"
      ],
      "text/html": [
       "<pre style=\"white-space:pre;overflow-x:auto;line-height:normal;font-family:Menlo,'DejaVu Sans Mono',consolas,'Courier New',monospace\"><span style=\"font-weight: bold\"> Non-trainable params: </span><span style=\"color: #00af00; text-decoration-color: #00af00\">0</span> (0.00 B)\n",
       "</pre>\n"
      ]
     },
     "metadata": {},
     "output_type": "display_data"
    },
    {
     "data": {
      "text/plain": [
       "\u001B[1m Optimizer params: \u001B[0m\u001B[38;5;34m164\u001B[0m (660.00 B)\n"
      ],
      "text/html": [
       "<pre style=\"white-space:pre;overflow-x:auto;line-height:normal;font-family:Menlo,'DejaVu Sans Mono',consolas,'Courier New',monospace\"><span style=\"font-weight: bold\"> Optimizer params: </span><span style=\"color: #00af00; text-decoration-color: #00af00\">164</span> (660.00 B)\n",
       "</pre>\n"
      ]
     },
     "metadata": {},
     "output_type": "display_data"
    }
   ],
   "execution_count": 94
  },
  {
   "cell_type": "markdown",
   "id": "e77505d8-0810-4912-95a4-bccf39ebe657",
   "metadata": {},
   "source": "## Questions 7"
  },
  {
   "cell_type": "code",
   "id": "8589797e-4b15-4f6a-985b-459ae554cd3b",
   "metadata": {
    "ExecuteTime": {
     "end_time": "2024-06-11T14:24:35.891346Z",
     "start_time": "2024-06-11T14:24:35.746174Z"
    }
   },
   "source": [
    "x1 = [1.0,0.5]\n",
    "x2 = [-0.5,-0.5]\n",
    "x3 = [1.0,1.0]\n",
    "x4 = [-0.75,-0.75]\n",
    "x5 = [-0.5,0.0]\n",
    "x6 = [-0.5,-1.0]\n",
    "x7 = [0.5,0.5]\n",
    "x8 = [0.5,0.0]\n",
    "x9 = [0.75,0.75]\n",
    "x10 = [-1.2,-1.0]\n",
    "\n",
    "\n",
    "def energy(x):\n",
    "    return((0.2 + x[0] * x[0] + x[0] * x[1] - 0.1 * np.cos(1.0 * math.pi * x[0]) - 0.1 * np.cos(-2.0 * np.pi * x[1])))\n",
    "\n",
    "        \n",
    "\n",
    "initial_state = [x1, x2, x3, x4, x5, x6, x7, x8, x9, x10]\n",
    "optimal_solution, optimal_value = energy(initial_state).anneal()\n",
    "\n",
    "print(colored(f\"Optimal solution: {optimal_solution}\\nObjective function value: {optimal_value}\", outputColor))"
   ],
   "outputs": [
    {
     "ename": "TypeError",
     "evalue": "can't multiply sequence by non-int of type 'list'",
     "output_type": "error",
     "traceback": [
      "\u001B[1;31m---------------------------------------------------------------------------\u001B[0m",
      "\u001B[1;31mTypeError\u001B[0m                                 Traceback (most recent call last)",
      "Cell \u001B[1;32mIn[128], line 19\u001B[0m\n\u001B[0;32m     14\u001B[0m     \u001B[38;5;28;01mreturn\u001B[39;00m((\u001B[38;5;241m0.2\u001B[39m \u001B[38;5;241m+\u001B[39m x[\u001B[38;5;241m0\u001B[39m] \u001B[38;5;241m*\u001B[39m x[\u001B[38;5;241m0\u001B[39m] \u001B[38;5;241m+\u001B[39m x[\u001B[38;5;241m0\u001B[39m] \u001B[38;5;241m*\u001B[39m x[\u001B[38;5;241m1\u001B[39m] \u001B[38;5;241m-\u001B[39m \u001B[38;5;241m0.1\u001B[39m \u001B[38;5;241m*\u001B[39m np\u001B[38;5;241m.\u001B[39mcos(\u001B[38;5;241m1.0\u001B[39m \u001B[38;5;241m*\u001B[39m math\u001B[38;5;241m.\u001B[39mpi \u001B[38;5;241m*\u001B[39m x[\u001B[38;5;241m0\u001B[39m]) \u001B[38;5;241m-\u001B[39m \u001B[38;5;241m0.1\u001B[39m \u001B[38;5;241m*\u001B[39m np\u001B[38;5;241m.\u001B[39mcos(\u001B[38;5;241m-\u001B[39m\u001B[38;5;241m2.0\u001B[39m \u001B[38;5;241m*\u001B[39m np\u001B[38;5;241m.\u001B[39mpi \u001B[38;5;241m*\u001B[39m x[\u001B[38;5;241m1\u001B[39m])))\n\u001B[0;32m     18\u001B[0m initial_state \u001B[38;5;241m=\u001B[39m [x1, x2, x3, x4, x5, x6, x7, x8, x9, x10]\n\u001B[1;32m---> 19\u001B[0m optimal_solution, optimal_value \u001B[38;5;241m=\u001B[39m \u001B[43menergy\u001B[49m\u001B[43m(\u001B[49m\u001B[43minitial_state\u001B[49m\u001B[43m)\u001B[49m\u001B[38;5;241m.\u001B[39manneal()\n\u001B[0;32m     21\u001B[0m \u001B[38;5;28mprint\u001B[39m(colored(\u001B[38;5;124mf\u001B[39m\u001B[38;5;124m\"\u001B[39m\u001B[38;5;124mOptimal solution: \u001B[39m\u001B[38;5;132;01m{\u001B[39;00moptimal_solution\u001B[38;5;132;01m}\u001B[39;00m\u001B[38;5;130;01m\\n\u001B[39;00m\u001B[38;5;124mObjective function value: \u001B[39m\u001B[38;5;132;01m{\u001B[39;00moptimal_value\u001B[38;5;132;01m}\u001B[39;00m\u001B[38;5;124m\"\u001B[39m, outputColor))\n",
      "Cell \u001B[1;32mIn[128], line 14\u001B[0m, in \u001B[0;36menergy\u001B[1;34m(x)\u001B[0m\n\u001B[0;32m     13\u001B[0m \u001B[38;5;28;01mdef\u001B[39;00m \u001B[38;5;21menergy\u001B[39m(x):\n\u001B[1;32m---> 14\u001B[0m     \u001B[38;5;28;01mreturn\u001B[39;00m((\u001B[38;5;241m0.2\u001B[39m \u001B[38;5;241m+\u001B[39m \u001B[43mx\u001B[49m\u001B[43m[\u001B[49m\u001B[38;5;241;43m0\u001B[39;49m\u001B[43m]\u001B[49m\u001B[43m \u001B[49m\u001B[38;5;241;43m*\u001B[39;49m\u001B[43m \u001B[49m\u001B[43mx\u001B[49m\u001B[43m[\u001B[49m\u001B[38;5;241;43m0\u001B[39;49m\u001B[43m]\u001B[49m \u001B[38;5;241m+\u001B[39m x[\u001B[38;5;241m0\u001B[39m] \u001B[38;5;241m*\u001B[39m x[\u001B[38;5;241m1\u001B[39m] \u001B[38;5;241m-\u001B[39m \u001B[38;5;241m0.1\u001B[39m \u001B[38;5;241m*\u001B[39m np\u001B[38;5;241m.\u001B[39mcos(\u001B[38;5;241m1.0\u001B[39m \u001B[38;5;241m*\u001B[39m math\u001B[38;5;241m.\u001B[39mpi \u001B[38;5;241m*\u001B[39m x[\u001B[38;5;241m0\u001B[39m]) \u001B[38;5;241m-\u001B[39m \u001B[38;5;241m0.1\u001B[39m \u001B[38;5;241m*\u001B[39m np\u001B[38;5;241m.\u001B[39mcos(\u001B[38;5;241m-\u001B[39m\u001B[38;5;241m2.0\u001B[39m \u001B[38;5;241m*\u001B[39m np\u001B[38;5;241m.\u001B[39mpi \u001B[38;5;241m*\u001B[39m x[\u001B[38;5;241m1\u001B[39m])))\n",
      "\u001B[1;31mTypeError\u001B[0m: can't multiply sequence by non-int of type 'list'"
     ]
    }
   ],
   "execution_count": 128
  },
  {
   "cell_type": "markdown",
   "id": "57a6ea6e-cd52-44ad-a1e2-811761154da6",
   "metadata": {},
   "source": "## Questions 8"
  },
  {
   "cell_type": "code",
   "id": "900853de-87a1-4527-96fd-57a5fb1ff460",
   "metadata": {
    "ExecuteTime": {
     "end_time": "2024-06-11T13:28:52.966952Z",
     "start_time": "2024-06-11T13:28:52.944976Z"
    }
   },
   "source": [
    "populatie = pd.DataFrame({'chromosoon':range(1,21), 'score_doelfunctie':[247.6251629 , 214.51757898, 249.13309669, 188.81888775,104.80883904, 316.12006777, 198.56246032, 465.06055288,156.80288596, 243.7813792 , 185.9045345 , 146.50208061, 119.45574293, 364.05258658, 416.80157775, 481.66470259, 412.22107183, 421.06760396, 227.18712982, 229.35077602]})\n",
    "display(populatie)"
   ],
   "outputs": [
    {
     "data": {
      "text/plain": [
       "    chromosoon  score_doelfunctie\n",
       "0            1         247.625163\n",
       "1            2         214.517579\n",
       "2            3         249.133097\n",
       "3            4         188.818888\n",
       "4            5         104.808839\n",
       "5            6         316.120068\n",
       "6            7         198.562460\n",
       "7            8         465.060553\n",
       "8            9         156.802886\n",
       "9           10         243.781379\n",
       "10          11         185.904535\n",
       "11          12         146.502081\n",
       "12          13         119.455743\n",
       "13          14         364.052587\n",
       "14          15         416.801578\n",
       "15          16         481.664703\n",
       "16          17         412.221072\n",
       "17          18         421.067604\n",
       "18          19         227.187130\n",
       "19          20         229.350776"
      ],
      "text/html": [
       "<div>\n",
       "<style scoped>\n",
       "    .dataframe tbody tr th:only-of-type {\n",
       "        vertical-align: middle;\n",
       "    }\n",
       "\n",
       "    .dataframe tbody tr th {\n",
       "        vertical-align: top;\n",
       "    }\n",
       "\n",
       "    .dataframe thead th {\n",
       "        text-align: right;\n",
       "    }\n",
       "</style>\n",
       "<table border=\"1\" class=\"dataframe\">\n",
       "  <thead>\n",
       "    <tr style=\"text-align: right;\">\n",
       "      <th></th>\n",
       "      <th>chromosoon</th>\n",
       "      <th>score_doelfunctie</th>\n",
       "    </tr>\n",
       "  </thead>\n",
       "  <tbody>\n",
       "    <tr>\n",
       "      <th>0</th>\n",
       "      <td>1</td>\n",
       "      <td>247.625163</td>\n",
       "    </tr>\n",
       "    <tr>\n",
       "      <th>1</th>\n",
       "      <td>2</td>\n",
       "      <td>214.517579</td>\n",
       "    </tr>\n",
       "    <tr>\n",
       "      <th>2</th>\n",
       "      <td>3</td>\n",
       "      <td>249.133097</td>\n",
       "    </tr>\n",
       "    <tr>\n",
       "      <th>3</th>\n",
       "      <td>4</td>\n",
       "      <td>188.818888</td>\n",
       "    </tr>\n",
       "    <tr>\n",
       "      <th>4</th>\n",
       "      <td>5</td>\n",
       "      <td>104.808839</td>\n",
       "    </tr>\n",
       "    <tr>\n",
       "      <th>5</th>\n",
       "      <td>6</td>\n",
       "      <td>316.120068</td>\n",
       "    </tr>\n",
       "    <tr>\n",
       "      <th>6</th>\n",
       "      <td>7</td>\n",
       "      <td>198.562460</td>\n",
       "    </tr>\n",
       "    <tr>\n",
       "      <th>7</th>\n",
       "      <td>8</td>\n",
       "      <td>465.060553</td>\n",
       "    </tr>\n",
       "    <tr>\n",
       "      <th>8</th>\n",
       "      <td>9</td>\n",
       "      <td>156.802886</td>\n",
       "    </tr>\n",
       "    <tr>\n",
       "      <th>9</th>\n",
       "      <td>10</td>\n",
       "      <td>243.781379</td>\n",
       "    </tr>\n",
       "    <tr>\n",
       "      <th>10</th>\n",
       "      <td>11</td>\n",
       "      <td>185.904535</td>\n",
       "    </tr>\n",
       "    <tr>\n",
       "      <th>11</th>\n",
       "      <td>12</td>\n",
       "      <td>146.502081</td>\n",
       "    </tr>\n",
       "    <tr>\n",
       "      <th>12</th>\n",
       "      <td>13</td>\n",
       "      <td>119.455743</td>\n",
       "    </tr>\n",
       "    <tr>\n",
       "      <th>13</th>\n",
       "      <td>14</td>\n",
       "      <td>364.052587</td>\n",
       "    </tr>\n",
       "    <tr>\n",
       "      <th>14</th>\n",
       "      <td>15</td>\n",
       "      <td>416.801578</td>\n",
       "    </tr>\n",
       "    <tr>\n",
       "      <th>15</th>\n",
       "      <td>16</td>\n",
       "      <td>481.664703</td>\n",
       "    </tr>\n",
       "    <tr>\n",
       "      <th>16</th>\n",
       "      <td>17</td>\n",
       "      <td>412.221072</td>\n",
       "    </tr>\n",
       "    <tr>\n",
       "      <th>17</th>\n",
       "      <td>18</td>\n",
       "      <td>421.067604</td>\n",
       "    </tr>\n",
       "    <tr>\n",
       "      <th>18</th>\n",
       "      <td>19</td>\n",
       "      <td>227.187130</td>\n",
       "    </tr>\n",
       "    <tr>\n",
       "      <th>19</th>\n",
       "      <td>20</td>\n",
       "      <td>229.350776</td>\n",
       "    </tr>\n",
       "  </tbody>\n",
       "</table>\n",
       "</div>"
      ]
     },
     "metadata": {},
     "output_type": "display_data"
    }
   ],
   "execution_count": 72
  },
  {
   "cell_type": "markdown",
   "id": "31779cad-0871-48fb-b23d-f48ae6dc1c23",
   "metadata": {},
   "source": "## Questions 9"
  },
  {
   "metadata": {
    "ExecuteTime": {
     "end_time": "2024-06-11T13:30:20.049834Z",
     "start_time": "2024-06-11T13:30:20.034662Z"
    }
   },
   "cell_type": "code",
   "source": [
    "# CEL 1: Startsituatie inlezen (NIETS AANPASSEN)\n",
    "\n",
    "from simanneal import Annealer\n",
    "board = pd.read_csv('../Data/sudoku.csv', header=None)"
   ],
   "id": "d5ad7ddc74726a68",
   "outputs": [],
   "execution_count": 73
  },
  {
   "metadata": {
    "ExecuteTime": {
     "end_time": "2024-06-11T13:30:31.684149Z",
     "start_time": "2024-06-11T13:30:31.674177Z"
    }
   },
   "cell_type": "code",
   "source": [
    "# CEL 2: emptyfields aanmaken (NIETS AANPASSEN)\n",
    "# Code om de indexen van de lege velden in een list te steken [Niet aanpassen]\n",
    "\n",
    "board_emptyFields = board == 0\n",
    "emptyfields = np.where(board_emptyFields.to_numpy().flatten() == True)[0].tolist()  # De indices van de lege velden (velden met nul)"
   ],
   "id": "d83ab6f8dd4e5d24",
   "outputs": [],
   "execution_count": 74
  },
  {
   "metadata": {
    "ExecuteTime": {
     "end_time": "2024-06-11T13:30:34.094060Z",
     "start_time": "2024-06-11T13:30:34.087480Z"
    }
   },
   "cell_type": "code",
   "source": [
    "# CEL 3: Simulated annealing klasse\n",
    "class Sudoku(Annealer):\n",
    " def energy(self):\n",
    "    s = pd.DataFrame(self.state.reshape(9,9))\n",
    "    lineTotal = 45\n",
    "    lineSums = pd.concat([s.sum(axis=1), s.sum(axis=0)]) # Telt de som van de inhoud van de rijen en de kolommen \n",
    "    valueCounts = pd.Series(np.unique(s, return_counts=True))[1] # Telt hoe vaak elk getal voorkomt in een rij of kolom\n",
    "    valueCountErrorCost=  np.absolute(valueCounts - 9).sum()*10\n",
    "    lineValueErrorCost = np.absolute(lineSums - lineTotal).sum()*2\n",
    "    return valueCountErrorCost + lineValueErrorCost\n",
    "\n",
    "#ANTWOORD\n",
    " def move(self): # Implementatie van de move klasse \n",
    "    return"
   ],
   "id": "e6b58bfdb87cc73a",
   "outputs": [],
   "execution_count": 75
  }
 ],
 "metadata": {
  "kernelspec": {
   "display_name": "Python 3 (ipykernel)",
   "language": "python",
   "name": "python3"
  },
  "language_info": {
   "codemirror_mode": {
    "name": "ipython",
    "version": 3
   },
   "file_extension": ".py",
   "mimetype": "text/x-python",
   "name": "python",
   "nbconvert_exporter": "python",
   "pygments_lexer": "ipython3",
   "version": "3.11.7"
  }
 },
 "nbformat": 4,
 "nbformat_minor": 5
}

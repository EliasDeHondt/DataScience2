{
 "cells": [
  {
   "cell_type": "markdown",
   "id": "3959ab7c-c52f-4912-a177-85ee5ec5a8ec",
   "metadata": {},
   "source": [
    "# P4 Examen\n",
    "- **Name**: Elias De Hondt\n",
    "- **Class**: ISB204B\n",
    "- **Course**: Data Science 2\n",
    "- **Date**: 11/06/2024\n",
    "- **StudentID**: 0160712-80\n",
    "\n",
    "> You hand in a **completed notebook**, so the **results of the calculations are also included**. Results should **not** be rounded."
   ]
  },
  {
   "cell_type": "code",
   "id": "5d6867e0-ae45-4e93-813e-23e1bbbbaf96",
   "metadata": {
    "ExecuteTime": {
     "end_time": "2024-06-11T09:30:40.196016Z",
     "start_time": "2024-06-11T09:30:40.186148Z"
    }
   },
   "source": [
    "# Import statements:\n",
    "from termcolor import colored # type: ignore                                          # Colored text\n",
    "from random import Random  # type: ignore                                             # Random number generator\n",
    "import math  # type: ignore                                                           # Mathematical functions\n",
    "import pandas as pd  # type: ignore                                                   # Data manipulation\n",
    "import numpy as np  # type: ignore                                                    # Scientific computing\n",
    "import matplotlib.pyplot as plt  # type: ignore                                       # Data visualization\n",
    "from scipy.stats import binom as binomial  # type: ignore                             # Binomial distribution\n",
    "from scipy.stats import norm as normal  # type: ignore                                # Normal distribution\n",
    "from scipy.stats import poisson as poisson  # type: ignore                            # Poisson distribution\n",
    "from scipy.stats import t as student  # type: ignore                                  # Student distribution\n",
    "from scipy.stats import chi2  # type: ignore                                          # Chi-squared distribution\n",
    "from scipy.stats import ttest_1samp  # type: ignore                                   # One-sample t-test\n",
    "from scipy.stats import chisquare  # type: ignore                                     # Chi-squared test\n",
    "from scipy.special import comb  # type: ignore                                        # Combinations\n",
    "from mlxtend.frequent_patterns import apriori  # type: ignore                         # Apriori algorithm\n",
    "from mlxtend.frequent_patterns import fpgrowth  # type: ignore                        # FP-growth algorithm\n",
    "from mlxtend.frequent_patterns import association_rules  # type: ignore               # Association rules\n",
    "from mlxtend.preprocessing import TransactionEncoder  # type: ignore                  # Transaction encoder\n",
    "from sklearn.discriminant_analysis import LinearDiscriminantAnalysis  # type: ignore  # Discriminant Analysis\n",
    "from tensorflow import keras  # type: ignore                                          # Deep Learning library\n",
    "from tensorflow.keras import Model  # type: ignore                                    # Model class\n",
    "from tensorflow.keras.layers import Input, Dense, BatchNormalization  # type: ignore  # Layers\n",
    "from tensorflow.keras.utils import to_categorical  # type: ignore                     # One-hot encoding\n",
    "from tensorflow.keras.optimizers import Adam  # type: ignore                          # Optimizer\n",
    "from livelossplot import PlotLossesKeras  # type: ignore                              # Live plot\n",
    "from keras.src.optimizers import RMSprop  # type: ignore                              # Optimizer\n",
    "from sklearn.model_selection import train_test_split  # type: ignore                  # Train-test split\n",
    "from sklearn.metrics import roc_auc_score # type: ignore                              # ROC AUC score\n",
    "from simanneal import Annealer  # type: ignore                                        # Simulated Annealing\n",
    "from inspyred import ec  # type: ignore                                               # Evolutionary Computation\n",
    "import warnings  # type: ignore                                                       # Disable warnings\n",
    "warnings.filterwarnings(\"ignore\")                                                     # Disable warnings\n",
    "outputColor = \"blue\"                                                                  # Color for the output"
   ],
   "outputs": [],
   "execution_count": 2
  },
  {
   "cell_type": "code",
   "id": "828890e8-f957-4fa5-ae18-c67bf5c7a1a1",
   "metadata": {
    "ExecuteTime": {
     "end_time": "2024-06-11T09:08:47.443795Z",
     "start_time": "2024-06-11T09:08:47.430575Z"
    }
   },
   "source": "# Function definitions: ",
   "outputs": [],
   "execution_count": null
  },
  {
   "cell_type": "markdown",
   "id": "dae70c5b-63e2-491d-9b21-99c86db0e830",
   "metadata": {},
   "source": "## Questions 1"
  },
  {
   "cell_type": "code",
   "id": "ac4c918a-4b02-4bb1-9565-89d586d96b33",
   "metadata": {
    "ExecuteTime": {
     "end_time": "2024-06-11T09:45:41.828210Z",
     "start_time": "2024-06-11T09:45:41.816328Z"
    }
   },
   "source": "print(colored(f\"Here is the requested solution: {1}\", outputColor))",
   "outputs": [
    {
     "name": "stdout",
     "output_type": "stream",
     "text": [
      "\u001B[34mHere is the requested solution: 1\u001B[0m\n"
     ]
    }
   ],
   "execution_count": 4
  },
  {
   "cell_type": "markdown",
   "id": "7ac7f699-4cf3-4340-a4b1-ba827b7aa5c2",
   "metadata": {},
   "source": "## Questions 2"
  },
  {
   "cell_type": "code",
   "id": "ff5da0df-8794-4ded-aebf-3e9864a9ba8e",
   "metadata": {
    "ExecuteTime": {
     "end_time": "2024-06-11T09:08:47.475869Z",
     "start_time": "2024-06-11T09:08:47.461930Z"
    }
   },
   "source": "",
   "outputs": [],
   "execution_count": null
  },
  {
   "cell_type": "markdown",
   "id": "4d11afd7-805a-43fa-ae0a-d6586ff890ab",
   "metadata": {},
   "source": "## Questions 3"
  },
  {
   "cell_type": "code",
   "id": "b4e55c97-d34c-43f1-ad7c-1ec6e5a2a110",
   "metadata": {
    "scrolled": true,
    "ExecuteTime": {
     "end_time": "2024-06-11T09:08:47.490539Z",
     "start_time": "2024-06-11T09:08:47.478369Z"
    }
   },
   "source": "",
   "outputs": [],
   "execution_count": null
  },
  {
   "cell_type": "markdown",
   "id": "64f25185-545e-4be6-b962-c91a797be1ba",
   "metadata": {},
   "source": "## Questions 4"
  },
  {
   "cell_type": "code",
   "id": "c4df4a6a-b3b7-4095-917c-5e3da6da1c01",
   "metadata": {
    "ExecuteTime": {
     "end_time": "2024-06-11T09:08:47.505906Z",
     "start_time": "2024-06-11T09:08:47.491991Z"
    }
   },
   "source": "",
   "outputs": [],
   "execution_count": null
  },
  {
   "cell_type": "markdown",
   "id": "89237de3-3964-4b84-b5fc-5ee88171b4bb",
   "metadata": {},
   "source": "## Questions 5"
  },
  {
   "cell_type": "code",
   "id": "c2a5ccee-d5cc-417e-89c7-826aed37bd01",
   "metadata": {
    "ExecuteTime": {
     "end_time": "2024-06-11T09:08:47.521095Z",
     "start_time": "2024-06-11T09:08:47.506906Z"
    }
   },
   "source": "",
   "outputs": [],
   "execution_count": null
  },
  {
   "cell_type": "markdown",
   "id": "7b140ba7-f4f4-4539-b1cb-fdb5ad7102e9",
   "metadata": {},
   "source": "## Questions 6"
  },
  {
   "cell_type": "code",
   "id": "ec4b3037-1e47-4bcf-9621-2332caef960a",
   "metadata": {
    "ExecuteTime": {
     "end_time": "2024-06-11T09:08:47.536732Z",
     "start_time": "2024-06-11T09:08:47.522265Z"
    }
   },
   "source": "",
   "outputs": [],
   "execution_count": null
  },
  {
   "cell_type": "markdown",
   "id": "e77505d8-0810-4912-95a4-bccf39ebe657",
   "metadata": {},
   "source": "## Questions 7"
  },
  {
   "cell_type": "code",
   "id": "8589797e-4b15-4f6a-985b-459ae554cd3b",
   "metadata": {
    "ExecuteTime": {
     "end_time": "2024-06-11T09:08:47.551860Z",
     "start_time": "2024-06-11T09:08:47.538691Z"
    }
   },
   "source": "",
   "outputs": [],
   "execution_count": null
  },
  {
   "cell_type": "markdown",
   "id": "57a6ea6e-cd52-44ad-a1e2-811761154da6",
   "metadata": {},
   "source": "## Questions 8"
  },
  {
   "cell_type": "code",
   "id": "900853de-87a1-4527-96fd-57a5fb1ff460",
   "metadata": {
    "ExecuteTime": {
     "end_time": "2024-06-11T09:08:47.567923Z",
     "start_time": "2024-06-11T09:08:47.553258Z"
    }
   },
   "source": "",
   "outputs": [],
   "execution_count": null
  },
  {
   "cell_type": "markdown",
   "id": "31779cad-0871-48fb-b23d-f48ae6dc1c23",
   "metadata": {},
   "source": "## Questions 9"
  },
  {
   "metadata": {
    "ExecuteTime": {
     "end_time": "2024-06-11T09:08:47.583524Z",
     "start_time": "2024-06-11T09:08:47.569482Z"
    }
   },
   "cell_type": "code",
   "source": "",
   "id": "d5ad7ddc74726a68",
   "outputs": [],
   "execution_count": null
  },
  {
   "cell_type": "markdown",
   "id": "1a41d866-a773-494d-ae60-2c2016740f81",
   "metadata": {},
   "source": "## Questions 10"
  },
  {
   "cell_type": "code",
   "id": "e6c0dd60-eb5e-4edd-9960-99b5c6b735d5",
   "metadata": {
    "ExecuteTime": {
     "end_time": "2024-06-11T09:08:47.598781Z",
     "start_time": "2024-06-11T09:08:47.584659Z"
    }
   },
   "source": "",
   "outputs": [],
   "execution_count": null
  }
 ],
 "metadata": {
  "kernelspec": {
   "display_name": "Python 3 (ipykernel)",
   "language": "python",
   "name": "python3"
  },
  "language_info": {
   "codemirror_mode": {
    "name": "ipython",
    "version": 3
   },
   "file_extension": ".py",
   "mimetype": "text/x-python",
   "name": "python",
   "nbconvert_exporter": "python",
   "pygments_lexer": "ipython3",
   "version": "3.11.7"
  }
 },
 "nbformat": 4,
 "nbformat_minor": 5
}

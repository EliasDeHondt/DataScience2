{
 "cells": [
  {
   "cell_type": "markdown",
   "id": "3959ab7c-c52f-4912-a177-85ee5ec5a8ec",
   "metadata": {},
   "source": [
    "# P3 Examen\n",
    "- **Name**: Elias De Hondt\n",
    "- **Class**: ISB204B\n",
    "- **Course**: Data Science 2\n",
    "- **Date**: 09/03/2024\n",
    "- **StudentID**: 0160712-80\n",
    "\n",
    "> You hand in a **completed notebook**, so the **results of the calculations are also included**. Results should **not** be rounded."
   ]
  },
  {
   "metadata": {
    "ExecuteTime": {
     "end_time": "2024-06-11T09:19:53.570524Z",
     "start_time": "2024-06-11T09:19:53.562650Z"
    }
   },
   "cell_type": "code",
   "source": [
    "# Import statements:s\n",
    "from termcolor import colored # type: ignore                                          # Colored text\n",
    "from random import Random  # type: ignore                                             # Random number generator\n",
    "import math  # type: ignore                                                           # Mathematical functions\n",
    "import pandas as pd  # type: ignore                                                   # Data manipulation\n",
    "import numpy as np  # type: ignore                                                    # Scientific computing\n",
    "import matplotlib.pyplot as plt  # type: ignore                                       # Data visualization\n",
    "from scipy.stats import binom as binomial  # type: ignore                             # Binomial distribution\n",
    "from scipy.stats import norm as normal  # type: ignore                                # Normal distribution\n",
    "from scipy.stats import poisson as poisson  # type: ignore                            # Poisson distribution\n",
    "from scipy.stats import t as student  # type: ignore                                  # Student distribution\n",
    "from scipy.stats import chi2  # type: ignore                                          # Chi-squared distribution\n",
    "from scipy.stats import ttest_1samp  # type: ignore                                   # One-sample t-test\n",
    "from scipy.stats import chisquare  # type: ignore                                     # Chi-squared test\n",
    "from scipy.special import comb  # type: ignore                                        # Combinations\n",
    "from mlxtend.frequent_patterns import apriori  # type: ignore                         # Apriori algorithm\n",
    "from mlxtend.frequent_patterns import fpgrowth  # type: ignore                        # FP-growth algorithm\n",
    "from mlxtend.frequent_patterns import association_rules  # type: ignore               # Association rules\n",
    "from mlxtend.preprocessing import TransactionEncoder  # type: ignore                  # Transaction encoder\n",
    "from sklearn.discriminant_analysis import LinearDiscriminantAnalysis  # type: ignore  # Discriminant Analysis\n",
    "from tensorflow import keras  # type: ignore                                          # Deep Learning library\n",
    "from tensorflow.keras import Model  # type: ignore                                    # Model class\n",
    "from tensorflow.keras.layers import Input, Dense, BatchNormalization  # type: ignore  # Layers\n",
    "from tensorflow.keras.utils import to_categorical  # type: ignore                     # One-hot encoding\n",
    "from tensorflow.keras.optimizers import Adam  # type: ignore                          # Optimizer\n",
    "from livelossplot import PlotLossesKeras  # type: ignore                              # Live plot\n",
    "from keras.src.optimizers import RMSprop  # type: ignore                              # Optimizer\n",
    "from sklearn.model_selection import train_test_split  # type: ignore                  # Train-test split\n",
    "from sklearn.metrics import roc_auc_score # type: ignore                              # ROC AUC score\n",
    "from simanneal import Annealer  # type: ignore                                        # Simulated Annealing\n",
    "from inspyred import ec  # type: ignore                                               # Evolutionary Computation\n",
    "import warnings  # type: ignore                                                       # Disable warnings\n",
    "warnings.filterwarnings(\"ignore\")                                                     # Disable warnings\n",
    "outputColor = \"blue\"                                                                  # Color for the output"
   ],
   "id": "311b4ca217aa913",
   "outputs": [],
   "execution_count": 36
  },
  {
   "cell_type": "code",
   "id": "5d6867e0-ae45-4e93-813e-23e1bbbbaf96",
   "metadata": {
    "ExecuteTime": {
     "end_time": "2024-06-11T09:19:53.616726Z",
     "start_time": "2024-06-11T09:19:53.603102Z"
    }
   },
   "source": [
    "# Function definitions:\n",
    "def rule_filter(row, min_len, max_len):\n",
    "    length = len(row['antecedents']) + len(row['consequents'])\n",
    "    return min_len <= length <= max_len\n",
    "\n",
    "def get_item_list (string):\n",
    "    items = string [1:-1]\n",
    "    return items.split(';')\n",
    "\n",
    "def no_outliers(data):\n",
    "    Q1 = data.quantile(0.25)\n",
    "    Q3 = data.quantile(0.75)\n",
    "    I = Q3 - Q1\n",
    "    low = Q1 - 1.5 * I\n",
    "    high = Q3 + 1.5 * I\n",
    "    outliers = data[(data < low) | (data > high)]\n",
    "    \n",
    "    print(\"Low: \",low)\n",
    "    print(\"High:\",high)\n",
    "    print(\"Len: \",len(data))\n",
    "    print(\"Outliers:\", outliers.values, \"\\n\")\n",
    "    return data[(data >= low) & (data <= high)]\n",
    "\n",
    "def plot_confidence_interval(population_size, sample_mean, sample_standard_deviation, degrees_freedom, plot_factor):\n",
    "    margin_of_error = plot_factor * sample_standard_deviation / np.sqrt(population_size)\n",
    "    lower_bound = sample_mean - margin_of_error\n",
    "    upper_bound = sample_mean + margin_of_error\n",
    "\n",
    "    plt.figure(figsize=(10, 6))\n",
    "    x_axis = np.linspace(sample_mean - 3 * sample_standard_deviation, sample_mean + 3 * sample_standard_deviation, 1000)\n",
    "    y_axis = student.pdf(x_axis, degrees_freedom, loc=sample_mean, scale=sample_standard_deviation / np.sqrt(population_size))\n",
    "\n",
    "    plt.plot(x_axis, y_axis, label='t-distribution')\n",
    "    plt.axvline(lower_bound, color='red', linestyle='--', label='Lower Bound')\n",
    "    plt.axvline(upper_bound, color='blue', linestyle='--', label='Upper Bound')\n",
    "    plt.axvline(sample_mean, color='green', linestyle='-', label='Sample Mean')\n",
    "\n",
    "    plt.fill_betweenx(y_axis, lower_bound, upper_bound, where=(x_axis >= lower_bound) & (x_axis <= upper_bound), color='orange', label='Confidence Interval')\n",
    "\n",
    "    plt.title('Confidence Interval Plot')\n",
    "    plt.xlabel('Sample Mean')\n",
    "    plt.ylabel('Probability Density Function')\n",
    "    plt.legend()\n",
    "    plt.grid(True)\n",
    "    plt.show()"
   ],
   "outputs": [],
   "execution_count": 37
  },
  {
   "cell_type": "code",
   "id": "828890e8-f957-4fa5-ae18-c67bf5c7a1a1",
   "metadata": {
    "ExecuteTime": {
     "end_time": "2024-06-11T09:19:53.664014Z",
     "start_time": "2024-06-11T09:19:53.639918Z"
    }
   },
   "source": [
    "bevolkingData = pd.read_csv('../Data/Bevolking.csv', delimiter=';', decimal='.', index_col='id')\n",
    "display(bevolkingData)"
   ],
   "outputs": [
    {
     "data": {
      "text/plain": [
       "         age     sex      region    income  married  children    car  fiber  \\\n",
       "id                                                                            \n",
       "ID12101   48  FEMALE  INNER_CITY  17546.00    False         1  False   True   \n",
       "ID12102   40    MALE        TOWN  30085.10     True         3   True   True   \n",
       "ID12103   51  FEMALE  INNER_CITY  16575.40     True         0   True   True   \n",
       "ID12104   23  FEMALE        TOWN  20375.40     True         3  False   True   \n",
       "ID12105   57  FEMALE       RURAL  50576.30     True         0  False  False   \n",
       "...      ...     ...         ...       ...      ...       ...    ...    ...   \n",
       "ID12696   61  FEMALE  INNER_CITY  47025.00    False         2   True   True   \n",
       "ID12697   30  FEMALE  INNER_CITY   9672.25     True         0   True   True   \n",
       "ID12698   31  FEMALE        TOWN  15976.30     True         0   True  False   \n",
       "ID12699   29    MALE  INNER_CITY  14711.80     True         0  False  False   \n",
       "ID12700   38    MALE        TOWN  26671.60    False         0   True   True   \n",
       "\n",
       "         iphone  linux  \n",
       "id                      \n",
       "ID12101   False   True  \n",
       "ID12102    True  False  \n",
       "ID12103   False  False  \n",
       "ID12104   False  False  \n",
       "ID12105   False  False  \n",
       "...         ...    ...  \n",
       "ID12696    True  False  \n",
       "ID12697   False  False  \n",
       "ID12698   False   True  \n",
       "ID12699    True  False  \n",
       "ID12700    True   True  \n",
       "\n",
       "[600 rows x 10 columns]"
      ],
      "text/html": [
       "<div>\n",
       "<style scoped>\n",
       "    .dataframe tbody tr th:only-of-type {\n",
       "        vertical-align: middle;\n",
       "    }\n",
       "\n",
       "    .dataframe tbody tr th {\n",
       "        vertical-align: top;\n",
       "    }\n",
       "\n",
       "    .dataframe thead th {\n",
       "        text-align: right;\n",
       "    }\n",
       "</style>\n",
       "<table border=\"1\" class=\"dataframe\">\n",
       "  <thead>\n",
       "    <tr style=\"text-align: right;\">\n",
       "      <th></th>\n",
       "      <th>age</th>\n",
       "      <th>sex</th>\n",
       "      <th>region</th>\n",
       "      <th>income</th>\n",
       "      <th>married</th>\n",
       "      <th>children</th>\n",
       "      <th>car</th>\n",
       "      <th>fiber</th>\n",
       "      <th>iphone</th>\n",
       "      <th>linux</th>\n",
       "    </tr>\n",
       "    <tr>\n",
       "      <th>id</th>\n",
       "      <th></th>\n",
       "      <th></th>\n",
       "      <th></th>\n",
       "      <th></th>\n",
       "      <th></th>\n",
       "      <th></th>\n",
       "      <th></th>\n",
       "      <th></th>\n",
       "      <th></th>\n",
       "      <th></th>\n",
       "    </tr>\n",
       "  </thead>\n",
       "  <tbody>\n",
       "    <tr>\n",
       "      <th>ID12101</th>\n",
       "      <td>48</td>\n",
       "      <td>FEMALE</td>\n",
       "      <td>INNER_CITY</td>\n",
       "      <td>17546.00</td>\n",
       "      <td>False</td>\n",
       "      <td>1</td>\n",
       "      <td>False</td>\n",
       "      <td>True</td>\n",
       "      <td>False</td>\n",
       "      <td>True</td>\n",
       "    </tr>\n",
       "    <tr>\n",
       "      <th>ID12102</th>\n",
       "      <td>40</td>\n",
       "      <td>MALE</td>\n",
       "      <td>TOWN</td>\n",
       "      <td>30085.10</td>\n",
       "      <td>True</td>\n",
       "      <td>3</td>\n",
       "      <td>True</td>\n",
       "      <td>True</td>\n",
       "      <td>True</td>\n",
       "      <td>False</td>\n",
       "    </tr>\n",
       "    <tr>\n",
       "      <th>ID12103</th>\n",
       "      <td>51</td>\n",
       "      <td>FEMALE</td>\n",
       "      <td>INNER_CITY</td>\n",
       "      <td>16575.40</td>\n",
       "      <td>True</td>\n",
       "      <td>0</td>\n",
       "      <td>True</td>\n",
       "      <td>True</td>\n",
       "      <td>False</td>\n",
       "      <td>False</td>\n",
       "    </tr>\n",
       "    <tr>\n",
       "      <th>ID12104</th>\n",
       "      <td>23</td>\n",
       "      <td>FEMALE</td>\n",
       "      <td>TOWN</td>\n",
       "      <td>20375.40</td>\n",
       "      <td>True</td>\n",
       "      <td>3</td>\n",
       "      <td>False</td>\n",
       "      <td>True</td>\n",
       "      <td>False</td>\n",
       "      <td>False</td>\n",
       "    </tr>\n",
       "    <tr>\n",
       "      <th>ID12105</th>\n",
       "      <td>57</td>\n",
       "      <td>FEMALE</td>\n",
       "      <td>RURAL</td>\n",
       "      <td>50576.30</td>\n",
       "      <td>True</td>\n",
       "      <td>0</td>\n",
       "      <td>False</td>\n",
       "      <td>False</td>\n",
       "      <td>False</td>\n",
       "      <td>False</td>\n",
       "    </tr>\n",
       "    <tr>\n",
       "      <th>...</th>\n",
       "      <td>...</td>\n",
       "      <td>...</td>\n",
       "      <td>...</td>\n",
       "      <td>...</td>\n",
       "      <td>...</td>\n",
       "      <td>...</td>\n",
       "      <td>...</td>\n",
       "      <td>...</td>\n",
       "      <td>...</td>\n",
       "      <td>...</td>\n",
       "    </tr>\n",
       "    <tr>\n",
       "      <th>ID12696</th>\n",
       "      <td>61</td>\n",
       "      <td>FEMALE</td>\n",
       "      <td>INNER_CITY</td>\n",
       "      <td>47025.00</td>\n",
       "      <td>False</td>\n",
       "      <td>2</td>\n",
       "      <td>True</td>\n",
       "      <td>True</td>\n",
       "      <td>True</td>\n",
       "      <td>False</td>\n",
       "    </tr>\n",
       "    <tr>\n",
       "      <th>ID12697</th>\n",
       "      <td>30</td>\n",
       "      <td>FEMALE</td>\n",
       "      <td>INNER_CITY</td>\n",
       "      <td>9672.25</td>\n",
       "      <td>True</td>\n",
       "      <td>0</td>\n",
       "      <td>True</td>\n",
       "      <td>True</td>\n",
       "      <td>False</td>\n",
       "      <td>False</td>\n",
       "    </tr>\n",
       "    <tr>\n",
       "      <th>ID12698</th>\n",
       "      <td>31</td>\n",
       "      <td>FEMALE</td>\n",
       "      <td>TOWN</td>\n",
       "      <td>15976.30</td>\n",
       "      <td>True</td>\n",
       "      <td>0</td>\n",
       "      <td>True</td>\n",
       "      <td>False</td>\n",
       "      <td>False</td>\n",
       "      <td>True</td>\n",
       "    </tr>\n",
       "    <tr>\n",
       "      <th>ID12699</th>\n",
       "      <td>29</td>\n",
       "      <td>MALE</td>\n",
       "      <td>INNER_CITY</td>\n",
       "      <td>14711.80</td>\n",
       "      <td>True</td>\n",
       "      <td>0</td>\n",
       "      <td>False</td>\n",
       "      <td>False</td>\n",
       "      <td>True</td>\n",
       "      <td>False</td>\n",
       "    </tr>\n",
       "    <tr>\n",
       "      <th>ID12700</th>\n",
       "      <td>38</td>\n",
       "      <td>MALE</td>\n",
       "      <td>TOWN</td>\n",
       "      <td>26671.60</td>\n",
       "      <td>False</td>\n",
       "      <td>0</td>\n",
       "      <td>True</td>\n",
       "      <td>True</td>\n",
       "      <td>True</td>\n",
       "      <td>True</td>\n",
       "    </tr>\n",
       "  </tbody>\n",
       "</table>\n",
       "<p>600 rows × 10 columns</p>\n",
       "</div>"
      ]
     },
     "metadata": {},
     "output_type": "display_data"
    }
   ],
   "execution_count": 38
  },
  {
   "cell_type": "markdown",
   "id": "dae70c5b-63e2-491d-9b21-99c86db0e830",
   "metadata": {},
   "source": "## Questions 1"
  },
  {
   "cell_type": "code",
   "id": "ac4c918a-4b02-4bb1-9565-89d586d96b33",
   "metadata": {
    "ExecuteTime": {
     "end_time": "2024-06-11T09:19:53.679393Z",
     "start_time": "2024-06-11T09:19:53.666580Z"
    }
   },
   "source": [
    "# Probability Mass Function\n",
    "\n",
    "probability=len(bevolkingData[ (bevolkingData[\"region\"] == \"TOWN\") | (bevolkingData[\"car\"] == True)]) / len(bevolkingData)\n",
    "print(colored(f\"The probability is as follows: {round(probability, 4)} or {round(probability * 100, 4)}%.\", outputColor))"
   ],
   "outputs": [
    {
     "name": "stdout",
     "output_type": "stream",
     "text": [
      "\u001B[34mThe probability is as follows: 0.63 or 63.0%.\u001B[0m\n"
     ]
    }
   ],
   "execution_count": 39
  },
  {
   "cell_type": "markdown",
   "id": "7ac7f699-4cf3-4340-a4b1-ba827b7aa5c2",
   "metadata": {},
   "source": "## Questions 2"
  },
  {
   "cell_type": "code",
   "id": "ff5da0df-8794-4ded-aebf-3e9864a9ba8e",
   "metadata": {
    "ExecuteTime": {
     "end_time": "2024-06-11T09:19:53.695609Z",
     "start_time": "2024-06-11T09:19:53.680693Z"
    }
   },
   "source": [
    "# Technique used: Laplace\n",
    "\n",
    "probability = (1 / 4 * 0.001) + (1 / 4 * 0.002) + (2 / 4 * 0.003)\n",
    "print(colored(f\"The probability is as follows: {round(probability, 4)} or {round(probability * 100, 4)}%.\", outputColor))"
   ],
   "outputs": [
    {
     "name": "stdout",
     "output_type": "stream",
     "text": [
      "\u001B[34mThe probability is as follows: 0.0023 or 0.225%.\u001B[0m\n"
     ]
    }
   ],
   "execution_count": 40
  },
  {
   "cell_type": "markdown",
   "id": "4d11afd7-805a-43fa-ae0a-d6586ff890ab",
   "metadata": {},
   "source": "## Questions 3"
  },
  {
   "cell_type": "code",
   "id": "b4e55c97-d34c-43f1-ad7c-1ec6e5a2a110",
   "metadata": {
    "scrolled": true,
    "ExecuteTime": {
     "end_time": "2024-06-11T09:19:53.710911Z",
     "start_time": "2024-06-11T09:19:53.697628Z"
    }
   },
   "source": [
    "# Technique used: The Binomial Distribution\n",
    "\n",
    "true = len(bevolkingData[(bevolkingData[\"married\"] == True)])\n",
    "total = len(bevolkingData)\n",
    "\n",
    "k = 7                 # Probability of exactly k successes\n",
    "n = 10                # Number of trials\n",
    "p = true / total      # Probability of success in each trial\n",
    "probability = 1 - binomial.cdf(k, n, p)\n",
    "print(colored(f\"The probability is as follows: {round(probability, 4)} or {round(probability * 100, 4)}%.\", outputColor))"
   ],
   "outputs": [
    {
     "name": "stdout",
     "output_type": "stream",
     "text": [
      "\u001B[34mThe probability is as follows: 0.2838 or 28.377%.\u001B[0m\n"
     ]
    }
   ],
   "execution_count": 41
  },
  {
   "cell_type": "markdown",
   "id": "64f25185-545e-4be6-b962-c91a797be1ba",
   "metadata": {},
   "source": "## Questions 4"
  },
  {
   "cell_type": "code",
   "id": "c4df4a6a-b3b7-4095-917c-5e3da6da1c01",
   "metadata": {
    "ExecuteTime": {
     "end_time": "2024-06-11T09:19:53.741771Z",
     "start_time": "2024-06-11T09:19:53.721625Z"
    }
   },
   "source": [
    "# Technique used: The Poisson Distribution\n",
    "\n",
    "x = 3      # Number of events\n",
    "y = 10     # Average number of events\n",
    "probability = 1 - poisson.cdf(x, y)\n",
    "print(colored(f\"The probability is as follows: {round(probability, 4)} or {round(probability * 100, 4)}%.\", outputColor))"
   ],
   "outputs": [
    {
     "name": "stdout",
     "output_type": "stream",
     "text": [
      "\u001B[34mThe probability is as follows: 0.9897 or 98.9664%.\u001B[0m\n"
     ]
    }
   ],
   "execution_count": 42
  },
  {
   "cell_type": "markdown",
   "id": "89237de3-3964-4b84-b5fc-5ee88171b4bb",
   "metadata": {},
   "source": "## Questions 5"
  },
  {
   "cell_type": "code",
   "id": "c2a5ccee-d5cc-417e-89c7-826aed37bd01",
   "metadata": {
    "ExecuteTime": {
     "end_time": "2024-06-11T09:19:53.773146Z",
     "start_time": "2024-06-11T09:19:53.761721Z"
    }
   },
   "source": [
    "# Technique used: Normal Distribution\n",
    "\n",
    "loc=bevolkingData['income'].mean()\n",
    "scale=bevolkingData['income'].std()\n",
    "x = 65000\n",
    "probability = 1 - normal.cdf(x, loc, scale)\n",
    "print(colored(f\"The probability is as follows: {round(probability, 4)} or {round(probability * 100, 4)}%.\", outputColor))"
   ],
   "outputs": [
    {
     "name": "stdout",
     "output_type": "stream",
     "text": [
      "\u001B[34mThe probability is as follows: 0.0018 or 0.1835%.\u001B[0m\n"
     ]
    }
   ],
   "execution_count": 43
  },
  {
   "cell_type": "markdown",
   "id": "7b140ba7-f4f4-4539-b1cb-fdb5ad7102e9",
   "metadata": {},
   "source": "## Questions 6"
  },
  {
   "cell_type": "code",
   "id": "ec4b3037-1e47-4bcf-9621-2332caef960a",
   "metadata": {
    "ExecuteTime": {
     "end_time": "2024-06-11T09:20:06.295270Z",
     "start_time": "2024-06-11T09:20:06.289097Z"
    }
   },
   "source": [
    "a = 0.05\n",
    "x_bar = bevolkingData['age'].mean()\n",
    "s = bevolkingData['age'].std()\n",
    "n = len(bevolkingData['age'])\n",
    "df = n - 1\n",
    "p = 1 - a\n",
    "\n",
    "interval=student.interval(confidence=p, df=df, loc=x_bar, scale=s/math.sqrt(n))\n",
    "print(colored(f\"Confidence Interval: {interval}\", outputColor))"
   ],
   "outputs": [
    {
     "name": "stdout",
     "output_type": "stream",
     "text": [
      "\u001B[34mConfidence Interval: (41.23844813332852, 43.55155186667149)\u001B[0m\n"
     ]
    }
   ],
   "execution_count": 48
  },
  {
   "cell_type": "markdown",
   "id": "e77505d8-0810-4912-95a4-bccf39ebe657",
   "metadata": {},
   "source": "## Questions 7"
  },
  {
   "cell_type": "code",
   "id": "8589797e-4b15-4f6a-985b-459ae554cd3b",
   "metadata": {
    "ExecuteTime": {
     "end_time": "2024-06-11T09:21:22.909044Z",
     "start_time": "2024-06-11T09:21:22.881381Z"
    }
   },
   "source": [
    "income = no_outliers(bevolkingData['income'])\n",
    "mu = 6500\n",
    "a = 0.05\n",
    "data = ttest_1samp(income, mu)\n",
    "p_value = data.pvalue\n",
    "print(colored(f\"P Value: {p_value}\", outputColor))\n",
    "print(colored(f\"5% {income.mean() - (income.mean() / 100 * 5)}\", outputColor))\n",
    "\n",
    "if p_value < a:\n",
    "    print(colored(\"Nee\", outputColor))\n",
    "else:\n",
    "    print(colored(\"Ja\", outputColor))\n",
    "\n",
    "print(colored(f\"Het gemiddelde is niet {mu} wat {a} is groter dan de {p_value}.\" , outputColor))"
   ],
   "outputs": [
    {
     "name": "stdout",
     "output_type": "stream",
     "text": [
      "Low:  -11097.762499999993\n",
      "High: 64534.937499999985\n",
      "Len:  600\n",
      "Outliers: [] \n",
      "\n",
      "\u001B[34mP Value: 6.179025530039627e-171\u001B[0m\n",
      "\u001B[34m5% 26147.82965583333\u001B[0m\n",
      "\u001B[34mNee\u001B[0m\n",
      "\u001B[34mHet gemiddelde is niet 6500 wat 0.05 is groter dan de 6.179025530039627e-171.\u001B[0m\n"
     ]
    }
   ],
   "execution_count": 51
  },
  {
   "cell_type": "markdown",
   "id": "57a6ea6e-cd52-44ad-a1e2-811761154da6",
   "metadata": {},
   "source": "## Questions 8"
  },
  {
   "cell_type": "code",
   "id": "900853de-87a1-4527-96fd-57a5fb1ff460",
   "metadata": {
    "ExecuteTime": {
     "end_time": "2024-06-11T09:23:14.765840Z",
     "start_time": "2024-06-11T09:23:14.745042Z"
    }
   },
   "source": [
    "# Assuming bevolkingData is a DataFrame and 'children' is a column in it\n",
    "children = bevolkingData['children']\n",
    "\n",
    "# Initialize counts\n",
    "children1 = 0\n",
    "children2 = 0\n",
    "children3 = 0\n",
    "\n",
    "# Count occurrences\n",
    "for i in range(len(children)):\n",
    "    if children.iloc[i] == 1:\n",
    "        children1 += 1\n",
    "    elif children.iloc[i] == 2:\n",
    "        children2 += 1\n",
    "    elif children.iloc[i] == 3:\n",
    "        children3 += 1\n",
    "\n",
    "# Calculate total\n",
    "total = children1 + children2 + children3\n",
    "\n",
    "print(colored(f\"Amount of children1: {children1}\", outputColor))\n",
    "print(colored(f\"Amount of children2: {children2}\", outputColor))\n",
    "print(colored(f\"Amount of children3: {children3}\", outputColor))\n",
    "print(colored(f\"Total: {total}\", outputColor))\n",
    "\n",
    "# Define measured and expected values\n",
    "measured_values = [children1, children2, children3]\n",
    "expected_values = [total * 0.45, total * 0.20, total * 0.10]\n",
    "\n",
    "# Adjust expected values to ensure their sum matches the total\n",
    "scaling_factor = total / sum(expected_values)\n",
    "expected_values = [ev * scaling_factor for ev in expected_values]\n",
    "\n",
    "# Perform chi-square test\n",
    "data = chisquare(measured_values, expected_values)\n",
    "\n",
    "print(colored(f\"P Value: {data.pvalue}\", outputColor))\n",
    "\n",
    "# Significance level\n",
    "a = 0.05\n",
    "\n",
    "if data.pvalue < a:\n",
    "    print(colored(\"Nee\", outputColor))\n",
    "else:\n",
    "    print(colored(\"Ja\", outputColor))"
   ],
   "outputs": [
    {
     "name": "stdout",
     "output_type": "stream",
     "text": [
      "\u001B[34mAmount of children1: 135\u001B[0m\n",
      "\u001B[34mAmount of children2: 134\u001B[0m\n",
      "\u001B[34mAmount of children3: 68\u001B[0m\n",
      "\u001B[34mTotal: 337\u001B[0m\n",
      "\u001B[34mP Value: 7.45789993632972e-13\u001B[0m\n",
      "\u001B[34mNee\u001B[0m\n"
     ]
    }
   ],
   "execution_count": 54
  },
  {
   "cell_type": "markdown",
   "id": "31779cad-0871-48fb-b23d-f48ae6dc1c23",
   "metadata": {},
   "source": "## Questions 9"
  },
  {
   "cell_type": "raw",
   "id": "2a1f1d6c-7589-45b4-b820-e8b620995ebb",
   "metadata": {},
   "source": [
    "# Antwoord vraag 9\n",
    "a. Aantal transacties = 20\n",
    "b. Support( Licht ) = 10\n",
    "c. Support( Licht EN Slot ) = 4\n",
    "d. Confidence( Licht -> Slot ) = 7"
   ]
  },
  {
   "cell_type": "markdown",
   "id": "1a41d866-a773-494d-ae60-2c2016740f81",
   "metadata": {},
   "source": "## Questions 10"
  },
  {
   "cell_type": "code",
   "id": "e6c0dd60-eb5e-4edd-9960-99b5c6b735d5",
   "metadata": {
    "ExecuteTime": {
     "end_time": "2024-06-11T09:23:58.201854Z",
     "start_time": "2024-06-11T09:23:58.170597Z"
    }
   },
   "source": [
    "# Apriori algorithm\n",
    "support = 0.2\n",
    "min_threshold = 0.7\n",
    "bevolkingData_dummies=bevolkingData.drop(columns=['age', 'sex', 'region', 'income', 'married', 'children'])\n",
    "\n",
    "item_sets_apriori=apriori(bevolkingData_dummies, min_support=support, use_colnames=True)\n",
    "\n",
    "rules_apriori=association_rules(item_sets_apriori, metric='confidence', min_threshold=min_threshold)\n",
    "rules_apriori=rules_apriori.drop(columns=['leverage', 'conviction', 'zhangs_metric'])\n",
    "\n",
    "print(colored(f\"Wat (linux) heeft de grootsten confidence bij fiber.\", outputColor))\n",
    "display(rules_apriori.sort_values(by='confidence', ascending=False).head(1)['antecedents'])"
   ],
   "outputs": [
    {
     "name": "stdout",
     "output_type": "stream",
     "text": [
      "\u001B[34mWat (linux) heeft de grootsten confidence bij fiber.\u001B[0m\n"
     ]
    },
    {
     "data": {
      "text/plain": [
       "2    (linux)\n",
       "Name: antecedents, dtype: object"
      ]
     },
     "metadata": {},
     "output_type": "display_data"
    }
   ],
   "execution_count": 59
  }
 ],
 "metadata": {
  "kernelspec": {
   "display_name": "Python 3 (ipykernel)",
   "language": "python",
   "name": "python3"
  },
  "language_info": {
   "codemirror_mode": {
    "name": "ipython",
    "version": 3
   },
   "file_extension": ".py",
   "mimetype": "text/x-python",
   "name": "python",
   "nbconvert_exporter": "python",
   "pygments_lexer": "ipython3",
   "version": "3.11.7"
  }
 },
 "nbformat": 4,
 "nbformat_minor": 5
}

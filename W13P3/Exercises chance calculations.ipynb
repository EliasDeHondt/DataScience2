{
 "cells": [
  {
   "cell_type": "markdown",
   "source": [
    "# Exercises chance calculations"
   ],
   "metadata": {
    "collapsed": false
   },
   "id": "fc11ae5046d6cd48"
  },
  {
   "cell_type": "markdown",
   "source": [
    "## Theoretical questions"
   ],
   "metadata": {
    "collapsed": false
   },
   "id": "d66cd879508e8eb4"
  },
  {
   "cell_type": "markdown",
   "source": [
    "### Question 1:\n",
    "You roll `2 dice`.\n",
    "What is the probability that you roll a `5` and a `2`? (3 significant figures)"
   ],
   "metadata": {
    "collapsed": false
   },
   "id": "8dcce8d70aac0bac"
  },
  {
   "cell_type": "code",
   "outputs": [],
   "source": [
    "# Technique used:\n",
    "# Laplace\n",
    "\n",
    "# Formula used: \n",
    "# P((2 AND 5) OR (5 AND 2))\n",
    "\n",
    "# Calculation:\n",
    "# (1/6 * 1/6) + (1/6 * 1/6) = 2/36 = 0,0556 (5,56%)"
   ],
   "metadata": {
    "collapsed": false,
    "ExecuteTime": {
     "end_time": "2024-02-17T12:52:34.853984900Z",
     "start_time": "2024-02-17T12:52:34.851982100Z"
    }
   },
   "id": "f61d5f3c36d4ed95",
   "execution_count": 26
  },
  {
   "cell_type": "markdown",
   "source": [
    "### Question 2:\n",
    "We have `2 dice`.\n",
    "-   1st: `3 yellow` areas and `3 red` areas.\n",
    "-   2nd: `5 yellow` areas and `1 red` area.\n",
    "\n",
    "What is the probability of having both a `yellow` and a `red` square?"
   ],
   "metadata": {
    "collapsed": false
   },
   "id": "ac6e6a8db97c7653"
  },
  {
   "cell_type": "code",
   "outputs": [],
   "source": [
    "# Technique used:\n",
    "# Laplace\n",
    "\n",
    "# Formula used: \n",
    "# P((Yellow AND Red) OR (Red AND Yellow))\n",
    "\n",
    "# Calculation:\n",
    "# (3/6 * 1/6) + (3/6 * 5/6) = 18/36 = 0,5 (50,00%)"
   ],
   "metadata": {
    "collapsed": false,
    "ExecuteTime": {
     "end_time": "2024-02-17T10:38:18.276648800Z",
     "start_time": "2024-02-17T10:38:18.255057700Z"
    }
   },
   "id": "ce4e897992fd055a",
   "execution_count": 5
  },
  {
   "cell_type": "markdown",
   "source": [
    "### Question 3:\n",
    "A box contains `4 yellow`, `2 brown`, `1 orange`, `1 green` and `2 purple` marbles. We always draw without replacing. (2 significant figures each)\n",
    "- If we draw `4 marbles`, what is the probability that all marbles are `yellow`?\n",
    "- If we draw `2 marbles`, what is the probability of getting a `brown` and a `green` marble?\n",
    "- When we draw `1 marble`, what is the chance of getting an `orange` or a `green` marble?"
   ],
   "metadata": {
    "collapsed": false
   },
   "id": "52f18b95661cc892"
  },
  {
   "cell_type": "code",
   "outputs": [],
   "source": [
    "# Technique used:\n",
    "# Multiplication rule & Sum rule & Addition rule\n",
    "\n",
    "# Formula used: \n",
    "# 1. P(Yellow AND Yellow AND Yellow AND Yellow)\n",
    "# 2. P((Brown AND Green) OR (Green AND Brown))\n",
    "# 3. P(Orange OR Green)\n",
    "\n",
    "# Calculation:\n",
    "# Total marbles = 10\n",
    "# 1. (4/10 * 3/9 * 2/8 * 1/7) = 24/5040 = 0,0048 (0,48%)\n",
    "# 2. (2/10 * 1/9) + (1/10 * 2/9) = 4/90 = 0,044 (4,40%)\n",
    "# 3. (1/10 + 1/10) = 1/5 = 0,2 (20,00%)"
   ],
   "metadata": {
    "collapsed": false,
    "ExecuteTime": {
     "end_time": "2024-02-17T10:38:18.301498900Z",
     "start_time": "2024-02-17T10:38:18.273071300Z"
    }
   },
   "id": "42e449944e3abeaf",
   "execution_count": 6
  },
  {
   "cell_type": "markdown",
   "source": [
    "### Question 4:\n",
    "For a group of `144 students`, `90` passed the \"OO Concepts\" exam and `60` for \"JavaFX\".\n",
    "Of the `90` who passed on \"OO concepts\", `30` also passed on \"JavaFX\".\n",
    "What is the probability that if we randomly select a student, they will have passed at least 1 of the 2 exams? (4 significant digits)"
   ],
   "metadata": {
    "collapsed": false
   },
   "id": "82996318cf7a7ab5"
  },
  {
   "cell_type": "code",
   "outputs": [],
   "source": [
    "# Technique used:\n",
    "# The Sum Rule\n",
    "\n",
    "# Formula used: \n",
    "# P(OO Concepts OR JavaFX)\n",
    "\n",
    "# Calculation:\n",
    "# (90/144) + (60/144) - (30/144) = 0,8333 (83,33%)"
   ],
   "metadata": {
    "collapsed": false,
    "ExecuteTime": {
     "end_time": "2024-02-17T10:38:18.315130Z",
     "start_time": "2024-02-17T10:38:18.288742400Z"
    }
   },
   "id": "d45ccf151811f954",
   "execution_count": 7
  },
  {
   "cell_type": "markdown",
   "source": [
    "### Question 5:\n",
    "(C) In a group of `1000 students`, `400` regularly play computer games.\n",
    "(B) `200` regularly play board games.\n",
    "(C and B) There are `100` who regularly play computer games and board games.\n",
    "\n",
    "If you choose a random student, what are the chances that they regularly play games (computer or board)?"
   ],
   "metadata": {
    "collapsed": false
   },
   "id": "620d7b7bdcad6009"
  },
  {
   "cell_type": "code",
   "outputs": [],
   "source": [
    "# Technique used:\n",
    "# The Sum Rule\n",
    "\n",
    "# Formula used: \n",
    "# P(Computer or Board)\n",
    "\n",
    "# Calculation:\n",
    "# (400/1000) + (200/1000) - 100/1000 = 0,50 (50,00%)"
   ],
   "metadata": {
    "collapsed": false,
    "ExecuteTime": {
     "end_time": "2024-02-17T10:38:18.347794300Z",
     "start_time": "2024-02-17T10:38:18.306178700Z"
    }
   },
   "id": "578c8e73692e80b7",
   "execution_count": 7
  },
  {
   "cell_type": "markdown",
   "source": [
    "### Question 6:\n",
    "`70%` of students pass a \"Data Science 1\" exam. Of these, `50%` are day students and `50%` blended students. Of the participants, `60%` are day students and `40%` blended students. `1` random student is selected from the group each time. (2 significant figures each)\n",
    "\n",
    "- What is the chance of a successful student?\n",
    "- What is the probability of a day student, given that he or she is a successful student?\n",
    "- What are the chances of a successful day student?\n",
    "- What is the chance of a successful student, given that he or she is a day student?\n",
    "- What is the chance of a student failing, given that he or she is a day student?\n",
    "- What are the chances of a day student failing?"
   ],
   "metadata": {
    "collapsed": false
   },
   "id": "6070de44bfdfd33"
  },
  {
   "cell_type": "code",
   "outputs": [],
   "source": [
    "# Technique used:\n",
    "# The Product Rule\n",
    "\n",
    "# Formula used: \n",
    "# 1. P(Passed)\n",
    "# 2. P(DayStudent | Passed)\n",
    "# 3. P(Passed AND DayStudent) = (P(Passed) * P(DayStudent | Passed))\n",
    "# 4. P(Passed | DayStudent) = (P(DayStudent | Passed) * P(Passed) / P(DayStudent))\n",
    "# 5. P(Failed | DayStudent) = 1 - P(Passed | DayStudent)\n",
    "# 6. P(DayStudent AND Failed) = (P(DayStudent) * P(Failed | DayStudent))\n",
    "\n",
    "# Calculation:\n",
    "# 1. (70/100) = 0,70 (70%)\n",
    "# 2. 0,50 = 50%\n",
    "# 3. 0,70 * 0,50 = 0,35 (35,00%)\n",
    "# 4. 0,50 * 0,70 / 0,60 = 0,58 (58,00%)\n",
    "# 5. 1 - 0,58 = 0,42 (42,00%)\n",
    "# 6. 0,60 * 0,42 = 0,25 (25,00%)"
   ],
   "metadata": {
    "collapsed": false,
    "ExecuteTime": {
     "end_time": "2024-02-17T10:38:18.362528900Z",
     "start_time": "2024-02-17T10:38:18.320872300Z"
    }
   },
   "id": "d18f832b04f4acf8",
   "execution_count": 7
  },
  {
   "cell_type": "markdown",
   "source": [
    "### Question 7:\n",
    "`3 men` go to a party and wear exactly the same jackets. They hang their coats on the coat rack and then get very drunk.\n",
    "At the end, each man takes a coat without looking at which one. What are the chances that everyone will take their own coat?"
   ],
   "metadata": {
    "collapsed": false
   },
   "id": "cc61bae3d109394c"
  },
  {
   "cell_type": "code",
   "outputs": [],
   "source": [
    "# Technique used:\n",
    "# Laplace\n",
    "\n",
    "# Formula used: \n",
    "# P(Jacket1 AND Jacket2 AND Jacket3)\n",
    "\n",
    "# Calculation:\n",
    "# 1/3 * 1/2 * 1/1 = 1/6 = 0,1667 (16,67%)"
   ],
   "metadata": {
    "collapsed": false,
    "ExecuteTime": {
     "end_time": "2024-02-17T10:38:18.393574400Z",
     "start_time": "2024-02-17T10:38:18.353524800Z"
    }
   },
   "id": "44bfac8b48ddafd0",
   "execution_count": 7
  },
  {
   "cell_type": "markdown",
   "source": [
    "### Question 8:\n",
    "If it rains heavily, there is a `50%` chance that my basement will flood. It rains heavily on average `35 days per year` and my basement floods `20 days per year` (even sometimes when it is not raining hard).\n",
    "If my basement is flooded, what are the chances that it is because it is raining heavily?"
   ],
   "metadata": {
    "collapsed": false
   },
   "id": "38274c4c7bf85d7a"
  },
  {
   "cell_type": "code",
   "outputs": [],
   "source": [
    "# Technique used:\n",
    "# \n",
    "\n",
    "# Formula used: \n",
    "# \n",
    "\n",
    "# Calculation:\n",
    "# "
   ],
   "metadata": {
    "collapsed": false,
    "ExecuteTime": {
     "end_time": "2024-02-17T10:38:18.428966400Z",
     "start_time": "2024-02-17T10:38:18.396079100Z"
    }
   },
   "id": "a1a696d807d4c60a",
   "execution_count": 7
  },
  {
   "cell_type": "markdown",
   "source": [
    "### Question 9:\n",
    "90% van de PC's gebruikt Windows. Als een PC crasht, ben je 99,9% zeker dat er Windows op draait. De kans dat een PC crasht (ongeacht het besturingssysteem) is 0,01.\n",
    "\n",
    "Wat is de kans dat een PC crasht als je weet dat er Windows op draait?"
   ],
   "metadata": {
    "collapsed": false
   },
   "id": "ee5c4b5a82eb1955"
  },
  {
   "cell_type": "code",
   "outputs": [],
   "source": [
    "# P(Win) = 0,90\n",
    "# P(Crash | Win) = 0,999\n",
    "# P(Crash) = 0,01\n",
    "\n",
    "# P(Crash | Win) = ? (Wet van Bayes)\n",
    "\n",
    "\n",
    "# P(Crash | Win) * P(Crash)\n",
    "# ---------------\n",
    "# P(Win)\n",
    "\n",
    "# P(0,999) * P(0,01)\n",
    "# ------------------\n",
    "# P(0,90)\n",
    "\n",
    "# 0,999 * 0,01 / 0,90 = 0,0111 = 1,11%"
   ],
   "metadata": {
    "collapsed": false,
    "ExecuteTime": {
     "end_time": "2024-02-17T10:38:18.450920400Z",
     "start_time": "2024-02-17T10:38:18.413844900Z"
    }
   },
   "id": "cff83f626304373",
   "execution_count": 8
  },
  {
   "cell_type": "markdown",
   "source": [
    "### Question 10:\n",
    "In 1988 was er discussie om een verplichte AIDS test in te voeren. Men heeft een zeer betrouwbare test ontwikkelt die volgende resultaten boekt:\n",
    "- P(positief | geïnfecteerd) = 0,999\n",
    "- P(negatief | niet geïnfecteerd) = 0,99\n",
    "\n",
    "Men schat dat 0,6% van de mensen drager is van het virus.\n",
    "Wat is de kans dat iemand daadwerkelijk geïnfecteerd is als je weet dat de test positief is? Zie je waarom de verplichte test niet werd ingevoerd?"
   ],
   "metadata": {
    "collapsed": false
   },
   "id": "d6410f46d520b3c4"
  },
  {
   "cell_type": "code",
   "outputs": [],
   "source": [
    "# P(positief | geïnfecteerd) = 0,999\n",
    "# P(negatief | niet geïnfecteerd) = 0,99\n",
    "# P(geïnfecteerd) = 0,006\n",
    "\n",
    "# P(positief) = ? (Totaal kans)\n",
    "# P(positief) = p(geïnfecteerd) * P(positief | geïnfecteerd) + P(niet geïnfecteerd) * P(positief | niet geïnfecteerd)\n",
    "# P(positief) = 0,006 * 0,999 + 0,994 * 0,01 = 0,006 + 0,00994 = 0,01594\n",
    "\n",
    "\n",
    "\n",
    "# P(geïnfecteerd | positief) = ? (Wet van Bayes)\n",
    "\n",
    "# P(positief | geïnfecteerd) * P(geïnfecteerd)\n",
    "# -------------------------------------------\n",
    "# P(positief)\n",
    "\n",
    "# 0,999 * 0,006 / 0,01594 = 0,3741 = 37,41%"
   ],
   "metadata": {
    "collapsed": false,
    "ExecuteTime": {
     "end_time": "2024-02-17T10:38:18.454309100Z",
     "start_time": "2024-02-17T10:38:18.433898800Z"
    }
   },
   "id": "a568b487cdf6735b",
   "execution_count": 9
  },
  {
   "cell_type": "markdown",
   "source": [
    "### Question 11:\n",
    "Een programma werd geschreven dat bepaalt wanneer een tekst interessant is voor een lezer. \n",
    "Het programma werd reeds getraind en volgende waarden werden genoteerd:\n",
    "Er zijn 1642 teksten met de hand geanalyseerd. 46 van de teksten werd als interessant aangeduid. Er werd een map gemaakt van woorden en het aantal keer dat ze voorkwamen alsook het aantal keer dat ze voorkwamen in een interessante teksten.\n",
    "We krijgen nu de volgende tekst:\n",
    "    \n",
    "\"Dit is een tekst om te kijken of deze als interessant zal worden beoordeeld.\"\n",
    "\n",
    "In de map zitten volgende waarden voor deze woorden:\n",
    "\n",
    "    | Woord       | Frequentie | Freq in interessante teksten |\n",
    "    |-------------|------------|------------------------------|\n",
    "    | dit         | 1368       | 40                           |\n",
    "    | is          | 1642       | 46                           |\n",
    "    | een         | 1642       | 46                           |\n",
    "    | tekst       | 159        | 1                            |\n",
    "    | om          | 1480       | 24                           |\n",
    "    | te          | 1574       | 38                           |\n",
    "    | kijken      | 947        | 11                           |\n",
    "    | of          | 1642       | 35                           |\n",
    "    | deze        | 1608       | 46                           |\n",
    "    | als         | 1576       | 39                           |\n",
    "    | interessant | 156        | 2                            |\n",
    "    | zal         | 1387       | 46                           |\n",
    "    | worden      | 1589       | 14                           |\n",
    "    | beoordeeld  | 176        | 1                            |\n",
    "Wat is de kans dat deze tekst een interessante tekst is, volgens het geziene algoritme? Is  deze kans groot of klein?"
   ],
   "metadata": {
    "collapsed": false
   },
   "id": "a4b3733834b225d3"
  },
  {
   "cell_type": "code",
   "outputs": [],
   "source": [
    "\n",
    "\n",
    "\n"
   ],
   "metadata": {
    "collapsed": false,
    "ExecuteTime": {
     "end_time": "2024-02-17T10:38:18.507954100Z",
     "start_time": "2024-02-17T10:38:18.458751600Z"
    }
   },
   "id": "ec12ec1e86bb56b3",
   "execution_count": 9
  },
  {
   "cell_type": "markdown",
   "source": [
    "## Practical exercises (Python)"
   ],
   "metadata": {
    "collapsed": false
   },
   "id": "f8f39a382b50d97a"
  },
  {
   "cell_type": "code",
   "outputs": [],
   "source": [
    "import pandas as pd \n",
    "vragenlijst='Data.csv'\n",
    "studenq = pd.read_csv(vragenlijst, delimiter=';', decimal=',')"
   ],
   "metadata": {
    "collapsed": false,
    "ExecuteTime": {
     "end_time": "2024-02-17T10:38:18.508952200Z",
     "start_time": "2024-02-17T10:38:18.477736Z"
    }
   },
   "id": "a9158391b75f2df2",
   "execution_count": 10
  },
  {
   "cell_type": "code",
   "outputs": [
    {
     "data": {
      "text/plain": "   gapminder schrijfhand  schoenmaat  lengte    bloedgroep         resus  \\\n0       7/18      Rechts        43.0     184             O      positief   \n1       3/18      Rechts        42.0     163  Weet ik niet  Weet ik niet   \n2      12/18      Rechts        45.0     183            AB      positief   \n3       5/18      Rechts        44.0     175             A      positief   \n4       6/18      Rechts        43.0     173             B      positief   \n..       ...         ...         ...     ...           ...           ...   \n84      7/18      Rechts        45.0     185             O      negatief   \n85      9/18      Rechts        43.0     184             O  Weet ik niet   \n86      4/18       Links        45.5     190  Weet ik niet  Weet ik niet   \n87      8/18      Rechts        45.0     188             A      positief   \n88      7/18      Rechts        43.0     176             B      positief   \n\n    siblings                                     Samenzweringen  \\\n0          5  De tsunami van 2004 in de Indische Oceaan was ...   \n1          1   Prinses Diana kwam niet per ongeluk om het leven   \n2          2  Prinses Diana kwam niet per ongeluk om het lev...   \n3          2  De wereld wordt eigenlijk gecontroleerd door e...   \n4          3  De wereld wordt eigenlijk gecontroleerd door e...   \n..       ...                                                ...   \n84         0  De maanlanding is in scne gezet om de Russen ...   \n85         2  De aanslagen van 9/11 in NY werden niet door t...   \n86         0  Prinses Diana kwam niet per ongeluk om het lev...   \n87         1                                                NaN   \n88         2                                                NaN   \n\n                                            rijbewijs  \\\n0                                Categorie B: Wagens.   \n1   Categorie AM: Bromfietsen met een maximumsnelh...   \n2   Categorie AM: Bromfietsen met een maximumsnelh...   \n3   Categorie AM: Bromfietsen met een maximumsnelh...   \n4                                Categorie B: Wagens.   \n..                                                ...   \n84  Categorie AM: Bromfietsen met een maximumsnelh...   \n85  Categorie AM: Bromfietsen met een maximumsnelh...   \n86  Categorie AM: Bromfietsen met een maximumsnelh...   \n87                               Categorie B: Wagens.   \n88                               Categorie B: Wagens.   \n\n                               domicilie in Antwerpen  ... M1 - stelen  \\\n0   buiten de stad (een dorp, een gehucht, het pla...  ...           7   \n1                                         in een stad  ...          10   \n2                                         in een stad  ...           6   \n3                                         in een stad  ...           9   \n4                                         in een stad  ...          10   \n..                                                ...  ...         ...   \n84  buiten de stad (een dorp, een gehucht, het pla...  ...          10   \n85  buiten de stad (een dorp, een gehucht, het pla...  ...           8   \n86                                        in een stad  ...          10   \n87                                        in een stad  ...           8   \n88                                        in een stad  ...          10   \n\n   M2 - team M3 - beschermen M4 - voorbeeld M5 - embryo  M6 - vrijheid  \\\n0          2               8              6           5            4.0   \n1          5              10              6           7            3.0   \n2          3               7              7          10            6.0   \n3         10              10             10          10            0.0   \n4          6              10              7           7            2.0   \n..       ...             ...            ...         ...            ...   \n84         3               8              8           2            5.0   \n85         5               7              8           4            0.0   \n86         5              10              8           9            5.0   \n87         6               6              7           6            4.0   \n88         5               4              9           3            9.0   \n\n                                             mascotte            zwaarste vak  \\\n0   1=Bever,2=Wasbeer,3=Otter,4=Wolf,5=Poema,6=Pan...            Management 1   \n1   1=Bever,2=Wolf,3=Bizon,4=Otter,5=Panter,6=Poem...            Management 1   \n2   1=Bruine beer,2=Poema,3=Panter,4=Wolf,5=Vos,6=...            Management 1   \n3   1=Wasbeer,2=Wolf,3=Bruine beer,4=Das,5=Vos,6=B...            Management 1   \n4   1=Wolf,2=Vos,3=Bruine beer,4=Bizon,5=Panter,6=...            Management 1   \n..                                                ...                     ...   \n84  1=Panter,2=Poema,3=Wolf,4=Vos,5=Bever,6=Bruine...  Software engineering 1   \n85  1=Panter,2=Poema,3=Vos,4=Wolf,5=Bruine beer,6=...          Data science 1   \n86  1=Wolf,2=Vos,3=Bruine beer,4=Bever,5=Das,6=Was...       User interfaces 1   \n87  1=Otter,2=Wasbeer,3=Vos,4=Bruine beer,5=Bever,...             Netwerken 1   \n88  1=Poema,2=Panter,3=Wolf,4=Bruine beer,5=Bizon,...          Data science 1   \n\n                boeienste vak  studiepunt  \n0              Data science 1  16-20 uren  \n1          Computersystemen 1  <= 10 uren  \n2       Programmeren 1 - Java  16-20 uren  \n3              Data science 1  <= 10 uren  \n4              Data science 1  <= 10 uren  \n..                        ...         ...  \n84          User interfaces 1  26-30 uren  \n85  Programmeren 1 - Embedded  11-15 uren  \n86             Data science 1  16-20 uren  \n87             Data science 1  16-20 uren  \n88      Programmeren 1 - Java  26-30 uren  \n\n[89 rows x 33 columns]",
      "text/html": "<div>\n<style scoped>\n    .dataframe tbody tr th:only-of-type {\n        vertical-align: middle;\n    }\n\n    .dataframe tbody tr th {\n        vertical-align: top;\n    }\n\n    .dataframe thead th {\n        text-align: right;\n    }\n</style>\n<table border=\"1\" class=\"dataframe\">\n  <thead>\n    <tr style=\"text-align: right;\">\n      <th></th>\n      <th>gapminder</th>\n      <th>schrijfhand</th>\n      <th>schoenmaat</th>\n      <th>lengte</th>\n      <th>bloedgroep</th>\n      <th>resus</th>\n      <th>siblings</th>\n      <th>Samenzweringen</th>\n      <th>rijbewijs</th>\n      <th>domicilie in Antwerpen</th>\n      <th>...</th>\n      <th>M1 - stelen</th>\n      <th>M2 - team</th>\n      <th>M3 - beschermen</th>\n      <th>M4 - voorbeeld</th>\n      <th>M5 - embryo</th>\n      <th>M6 - vrijheid</th>\n      <th>mascotte</th>\n      <th>zwaarste vak</th>\n      <th>boeienste vak</th>\n      <th>studiepunt</th>\n    </tr>\n  </thead>\n  <tbody>\n    <tr>\n      <th>0</th>\n      <td>7/18</td>\n      <td>Rechts</td>\n      <td>43.0</td>\n      <td>184</td>\n      <td>O</td>\n      <td>positief</td>\n      <td>5</td>\n      <td>De tsunami van 2004 in de Indische Oceaan was ...</td>\n      <td>Categorie B: Wagens.</td>\n      <td>buiten de stad (een dorp, een gehucht, het pla...</td>\n      <td>...</td>\n      <td>7</td>\n      <td>2</td>\n      <td>8</td>\n      <td>6</td>\n      <td>5</td>\n      <td>4.0</td>\n      <td>1=Bever,2=Wasbeer,3=Otter,4=Wolf,5=Poema,6=Pan...</td>\n      <td>Management 1</td>\n      <td>Data science 1</td>\n      <td>16-20 uren</td>\n    </tr>\n    <tr>\n      <th>1</th>\n      <td>3/18</td>\n      <td>Rechts</td>\n      <td>42.0</td>\n      <td>163</td>\n      <td>Weet ik niet</td>\n      <td>Weet ik niet</td>\n      <td>1</td>\n      <td>Prinses Diana kwam niet per ongeluk om het leven</td>\n      <td>Categorie AM: Bromfietsen met een maximumsnelh...</td>\n      <td>in een stad</td>\n      <td>...</td>\n      <td>10</td>\n      <td>5</td>\n      <td>10</td>\n      <td>6</td>\n      <td>7</td>\n      <td>3.0</td>\n      <td>1=Bever,2=Wolf,3=Bizon,4=Otter,5=Panter,6=Poem...</td>\n      <td>Management 1</td>\n      <td>Computersystemen 1</td>\n      <td>&lt;= 10 uren</td>\n    </tr>\n    <tr>\n      <th>2</th>\n      <td>12/18</td>\n      <td>Rechts</td>\n      <td>45.0</td>\n      <td>183</td>\n      <td>AB</td>\n      <td>positief</td>\n      <td>2</td>\n      <td>Prinses Diana kwam niet per ongeluk om het lev...</td>\n      <td>Categorie AM: Bromfietsen met een maximumsnelh...</td>\n      <td>in een stad</td>\n      <td>...</td>\n      <td>6</td>\n      <td>3</td>\n      <td>7</td>\n      <td>7</td>\n      <td>10</td>\n      <td>6.0</td>\n      <td>1=Bruine beer,2=Poema,3=Panter,4=Wolf,5=Vos,6=...</td>\n      <td>Management 1</td>\n      <td>Programmeren 1 - Java</td>\n      <td>16-20 uren</td>\n    </tr>\n    <tr>\n      <th>3</th>\n      <td>5/18</td>\n      <td>Rechts</td>\n      <td>44.0</td>\n      <td>175</td>\n      <td>A</td>\n      <td>positief</td>\n      <td>2</td>\n      <td>De wereld wordt eigenlijk gecontroleerd door e...</td>\n      <td>Categorie AM: Bromfietsen met een maximumsnelh...</td>\n      <td>in een stad</td>\n      <td>...</td>\n      <td>9</td>\n      <td>10</td>\n      <td>10</td>\n      <td>10</td>\n      <td>10</td>\n      <td>0.0</td>\n      <td>1=Wasbeer,2=Wolf,3=Bruine beer,4=Das,5=Vos,6=B...</td>\n      <td>Management 1</td>\n      <td>Data science 1</td>\n      <td>&lt;= 10 uren</td>\n    </tr>\n    <tr>\n      <th>4</th>\n      <td>6/18</td>\n      <td>Rechts</td>\n      <td>43.0</td>\n      <td>173</td>\n      <td>B</td>\n      <td>positief</td>\n      <td>3</td>\n      <td>De wereld wordt eigenlijk gecontroleerd door e...</td>\n      <td>Categorie B: Wagens.</td>\n      <td>in een stad</td>\n      <td>...</td>\n      <td>10</td>\n      <td>6</td>\n      <td>10</td>\n      <td>7</td>\n      <td>7</td>\n      <td>2.0</td>\n      <td>1=Wolf,2=Vos,3=Bruine beer,4=Bizon,5=Panter,6=...</td>\n      <td>Management 1</td>\n      <td>Data science 1</td>\n      <td>&lt;= 10 uren</td>\n    </tr>\n    <tr>\n      <th>...</th>\n      <td>...</td>\n      <td>...</td>\n      <td>...</td>\n      <td>...</td>\n      <td>...</td>\n      <td>...</td>\n      <td>...</td>\n      <td>...</td>\n      <td>...</td>\n      <td>...</td>\n      <td>...</td>\n      <td>...</td>\n      <td>...</td>\n      <td>...</td>\n      <td>...</td>\n      <td>...</td>\n      <td>...</td>\n      <td>...</td>\n      <td>...</td>\n      <td>...</td>\n      <td>...</td>\n    </tr>\n    <tr>\n      <th>84</th>\n      <td>7/18</td>\n      <td>Rechts</td>\n      <td>45.0</td>\n      <td>185</td>\n      <td>O</td>\n      <td>negatief</td>\n      <td>0</td>\n      <td>De maanlanding is in scne gezet om de Russen ...</td>\n      <td>Categorie AM: Bromfietsen met een maximumsnelh...</td>\n      <td>buiten de stad (een dorp, een gehucht, het pla...</td>\n      <td>...</td>\n      <td>10</td>\n      <td>3</td>\n      <td>8</td>\n      <td>8</td>\n      <td>2</td>\n      <td>5.0</td>\n      <td>1=Panter,2=Poema,3=Wolf,4=Vos,5=Bever,6=Bruine...</td>\n      <td>Software engineering 1</td>\n      <td>User interfaces 1</td>\n      <td>26-30 uren</td>\n    </tr>\n    <tr>\n      <th>85</th>\n      <td>9/18</td>\n      <td>Rechts</td>\n      <td>43.0</td>\n      <td>184</td>\n      <td>O</td>\n      <td>Weet ik niet</td>\n      <td>2</td>\n      <td>De aanslagen van 9/11 in NY werden niet door t...</td>\n      <td>Categorie AM: Bromfietsen met een maximumsnelh...</td>\n      <td>buiten de stad (een dorp, een gehucht, het pla...</td>\n      <td>...</td>\n      <td>8</td>\n      <td>5</td>\n      <td>7</td>\n      <td>8</td>\n      <td>4</td>\n      <td>0.0</td>\n      <td>1=Panter,2=Poema,3=Vos,4=Wolf,5=Bruine beer,6=...</td>\n      <td>Data science 1</td>\n      <td>Programmeren 1 - Embedded</td>\n      <td>11-15 uren</td>\n    </tr>\n    <tr>\n      <th>86</th>\n      <td>4/18</td>\n      <td>Links</td>\n      <td>45.5</td>\n      <td>190</td>\n      <td>Weet ik niet</td>\n      <td>Weet ik niet</td>\n      <td>0</td>\n      <td>Prinses Diana kwam niet per ongeluk om het lev...</td>\n      <td>Categorie AM: Bromfietsen met een maximumsnelh...</td>\n      <td>in een stad</td>\n      <td>...</td>\n      <td>10</td>\n      <td>5</td>\n      <td>10</td>\n      <td>8</td>\n      <td>9</td>\n      <td>5.0</td>\n      <td>1=Wolf,2=Vos,3=Bruine beer,4=Bever,5=Das,6=Was...</td>\n      <td>User interfaces 1</td>\n      <td>Data science 1</td>\n      <td>16-20 uren</td>\n    </tr>\n    <tr>\n      <th>87</th>\n      <td>8/18</td>\n      <td>Rechts</td>\n      <td>45.0</td>\n      <td>188</td>\n      <td>A</td>\n      <td>positief</td>\n      <td>1</td>\n      <td>NaN</td>\n      <td>Categorie B: Wagens.</td>\n      <td>in een stad</td>\n      <td>...</td>\n      <td>8</td>\n      <td>6</td>\n      <td>6</td>\n      <td>7</td>\n      <td>6</td>\n      <td>4.0</td>\n      <td>1=Otter,2=Wasbeer,3=Vos,4=Bruine beer,5=Bever,...</td>\n      <td>Netwerken 1</td>\n      <td>Data science 1</td>\n      <td>16-20 uren</td>\n    </tr>\n    <tr>\n      <th>88</th>\n      <td>7/18</td>\n      <td>Rechts</td>\n      <td>43.0</td>\n      <td>176</td>\n      <td>B</td>\n      <td>positief</td>\n      <td>2</td>\n      <td>NaN</td>\n      <td>Categorie B: Wagens.</td>\n      <td>in een stad</td>\n      <td>...</td>\n      <td>10</td>\n      <td>5</td>\n      <td>4</td>\n      <td>9</td>\n      <td>3</td>\n      <td>9.0</td>\n      <td>1=Poema,2=Panter,3=Wolf,4=Bruine beer,5=Bizon,...</td>\n      <td>Data science 1</td>\n      <td>Programmeren 1 - Java</td>\n      <td>26-30 uren</td>\n    </tr>\n  </tbody>\n</table>\n<p>89 rows × 33 columns</p>\n</div>"
     },
     "execution_count": 11,
     "metadata": {},
     "output_type": "execute_result"
    }
   ],
   "source": [
    "studenq"
   ],
   "metadata": {
    "collapsed": false,
    "ExecuteTime": {
     "end_time": "2024-02-17T10:38:18.574324900Z",
     "start_time": "2024-02-17T10:38:18.524277200Z"
    }
   },
   "id": "ff3d83a92941fc6f",
   "execution_count": 11
  },
  {
   "cell_type": "code",
   "outputs": [
    {
     "name": "stdout",
     "output_type": "stream",
     "text": [
      "<class 'pandas.core.frame.DataFrame'>\n",
      "RangeIndex: 89 entries, 0 to 88\n",
      "Data columns (total 33 columns):\n",
      " #   Column                  Non-Null Count  Dtype  \n",
      "---  ------                  --------------  -----  \n",
      " 0   gapminder               89 non-null     object \n",
      " 1   schrijfhand             89 non-null     object \n",
      " 2   schoenmaat              89 non-null     float64\n",
      " 3   lengte                  89 non-null     int64  \n",
      " 4   bloedgroep              89 non-null     object \n",
      " 5   resus                   89 non-null     object \n",
      " 6   siblings                89 non-null     int64  \n",
      " 7   Samenzweringen          82 non-null     object \n",
      " 8   rijbewijs               89 non-null     object \n",
      " 9   domicilie in Antwerpen  89 non-null     object \n",
      " 10  afstudeerrichting       89 non-null     object \n",
      " 11  vrijetijdsbesteding     89 non-null     object \n",
      " 12  uren wiskunde           89 non-null     object \n",
      " 13  informatica belangrijk  89 non-null     object \n",
      " 14  uren buiten schooluren  89 non-null     object \n",
      " 15  afstand tot KdG         89 non-null     float64\n",
      " 16  vervoersmiddel          89 non-null     object \n",
      " 17  klimaatopwarming        89 non-null     object \n",
      " 18  zakgeld                 89 non-null     object \n",
      " 19  stukken fruit           89 non-null     int64  \n",
      " 20  fruitvoorkeur           89 non-null     object \n",
      " 21  besturingssysteem       89 non-null     object \n",
      " 22  belangrijkste app       89 non-null     object \n",
      " 23  M1 - stelen             89 non-null     int64  \n",
      " 24  M2 - team               89 non-null     int64  \n",
      " 25  M3 - beschermen         89 non-null     int64  \n",
      " 26  M4 - voorbeeld          89 non-null     int64  \n",
      " 27  M5 - embryo             89 non-null     int64  \n",
      " 28  M6 - vrijheid           88 non-null     float64\n",
      " 29  mascotte                89 non-null     object \n",
      " 30  zwaarste vak            89 non-null     object \n",
      " 31  boeienste vak           89 non-null     object \n",
      " 32  studiepunt              89 non-null     object \n",
      "dtypes: float64(3), int64(8), object(22)\n",
      "memory usage: 23.1+ KB\n"
     ]
    }
   ],
   "source": [
    "studenq.info()"
   ],
   "metadata": {
    "collapsed": false,
    "ExecuteTime": {
     "end_time": "2024-02-17T10:38:18.578331100Z",
     "start_time": "2024-02-17T10:38:18.539393100Z"
    }
   },
   "id": "454760587d574802",
   "execution_count": 12
  },
  {
   "cell_type": "code",
   "outputs": [
    {
     "data": {
      "text/plain": "       schoenmaat      lengte   siblings  afstand tot KdG  stukken fruit  \\\ncount   89.000000   89.000000  89.000000        89.000000      89.000000   \nmean    43.067416  179.337079   1.629213        14.665169       1.157303   \nstd      1.904228    7.715015   1.343182        11.701701       0.964116   \nmin     37.000000  160.000000   0.000000         0.700000       0.000000   \n25%     42.000000  175.000000   1.000000         6.000000       1.000000   \n50%     43.000000  180.000000   1.000000        10.000000       1.000000   \n75%     45.000000  185.000000   2.000000        21.100000       1.000000   \nmax     46.000000  194.000000   5.000000        48.000000       5.000000   \n\n       M1 - stelen  M2 - team  M3 - beschermen  M4 - voorbeeld  M5 - embryo  \\\ncount    89.000000  89.000000        89.000000       89.000000    89.000000   \nmean      6.696629   3.910112         6.719101        5.651685     5.876404   \nstd       2.595470   2.433854         2.354825        2.221287     2.344337   \nmin       0.000000   0.000000         2.000000        0.000000     0.000000   \n25%       5.000000   2.000000         5.000000        4.000000     5.000000   \n50%       7.000000   3.000000         7.000000        6.000000     6.000000   \n75%       9.000000   5.000000         9.000000        7.000000     7.000000   \nmax      10.000000  10.000000        10.000000       10.000000    10.000000   \n\n       M6 - vrijheid  \ncount      88.000000  \nmean        5.318182  \nstd         2.351549  \nmin         0.000000  \n25%         4.000000  \n50%         5.000000  \n75%         7.000000  \nmax        10.000000  ",
      "text/html": "<div>\n<style scoped>\n    .dataframe tbody tr th:only-of-type {\n        vertical-align: middle;\n    }\n\n    .dataframe tbody tr th {\n        vertical-align: top;\n    }\n\n    .dataframe thead th {\n        text-align: right;\n    }\n</style>\n<table border=\"1\" class=\"dataframe\">\n  <thead>\n    <tr style=\"text-align: right;\">\n      <th></th>\n      <th>schoenmaat</th>\n      <th>lengte</th>\n      <th>siblings</th>\n      <th>afstand tot KdG</th>\n      <th>stukken fruit</th>\n      <th>M1 - stelen</th>\n      <th>M2 - team</th>\n      <th>M3 - beschermen</th>\n      <th>M4 - voorbeeld</th>\n      <th>M5 - embryo</th>\n      <th>M6 - vrijheid</th>\n    </tr>\n  </thead>\n  <tbody>\n    <tr>\n      <th>count</th>\n      <td>89.000000</td>\n      <td>89.000000</td>\n      <td>89.000000</td>\n      <td>89.000000</td>\n      <td>89.000000</td>\n      <td>89.000000</td>\n      <td>89.000000</td>\n      <td>89.000000</td>\n      <td>89.000000</td>\n      <td>89.000000</td>\n      <td>88.000000</td>\n    </tr>\n    <tr>\n      <th>mean</th>\n      <td>43.067416</td>\n      <td>179.337079</td>\n      <td>1.629213</td>\n      <td>14.665169</td>\n      <td>1.157303</td>\n      <td>6.696629</td>\n      <td>3.910112</td>\n      <td>6.719101</td>\n      <td>5.651685</td>\n      <td>5.876404</td>\n      <td>5.318182</td>\n    </tr>\n    <tr>\n      <th>std</th>\n      <td>1.904228</td>\n      <td>7.715015</td>\n      <td>1.343182</td>\n      <td>11.701701</td>\n      <td>0.964116</td>\n      <td>2.595470</td>\n      <td>2.433854</td>\n      <td>2.354825</td>\n      <td>2.221287</td>\n      <td>2.344337</td>\n      <td>2.351549</td>\n    </tr>\n    <tr>\n      <th>min</th>\n      <td>37.000000</td>\n      <td>160.000000</td>\n      <td>0.000000</td>\n      <td>0.700000</td>\n      <td>0.000000</td>\n      <td>0.000000</td>\n      <td>0.000000</td>\n      <td>2.000000</td>\n      <td>0.000000</td>\n      <td>0.000000</td>\n      <td>0.000000</td>\n    </tr>\n    <tr>\n      <th>25%</th>\n      <td>42.000000</td>\n      <td>175.000000</td>\n      <td>1.000000</td>\n      <td>6.000000</td>\n      <td>1.000000</td>\n      <td>5.000000</td>\n      <td>2.000000</td>\n      <td>5.000000</td>\n      <td>4.000000</td>\n      <td>5.000000</td>\n      <td>4.000000</td>\n    </tr>\n    <tr>\n      <th>50%</th>\n      <td>43.000000</td>\n      <td>180.000000</td>\n      <td>1.000000</td>\n      <td>10.000000</td>\n      <td>1.000000</td>\n      <td>7.000000</td>\n      <td>3.000000</td>\n      <td>7.000000</td>\n      <td>6.000000</td>\n      <td>6.000000</td>\n      <td>5.000000</td>\n    </tr>\n    <tr>\n      <th>75%</th>\n      <td>45.000000</td>\n      <td>185.000000</td>\n      <td>2.000000</td>\n      <td>21.100000</td>\n      <td>1.000000</td>\n      <td>9.000000</td>\n      <td>5.000000</td>\n      <td>9.000000</td>\n      <td>7.000000</td>\n      <td>7.000000</td>\n      <td>7.000000</td>\n    </tr>\n    <tr>\n      <th>max</th>\n      <td>46.000000</td>\n      <td>194.000000</td>\n      <td>5.000000</td>\n      <td>48.000000</td>\n      <td>5.000000</td>\n      <td>10.000000</td>\n      <td>10.000000</td>\n      <td>10.000000</td>\n      <td>10.000000</td>\n      <td>10.000000</td>\n      <td>10.000000</td>\n    </tr>\n  </tbody>\n</table>\n</div>"
     },
     "execution_count": 13,
     "metadata": {},
     "output_type": "execute_result"
    }
   ],
   "source": [
    "studenq.describe()"
   ],
   "metadata": {
    "collapsed": false,
    "ExecuteTime": {
     "end_time": "2024-02-17T10:38:18.681304800Z",
     "start_time": "2024-02-17T10:38:18.571785600Z"
    }
   },
   "id": "5e61cb3cb6fe7e97",
   "execution_count": 13
  },
  {
   "cell_type": "markdown",
   "source": [
    "### Exercise 1:\n",
    "\n",
    "https://pandas.pydata.org/docs/getting_started/intro_tutorials/03_subset_data.html"
   ],
   "metadata": {
    "collapsed": false
   },
   "id": "439b67b46397307e"
  },
  {
   "cell_type": "code",
   "outputs": [
    {
     "name": "stdout",
     "output_type": "stream",
     "text": [
      "['3' '4' '7' '6' '5' '2 of minder' '8']\n"
     ]
    }
   ],
   "source": [
    "data = studenq[\"uren wiskunde\"].unique()\n",
    "print(data)"
   ],
   "metadata": {
    "collapsed": false,
    "ExecuteTime": {
     "end_time": "2024-02-17T10:38:18.684327400Z",
     "start_time": "2024-02-17T10:38:18.619887400Z"
    }
   },
   "id": "226a017cd1abc68e",
   "execution_count": 14
  },
  {
   "cell_type": "code",
   "outputs": [
    {
     "name": "stdout",
     "output_type": "stream",
     "text": [
      "89\n"
     ]
    }
   ],
   "source": [
    "aantal_studenten = studenq.shape[0] # OR len(studenq)\n",
    "print(aantal_studenten)"
   ],
   "metadata": {
    "collapsed": false,
    "ExecuteTime": {
     "end_time": "2024-02-17T10:38:18.758270700Z",
     "start_time": "2024-02-17T10:38:18.634809700Z"
    }
   },
   "id": "ee4e007cac192f56",
   "execution_count": 15
  },
  {
   "cell_type": "markdown",
   "source": [
    "Kans 2 uur of minder wiskunde"
   ],
   "metadata": {
    "collapsed": false
   },
   "id": "85d35c6167156688"
  },
  {
   "cell_type": "code",
   "outputs": [
    {
     "name": "stdout",
     "output_type": "stream",
     "text": [
      "0.0898876404494382\n"
     ]
    }
   ],
   "source": [
    "# (\"2 of minder\" in tabel \"uren wiskunde\" gelijk is totaal) / totaal studen\n",
    "data = len(studenq[studenq[\"uren wiskunde\"] == \"2 of minder\" ]) / len(studenq)\n",
    "print(data)"
   ],
   "metadata": {
    "collapsed": false,
    "ExecuteTime": {
     "end_time": "2024-02-17T10:38:18.783322400Z",
     "start_time": "2024-02-17T10:38:18.651963400Z"
    }
   },
   "id": "e441fe6eec9dabf5",
   "execution_count": 16
  },
  {
   "cell_type": "markdown",
   "source": [
    "Kans 3 uur of meer wiskunde"
   ],
   "metadata": {
    "collapsed": false
   },
   "id": "f9fd7eaa720a40e1"
  },
  {
   "cell_type": "code",
   "outputs": [
    {
     "name": "stdout",
     "output_type": "stream",
     "text": [
      "0.9101123595505618\n"
     ]
    }
   ],
   "source": [
    "# (\"2 of minder\" in tabel \"uren wiskunde\" gelijk is totaal / totaal studen) - 1\n",
    "data = 1 - len(studenq[studenq[\"uren wiskunde\"] == \"2 of minder\" ]) / len(studenq)\n",
    "print(data)"
   ],
   "metadata": {
    "collapsed": false,
    "ExecuteTime": {
     "end_time": "2024-02-17T10:38:18.823709900Z",
     "start_time": "2024-02-17T10:38:18.666175400Z"
    }
   },
   "id": "53d9abe497c85e2f",
   "execution_count": 17
  },
  {
   "cell_type": "markdown",
   "source": [
    "### Exercise 2:\n",
    "\n",
    "Kans schrijfhand rechts of meer dan 3 stukken fruit eet"
   ],
   "metadata": {
    "collapsed": false
   },
   "id": "e8f1254695876091"
  },
  {
   "cell_type": "code",
   "outputs": [
    {
     "data": {
      "text/plain": "array(['Rechts', 'Links'], dtype=object)"
     },
     "execution_count": 18,
     "metadata": {},
     "output_type": "execute_result"
    }
   ],
   "source": [
    "studenq.schrijfhand.unique()\n",
    "# vul hier verder aan"
   ],
   "metadata": {
    "collapsed": false,
    "ExecuteTime": {
     "end_time": "2024-02-17T10:38:18.826710Z",
     "start_time": "2024-02-17T10:38:18.682324900Z"
    }
   },
   "id": "c0d4588203e46fa1",
   "execution_count": 18
  },
  {
   "cell_type": "markdown",
   "source": [
    "### Exercise 3:\n",
    "\n",
    "Kans rechtshandige student minder dan 2 stukken fruit?    \n",
    "P(<2 | R) = P(<2 en R) / P(R)"
   ],
   "metadata": {
    "collapsed": false
   },
   "id": "4763d5f4fbadd085"
  },
  {
   "cell_type": "code",
   "outputs": [],
   "source": [
    "#kans_rechts = ..."
   ],
   "metadata": {
    "collapsed": false,
    "ExecuteTime": {
     "end_time": "2024-02-17T10:38:18.849068100Z",
     "start_time": "2024-02-17T10:38:18.696600300Z"
    }
   },
   "id": "fd24d394f0de7c7f",
   "execution_count": 19
  },
  {
   "cell_type": "code",
   "outputs": [],
   "source": [
    "#kans_rechts_minder2 = ..."
   ],
   "metadata": {
    "collapsed": false,
    "ExecuteTime": {
     "end_time": "2024-02-17T10:38:18.850865700Z",
     "start_time": "2024-02-17T10:38:18.713000600Z"
    }
   },
   "id": "25721ddfd7f4f69d",
   "execution_count": 20
  },
  {
   "cell_type": "code",
   "outputs": [],
   "source": [
    "#kans_rechts_minder2 / kans_rechts"
   ],
   "metadata": {
    "collapsed": false,
    "ExecuteTime": {
     "end_time": "2024-02-17T10:38:18.995403700Z",
     "start_time": "2024-02-17T10:38:18.765801200Z"
    }
   },
   "id": "2b6f2cdb5583c35f",
   "execution_count": 21
  },
  {
   "cell_type": "markdown",
   "source": [
    "### Exercise 4:\n",
    "\n",
    "\"geloven in 1 of meer samenzweringen\" en \"schrijfhand rechts\" onafhankelijk?     \n",
    "P(S) * P(R) =? P(S en R)"
   ],
   "metadata": {
    "collapsed": false
   },
   "id": "f56a43dca7238bc9"
  },
  {
   "cell_type": "code",
   "outputs": [],
   "source": [
    "#kans_sz = ..."
   ],
   "metadata": {
    "collapsed": false,
    "ExecuteTime": {
     "end_time": "2024-02-17T10:38:19.123511200Z",
     "start_time": "2024-02-17T10:38:18.997539600Z"
    }
   },
   "id": "282a394630bd51df",
   "execution_count": 22
  },
  {
   "cell_type": "code",
   "outputs": [],
   "source": [
    "#kans_rechts = ..."
   ],
   "metadata": {
    "collapsed": false,
    "ExecuteTime": {
     "end_time": "2024-02-17T10:38:19.195496500Z",
     "start_time": "2024-02-17T10:38:19.125812Z"
    }
   },
   "id": "524599ff5a2aacd4",
   "execution_count": 23
  },
  {
   "cell_type": "code",
   "outputs": [],
   "source": [
    "#kans_rechts_sz = ..."
   ],
   "metadata": {
    "collapsed": false,
    "ExecuteTime": {
     "end_time": "2024-02-17T10:38:19.219580Z",
     "start_time": "2024-02-17T10:38:19.172083600Z"
    }
   },
   "id": "f02756d42538a129",
   "execution_count": 24
  },
  {
   "cell_type": "code",
   "outputs": [],
   "source": [
    "#kans_rechts_sz == kans_rechts * kans_sz"
   ],
   "metadata": {
    "collapsed": false,
    "ExecuteTime": {
     "end_time": "2024-02-17T10:38:19.246845800Z",
     "start_time": "2024-02-17T10:38:19.223091600Z"
    }
   },
   "id": "a02d173ba1de29af",
   "execution_count": 25
  }
 ],
 "metadata": {
  "kernelspec": {
   "display_name": "Python 3",
   "language": "python",
   "name": "python3"
  },
  "language_info": {
   "codemirror_mode": {
    "name": "ipython",
    "version": 2
   },
   "file_extension": ".py",
   "mimetype": "text/x-python",
   "name": "python",
   "nbconvert_exporter": "python",
   "pygments_lexer": "ipython2",
   "version": "2.7.6"
  }
 },
 "nbformat": 4,
 "nbformat_minor": 5
}

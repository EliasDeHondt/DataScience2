{
 "cells": [
  {
   "cell_type": "markdown",
   "source": [
    "# Exercises chance calculations"
   ],
   "metadata": {
    "collapsed": false
   },
   "id": "fc11ae5046d6cd48"
  },
  {
   "cell_type": "markdown",
   "source": [
    "## Theoretical questions"
   ],
   "metadata": {
    "collapsed": false
   },
   "id": "d66cd879508e8eb4"
  },
  {
   "cell_type": "markdown",
   "source": [
    "### Question 1:\n",
    "You roll `2 dice`.\n",
    "What is the probability that you roll a `5` and a `2`? (3 significant figures)"
   ],
   "metadata": {
    "collapsed": false
   },
   "id": "8dcce8d70aac0bac"
  },
  {
   "cell_type": "code",
   "outputs": [],
   "source": [
    "# Technique used:\n",
    "# Laplace\n",
    "\n",
    "# Formula used:\n",
    "# P((2 AND 5) OR (5 AND 2))\n",
    "\n",
    "# Calculation:\n",
    "# (1/6 * 1/6) + (1/6 * 1/6) = 2/36 = 0,0556 (5,56%)"
   ],
   "metadata": {
    "collapsed": false,
    "ExecuteTime": {
     "end_time": "2024-02-17T17:37:00.868779400Z",
     "start_time": "2024-02-17T17:37:00.628451200Z"
    }
   },
   "id": "f61d5f3c36d4ed95",
   "execution_count": 236
  },
  {
   "cell_type": "markdown",
   "source": [
    "### Question 2:\n",
    "We have `2 dice`.\n",
    "-   1st: `3 yellow` areas and `3 red` areas.\n",
    "-   2nd: `5 yellow` areas and `1 red` area.\n",
    "\n",
    "What is the probability of having both a `yellow` and a `red` square?"
   ],
   "metadata": {
    "collapsed": false
   },
   "id": "ac6e6a8db97c7653"
  },
  {
   "cell_type": "code",
   "outputs": [],
   "source": [
    "# Technique used:\n",
    "# Laplace\n",
    "\n",
    "# Formula used:\n",
    "# P((Yellow AND Red) OR (Red AND Yellow))\n",
    "\n",
    "# Calculation:\n",
    "# (3/6 * 1/6) + (3/6 * 5/6) = 18/36 = 0,5 (50,00%)"
   ],
   "metadata": {
    "collapsed": false,
    "ExecuteTime": {
     "end_time": "2024-02-17T17:37:00.957244100Z",
     "start_time": "2024-02-17T17:37:00.908484300Z"
    }
   },
   "id": "ce4e897992fd055a",
   "execution_count": 237
  },
  {
   "cell_type": "markdown",
   "source": [
    "### Question 3:\n",
    "A box contains `4 yellow`, `2 brown`, `1 orange`, `1 green` and `2 purple` marbles. We always draw without replacing. (2 significant figures each)\n",
    "- If we draw `4 marbles`, what is the probability that all marbles are `yellow`?\n",
    "- If we draw `2 marbles`, what is the probability of getting a `brown` and a `green` marble?\n",
    "- When we draw `1 marble`, what is the chance of getting an `orange` or a `green` marble?"
   ],
   "metadata": {
    "collapsed": false
   },
   "id": "52f18b95661cc892"
  },
  {
   "cell_type": "code",
   "outputs": [],
   "source": [
    "# Technique used:\n",
    "# Multiplication rule & Sum rule & Addition rule\n",
    "\n",
    "# Formula used:\n",
    "# 1. P(Yellow AND Yellow AND Yellow AND Yellow)\n",
    "# 2. P((Brown AND Green) OR (Green AND Brown))\n",
    "# 3. P(Orange OR Green)\n",
    "\n",
    "# Calculation:\n",
    "# Total marbles = 10\n",
    "# 1. (4/10 * 3/9 * 2/8 * 1/7) = 24/5040 = 0,0048 (0,48%)\n",
    "# 2. (2/10 * 1/9) + (1/10 * 2/9) = 4/90 = 0,044 (4,40%)\n",
    "# 3. (1/10 + 1/10) = 1/5 = 0,2 (20,00%)"
   ],
   "metadata": {
    "collapsed": false,
    "ExecuteTime": {
     "end_time": "2024-02-17T17:37:00.973224800Z",
     "start_time": "2024-02-17T17:37:00.926471900Z"
    }
   },
   "id": "42e449944e3abeaf",
   "execution_count": 238
  },
  {
   "cell_type": "markdown",
   "source": [
    "### Question 4:\n",
    "For a group of `144 students`, `90` passed the \"OO Concepts\" exam and `60` for \"JavaFX\".\n",
    "Of the `90` who passed on \"OO concepts\", `30` also passed on \"JavaFX\".\n",
    "What is the probability that if we randomly select a student, they will have passed at least 1 of the 2 exams? (4 significant digits)"
   ],
   "metadata": {
    "collapsed": false
   },
   "id": "82996318cf7a7ab5"
  },
  {
   "cell_type": "code",
   "outputs": [],
   "source": [
    "# Technique used:\n",
    "# The Sum Rule\n",
    "\n",
    "# Formula used:\n",
    "# P(OO Concepts OR JavaFX)\n",
    "\n",
    "# Calculation:\n",
    "# (90/144) + (60/144) - (30/144) = 0,8333 (83,33%)"
   ],
   "metadata": {
    "collapsed": false,
    "ExecuteTime": {
     "end_time": "2024-02-17T17:37:01.002865400Z",
     "start_time": "2024-02-17T17:37:00.964371300Z"
    }
   },
   "id": "d45ccf151811f954",
   "execution_count": 239
  },
  {
   "cell_type": "markdown",
   "source": [
    "### Question 5:\n",
    "(C) In a group of `1000 students`, `400` regularly play computer games.\n",
    "(B) `200` regularly play board games.\n",
    "(C and B) There are `100` who regularly play computer games and board games.\n",
    "\n",
    "If you choose a random student, what are the chances that they regularly play games (computer or board)?"
   ],
   "metadata": {
    "collapsed": false
   },
   "id": "620d7b7bdcad6009"
  },
  {
   "cell_type": "code",
   "outputs": [],
   "source": [
    "# Technique used:\n",
    "# The Sum Rule\n",
    "\n",
    "# Formula used:\n",
    "# P(Computer or Board)\n",
    "\n",
    "# Calculation:\n",
    "# (400/1000) + (200/1000) - 100/1000 = 0,50 (50,00%)"
   ],
   "metadata": {
    "collapsed": false,
    "ExecuteTime": {
     "end_time": "2024-02-17T17:37:01.034164100Z",
     "start_time": "2024-02-17T17:37:01.006872100Z"
    }
   },
   "id": "578c8e73692e80b7",
   "execution_count": 240
  },
  {
   "cell_type": "markdown",
   "source": [
    "### Question 6:\n",
    "`70%` of students pass a \"Data Science 1\" exam. Of these, `50%` are day students and `50%` blended students. Of the participants, `60%` are day students and `40%` blended students. `1` random student is selected from the group each time. (2 significant figures each)\n",
    "\n",
    "- What is the chance of a successful student?\n",
    "- What is the probability of a day student, given that he or she is a successful student?\n",
    "- What are the chances of a successful day student?\n",
    "- What is the chance of a successful student, given that he or she is a day student?\n",
    "- What is the chance of a student failing, given that he or she is a day student?\n",
    "- What are the chances of a day student failing?"
   ],
   "metadata": {
    "collapsed": false
   },
   "id": "6070de44bfdfd33"
  },
  {
   "cell_type": "code",
   "outputs": [],
   "source": [
    "# Technique used:\n",
    "# The Product Rule & Opposite / Complementary event\n",
    "\n",
    "# Formula used:\n",
    "# 1. P(Passed)\n",
    "# 2. P(DayStudent | Passed)\n",
    "# 3. P(Passed AND DayStudent) = (P(Passed) * P(DayStudent | Passed))\n",
    "# 4. P(Passed | DayStudent) = (P(DayStudent | Passed) * P(Passed) / P(DayStudent))\n",
    "# 5. P(Failed | DayStudent) = 1 - P(Passed | DayStudent)\n",
    "# 6. P(DayStudent AND Failed) = (P(DayStudent) * P(Failed | DayStudent))\n",
    "\n",
    "# Calculation:\n",
    "# 1. (70/100) = 0,70 (70%)\n",
    "# 2. 0,50 = 50%\n",
    "# 3. 0,70 * 0,50 = 0,35 (35,00%)\n",
    "# 4. 0,50 * 0,70 / 0,60 = 0,58 (58,00%)\n",
    "# 5. 1 - 0,58 = 0,42 (42,00%)\n",
    "# 6. 0,60 * 0,42 = 0,25 (25,00%)"
   ],
   "metadata": {
    "collapsed": false,
    "ExecuteTime": {
     "end_time": "2024-02-17T17:37:01.054424700Z",
     "start_time": "2024-02-17T17:37:01.029004900Z"
    }
   },
   "id": "d18f832b04f4acf8",
   "execution_count": 241
  },
  {
   "cell_type": "markdown",
   "source": [
    "### Question 7:\n",
    "`3 men` go to a party and wear exactly the same jackets. They hang their coats on the coat rack and then get very drunk.\n",
    "At the end, each man takes a coat without looking at which one. What are the chances that everyone will take their own coat?"
   ],
   "metadata": {
    "collapsed": false
   },
   "id": "cc61bae3d109394c"
  },
  {
   "cell_type": "code",
   "outputs": [],
   "source": [
    "# Technique used:\n",
    "# Laplace\n",
    "\n",
    "# Formula used:\n",
    "# P(Jacket1 AND Jacket2 AND Jacket3)\n",
    "\n",
    "# Calculation:\n",
    "# 1/3 * 1/2 * 1/1 = 1/6 = 0,1667 (16,67%)"
   ],
   "metadata": {
    "collapsed": false,
    "ExecuteTime": {
     "end_time": "2024-02-17T17:37:01.071905Z",
     "start_time": "2024-02-17T17:37:01.058934200Z"
    }
   },
   "id": "44bfac8b48ddafd0",
   "execution_count": 242
  },
  {
   "cell_type": "markdown",
   "source": [
    "### Question 8:\n",
    "If it rains heavily, there is a `50%` chance that my basement will flood. It rains heavily on average `35 days per year` and my basement floods `20 days per year` (even sometimes when it is not raining hard).\n",
    "If my basement is flooded, what are the chances that it is because it is raining heavily?"
   ],
   "metadata": {
    "collapsed": false
   },
   "id": "38274c4c7bf85d7a"
  },
  {
   "cell_type": "code",
   "outputs": [],
   "source": [
    "# Technique used:\n",
    "# The Product Rule\n",
    "\n",
    "# Formula used:\n",
    "# P(Raining | Basement) = P(Basement | Raining) AND P(Raining) / P(Basement)\n",
    "\n",
    "# Calculation:\n",
    "# 0,5 * 35/365 / 20/365 = 0,875 (87,50%)"
   ],
   "metadata": {
    "collapsed": false,
    "ExecuteTime": {
     "end_time": "2024-02-17T17:37:01.116735100Z",
     "start_time": "2024-02-17T17:37:01.075035100Z"
    }
   },
   "id": "a1a696d807d4c60a",
   "execution_count": 243
  },
  {
   "cell_type": "markdown",
   "source": [
    "### Question 9:\n",
    "`90%` of PCs use Windows. If a PC crashes, you are `99.9%` sure it is running Windows. The chance that a PC will crash (regardless of the operating system) is `0.01`.\n",
    "\n",
    "What are the chances of a PC crashing if you know it is running Windows?"
   ],
   "metadata": {
    "collapsed": false
   },
   "id": "ee5c4b5a82eb1955"
  },
  {
   "cell_type": "code",
   "outputs": [],
   "source": [
    "# Technique used:\n",
    "# Bayes' law\n",
    "\n",
    "# Formula used:\n",
    "# P(Crash | Win) * P(Crash) / P(Win)\n",
    "\n",
    "# Calculation:\n",
    "# P(Win) = 0,90\n",
    "# P(Crash | Win) = 0,999\n",
    "# P(Crash) = 0,01\n",
    "# P(Crash | Win) = ?\n",
    "\n",
    "# P(0,999) * P(0,01) / P(0,90)\n",
    "# 0,999 * 0,01 / 0,90 = 0,0111 (1,11%)"
   ],
   "metadata": {
    "collapsed": false,
    "ExecuteTime": {
     "end_time": "2024-02-17T17:37:01.120969Z",
     "start_time": "2024-02-17T17:37:01.091290300Z"
    }
   },
   "id": "cff83f626304373",
   "execution_count": 244
  },
  {
   "cell_type": "markdown",
   "source": [
    "### Question 10:\n",
    "In 1988 there was discussion about introducing mandatory AIDS testing. A very reliable test has been developed that achieves the following results:\n",
    "- `P(positive | infected) = 0.999`\n",
    "- `P(negative | not infected) = 0.99`\n",
    "\n",
    "It is estimated that `0.60%` of people are carriers of the virus.\n",
    "What are the chances that someone is actually infected if you know the test is positive? Do you see why the mandatory test was not introduced?"
   ],
   "metadata": {
    "collapsed": false
   },
   "id": "d6410f46d520b3c4"
  },
  {
   "cell_type": "code",
   "outputs": [],
   "source": [
    "# Technique used:\n",
    "# Bayes' law\n",
    "\n",
    "# Formula used:\n",
    "# P(positive) = p(infected) AND P(positive | infected) OR P(not infected) AND P(positive | not infected)\n",
    "# P(positive | infected) AND P(infected) / P(positive)\n",
    "\n",
    "# Calculation:\n",
    "# P(positive | infected) = 0,999\n",
    "# P(negative | not infected) = 0,99\n",
    "# P(infected) = 0,006\n",
    "\n",
    "\n",
    "# P(positive) = ?\n",
    "# P(positive) = 0,006 * 0,999 + 0,994 * 0,01 = 0,006 + 0,00994 = 0,01594 (1,594%)\n",
    "\n",
    "# P(infected | positive) = ?\n",
    "# 0,999 * 0,006 / 0,01594 = 0,3741 (37,41%)"
   ],
   "metadata": {
    "collapsed": false,
    "ExecuteTime": {
     "end_time": "2024-02-17T17:37:01.150188700Z",
     "start_time": "2024-02-17T17:37:01.124009200Z"
    }
   },
   "id": "a568b487cdf6735b",
   "execution_count": 245
  },
  {
   "cell_type": "markdown",
   "source": [
    "### Question 11:\n",
    "A program was written that determines when a text is interesting for a reader.\n",
    "The program has already been trained and the following values were noted:\n",
    "`1642 texts` were analyzed by hand. `46` of the texts were identified as interesting. A map was made of words and the number of times they occurred as well as the number of times they occurred in interesting texts.\n",
    "We now get the following text:\n",
    "    \n",
    "`\"This is a text to see if it will be judged as interesting.\"`\n",
    "\n",
    "The folder contains the following values for these words:\n",
    "\n",
    "    | Word        | Frequency  | Freq in interesting texts    |\n",
    "    |-------------|------------|------------------------------|\n",
    "    | dit         | 1368       | 40                           |\n",
    "    | is          | 1642       | 46                           |\n",
    "    | een         | 1642       | 46                           |\n",
    "    | tekst       | 159        | 1                            |\n",
    "    | om          | 1480       | 24                           |\n",
    "    | te          | 1574       | 38                           |\n",
    "    | kijken      | 947        | 11                           |\n",
    "    | of          | 1642       | 35                           |\n",
    "    | deze        | 1608       | 46                           |\n",
    "    | als         | 1576       | 39                           |\n",
    "    | interessant | 156        | 2                            |\n",
    "    | zal         | 1387       | 46                           |\n",
    "    | worden      | 1589       | 14                           |\n",
    "    | beoordeeld  | 176        | 1                            |\n",
    "What is the probability that this text is an interesting text, according to the algorithm seen? Is this chance big or small?"
   ],
   "metadata": {
    "collapsed": false
   },
   "id": "a4b3733834b225d3"
  },
  {
   "cell_type": "code",
   "outputs": [],
   "source": [
    "# Technique used:\n",
    "# Laplace & The Sum Rule & The Product Rule & Bayes' law\n",
    "\n",
    "# Formula used:\n",
    "# P(Interesting | Words) = P(Words | Interesting) * P(Interesting) / P(Words)\n",
    "\n",
    "# Calculation:\n",
    "# P(Interesting) = 46/1642 = 0,028014616 (2,801%)\n",
    "# P(Words) = 1368/1642 * 1642/1642 * 1642/1642 * 159/1642 * 1480/1642 * 1574/1642 * 947/1642 * 1642/1642 * 1608/1642 * 1576/1642 * 156/1642 * 1387/1642 * 1589/1642 * 176/1642 = 0.0003145392 (0,0314%)\n",
    "# P(Words | Interesting) = 40/46 * 46/46 * 46/46 * 1/46 * 24/46 * 38/46 * 11/46 * 35/46 * 46/46 * 39/46 * 2/46 * 46/46 * 14/46 * 1/46 = 3,615429361829847e-7 (0,00000003615429361829847%)\n",
    "\n",
    "# P(Interesting | Words) = 3,615429361829847e-7 * 0,028014616 / 0.0003145392 = 0,000032 (0,0032%)"
   ],
   "metadata": {
    "collapsed": false,
    "ExecuteTime": {
     "end_time": "2024-02-17T17:37:01.209018100Z",
     "start_time": "2024-02-17T17:37:01.153800400Z"
    }
   },
   "id": "ec12ec1e86bb56b3",
   "execution_count": 246
  },
  {
   "cell_type": "markdown",
   "source": [
    "## Practical exercises (Python)"
   ],
   "metadata": {
    "collapsed": false
   },
   "id": "f8f39a382b50d97a"
  },
  {
   "cell_type": "code",
   "outputs": [],
   "source": [
    "import pandas as pd\n",
    "studentQuestions = pd.read_csv('Data.csv', delimiter=';', decimal=',')"
   ],
   "metadata": {
    "collapsed": false,
    "ExecuteTime": {
     "end_time": "2024-02-17T17:37:01.227815400Z",
     "start_time": "2024-02-17T17:37:01.211171400Z"
    }
   },
   "id": "a9158391b75f2df2",
   "execution_count": 247
  },
  {
   "cell_type": "code",
   "outputs": [
    {
     "data": {
      "text/plain": "   gapminder schrijfhand  schoenmaat  lengte    bloedgroep         resus  \\\n0       7/18      Rechts        43.0     184             O      positief   \n1       3/18      Rechts        42.0     163  Weet ik niet  Weet ik niet   \n2      12/18      Rechts        45.0     183            AB      positief   \n3       5/18      Rechts        44.0     175             A      positief   \n4       6/18      Rechts        43.0     173             B      positief   \n..       ...         ...         ...     ...           ...           ...   \n84      7/18      Rechts        45.0     185             O      negatief   \n85      9/18      Rechts        43.0     184             O  Weet ik niet   \n86      4/18       Links        45.5     190  Weet ik niet  Weet ik niet   \n87      8/18      Rechts        45.0     188             A      positief   \n88      7/18      Rechts        43.0     176             B      positief   \n\n    siblings                                     Samenzweringen  \\\n0          5  De tsunami van 2004 in de Indische Oceaan was ...   \n1          1   Prinses Diana kwam niet per ongeluk om het leven   \n2          2  Prinses Diana kwam niet per ongeluk om het lev...   \n3          2  De wereld wordt eigenlijk gecontroleerd door e...   \n4          3  De wereld wordt eigenlijk gecontroleerd door e...   \n..       ...                                                ...   \n84         0  De maanlanding is in scne gezet om de Russen ...   \n85         2  De aanslagen van 9/11 in NY werden niet door t...   \n86         0  Prinses Diana kwam niet per ongeluk om het lev...   \n87         1                                                NaN   \n88         2                                                NaN   \n\n                                            rijbewijs  \\\n0                                Categorie B: Wagens.   \n1   Categorie AM: Bromfietsen met een maximumsnelh...   \n2   Categorie AM: Bromfietsen met een maximumsnelh...   \n3   Categorie AM: Bromfietsen met een maximumsnelh...   \n4                                Categorie B: Wagens.   \n..                                                ...   \n84  Categorie AM: Bromfietsen met een maximumsnelh...   \n85  Categorie AM: Bromfietsen met een maximumsnelh...   \n86  Categorie AM: Bromfietsen met een maximumsnelh...   \n87                               Categorie B: Wagens.   \n88                               Categorie B: Wagens.   \n\n                               domicilie in Antwerpen  ... M1 - stelen  \\\n0   buiten de stad (een dorp, een gehucht, het pla...  ...           7   \n1                                         in een stad  ...          10   \n2                                         in een stad  ...           6   \n3                                         in een stad  ...           9   \n4                                         in een stad  ...          10   \n..                                                ...  ...         ...   \n84  buiten de stad (een dorp, een gehucht, het pla...  ...          10   \n85  buiten de stad (een dorp, een gehucht, het pla...  ...           8   \n86                                        in een stad  ...          10   \n87                                        in een stad  ...           8   \n88                                        in een stad  ...          10   \n\n   M2 - team M3 - beschermen M4 - voorbeeld M5 - embryo  M6 - vrijheid  \\\n0          2               8              6           5            4.0   \n1          5              10              6           7            3.0   \n2          3               7              7          10            6.0   \n3         10              10             10          10            0.0   \n4          6              10              7           7            2.0   \n..       ...             ...            ...         ...            ...   \n84         3               8              8           2            5.0   \n85         5               7              8           4            0.0   \n86         5              10              8           9            5.0   \n87         6               6              7           6            4.0   \n88         5               4              9           3            9.0   \n\n                                             mascotte            zwaarste vak  \\\n0   1=Bever,2=Wasbeer,3=Otter,4=Wolf,5=Poema,6=Pan...            Management 1   \n1   1=Bever,2=Wolf,3=Bizon,4=Otter,5=Panter,6=Poem...            Management 1   \n2   1=Bruine beer,2=Poema,3=Panter,4=Wolf,5=Vos,6=...            Management 1   \n3   1=Wasbeer,2=Wolf,3=Bruine beer,4=Das,5=Vos,6=B...            Management 1   \n4   1=Wolf,2=Vos,3=Bruine beer,4=Bizon,5=Panter,6=...            Management 1   \n..                                                ...                     ...   \n84  1=Panter,2=Poema,3=Wolf,4=Vos,5=Bever,6=Bruine...  Software engineering 1   \n85  1=Panter,2=Poema,3=Vos,4=Wolf,5=Bruine beer,6=...          Data science 1   \n86  1=Wolf,2=Vos,3=Bruine beer,4=Bever,5=Das,6=Was...       User interfaces 1   \n87  1=Otter,2=Wasbeer,3=Vos,4=Bruine beer,5=Bever,...             Netwerken 1   \n88  1=Poema,2=Panter,3=Wolf,4=Bruine beer,5=Bizon,...          Data science 1   \n\n                boeienste vak  studiepunt  \n0              Data science 1  16-20 uren  \n1          Computersystemen 1  <= 10 uren  \n2       Programmeren 1 - Java  16-20 uren  \n3              Data science 1  <= 10 uren  \n4              Data science 1  <= 10 uren  \n..                        ...         ...  \n84          User interfaces 1  26-30 uren  \n85  Programmeren 1 - Embedded  11-15 uren  \n86             Data science 1  16-20 uren  \n87             Data science 1  16-20 uren  \n88      Programmeren 1 - Java  26-30 uren  \n\n[89 rows x 33 columns]",
      "text/html": "<div>\n<style scoped>\n    .dataframe tbody tr th:only-of-type {\n        vertical-align: middle;\n    }\n\n    .dataframe tbody tr th {\n        vertical-align: top;\n    }\n\n    .dataframe thead th {\n        text-align: right;\n    }\n</style>\n<table border=\"1\" class=\"dataframe\">\n  <thead>\n    <tr style=\"text-align: right;\">\n      <th></th>\n      <th>gapminder</th>\n      <th>schrijfhand</th>\n      <th>schoenmaat</th>\n      <th>lengte</th>\n      <th>bloedgroep</th>\n      <th>resus</th>\n      <th>siblings</th>\n      <th>Samenzweringen</th>\n      <th>rijbewijs</th>\n      <th>domicilie in Antwerpen</th>\n      <th>...</th>\n      <th>M1 - stelen</th>\n      <th>M2 - team</th>\n      <th>M3 - beschermen</th>\n      <th>M4 - voorbeeld</th>\n      <th>M5 - embryo</th>\n      <th>M6 - vrijheid</th>\n      <th>mascotte</th>\n      <th>zwaarste vak</th>\n      <th>boeienste vak</th>\n      <th>studiepunt</th>\n    </tr>\n  </thead>\n  <tbody>\n    <tr>\n      <th>0</th>\n      <td>7/18</td>\n      <td>Rechts</td>\n      <td>43.0</td>\n      <td>184</td>\n      <td>O</td>\n      <td>positief</td>\n      <td>5</td>\n      <td>De tsunami van 2004 in de Indische Oceaan was ...</td>\n      <td>Categorie B: Wagens.</td>\n      <td>buiten de stad (een dorp, een gehucht, het pla...</td>\n      <td>...</td>\n      <td>7</td>\n      <td>2</td>\n      <td>8</td>\n      <td>6</td>\n      <td>5</td>\n      <td>4.0</td>\n      <td>1=Bever,2=Wasbeer,3=Otter,4=Wolf,5=Poema,6=Pan...</td>\n      <td>Management 1</td>\n      <td>Data science 1</td>\n      <td>16-20 uren</td>\n    </tr>\n    <tr>\n      <th>1</th>\n      <td>3/18</td>\n      <td>Rechts</td>\n      <td>42.0</td>\n      <td>163</td>\n      <td>Weet ik niet</td>\n      <td>Weet ik niet</td>\n      <td>1</td>\n      <td>Prinses Diana kwam niet per ongeluk om het leven</td>\n      <td>Categorie AM: Bromfietsen met een maximumsnelh...</td>\n      <td>in een stad</td>\n      <td>...</td>\n      <td>10</td>\n      <td>5</td>\n      <td>10</td>\n      <td>6</td>\n      <td>7</td>\n      <td>3.0</td>\n      <td>1=Bever,2=Wolf,3=Bizon,4=Otter,5=Panter,6=Poem...</td>\n      <td>Management 1</td>\n      <td>Computersystemen 1</td>\n      <td>&lt;= 10 uren</td>\n    </tr>\n    <tr>\n      <th>2</th>\n      <td>12/18</td>\n      <td>Rechts</td>\n      <td>45.0</td>\n      <td>183</td>\n      <td>AB</td>\n      <td>positief</td>\n      <td>2</td>\n      <td>Prinses Diana kwam niet per ongeluk om het lev...</td>\n      <td>Categorie AM: Bromfietsen met een maximumsnelh...</td>\n      <td>in een stad</td>\n      <td>...</td>\n      <td>6</td>\n      <td>3</td>\n      <td>7</td>\n      <td>7</td>\n      <td>10</td>\n      <td>6.0</td>\n      <td>1=Bruine beer,2=Poema,3=Panter,4=Wolf,5=Vos,6=...</td>\n      <td>Management 1</td>\n      <td>Programmeren 1 - Java</td>\n      <td>16-20 uren</td>\n    </tr>\n    <tr>\n      <th>3</th>\n      <td>5/18</td>\n      <td>Rechts</td>\n      <td>44.0</td>\n      <td>175</td>\n      <td>A</td>\n      <td>positief</td>\n      <td>2</td>\n      <td>De wereld wordt eigenlijk gecontroleerd door e...</td>\n      <td>Categorie AM: Bromfietsen met een maximumsnelh...</td>\n      <td>in een stad</td>\n      <td>...</td>\n      <td>9</td>\n      <td>10</td>\n      <td>10</td>\n      <td>10</td>\n      <td>10</td>\n      <td>0.0</td>\n      <td>1=Wasbeer,2=Wolf,3=Bruine beer,4=Das,5=Vos,6=B...</td>\n      <td>Management 1</td>\n      <td>Data science 1</td>\n      <td>&lt;= 10 uren</td>\n    </tr>\n    <tr>\n      <th>4</th>\n      <td>6/18</td>\n      <td>Rechts</td>\n      <td>43.0</td>\n      <td>173</td>\n      <td>B</td>\n      <td>positief</td>\n      <td>3</td>\n      <td>De wereld wordt eigenlijk gecontroleerd door e...</td>\n      <td>Categorie B: Wagens.</td>\n      <td>in een stad</td>\n      <td>...</td>\n      <td>10</td>\n      <td>6</td>\n      <td>10</td>\n      <td>7</td>\n      <td>7</td>\n      <td>2.0</td>\n      <td>1=Wolf,2=Vos,3=Bruine beer,4=Bizon,5=Panter,6=...</td>\n      <td>Management 1</td>\n      <td>Data science 1</td>\n      <td>&lt;= 10 uren</td>\n    </tr>\n    <tr>\n      <th>...</th>\n      <td>...</td>\n      <td>...</td>\n      <td>...</td>\n      <td>...</td>\n      <td>...</td>\n      <td>...</td>\n      <td>...</td>\n      <td>...</td>\n      <td>...</td>\n      <td>...</td>\n      <td>...</td>\n      <td>...</td>\n      <td>...</td>\n      <td>...</td>\n      <td>...</td>\n      <td>...</td>\n      <td>...</td>\n      <td>...</td>\n      <td>...</td>\n      <td>...</td>\n      <td>...</td>\n    </tr>\n    <tr>\n      <th>84</th>\n      <td>7/18</td>\n      <td>Rechts</td>\n      <td>45.0</td>\n      <td>185</td>\n      <td>O</td>\n      <td>negatief</td>\n      <td>0</td>\n      <td>De maanlanding is in scne gezet om de Russen ...</td>\n      <td>Categorie AM: Bromfietsen met een maximumsnelh...</td>\n      <td>buiten de stad (een dorp, een gehucht, het pla...</td>\n      <td>...</td>\n      <td>10</td>\n      <td>3</td>\n      <td>8</td>\n      <td>8</td>\n      <td>2</td>\n      <td>5.0</td>\n      <td>1=Panter,2=Poema,3=Wolf,4=Vos,5=Bever,6=Bruine...</td>\n      <td>Software engineering 1</td>\n      <td>User interfaces 1</td>\n      <td>26-30 uren</td>\n    </tr>\n    <tr>\n      <th>85</th>\n      <td>9/18</td>\n      <td>Rechts</td>\n      <td>43.0</td>\n      <td>184</td>\n      <td>O</td>\n      <td>Weet ik niet</td>\n      <td>2</td>\n      <td>De aanslagen van 9/11 in NY werden niet door t...</td>\n      <td>Categorie AM: Bromfietsen met een maximumsnelh...</td>\n      <td>buiten de stad (een dorp, een gehucht, het pla...</td>\n      <td>...</td>\n      <td>8</td>\n      <td>5</td>\n      <td>7</td>\n      <td>8</td>\n      <td>4</td>\n      <td>0.0</td>\n      <td>1=Panter,2=Poema,3=Vos,4=Wolf,5=Bruine beer,6=...</td>\n      <td>Data science 1</td>\n      <td>Programmeren 1 - Embedded</td>\n      <td>11-15 uren</td>\n    </tr>\n    <tr>\n      <th>86</th>\n      <td>4/18</td>\n      <td>Links</td>\n      <td>45.5</td>\n      <td>190</td>\n      <td>Weet ik niet</td>\n      <td>Weet ik niet</td>\n      <td>0</td>\n      <td>Prinses Diana kwam niet per ongeluk om het lev...</td>\n      <td>Categorie AM: Bromfietsen met een maximumsnelh...</td>\n      <td>in een stad</td>\n      <td>...</td>\n      <td>10</td>\n      <td>5</td>\n      <td>10</td>\n      <td>8</td>\n      <td>9</td>\n      <td>5.0</td>\n      <td>1=Wolf,2=Vos,3=Bruine beer,4=Bever,5=Das,6=Was...</td>\n      <td>User interfaces 1</td>\n      <td>Data science 1</td>\n      <td>16-20 uren</td>\n    </tr>\n    <tr>\n      <th>87</th>\n      <td>8/18</td>\n      <td>Rechts</td>\n      <td>45.0</td>\n      <td>188</td>\n      <td>A</td>\n      <td>positief</td>\n      <td>1</td>\n      <td>NaN</td>\n      <td>Categorie B: Wagens.</td>\n      <td>in een stad</td>\n      <td>...</td>\n      <td>8</td>\n      <td>6</td>\n      <td>6</td>\n      <td>7</td>\n      <td>6</td>\n      <td>4.0</td>\n      <td>1=Otter,2=Wasbeer,3=Vos,4=Bruine beer,5=Bever,...</td>\n      <td>Netwerken 1</td>\n      <td>Data science 1</td>\n      <td>16-20 uren</td>\n    </tr>\n    <tr>\n      <th>88</th>\n      <td>7/18</td>\n      <td>Rechts</td>\n      <td>43.0</td>\n      <td>176</td>\n      <td>B</td>\n      <td>positief</td>\n      <td>2</td>\n      <td>NaN</td>\n      <td>Categorie B: Wagens.</td>\n      <td>in een stad</td>\n      <td>...</td>\n      <td>10</td>\n      <td>5</td>\n      <td>4</td>\n      <td>9</td>\n      <td>3</td>\n      <td>9.0</td>\n      <td>1=Poema,2=Panter,3=Wolf,4=Bruine beer,5=Bizon,...</td>\n      <td>Data science 1</td>\n      <td>Programmeren 1 - Java</td>\n      <td>26-30 uren</td>\n    </tr>\n  </tbody>\n</table>\n<p>89 rows × 33 columns</p>\n</div>"
     },
     "metadata": {},
     "output_type": "display_data"
    }
   ],
   "source": [
    "display(studentQuestions)"
   ],
   "metadata": {
    "collapsed": false,
    "ExecuteTime": {
     "end_time": "2024-02-17T17:37:01.288846100Z",
     "start_time": "2024-02-17T17:37:01.237333700Z"
    }
   },
   "id": "ff3d83a92941fc6f",
   "execution_count": 248
  },
  {
   "cell_type": "code",
   "outputs": [
    {
     "name": "stdout",
     "output_type": "stream",
     "text": [
      "<class 'pandas.core.frame.DataFrame'>\n",
      "RangeIndex: 89 entries, 0 to 88\n",
      "Data columns (total 33 columns):\n",
      " #   Column                  Non-Null Count  Dtype  \n",
      "---  ------                  --------------  -----  \n",
      " 0   gapminder               89 non-null     object \n",
      " 1   schrijfhand             89 non-null     object \n",
      " 2   schoenmaat              89 non-null     float64\n",
      " 3   lengte                  89 non-null     int64  \n",
      " 4   bloedgroep              89 non-null     object \n",
      " 5   resus                   89 non-null     object \n",
      " 6   siblings                89 non-null     int64  \n",
      " 7   Samenzweringen          82 non-null     object \n",
      " 8   rijbewijs               89 non-null     object \n",
      " 9   domicilie in Antwerpen  89 non-null     object \n",
      " 10  afstudeerrichting       89 non-null     object \n",
      " 11  vrijetijdsbesteding     89 non-null     object \n",
      " 12  uren wiskunde           89 non-null     object \n",
      " 13  informatica belangrijk  89 non-null     object \n",
      " 14  uren buiten schooluren  89 non-null     object \n",
      " 15  afstand tot KdG         89 non-null     float64\n",
      " 16  vervoersmiddel          89 non-null     object \n",
      " 17  klimaatopwarming        89 non-null     object \n",
      " 18  zakgeld                 89 non-null     object \n",
      " 19  stukken fruit           89 non-null     int64  \n",
      " 20  fruitvoorkeur           89 non-null     object \n",
      " 21  besturingssysteem       89 non-null     object \n",
      " 22  belangrijkste app       89 non-null     object \n",
      " 23  M1 - stelen             89 non-null     int64  \n",
      " 24  M2 - team               89 non-null     int64  \n",
      " 25  M3 - beschermen         89 non-null     int64  \n",
      " 26  M4 - voorbeeld          89 non-null     int64  \n",
      " 27  M5 - embryo             89 non-null     int64  \n",
      " 28  M6 - vrijheid           88 non-null     float64\n",
      " 29  mascotte                89 non-null     object \n",
      " 30  zwaarste vak            89 non-null     object \n",
      " 31  boeienste vak           89 non-null     object \n",
      " 32  studiepunt              89 non-null     object \n",
      "dtypes: float64(3), int64(8), object(22)\n",
      "memory usage: 23.1+ KB\n"
     ]
    },
    {
     "data": {
      "text/plain": "None"
     },
     "metadata": {},
     "output_type": "display_data"
    }
   ],
   "source": [
    "display(studentQuestions.info())"
   ],
   "metadata": {
    "collapsed": false,
    "ExecuteTime": {
     "end_time": "2024-02-17T17:37:01.308541400Z",
     "start_time": "2024-02-17T17:37:01.252761200Z"
    }
   },
   "id": "454760587d574802",
   "execution_count": 249
  },
  {
   "cell_type": "code",
   "outputs": [
    {
     "data": {
      "text/plain": "       schoenmaat      lengte   siblings  afstand tot KdG  stukken fruit  \\\ncount   89.000000   89.000000  89.000000        89.000000      89.000000   \nmean    43.067416  179.337079   1.629213        14.665169       1.157303   \nstd      1.904228    7.715015   1.343182        11.701701       0.964116   \nmin     37.000000  160.000000   0.000000         0.700000       0.000000   \n25%     42.000000  175.000000   1.000000         6.000000       1.000000   \n50%     43.000000  180.000000   1.000000        10.000000       1.000000   \n75%     45.000000  185.000000   2.000000        21.100000       1.000000   \nmax     46.000000  194.000000   5.000000        48.000000       5.000000   \n\n       M1 - stelen  M2 - team  M3 - beschermen  M4 - voorbeeld  M5 - embryo  \\\ncount    89.000000  89.000000        89.000000       89.000000    89.000000   \nmean      6.696629   3.910112         6.719101        5.651685     5.876404   \nstd       2.595470   2.433854         2.354825        2.221287     2.344337   \nmin       0.000000   0.000000         2.000000        0.000000     0.000000   \n25%       5.000000   2.000000         5.000000        4.000000     5.000000   \n50%       7.000000   3.000000         7.000000        6.000000     6.000000   \n75%       9.000000   5.000000         9.000000        7.000000     7.000000   \nmax      10.000000  10.000000        10.000000       10.000000    10.000000   \n\n       M6 - vrijheid  \ncount      88.000000  \nmean        5.318182  \nstd         2.351549  \nmin         0.000000  \n25%         4.000000  \n50%         5.000000  \n75%         7.000000  \nmax        10.000000  ",
      "text/html": "<div>\n<style scoped>\n    .dataframe tbody tr th:only-of-type {\n        vertical-align: middle;\n    }\n\n    .dataframe tbody tr th {\n        vertical-align: top;\n    }\n\n    .dataframe thead th {\n        text-align: right;\n    }\n</style>\n<table border=\"1\" class=\"dataframe\">\n  <thead>\n    <tr style=\"text-align: right;\">\n      <th></th>\n      <th>schoenmaat</th>\n      <th>lengte</th>\n      <th>siblings</th>\n      <th>afstand tot KdG</th>\n      <th>stukken fruit</th>\n      <th>M1 - stelen</th>\n      <th>M2 - team</th>\n      <th>M3 - beschermen</th>\n      <th>M4 - voorbeeld</th>\n      <th>M5 - embryo</th>\n      <th>M6 - vrijheid</th>\n    </tr>\n  </thead>\n  <tbody>\n    <tr>\n      <th>count</th>\n      <td>89.000000</td>\n      <td>89.000000</td>\n      <td>89.000000</td>\n      <td>89.000000</td>\n      <td>89.000000</td>\n      <td>89.000000</td>\n      <td>89.000000</td>\n      <td>89.000000</td>\n      <td>89.000000</td>\n      <td>89.000000</td>\n      <td>88.000000</td>\n    </tr>\n    <tr>\n      <th>mean</th>\n      <td>43.067416</td>\n      <td>179.337079</td>\n      <td>1.629213</td>\n      <td>14.665169</td>\n      <td>1.157303</td>\n      <td>6.696629</td>\n      <td>3.910112</td>\n      <td>6.719101</td>\n      <td>5.651685</td>\n      <td>5.876404</td>\n      <td>5.318182</td>\n    </tr>\n    <tr>\n      <th>std</th>\n      <td>1.904228</td>\n      <td>7.715015</td>\n      <td>1.343182</td>\n      <td>11.701701</td>\n      <td>0.964116</td>\n      <td>2.595470</td>\n      <td>2.433854</td>\n      <td>2.354825</td>\n      <td>2.221287</td>\n      <td>2.344337</td>\n      <td>2.351549</td>\n    </tr>\n    <tr>\n      <th>min</th>\n      <td>37.000000</td>\n      <td>160.000000</td>\n      <td>0.000000</td>\n      <td>0.700000</td>\n      <td>0.000000</td>\n      <td>0.000000</td>\n      <td>0.000000</td>\n      <td>2.000000</td>\n      <td>0.000000</td>\n      <td>0.000000</td>\n      <td>0.000000</td>\n    </tr>\n    <tr>\n      <th>25%</th>\n      <td>42.000000</td>\n      <td>175.000000</td>\n      <td>1.000000</td>\n      <td>6.000000</td>\n      <td>1.000000</td>\n      <td>5.000000</td>\n      <td>2.000000</td>\n      <td>5.000000</td>\n      <td>4.000000</td>\n      <td>5.000000</td>\n      <td>4.000000</td>\n    </tr>\n    <tr>\n      <th>50%</th>\n      <td>43.000000</td>\n      <td>180.000000</td>\n      <td>1.000000</td>\n      <td>10.000000</td>\n      <td>1.000000</td>\n      <td>7.000000</td>\n      <td>3.000000</td>\n      <td>7.000000</td>\n      <td>6.000000</td>\n      <td>6.000000</td>\n      <td>5.000000</td>\n    </tr>\n    <tr>\n      <th>75%</th>\n      <td>45.000000</td>\n      <td>185.000000</td>\n      <td>2.000000</td>\n      <td>21.100000</td>\n      <td>1.000000</td>\n      <td>9.000000</td>\n      <td>5.000000</td>\n      <td>9.000000</td>\n      <td>7.000000</td>\n      <td>7.000000</td>\n      <td>7.000000</td>\n    </tr>\n    <tr>\n      <th>max</th>\n      <td>46.000000</td>\n      <td>194.000000</td>\n      <td>5.000000</td>\n      <td>48.000000</td>\n      <td>5.000000</td>\n      <td>10.000000</td>\n      <td>10.000000</td>\n      <td>10.000000</td>\n      <td>10.000000</td>\n      <td>10.000000</td>\n      <td>10.000000</td>\n    </tr>\n  </tbody>\n</table>\n</div>"
     },
     "metadata": {},
     "output_type": "display_data"
    }
   ],
   "source": [
    "display(studentQuestions.describe())"
   ],
   "metadata": {
    "collapsed": false,
    "ExecuteTime": {
     "end_time": "2024-02-17T17:37:01.418001500Z",
     "start_time": "2024-02-17T17:37:01.295689500Z"
    }
   },
   "id": "5e61cb3cb6fe7e97",
   "execution_count": 250
  },
  {
   "cell_type": "markdown",
   "source": [
    "### Exercise 1:\n",
    "\n",
    "https://pandas.pydata.org/docs/getting_started/intro_tutorials/03_subset_data.html"
   ],
   "metadata": {
    "collapsed": false
   },
   "id": "439b67b46397307e"
  },
  {
   "cell_type": "code",
   "outputs": [
    {
     "name": "stdout",
     "output_type": "stream",
     "text": [
      "['3' '4' '7' '6' '5' '2 of minder' '8']\n"
     ]
    }
   ],
   "source": [
    "print(studentQuestions[\"uren wiskunde\"].unique())"
   ],
   "metadata": {
    "collapsed": false,
    "ExecuteTime": {
     "end_time": "2024-02-17T17:37:01.446176400Z",
     "start_time": "2024-02-17T17:37:01.374812300Z"
    }
   },
   "id": "226a017cd1abc68e",
   "execution_count": 251
  },
  {
   "cell_type": "code",
   "outputs": [
    {
     "name": "stdout",
     "output_type": "stream",
     "text": [
      "89\n"
     ]
    }
   ],
   "source": [
    "# Technique used:\n",
    "# Laplace\n",
    "\n",
    "numberOfStudents = studentQuestions.shape[0] # OR len(studenq)\n",
    "print(numberOfStudents)"
   ],
   "metadata": {
    "collapsed": false,
    "ExecuteTime": {
     "end_time": "2024-02-17T17:37:01.570190600Z",
     "start_time": "2024-02-17T17:37:01.426708600Z"
    }
   },
   "id": "ee4e007cac192f56",
   "execution_count": 252
  },
  {
   "cell_type": "markdown",
   "source": [
    "Chance 2 hours or less of math"
   ],
   "metadata": {
    "collapsed": false
   },
   "id": "85d35c6167156688"
  },
  {
   "cell_type": "code",
   "outputs": [
    {
     "name": "stdout",
     "output_type": "stream",
     "text": [
      "0.0898876404494382\n"
     ]
    }
   ],
   "source": [
    "# Technique used:\n",
    "# Laplace\n",
    "\n",
    "# (\"2 or less\" in table \"hours of mathematics\" equals total) / total studying\n",
    "data = len(studentQuestions[studentQuestions[\"uren wiskunde\"] == \"2 of minder\" ]) / len(studentQuestions)\n",
    "print(data)"
   ],
   "metadata": {
    "collapsed": false,
    "ExecuteTime": {
     "end_time": "2024-02-17T17:37:01.667453700Z",
     "start_time": "2024-02-17T17:37:01.567725300Z"
    }
   },
   "id": "e441fe6eec9dabf5",
   "execution_count": 253
  },
  {
   "cell_type": "markdown",
   "source": [
    "Chance 3 hours or more of math"
   ],
   "metadata": {
    "collapsed": false
   },
   "id": "f9fd7eaa720a40e1"
  },
  {
   "cell_type": "code",
   "outputs": [
    {
     "name": "stdout",
     "output_type": "stream",
     "text": [
      "0.9101123595505618\n"
     ]
    }
   ],
   "source": [
    "# Technique used:\n",
    "# Opposite / Complementary event\n",
    "\n",
    "# (\"2 or less\" in table \"hours of mathematics\" equals total / total studying) - 1\n",
    "data = 1 - len(studentQuestions[studentQuestions[\"uren wiskunde\"] == \"2 of minder\" ]) / len(studentQuestions)\n",
    "print(data)"
   ],
   "metadata": {
    "collapsed": false,
    "ExecuteTime": {
     "end_time": "2024-02-17T17:37:01.732880700Z",
     "start_time": "2024-02-17T17:37:01.625643800Z"
    }
   },
   "id": "53d9abe497c85e2f",
   "execution_count": 254
  },
  {
   "cell_type": "markdown",
   "source": [
    "### Exercise 2:\n",
    "\n",
    "Probability writing hand right or eating more than 3 pieces of fruit"
   ],
   "metadata": {
    "collapsed": false
   },
   "id": "e8f1254695876091"
  },
  {
   "cell_type": "code",
   "outputs": [
    {
     "name": "stdout",
     "output_type": "stream",
     "text": [
      "Probability of being right-handed: 84.27%\n",
      "Probability of eating more than 3 pieces of fruit: 2.25%\n"
     ]
    }
   ],
   "source": [
    "# Count the number of right-handed and left-handed individuals\n",
    "right_handed_count = studentQuestions[studentQuestions['schrijfhand'] == 'Rechts'].shape[0]\n",
    "left_handed_count = studentQuestions[studentQuestions['schrijfhand'] == 'Links'].shape[0]\n",
    "\n",
    "# Calculate the probability of being right-handed\n",
    "probability_right_handed = right_handed_count / studentQuestions.shape[0]\n",
    "\n",
    "# Count the number of individuals eating more than 3 pieces of fruit\n",
    "more_than_3_fruit_count = studentQuestions[studentQuestions['stukken fruit'] > 3].shape[0]\n",
    "\n",
    "# Calculate the probability of eating more than 3 pieces of fruit\n",
    "probability_more_than_3_fruit = more_than_3_fruit_count / studentQuestions.shape[0]\n",
    "\n",
    "print(f\"Probability of being right-handed: {probability_right_handed:.2%}\")\n",
    "print(f\"Probability of eating more than 3 pieces of fruit: {probability_more_than_3_fruit:.2%}\")"
   ],
   "metadata": {
    "collapsed": false,
    "ExecuteTime": {
     "end_time": "2024-02-17T17:37:01.790786600Z",
     "start_time": "2024-02-17T17:37:01.737915100Z"
    }
   },
   "id": "c0d4588203e46fa1",
   "execution_count": 255
  },
  {
   "cell_type": "markdown",
   "source": [
    "### Exercise 3:\n",
    "\n",
    "Chances of a right-handed student eating less than 2 pieces of fruit?\n",
    "P(<2 | R) = P(<2 en R) / P(R)"
   ],
   "metadata": {
    "collapsed": false
   },
   "id": "4763d5f4fbadd085"
  },
  {
   "cell_type": "code",
   "outputs": [],
   "source": [
    "# Count the number of right-handed individuals eating less than 2 pieces of fruit\n",
    "right_handed_less_than_2_fruit_count = studentQuestions[(studentQuestions['schrijfhand'] == 'Rechts') & (studentQuestions['stukken fruit'] < 2)].shape[0]\n",
    "\n",
    "# Count the number of right-handed individuals\n",
    "right_handed_count = studentQuestions[studentQuestions['schrijfhand'] == 'Rechts'].shape[0]"
   ],
   "metadata": {
    "collapsed": false,
    "ExecuteTime": {
     "end_time": "2024-02-17T17:37:01.845055Z",
     "start_time": "2024-02-17T17:37:01.751237300Z"
    }
   },
   "id": "c6c2d3e46cb45b1a",
   "execution_count": 256
  },
  {
   "cell_type": "code",
   "outputs": [],
   "source": [
    "# Calculate the probability of being right-handed\n",
    "kans_rechts = right_handed_count / studentQuestions.shape[0]"
   ],
   "metadata": {
    "collapsed": false,
    "ExecuteTime": {
     "end_time": "2024-02-17T17:37:01.868375800Z",
     "start_time": "2024-02-17T17:37:01.776414800Z"
    }
   },
   "id": "fd24d394f0de7c7f",
   "execution_count": 257
  },
  {
   "cell_type": "code",
   "outputs": [],
   "source": [
    "# Calculate the probability of being right-handed and eating less than 2 pieces of fruit\n",
    "kans_rechts_minder2 = right_handed_less_than_2_fruit_count / right_handed_count"
   ],
   "metadata": {
    "collapsed": false,
    "ExecuteTime": {
     "end_time": "2024-02-17T17:37:01.918561200Z",
     "start_time": "2024-02-17T17:37:01.855365200Z"
    }
   },
   "id": "25721ddfd7f4f69d",
   "execution_count": 258
  },
  {
   "cell_type": "code",
   "outputs": [],
   "source": [
    "# Calculate the conditional probability P(<2 | R)\n",
    "conditional_probability = kans_rechts_minder2 / kans_rechts"
   ],
   "metadata": {
    "collapsed": false,
    "ExecuteTime": {
     "end_time": "2024-02-17T17:37:01.967754700Z",
     "start_time": "2024-02-17T17:37:01.901714800Z"
    }
   },
   "id": "2b6f2cdb5583c35f",
   "execution_count": 259
  },
  {
   "cell_type": "code",
   "outputs": [
    {
     "name": "stdout",
     "output_type": "stream",
     "text": [
      "Probability of being right-handed: 84.27%\n",
      "Probability of a right-handed student eating less than 2 pieces of fruit: 76.00%\n",
      "Chances of a right-handed student eating less than 2 pieces of fruit: 90.19%\n"
     ]
    }
   ],
   "source": [
    "print(f\"Probability of being right-handed: {kans_rechts:.2%}\")\n",
    "print(f\"Probability of a right-handed student eating less than 2 pieces of fruit: {kans_rechts_minder2:.2%}\")\n",
    "print(f\"Chances of a right-handed student eating less than 2 pieces of fruit: {conditional_probability:.2%}\")"
   ],
   "metadata": {
    "collapsed": false,
    "ExecuteTime": {
     "end_time": "2024-02-17T17:37:01.988646300Z",
     "start_time": "2024-02-17T17:37:01.951209100Z"
    }
   },
   "id": "f85f2ed97019f630",
   "execution_count": 260
  },
  {
   "cell_type": "markdown",
   "source": [
    "### Exercise 4:\n",
    "\n",
    "\"believe in one or more conspiracies\" and \"write hand on the right\" independently?\n",
    "P(S) * P(R) =? P(S en R)"
   ],
   "metadata": {
    "collapsed": false
   },
   "id": "f56a43dca7238bc9"
  },
  {
   "cell_type": "code",
   "outputs": [],
   "source": [
    "# Count the number of individuals who believe in one or more conspiracies\n",
    "conspiracy_believers_count = studentQuestions[studentQuestions['Samenzweringen'].str.lower() == 'ja'].shape[0]"
   ],
   "metadata": {
    "collapsed": false,
    "ExecuteTime": {
     "end_time": "2024-02-17T17:37:02.021176600Z",
     "start_time": "2024-02-17T17:37:01.980518800Z"
    }
   },
   "id": "f454f7bb4cf96262",
   "execution_count": 261
  },
  {
   "cell_type": "code",
   "outputs": [],
   "source": [
    "# Calculate the probability of believing in one or more conspiracies\n",
    "kans_sz = conspiracy_believers_count / studentQuestions.shape[0]"
   ],
   "metadata": {
    "collapsed": false,
    "ExecuteTime": {
     "end_time": "2024-02-17T17:37:02.045184700Z",
     "start_time": "2024-02-17T17:37:02.026495700Z"
    }
   },
   "id": "282a394630bd51df",
   "execution_count": 262
  },
  {
   "cell_type": "code",
   "outputs": [],
   "source": [
    "# Count the number of right-handed individuals\n",
    "right_handed_count = studentQuestions[studentQuestions['schrijfhand'] == 'Rechts'].shape[0]"
   ],
   "metadata": {
    "collapsed": false,
    "ExecuteTime": {
     "end_time": "2024-02-17T17:37:02.070454600Z",
     "start_time": "2024-02-17T17:37:02.048102800Z"
    }
   },
   "id": "2eaa31f5a25cb6c7",
   "execution_count": 263
  },
  {
   "cell_type": "code",
   "outputs": [],
   "source": [
    "# Calculate the probability of being right-handed\n",
    "kans_rechts = right_handed_count / studentQuestions.shape[0]"
   ],
   "metadata": {
    "collapsed": false,
    "ExecuteTime": {
     "end_time": "2024-02-17T17:37:02.107841800Z",
     "start_time": "2024-02-17T17:37:02.072457600Z"
    }
   },
   "id": "524599ff5a2aacd4",
   "execution_count": 264
  },
  {
   "cell_type": "code",
   "outputs": [],
   "source": [
    "# Count the number of individuals who are both right-handed and believe in conspiracies\n",
    "right_handed_conspiracy_believers_count = studentQuestions[(studentQuestions['schrijfhand'] == 'Rechts') & (studentQuestions['Samenzweringen'].str.lower() == 'ja')].shape[0]"
   ],
   "metadata": {
    "collapsed": false,
    "ExecuteTime": {
     "end_time": "2024-02-17T17:37:02.147138800Z",
     "start_time": "2024-02-17T17:37:02.092513Z"
    }
   },
   "id": "cfe85b4d1d57ec5c",
   "execution_count": 265
  },
  {
   "cell_type": "code",
   "outputs": [],
   "source": [
    "# Calculate the joint probability P(S en R)\n",
    "kans_rechts_sz = right_handed_conspiracy_believers_count / studentQuestions.shape[0]"
   ],
   "metadata": {
    "collapsed": false,
    "ExecuteTime": {
     "end_time": "2024-02-17T17:37:02.168939600Z",
     "start_time": "2024-02-17T17:37:02.116213100Z"
    }
   },
   "id": "f02756d42538a129",
   "execution_count": 266
  },
  {
   "cell_type": "code",
   "outputs": [],
   "source": [
    "# Check if P(S en R) equals P(S) * P(R)\n",
    "kans_rechts_sz_equals_product = kans_rechts * kans_sz"
   ],
   "metadata": {
    "collapsed": false,
    "ExecuteTime": {
     "end_time": "2024-02-17T17:37:02.172939900Z",
     "start_time": "2024-02-17T17:37:02.152797Z"
    }
   },
   "id": "a02d173ba1de29af",
   "execution_count": 267
  },
  {
   "cell_type": "code",
   "outputs": [
    {
     "name": "stdout",
     "output_type": "stream",
     "text": [
      "Probability of believing in one or more conspiracies: 0.0000000000%\n",
      "Probability of being right-handed: 84.27%\n",
      "Joint probability of being right-handed and believing in conspiracies: 0.00%\n",
      "Do P(S en R) and P(S) * P(R) match? Yes\n"
     ]
    }
   ],
   "source": [
    "print(f\"Probability of believing in one or more conspiracies: {kans_sz:.2%}\")\n",
    "print(f\"Probability of being right-handed: {kans_rechts:.2%}\")\n",
    "print(f\"Joint probability of being right-handed and believing in conspiracies: {kans_rechts_sz:.2%}\")\n",
    "print(f\"Do P(S en R) and P(S) * P(R) match? {'Yes' if kans_rechts_sz_equals_product == kans_rechts_sz else 'No'}\")"
   ],
   "metadata": {
    "collapsed": false,
    "ExecuteTime": {
     "end_time": "2024-02-17T17:37:15.433122100Z",
     "start_time": "2024-02-17T17:37:15.395433900Z"
    }
   },
   "id": "d62fc1a19e9e028f",
   "execution_count": 269
  }
 ],
 "metadata": {
  "kernelspec": {
   "display_name": "Python 3",
   "language": "python",
   "name": "python3"
  },
  "language_info": {
   "codemirror_mode": {
    "name": "ipython",
    "version": 2
   },
   "file_extension": ".py",
   "mimetype": "text/x-python",
   "name": "python",
   "nbconvert_exporter": "python",
   "pygments_lexer": "ipython2",
   "version": "2.7.6"
  }
 },
 "nbformat": 4,
 "nbformat_minor": 5
}

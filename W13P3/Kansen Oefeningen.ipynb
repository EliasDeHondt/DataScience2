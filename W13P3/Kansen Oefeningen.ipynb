{
 "cells": [
  {
   "cell_type": "markdown",
   "source": [
    "## Vraag 1:\n",
    "Je werpt met 2 dobbelstenen. Hoe groot is de kans dat je een 5 en een 2 gooit? (3 beduidende cijfers)"
   ],
   "metadata": {
    "collapsed": false
   },
   "id": "8dcce8d70aac0bac"
  },
  {
   "cell_type": "code",
   "outputs": [],
   "source": [
    "# P(2 EN 5 OF 2 EN 5) = (1/6 * 1/6) + (1/6 * 1/6) = 2/36 = 1/18\n",
    "\n",
    "\n"
   ],
   "metadata": {
    "collapsed": false,
    "ExecuteTime": {
     "end_time": "2024-02-07T14:53:56.882289700Z",
     "start_time": "2024-02-07T14:53:56.839654800Z"
    }
   },
   "id": "f61d5f3c36d4ed95",
   "execution_count": 1
  },
  {
   "cell_type": "markdown",
   "source": [
    "## Vraag 2:\n",
    "We hebben 2 dobbelstenen.\n",
    "1e: 3 gele vlakken en 3 rode vlakken\n",
    "2e: 5 gele vlakken en 1 rood vlak.\n",
    "Hoe groot is de kans op zowel een geel als een rood vlak?"
   ],
   "metadata": {
    "collapsed": false
   },
   "id": "ac6e6a8db97c7653"
  },
  {
   "cell_type": "code",
   "outputs": [],
   "source": [
    "# P(Geel EN Rood OF Rood EN Geel) = \n",
    "\n",
    "\n"
   ],
   "metadata": {
    "collapsed": false,
    "ExecuteTime": {
     "end_time": "2024-02-07T14:53:56.953506Z",
     "start_time": "2024-02-07T14:53:56.856934700Z"
    }
   },
   "id": "ce4e897992fd055a",
   "execution_count": 2
  },
  {
   "cell_type": "markdown",
   "source": [
    "## Vraag 3:\n",
    "Een doos bevat 4 gele, 2 bruine, 1 oranje, 1 groene en 2 paarse knikkers. We trekken telkens zonder teruglegging. (telkens 2 beduidende cijfers)\n",
    "    1. Wanneer we 4 knikkers trekken, hoe groot is dan de kans dat alle knikkers geel zijn?\n",
    "    2. Wanneer we 2 knikkers trekken, hoe groot is dan de kans op een bruine en een groene knikker?\n",
    "    3. Wanneer we 1 knikker trekken, hoe groot is dan de kans op een oranje of een groene knikker?"
   ],
   "metadata": {
    "collapsed": false
   },
   "id": "52f18b95661cc892"
  },
  {
   "cell_type": "code",
   "outputs": [],
   "source": [
    "# Totaal aantal knikkers = 10\n",
    "# 1. P(4 gele) = (4/10 * 3/9 * 2/8 * 1/7) = 1/210\n",
    "# 2. P(Bruin EN Groen OF Groen EN Bruin) = (2/10 * 1/9) + (1/10 * 2/9) = 2/45\n",
    "# 3. P(Oranje OF Groen) = (1/10 + 1/10) = 1/5\n",
    "\n",
    "\n"
   ],
   "metadata": {
    "collapsed": false,
    "ExecuteTime": {
     "end_time": "2024-02-07T14:53:56.955635600Z",
     "start_time": "2024-02-07T14:53:56.869441Z"
    }
   },
   "id": "42e449944e3abeaf",
   "execution_count": 3
  },
  {
   "cell_type": "markdown",
   "source": [
    "## Vraag 4:\n",
    "Voor een groep van 144 studenten zijn er 90 geslaagd op het examen “OO concepten” en 60 voor “JavaFX”.\n",
    "Van de 90 die geslaagd zijn op “OO concepten” zijn er 30 ook geslaagd op “JavaFX”.\n",
    "Hoe groot is de kans dat als we een willekeurige studenten selecteren dat deze geslaagd is voor tenminste 1 van de 2 examens? (4 beduidende cijfers)"
   ],
   "metadata": {
    "collapsed": false
   },
   "id": "82996318cf7a7ab5"
  },
  {
   "cell_type": "code",
   "outputs": [],
   "source": [
    "# \n",
    "\n",
    "\n"
   ],
   "metadata": {
    "collapsed": false,
    "ExecuteTime": {
     "end_time": "2024-02-07T14:53:56.958202900Z",
     "start_time": "2024-02-07T14:53:56.887254100Z"
    }
   },
   "id": "d45ccf151811f954",
   "execution_count": 4
  },
  {
   "cell_type": "markdown",
   "source": [
    "## Vraag 5:\n",
    "Op een groep van 1000 studenten zijn er 400 die regelmatig computerspelletjes spelen(S) en 200 die regelmatig bordspelen speelt(B). Er zijn er 100 die regelmatig computerspelletjes spelen en bordspelen speelt (S en B).\n",
    "Hoe groot is de kans dat als je een willekeurige student kiest dat deze regelmatig spelletjes speelt (bord of computer)?"
   ],
   "metadata": {
    "collapsed": false
   },
   "id": "620d7b7bdcad6009"
  },
  {
   "cell_type": "code",
   "outputs": [],
   "source": [
    "\n",
    "\n",
    "\n"
   ],
   "metadata": {
    "collapsed": false,
    "ExecuteTime": {
     "end_time": "2024-02-07T14:53:56.970244400Z",
     "start_time": "2024-02-07T14:53:56.900676300Z"
    }
   },
   "id": "578c8e73692e80b7",
   "execution_count": 4
  },
  {
   "cell_type": "markdown",
   "source": [
    "## Vraag 6:\n",
    "Voor een examen “Data Science 1” slaagt 70% van de studenten. Hiervan is 50% dagstudent en 50% blended student. Van de deelnemers is 60% dagstudent en 40% blended student. Uit de groep wordt telkens 1 willekeurige student geselecteerd. (telkens 2 beduidende cijfers)\n",
    "    1. Hoe groot is de kans op een geslaagde student?\n",
    "    2. Hoe groot is de kans op een dagstudent, gegeven dat het een geslaagde student is?\n",
    "    3. Hoe groot is de kans op een geslaagde dagstudent?\n",
    "    4. Hoe groot is de kans op een geslaagde student, gegeven dat het een dagstudent is?\n",
    "    5. Hoe groot is de kans op een gezakte student, gegeven dat het een dagstudent is?\n",
    "    6. Hoe groot is de kans op een gezakte dagstudent?"
   ],
   "metadata": {
    "collapsed": false
   },
   "id": "6070de44bfdfd33"
  },
  {
   "cell_type": "code",
   "outputs": [],
   "source": [
    "\n",
    "\n",
    "\n"
   ],
   "metadata": {
    "collapsed": false,
    "ExecuteTime": {
     "end_time": "2024-02-07T14:53:56.972318500Z",
     "start_time": "2024-02-07T14:53:56.961411700Z"
    }
   },
   "id": "d18f832b04f4acf8",
   "execution_count": 4
  },
  {
   "cell_type": "markdown",
   "source": [
    "## Vraag 7:\n",
    "3 mannen gaan naar een feest en dragen precies dezelfde jassen. Zij hangen hun jassen aan de kapstok en worden daarna zeer dronken.\n",
    "Aan het eind neemt elke man een jas zonder te kijken welke. Hoe groot is de kans dat ieder zijn eigen jas neemt?"
   ],
   "metadata": {
    "collapsed": false
   },
   "id": "cc61bae3d109394c"
  },
  {
   "cell_type": "code",
   "outputs": [],
   "source": [
    "\n",
    "\n",
    "\n"
   ],
   "metadata": {
    "collapsed": false,
    "ExecuteTime": {
     "end_time": "2024-02-07T14:53:57.012425Z",
     "start_time": "2024-02-07T14:53:56.975507100Z"
    }
   },
   "id": "44bfac8b48ddafd0",
   "execution_count": 4
  },
  {
   "cell_type": "markdown",
   "source": [
    "## Vraag 8:\n",
    "Als het hard regent, is er 50% kans dat mijn kelder onderloopt. Het regent gemiddeld 35 dagen/jaar hard en mijn kelder loopt 20 dagen per jaar onder water (dus ook soms als het niet hard regent).\n",
    "Als mijn kelder ondergelopen is, wat is dan de kans dat dit komt doordat het hard regent?"
   ],
   "metadata": {
    "collapsed": false
   },
   "id": "38274c4c7bf85d7a"
  },
  {
   "cell_type": "code",
   "outputs": [],
   "source": [
    "\n",
    "\n",
    "\n"
   ],
   "metadata": {
    "collapsed": false,
    "ExecuteTime": {
     "end_time": "2024-02-07T14:53:57.033496600Z",
     "start_time": "2024-02-07T14:53:56.989992900Z"
    }
   },
   "id": "a1a696d807d4c60a",
   "execution_count": 4
  },
  {
   "cell_type": "markdown",
   "source": [
    "## Vraag 9:\n",
    "90% van de PC's gebruikt Windows. Als een PC crasht, ben je 99,9% zeker dat er Windows op draait. De kans dat een PC crasht (ongeacht het besturingssysteem) is 0,01.\n",
    "\n",
    "Wat is de kans dat een PC crasht als je weet dat er Windows op draait?"
   ],
   "metadata": {
    "collapsed": false
   },
   "id": "ee5c4b5a82eb1955"
  },
  {
   "cell_type": "code",
   "outputs": [],
   "source": [
    "# P(Win) = 0,90\n",
    "# P(Crash | Win) = 0,999\n",
    "# P(Crash) = 0,01\n",
    "\n",
    "# P(Crash | Win) = ? (Wet van Bayes)\n",
    "\n",
    "\n",
    "# P(Crash | Win) * P(Crash)\n",
    "# ---------------\n",
    "# P(Win)\n",
    "\n",
    "# P(0,999) * P(0,01)\n",
    "# ------------------\n",
    "# P(0,90)\n",
    "\n",
    "# 0,999 * 0,01 / 0,90 = 0,0111 = 1,11%"
   ],
   "metadata": {
    "collapsed": false,
    "ExecuteTime": {
     "end_time": "2024-02-07T14:53:57.036675100Z",
     "start_time": "2024-02-07T14:53:57.014491600Z"
    }
   },
   "id": "cff83f626304373",
   "execution_count": 4
  },
  {
   "cell_type": "markdown",
   "source": [
    "## Vraag 10:\n",
    "In 1988 was er discussie om een verplichte AIDS test in te voeren. Men heeft een zeer betrouwbare test ontwikkelt die volgende resultaten boekt:\n",
    "- P(positief | geïnfecteerd) = 0,999\n",
    "- P(negatief | niet geïnfecteerd) = 0,99\n",
    "\n",
    "Men schat dat 0,6% van de mensen drager is van het virus.\n",
    "Wat is de kans dat iemand daadwerkelijk geïnfecteerd is als je weet dat de test positief is? Zie je waarom de verplichte test niet werd ingevoerd?"
   ],
   "metadata": {
    "collapsed": false
   },
   "id": "d6410f46d520b3c4"
  },
  {
   "cell_type": "code",
   "outputs": [],
   "source": [
    "# P(positief | geïnfecteerd) = 0,999\n",
    "# P(negatief | niet geïnfecteerd) = 0,99\n",
    "# P(geïnfecteerd) = 0,006\n",
    "\n",
    "# P(positief) = ? (Totaal kans)\n",
    "# P(positief) = p(geïnfecteerd) * P(positief | geïnfecteerd) + P(niet geïnfecteerd) * P(positief | niet geïnfecteerd)\n",
    "# P(positief) = 0,006 * 0,999 + 0,994 * 0,01 = 0,006 + 0,00994 = 0,01594\n",
    "\n",
    "\n",
    "\n",
    "# P(geïnfecteerd | positief) = ? (Wet van Bayes)\n",
    "\n",
    "# P(positief | geïnfecteerd) * P(geïnfecteerd)\n",
    "# -------------------------------------------\n",
    "# P(positief)\n",
    "\n",
    "# 0,999 * 0,006 / 0,01594 = 0,3741 = 37,41%"
   ],
   "metadata": {
    "collapsed": false,
    "ExecuteTime": {
     "end_time": "2024-02-07T14:53:57.063256900Z",
     "start_time": "2024-02-07T14:53:57.038168Z"
    }
   },
   "id": "a568b487cdf6735b",
   "execution_count": 4
  },
  {
   "cell_type": "markdown",
   "source": [
    "## Vraag 11:\n",
    "Een programma werd geschreven dat bepaalt wanneer een tekst interessant is voor een lezer. \n",
    "Het programma werd reeds getraind en volgende waarden werden genoteerd:\n",
    "Er zijn 1642 teksten met de hand geanalyseerd. 46 van de teksten werd als interessant aangeduid. Er werd een map gemaakt van woorden en het aantal keer dat ze voorkwamen alsook het aantal keer dat ze voorkwamen in een interessante teksten.\n",
    "We krijgen nu de volgende tekst:\n",
    "    \n",
    "\"Dit is een tekst om te kijken of deze als interessant zal worden beoordeeld.\"\n",
    "\n",
    "In de map zitten volgende waarden voor deze woorden:\n",
    "\n",
    "    | Woord       | Frequentie | Freq in interessante teksten |\n",
    "    |-------------|------------|------------------------------|\n",
    "    | dit         | 1368       | 40                           |\n",
    "    | is          | 1642       | 46                           |\n",
    "    | een         | 1642       | 46                           |\n",
    "    | tekst       | 159        | 1                            |\n",
    "    | om          | 1480       | 24                           |\n",
    "    | te          | 1574       | 38                           |\n",
    "    | kijken      | 947        | 11                           |\n",
    "    | of          | 1642       | 35                           |\n",
    "    | deze        | 1608       | 46                           |\n",
    "    | als         | 1576       | 39                           |\n",
    "    | interessant | 156        | 2                            |\n",
    "    | zal         | 1387       | 46                           |\n",
    "    | worden      | 1589       | 14                           |\n",
    "    | beoordeeld  | 176        | 1                            |\n",
    "Wat is de kans dat deze tekst een interessante tekst is, volgens het geziene algoritme? Is  deze kans groot of klein?"
   ],
   "metadata": {
    "collapsed": false
   },
   "id": "a4b3733834b225d3"
  },
  {
   "cell_type": "code",
   "outputs": [],
   "source": [
    "\n",
    "\n",
    "\n"
   ],
   "metadata": {
    "collapsed": false,
    "ExecuteTime": {
     "end_time": "2024-02-07T14:53:57.064285600Z",
     "start_time": "2024-02-07T14:53:57.050229200Z"
    }
   },
   "id": "ec12ec1e86bb56b3",
   "execution_count": 4
  }
 ],
 "metadata": {
  "kernelspec": {
   "display_name": "Python 3",
   "language": "python",
   "name": "python3"
  },
  "language_info": {
   "codemirror_mode": {
    "name": "ipython",
    "version": 2
   },
   "file_extension": ".py",
   "mimetype": "text/x-python",
   "name": "python",
   "nbconvert_exporter": "python",
   "pygments_lexer": "ipython2",
   "version": "2.7.6"
  }
 },
 "nbformat": 4,
 "nbformat_minor": 5
}
